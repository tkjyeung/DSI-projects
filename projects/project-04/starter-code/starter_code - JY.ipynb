{
 "cells": [
  {
   "cell_type": "markdown",
   "metadata": {
    "focus": false,
    "id": "69b9a648-bcc7-490d-9f9b-ea244d156bd6"
   },
   "source": [
    "# Web Scraping for Indeed.com & Predicting Salaries"
   ]
  },
  {
   "cell_type": "markdown",
   "metadata": {
    "focus": false,
    "id": "34681254-c802-462f-829d-8894d0772d08"
   },
   "source": [
    "In this project, we will practice two major skills: collecting data by scraping a website and then building a binary predictor with Logistic Regression.\n",
    "\n",
    "We are going to collect salary information on data science jobs in a variety of markets. Then using the location, title and summary of the job we will attempt to predict the salary of the job. For job posting sites, this would be extraordinarily useful. While most listings DO NOT come with salary information (as you will see in this exercise), being to able extrapolate or predict the expected salaries from other listings can help guide negotiations.\n",
    "\n",
    "Normally, we could use regression for this task; however, we will convert this problem into classification and use Logistic Regression.\n",
    "\n",
    "- Question: Why would we want this to be a classification problem?\n",
    "- Answer: While more precision may be better, there is a fair amount of natural variance in job salaries - predicting a range be may be useful.\n",
    "\n",
    "Therefore, the first part of the assignment will be focused on scraping Indeed.com. In the second, we'll focus on using listings with salary information to build a model and predict additional salaries."
   ]
  },
  {
   "cell_type": "markdown",
   "metadata": {
    "focus": false,
    "id": "a948d79c-5527-4c0d-ab23-f5d43ce72056"
   },
   "source": [
    "### Scraping job listings from Indeed.com"
   ]
  },
  {
   "cell_type": "markdown",
   "metadata": {
    "focus": true,
    "id": "7203e0c9-e437-4802-a6ad-7dc464f94436"
   },
   "source": [
    "We will be scraping job listings from Indeed.com using BeautifulSoup. Luckily, Indeed.com is a simple text page where we can easily find relevant entries.\n",
    "\n",
    "First, look at the source of an Indeed.com page: (http://www.indeed.com/jobs?q=data+scientist+%2420%2C000&l=New+York&start=10\")\n",
    "\n",
    "Notice, each job listing is underneath a `div` tag with a class name of `result`. We can use BeautifulSoup to extract those. "
   ]
  },
  {
   "cell_type": "markdown",
   "metadata": {
    "focus": false,
    "id": "9732c901-ae26-4160-8376-42e22dd327df"
   },
   "source": [
    "#### Setup a request (using `requests`) to the URL below. Use BeautifulSoup to parse the page and extract all results (HINT: Look for div tags with class name result)\n",
    "\n",
    "The URL here has many query parameters\n",
    "\n",
    "- `q` for the job search\n",
    "- This is followed by \"+20,000\" to return results with salaries (or expected salaries >$20,000)\n",
    "- `l` for a location \n",
    "- `start` for what result number to start on"
   ]
  },
  {
   "cell_type": "code",
   "execution_count": 79,
   "metadata": {
    "collapsed": true
   },
   "outputs": [],
   "source": []
  },
  {
   "cell_type": "code",
   "execution_count": 6,
   "metadata": {
    "collapsed": true,
    "focus": false,
    "id": "2efefc73-064a-482d-b3b5-ddf5508cb4ec"
   },
   "outputs": [],
   "source": [
    "% matplotlib inline\n",
    "import numpy as np\n",
    "import urllib2, requests\n",
    "import bs4\n",
    "from bs4 import BeautifulSoup\n",
    "import pandas as pd"
   ]
  },
  {
   "cell_type": "code",
   "execution_count": 7,
   "metadata": {
    "collapsed": true
   },
   "outputs": [],
   "source": [
    "   # create a new data frame\n",
    "pd.set_option('max_colwidth',500)    # to remove column limit (default is 50. Otherwise, we'll lose some info)"
   ]
  },
  {
   "cell_type": "code",
   "execution_count": 63,
   "metadata": {
    "collapsed": false
   },
   "outputs": [],
   "source": [
    "#YOUR_CITY = 'Hong+Kong'\n",
    "#url_template = \"http://www.indeed.com/jobs?q=data+scientist&l={}&start={}\"\n",
    "\n",
    "# Crawling more results, will also take much longer. First test your code on a small number of results and then expand.\n",
    "\n",
    "#results = []\n",
    "\n",
    "def job_info_df(url_input, city_list):\n",
    "    \n",
    "    df_temp = pd.DataFrame()\n",
    "    max_results_per_city = 5000 # Set this to a high-value (5000) to generate more results. \n",
    "\n",
    "    for city in city_list:\n",
    "        \n",
    "        for start in range(0, max_results_per_city, 10):\n",
    "            \n",
    "            url_work = url_input.format(city, start)\n",
    "     \n",
    "            contents = BeautifulSoup(urllib2.urlopen(url_work), \"lxml\") \n",
    "            contentsElements = contents.find_all('div', attrs={'class' : '  row  result'}) \n",
    "            contentsElements.extend(contents.find_all('div', attrs={'class' : 'lastRow  row  result'}))\n",
    "                 \n",
    "            for elem in contentsElements: \n",
    "                try:\n",
    "                    company = elem.find('span', attrs={'itemprop':'name'}).getText().strip() #strips off whitespace \n",
    "                except AttributeError:\n",
    "                    company = '-'\n",
    "\n",
    "                try:\n",
    "                    salary = elem.find('nobr').getText().strip()\n",
    "                except AttributeError:   \n",
    "                    salary = '-'\n",
    "\n",
    "                job_title = elem.find('a', attrs={'class':'turnstileLink'}).attrs['title']\n",
    "                home_url = \"http://www.indeed.com\"\n",
    "                job_link = \"%s%s\" % (home_url,elem.find('a').get('href'))\n",
    "\n",
    "                job_addr = elem.find('span', attrs={'itemprop':'addressLocality'}).getText()\n",
    "\n",
    "                job_posted = elem.find('span', attrs={'class': 'date'}).getText()\n",
    "\n",
    "                # add a record of job info to our data frame\n",
    "                df_temp = df_temp.append({'company': company, \n",
    "                                'salary': salary,\n",
    "                                'job_title': job_title, \n",
    "                                'job_link': job_link, \n",
    "                                'job_posted': job_posted,\n",
    "                                'job_location': job_addr,\n",
    "                                'job_city': city\n",
    "                               }, ignore_index=True)\n",
    "        \n",
    "    return df_temp\n",
    "\n"
   ]
  },
  {
   "cell_type": "code",
   "execution_count": 64,
   "metadata": {
    "collapsed": false
   },
   "outputs": [],
   "source": [
    "hk_city_list = ['Hong+Kong']\n",
    "df_hk = job_info_df(\"http://www.indeed.hk/jobs?q=data+scientist&l={}&start={}\", hk_city_list)"
   ]
  },
  {
   "cell_type": "code",
   "execution_count": 65,
   "metadata": {
    "collapsed": true
   },
   "outputs": [],
   "source": [
    "us_city_list = ['New+York', 'Chicago', 'San+Francisco', 'Austin', 'Seattle', \n",
    "    'Los+Angeles', 'Philadelphia', 'Atlanta', 'Dallas', 'Pittsburgh', \n",
    "    'Portland', 'Phoenix', 'Denver', 'Houston', 'Miami', 'Boston', 'Cambridge', 'San+Diego', 'Washington', \n",
    "                 'Palo+Alto','St.+Louis']\n",
    "\n",
    "df = job_info_df(\"http://www.indeed.com/jobs?q=data+scientist&l={}&start={}\", us_city_list)\n"
   ]
  },
  {
   "cell_type": "code",
   "execution_count": 70,
   "metadata": {
    "collapsed": true
   },
   "outputs": [],
   "source": [
    "df_us = df.copy()"
   ]
  },
  {
   "cell_type": "code",
   "execution_count": 71,
   "metadata": {
    "collapsed": true
   },
   "outputs": [],
   "source": [
    "df = pd.concat([df_us,df_hk],ignore_index=True)"
   ]
  },
  {
   "cell_type": "code",
   "execution_count": 72,
   "metadata": {
    "collapsed": true
   },
   "outputs": [],
   "source": [
    "df_original = df.copy()"
   ]
  },
  {
   "cell_type": "code",
   "execution_count": null,
   "metadata": {
    "collapsed": true
   },
   "outputs": [],
   "source": []
  },
  {
   "cell_type": "code",
   "execution_count": 75,
   "metadata": {
    "collapsed": false
   },
   "outputs": [
    {
     "name": "stdout",
     "output_type": "stream",
     "text": [
      "<class 'pandas.core.frame.DataFrame'>\n",
      "RangeIndex: 4008 entries, 0 to 4007\n",
      "Data columns (total 7 columns):\n",
      "company         4008 non-null object\n",
      "job_city        4008 non-null object\n",
      "job_link        4008 non-null object\n",
      "job_location    4008 non-null object\n",
      "job_posted      4008 non-null object\n",
      "job_title       4008 non-null object\n",
      "salary          4008 non-null object\n",
      "dtypes: object(7)\n",
      "memory usage: 219.3+ KB\n"
     ]
    }
   ],
   "source": [
    "df_hk.info()"
   ]
  },
  {
   "cell_type": "markdown",
   "metadata": {},
   "source": [
    "All HK jobs have no salary. "
   ]
  },
  {
   "cell_type": "code",
   "execution_count": 73,
   "metadata": {
    "collapsed": false
   },
   "outputs": [
    {
     "data": {
      "text/plain": [
       "8725"
      ]
     },
     "execution_count": 73,
     "metadata": {},
     "output_type": "execute_result"
    }
   ],
   "source": [
    "len(df['job_link'].unique())"
   ]
  },
  {
   "cell_type": "code",
   "execution_count": 67,
   "metadata": {
    "collapsed": false
   },
   "outputs": [
    {
     "name": "stdout",
     "output_type": "stream",
     "text": [
      "<class 'pandas.core.frame.DataFrame'>\n",
      "RangeIndex: 69715 entries, 0 to 69714\n",
      "Data columns (total 7 columns):\n",
      "company         69715 non-null object\n",
      "job_city        69715 non-null object\n",
      "job_link        69715 non-null object\n",
      "job_location    69715 non-null object\n",
      "job_posted      69715 non-null object\n",
      "job_title       69715 non-null object\n",
      "salary          69715 non-null object\n",
      "dtypes: object(7)\n",
      "memory usage: 3.7+ MB\n"
     ]
    }
   ],
   "source": [
    "df.info()"
   ]
  },
  {
   "cell_type": "code",
   "execution_count": null,
   "metadata": {
    "collapsed": true
   },
   "outputs": [],
   "source": []
  },
  {
   "cell_type": "code",
   "execution_count": 76,
   "metadata": {
    "collapsed": false
   },
   "outputs": [
    {
     "data": {
      "text/html": [
       "<div>\n",
       "<table border=\"1\" class=\"dataframe\">\n",
       "  <thead>\n",
       "    <tr style=\"text-align: right;\">\n",
       "      <th></th>\n",
       "      <th>company</th>\n",
       "      <th>job_city</th>\n",
       "      <th>job_link</th>\n",
       "      <th>job_location</th>\n",
       "      <th>job_posted</th>\n",
       "      <th>job_title</th>\n",
       "      <th>salary</th>\n",
       "    </tr>\n",
       "  </thead>\n",
       "  <tbody>\n",
       "    <tr>\n",
       "      <th>0</th>\n",
       "      <td>SoundCloud</td>\n",
       "      <td>New+York</td>\n",
       "      <td>http://www.indeed.com/rc/clk?jk=c1f44bb3c93cdb5d&amp;fccid=af61bf95b89c7cb2</td>\n",
       "      <td>New York, NY 10003 (Greenwich Village area)</td>\n",
       "      <td>1 day ago</td>\n",
       "      <td>Data Scientist, Analytics</td>\n",
       "      <td>-</td>\n",
       "    </tr>\n",
       "    <tr>\n",
       "      <th>1</th>\n",
       "      <td>SoundCloud</td>\n",
       "      <td>New+York</td>\n",
       "      <td>http://www.indeed.com/rc/clk?jk=313c390c5b077989&amp;fccid=af61bf95b89c7cb2</td>\n",
       "      <td>New York, NY 10003 (Greenwich Village area)</td>\n",
       "      <td>4 days ago</td>\n",
       "      <td>Data Engineer</td>\n",
       "      <td>-</td>\n",
       "    </tr>\n",
       "    <tr>\n",
       "      <th>2</th>\n",
       "      <td>Capital One</td>\n",
       "      <td>New+York</td>\n",
       "      <td>http://www.indeed.com/rc/clk?jk=d129f9bb04293359&amp;fccid=b85c5070c3d3d8c8</td>\n",
       "      <td>New York, NY</td>\n",
       "      <td>5 days ago</td>\n",
       "      <td>Data Scientist</td>\n",
       "      <td>-</td>\n",
       "    </tr>\n",
       "    <tr>\n",
       "      <th>3</th>\n",
       "      <td>Time Inc</td>\n",
       "      <td>New+York</td>\n",
       "      <td>http://www.indeed.com/rc/clk?jk=ff6d2e12514bb2fc&amp;fccid=05dd220636741a04</td>\n",
       "      <td>New York, NY 10020 (Midtown area)</td>\n",
       "      <td>4 days ago</td>\n",
       "      <td>Data Scientist</td>\n",
       "      <td>-</td>\n",
       "    </tr>\n",
       "    <tr>\n",
       "      <th>4</th>\n",
       "      <td>Cognical, Inc.</td>\n",
       "      <td>New+York</td>\n",
       "      <td>http://www.indeed.com/rc/clk?jk=2676697f29497db2&amp;fccid=309f5dd3a87072dc</td>\n",
       "      <td>New York, NY 10001 (Chelsea area)</td>\n",
       "      <td>5 days ago</td>\n",
       "      <td>Data Scientist</td>\n",
       "      <td>-</td>\n",
       "    </tr>\n",
       "  </tbody>\n",
       "</table>\n",
       "</div>"
      ],
      "text/plain": [
       "          company  job_city  \\\n",
       "0      SoundCloud  New+York   \n",
       "1      SoundCloud  New+York   \n",
       "2     Capital One  New+York   \n",
       "3        Time Inc  New+York   \n",
       "4  Cognical, Inc.  New+York   \n",
       "\n",
       "                                                                  job_link  \\\n",
       "0  http://www.indeed.com/rc/clk?jk=c1f44bb3c93cdb5d&fccid=af61bf95b89c7cb2   \n",
       "1  http://www.indeed.com/rc/clk?jk=313c390c5b077989&fccid=af61bf95b89c7cb2   \n",
       "2  http://www.indeed.com/rc/clk?jk=d129f9bb04293359&fccid=b85c5070c3d3d8c8   \n",
       "3  http://www.indeed.com/rc/clk?jk=ff6d2e12514bb2fc&fccid=05dd220636741a04   \n",
       "4  http://www.indeed.com/rc/clk?jk=2676697f29497db2&fccid=309f5dd3a87072dc   \n",
       "\n",
       "                                  job_location  job_posted  \\\n",
       "0  New York, NY 10003 (Greenwich Village area)   1 day ago   \n",
       "1  New York, NY 10003 (Greenwich Village area)  4 days ago   \n",
       "2                                 New York, NY  5 days ago   \n",
       "3            New York, NY 10020 (Midtown area)  4 days ago   \n",
       "4            New York, NY 10001 (Chelsea area)  5 days ago   \n",
       "\n",
       "                   job_title salary  \n",
       "0  Data Scientist, Analytics      -  \n",
       "1              Data Engineer      -  \n",
       "2             Data Scientist      -  \n",
       "3             Data Scientist      -  \n",
       "4             Data Scientist      -  "
      ]
     },
     "execution_count": 76,
     "metadata": {},
     "output_type": "execute_result"
    }
   ],
   "source": [
    "df.head()"
   ]
  },
  {
   "cell_type": "code",
   "execution_count": null,
   "metadata": {
    "collapsed": true
   },
   "outputs": [],
   "source": []
  },
  {
   "cell_type": "code",
   "execution_count": 77,
   "metadata": {
    "collapsed": true
   },
   "outputs": [],
   "source": [
    "df= df.drop_duplicates('job_link')"
   ]
  },
  {
   "cell_type": "code",
   "execution_count": 79,
   "metadata": {
    "collapsed": false
   },
   "outputs": [
    {
     "name": "stdout",
     "output_type": "stream",
     "text": [
      "<class 'pandas.core.frame.DataFrame'>\n",
      "Int64Index: 8725 entries, 0 to 70153\n",
      "Data columns (total 7 columns):\n",
      "company         8725 non-null object\n",
      "job_city        8725 non-null object\n",
      "job_link        8725 non-null object\n",
      "job_location    8725 non-null object\n",
      "job_posted      8725 non-null object\n",
      "job_title       8725 non-null object\n",
      "salary          8725 non-null object\n",
      "dtypes: object(7)\n",
      "memory usage: 545.3+ KB\n"
     ]
    }
   ],
   "source": [
    "df.info()"
   ]
  },
  {
   "cell_type": "code",
   "execution_count": 80,
   "metadata": {
    "collapsed": false
   },
   "outputs": [
    {
     "data": {
      "text/html": [
       "<div>\n",
       "<table border=\"1\" class=\"dataframe\">\n",
       "  <thead>\n",
       "    <tr style=\"text-align: right;\">\n",
       "      <th></th>\n",
       "      <th>company</th>\n",
       "      <th>job_city</th>\n",
       "      <th>job_link</th>\n",
       "      <th>job_location</th>\n",
       "      <th>job_posted</th>\n",
       "      <th>job_title</th>\n",
       "      <th>salary</th>\n",
       "    </tr>\n",
       "  </thead>\n",
       "  <tbody>\n",
       "    <tr>\n",
       "      <th>0</th>\n",
       "      <td>SoundCloud</td>\n",
       "      <td>New+York</td>\n",
       "      <td>http://www.indeed.com/rc/clk?jk=c1f44bb3c93cdb5d&amp;fccid=af61bf95b89c7cb2</td>\n",
       "      <td>New York, NY 10003 (Greenwich Village area)</td>\n",
       "      <td>1 day ago</td>\n",
       "      <td>Data Scientist, Analytics</td>\n",
       "      <td>-</td>\n",
       "    </tr>\n",
       "    <tr>\n",
       "      <th>1</th>\n",
       "      <td>SoundCloud</td>\n",
       "      <td>New+York</td>\n",
       "      <td>http://www.indeed.com/rc/clk?jk=313c390c5b077989&amp;fccid=af61bf95b89c7cb2</td>\n",
       "      <td>New York, NY 10003 (Greenwich Village area)</td>\n",
       "      <td>4 days ago</td>\n",
       "      <td>Data Engineer</td>\n",
       "      <td>-</td>\n",
       "    </tr>\n",
       "    <tr>\n",
       "      <th>2</th>\n",
       "      <td>Capital One</td>\n",
       "      <td>New+York</td>\n",
       "      <td>http://www.indeed.com/rc/clk?jk=d129f9bb04293359&amp;fccid=b85c5070c3d3d8c8</td>\n",
       "      <td>New York, NY</td>\n",
       "      <td>5 days ago</td>\n",
       "      <td>Data Scientist</td>\n",
       "      <td>-</td>\n",
       "    </tr>\n",
       "    <tr>\n",
       "      <th>3</th>\n",
       "      <td>Time Inc</td>\n",
       "      <td>New+York</td>\n",
       "      <td>http://www.indeed.com/rc/clk?jk=ff6d2e12514bb2fc&amp;fccid=05dd220636741a04</td>\n",
       "      <td>New York, NY 10020 (Midtown area)</td>\n",
       "      <td>4 days ago</td>\n",
       "      <td>Data Scientist</td>\n",
       "      <td>-</td>\n",
       "    </tr>\n",
       "    <tr>\n",
       "      <th>4</th>\n",
       "      <td>Cognical, Inc.</td>\n",
       "      <td>New+York</td>\n",
       "      <td>http://www.indeed.com/rc/clk?jk=2676697f29497db2&amp;fccid=309f5dd3a87072dc</td>\n",
       "      <td>New York, NY 10001 (Chelsea area)</td>\n",
       "      <td>5 days ago</td>\n",
       "      <td>Data Scientist</td>\n",
       "      <td>-</td>\n",
       "    </tr>\n",
       "  </tbody>\n",
       "</table>\n",
       "</div>"
      ],
      "text/plain": [
       "          company  job_city  \\\n",
       "0      SoundCloud  New+York   \n",
       "1      SoundCloud  New+York   \n",
       "2     Capital One  New+York   \n",
       "3        Time Inc  New+York   \n",
       "4  Cognical, Inc.  New+York   \n",
       "\n",
       "                                                                  job_link  \\\n",
       "0  http://www.indeed.com/rc/clk?jk=c1f44bb3c93cdb5d&fccid=af61bf95b89c7cb2   \n",
       "1  http://www.indeed.com/rc/clk?jk=313c390c5b077989&fccid=af61bf95b89c7cb2   \n",
       "2  http://www.indeed.com/rc/clk?jk=d129f9bb04293359&fccid=b85c5070c3d3d8c8   \n",
       "3  http://www.indeed.com/rc/clk?jk=ff6d2e12514bb2fc&fccid=05dd220636741a04   \n",
       "4  http://www.indeed.com/rc/clk?jk=2676697f29497db2&fccid=309f5dd3a87072dc   \n",
       "\n",
       "                                  job_location  job_posted  \\\n",
       "0  New York, NY 10003 (Greenwich Village area)   1 day ago   \n",
       "1  New York, NY 10003 (Greenwich Village area)  4 days ago   \n",
       "2                                 New York, NY  5 days ago   \n",
       "3            New York, NY 10020 (Midtown area)  4 days ago   \n",
       "4            New York, NY 10001 (Chelsea area)  5 days ago   \n",
       "\n",
       "                   job_title salary  \n",
       "0  Data Scientist, Analytics      -  \n",
       "1              Data Engineer      -  \n",
       "2             Data Scientist      -  \n",
       "3             Data Scientist      -  \n",
       "4             Data Scientist      -  "
      ]
     },
     "execution_count": 80,
     "metadata": {},
     "output_type": "execute_result"
    }
   ],
   "source": [
    "df.head()"
   ]
  },
  {
   "cell_type": "code",
   "execution_count": 172,
   "metadata": {
    "collapsed": false
   },
   "outputs": [
    {
     "data": {
      "text/html": [
       "<div>\n",
       "<table border=\"1\" class=\"dataframe\">\n",
       "  <thead>\n",
       "    <tr style=\"text-align: right;\">\n",
       "      <th></th>\n",
       "      <th>company</th>\n",
       "      <th>job_link</th>\n",
       "      <th>job_location</th>\n",
       "      <th>job_posted</th>\n",
       "      <th>job_title</th>\n",
       "      <th>salary</th>\n",
       "      <th>location</th>\n",
       "    </tr>\n",
       "  </thead>\n",
       "  <tbody>\n",
       "    <tr>\n",
       "      <th>22</th>\n",
       "      <td>PharMEDium Services, LLC</td>\n",
       "      <td>http://www.indeed.com/rc/clk?jk=064a3ba2c3f31d51&amp;fccid=8ff33eec5221ba6b</td>\n",
       "      <td>Sugar Land, TX 77478</td>\n",
       "      <td>25 days ago</td>\n",
       "      <td>EPA Scientist - 3rd</td>\n",
       "      <td>-</td>\n",
       "      <td>NaN</td>\n",
       "    </tr>\n",
       "    <tr>\n",
       "      <th>51</th>\n",
       "      <td>Lifetime Fitness</td>\n",
       "      <td>http://www.indeed.com/rc/clk?jk=405ebf896823c212&amp;fccid=8f04ebcdc1ee8430</td>\n",
       "      <td>Sugar Land, TX</td>\n",
       "      <td>30+ days ago</td>\n",
       "      <td>Ultimate Hoops Statistician</td>\n",
       "      <td>-</td>\n",
       "      <td>NaN</td>\n",
       "    </tr>\n",
       "    <tr>\n",
       "      <th>84</th>\n",
       "      <td>VWR International, LLC</td>\n",
       "      <td>http://www.indeed.com/rc/clk?jk=1871f1bf127a51ac&amp;fccid=d241f8ccb699cf4b</td>\n",
       "      <td>Sugar Land, TX 77478</td>\n",
       "      <td>16 days ago</td>\n",
       "      <td>Administrative Clerk</td>\n",
       "      <td>-</td>\n",
       "      <td>NaN</td>\n",
       "    </tr>\n",
       "    <tr>\n",
       "      <th>101</th>\n",
       "      <td>Exxon Mobil</td>\n",
       "      <td>http://www.indeed.com/rc/clk?jk=d5ed64a82c12b1b3&amp;fccid=1ddb91d85c72e885</td>\n",
       "      <td>Baytown, TX</td>\n",
       "      <td>3 days ago</td>\n",
       "      <td>Research Technician</td>\n",
       "      <td>-</td>\n",
       "      <td>NaN</td>\n",
       "    </tr>\n",
       "    <tr>\n",
       "      <th>137</th>\n",
       "      <td>McKinley Marketing Partners</td>\n",
       "      <td>http://www.indeed.com/rc/clk?jk=7de12bf536733f8e&amp;fccid=bdf11dbedf41f873</td>\n",
       "      <td>Spring, TX</td>\n",
       "      <td>30+ days ago</td>\n",
       "      <td>Data Scientist</td>\n",
       "      <td>-</td>\n",
       "      <td>NaN</td>\n",
       "    </tr>\n",
       "    <tr>\n",
       "      <th>145</th>\n",
       "      <td>Brookfield Global Relocation Services</td>\n",
       "      <td>http://www.indeed.com/rc/clk?jk=92ce4360dcda2d3f&amp;fccid=04eeecf12bb26593</td>\n",
       "      <td>Scottsdale, AZ 85254 (Paradise Valley area)</td>\n",
       "      <td>3 days ago</td>\n",
       "      <td>Predictive Labour Modeling &amp; Workforce Planning Analyst</td>\n",
       "      <td>-</td>\n",
       "      <td>NaN</td>\n",
       "    </tr>\n",
       "    <tr>\n",
       "      <th>147</th>\n",
       "      <td>Dysart USD 89</td>\n",
       "      <td>http://www.indeed.com/rc/clk?jk=a6850ac6dc9a1751&amp;fccid=9ceab8e449a47217</td>\n",
       "      <td>Surprise, AZ 85374</td>\n",
       "      <td>2 days ago</td>\n",
       "      <td>Research Data Analyst (Ed Svcs/Acam Suppt)</td>\n",
       "      <td>-</td>\n",
       "      <td>NaN</td>\n",
       "    </tr>\n",
       "    <tr>\n",
       "      <th>152</th>\n",
       "      <td>Limelight Networks</td>\n",
       "      <td>http://www.indeed.com/rc/clk?jk=631d497404e2c77f&amp;fccid=df0c1ddc972b801a</td>\n",
       "      <td>Tempe, AZ 85281</td>\n",
       "      <td>27 days ago</td>\n",
       "      <td>Data Analyst</td>\n",
       "      <td>-</td>\n",
       "      <td>NaN</td>\n",
       "    </tr>\n",
       "    <tr>\n",
       "      <th>157</th>\n",
       "      <td>Arizona State University</td>\n",
       "      <td>http://www.indeed.com/rc/clk?jk=c2b1875199f33829&amp;fccid=b97aa9a98af93bad</td>\n",
       "      <td>Tempe, AZ</td>\n",
       "      <td>3 days ago</td>\n",
       "      <td>Data Analysis Specialist</td>\n",
       "      <td>$40,300 a year</td>\n",
       "      <td>NaN</td>\n",
       "    </tr>\n",
       "    <tr>\n",
       "      <th>160</th>\n",
       "      <td>ABI Research</td>\n",
       "      <td>http://www.indeed.com/rc/clk?jk=8a53f58a3a2fe5d7&amp;fccid=5c22d005a16fae8d</td>\n",
       "      <td>Scottsdale, AZ</td>\n",
       "      <td>13 days ago</td>\n",
       "      <td>Research Analyst</td>\n",
       "      <td>-</td>\n",
       "      <td>NaN</td>\n",
       "    </tr>\n",
       "    <tr>\n",
       "      <th>163</th>\n",
       "      <td>Air Products</td>\n",
       "      <td>http://www.indeed.com/rc/clk?jk=76f23beac4ac4f3a&amp;fccid=e30562474c83900b</td>\n",
       "      <td>Tempe, AZ</td>\n",
       "      <td>30+ days ago</td>\n",
       "      <td>SENIOR PRINCIPAL RESEARCH ENGINEER / SCIENTIST</td>\n",
       "      <td>-</td>\n",
       "      <td>NaN</td>\n",
       "    </tr>\n",
       "    <tr>\n",
       "      <th>167</th>\n",
       "      <td>Fujifilm Electronic Materials</td>\n",
       "      <td>http://www.indeed.com/rc/clk?jk=30a53790e07eb80e&amp;fccid=57d632d063c6eaaf</td>\n",
       "      <td>Mesa, AZ</td>\n",
       "      <td>13 days ago</td>\n",
       "      <td>Senior Research Scientist</td>\n",
       "      <td>-</td>\n",
       "      <td>NaN</td>\n",
       "    </tr>\n",
       "    <tr>\n",
       "      <th>172</th>\n",
       "      <td>PracticeMax</td>\n",
       "      <td>http://www.indeed.com/rc/clk?jk=96970437838ac4dd&amp;fccid=65ba833030c39771</td>\n",
       "      <td>Scottsdale, AZ</td>\n",
       "      <td>30+ days ago</td>\n",
       "      <td>Satisfaction Research Analyst</td>\n",
       "      <td>-</td>\n",
       "      <td>NaN</td>\n",
       "    </tr>\n",
       "    <tr>\n",
       "      <th>173</th>\n",
       "      <td>EndoVantage</td>\n",
       "      <td>http://www.indeed.com/cmp/EndoVantage/jobs/C++-Programmer-e05598272bd2f813?r=1&amp;fccid=eef7c624153b930a</td>\n",
       "      <td>Scottsdale, AZ</td>\n",
       "      <td>30+ days ago</td>\n",
       "      <td>C++ Programmer</td>\n",
       "      <td>-</td>\n",
       "      <td>NaN</td>\n",
       "    </tr>\n",
       "    <tr>\n",
       "      <th>175</th>\n",
       "      <td>Terracon</td>\n",
       "      <td>http://www.indeed.com/rc/clk?jk=aa672e1507c1edfb&amp;fccid=69fdacd02aead24d</td>\n",
       "      <td>Tempe, AZ</td>\n",
       "      <td>25 days ago</td>\n",
       "      <td>Staff Scientist</td>\n",
       "      <td>-</td>\n",
       "      <td>NaN</td>\n",
       "    </tr>\n",
       "    <tr>\n",
       "      <th>176</th>\n",
       "      <td>BOEING</td>\n",
       "      <td>http://www.indeed.com/rc/clk?jk=9e48452901a80eb2&amp;fccid=edae4285faf6c2f0</td>\n",
       "      <td>Mesa, AZ 85215 (Northeast area)</td>\n",
       "      <td>9 days ago</td>\n",
       "      <td>Procurement Analyst</td>\n",
       "      <td>-</td>\n",
       "      <td>NaN</td>\n",
       "    </tr>\n",
       "    <tr>\n",
       "      <th>177</th>\n",
       "      <td>BOEING</td>\n",
       "      <td>http://www.indeed.com/rc/clk?jk=a606031a68669f51&amp;fccid=edae4285faf6c2f0</td>\n",
       "      <td>Mesa, AZ 85215 (Northeast area)</td>\n",
       "      <td>2 days ago</td>\n",
       "      <td>Procurement Agent</td>\n",
       "      <td>-</td>\n",
       "      <td>NaN</td>\n",
       "    </tr>\n",
       "    <tr>\n",
       "      <th>178</th>\n",
       "      <td>Air Products</td>\n",
       "      <td>http://www.indeed.com/rc/clk?jk=4608edb80f3db368&amp;fccid=e30562474c83900b</td>\n",
       "      <td>Tempe, AZ</td>\n",
       "      <td>27 days ago</td>\n",
       "      <td>RESEARCH CHEMIST</td>\n",
       "      <td>-</td>\n",
       "      <td>NaN</td>\n",
       "    </tr>\n",
       "    <tr>\n",
       "      <th>180</th>\n",
       "      <td>BOEING</td>\n",
       "      <td>http://www.indeed.com/rc/clk?jk=213c4da699f893fc&amp;fccid=edae4285faf6c2f0</td>\n",
       "      <td>Mesa, AZ 85215 (Northeast area)</td>\n",
       "      <td>3 days ago</td>\n",
       "      <td>Industrial Security Spec</td>\n",
       "      <td>-</td>\n",
       "      <td>NaN</td>\n",
       "    </tr>\n",
       "    <tr>\n",
       "      <th>184</th>\n",
       "      <td>Northern Trust Corp.</td>\n",
       "      <td>http://www.indeed.com/rc/clk?jk=9b3b83757e214811&amp;fccid=659d7ed1b53f4cd4</td>\n",
       "      <td>Tempe, AZ</td>\n",
       "      <td>30+ days ago</td>\n",
       "      <td>Economic Research Analyst</td>\n",
       "      <td>-</td>\n",
       "      <td>NaN</td>\n",
       "    </tr>\n",
       "    <tr>\n",
       "      <th>185</th>\n",
       "      <td>Koch Industries, Inc.</td>\n",
       "      <td>http://www.indeed.com/rc/clk?jk=da32a1396e99bb06&amp;fccid=735667c8ff2f1a48</td>\n",
       "      <td>Scottsdale, AZ 85255 (North Scottsdale area)</td>\n",
       "      <td>30+ days ago</td>\n",
       "      <td>Research Analyst</td>\n",
       "      <td>-</td>\n",
       "      <td>NaN</td>\n",
       "    </tr>\n",
       "    <tr>\n",
       "      <th>187</th>\n",
       "      <td>L-3 Communications</td>\n",
       "      <td>http://www.indeed.com/rc/clk?jk=6266444b41dec661&amp;fccid=d0b3f9cc8e1c8e97</td>\n",
       "      <td>Tempe, AZ</td>\n",
       "      <td>30+ days ago</td>\n",
       "      <td>Senior Data Scientist</td>\n",
       "      <td>-</td>\n",
       "      <td>NaN</td>\n",
       "    </tr>\n",
       "    <tr>\n",
       "      <th>188</th>\n",
       "      <td>SiteLock</td>\n",
       "      <td>http://www.indeed.com/rc/clk?jk=98dff1a03014ec6c&amp;fccid=338fc3b9d2312cfd</td>\n",
       "      <td>Scottsdale, AZ</td>\n",
       "      <td>30+ days ago</td>\n",
       "      <td>Web Security Research Analyst</td>\n",
       "      <td>$50,000 - $55,000 a year</td>\n",
       "      <td>NaN</td>\n",
       "    </tr>\n",
       "    <tr>\n",
       "      <th>189</th>\n",
       "      <td>Weston Solutions</td>\n",
       "      <td>http://www.indeed.com/rc/clk?jk=efee2f73c046747f&amp;fccid=263f498218aeb553</td>\n",
       "      <td>Tempe, AZ 85284</td>\n",
       "      <td>30+ days ago</td>\n",
       "      <td>Munitions Response Project Engineer or Scientist</td>\n",
       "      <td>-</td>\n",
       "      <td>NaN</td>\n",
       "    </tr>\n",
       "    <tr>\n",
       "      <th>190</th>\n",
       "      <td>ADP</td>\n",
       "      <td>http://www.indeed.com/rc/clk?jk=70ae76f53aae8699&amp;fccid=e996c2d6855fe778</td>\n",
       "      <td>Chandler, AZ 85226</td>\n",
       "      <td>3 days ago</td>\n",
       "      <td>Senior Product Manager - AVS Master Tax</td>\n",
       "      <td>-</td>\n",
       "      <td>NaN</td>\n",
       "    </tr>\n",
       "    <tr>\n",
       "      <th>192</th>\n",
       "      <td>Objectwin Technology Inc</td>\n",
       "      <td>http://www.indeed.com/cmp/Objectwin-Technology-Inc/jobs/Clinical-Research-Analyst-dea8ad46d7ad678d?r=1&amp;fccid=2374e3d407d8f677</td>\n",
       "      <td>Chandler, AZ 85226</td>\n",
       "      <td>5 days ago</td>\n",
       "      <td>Clinical Research Analyst</td>\n",
       "      <td>-</td>\n",
       "      <td>NaN</td>\n",
       "    </tr>\n",
       "    <tr>\n",
       "      <th>193</th>\n",
       "      <td>CVS Health</td>\n",
       "      <td>http://www.indeed.com/rc/clk?jk=c3ee804567d5a7db&amp;fccid=be3b11aa573faee7</td>\n",
       "      <td>Scottsdale, AZ</td>\n",
       "      <td>11 days ago</td>\n",
       "      <td>Data Scientist Government Services Analytics Advisor</td>\n",
       "      <td>-</td>\n",
       "      <td>NaN</td>\n",
       "    </tr>\n",
       "    <tr>\n",
       "      <th>195</th>\n",
       "      <td>BOEING</td>\n",
       "      <td>http://www.indeed.com/rc/clk?jk=7f4065ec7d7c5299&amp;fccid=edae4285faf6c2f0</td>\n",
       "      <td>Mesa, AZ 85215 (Northeast area)</td>\n",
       "      <td>9 days ago</td>\n",
       "      <td>Supplier Program Management Specialist</td>\n",
       "      <td>-</td>\n",
       "      <td>NaN</td>\n",
       "    </tr>\n",
       "    <tr>\n",
       "      <th>197</th>\n",
       "      <td>Isagenix</td>\n",
       "      <td>http://www.indeed.com/rc/clk?jk=6676fe7287483879&amp;fccid=b97b5fbf41e6bb2b</td>\n",
       "      <td>Gilbert, AZ</td>\n",
       "      <td>30+ days ago</td>\n",
       "      <td>QA Technician - Data Analysis &amp; Trending</td>\n",
       "      <td>-</td>\n",
       "      <td>NaN</td>\n",
       "    </tr>\n",
       "    <tr>\n",
       "      <th>198</th>\n",
       "      <td>Midwestern University</td>\n",
       "      <td>http://www.indeed.com/rc/clk?jk=356215c1c517bf27&amp;fccid=5b6f5867208f8a2e</td>\n",
       "      <td>Glendale, AZ 85308 (Deer Valley area)</td>\n",
       "      <td>30+ days ago</td>\n",
       "      <td>Research Assistant - College of Veterinary Medicine</td>\n",
       "      <td>-</td>\n",
       "      <td>NaN</td>\n",
       "    </tr>\n",
       "    <tr>\n",
       "      <th>...</th>\n",
       "      <td>...</td>\n",
       "      <td>...</td>\n",
       "      <td>...</td>\n",
       "      <td>...</td>\n",
       "      <td>...</td>\n",
       "      <td>...</td>\n",
       "      <td>...</td>\n",
       "    </tr>\n",
       "    <tr>\n",
       "      <th>41569</th>\n",
       "      <td>Seattle Genetics, Inc.</td>\n",
       "      <td>http://www.indeed.com/rc/clk?jk=4101fc03d43c3e91&amp;fccid=7e88ae3a86d0dbbd</td>\n",
       "      <td>Bothell, WA 98021</td>\n",
       "      <td>30 days ago</td>\n",
       "      <td>Scientist/ Sr. Scientist, Immunology/ Immuno-Oncology Biomarkers</td>\n",
       "      <td>-</td>\n",
       "      <td>NaN</td>\n",
       "    </tr>\n",
       "    <tr>\n",
       "      <th>41573</th>\n",
       "      <td>Physio-Control, Inc.</td>\n",
       "      <td>http://www.indeed.com/rc/clk?jk=8299f3b857056081&amp;fccid=239d7a6be000925c</td>\n",
       "      <td>Redmond, WA</td>\n",
       "      <td>30+ days ago</td>\n",
       "      <td>Sr. Embedded Software Engineer - 1 year Contract to Physio-Control (not 1099)</td>\n",
       "      <td>-</td>\n",
       "      <td>NaN</td>\n",
       "    </tr>\n",
       "    <tr>\n",
       "      <th>41574</th>\n",
       "      <td>Triad Group</td>\n",
       "      <td>http://www.indeed.com/rc/clk?jk=522d6264022a35b4&amp;fccid=2c2b0a062d1449f0</td>\n",
       "      <td>Bellevue, WA 98004 (Downtown area)</td>\n",
       "      <td>30+ days ago</td>\n",
       "      <td>Senior Level Engineers (Functional Programming + Semantic Graph + Machine Learning)</td>\n",
       "      <td>-</td>\n",
       "      <td>NaN</td>\n",
       "    </tr>\n",
       "    <tr>\n",
       "      <th>42850</th>\n",
       "      <td>Merck KGaA</td>\n",
       "      <td>http://www.indeed.com/rc/clk?jk=5570caa8e1e438cf&amp;fccid=68d0e0954a811351</td>\n",
       "      <td>Round Rock, TX</td>\n",
       "      <td>25 days ago</td>\n",
       "      <td>Senior Scientist</td>\n",
       "      <td>-</td>\n",
       "      <td>NaN</td>\n",
       "    </tr>\n",
       "    <tr>\n",
       "      <th>42965</th>\n",
       "      <td>Texas Guaranteed Student Loan Corporation</td>\n",
       "      <td>http://www.indeed.com/rc/clk?jk=6a2de63c37e79c67&amp;fccid=e28ed8e6a257b13d</td>\n",
       "      <td>Round Rock, TX 78681</td>\n",
       "      <td>30+ days ago</td>\n",
       "      <td>Waypoint - Operations Research Analyst</td>\n",
       "      <td>-</td>\n",
       "      <td>NaN</td>\n",
       "    </tr>\n",
       "    <tr>\n",
       "      <th>44419</th>\n",
       "      <td>Intel</td>\n",
       "      <td>http://www.indeed.com/rc/clk?jk=41addf3a1b2ab6ba&amp;fccid=f1374be6a45f4b8a</td>\n",
       "      <td>Hillsboro, OR 97124</td>\n",
       "      <td>6 days ago</td>\n",
       "      <td>Machine Learning System Engineer</td>\n",
       "      <td>-</td>\n",
       "      <td>NaN</td>\n",
       "    </tr>\n",
       "    <tr>\n",
       "      <th>44423</th>\n",
       "      <td>Nityo Infotech Corp.</td>\n",
       "      <td>http://www.indeed.com/cmp/Nityo-Infotech-Corp./jobs/Data-Scientist-0296cb9f88c77950?r=1&amp;fccid=3f49bba650037c6b</td>\n",
       "      <td>Hillsboro, OR</td>\n",
       "      <td>30+ days ago</td>\n",
       "      <td>Data Scientist..in Hillsboro (OR)</td>\n",
       "      <td>-</td>\n",
       "      <td>NaN</td>\n",
       "    </tr>\n",
       "    <tr>\n",
       "      <th>44430</th>\n",
       "      <td>Nike</td>\n",
       "      <td>http://www.indeed.com/rc/clk?jk=4f5ecd017668359c&amp;fccid=2c62e4de04b8f952</td>\n",
       "      <td>Beaverton, OR</td>\n",
       "      <td>24 days ago</td>\n",
       "      <td>Product Manager Finance Data &amp; Analytics Consumer Digital Technogy Nike</td>\n",
       "      <td>-</td>\n",
       "      <td>NaN</td>\n",
       "    </tr>\n",
       "    <tr>\n",
       "      <th>44431</th>\n",
       "      <td>Intel</td>\n",
       "      <td>http://www.indeed.com/rc/clk?jk=ad95ad47ccad708f&amp;fccid=f1374be6a45f4b8a</td>\n",
       "      <td>Hillsboro, OR 97124</td>\n",
       "      <td>30+ days ago</td>\n",
       "      <td>Intel @ PyCon Conference in Oregon</td>\n",
       "      <td>-</td>\n",
       "      <td>NaN</td>\n",
       "    </tr>\n",
       "    <tr>\n",
       "      <th>44432</th>\n",
       "      <td>nLIGHT</td>\n",
       "      <td>http://www.indeed.com/rc/clk?jk=e045c199bb7c9e5a&amp;fccid=ed3353521a2ce729</td>\n",
       "      <td>Vancouver, WA</td>\n",
       "      <td>6 hours ago</td>\n",
       "      <td>Principal Investigator Advanced Technology Semiconductor Lasers</td>\n",
       "      <td>-</td>\n",
       "      <td>NaN</td>\n",
       "    </tr>\n",
       "    <tr>\n",
       "      <th>44434</th>\n",
       "      <td>Intel</td>\n",
       "      <td>http://www.indeed.com/rc/clk?jk=ea82b1f437dbaaf2&amp;fccid=f1374be6a45f4b8a</td>\n",
       "      <td>Hillsboro, OR 97124</td>\n",
       "      <td>30+ days ago</td>\n",
       "      <td>Senior Applied Data Scientist</td>\n",
       "      <td>-</td>\n",
       "      <td>NaN</td>\n",
       "    </tr>\n",
       "    <tr>\n",
       "      <th>44435</th>\n",
       "      <td>Cabot Microelectronics</td>\n",
       "      <td>http://www.indeed.com/rc/clk?jk=51025938c857bec6&amp;fccid=f08e44df13996bc1</td>\n",
       "      <td>Hillsboro, OR 97124</td>\n",
       "      <td>5 days ago</td>\n",
       "      <td>Senior Material Scientist</td>\n",
       "      <td>-</td>\n",
       "      <td>NaN</td>\n",
       "    </tr>\n",
       "    <tr>\n",
       "      <th>44436</th>\n",
       "      <td>Graphic Products</td>\n",
       "      <td>http://www.indeed.com/cmp/Graphic-Products/jobs/SEO-Analytic-Specialist-9c2fc39208afdba0?r=1&amp;fccid=ecaf9e7c7d8aefbf</td>\n",
       "      <td>Beaverton, OR 97005 (Central Beaverton area)</td>\n",
       "      <td>30+ days ago</td>\n",
       "      <td>SEO/Analytics Specialist</td>\n",
       "      <td>$60,000 - $80,000 a year</td>\n",
       "      <td>NaN</td>\n",
       "    </tr>\n",
       "    <tr>\n",
       "      <th>44439</th>\n",
       "      <td>Nike</td>\n",
       "      <td>http://www.indeed.com/rc/clk?jk=6dd898b6c58fdb02&amp;fccid=2c62e4de04b8f952</td>\n",
       "      <td>Beaverton, OR</td>\n",
       "      <td>18 days ago</td>\n",
       "      <td>Lead Hadoop Engineer Consumer Digital Technology Nike</td>\n",
       "      <td>-</td>\n",
       "      <td>NaN</td>\n",
       "    </tr>\n",
       "    <tr>\n",
       "      <th>44440</th>\n",
       "      <td>Intel</td>\n",
       "      <td>http://www.indeed.com/rc/clk?jk=b4ebcf33e0a98e3d&amp;fccid=f1374be6a45f4b8a</td>\n",
       "      <td>Hillsboro, OR 97124</td>\n",
       "      <td>11 days ago</td>\n",
       "      <td>Applied Data Scientist</td>\n",
       "      <td>-</td>\n",
       "      <td>NaN</td>\n",
       "    </tr>\n",
       "    <tr>\n",
       "      <th>44442</th>\n",
       "      <td>The Vancouver Clinic</td>\n",
       "      <td>http://www.indeed.com/rc/clk?jk=c96bfd7b0697cd25&amp;fccid=b7aa20bac5246af4</td>\n",
       "      <td>Vancouver, WA</td>\n",
       "      <td>13 hours ago</td>\n",
       "      <td>Medical Lab Scientist</td>\n",
       "      <td>$25.24 an hour</td>\n",
       "      <td>NaN</td>\n",
       "    </tr>\n",
       "    <tr>\n",
       "      <th>44446</th>\n",
       "      <td>Intel</td>\n",
       "      <td>http://www.indeed.com/rc/clk?jk=b4a8bd099436f339&amp;fccid=f1374be6a45f4b8a</td>\n",
       "      <td>Hillsboro, OR 97124</td>\n",
       "      <td>17 days ago</td>\n",
       "      <td>Devops and Automation System Engineer</td>\n",
       "      <td>-</td>\n",
       "      <td>NaN</td>\n",
       "    </tr>\n",
       "    <tr>\n",
       "      <th>44448</th>\n",
       "      <td>Renaissance Learning, Inc.</td>\n",
       "      <td>http://www.indeed.com/rc/clk?jk=a444bdb79a55f6d4&amp;fccid=10a6caa919d4cfca</td>\n",
       "      <td>Vancouver, WA 98662</td>\n",
       "      <td>8 days ago</td>\n",
       "      <td>Research Scientist, Learning Science</td>\n",
       "      <td>-</td>\n",
       "      <td>NaN</td>\n",
       "    </tr>\n",
       "    <tr>\n",
       "      <th>44450</th>\n",
       "      <td>Tektronix</td>\n",
       "      <td>http://www.indeed.com/rc/clk?jk=9f36cbaa801c91ec&amp;fccid=ad883512067417ad</td>\n",
       "      <td>Beaverton, OR</td>\n",
       "      <td>17 days ago</td>\n",
       "      <td>Software Engineer III</td>\n",
       "      <td>-</td>\n",
       "      <td>NaN</td>\n",
       "    </tr>\n",
       "    <tr>\n",
       "      <th>44461</th>\n",
       "      <td>Nike</td>\n",
       "      <td>http://www.indeed.com/rc/clk?jk=955aa8b6bfd580c3&amp;fccid=2c62e4de04b8f952</td>\n",
       "      <td>Beaverton, OR</td>\n",
       "      <td>30+ days ago</td>\n",
       "      <td>Consumer Data Scientist Nike</td>\n",
       "      <td>-</td>\n",
       "      <td>NaN</td>\n",
       "    </tr>\n",
       "    <tr>\n",
       "      <th>44463</th>\n",
       "      <td>David Evans &amp; Associates</td>\n",
       "      <td>http://www.indeed.com/rc/clk?jk=dd2ee35f1236c969&amp;fccid=0292ac807dd2aefc</td>\n",
       "      <td>Vancouver, WA</td>\n",
       "      <td>1 hour ago</td>\n",
       "      <td>Electronics Technician</td>\n",
       "      <td>-</td>\n",
       "      <td>NaN</td>\n",
       "    </tr>\n",
       "    <tr>\n",
       "      <th>44464</th>\n",
       "      <td>Pacific University</td>\n",
       "      <td>http://www.indeed.com/rc/clk?jk=26b245adebb0edf7&amp;fccid=57a89148a4dd6e18</td>\n",
       "      <td>Forest Grove, OR</td>\n",
       "      <td>30+ days ago</td>\n",
       "      <td>Institutional Research and Assessment Analyst</td>\n",
       "      <td>-</td>\n",
       "      <td>NaN</td>\n",
       "    </tr>\n",
       "    <tr>\n",
       "      <th>44466</th>\n",
       "      <td>Nanometrics Incorporated</td>\n",
       "      <td>http://www.indeed.com/rc/clk?jk=b41ed30e62289be2&amp;fccid=6eed1f5f8db5b4d1</td>\n",
       "      <td>Hillsboro, OR 97124</td>\n",
       "      <td>11 days ago</td>\n",
       "      <td>Research Scientist (Hillboro, Oregon)</td>\n",
       "      <td>-</td>\n",
       "      <td>NaN</td>\n",
       "    </tr>\n",
       "    <tr>\n",
       "      <th>44470</th>\n",
       "      <td>Cabot Microelectronics</td>\n",
       "      <td>http://www.indeed.com/rc/clk?jk=6e86b608adae770c&amp;fccid=f08e44df13996bc1</td>\n",
       "      <td>Hillsboro, OR 97124</td>\n",
       "      <td>30+ days ago</td>\n",
       "      <td>Engineering Technician</td>\n",
       "      <td>-</td>\n",
       "      <td>NaN</td>\n",
       "    </tr>\n",
       "    <tr>\n",
       "      <th>44484</th>\n",
       "      <td>DiscoverOrg</td>\n",
       "      <td>http://www.indeed.com/rc/clk?jk=72c018a2a4a5758c&amp;fccid=8483bd2082e877c0</td>\n",
       "      <td>Vancouver, WA</td>\n",
       "      <td>26 days ago</td>\n",
       "      <td>Corporate Research Analyst</td>\n",
       "      <td>-</td>\n",
       "      <td>NaN</td>\n",
       "    </tr>\n",
       "    <tr>\n",
       "      <th>44487</th>\n",
       "      <td>FEI Company</td>\n",
       "      <td>http://www.indeed.com/rc/clk?jk=5cadf4e94dd98591&amp;fccid=006e90dcec93ceda</td>\n",
       "      <td>Hillsboro, OR 97124</td>\n",
       "      <td>30+ days ago</td>\n",
       "      <td>Applications Engineer Sr.</td>\n",
       "      <td>-</td>\n",
       "      <td>NaN</td>\n",
       "    </tr>\n",
       "    <tr>\n",
       "      <th>44488</th>\n",
       "      <td>DiscoverOrg</td>\n",
       "      <td>http://www.indeed.com/rc/clk?jk=d5a5a1b140728b7a&amp;fccid=8483bd2082e877c0</td>\n",
       "      <td>Vancouver, WA</td>\n",
       "      <td>26 days ago</td>\n",
       "      <td>Research Analyst - Quality Assurance</td>\n",
       "      <td>-</td>\n",
       "      <td>NaN</td>\n",
       "    </tr>\n",
       "    <tr>\n",
       "      <th>44489</th>\n",
       "      <td>ZOOM+</td>\n",
       "      <td>http://www.indeed.com/rc/clk?jk=111fd3118386085c&amp;fccid=fb6cee4986250511</td>\n",
       "      <td>Orenco, OR</td>\n",
       "      <td>4 days ago</td>\n",
       "      <td>Talent Scout (Recruiter)</td>\n",
       "      <td>-</td>\n",
       "      <td>NaN</td>\n",
       "    </tr>\n",
       "    <tr>\n",
       "      <th>44490</th>\n",
       "      <td>Providence Health &amp; Services</td>\n",
       "      <td>http://www.indeed.com/rc/clk?jk=573f944891c8d732&amp;fccid=b983e0b562a36362</td>\n",
       "      <td>Milwaukie, OR 97222 (Milwaukie Business-Industry area)</td>\n",
       "      <td>30+ days ago</td>\n",
       "      <td>Senior Medical Technologist</td>\n",
       "      <td>-</td>\n",
       "      <td>NaN</td>\n",
       "    </tr>\n",
       "    <tr>\n",
       "      <th>44502</th>\n",
       "      <td>3D Systems</td>\n",
       "      <td>http://www.indeed.com/rc/clk?jk=ebd09be4bdbdb6f7&amp;fccid=a169ca96640cc40c</td>\n",
       "      <td>Wilsonville, OR</td>\n",
       "      <td>16 days ago</td>\n",
       "      <td>Materials Testing Scientist - Wilsonville, OR</td>\n",
       "      <td>-</td>\n",
       "      <td>NaN</td>\n",
       "    </tr>\n",
       "  </tbody>\n",
       "</table>\n",
       "<p>2076 rows × 7 columns</p>\n",
       "</div>"
      ],
      "text/plain": [
       "                                         company  \\\n",
       "22                      PharMEDium Services, LLC   \n",
       "51                              Lifetime Fitness   \n",
       "84                        VWR International, LLC   \n",
       "101                                  Exxon Mobil   \n",
       "137                  McKinley Marketing Partners   \n",
       "145        Brookfield Global Relocation Services   \n",
       "147                                Dysart USD 89   \n",
       "152                           Limelight Networks   \n",
       "157                     Arizona State University   \n",
       "160                                 ABI Research   \n",
       "163                                 Air Products   \n",
       "167                Fujifilm Electronic Materials   \n",
       "172                                  PracticeMax   \n",
       "173                                  EndoVantage   \n",
       "175                                     Terracon   \n",
       "176                                       BOEING   \n",
       "177                                       BOEING   \n",
       "178                                 Air Products   \n",
       "180                                       BOEING   \n",
       "184                         Northern Trust Corp.   \n",
       "185                        Koch Industries, Inc.   \n",
       "187                           L-3 Communications   \n",
       "188                                     SiteLock   \n",
       "189                             Weston Solutions   \n",
       "190                                          ADP   \n",
       "192                     Objectwin Technology Inc   \n",
       "193                                   CVS Health   \n",
       "195                                       BOEING   \n",
       "197                                     Isagenix   \n",
       "198                        Midwestern University   \n",
       "...                                          ...   \n",
       "41569                     Seattle Genetics, Inc.   \n",
       "41573                       Physio-Control, Inc.   \n",
       "41574                                Triad Group   \n",
       "42850                                 Merck KGaA   \n",
       "42965  Texas Guaranteed Student Loan Corporation   \n",
       "44419                                      Intel   \n",
       "44423                       Nityo Infotech Corp.   \n",
       "44430                                       Nike   \n",
       "44431                                      Intel   \n",
       "44432                                     nLIGHT   \n",
       "44434                                      Intel   \n",
       "44435                     Cabot Microelectronics   \n",
       "44436                           Graphic Products   \n",
       "44439                                       Nike   \n",
       "44440                                      Intel   \n",
       "44442                       The Vancouver Clinic   \n",
       "44446                                      Intel   \n",
       "44448                 Renaissance Learning, Inc.   \n",
       "44450                                  Tektronix   \n",
       "44461                                       Nike   \n",
       "44463                   David Evans & Associates   \n",
       "44464                         Pacific University   \n",
       "44466                   Nanometrics Incorporated   \n",
       "44470                     Cabot Microelectronics   \n",
       "44484                                DiscoverOrg   \n",
       "44487                                FEI Company   \n",
       "44488                                DiscoverOrg   \n",
       "44489                                      ZOOM+   \n",
       "44490               Providence Health & Services   \n",
       "44502                                 3D Systems   \n",
       "\n",
       "                                                                                                                            job_link  \\\n",
       "22                                                           http://www.indeed.com/rc/clk?jk=064a3ba2c3f31d51&fccid=8ff33eec5221ba6b   \n",
       "51                                                           http://www.indeed.com/rc/clk?jk=405ebf896823c212&fccid=8f04ebcdc1ee8430   \n",
       "84                                                           http://www.indeed.com/rc/clk?jk=1871f1bf127a51ac&fccid=d241f8ccb699cf4b   \n",
       "101                                                          http://www.indeed.com/rc/clk?jk=d5ed64a82c12b1b3&fccid=1ddb91d85c72e885   \n",
       "137                                                          http://www.indeed.com/rc/clk?jk=7de12bf536733f8e&fccid=bdf11dbedf41f873   \n",
       "145                                                          http://www.indeed.com/rc/clk?jk=92ce4360dcda2d3f&fccid=04eeecf12bb26593   \n",
       "147                                                          http://www.indeed.com/rc/clk?jk=a6850ac6dc9a1751&fccid=9ceab8e449a47217   \n",
       "152                                                          http://www.indeed.com/rc/clk?jk=631d497404e2c77f&fccid=df0c1ddc972b801a   \n",
       "157                                                          http://www.indeed.com/rc/clk?jk=c2b1875199f33829&fccid=b97aa9a98af93bad   \n",
       "160                                                          http://www.indeed.com/rc/clk?jk=8a53f58a3a2fe5d7&fccid=5c22d005a16fae8d   \n",
       "163                                                          http://www.indeed.com/rc/clk?jk=76f23beac4ac4f3a&fccid=e30562474c83900b   \n",
       "167                                                          http://www.indeed.com/rc/clk?jk=30a53790e07eb80e&fccid=57d632d063c6eaaf   \n",
       "172                                                          http://www.indeed.com/rc/clk?jk=96970437838ac4dd&fccid=65ba833030c39771   \n",
       "173                            http://www.indeed.com/cmp/EndoVantage/jobs/C++-Programmer-e05598272bd2f813?r=1&fccid=eef7c624153b930a   \n",
       "175                                                          http://www.indeed.com/rc/clk?jk=aa672e1507c1edfb&fccid=69fdacd02aead24d   \n",
       "176                                                          http://www.indeed.com/rc/clk?jk=9e48452901a80eb2&fccid=edae4285faf6c2f0   \n",
       "177                                                          http://www.indeed.com/rc/clk?jk=a606031a68669f51&fccid=edae4285faf6c2f0   \n",
       "178                                                          http://www.indeed.com/rc/clk?jk=4608edb80f3db368&fccid=e30562474c83900b   \n",
       "180                                                          http://www.indeed.com/rc/clk?jk=213c4da699f893fc&fccid=edae4285faf6c2f0   \n",
       "184                                                          http://www.indeed.com/rc/clk?jk=9b3b83757e214811&fccid=659d7ed1b53f4cd4   \n",
       "185                                                          http://www.indeed.com/rc/clk?jk=da32a1396e99bb06&fccid=735667c8ff2f1a48   \n",
       "187                                                          http://www.indeed.com/rc/clk?jk=6266444b41dec661&fccid=d0b3f9cc8e1c8e97   \n",
       "188                                                          http://www.indeed.com/rc/clk?jk=98dff1a03014ec6c&fccid=338fc3b9d2312cfd   \n",
       "189                                                          http://www.indeed.com/rc/clk?jk=efee2f73c046747f&fccid=263f498218aeb553   \n",
       "190                                                          http://www.indeed.com/rc/clk?jk=70ae76f53aae8699&fccid=e996c2d6855fe778   \n",
       "192    http://www.indeed.com/cmp/Objectwin-Technology-Inc/jobs/Clinical-Research-Analyst-dea8ad46d7ad678d?r=1&fccid=2374e3d407d8f677   \n",
       "193                                                          http://www.indeed.com/rc/clk?jk=c3ee804567d5a7db&fccid=be3b11aa573faee7   \n",
       "195                                                          http://www.indeed.com/rc/clk?jk=7f4065ec7d7c5299&fccid=edae4285faf6c2f0   \n",
       "197                                                          http://www.indeed.com/rc/clk?jk=6676fe7287483879&fccid=b97b5fbf41e6bb2b   \n",
       "198                                                          http://www.indeed.com/rc/clk?jk=356215c1c517bf27&fccid=5b6f5867208f8a2e   \n",
       "...                                                                                                                              ...   \n",
       "41569                                                        http://www.indeed.com/rc/clk?jk=4101fc03d43c3e91&fccid=7e88ae3a86d0dbbd   \n",
       "41573                                                        http://www.indeed.com/rc/clk?jk=8299f3b857056081&fccid=239d7a6be000925c   \n",
       "41574                                                        http://www.indeed.com/rc/clk?jk=522d6264022a35b4&fccid=2c2b0a062d1449f0   \n",
       "42850                                                        http://www.indeed.com/rc/clk?jk=5570caa8e1e438cf&fccid=68d0e0954a811351   \n",
       "42965                                                        http://www.indeed.com/rc/clk?jk=6a2de63c37e79c67&fccid=e28ed8e6a257b13d   \n",
       "44419                                                        http://www.indeed.com/rc/clk?jk=41addf3a1b2ab6ba&fccid=f1374be6a45f4b8a   \n",
       "44423                 http://www.indeed.com/cmp/Nityo-Infotech-Corp./jobs/Data-Scientist-0296cb9f88c77950?r=1&fccid=3f49bba650037c6b   \n",
       "44430                                                        http://www.indeed.com/rc/clk?jk=4f5ecd017668359c&fccid=2c62e4de04b8f952   \n",
       "44431                                                        http://www.indeed.com/rc/clk?jk=ad95ad47ccad708f&fccid=f1374be6a45f4b8a   \n",
       "44432                                                        http://www.indeed.com/rc/clk?jk=e045c199bb7c9e5a&fccid=ed3353521a2ce729   \n",
       "44434                                                        http://www.indeed.com/rc/clk?jk=ea82b1f437dbaaf2&fccid=f1374be6a45f4b8a   \n",
       "44435                                                        http://www.indeed.com/rc/clk?jk=51025938c857bec6&fccid=f08e44df13996bc1   \n",
       "44436            http://www.indeed.com/cmp/Graphic-Products/jobs/SEO-Analytic-Specialist-9c2fc39208afdba0?r=1&fccid=ecaf9e7c7d8aefbf   \n",
       "44439                                                        http://www.indeed.com/rc/clk?jk=6dd898b6c58fdb02&fccid=2c62e4de04b8f952   \n",
       "44440                                                        http://www.indeed.com/rc/clk?jk=b4ebcf33e0a98e3d&fccid=f1374be6a45f4b8a   \n",
       "44442                                                        http://www.indeed.com/rc/clk?jk=c96bfd7b0697cd25&fccid=b7aa20bac5246af4   \n",
       "44446                                                        http://www.indeed.com/rc/clk?jk=b4a8bd099436f339&fccid=f1374be6a45f4b8a   \n",
       "44448                                                        http://www.indeed.com/rc/clk?jk=a444bdb79a55f6d4&fccid=10a6caa919d4cfca   \n",
       "44450                                                        http://www.indeed.com/rc/clk?jk=9f36cbaa801c91ec&fccid=ad883512067417ad   \n",
       "44461                                                        http://www.indeed.com/rc/clk?jk=955aa8b6bfd580c3&fccid=2c62e4de04b8f952   \n",
       "44463                                                        http://www.indeed.com/rc/clk?jk=dd2ee35f1236c969&fccid=0292ac807dd2aefc   \n",
       "44464                                                        http://www.indeed.com/rc/clk?jk=26b245adebb0edf7&fccid=57a89148a4dd6e18   \n",
       "44466                                                        http://www.indeed.com/rc/clk?jk=b41ed30e62289be2&fccid=6eed1f5f8db5b4d1   \n",
       "44470                                                        http://www.indeed.com/rc/clk?jk=6e86b608adae770c&fccid=f08e44df13996bc1   \n",
       "44484                                                        http://www.indeed.com/rc/clk?jk=72c018a2a4a5758c&fccid=8483bd2082e877c0   \n",
       "44487                                                        http://www.indeed.com/rc/clk?jk=5cadf4e94dd98591&fccid=006e90dcec93ceda   \n",
       "44488                                                        http://www.indeed.com/rc/clk?jk=d5a5a1b140728b7a&fccid=8483bd2082e877c0   \n",
       "44489                                                        http://www.indeed.com/rc/clk?jk=111fd3118386085c&fccid=fb6cee4986250511   \n",
       "44490                                                        http://www.indeed.com/rc/clk?jk=573f944891c8d732&fccid=b983e0b562a36362   \n",
       "44502                                                        http://www.indeed.com/rc/clk?jk=ebd09be4bdbdb6f7&fccid=a169ca96640cc40c   \n",
       "\n",
       "                                                 job_location    job_posted  \\\n",
       "22                                       Sugar Land, TX 77478   25 days ago   \n",
       "51                                             Sugar Land, TX  30+ days ago   \n",
       "84                                       Sugar Land, TX 77478   16 days ago   \n",
       "101                                               Baytown, TX    3 days ago   \n",
       "137                                                Spring, TX  30+ days ago   \n",
       "145               Scottsdale, AZ 85254 (Paradise Valley area)    3 days ago   \n",
       "147                                        Surprise, AZ 85374    2 days ago   \n",
       "152                                           Tempe, AZ 85281   27 days ago   \n",
       "157                                                 Tempe, AZ    3 days ago   \n",
       "160                                            Scottsdale, AZ   13 days ago   \n",
       "163                                                 Tempe, AZ  30+ days ago   \n",
       "167                                                  Mesa, AZ   13 days ago   \n",
       "172                                            Scottsdale, AZ  30+ days ago   \n",
       "173                                            Scottsdale, AZ  30+ days ago   \n",
       "175                                                 Tempe, AZ   25 days ago   \n",
       "176                           Mesa, AZ 85215 (Northeast area)    9 days ago   \n",
       "177                           Mesa, AZ 85215 (Northeast area)    2 days ago   \n",
       "178                                                 Tempe, AZ   27 days ago   \n",
       "180                           Mesa, AZ 85215 (Northeast area)    3 days ago   \n",
       "184                                                 Tempe, AZ  30+ days ago   \n",
       "185              Scottsdale, AZ 85255 (North Scottsdale area)  30+ days ago   \n",
       "187                                                 Tempe, AZ  30+ days ago   \n",
       "188                                            Scottsdale, AZ  30+ days ago   \n",
       "189                                           Tempe, AZ 85284  30+ days ago   \n",
       "190                                        Chandler, AZ 85226    3 days ago   \n",
       "192                                        Chandler, AZ 85226    5 days ago   \n",
       "193                                            Scottsdale, AZ   11 days ago   \n",
       "195                           Mesa, AZ 85215 (Northeast area)    9 days ago   \n",
       "197                                               Gilbert, AZ  30+ days ago   \n",
       "198                     Glendale, AZ 85308 (Deer Valley area)  30+ days ago   \n",
       "...                                                       ...           ...   \n",
       "41569                                       Bothell, WA 98021   30 days ago   \n",
       "41573                                             Redmond, WA  30+ days ago   \n",
       "41574                      Bellevue, WA 98004 (Downtown area)  30+ days ago   \n",
       "42850                                          Round Rock, TX   25 days ago   \n",
       "42965                                    Round Rock, TX 78681  30+ days ago   \n",
       "44419                                     Hillsboro, OR 97124    6 days ago   \n",
       "44423                                           Hillsboro, OR  30+ days ago   \n",
       "44430                                           Beaverton, OR   24 days ago   \n",
       "44431                                     Hillsboro, OR 97124  30+ days ago   \n",
       "44432                                           Vancouver, WA   6 hours ago   \n",
       "44434                                     Hillsboro, OR 97124  30+ days ago   \n",
       "44435                                     Hillsboro, OR 97124    5 days ago   \n",
       "44436            Beaverton, OR 97005 (Central Beaverton area)  30+ days ago   \n",
       "44439                                           Beaverton, OR   18 days ago   \n",
       "44440                                     Hillsboro, OR 97124   11 days ago   \n",
       "44442                                           Vancouver, WA  13 hours ago   \n",
       "44446                                     Hillsboro, OR 97124   17 days ago   \n",
       "44448                                     Vancouver, WA 98662    8 days ago   \n",
       "44450                                           Beaverton, OR   17 days ago   \n",
       "44461                                           Beaverton, OR  30+ days ago   \n",
       "44463                                           Vancouver, WA    1 hour ago   \n",
       "44464                                        Forest Grove, OR  30+ days ago   \n",
       "44466                                     Hillsboro, OR 97124   11 days ago   \n",
       "44470                                     Hillsboro, OR 97124  30+ days ago   \n",
       "44484                                           Vancouver, WA   26 days ago   \n",
       "44487                                     Hillsboro, OR 97124  30+ days ago   \n",
       "44488                                           Vancouver, WA   26 days ago   \n",
       "44489                                              Orenco, OR    4 days ago   \n",
       "44490  Milwaukie, OR 97222 (Milwaukie Business-Industry area)  30+ days ago   \n",
       "44502                                         Wilsonville, OR   16 days ago   \n",
       "\n",
       "                                                                                 job_title  \\\n",
       "22                                                                     EPA Scientist - 3rd   \n",
       "51                                                             Ultimate Hoops Statistician   \n",
       "84                                                                    Administrative Clerk   \n",
       "101                                                                    Research Technician   \n",
       "137                                                                         Data Scientist   \n",
       "145                                Predictive Labour Modeling & Workforce Planning Analyst   \n",
       "147                                             Research Data Analyst (Ed Svcs/Acam Suppt)   \n",
       "152                                                                           Data Analyst   \n",
       "157                                                               Data Analysis Specialist   \n",
       "160                                                                       Research Analyst   \n",
       "163                                         SENIOR PRINCIPAL RESEARCH ENGINEER / SCIENTIST   \n",
       "167                                                              Senior Research Scientist   \n",
       "172                                                          Satisfaction Research Analyst   \n",
       "173                                                                         C++ Programmer   \n",
       "175                                                                        Staff Scientist   \n",
       "176                                                                    Procurement Analyst   \n",
       "177                                                                      Procurement Agent   \n",
       "178                                                                       RESEARCH CHEMIST   \n",
       "180                                                               Industrial Security Spec   \n",
       "184                                                              Economic Research Analyst   \n",
       "185                                                                       Research Analyst   \n",
       "187                                                                  Senior Data Scientist   \n",
       "188                                                          Web Security Research Analyst   \n",
       "189                                       Munitions Response Project Engineer or Scientist   \n",
       "190                                                Senior Product Manager - AVS Master Tax   \n",
       "192                                                              Clinical Research Analyst   \n",
       "193                                   Data Scientist Government Services Analytics Advisor   \n",
       "195                                                 Supplier Program Management Specialist   \n",
       "197                                               QA Technician - Data Analysis & Trending   \n",
       "198                                    Research Assistant - College of Veterinary Medicine   \n",
       "...                                                                                    ...   \n",
       "41569                     Scientist/ Sr. Scientist, Immunology/ Immuno-Oncology Biomarkers   \n",
       "41573        Sr. Embedded Software Engineer - 1 year Contract to Physio-Control (not 1099)   \n",
       "41574  Senior Level Engineers (Functional Programming + Semantic Graph + Machine Learning)   \n",
       "42850                                                                     Senior Scientist   \n",
       "42965                                               Waypoint - Operations Research Analyst   \n",
       "44419                                                     Machine Learning System Engineer   \n",
       "44423                                                    Data Scientist..in Hillsboro (OR)   \n",
       "44430              Product Manager Finance Data & Analytics Consumer Digital Technogy Nike   \n",
       "44431                                                   Intel @ PyCon Conference in Oregon   \n",
       "44432                      Principal Investigator Advanced Technology Semiconductor Lasers   \n",
       "44434                                                        Senior Applied Data Scientist   \n",
       "44435                                                            Senior Material Scientist   \n",
       "44436                                                             SEO/Analytics Specialist   \n",
       "44439                                Lead Hadoop Engineer Consumer Digital Technology Nike   \n",
       "44440                                                               Applied Data Scientist   \n",
       "44442                                                                Medical Lab Scientist   \n",
       "44446                                                Devops and Automation System Engineer   \n",
       "44448                                                 Research Scientist, Learning Science   \n",
       "44450                                                                Software Engineer III   \n",
       "44461                                                         Consumer Data Scientist Nike   \n",
       "44463                                                               Electronics Technician   \n",
       "44464                                        Institutional Research and Assessment Analyst   \n",
       "44466                                                Research Scientist (Hillboro, Oregon)   \n",
       "44470                                                               Engineering Technician   \n",
       "44484                                                           Corporate Research Analyst   \n",
       "44487                                                            Applications Engineer Sr.   \n",
       "44488                                                 Research Analyst - Quality Assurance   \n",
       "44489                                                             Talent Scout (Recruiter)   \n",
       "44490                                                          Senior Medical Technologist   \n",
       "44502                                        Materials Testing Scientist - Wilsonville, OR   \n",
       "\n",
       "                         salary location  \n",
       "22                            -      NaN  \n",
       "51                            -      NaN  \n",
       "84                            -      NaN  \n",
       "101                           -      NaN  \n",
       "137                           -      NaN  \n",
       "145                           -      NaN  \n",
       "147                           -      NaN  \n",
       "152                           -      NaN  \n",
       "157              $40,300 a year      NaN  \n",
       "160                           -      NaN  \n",
       "163                           -      NaN  \n",
       "167                           -      NaN  \n",
       "172                           -      NaN  \n",
       "173                           -      NaN  \n",
       "175                           -      NaN  \n",
       "176                           -      NaN  \n",
       "177                           -      NaN  \n",
       "178                           -      NaN  \n",
       "180                           -      NaN  \n",
       "184                           -      NaN  \n",
       "185                           -      NaN  \n",
       "187                           -      NaN  \n",
       "188    $50,000 - $55,000 a year      NaN  \n",
       "189                           -      NaN  \n",
       "190                           -      NaN  \n",
       "192                           -      NaN  \n",
       "193                           -      NaN  \n",
       "195                           -      NaN  \n",
       "197                           -      NaN  \n",
       "198                           -      NaN  \n",
       "...                         ...      ...  \n",
       "41569                         -      NaN  \n",
       "41573                         -      NaN  \n",
       "41574                         -      NaN  \n",
       "42850                         -      NaN  \n",
       "42965                         -      NaN  \n",
       "44419                         -      NaN  \n",
       "44423                         -      NaN  \n",
       "44430                         -      NaN  \n",
       "44431                         -      NaN  \n",
       "44432                         -      NaN  \n",
       "44434                         -      NaN  \n",
       "44435                         -      NaN  \n",
       "44436  $60,000 - $80,000 a year      NaN  \n",
       "44439                         -      NaN  \n",
       "44440                         -      NaN  \n",
       "44442            $25.24 an hour      NaN  \n",
       "44446                         -      NaN  \n",
       "44448                         -      NaN  \n",
       "44450                         -      NaN  \n",
       "44461                         -      NaN  \n",
       "44463                         -      NaN  \n",
       "44464                         -      NaN  \n",
       "44466                         -      NaN  \n",
       "44470                         -      NaN  \n",
       "44484                         -      NaN  \n",
       "44487                         -      NaN  \n",
       "44488                         -      NaN  \n",
       "44489                         -      NaN  \n",
       "44490                         -      NaN  \n",
       "44502                         -      NaN  \n",
       "\n",
       "[2076 rows x 7 columns]"
      ]
     },
     "execution_count": 172,
     "metadata": {},
     "output_type": "execute_result"
    }
   ],
   "source": [
    "df[df['location'].isnull()]"
   ]
  },
  {
   "cell_type": "code",
   "execution_count": 81,
   "metadata": {
    "collapsed": true
   },
   "outputs": [],
   "source": [
    "df_sal = df[df['salary']!='-']"
   ]
  },
  {
   "cell_type": "code",
   "execution_count": 82,
   "metadata": {
    "collapsed": false
   },
   "outputs": [
    {
     "data": {
      "text/html": [
       "<div>\n",
       "<table border=\"1\" class=\"dataframe\">\n",
       "  <thead>\n",
       "    <tr style=\"text-align: right;\">\n",
       "      <th></th>\n",
       "      <th>company</th>\n",
       "      <th>job_city</th>\n",
       "      <th>job_link</th>\n",
       "      <th>job_location</th>\n",
       "      <th>job_posted</th>\n",
       "      <th>job_title</th>\n",
       "      <th>salary</th>\n",
       "    </tr>\n",
       "  </thead>\n",
       "  <tbody>\n",
       "    <tr>\n",
       "      <th>9</th>\n",
       "      <td>VROOM</td>\n",
       "      <td>New+York</td>\n",
       "      <td>http://www.indeed.com/rc/clk?jk=7826f95a63ea19d8&amp;fccid=2ab13947fbb2d925</td>\n",
       "      <td>New York, NY</td>\n",
       "      <td>14 days ago</td>\n",
       "      <td>Data Scientist</td>\n",
       "      <td>$100,000 - $130,000 a year</td>\n",
       "    </tr>\n",
       "    <tr>\n",
       "      <th>13</th>\n",
       "      <td>Wade &amp; Wendy</td>\n",
       "      <td>New+York</td>\n",
       "      <td>http://www.indeed.com/rc/clk?jk=26351741201154c5&amp;fccid=163fc1e8f2ac4e32</td>\n",
       "      <td>New York, NY</td>\n",
       "      <td>11 days ago</td>\n",
       "      <td>Wade &amp; Wendy_Data Scientist/Engineer</td>\n",
       "      <td>$80,000 - $120,000 a year</td>\n",
       "    </tr>\n",
       "    <tr>\n",
       "      <th>24</th>\n",
       "      <td>Jefferson Management</td>\n",
       "      <td>New+York</td>\n",
       "      <td>http://www.indeed.com/cmp/StyleMatters-Writing-Services,-LLC/jobs/Statistician-5ff798ddc42e3fb2?r=1&amp;fccid=a19111facfb88c3e</td>\n",
       "      <td>New York, NY</td>\n",
       "      <td>13 days ago</td>\n",
       "      <td>Statistician</td>\n",
       "      <td>$3,500 a month</td>\n",
       "    </tr>\n",
       "    <tr>\n",
       "      <th>26</th>\n",
       "      <td>Brilliant Leap</td>\n",
       "      <td>New+York</td>\n",
       "      <td>http://www.indeed.com/cmp/Brilliant-Leap/jobs/Data-Scientist-1d9f07ff8aef0af1?r=1&amp;fccid=82944c7d656c43dd</td>\n",
       "      <td>New York, NY</td>\n",
       "      <td>19 days ago</td>\n",
       "      <td>Data Scientist</td>\n",
       "      <td>$800 a day</td>\n",
       "    </tr>\n",
       "    <tr>\n",
       "      <th>27</th>\n",
       "      <td>VROOM</td>\n",
       "      <td>New+York</td>\n",
       "      <td>http://www.indeed.com/rc/clk?jk=069d6f02fd06e433&amp;fccid=2ab13947fbb2d925</td>\n",
       "      <td>New York, NY</td>\n",
       "      <td>15 hours ago</td>\n",
       "      <td>Business Analyst - Demand</td>\n",
       "      <td>$110,000 - $130,000 a year</td>\n",
       "    </tr>\n",
       "  </tbody>\n",
       "</table>\n",
       "</div>"
      ],
      "text/plain": [
       "                 company  job_city  \\\n",
       "9                  VROOM  New+York   \n",
       "13          Wade & Wendy  New+York   \n",
       "24  Jefferson Management  New+York   \n",
       "26        Brilliant Leap  New+York   \n",
       "27                 VROOM  New+York   \n",
       "\n",
       "                                                                                                                      job_link  \\\n",
       "9                                                      http://www.indeed.com/rc/clk?jk=7826f95a63ea19d8&fccid=2ab13947fbb2d925   \n",
       "13                                                     http://www.indeed.com/rc/clk?jk=26351741201154c5&fccid=163fc1e8f2ac4e32   \n",
       "24  http://www.indeed.com/cmp/StyleMatters-Writing-Services,-LLC/jobs/Statistician-5ff798ddc42e3fb2?r=1&fccid=a19111facfb88c3e   \n",
       "26                    http://www.indeed.com/cmp/Brilliant-Leap/jobs/Data-Scientist-1d9f07ff8aef0af1?r=1&fccid=82944c7d656c43dd   \n",
       "27                                                     http://www.indeed.com/rc/clk?jk=069d6f02fd06e433&fccid=2ab13947fbb2d925   \n",
       "\n",
       "    job_location    job_posted                             job_title  \\\n",
       "9   New York, NY   14 days ago                        Data Scientist   \n",
       "13  New York, NY   11 days ago  Wade & Wendy_Data Scientist/Engineer   \n",
       "24  New York, NY   13 days ago                          Statistician   \n",
       "26  New York, NY   19 days ago                        Data Scientist   \n",
       "27  New York, NY  15 hours ago             Business Analyst - Demand   \n",
       "\n",
       "                        salary  \n",
       "9   $100,000 - $130,000 a year  \n",
       "13   $80,000 - $120,000 a year  \n",
       "24              $3,500 a month  \n",
       "26                  $800 a day  \n",
       "27  $110,000 - $130,000 a year  "
      ]
     },
     "execution_count": 82,
     "metadata": {},
     "output_type": "execute_result"
    }
   ],
   "source": [
    "df_sal.head()"
   ]
  },
  {
   "cell_type": "code",
   "execution_count": 83,
   "metadata": {
    "collapsed": false
   },
   "outputs": [],
   "source": [
    "min_max_sal = df_sal['salary'].str.split('-', expand=True)"
   ]
  },
  {
   "cell_type": "code",
   "execution_count": 84,
   "metadata": {
    "collapsed": false
   },
   "outputs": [],
   "source": [
    "min_max_sal.columns = ['min_sal', 'max_sal']"
   ]
  },
  {
   "cell_type": "code",
   "execution_count": 85,
   "metadata": {
    "collapsed": false
   },
   "outputs": [],
   "source": [
    "min_max_sal['is_year'] = (min_max_sal['min_sal'].str.find('year') > 0) | (min_max_sal['max_sal'].str.find('year') > 0)\n",
    "min_max_sal['is_month'] = (min_max_sal['min_sal'].str.find('month') > 0) | (min_max_sal['max_sal'].str.find('month') > 0)\n",
    "min_max_sal['is_week'] = (min_max_sal['min_sal'].str.find('week') > 0) | (min_max_sal['max_sal'].str.find('week') > 0)\n",
    "min_max_sal['is_day'] = (min_max_sal['min_sal'].str.find('day') > 0) | (min_max_sal['max_sal'].str.find('day') > 0)\n",
    "min_max_sal['is_hour'] = (min_max_sal['min_sal'].str.find('hour') > 0) | (min_max_sal['max_sal'].str.find('hour') > 0)"
   ]
  },
  {
   "cell_type": "code",
   "execution_count": 86,
   "metadata": {
    "collapsed": true
   },
   "outputs": [],
   "source": [
    "cols = ['min_sal','max_sal']\n",
    "for col in cols:\n",
    "    min_max_sal[col] = min_max_sal[col].str.replace('$','').str.replace(',','')\n",
    "    min_max_sal[col] = min_max_sal[col].str.replace(' a year','').str.replace(' a month','')\n",
    "    min_max_sal[col] = min_max_sal[col].str.replace(' a week','')\n",
    "    min_max_sal[col] = min_max_sal[col].str.replace(' a day','').str.replace(' an hour','')\n",
    "\n"
   ]
  },
  {
   "cell_type": "code",
   "execution_count": 87,
   "metadata": {
    "collapsed": true
   },
   "outputs": [],
   "source": [
    "min_max_sal['min_sal'] = pd.to_numeric(min_max_sal['min_sal'], errors='coerce')\n",
    "min_max_sal['max_sal'] = pd.to_numeric(min_max_sal['max_sal'], errors='coerce')"
   ]
  },
  {
   "cell_type": "code",
   "execution_count": 88,
   "metadata": {
    "collapsed": true
   },
   "outputs": [],
   "source": [
    "\n",
    "\n",
    "min_max_sal.ix[min_max_sal['max_sal'].isnull()==False,'sal_calc'] = (min_max_sal[min_max_sal['max_sal'].isnull()==False]['min_sal']+min_max_sal[min_max_sal['max_sal'].isnull()==False]['max_sal'])/2.0\n",
    "min_max_sal.ix[min_max_sal['sal_calc'].isnull(),'sal_calc'] = min_max_sal.ix[min_max_sal['sal_calc'].isnull(),'min_sal']\n",
    "\n",
    "min_max_sal.ix[min_max_sal['is_month'],'sal_calc'] = min_max_sal.ix[min_max_sal['is_month'],'sal_calc'] * 12\n",
    "#assumes 52 weeks per year  \n",
    "min_max_sal.ix[min_max_sal['is_week'],'sal_calc'] = min_max_sal.ix[min_max_sal['is_week'],'sal_calc'] * 52\n",
    "#assumes 40 hr work week\n",
    "min_max_sal.ix[min_max_sal['is_day'],'sal_calc'] = min_max_sal.ix[min_max_sal['is_day'],'sal_calc'] * 5 * 52\n",
    "#assumes 8 hr work day\n",
    "min_max_sal.ix[min_max_sal['is_hour'],'sal_calc'] = min_max_sal.ix[min_max_sal['is_hour'],'sal_calc'] * 8 * 5 * 52\n",
    "\n"
   ]
  },
  {
   "cell_type": "code",
   "execution_count": 89,
   "metadata": {
    "collapsed": false
   },
   "outputs": [
    {
     "name": "stderr",
     "output_type": "stream",
     "text": [
      "/home/vagrant/.anaconda/lib/python2.7/site-packages/ipykernel/__main__.py:1: SettingWithCopyWarning: \n",
      "A value is trying to be set on a copy of a slice from a DataFrame.\n",
      "Try using .loc[row_indexer,col_indexer] = value instead\n",
      "\n",
      "See the caveats in the documentation: http://pandas.pydata.org/pandas-docs/stable/indexing.html#indexing-view-versus-copy\n",
      "  if __name__ == '__main__':\n"
     ]
    }
   ],
   "source": [
    "df_sal['salary_calc'] = min_max_sal['sal_calc']"
   ]
  },
  {
   "cell_type": "code",
   "execution_count": 90,
   "metadata": {
    "collapsed": false
   },
   "outputs": [
    {
     "name": "stdout",
     "output_type": "stream",
     "text": [
      "<class 'pandas.core.frame.DataFrame'>\n",
      "Int64Index: 692 entries, 9 to 66331\n",
      "Data columns (total 8 columns):\n",
      "company         692 non-null object\n",
      "job_city        692 non-null object\n",
      "job_link        692 non-null object\n",
      "job_location    692 non-null object\n",
      "job_posted      692 non-null object\n",
      "job_title       692 non-null object\n",
      "salary          692 non-null object\n",
      "salary_calc     692 non-null float64\n",
      "dtypes: float64(1), object(7)\n",
      "memory usage: 48.7+ KB\n"
     ]
    }
   ],
   "source": [
    "df_sal.info()"
   ]
  },
  {
   "cell_type": "code",
   "execution_count": 93,
   "metadata": {
    "collapsed": false
   },
   "outputs": [
    {
     "data": {
      "text/plain": [
       "<matplotlib.axes._subplots.AxesSubplot at 0x7f494340c510>"
      ]
     },
     "execution_count": 93,
     "metadata": {},
     "output_type": "execute_result"
    },
    {
     "data": {
      "image/png": "[encoded data removed]",
      "text/plain": [
       "<matplotlib.figure.Figure at 0x7f4943db3e90>"
      ]
     },
     "metadata": {},
     "output_type": "display_data"
    }
   ],
   "source": [
    "df_sal['salary_calc'].plot(kind='hist', bins=20)"
   ]
  },
  {
   "cell_type": "code",
   "execution_count": 94,
   "metadata": {
    "collapsed": false
   },
   "outputs": [
    {
     "data": {
      "text/plain": [
       "[('company', 266),\n",
       " ('job_city', 21),\n",
       " ('job_link', 692),\n",
       " ('job_location', 167),\n",
       " ('job_posted', 43),\n",
       " ('job_title', 549),\n",
       " ('salary', 407),\n",
       " ('salary_calc', 304)]"
      ]
     },
     "execution_count": 94,
     "metadata": {},
     "output_type": "execute_result"
    }
   ],
   "source": [
    "[(c, df_sal[c].value_counts().count()) for c in list(df_sal.columns)]"
   ]
  },
  {
   "cell_type": "code",
   "execution_count": 3,
   "metadata": {
    "collapsed": true,
    "focus": false,
    "id": "2c6752c4-7704-4c94-8bc0-6f13d2d0d570"
   },
   "outputs": [],
   "source": [
    "## YOUR CODE HERE"
   ]
  },
  {
   "cell_type": "markdown",
   "metadata": {
    "focus": false,
    "id": "bb0b866a-26a7-45e9-8084-5a0f90eb4b3e"
   },
   "source": [
    "Let's look at one result more closely. A single `result` looks like\n",
    "\n",
    "```\n",
    "<div class=\" row result\" data-jk=\"2480d203f7e97210\" data-tn-component=\"organicJob\" id=\"p_2480d203f7e97210\" itemscope=\"\" itemtype=\"http://schema.org/JobPosting\">\n",
    "<h2 class=\"jobtitle\" id=\"jl_2480d203f7e97210\">\n",
    "<a class=\"turnstileLink\" data-tn-element=\"jobTitle\" onmousedown=\"return rclk(this,jobmap[0],1);\" rel=\"nofollow\" target=\"_blank\" title=\"AVP/Quantitative Analyst\">AVP/Quantitative Analyst</a>\n",
    "</h2>\n",
    "<span class=\"company\" itemprop=\"hiringOrganization\" itemtype=\"http://schema.org/Organization\">\n",
    "<span itemprop=\"name\">\n",
    "<a href=\"/cmp/Alliancebernstein?from=SERP&amp;campaignid=serp-linkcompanyname&amp;fromjk=2480d203f7e97210&amp;jcid=b374f2a780e04789\" target=\"_blank\">\n",
    "    AllianceBernstein</a></span>\n",
    "</span>\n",
    "<tr>\n",
    "<td class=\"snip\">\n",
    "<nobr>$117,500 - $127,500 a year</nobr>\n",
    "<div>\n",
    "<span class=\"summary\" itemprop=\"description\">\n",
    "C onduct quantitative and statistical research as well as portfolio management for various investment portfolios. Collaborate with Quantitative Analysts and</span>\n",
    "</div>\n",
    "</div>\n",
    "</td>\n",
    "</tr>\n",
    "</table>\n",
    "</div>\n",
    "```\n",
    "\n",
    "While this has some more verbose elements removed, we can see that there is some structure to the above:\n",
    "- The salary is available in a `nobr` element inside of a `td` element with `class='snip`.\n",
    "- The title of a job is in a link with class set to `jobtitle` and a `data-tn-element=\"jobTitle`.  \n",
    "- The location is set in a `span` with `class='location'`. \n",
    "- The company is set in a `span` with `class='company'`. "
   ]
  },
  {
   "cell_type": "markdown",
   "metadata": {
    "focus": false,
    "id": "f1eddb90-4ba8-483c-a229-77e93aa53119"
   },
   "source": [
    "### Write 4 functions to extract each item: location, company, job, and salary.\n",
    "\n",
    "example: \n",
    "```python\n",
    "def extract_location_from_result(result):\n",
    "    return result.find ...\n",
    "```\n",
    "\n",
    "\n",
    "- **Make sure these functions are robust and can handle cases where the data/field may not be available.**\n",
    "    - Remember to check if a field is empty or `None` for attempting to call methods on it\n",
    "    - Remember to use `try/except` if you anticipate errors\n",
    "- **Test** the functions on the results above and simple examples"
   ]
  },
  {
   "cell_type": "code",
   "execution_count": 4,
   "metadata": {
    "collapsed": true,
    "focus": false,
    "id": "a1af53c9-9090-494f-b82e-cadb60a54909"
   },
   "outputs": [],
   "source": [
    "## YOUR CODE HERE"
   ]
  },
  {
   "cell_type": "markdown",
   "metadata": {
    "focus": false,
    "id": "34070e89-9521-4b45-90c8-57a6599aac68"
   },
   "source": [
    "Now, to scale up our scraping, we need to accumulate more results. We can do this by examining the URL above.\n",
    "\n",
    "- \"http://www.indeed.com/jobs?q=data+scientist+%2420%2C000&l=New+York&start=10\"\n",
    "\n",
    "There are two query parameters here we can alter to collect more results, the `l=New+York` and the `start=10`. The first controls the location of the results (so we can try a different city). The second controls where in the results to start and gives 10 results (thus, we can keep incrementing by 10 to go further in the list)."
   ]
  },
  {
   "cell_type": "markdown",
   "metadata": {
    "focus": false,
    "id": "e8beed7c-3e42-40c0-810f-5f67f8f885a0"
   },
   "source": [
    "#### Complete the following code to collect results from multiple cities and starting points. \n",
    "- Enter your city below to add it to the search\n",
    "- Remember to convert your salary to U.S. Dollars to match the other cities if the currency is different"
   ]
  },
  {
   "cell_type": "code",
   "execution_count": 359,
   "metadata": {
    "collapsed": false
   },
   "outputs": [],
   "source": [
    "from sklearn import linear_model, metrics, cross_validation, feature_extraction, grid_search\n",
    "from sklearn.metrics import confusion_matrix, classification_report, accuracy_score, roc_curve, auc\n",
    "import matplotlib.pyplot as plt"
   ]
  },
  {
   "cell_type": "code",
   "execution_count": 96,
   "metadata": {
    "collapsed": false
   },
   "outputs": [
    {
     "name": "stdout",
     "output_type": "stream",
     "text": [
      "<class 'pandas.core.frame.DataFrame'>\n",
      "Int64Index: 692 entries, 9 to 66331\n",
      "Data columns (total 8 columns):\n",
      "company         692 non-null object\n",
      "job_city        692 non-null object\n",
      "job_link        692 non-null object\n",
      "job_location    692 non-null object\n",
      "job_posted      692 non-null object\n",
      "job_title       692 non-null object\n",
      "salary          692 non-null object\n",
      "salary_calc     692 non-null float64\n",
      "dtypes: float64(1), object(7)\n",
      "memory usage: 48.7+ KB\n"
     ]
    }
   ],
   "source": [
    "df_sal.info()"
   ]
  },
  {
   "cell_type": "code",
   "execution_count": null,
   "metadata": {
    "collapsed": true
   },
   "outputs": [],
   "source": []
  },
  {
   "cell_type": "code",
   "execution_count": null,
   "metadata": {
    "collapsed": true
   },
   "outputs": [],
   "source": []
  },
  {
   "cell_type": "markdown",
   "metadata": {},
   "source": [
    "# Let's get the X and y"
   ]
  },
  {
   "cell_type": "code",
   "execution_count": 371,
   "metadata": {
    "collapsed": true
   },
   "outputs": [],
   "source": [
    "X = df_sal[df_sal['salary_calc'].isnull()==False]"
   ]
  },
  {
   "cell_type": "code",
   "execution_count": 372,
   "metadata": {
    "collapsed": false
   },
   "outputs": [
    {
     "data": {
      "text/plain": [
       "85000.0"
      ]
     },
     "execution_count": 372,
     "metadata": {},
     "output_type": "execute_result"
    }
   ],
   "source": [
    "X['salary_calc'].median()"
   ]
  },
  {
   "cell_type": "code",
   "execution_count": 373,
   "metadata": {
    "collapsed": false
   },
   "outputs": [],
   "source": [
    "y = (X['salary_calc'] >= X['salary_calc'].median())"
   ]
  },
  {
   "cell_type": "code",
   "execution_count": 374,
   "metadata": {
    "collapsed": true
   },
   "outputs": [],
   "source": [
    "X = X.reindex(columns=['company','job_city','job_title'])"
   ]
  },
  {
   "cell_type": "code",
   "execution_count": 375,
   "metadata": {
    "collapsed": false
   },
   "outputs": [],
   "source": [
    "for col in ['company','job_city','job_title'] :\n",
    "    X[col] = X[col].str.lower()"
   ]
  },
  {
   "cell_type": "code",
   "execution_count": 376,
   "metadata": {
    "collapsed": true
   },
   "outputs": [],
   "source": [
    "X['is_managerial'] = (X['job_title'].str.contains('senior')) | (X['job_title'].str.contains('manager'))"
   ]
  },
  {
   "cell_type": "code",
   "execution_count": null,
   "metadata": {
    "collapsed": true
   },
   "outputs": [],
   "source": []
  },
  {
   "cell_type": "code",
   "execution_count": 380,
   "metadata": {
    "collapsed": false
   },
   "outputs": [],
   "source": [
    "X_train, X_test, y_train, y_test = cross_validation.train_test_split(X, y, test_size=0.3)"
   ]
  },
  {
   "cell_type": "code",
   "execution_count": null,
   "metadata": {
    "collapsed": true
   },
   "outputs": [],
   "source": []
  },
  {
   "cell_type": "code",
   "execution_count": null,
   "metadata": {
    "collapsed": true
   },
   "outputs": [],
   "source": []
  },
  {
   "cell_type": "code",
   "execution_count": null,
   "metadata": {
    "collapsed": true
   },
   "outputs": [],
   "source": []
  },
  {
   "cell_type": "markdown",
   "metadata": {},
   "source": [
    "## Now can go nuts on modelling"
   ]
  },
  {
   "cell_type": "code",
   "execution_count": 275,
   "metadata": {
    "collapsed": true
   },
   "outputs": [],
   "source": [
    "from sklearn.pipeline import make_pipeline, make_union\n",
    "from sklearn.preprocessing import Imputer, StandardScaler\n",
    "from sklearn.base import BaseEstimator, TransformerMixin\n",
    "\n",
    "class ColumnSelector(BaseEstimator, TransformerMixin):\n",
    "    def __init__(self, columns):\n",
    "        self.columns = columns\n",
    "    \n",
    "    def transform(self, X, *_):\n",
    "        if isinstance(X, pd.DataFrame):\n",
    "            return pd.DataFrame(X[self.columns])\n",
    "        else:\n",
    "            raise TypeError(\"This transformer only works with Pandas Dataframes\")\n",
    "    \n",
    "    def fit(self, X, *_):\n",
    "        return self\n",
    "    "
   ]
  },
  {
   "cell_type": "code",
   "execution_count": 276,
   "metadata": {
    "collapsed": true
   },
   "outputs": [],
   "source": [
    "class GetDummiesTransformer(BaseEstimator, TransformerMixin):\n",
    "    def __init__(self, columns):\n",
    "        self.columns = columns\n",
    "    \n",
    "    def transform(self, X, *_):\n",
    "        if isinstance(X, pd.DataFrame):\n",
    "            return pd.get_dummies(X[self.columns], columns = self.columns)\n",
    "        else:\n",
    "            raise TypeError(\"This transformer only works with Pandas Dataframes\")\n",
    "    \n",
    "    def fit(self, X, *_):\n",
    "        return self\n",
    "    \n",
    "#gdt = GetDummiesTransformer(['Embarked'])"
   ]
  },
  {
   "cell_type": "code",
   "execution_count": 277,
   "metadata": {
    "collapsed": true
   },
   "outputs": [],
   "source": [
    "class SelectOneColumn(BaseEstimator, TransformerMixin):\n",
    "    def __init__(self, column):\n",
    "        self.column = column\n",
    "\n",
    "    def fit(self, X, y=None):\n",
    "        return self\n",
    "\n",
    "    def transform(self, X, y=None):\n",
    "        # return X.ix[:, self.column]\n",
    "        return X[self.column]"
   ]
  },
  {
   "cell_type": "code",
   "execution_count": 278,
   "metadata": {
    "collapsed": true
   },
   "outputs": [],
   "source": [
    "class GetVectorizeTransformer(BaseEstimator, TransformerMixin):\n",
    "    def __init__(self, columns):\n",
    "        self.columns = columns\n",
    "    \n",
    "    def transform(self, X, *_):\n",
    "        if isinstance(X, pd.DataFrame):\n",
    "            return feature_extraction.text.CountVectorizer().fit_transform(X[self.columns])\n",
    "        else:\n",
    "            raise TypeError(\"This transformer only works with Pandas Dataframes\")\n",
    "    \n",
    "    def fit(self, X, *_):\n",
    "        return self\n",
    "    "
   ]
  },
  {
   "cell_type": "code",
   "execution_count": 385,
   "metadata": {
    "collapsed": true
   },
   "outputs": [],
   "source": [
    "cv = cross_validation.KFold(len(y_train), n_folds=5, shuffle=True)"
   ]
  },
  {
   "cell_type": "markdown",
   "metadata": {},
   "source": [
    "### This is just brute force all dummies for the three features: company, job_city, job_title"
   ]
  },
  {
   "cell_type": "code",
   "execution_count": 386,
   "metadata": {
    "collapsed": true
   },
   "outputs": [],
   "source": [
    "company_pipe = make_pipeline(ColumnSelector('company'), GetDummiesTransformer(['company']))\n",
    "job_city_pipe = make_pipeline(ColumnSelector('job_city'), GetDummiesTransformer(['job_city']))\n",
    "job_title_pipe = make_pipeline(ColumnSelector('job_title'), GetDummiesTransformer(['job_title']))"
   ]
  },
  {
   "cell_type": "code",
   "execution_count": 387,
   "metadata": {
    "collapsed": true
   },
   "outputs": [],
   "source": [
    "union = make_union(company_pipe, job_city_pipe, job_title_pipe)\n"
   ]
  },
  {
   "cell_type": "code",
   "execution_count": 388,
   "metadata": {
    "collapsed": false
   },
   "outputs": [],
   "source": [
    "result = cross_validation.cross_val_score(linear_model.LogisticRegression(), X=union.fit_transform(X_train), y=y_train, cv=cv)"
   ]
  },
  {
   "cell_type": "code",
   "execution_count": 389,
   "metadata": {
    "collapsed": false
   },
   "outputs": [
    {
     "data": {
      "text/plain": [
       "array([ 0.75257732,  0.74226804,  0.80412371,  0.71134021,  0.77083333])"
      ]
     },
     "execution_count": 389,
     "metadata": {},
     "output_type": "execute_result"
    }
   ],
   "source": [
    "result"
   ]
  },
  {
   "cell_type": "code",
   "execution_count": 390,
   "metadata": {
    "collapsed": false
   },
   "outputs": [
    {
     "data": {
      "text/plain": [
       "0.75622852233676974"
      ]
     },
     "execution_count": 390,
     "metadata": {},
     "output_type": "execute_result"
    }
   ],
   "source": [
    "result.mean()"
   ]
  },
  {
   "cell_type": "markdown",
   "metadata": {
    "collapsed": true
   },
   "source": [
    "### well, better than 50%"
   ]
  },
  {
   "cell_type": "code",
   "execution_count": null,
   "metadata": {
    "collapsed": true
   },
   "outputs": [],
   "source": []
  },
  {
   "cell_type": "code",
   "execution_count": null,
   "metadata": {
    "collapsed": true
   },
   "outputs": [],
   "source": []
  },
  {
   "cell_type": "markdown",
   "metadata": {},
   "source": [
    "## Let's try vectorizing job_title and only this feature"
   ]
  },
  {
   "cell_type": "code",
   "execution_count": 391,
   "metadata": {
    "collapsed": false
   },
   "outputs": [],
   "source": [
    "job_title_vec_pipe = make_pipeline(SelectOneColumn('job_title'), feature_extraction.text.CountVectorizer())"
   ]
  },
  {
   "cell_type": "code",
   "execution_count": 392,
   "metadata": {
    "collapsed": false
   },
   "outputs": [],
   "source": [
    "result = cross_validation.cross_val_score(linear_model.LogisticRegression(), X=job_title_vec_pipe.fit_transform(X_train), \n",
    "                                          y=y_train, cv=cv)"
   ]
  },
  {
   "cell_type": "code",
   "execution_count": 393,
   "metadata": {
    "collapsed": false
   },
   "outputs": [
    {
     "data": {
      "text/plain": [
       "array([ 0.79381443,  0.82474227,  0.7628866 ,  0.80412371,  0.8125    ])"
      ]
     },
     "execution_count": 393,
     "metadata": {},
     "output_type": "execute_result"
    }
   ],
   "source": [
    "result"
   ]
  },
  {
   "cell_type": "code",
   "execution_count": 394,
   "metadata": {
    "collapsed": false
   },
   "outputs": [
    {
     "data": {
      "text/plain": [
       "0.79961340206185572"
      ]
     },
     "execution_count": 394,
     "metadata": {},
     "output_type": "execute_result"
    }
   ],
   "source": [
    "result.mean()"
   ]
  },
  {
   "cell_type": "markdown",
   "metadata": {},
   "source": [
    "### seems better"
   ]
  },
  {
   "cell_type": "code",
   "execution_count": 553,
   "metadata": {
    "collapsed": true
   },
   "outputs": [],
   "source": [
    "job_title_tfidf_pipe = make_pipeline(SelectOneColumn('job_title'), feature_extraction.text.TfidfVectorizer())"
   ]
  },
  {
   "cell_type": "code",
   "execution_count": 554,
   "metadata": {
    "collapsed": true
   },
   "outputs": [],
   "source": [
    "result = cross_validation.cross_val_score(linear_model.LogisticRegression(), X=job_title_tfidf_pipe.fit_transform(X_train), \n",
    "                                          y=y_train, cv=cv)"
   ]
  },
  {
   "cell_type": "code",
   "execution_count": 555,
   "metadata": {
    "collapsed": false
   },
   "outputs": [
    {
     "data": {
      "text/plain": [
       "array([ 0.81443299,  0.82474227,  0.80412371,  0.81443299,  0.8125    ])"
      ]
     },
     "execution_count": 555,
     "metadata": {},
     "output_type": "execute_result"
    }
   ],
   "source": [
    "result"
   ]
  },
  {
   "cell_type": "code",
   "execution_count": 556,
   "metadata": {
    "collapsed": false
   },
   "outputs": [
    {
     "data": {
      "text/plain": [
       "0.81404639175257731"
      ]
     },
     "execution_count": 556,
     "metadata": {},
     "output_type": "execute_result"
    }
   ],
   "source": [
    "result.mean()"
   ]
  },
  {
   "cell_type": "code",
   "execution_count": null,
   "metadata": {
    "collapsed": true
   },
   "outputs": [],
   "source": []
  },
  {
   "cell_type": "code",
   "execution_count": null,
   "metadata": {
    "collapsed": true
   },
   "outputs": [],
   "source": []
  },
  {
   "cell_type": "code",
   "execution_count": null,
   "metadata": {
    "collapsed": true
   },
   "outputs": [],
   "source": []
  },
  {
   "cell_type": "markdown",
   "metadata": {},
   "source": [
    "## Let's try vectorized job_title and normal company, job_city"
   ]
  },
  {
   "cell_type": "code",
   "execution_count": 395,
   "metadata": {
    "collapsed": false
   },
   "outputs": [],
   "source": [
    "union2 = make_union(company_pipe, job_city_pipe, job_title_vec_pipe)\n"
   ]
  },
  {
   "cell_type": "code",
   "execution_count": 396,
   "metadata": {
    "collapsed": false
   },
   "outputs": [],
   "source": [
    "result = cross_validation.cross_val_score(linear_model.LogisticRegression(), \n",
    "                                          X=union2.fit_transform(X_train), y=y_train, cv=cv)"
   ]
  },
  {
   "cell_type": "code",
   "execution_count": 397,
   "metadata": {
    "collapsed": false
   },
   "outputs": [
    {
     "data": {
      "text/plain": [
       "array([ 0.80412371,  0.84536082,  0.82474227,  0.81443299,  0.83333333])"
      ]
     },
     "execution_count": 397,
     "metadata": {},
     "output_type": "execute_result"
    }
   ],
   "source": [
    "result"
   ]
  },
  {
   "cell_type": "code",
   "execution_count": 398,
   "metadata": {
    "collapsed": false
   },
   "outputs": [
    {
     "data": {
      "text/plain": [
       "0.82439862542955322"
      ]
     },
     "execution_count": 398,
     "metadata": {},
     "output_type": "execute_result"
    }
   ],
   "source": [
    "result.mean()"
   ]
  },
  {
   "cell_type": "markdown",
   "metadata": {},
   "source": [
    "### Nice"
   ]
  },
  {
   "cell_type": "code",
   "execution_count": null,
   "metadata": {
    "collapsed": true
   },
   "outputs": [],
   "source": []
  },
  {
   "cell_type": "markdown",
   "metadata": {},
   "source": [
    "## Vectorize everything?"
   ]
  },
  {
   "cell_type": "code",
   "execution_count": 399,
   "metadata": {
    "collapsed": true
   },
   "outputs": [],
   "source": [
    "company_vec_pipe = make_pipeline(SelectOneColumn('company'), feature_extraction.text.CountVectorizer())\n",
    "job_city_vec_pipe = make_pipeline(SelectOneColumn('job_city'), feature_extraction.text.CountVectorizer())"
   ]
  },
  {
   "cell_type": "code",
   "execution_count": 400,
   "metadata": {
    "collapsed": true
   },
   "outputs": [],
   "source": [
    "union3 = make_union(company_vec_pipe, job_city_vec_pipe, job_title_vec_pipe)"
   ]
  },
  {
   "cell_type": "code",
   "execution_count": 401,
   "metadata": {
    "collapsed": true
   },
   "outputs": [],
   "source": [
    "result = cross_validation.cross_val_score(linear_model.LogisticRegression(), \n",
    "                                          X=union3.fit_transform(X_train), y=y_train, cv=cv)"
   ]
  },
  {
   "cell_type": "code",
   "execution_count": 402,
   "metadata": {
    "collapsed": false
   },
   "outputs": [
    {
     "data": {
      "text/plain": [
       "array([ 0.82474227,  0.8556701 ,  0.84536082,  0.84536082,  0.80208333])"
      ]
     },
     "execution_count": 402,
     "metadata": {},
     "output_type": "execute_result"
    }
   ],
   "source": [
    "result"
   ]
  },
  {
   "cell_type": "code",
   "execution_count": 403,
   "metadata": {
    "collapsed": false
   },
   "outputs": [
    {
     "data": {
      "text/plain": [
       "0.83464347079037804"
      ]
     },
     "execution_count": 403,
     "metadata": {},
     "output_type": "execute_result"
    }
   ],
   "source": [
    "result.mean()"
   ]
  },
  {
   "cell_type": "markdown",
   "metadata": {},
   "source": [
    "### another improvement"
   ]
  },
  {
   "cell_type": "code",
   "execution_count": null,
   "metadata": {
    "collapsed": true
   },
   "outputs": [],
   "source": []
  },
  {
   "cell_type": "markdown",
   "metadata": {},
   "source": [
    "## Grid search!!"
   ]
  },
  {
   "cell_type": "code",
   "execution_count": 411,
   "metadata": {
    "collapsed": true
   },
   "outputs": [],
   "source": [
    "grid_search_pipe = make_pipeline(union3, linear_model.LogisticRegression())"
   ]
  },
  {
   "cell_type": "code",
   "execution_count": 412,
   "metadata": {
    "collapsed": false
   },
   "outputs": [
    {
     "data": {
      "text/plain": [
       "Pipeline(steps=[('featureunion', FeatureUnion(n_jobs=1,\n",
       "       transformer_list=[('pipeline-1', Pipeline(steps=[('selectonecolumn', SelectOneColumn(column='company')), ('countvectorizer', CountVectorizer(analyzer=u'word', binary=False, decode_error=u'strict',\n",
       "        dtype=<type 'numpy.int64'>, encoding=u'ut...ty='l2', random_state=None, solver='liblinear', tol=0.0001,\n",
       "          verbose=0, warm_start=False))])"
      ]
     },
     "execution_count": 412,
     "metadata": {},
     "output_type": "execute_result"
    }
   ],
   "source": [
    "grid_search_pipe"
   ]
  },
  {
   "cell_type": "code",
   "execution_count": 413,
   "metadata": {
    "collapsed": true
   },
   "outputs": [],
   "source": [
    "param_grid = {\n",
    "    'featureunion__pipeline-1__countvectorizer__ngram_range': [(1,1), (1,2), (2,2)],\n",
    "   # 'featureunion__pipeline-1__countvectorizer__lowercase': [True, False],\n",
    "    'featureunion__pipeline-1__countvectorizer__max_df': [0.7, 0.8, 0.9],\n",
    "    'featureunion__pipeline-1__countvectorizer__max_features': [None, 10, 15],\n",
    "    'logisticregression__C': [0.01, 0.1, 1.0, 10.0, 100.0, 1000.0],\n",
    "    'logisticregression__fit_intercept': [True, False],\n",
    "    'logisticregression__penalty': ['l1', 'l2']    \n",
    "}"
   ]
  },
  {
   "cell_type": "code",
   "execution_count": 414,
   "metadata": {
    "collapsed": false
   },
   "outputs": [],
   "source": [
    "gs = grid_search.GridSearchCV(grid_search_pipe, param_grid=param_grid, cv=cv, verbose=1, n_jobs=-1)"
   ]
  },
  {
   "cell_type": "code",
   "execution_count": 415,
   "metadata": {
    "collapsed": false
   },
   "outputs": [
    {
     "name": "stdout",
     "output_type": "stream",
     "text": [
      "Fitting 5 folds for each of 648 candidates, totalling 3240 fits\n"
     ]
    },
    {
     "name": "stderr",
     "output_type": "stream",
     "text": [
      "[Parallel(n_jobs=-1)]: Done  49 tasks       | elapsed:    2.3s\n",
      "[Parallel(n_jobs=-1)]: Done 199 tasks       | elapsed:    9.4s\n",
      "[Parallel(n_jobs=-1)]: Done 449 tasks       | elapsed:   21.5s\n",
      "[Parallel(n_jobs=-1)]: Done 799 tasks       | elapsed:   37.8s\n",
      "[Parallel(n_jobs=-1)]: Done 1249 tasks       | elapsed:   59.1s\n",
      "[Parallel(n_jobs=-1)]: Done 1799 tasks       | elapsed:  1.5min\n",
      "[Parallel(n_jobs=-1)]: Done 2449 tasks       | elapsed:  2.0min\n",
      "[Parallel(n_jobs=-1)]: Done 3199 tasks       | elapsed:  2.6min\n",
      "[Parallel(n_jobs=-1)]: Done 3240 out of 3240 | elapsed:  2.6min finished\n"
     ]
    },
    {
     "data": {
      "text/plain": [
       "GridSearchCV(cv=sklearn.cross_validation.KFold(n=484, n_folds=5, shuffle=True, random_state=None),\n",
       "       error_score='raise',\n",
       "       estimator=Pipeline(steps=[('featureunion', FeatureUnion(n_jobs=1,\n",
       "       transformer_list=[('pipeline-1', Pipeline(steps=[('selectonecolumn', SelectOneColumn(column='company')), ('countvectorizer', CountVectorizer(analyzer=u'word', binary=False, decode_error=u'strict',\n",
       "        dtype=<type 'numpy.int64'>, encoding=u'ut...ty='l2', random_state=None, solver='liblinear', tol=0.0001,\n",
       "          verbose=0, warm_start=False))]),\n",
       "       fit_params={}, iid=True, n_jobs=-1,\n",
       "       param_grid={'logisticregression__penalty': ['l1', 'l2'], 'logisticregression__C': [0.01, 0.1, 1.0, 10.0, 100.0, 1000.0], 'featureunion__pipeline-1__countvectorizer__ngram_range': [(1, 1), (1, 2), (2, 2)], 'featureunion__pipeline-1__countvectorizer__max_features': [None, 10, 15], 'featureunion__pipeline-1__countvectorizer__max_df': [0.7, 0.8, 0.9], 'logisticregression__fit_intercept': [True, False]},\n",
       "       pre_dispatch='2*n_jobs', refit=True, scoring=None, verbose=1)"
      ]
     },
     "execution_count": 415,
     "metadata": {},
     "output_type": "execute_result"
    }
   ],
   "source": [
    "gs.fit(X_train, y_train)"
   ]
  },
  {
   "cell_type": "code",
   "execution_count": 416,
   "metadata": {
    "collapsed": false
   },
   "outputs": [
    {
     "data": {
      "text/plain": [
       "Pipeline(steps=[('featureunion', FeatureUnion(n_jobs=1,\n",
       "       transformer_list=[('pipeline-1', Pipeline(steps=[('selectonecolumn', SelectOneColumn(column='company')), ('countvectorizer', CountVectorizer(analyzer=u'word', binary=False, decode_error=u'strict',\n",
       "        dtype=<type 'numpy.int64'>, encoding=u'ut...ty='l2', random_state=None, solver='liblinear', tol=0.0001,\n",
       "          verbose=0, warm_start=False))])"
      ]
     },
     "execution_count": 416,
     "metadata": {},
     "output_type": "execute_result"
    }
   ],
   "source": [
    "gs.best_estimator_"
   ]
  },
  {
   "cell_type": "code",
   "execution_count": 417,
   "metadata": {
    "collapsed": false
   },
   "outputs": [
    {
     "data": {
      "text/plain": [
       "{'featureunion__pipeline-1__countvectorizer__max_df': 0.7,\n",
       " 'featureunion__pipeline-1__countvectorizer__max_features': 15,\n",
       " 'featureunion__pipeline-1__countvectorizer__ngram_range': (1, 1),\n",
       " 'logisticregression__C': 1.0,\n",
       " 'logisticregression__fit_intercept': True,\n",
       " 'logisticregression__penalty': 'l2'}"
      ]
     },
     "execution_count": 417,
     "metadata": {},
     "output_type": "execute_result"
    }
   ],
   "source": [
    "gs.best_params_"
   ]
  },
  {
   "cell_type": "code",
   "execution_count": 418,
   "metadata": {
    "collapsed": false
   },
   "outputs": [
    {
     "data": {
      "text/plain": [
       "0.84090909090909094"
      ]
     },
     "execution_count": 418,
     "metadata": {},
     "output_type": "execute_result"
    }
   ],
   "source": [
    "gs.best_score_"
   ]
  },
  {
   "cell_type": "code",
   "execution_count": null,
   "metadata": {
    "collapsed": true
   },
   "outputs": [],
   "source": []
  },
  {
   "cell_type": "code",
   "execution_count": null,
   "metadata": {
    "collapsed": true
   },
   "outputs": [],
   "source": []
  },
  {
   "cell_type": "markdown",
   "metadata": {
    "focus": false,
    "id": "20339c09-5032-4e27-91be-286e9b46cd13"
   },
   "source": [
    "#### Use the functions you wrote above to parse out the 4 fields - location, title, company and salary. Create a dataframe from the results with those 4 columns."
   ]
  },
  {
   "cell_type": "code",
   "execution_count": 7,
   "metadata": {
    "collapsed": false,
    "focus": false,
    "id": "6e259594-1c52-436b-ab9e-527e071941c1"
   },
   "outputs": [],
   "source": [
    "## YOUR CODE HERE"
   ]
  },
  {
   "cell_type": "markdown",
   "metadata": {
    "focus": false,
    "id": "ff98ce64-78a7-441f-a675-63464e32c834"
   },
   "source": [
    "Lastly, we need to clean up salary data. \n",
    "\n",
    "1. Only a small number of the scraped results have salary information - only these will be used for modeling.\n",
    "1. Some of the salaries are not yearly but hourly or weekly, these will not be useful to us for now\n",
    "1. Some of the entries may be duplicated\n",
    "1. The salaries are given as text and usually with ranges.\n",
    "\n",
    "#### Find the entries with annual salary entries, by filtering the entries without salaries or salaries that are not yearly (filter those that refer to hour or week). Also, remove duplicate entries"
   ]
  },
  {
   "cell_type": "code",
   "execution_count": 9,
   "metadata": {
    "collapsed": false,
    "focus": false,
    "id": "58533e57-f86b-494a-b841-e7b59c6229c6"
   },
   "outputs": [],
   "source": [
    "## YOUR CODE HERE"
   ]
  },
  {
   "cell_type": "markdown",
   "metadata": {
    "focus": false,
    "id": "7d4bc860-b214-4f75-9cd0-b234830b1ec2"
   },
   "source": [
    "#### Write a function that takes a salary string and converts it to a number, averaging a salary range if necessary"
   ]
  },
  {
   "cell_type": "code",
   "execution_count": 10,
   "metadata": {
    "collapsed": true,
    "focus": false,
    "id": "a0f701e0-80bd-40ba-9101-4535860c0968"
   },
   "outputs": [],
   "source": [
    "## YOUR CODE HERE"
   ]
  },
  {
   "cell_type": "markdown",
   "metadata": {
    "collapsed": false,
    "focus": false,
    "id": "43e71edd-210e-42b1-9336-70a931f048af"
   },
   "source": [
    "### Save your results as a CSV"
   ]
  },
  {
   "cell_type": "code",
   "execution_count": 14,
   "metadata": {
    "collapsed": true,
    "focus": false,
    "id": "783fd153-28ac-47ab-bfca-27e7c1de95b4"
   },
   "outputs": [],
   "source": [
    "## YOUR CODE HERE"
   ]
  },
  {
   "cell_type": "markdown",
   "metadata": {
    "focus": false,
    "id": "04563b69-f7b6-466f-9d65-fc62c9ddee6a"
   },
   "source": [
    "## Predicting salaries using Logistic Regression"
   ]
  },
  {
   "cell_type": "markdown",
   "metadata": {
    "focus": false,
    "id": "243e949e-2742-40af-872e-fec475fd306c"
   },
   "source": [
    "#### Load in the the data of scraped salaries"
   ]
  },
  {
   "cell_type": "code",
   "execution_count": 12,
   "metadata": {
    "collapsed": false,
    "focus": false,
    "id": "588f9845-6143-4bcc-bfd1-85d45b79303d"
   },
   "outputs": [],
   "source": [
    "## YOUR CODE HERE"
   ]
  },
  {
   "cell_type": "markdown",
   "metadata": {
    "focus": false,
    "id": "c7631f51-07f2-4c79-a093-3e9bc7849a48"
   },
   "source": [
    "#### We want to predict a binary variable - whether the salary was low or high. Compute the median salary and create a new binary variable that is true when the salary is high (above the median)\n",
    "\n",
    "We could also perform Linear Regression (or any regression) to predict the salary value here. Instead, we are going to convert this into a _binary_ classification problem, by predicting two classes, HIGH vs LOW salary.\n",
    "\n",
    "While performing regression may be better, performing classification may help remove some of the noise of the extreme salaries. We don't have to choice the `median` as the splitting point - we could also split on the 75th percentile or any other reasonable breaking point.\n",
    "\n",
    "In fact, the ideal scenario may be to predict many levels of salaries, "
   ]
  },
  {
   "cell_type": "code",
   "execution_count": 15,
   "metadata": {
    "collapsed": true,
    "focus": false,
    "id": "c20d2498-151c-44c3-a453-3a333c79a0ac"
   },
   "outputs": [],
   "source": [
    "## YOUR CODE HERE"
   ]
  },
  {
   "cell_type": "markdown",
   "metadata": {
    "focus": false,
    "id": "a7afb2c0-d41e-4779-8216-91cd8dd4473f"
   },
   "source": [
    "#### Thought experiment: What is the baseline accuracy for this model?"
   ]
  },
  {
   "cell_type": "code",
   "execution_count": 16,
   "metadata": {
    "collapsed": true,
    "focus": false,
    "id": "87a17d3d-b7f4-4747-9f75-f9af1d18a174"
   },
   "outputs": [],
   "source": [
    "## YOUR CODE HERE"
   ]
  },
  {
   "cell_type": "markdown",
   "metadata": {
    "focus": false,
    "id": "4fb29de2-5b98-474c-a4ad-5170b72b9aea"
   },
   "source": [
    "#### Create a Logistic Regression model to predict High/Low salary using statsmodel. Start by ONLY using the location as a feature. Display the coefficients and write a short summary of what they mean."
   ]
  },
  {
   "cell_type": "code",
   "execution_count": 17,
   "metadata": {
    "collapsed": false,
    "focus": false,
    "id": "ddbc6159-6854-4ca7-857f-bfecdaf6d9c2"
   },
   "outputs": [],
   "source": [
    "## YOUR CODE HERE"
   ]
  },
  {
   "cell_type": "code",
   "execution_count": 473,
   "metadata": {
    "collapsed": false
   },
   "outputs": [],
   "source": [
    "result = cross_validation.cross_val_score(linear_model.LogisticRegression(), \n",
    "                                          X=job_city_pipe.fit_transform(X_train), y=y_train, cv=cv)"
   ]
  },
  {
   "cell_type": "code",
   "execution_count": 474,
   "metadata": {
    "collapsed": false
   },
   "outputs": [
    {
     "data": {
      "text/plain": [
       "array([ 0.67010309,  0.65979381,  0.57731959,  0.64948454,  0.6875    ])"
      ]
     },
     "execution_count": 474,
     "metadata": {},
     "output_type": "execute_result"
    }
   ],
   "source": [
    "result"
   ]
  },
  {
   "cell_type": "code",
   "execution_count": 475,
   "metadata": {
    "collapsed": false
   },
   "outputs": [
    {
     "data": {
      "text/plain": [
       "0.64884020618556693"
      ]
     },
     "execution_count": 475,
     "metadata": {},
     "output_type": "execute_result"
    }
   ],
   "source": [
    "result.mean()"
   ]
  },
  {
   "cell_type": "code",
   "execution_count": 476,
   "metadata": {
    "collapsed": false
   },
   "outputs": [
    {
     "data": {
      "text/plain": [
       "LogisticRegression(C=1.0, class_weight=None, dual=False, fit_intercept=True,\n",
       "          intercept_scaling=1, max_iter=100, multi_class='ovr', n_jobs=1,\n",
       "          penalty='l2', random_state=None, solver='liblinear', tol=0.0001,\n",
       "          verbose=0, warm_start=False)"
      ]
     },
     "execution_count": 476,
     "metadata": {},
     "output_type": "execute_result"
    }
   ],
   "source": [
    "lm = linear_model.LogisticRegression()\n",
    "lm.fit(job_city_pipe.fit_transform(X_train),y_train)"
   ]
  },
  {
   "cell_type": "code",
   "execution_count": 477,
   "metadata": {
    "collapsed": false
   },
   "outputs": [
    {
     "data": {
      "text/plain": [
       "array([[ 0.38391433,  0.01650927,  1.21669559,  0.07640578,  1.27624656,\n",
       "        -0.0796461 , -0.43507449, -1.01412325,  0.14615706, -0.53726117,\n",
       "         0.33910272,  0.86949688,  1.14522243, -0.39497192, -0.92184006,\n",
       "        -1.27361291,  1.08194036,  1.24479266, -0.60365513, -1.24142493,\n",
       "        -1.52445526]])"
      ]
     },
     "execution_count": 477,
     "metadata": {},
     "output_type": "execute_result"
    }
   ],
   "source": [
    "lm.coef_"
   ]
  },
  {
   "cell_type": "code",
   "execution_count": 479,
   "metadata": {
    "collapsed": false
   },
   "outputs": [
    {
     "data": {
      "text/plain": [
       "Index([u'job_city_atlanta', u'job_city_austin', u'job_city_boston',\n",
       "       u'job_city_cambridge', u'job_city_chicago', u'job_city_dallas',\n",
       "       u'job_city_denver', u'job_city_houston', u'job_city_los+angeles',\n",
       "       u'job_city_miami', u'job_city_new+york', u'job_city_palo+alto',\n",
       "       u'job_city_philadelphia', u'job_city_phoenix', u'job_city_pittsburgh',\n",
       "       u'job_city_portland', u'job_city_san+diego', u'job_city_san+francisco',\n",
       "       u'job_city_seattle', u'job_city_st.+louis', u'job_city_washington'],\n",
       "      dtype='object')"
      ]
     },
     "execution_count": 479,
     "metadata": {},
     "output_type": "execute_result"
    }
   ],
   "source": [
    "job_city_pipe.fit_transform(X_train).columns"
   ]
  },
  {
   "cell_type": "code",
   "execution_count": 488,
   "metadata": {
    "collapsed": true
   },
   "outputs": [],
   "source": [
    "coeff_tuple = zip(job_city_pipe.fit_transform(X_train).columns, lm.coef_[0])"
   ]
  },
  {
   "cell_type": "code",
   "execution_count": 492,
   "metadata": {
    "collapsed": false
   },
   "outputs": [],
   "source": [
    "import operator\n",
    "\n",
    "coeff_tuple.sort(key=operator.itemgetter(1), reverse=True)"
   ]
  },
  {
   "cell_type": "code",
   "execution_count": 493,
   "metadata": {
    "collapsed": false
   },
   "outputs": [
    {
     "data": {
      "text/plain": [
       "[('job_city_chicago', 1.2762465588286407),\n",
       " ('job_city_san+francisco', 1.2447926637099176),\n",
       " ('job_city_boston', 1.2166955852551957),\n",
       " ('job_city_philadelphia', 1.1452224328462397),\n",
       " ('job_city_san+diego', 1.0819403601602604),\n",
       " ('job_city_palo+alto', 0.86949687662216391),\n",
       " ('job_city_atlanta', 0.38391433457854901),\n",
       " ('job_city_new+york', 0.33910271789441326),\n",
       " ('job_city_los+angeles', 0.14615706294583586),\n",
       " ('job_city_cambridge', 0.076405780969927575),\n",
       " ('job_city_austin', 0.016509267458983422),\n",
       " ('job_city_dallas', -0.079646095272128625),\n",
       " ('job_city_phoenix', -0.39497191968407253),\n",
       " ('job_city_denver', -0.43507449433271062),\n",
       " ('job_city_miami', -0.53726117220347691),\n",
       " ('job_city_seattle', -0.6036551264854878),\n",
       " ('job_city_pittsburgh', -0.92184005888751841),\n",
       " ('job_city_houston', -1.0141232491515897),\n",
       " ('job_city_st.+louis', -1.2414249252418996),\n",
       " ('job_city_portland', -1.2736129059385481),\n",
       " ('job_city_washington', -1.5244552612434616)]"
      ]
     },
     "execution_count": 493,
     "metadata": {},
     "output_type": "execute_result"
    }
   ],
   "source": [
    "coeff_tuple"
   ]
  },
  {
   "cell_type": "code",
   "execution_count": 494,
   "metadata": {
    "collapsed": false
   },
   "outputs": [],
   "source": [
    "#for i,j in zip(job_city_pipe.fit_transform(X_train).columns, lm.coef_[0]):\n",
    "#    print i.replace('job_city_',''), j"
   ]
  },
  {
   "cell_type": "markdown",
   "metadata": {},
   "source": [
    "### This tells which city is positively or negatively correlated with higher or lower salaries. So, a big positive number means more higher paying jobs. Chicago, San Francisco, and Boston have all the high paying jobs."
   ]
  },
  {
   "cell_type": "code",
   "execution_count": null,
   "metadata": {
    "collapsed": true
   },
   "outputs": [],
   "source": []
  },
  {
   "cell_type": "markdown",
   "metadata": {
    "focus": false,
    "id": "0ef04f32-419c-4bf2-baf7-48201f03df89"
   },
   "source": [
    "#### Create a few new variables in your dataframe to represent interesting features of a job title.\n",
    "- For example, create a feature that represents whether 'Senior' is in the title \n",
    "- or whether 'Manager' is in the title. \n",
    "- Then build a new Logistic Regression model with these features. Do they add any value? \n"
   ]
  },
  {
   "cell_type": "code",
   "execution_count": 18,
   "metadata": {
    "collapsed": false,
    "focus": false,
    "id": "068dc1cf-7fd7-4f27-a1f1-7f0a5a221d29"
   },
   "outputs": [],
   "source": [
    "## YOUR CODE HERE"
   ]
  },
  {
   "cell_type": "code",
   "execution_count": 324,
   "metadata": {
    "collapsed": false
   },
   "outputs": [],
   "source": []
  },
  {
   "cell_type": "code",
   "execution_count": 542,
   "metadata": {
    "collapsed": true
   },
   "outputs": [],
   "source": [
    "is_managerial_pipe = make_pipeline(ColumnSelector('is_managerial'))"
   ]
  },
  {
   "cell_type": "code",
   "execution_count": 543,
   "metadata": {
    "collapsed": false
   },
   "outputs": [
    {
     "data": {
      "text/html": [
       "<div>\n",
       "<table border=\"1\" class=\"dataframe\">\n",
       "  <thead>\n",
       "    <tr style=\"text-align: right;\">\n",
       "      <th></th>\n",
       "      <th>company</th>\n",
       "      <th>job_city</th>\n",
       "      <th>job_title</th>\n",
       "      <th>is_managerial</th>\n",
       "    </tr>\n",
       "  </thead>\n",
       "  <tbody>\n",
       "    <tr>\n",
       "      <th>56576</th>\n",
       "      <td>washington state patrol</td>\n",
       "      <td>washington</td>\n",
       "      <td>office assistant 3 - criminal records di...</td>\n",
       "      <td>False</td>\n",
       "    </tr>\n",
       "    <tr>\n",
       "      <th>66272</th>\n",
       "      <td>s &amp; s professional services</td>\n",
       "      <td>st.+louis</td>\n",
       "      <td>global environmental data scientist</td>\n",
       "      <td>False</td>\n",
       "    </tr>\n",
       "    <tr>\n",
       "      <th>27209</th>\n",
       "      <td>the university of pittsburgh</td>\n",
       "      <td>pittsburgh</td>\n",
       "      <td>laboratory technician</td>\n",
       "      <td>False</td>\n",
       "    </tr>\n",
       "    <tr>\n",
       "      <th>24750</th>\n",
       "      <td>centers for disease control and prevention</td>\n",
       "      <td>atlanta</td>\n",
       "      <td>health scientist</td>\n",
       "      <td>False</td>\n",
       "    </tr>\n",
       "    <tr>\n",
       "      <th>33708</th>\n",
       "      <td>maricopa county, az</td>\n",
       "      <td>phoenix</td>\n",
       "      <td>public health scientist</td>\n",
       "      <td>False</td>\n",
       "    </tr>\n",
       "  </tbody>\n",
       "</table>\n",
       "</div>"
      ],
      "text/plain": [
       "                                          company    job_city  \\\n",
       "56576                     washington state patrol  washington   \n",
       "66272                 s & s professional services   st.+louis   \n",
       "27209                the university of pittsburgh  pittsburgh   \n",
       "24750  centers for disease control and prevention     atlanta   \n",
       "33708                         maricopa county, az     phoenix   \n",
       "\n",
       "                                         job_title is_managerial  \n",
       "56576  office assistant 3 - criminal records di...         False  \n",
       "66272          global environmental data scientist         False  \n",
       "27209                        laboratory technician         False  \n",
       "24750                             health scientist         False  \n",
       "33708                      public health scientist         False  "
      ]
     },
     "execution_count": 543,
     "metadata": {},
     "output_type": "execute_result"
    }
   ],
   "source": [
    "X_train.head()"
   ]
  },
  {
   "cell_type": "code",
   "execution_count": 544,
   "metadata": {
    "collapsed": true
   },
   "outputs": [],
   "source": [
    "union4 = make_union(company_vec_pipe, job_city_vec_pipe, job_title_vec_pipe, is_managerial_pipe)"
   ]
  },
  {
   "cell_type": "code",
   "execution_count": 545,
   "metadata": {
    "collapsed": true
   },
   "outputs": [],
   "source": [
    "grid_search_senior_pipe = make_pipeline(union4, linear_model.LogisticRegression())"
   ]
  },
  {
   "cell_type": "code",
   "execution_count": 546,
   "metadata": {
    "collapsed": true
   },
   "outputs": [],
   "source": [
    "param_grid_senior = {\n",
    "    'featureunion__pipeline-1__countvectorizer__ngram_range': [(1,1), (1,2), (2,2)],\n",
    "   # 'featureunion__pipeline-1__countvectorizer__lowercase': [True, False],\n",
    "    'featureunion__pipeline-1__countvectorizer__max_df': [0.7, 0.8, 0.9],\n",
    "    'featureunion__pipeline-1__countvectorizer__max_features': [None, 10, 15],\n",
    "    'logisticregression__C': [0.01, 0.1, 1.0, 10.0, 100.0, 1000.0],\n",
    "    'logisticregression__fit_intercept': [True, False],\n",
    "    'logisticregression__penalty': ['l1', 'l2']    \n",
    "}"
   ]
  },
  {
   "cell_type": "code",
   "execution_count": 547,
   "metadata": {
    "collapsed": true
   },
   "outputs": [],
   "source": [
    "gs_senior = grid_search.GridSearchCV(grid_search_senior_pipe, param_grid=param_grid_senior, cv=cv, verbose=1, n_jobs=-1)"
   ]
  },
  {
   "cell_type": "code",
   "execution_count": 548,
   "metadata": {
    "collapsed": false
   },
   "outputs": [
    {
     "name": "stdout",
     "output_type": "stream",
     "text": [
      "Fitting 5 folds for each of 648 candidates, totalling 3240 fits\n"
     ]
    },
    {
     "name": "stderr",
     "output_type": "stream",
     "text": [
      "[Parallel(n_jobs=-1)]: Done  49 tasks       | elapsed:    2.9s\n",
      "[Parallel(n_jobs=-1)]: Done 199 tasks       | elapsed:   11.9s\n",
      "[Parallel(n_jobs=-1)]: Done 449 tasks       | elapsed:   25.6s\n",
      "[Parallel(n_jobs=-1)]: Done 799 tasks       | elapsed:   43.8s\n",
      "[Parallel(n_jobs=-1)]: Done 1249 tasks       | elapsed:  1.1min\n",
      "[Parallel(n_jobs=-1)]: Done 1799 tasks       | elapsed:  1.6min\n",
      "[Parallel(n_jobs=-1)]: Done 2449 tasks       | elapsed:  2.2min\n",
      "[Parallel(n_jobs=-1)]: Done 3199 tasks       | elapsed:  2.8min\n",
      "[Parallel(n_jobs=-1)]: Done 3240 out of 3240 | elapsed:  2.9min finished\n"
     ]
    },
    {
     "data": {
      "text/plain": [
       "GridSearchCV(cv=sklearn.cross_validation.KFold(n=484, n_folds=5, shuffle=True, random_state=None),\n",
       "       error_score='raise',\n",
       "       estimator=Pipeline(steps=[('featureunion', FeatureUnion(n_jobs=1,\n",
       "       transformer_list=[('pipeline-1', Pipeline(steps=[('selectonecolumn', SelectOneColumn(column='company')), ('countvectorizer', CountVectorizer(analyzer=u'word', binary=False, decode_error=u'strict',\n",
       "        dtype=<type 'numpy.int64'>, encoding=u'ut...ty='l2', random_state=None, solver='liblinear', tol=0.0001,\n",
       "          verbose=0, warm_start=False))]),\n",
       "       fit_params={}, iid=True, n_jobs=-1,\n",
       "       param_grid={'logisticregression__penalty': ['l1', 'l2'], 'logisticregression__C': [0.01, 0.1, 1.0, 10.0, 100.0, 1000.0], 'featureunion__pipeline-1__countvectorizer__ngram_range': [(1, 1), (1, 2), (2, 2)], 'featureunion__pipeline-1__countvectorizer__max_features': [None, 10, 15], 'featureunion__pipeline-1__countvectorizer__max_df': [0.7, 0.8, 0.9], 'logisticregression__fit_intercept': [True, False]},\n",
       "       pre_dispatch='2*n_jobs', refit=True, scoring=None, verbose=1)"
      ]
     },
     "execution_count": 548,
     "metadata": {},
     "output_type": "execute_result"
    }
   ],
   "source": [
    "gs_senior.fit(X_train, y_train)"
   ]
  },
  {
   "cell_type": "code",
   "execution_count": 549,
   "metadata": {
    "collapsed": false
   },
   "outputs": [
    {
     "data": {
      "text/plain": [
       "Pipeline(steps=[('featureunion', FeatureUnion(n_jobs=1,\n",
       "       transformer_list=[('pipeline-1', Pipeline(steps=[('selectonecolumn', SelectOneColumn(column='company')), ('countvectorizer', CountVectorizer(analyzer=u'word', binary=False, decode_error=u'strict',\n",
       "        dtype=<type 'numpy.int64'>, encoding=u'ut...ty='l2', random_state=None, solver='liblinear', tol=0.0001,\n",
       "          verbose=0, warm_start=False))])"
      ]
     },
     "execution_count": 549,
     "metadata": {},
     "output_type": "execute_result"
    }
   ],
   "source": [
    "gs_senior.best_estimator_"
   ]
  },
  {
   "cell_type": "code",
   "execution_count": 550,
   "metadata": {
    "collapsed": false
   },
   "outputs": [
    {
     "data": {
      "text/plain": [
       "{'featureunion__pipeline-1__countvectorizer__max_df': 0.7,\n",
       " 'featureunion__pipeline-1__countvectorizer__max_features': None,\n",
       " 'featureunion__pipeline-1__countvectorizer__ngram_range': (1, 1),\n",
       " 'logisticregression__C': 1.0,\n",
       " 'logisticregression__fit_intercept': True,\n",
       " 'logisticregression__penalty': 'l2'}"
      ]
     },
     "execution_count": 550,
     "metadata": {},
     "output_type": "execute_result"
    }
   ],
   "source": [
    "gs_senior.best_params_"
   ]
  },
  {
   "cell_type": "code",
   "execution_count": 551,
   "metadata": {
    "collapsed": false
   },
   "outputs": [
    {
     "data": {
      "text/plain": [
       "0.83884297520661155"
      ]
     },
     "execution_count": 551,
     "metadata": {},
     "output_type": "execute_result"
    }
   ],
   "source": [
    "gs_senior.best_score_"
   ]
  },
  {
   "cell_type": "markdown",
   "metadata": {},
   "source": [
    "### Slightly better vs the 0.834 for the all vectorized 3 features non grid search"
   ]
  },
  {
   "cell_type": "code",
   "execution_count": null,
   "metadata": {
    "collapsed": true
   },
   "outputs": [],
   "source": []
  },
  {
   "cell_type": "code",
   "execution_count": null,
   "metadata": {
    "collapsed": true
   },
   "outputs": [],
   "source": []
  },
  {
   "cell_type": "code",
   "execution_count": null,
   "metadata": {
    "collapsed": true
   },
   "outputs": [],
   "source": []
  },
  {
   "cell_type": "markdown",
   "metadata": {
    "focus": false,
    "id": "9c9274ef-c9f5-4d56-b286-ecc8709eff9f"
   },
   "source": [
    "#### Rebuild this model with scikit-learn.\n",
    "- You can either create the dummy features manually or use the `dmatrix` function from `patsy`\n",
    "- Remember to scale the feature variables as well!\n"
   ]
  },
  {
   "cell_type": "code",
   "execution_count": 19,
   "metadata": {
    "collapsed": false,
    "focus": false,
    "id": "b76f65cd-cd3a-4e91-af55-12880be7b057"
   },
   "outputs": [],
   "source": [
    "## YOUR CODE HERE"
   ]
  },
  {
   "cell_type": "markdown",
   "metadata": {
    "focus": false,
    "id": "9367beff-72ba-4768-a0ba-a50b335de61d"
   },
   "source": [
    "#### Use cross-validation in scikit-learn to evaluate the model above. \n",
    "- Evaluate the accuracy, AUC, precision and recall of the model. \n",
    "- Discuss the differences and explain when you want a high-recall or a high-precision model in this scenario."
   ]
  },
  {
   "cell_type": "code",
   "execution_count": 20,
   "metadata": {
    "collapsed": false,
    "focus": false,
    "id": "269b9e7c-60b5-4a06-8255-881d7395bc1b"
   },
   "outputs": [],
   "source": [
    "## YOUR CODE HERE"
   ]
  },
  {
   "cell_type": "code",
   "execution_count": 439,
   "metadata": {
    "collapsed": true
   },
   "outputs": [],
   "source": [
    "est = gs.best_estimator_"
   ]
  },
  {
   "cell_type": "code",
   "execution_count": 440,
   "metadata": {
    "collapsed": false
   },
   "outputs": [
    {
     "data": {
      "text/plain": [
       "Pipeline(steps=[('featureunion', FeatureUnion(n_jobs=1,\n",
       "       transformer_list=[('pipeline-1', Pipeline(steps=[('selectonecolumn', SelectOneColumn(column='company')), ('countvectorizer', CountVectorizer(analyzer=u'word', binary=False, decode_error=u'strict',\n",
       "        dtype=<type 'numpy.int64'>, encoding=u'ut...ty='l2', random_state=None, solver='liblinear', tol=0.0001,\n",
       "          verbose=0, warm_start=False))])"
      ]
     },
     "execution_count": 440,
     "metadata": {},
     "output_type": "execute_result"
    }
   ],
   "source": [
    "est.fit(X_train, y_train)"
   ]
  },
  {
   "cell_type": "code",
   "execution_count": 441,
   "metadata": {
    "collapsed": false
   },
   "outputs": [
    {
     "data": {
      "text/plain": [
       "0.82211538461538458"
      ]
     },
     "execution_count": 441,
     "metadata": {},
     "output_type": "execute_result"
    }
   ],
   "source": [
    "est.score(X_test, y_test)"
   ]
  },
  {
   "cell_type": "code",
   "execution_count": 442,
   "metadata": {
    "collapsed": false
   },
   "outputs": [
    {
     "data": {
      "text/plain": [
       "0.82211538461538458"
      ]
     },
     "execution_count": 442,
     "metadata": {},
     "output_type": "execute_result"
    }
   ],
   "source": [
    "gs.score(X_test, y_test)"
   ]
  },
  {
   "cell_type": "code",
   "execution_count": null,
   "metadata": {
    "collapsed": true
   },
   "outputs": [],
   "source": []
  },
  {
   "cell_type": "code",
   "execution_count": 419,
   "metadata": {
    "collapsed": true
   },
   "outputs": [],
   "source": [
    "y_pred = gs.predict(X_test)"
   ]
  },
  {
   "cell_type": "code",
   "execution_count": 420,
   "metadata": {
    "collapsed": false
   },
   "outputs": [
    {
     "name": "stdout",
     "output_type": "stream",
     "text": [
      "             predicted_high_salary  predicted_low_salary\n",
      "high_salary                     92                    23\n",
      "low_salary                      14                    79\n"
     ]
    }
   ],
   "source": [
    "conmat = np.array(confusion_matrix(y_test, y_pred, labels=[1,0]))\n",
    "\n",
    "confusion = pd.DataFrame(conmat, index=['high_salary', 'low_salary'],\n",
    "                         columns=['predicted_high_salary','predicted_low_salary'])\n",
    "\n",
    "print(confusion)"
   ]
  },
  {
   "cell_type": "code",
   "execution_count": 421,
   "metadata": {
    "collapsed": false
   },
   "outputs": [
    {
     "name": "stdout",
     "output_type": "stream",
     "text": [
      "0.822115384615\n"
     ]
    }
   ],
   "source": [
    "acc = accuracy_score(y_test, y_pred)\n",
    "print(acc)"
   ]
  },
  {
   "cell_type": "code",
   "execution_count": 422,
   "metadata": {
    "collapsed": false
   },
   "outputs": [
    {
     "name": "stdout",
     "output_type": "stream",
     "text": [
      "             precision    recall  f1-score   support\n",
      "\n",
      "      False       0.77      0.85      0.81        93\n",
      "       True       0.87      0.80      0.83       115\n",
      "\n",
      "avg / total       0.83      0.82      0.82       208\n",
      "\n"
     ]
    }
   ],
   "source": [
    "cls_rep = classification_report(y_test, y_pred)\n",
    "print(cls_rep)"
   ]
  },
  {
   "cell_type": "code",
   "execution_count": 423,
   "metadata": {
    "collapsed": false
   },
   "outputs": [
    {
     "data": {
      "image/png": "[encoded data removed]",
      "text/plain": [
       "<matplotlib.figure.Figure at 0x7f4946a44bd0>"
      ]
     },
     "metadata": {},
     "output_type": "display_data"
    }
   ],
   "source": [
    "y_score = gs.decision_function(X_test)\n",
    "\n",
    "FPR = dict()\n",
    "TPR = dict()\n",
    "ROC_AUC = dict()\n",
    "\n",
    "# For class 1, find the area under the curve\n",
    "FPR[1], TPR[1], _ = roc_curve(y_test, y_score)\n",
    "ROC_AUC[1] = auc(FPR[1], TPR[1])\n",
    "\n",
    "# Plot of a ROC curve for class 1 (has_cancer)\n",
    "plt.figure(figsize=[11,9])\n",
    "plt.plot(FPR[1], TPR[1], label='ROC curve (area = %0.2f)' % ROC_AUC[1], linewidth=4)\n",
    "plt.plot([0, 1], [0, 1], 'k--', linewidth=4)\n",
    "plt.xlim([0.0, 1.0])\n",
    "plt.ylim([0.0, 1.05])\n",
    "plt.xlabel('False Positive Rate', fontsize=18)\n",
    "plt.ylabel('True Positive Rate', fontsize=18)\n",
    "plt.title('Receiver operating characteristic for high/low salary detection', fontsize=18)\n",
    "plt.legend(loc=\"lower right\")\n",
    "plt.show()"
   ]
  },
  {
   "cell_type": "markdown",
   "metadata": {},
   "source": [
    "### This is a high precision and low recall model"
   ]
  },
  {
   "cell_type": "code",
   "execution_count": null,
   "metadata": {
    "collapsed": true
   },
   "outputs": [],
   "source": []
  },
  {
   "cell_type": "code",
   "execution_count": null,
   "metadata": {
    "collapsed": true
   },
   "outputs": [],
   "source": []
  },
  {
   "cell_type": "markdown",
   "metadata": {
    "focus": false,
    "id": "8c22664b-92e4-4fc2-b7ac-fbac865845d3"
   },
   "source": [
    "#### Compare L1 and L2 regularization for this logistic regression model. What effect does this have on the coefficients learned?"
   ]
  },
  {
   "cell_type": "code",
   "execution_count": 21,
   "metadata": {
    "collapsed": false,
    "focus": false,
    "id": "172fd952-5012-4630-81f4-1206da6eb820"
   },
   "outputs": [],
   "source": [
    "## YOUR CODE HERE"
   ]
  },
  {
   "cell_type": "code",
   "execution_count": 22,
   "metadata": {
    "collapsed": false,
    "focus": false,
    "id": "56cc8854-d722-411d-a6c7-e86310710f67"
   },
   "outputs": [],
   "source": [
    "## YOUR CODE HERE"
   ]
  },
  {
   "cell_type": "markdown",
   "metadata": {
    "focus": false,
    "id": "fead9b5b-7316-405d-87fd-e144dff0cbeb"
   },
   "source": [
    "#### Continue to incorporate other text features from the title or summary that you believe will predict the salary and examine their coefficients"
   ]
  },
  {
   "cell_type": "code",
   "execution_count": null,
   "metadata": {
    "collapsed": true
   },
   "outputs": [],
   "source": []
  },
  {
   "cell_type": "code",
   "execution_count": null,
   "metadata": {
    "collapsed": true
   },
   "outputs": [],
   "source": []
  },
  {
   "cell_type": "code",
   "execution_count": null,
   "metadata": {
    "collapsed": true
   },
   "outputs": [],
   "source": []
  },
  {
   "cell_type": "markdown",
   "metadata": {
    "focus": false,
    "id": "12d5edeb-a272-43a0-9977-d951f12fedfb"
   },
   "source": [
    "#### Take ~100 scraped entries with salaries. Convert them to use with your model and predict the salary - which entries have the highest predicted salaries?"
   ]
  },
  {
   "cell_type": "code",
   "execution_count": 433,
   "metadata": {
    "collapsed": true
   },
   "outputs": [],
   "source": [
    "df_test_set = X_test.copy()\n",
    "df_test_set['is_high_salary'] = y_pred"
   ]
  },
  {
   "cell_type": "code",
   "execution_count": null,
   "metadata": {
    "collapsed": true
   },
   "outputs": [],
   "source": []
  },
  {
   "cell_type": "code",
   "execution_count": 446,
   "metadata": {
    "collapsed": false
   },
   "outputs": [],
   "source": [
    "df_test_set = pd.merge(df_test_set, df_sal[['salary_calc']], how='left', left_index=True, right_index=True)"
   ]
  },
  {
   "cell_type": "code",
   "execution_count": 449,
   "metadata": {
    "collapsed": false
   },
   "outputs": [
    {
     "data": {
      "text/html": [
       "<div>\n",
       "<table border=\"1\" class=\"dataframe\">\n",
       "  <thead>\n",
       "    <tr style=\"text-align: right;\">\n",
       "      <th></th>\n",
       "      <th>company</th>\n",
       "      <th>job_city</th>\n",
       "      <th>job_title</th>\n",
       "      <th>is_managerial</th>\n",
       "      <th>is_high_salary</th>\n",
       "      <th>salary_calc</th>\n",
       "    </tr>\n",
       "  </thead>\n",
       "  <tbody>\n",
       "    <tr>\n",
       "      <th>157</th>\n",
       "      <td>harnham</td>\n",
       "      <td>new+york</td>\n",
       "      <td>chief data scientist - consulting</td>\n",
       "      <td>False</td>\n",
       "      <td>True</td>\n",
       "      <td>220000.0</td>\n",
       "    </tr>\n",
       "    <tr>\n",
       "      <th>24828</th>\n",
       "      <td>selby jennings</td>\n",
       "      <td>atlanta</td>\n",
       "      <td>statistical credit risk modeler | top performing investment bank</td>\n",
       "      <td>False</td>\n",
       "      <td>True</td>\n",
       "      <td>212500.0</td>\n",
       "    </tr>\n",
       "    <tr>\n",
       "      <th>237</th>\n",
       "      <td>datacom technology group</td>\n",
       "      <td>new+york</td>\n",
       "      <td>data scientist</td>\n",
       "      <td>False</td>\n",
       "      <td>True</td>\n",
       "      <td>200000.0</td>\n",
       "    </tr>\n",
       "    <tr>\n",
       "      <th>518</th>\n",
       "      <td>averity</td>\n",
       "      <td>new+york</td>\n",
       "      <td>senior/ lead data scientist for digital media company</td>\n",
       "      <td>True</td>\n",
       "      <td>True</td>\n",
       "      <td>200000.0</td>\n",
       "    </tr>\n",
       "    <tr>\n",
       "      <th>17086</th>\n",
       "      <td>harnham</td>\n",
       "      <td>los+angeles</td>\n",
       "      <td>vp of analytics - los angeles - r, models, media entertainment</td>\n",
       "      <td>False</td>\n",
       "      <td>True</td>\n",
       "      <td>200000.0</td>\n",
       "    </tr>\n",
       "    <tr>\n",
       "      <th>43450</th>\n",
       "      <td>njf search</td>\n",
       "      <td>boston</td>\n",
       "      <td>software engineer - machine learning team</td>\n",
       "      <td>False</td>\n",
       "      <td>True</td>\n",
       "      <td>200000.0</td>\n",
       "    </tr>\n",
       "    <tr>\n",
       "      <th>425</th>\n",
       "      <td>green key resources</td>\n",
       "      <td>new+york</td>\n",
       "      <td>data analysis specialist</td>\n",
       "      <td>False</td>\n",
       "      <td>False</td>\n",
       "      <td>195000.0</td>\n",
       "    </tr>\n",
       "    <tr>\n",
       "      <th>14764</th>\n",
       "      <td>all-in analytics</td>\n",
       "      <td>seattle</td>\n",
       "      <td>senior business intelligence data scientist</td>\n",
       "      <td>True</td>\n",
       "      <td>True</td>\n",
       "      <td>190000.0</td>\n",
       "    </tr>\n",
       "    <tr>\n",
       "      <th>14886</th>\n",
       "      <td>all-in analytics</td>\n",
       "      <td>seattle</td>\n",
       "      <td>senior business intelligence scientist</td>\n",
       "      <td>True</td>\n",
       "      <td>True</td>\n",
       "      <td>190000.0</td>\n",
       "    </tr>\n",
       "    <tr>\n",
       "      <th>61766</th>\n",
       "      <td>jobspring partners</td>\n",
       "      <td>palo+alto</td>\n",
       "      <td>sr. software engineer-machine learning</td>\n",
       "      <td>False</td>\n",
       "      <td>True</td>\n",
       "      <td>187500.0</td>\n",
       "    </tr>\n",
       "    <tr>\n",
       "      <th>62020</th>\n",
       "      <td>redolent, inc</td>\n",
       "      <td>palo+alto</td>\n",
       "      <td>engineering manager - big data algorithms &amp; core engineering</td>\n",
       "      <td>True</td>\n",
       "      <td>True</td>\n",
       "      <td>185000.0</td>\n",
       "    </tr>\n",
       "    <tr>\n",
       "      <th>5355</th>\n",
       "      <td>workbridge associates</td>\n",
       "      <td>chicago</td>\n",
       "      <td>manager of data science (python, r)</td>\n",
       "      <td>True</td>\n",
       "      <td>True</td>\n",
       "      <td>185000.0</td>\n",
       "    </tr>\n",
       "    <tr>\n",
       "      <th>7832</th>\n",
       "      <td>jobspring partners</td>\n",
       "      <td>san+francisco</td>\n",
       "      <td>devops (saas/machine learning) manager</td>\n",
       "      <td>True</td>\n",
       "      <td>True</td>\n",
       "      <td>180000.0</td>\n",
       "    </tr>\n",
       "    <tr>\n",
       "      <th>17327</th>\n",
       "      <td>lt</td>\n",
       "      <td>los+angeles</td>\n",
       "      <td>senior qa engineer</td>\n",
       "      <td>True</td>\n",
       "      <td>True</td>\n",
       "      <td>180000.0</td>\n",
       "    </tr>\n",
       "    <tr>\n",
       "      <th>566</th>\n",
       "      <td>execu | search</td>\n",
       "      <td>new+york</td>\n",
       "      <td>quantitative analyst - portfolio research</td>\n",
       "      <td>False</td>\n",
       "      <td>False</td>\n",
       "      <td>175000.0</td>\n",
       "    </tr>\n",
       "    <tr>\n",
       "      <th>432</th>\n",
       "      <td>averity</td>\n",
       "      <td>new+york</td>\n",
       "      <td>data engineer for $100b manager ($200k+benefits)</td>\n",
       "      <td>True</td>\n",
       "      <td>True</td>\n",
       "      <td>175000.0</td>\n",
       "    </tr>\n",
       "    <tr>\n",
       "      <th>61318</th>\n",
       "      <td>jobspring partners</td>\n",
       "      <td>palo+alto</td>\n",
       "      <td>data scientist</td>\n",
       "      <td>False</td>\n",
       "      <td>True</td>\n",
       "      <td>170000.0</td>\n",
       "    </tr>\n",
       "    <tr>\n",
       "      <th>793</th>\n",
       "      <td>selby jennings</td>\n",
       "      <td>new+york</td>\n",
       "      <td>senior data scientist</td>\n",
       "      <td>True</td>\n",
       "      <td>True</td>\n",
       "      <td>170000.0</td>\n",
       "    </tr>\n",
       "    <tr>\n",
       "      <th>7574</th>\n",
       "      <td>workbridge associates</td>\n",
       "      <td>san+francisco</td>\n",
       "      <td>senior data scientist (autonomous vehicle research)</td>\n",
       "      <td>True</td>\n",
       "      <td>True</td>\n",
       "      <td>170000.0</td>\n",
       "    </tr>\n",
       "    <tr>\n",
       "      <th>5344</th>\n",
       "      <td>workbridge associates</td>\n",
       "      <td>chicago</td>\n",
       "      <td>director of data analytics</td>\n",
       "      <td>False</td>\n",
       "      <td>True</td>\n",
       "      <td>170000.0</td>\n",
       "    </tr>\n",
       "  </tbody>\n",
       "</table>\n",
       "</div>"
      ],
      "text/plain": [
       "                        company       job_city  \\\n",
       "157                     harnham       new+york   \n",
       "24828            selby jennings        atlanta   \n",
       "237    datacom technology group       new+york   \n",
       "518                     averity       new+york   \n",
       "17086                   harnham    los+angeles   \n",
       "43450                njf search         boston   \n",
       "425         green key resources       new+york   \n",
       "14764          all-in analytics        seattle   \n",
       "14886          all-in analytics        seattle   \n",
       "61766        jobspring partners      palo+alto   \n",
       "62020             redolent, inc      palo+alto   \n",
       "5355      workbridge associates        chicago   \n",
       "7832         jobspring partners  san+francisco   \n",
       "17327                        lt    los+angeles   \n",
       "566              execu | search       new+york   \n",
       "432                     averity       new+york   \n",
       "61318        jobspring partners      palo+alto   \n",
       "793              selby jennings       new+york   \n",
       "7574      workbridge associates  san+francisco   \n",
       "5344      workbridge associates        chicago   \n",
       "\n",
       "                                                              job_title  \\\n",
       "157                                   chief data scientist - consulting   \n",
       "24828  statistical credit risk modeler | top performing investment bank   \n",
       "237                                                      data scientist   \n",
       "518               senior/ lead data scientist for digital media company   \n",
       "17086    vp of analytics - los angeles - r, models, media entertainment   \n",
       "43450                         software engineer - machine learning team   \n",
       "425                                            data analysis specialist   \n",
       "14764                       senior business intelligence data scientist   \n",
       "14886                            senior business intelligence scientist   \n",
       "61766                            sr. software engineer-machine learning   \n",
       "62020      engineering manager - big data algorithms & core engineering   \n",
       "5355                                manager of data science (python, r)   \n",
       "7832                             devops (saas/machine learning) manager   \n",
       "17327                                                senior qa engineer   \n",
       "566                           quantitative analyst - portfolio research   \n",
       "432                    data engineer for $100b manager ($200k+benefits)   \n",
       "61318                                                    data scientist   \n",
       "793                                               senior data scientist   \n",
       "7574                senior data scientist (autonomous vehicle research)   \n",
       "5344                                         director of data analytics   \n",
       "\n",
       "      is_managerial is_high_salary  salary_calc  \n",
       "157           False           True     220000.0  \n",
       "24828         False           True     212500.0  \n",
       "237           False           True     200000.0  \n",
       "518            True           True     200000.0  \n",
       "17086         False           True     200000.0  \n",
       "43450         False           True     200000.0  \n",
       "425           False          False     195000.0  \n",
       "14764          True           True     190000.0  \n",
       "14886          True           True     190000.0  \n",
       "61766         False           True     187500.0  \n",
       "62020          True           True     185000.0  \n",
       "5355           True           True     185000.0  \n",
       "7832           True           True     180000.0  \n",
       "17327          True           True     180000.0  \n",
       "566           False          False     175000.0  \n",
       "432            True           True     175000.0  \n",
       "61318         False           True     170000.0  \n",
       "793            True           True     170000.0  \n",
       "7574           True           True     170000.0  \n",
       "5344          False           True     170000.0  "
      ]
     },
     "execution_count": 449,
     "metadata": {},
     "output_type": "execute_result"
    }
   ],
   "source": [
    "df_test_set.sort_values('salary_calc',ascending=False).head(20)"
   ]
  },
  {
   "cell_type": "code",
   "execution_count": 487,
   "metadata": {
    "collapsed": false
   },
   "outputs": [
    {
     "data": {
      "text/html": [
       "<div>\n",
       "<table border=\"1\" class=\"dataframe\">\n",
       "  <thead>\n",
       "    <tr style=\"text-align: right;\">\n",
       "      <th></th>\n",
       "      <th>company</th>\n",
       "      <th>job_city</th>\n",
       "      <th>job_title</th>\n",
       "      <th>is_managerial</th>\n",
       "      <th>is_high_salary</th>\n",
       "    </tr>\n",
       "  </thead>\n",
       "  <tbody>\n",
       "    <tr>\n",
       "      <th>15129</th>\n",
       "      <td>university of washington medical center</td>\n",
       "      <td>seattle</td>\n",
       "      <td>driver-warehouse worker</td>\n",
       "      <td>False</td>\n",
       "      <td>False</td>\n",
       "    </tr>\n",
       "    <tr>\n",
       "      <th>940</th>\n",
       "      <td>selby jennings</td>\n",
       "      <td>new+york</td>\n",
       "      <td>vp statistical analyst | top investment bank</td>\n",
       "      <td>False</td>\n",
       "      <td>True</td>\n",
       "    </tr>\n",
       "    <tr>\n",
       "      <th>312</th>\n",
       "      <td>hra/dept of social services</td>\n",
       "      <td>new+york</td>\n",
       "      <td>data research coordinator</td>\n",
       "      <td>False</td>\n",
       "      <td>False</td>\n",
       "    </tr>\n",
       "    <tr>\n",
       "      <th>5238</th>\n",
       "      <td>smith hanley associates</td>\n",
       "      <td>chicago</td>\n",
       "      <td>statistical analyst</td>\n",
       "      <td>False</td>\n",
       "      <td>True</td>\n",
       "    </tr>\n",
       "    <tr>\n",
       "      <th>17089</th>\n",
       "      <td>north orange county community college district</td>\n",
       "      <td>los+angeles</td>\n",
       "      <td>research analyst</td>\n",
       "      <td>False</td>\n",
       "      <td>False</td>\n",
       "    </tr>\n",
       "  </tbody>\n",
       "</table>\n",
       "</div>"
      ],
      "text/plain": [
       "                                              company     job_city  \\\n",
       "15129         university of washington medical center      seattle   \n",
       "940                                    selby jennings     new+york   \n",
       "312                       hra/dept of social services     new+york   \n",
       "5238                          smith hanley associates      chicago   \n",
       "17089  north orange county community college district  los+angeles   \n",
       "\n",
       "                                          job_title is_managerial  \\\n",
       "15129                       driver-warehouse worker         False   \n",
       "940    vp statistical analyst | top investment bank         False   \n",
       "312                       data research coordinator         False   \n",
       "5238                            statistical analyst         False   \n",
       "17089                              research analyst         False   \n",
       "\n",
       "      is_high_salary  \n",
       "15129          False  \n",
       "940             True  \n",
       "312            False  \n",
       "5238            True  \n",
       "17089          False  "
      ]
     },
     "execution_count": 487,
     "metadata": {},
     "output_type": "execute_result"
    }
   ],
   "source": [
    "X_test.head()"
   ]
  },
  {
   "cell_type": "code",
   "execution_count": 528,
   "metadata": {
    "collapsed": false
   },
   "outputs": [
    {
     "data": {
      "text/plain": [
       "array([False], dtype=bool)"
      ]
     },
     "execution_count": 528,
     "metadata": {},
     "output_type": "execute_result"
    }
   ],
   "source": [
    "job_test = pd.DataFrame([[\"watever company\",\"slump\",\"fake job\"]], columns=['company','job_city','job_title'])\n",
    "gs.predict(job_test)"
   ]
  },
  {
   "cell_type": "code",
   "execution_count": 529,
   "metadata": {
    "collapsed": false
   },
   "outputs": [
    {
     "data": {
      "text/plain": [
       "array([False], dtype=bool)"
      ]
     },
     "execution_count": 529,
     "metadata": {},
     "output_type": "execute_result"
    }
   ],
   "source": [
    "job_test = pd.DataFrame([[\"watever company\",\"chicago\",\"fake job\"]], columns=['company','job_city','job_title'])\n",
    "gs.predict(job_test)"
   ]
  },
  {
   "cell_type": "code",
   "execution_count": 552,
   "metadata": {
    "collapsed": false
   },
   "outputs": [
    {
     "data": {
      "text/plain": [
       "array([ True], dtype=bool)"
      ]
     },
     "execution_count": 552,
     "metadata": {},
     "output_type": "execute_result"
    }
   ],
   "source": [
    "job_test = pd.DataFrame([[\"watever company\",\"slump\",\"senior fake job\"]], columns=['company','job_city','job_title'])\n",
    "gs.predict(job_test)"
   ]
  },
  {
   "cell_type": "code",
   "execution_count": 532,
   "metadata": {
    "collapsed": false
   },
   "outputs": [
    {
     "data": {
      "text/plain": [
       "array([ True], dtype=bool)"
      ]
     },
     "execution_count": 532,
     "metadata": {},
     "output_type": "execute_result"
    }
   ],
   "source": [
    "job_test = pd.DataFrame([[\"workbridge associates\",\"chicago\",\"fake job\"]], columns=['company','job_city','job_title'])\n",
    "gs.predict(job_test)"
   ]
  },
  {
   "cell_type": "markdown",
   "metadata": {},
   "source": [
    "### Whoa, it seems workbridge asscoiates has all the great jobs, even it is a fake one and work in a slump!"
   ]
  },
  {
   "cell_type": "code",
   "execution_count": 533,
   "metadata": {
    "collapsed": false
   },
   "outputs": [
    {
     "data": {
      "text/plain": [
       "array([ True], dtype=bool)"
      ]
     },
     "execution_count": 533,
     "metadata": {},
     "output_type": "execute_result"
    }
   ],
   "source": [
    "job_test = pd.DataFrame([[\"workbridge associates\",\"slump\",\"fake job\"]], columns=['company','job_city','job_title'])\n",
    "gs.predict(job_test)"
   ]
  },
  {
   "cell_type": "code",
   "execution_count": 537,
   "metadata": {
    "collapsed": false
   },
   "outputs": [
    {
     "data": {
      "text/plain": [
       "array([False], dtype=bool)"
      ]
     },
     "execution_count": 537,
     "metadata": {},
     "output_type": "execute_result"
    }
   ],
   "source": [
    "job_test = pd.DataFrame([[\"selby jennings\",\"slump\",\"fake job\"]], columns=['company','job_city','job_title'])\n",
    "gs.predict(job_test)"
   ]
  },
  {
   "cell_type": "code",
   "execution_count": 541,
   "metadata": {
    "collapsed": false
   },
   "outputs": [
    {
     "data": {
      "text/plain": [
       "array([ True], dtype=bool)"
      ]
     },
     "execution_count": 541,
     "metadata": {},
     "output_type": "execute_result"
    }
   ],
   "source": [
    "job_test = pd.DataFrame([[\"watever associates\",\"slump\",\"fake job\"]], columns=['company','job_city','job_title'])\n",
    "gs.predict(job_test)"
   ]
  },
  {
   "cell_type": "markdown",
   "metadata": {},
   "source": [
    "### Oops, it is this magical 'associates' which is special for the hiring company..."
   ]
  },
  {
   "cell_type": "code",
   "execution_count": 534,
   "metadata": {
    "collapsed": false
   },
   "outputs": [
    {
     "data": {
      "text/plain": [
       "array([ True], dtype=bool)"
      ]
     },
     "execution_count": 534,
     "metadata": {},
     "output_type": "execute_result"
    }
   ],
   "source": [
    "job_test = pd.DataFrame([[\"watever company\",\"slump\",\"manager\"]], columns=['company','job_city','job_title'])\n",
    "gs.predict(job_test)"
   ]
  },
  {
   "cell_type": "code",
   "execution_count": null,
   "metadata": {
    "collapsed": true
   },
   "outputs": [],
   "source": []
  },
  {
   "cell_type": "code",
   "execution_count": 525,
   "metadata": {
    "collapsed": false
   },
   "outputs": [
    {
     "data": {
      "text/plain": [
       "workbridge associates            25\n",
       "jobspring partners               23\n",
       "state of washington              22\n",
       "university of texas at austin    19\n",
       "washington state government      18\n",
       "Name: company, dtype: int64"
      ]
     },
     "execution_count": 525,
     "metadata": {},
     "output_type": "execute_result"
    }
   ],
   "source": [
    "X_train.company.value_counts().head()"
   ]
  },
  {
   "cell_type": "code",
   "execution_count": null,
   "metadata": {
    "collapsed": true
   },
   "outputs": [],
   "source": []
  },
  {
   "cell_type": "code",
   "execution_count": null,
   "metadata": {
    "collapsed": true
   },
   "outputs": [],
   "source": []
  },
  {
   "cell_type": "markdown",
   "metadata": {
    "focus": false,
    "id": "3be94357-e551-4094-b784-2df039216d33"
   },
   "source": [
    "### BONUS "
   ]
  },
  {
   "cell_type": "markdown",
   "metadata": {
    "focus": false,
    "id": "db045898-1d2d-4af2-8e79-437c4c7546b4"
   },
   "source": [
    "#### Bonus: Use Count Vectorizer from scikit-learn to create features from the text summaries. \n",
    "- Examine using count or binary features in the model\n",
    "- Re-evaluate the logistic regression model using these. Does this improve the model performance? \n",
    "- What text features are the most valuable? "
   ]
  },
  {
   "cell_type": "code",
   "execution_count": 23,
   "metadata": {
    "collapsed": false,
    "focus": false,
    "id": "4239e458-28bd-4675-8db3-c1d9c02b9854"
   },
   "outputs": [],
   "source": [
    "## YOUR CODE HERE"
   ]
  },
  {
   "cell_type": "code",
   "execution_count": 24,
   "metadata": {
    "collapsed": false,
    "focus": false,
    "id": "fec80936-37bc-4922-89bd-b5d615566c9c"
   },
   "outputs": [],
   "source": [
    "## YOUR CODE HERE"
   ]
  },
  {
   "cell_type": "markdown",
   "metadata": {
    "focus": false,
    "id": "d42b9fd8-39d5-416a-b40b-7410e6396c11"
   },
   "source": [
    "#### Re-test L1 and L2 regularization. You can use LogisticRegressionCV to find the optimal reguarlization parameters. \n",
    "- Re-test what text features are most valuable.  \n",
    "- How do L1 and L2 change the coefficients?"
   ]
  },
  {
   "cell_type": "code",
   "execution_count": 25,
   "metadata": {
    "collapsed": false,
    "focus": false,
    "id": "7570e237-c8cc-4e26-b569-7aee10627e79"
   },
   "outputs": [],
   "source": [
    "## YOUR CODE HERE"
   ]
  },
  {
   "cell_type": "code",
   "execution_count": null,
   "metadata": {
    "collapsed": true,
    "focus": false,
    "id": "e3a0c83d-e3b8-4bed-b864-7e795b34a3d4"
   },
   "outputs": [],
   "source": []
  }
 ],
 "metadata": {
  "kernelspec": {
   "display_name": "Python 2",
   "language": "python",
   "name": "python2"
  },
  "language_info": {
   "codemirror_mode": {
    "name": "ipython",
    "version": 2
   },
   "file_extension": ".py",
   "mimetype": "text/x-python",
   "name": "python",
   "nbconvert_exporter": "python",
   "pygments_lexer": "ipython2",
   "version": "2.7.12"
  }
 },
 "nbformat": 4,
 "nbformat_minor": 0
}

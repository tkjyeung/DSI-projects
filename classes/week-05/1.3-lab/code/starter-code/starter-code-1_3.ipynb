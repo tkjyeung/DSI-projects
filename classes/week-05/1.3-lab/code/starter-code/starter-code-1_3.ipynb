{
 "cells": [
  {
   "cell_type": "markdown",
   "metadata": {},
   "source": [
    "# Multi-table Datasets - ENRON Archive"
   ]
  },
  {
   "cell_type": "markdown",
   "metadata": {},
   "source": [
    "## 1. Data import\n",
    "\n",
    "Connect to the file 'assets/datasets/enron.db' using one of these methods:\n",
    "\n",
    "- sqlite3 python package\n",
    "- pandas.read_sql\n",
    "- SQLite Manager Firefox extension\n",
    "\n",
    "Take a look at the database and query the master table. How many Tables are there in the db?\n",
    "\n",
    "> Answer:\n",
    "There are 3 tables:\n",
    "- MessageBase\n",
    "- RecipientBase\n",
    "- EmployeeBase"
   ]
  },
  {
   "cell_type": "code",
   "execution_count": 28,
   "metadata": {
    "collapsed": false
   },
   "outputs": [],
   "source": [
    "import sqlite3\n",
    "sqlite_db = '../../assets/datasets/enron.db'\n",
    "conn = sqlite3.connect(sqlite_db)\n",
    "c = conn.cursor()"
   ]
  },
  {
   "cell_type": "code",
   "execution_count": 29,
   "metadata": {
    "collapsed": true
   },
   "outputs": [],
   "source": [
    "from pandas.io import sql\n",
    "import pandas as pd"
   ]
  },
  {
   "cell_type": "code",
   "execution_count": 30,
   "metadata": {
    "collapsed": false
   },
   "outputs": [
    {
     "data": {
      "text/plain": [
       "u'/vagrant/DSI_JY/DSI-projects/classes/week-05/1.3-lab/code/starter-code'"
      ]
     },
     "execution_count": 30,
     "metadata": {},
     "output_type": "execute_result"
    }
   ],
   "source": [
    "pwd"
   ]
  },
  {
   "cell_type": "code",
   "execution_count": 31,
   "metadata": {
    "collapsed": false
   },
   "outputs": [
    {
     "data": {
      "text/plain": [
       "[(1, u'taylor-m/sent/11', 910930020, u'Cd$ CME letter', 138),\n",
       " (2, u'taylor-m/sent/17', 911459940, u'Indemnification', 138),\n",
       " (3, u'taylor-m/sent/18', 911463840, u'Re: Indemnification', 138),\n",
       " (4, u'taylor-m/sent/23', 911874180, u'Re: Coral Energy, L.P.', 138),\n",
       " (5, u'taylor-m/sent/27', 912396120, u'Bankruptcy Code revisions', 138),\n",
       " (6, u'taylor-m/sent/31', 912570420, u'Re: Position Description', 138),\n",
       " (7, u'taylor-m/sent/33', 912576240, u'Koch', 138),\n",
       " (8, u'taylor-m/sent/40', 912685080, u'Re: Time to Celebrate!', 138),\n",
       " (9, u'taylor-m/sent/41', 912734100, u'Re: Vacation Request', 138),\n",
       " (10, u'taylor-m/sent/44', 913166040, u'Re: Last Message', 138)]"
      ]
     },
     "execution_count": 31,
     "metadata": {},
     "output_type": "execute_result"
    }
   ],
   "source": [
    "results = c.execute('select * from messagebase limit 10')\n",
    "results.fetchall()"
   ]
  },
  {
   "cell_type": "markdown",
   "metadata": {},
   "source": [
    "Query the `sqlite_master` table to retrieve the schema of the `EmployeeBase` table.\n",
    "\n",
    "1. What fields are there?\n",
    "1. What's the type of each of them?"
   ]
  },
  {
   "cell_type": "code",
   "execution_count": 32,
   "metadata": {
    "collapsed": false
   },
   "outputs": [
    {
     "data": {
      "text/plain": [
       "[(u'EmployeeBase',), (u'MessageBase',), (u'RecipientBase',)]"
      ]
     },
     "execution_count": 32,
     "metadata": {},
     "output_type": "execute_result"
    }
   ],
   "source": [
    "results = c.execute(\"\"\"SELECT name FROM sqlite_master WHERE type='table' ORDER BY name;\"\"\")\n",
    "results.fetchall()"
   ]
  },
  {
   "cell_type": "code",
   "execution_count": 33,
   "metadata": {
    "collapsed": false
   },
   "outputs": [
    {
     "data": {
      "text/plain": [
       "[(0, u'eid', u'INTEGER', 0, None, 0),\n",
       " (1, u'name', u'TEXT', 0, None, 0),\n",
       " (2, u'department', u'TEXT', 0, None, 0),\n",
       " (3, u'longdepartment', u'TEXT', 0, None, 0),\n",
       " (4, u'title', u'TEXT', 0, None, 0),\n",
       " (5, u'gender', u'TEXT', 0, None, 0),\n",
       " (6, u'seniority', u'TEXT', 0, None, 0)]"
      ]
     },
     "execution_count": 33,
     "metadata": {},
     "output_type": "execute_result"
    }
   ],
   "source": [
    "results = c.execute(\"\"\"PRAGMA table_info(EmployeeBase);\"\"\")\n",
    "results.fetchall()"
   ]
  },
  {
   "cell_type": "code",
   "execution_count": null,
   "metadata": {
    "collapsed": true
   },
   "outputs": [],
   "source": []
  },
  {
   "cell_type": "markdown",
   "metadata": {},
   "source": [
    "1. Print the first 5 rows of EmployeeBase table\n",
    "1. Print the first 5 rows of MessageBase table\n",
    "1. Print the first 5 rows of RecipientBase table\n",
    "\n",
    "**Hint**  use `SELECT` and `LIMIT`."
   ]
  },
  {
   "cell_type": "code",
   "execution_count": 34,
   "metadata": {
    "collapsed": false
   },
   "outputs": [
    {
     "data": {
      "text/plain": [
       "[(1,\n",
       "  u'John Arnold',\n",
       "  u'Forestry',\n",
       "  u'ENA Gas Financial',\n",
       "  u'VP Trading',\n",
       "  u'Male',\n",
       "  u'Senior'),\n",
       " (2,\n",
       "  u'Harry Arora',\n",
       "  u'Forestry',\n",
       "  u'ENA East Power',\n",
       "  u'VP Trading',\n",
       "  u'Male',\n",
       "  u'Senior'),\n",
       " (3,\n",
       "  u'Robert Badeer',\n",
       "  u'Forestry',\n",
       "  u'ENA West Power',\n",
       "  u'Mgr Trading',\n",
       "  u'Male',\n",
       "  u'Junior'),\n",
       " (4,\n",
       "  u'Susan Bailey',\n",
       "  u'Legal',\n",
       "  u'ENA Legal',\n",
       "  u'Specialist Legal',\n",
       "  u'Female',\n",
       "  u'Junior'),\n",
       " (5,\n",
       "  u'Eric Bass',\n",
       "  u'Forestry',\n",
       "  u'ENA Gas Texas',\n",
       "  u'Trader',\n",
       "  u'Male',\n",
       "  u'Junior')]"
      ]
     },
     "execution_count": 34,
     "metadata": {},
     "output_type": "execute_result"
    }
   ],
   "source": [
    "results = c.execute(\"\"\"select * from EmployeeBase limit 5;\"\"\")\n",
    "results.fetchall()"
   ]
  },
  {
   "cell_type": "code",
   "execution_count": 35,
   "metadata": {
    "collapsed": false
   },
   "outputs": [
    {
     "data": {
      "text/plain": [
       "[(1, u'taylor-m/sent/11', 910930020, u'Cd$ CME letter', 138),\n",
       " (2, u'taylor-m/sent/17', 911459940, u'Indemnification', 138),\n",
       " (3, u'taylor-m/sent/18', 911463840, u'Re: Indemnification', 138),\n",
       " (4, u'taylor-m/sent/23', 911874180, u'Re: Coral Energy, L.P.', 138),\n",
       " (5, u'taylor-m/sent/27', 912396120, u'Bankruptcy Code revisions', 138)]"
      ]
     },
     "execution_count": 35,
     "metadata": {},
     "output_type": "execute_result"
    }
   ],
   "source": [
    "results = c.execute(\"\"\"select * from MessageBase limit 5;\"\"\")\n",
    "results.fetchall()"
   ]
  },
  {
   "cell_type": "code",
   "execution_count": 36,
   "metadata": {
    "collapsed": false
   },
   "outputs": [
    {
     "data": {
      "text/plain": [
       "[(1, 1, 59), (2, 1, 15), (3, 1, 15), (4, 1, 109), (4, 2, 49)]"
      ]
     },
     "execution_count": 36,
     "metadata": {},
     "output_type": "execute_result"
    }
   ],
   "source": [
    "results = c.execute(\"\"\"select * from RecipientBase limit 5;\"\"\")\n",
    "results.fetchall()"
   ]
  },
  {
   "cell_type": "markdown",
   "metadata": {},
   "source": [
    "Import each of the 3 tables to a Pandas Dataframes"
   ]
  },
  {
   "cell_type": "code",
   "execution_count": 37,
   "metadata": {
    "collapsed": false
   },
   "outputs": [],
   "source": [
    "df_employee = sql.read_sql('''select * from EmployeeBase ''', con=conn)"
   ]
  },
  {
   "cell_type": "code",
   "execution_count": 38,
   "metadata": {
    "collapsed": true
   },
   "outputs": [],
   "source": [
    "df_msg = sql.read_sql('''select * from MessageBase ''', con=conn)"
   ]
  },
  {
   "cell_type": "code",
   "execution_count": 39,
   "metadata": {
    "collapsed": true
   },
   "outputs": [],
   "source": [
    "df_recipient = sql.read_sql('''select * from RecipientBase ''', con=conn)"
   ]
  },
  {
   "cell_type": "markdown",
   "metadata": {},
   "source": [
    "## 2. Data Exploration\n",
    "\n",
    "Use the 3 dataframes to answer the following questions:\n",
    "\n",
    "1. How many employees are there in the company?\n",
    "- How many messages are there in the database?\n",
    "- Convert the timestamp column in the messages. When was the oldest message sent? And the newest?\n",
    "- Some messages are sent to more than one recipient. Group the messages by message_id and count the number of recepients. Then look at the distribution of recepient numbers.\n",
    "    - How many messages have only one recepient?\n",
    "    - How many messages have >= 5 recepients?\n",
    "    - What's the highest number of recepients?\n",
    "    - Who sent the message with the highest number of recepients?\n",
    "- Plot the distribution of recepient numbers using Bokeh."
   ]
  },
  {
   "cell_type": "code",
   "execution_count": 40,
   "metadata": {
    "collapsed": false
   },
   "outputs": [
    {
     "data": {
      "text/plain": [
       "156"
      ]
     },
     "execution_count": 40,
     "metadata": {},
     "output_type": "execute_result"
    }
   ],
   "source": [
    "len(df_employee)"
   ]
  },
  {
   "cell_type": "code",
   "execution_count": 41,
   "metadata": {
    "collapsed": false
   },
   "outputs": [
    {
     "data": {
      "text/plain": [
       "21635"
      ]
     },
     "execution_count": 41,
     "metadata": {},
     "output_type": "execute_result"
    }
   ],
   "source": [
    "len(df_msg)"
   ]
  },
  {
   "cell_type": "code",
   "execution_count": 47,
   "metadata": {
    "collapsed": false
   },
   "outputs": [
    {
     "name": "stdout",
     "output_type": "stream",
     "text": [
      "<class 'pandas.core.frame.DataFrame'>\n",
      "RangeIndex: 21635 entries, 0 to 21634\n",
      "Data columns (total 5 columns):\n",
      "mid          21635 non-null int64\n",
      "filename     21635 non-null object\n",
      "unix_time    21635 non-null int64\n",
      "subject      21635 non-null object\n",
      "from_eid     21635 non-null int64\n",
      "dtypes: int64(3), object(2)\n",
      "memory usage: 845.2+ KB\n"
     ]
    }
   ],
   "source": [
    "df_msg.info()"
   ]
  },
  {
   "cell_type": "code",
   "execution_count": 27,
   "metadata": {
    "collapsed": true
   },
   "outputs": [],
   "source": [
    "import datetime"
   ]
  },
  {
   "cell_type": "code",
   "execution_count": 44,
   "metadata": {
    "collapsed": false
   },
   "outputs": [
    {
     "data": {
      "text/plain": [
       "datetime.datetime(1998, 11, 13, 12, 7)"
      ]
     },
     "execution_count": 44,
     "metadata": {},
     "output_type": "execute_result"
    }
   ],
   "source": [
    "datetime.datetime.fromtimestamp(910930020)"
   ]
  },
  {
   "cell_type": "code",
   "execution_count": 50,
   "metadata": {
    "collapsed": false
   },
   "outputs": [],
   "source": [
    "df_msg['unix_time'] =  pd.to_datetime(df_msg['unix_time'],unit='s')"
   ]
  },
  {
   "cell_type": "code",
   "execution_count": 51,
   "metadata": {
    "collapsed": false
   },
   "outputs": [
    {
     "data": {
      "text/plain": [
       "Timestamp('2002-06-21 13:37:34')"
      ]
     },
     "execution_count": 51,
     "metadata": {},
     "output_type": "execute_result"
    }
   ],
   "source": [
    "df_msg['unix_time'].max()"
   ]
  },
  {
   "cell_type": "code",
   "execution_count": 52,
   "metadata": {
    "collapsed": false
   },
   "outputs": [
    {
     "data": {
      "text/plain": [
       "Timestamp('1998-11-13 04:07:00')"
      ]
     },
     "execution_count": 52,
     "metadata": {},
     "output_type": "execute_result"
    }
   ],
   "source": [
    "df_msg['unix_time'].min()"
   ]
  },
  {
   "cell_type": "code",
   "execution_count": 53,
   "metadata": {
    "collapsed": false
   },
   "outputs": [
    {
     "data": {
      "text/html": [
       "<div>\n",
       "<table border=\"1\" class=\"dataframe\">\n",
       "  <thead>\n",
       "    <tr style=\"text-align: right;\">\n",
       "      <th></th>\n",
       "      <th>mid</th>\n",
       "      <th>filename</th>\n",
       "      <th>unix_time</th>\n",
       "      <th>subject</th>\n",
       "      <th>from_eid</th>\n",
       "    </tr>\n",
       "  </thead>\n",
       "  <tbody>\n",
       "    <tr>\n",
       "      <th>0</th>\n",
       "      <td>1</td>\n",
       "      <td>taylor-m/sent/11</td>\n",
       "      <td>1998-11-13 04:07:00</td>\n",
       "      <td>Cd$ CME letter</td>\n",
       "      <td>138</td>\n",
       "    </tr>\n",
       "    <tr>\n",
       "      <th>1</th>\n",
       "      <td>2</td>\n",
       "      <td>taylor-m/sent/17</td>\n",
       "      <td>1998-11-19 07:19:00</td>\n",
       "      <td>Indemnification</td>\n",
       "      <td>138</td>\n",
       "    </tr>\n",
       "    <tr>\n",
       "      <th>2</th>\n",
       "      <td>3</td>\n",
       "      <td>taylor-m/sent/18</td>\n",
       "      <td>1998-11-19 08:24:00</td>\n",
       "      <td>Re: Indemnification</td>\n",
       "      <td>138</td>\n",
       "    </tr>\n",
       "    <tr>\n",
       "      <th>3</th>\n",
       "      <td>4</td>\n",
       "      <td>taylor-m/sent/23</td>\n",
       "      <td>1998-11-24 02:23:00</td>\n",
       "      <td>Re: Coral Energy, L.P.</td>\n",
       "      <td>138</td>\n",
       "    </tr>\n",
       "    <tr>\n",
       "      <th>4</th>\n",
       "      <td>5</td>\n",
       "      <td>taylor-m/sent/27</td>\n",
       "      <td>1998-11-30 03:22:00</td>\n",
       "      <td>Bankruptcy Code revisions</td>\n",
       "      <td>138</td>\n",
       "    </tr>\n",
       "  </tbody>\n",
       "</table>\n",
       "</div>"
      ],
      "text/plain": [
       "   mid          filename           unix_time                    subject  \\\n",
       "0    1  taylor-m/sent/11 1998-11-13 04:07:00             Cd$ CME letter   \n",
       "1    2  taylor-m/sent/17 1998-11-19 07:19:00            Indemnification   \n",
       "2    3  taylor-m/sent/18 1998-11-19 08:24:00        Re: Indemnification   \n",
       "3    4  taylor-m/sent/23 1998-11-24 02:23:00     Re: Coral Energy, L.P.   \n",
       "4    5  taylor-m/sent/27 1998-11-30 03:22:00  Bankruptcy Code revisions   \n",
       "\n",
       "   from_eid  \n",
       "0       138  \n",
       "1       138  \n",
       "2       138  \n",
       "3       138  \n",
       "4       138  "
      ]
     },
     "execution_count": 53,
     "metadata": {},
     "output_type": "execute_result"
    }
   ],
   "source": [
    "df_msg.head()"
   ]
  },
  {
   "cell_type": "code",
   "execution_count": 55,
   "metadata": {
    "collapsed": false
   },
   "outputs": [
    {
     "data": {
      "text/plain": [
       "21635"
      ]
     },
     "execution_count": 55,
     "metadata": {},
     "output_type": "execute_result"
    }
   ],
   "source": [
    "len(df_msg['mid'].unique())"
   ]
  },
  {
   "cell_type": "code",
   "execution_count": 56,
   "metadata": {
    "collapsed": false
   },
   "outputs": [
    {
     "data": {
      "text/html": [
       "<div>\n",
       "<table border=\"1\" class=\"dataframe\">\n",
       "  <thead>\n",
       "    <tr style=\"text-align: right;\">\n",
       "      <th></th>\n",
       "      <th>mid</th>\n",
       "      <th>rno</th>\n",
       "      <th>to_eid</th>\n",
       "    </tr>\n",
       "  </thead>\n",
       "  <tbody>\n",
       "    <tr>\n",
       "      <th>0</th>\n",
       "      <td>1</td>\n",
       "      <td>1</td>\n",
       "      <td>59</td>\n",
       "    </tr>\n",
       "    <tr>\n",
       "      <th>1</th>\n",
       "      <td>2</td>\n",
       "      <td>1</td>\n",
       "      <td>15</td>\n",
       "    </tr>\n",
       "    <tr>\n",
       "      <th>2</th>\n",
       "      <td>3</td>\n",
       "      <td>1</td>\n",
       "      <td>15</td>\n",
       "    </tr>\n",
       "    <tr>\n",
       "      <th>3</th>\n",
       "      <td>4</td>\n",
       "      <td>1</td>\n",
       "      <td>109</td>\n",
       "    </tr>\n",
       "    <tr>\n",
       "      <th>4</th>\n",
       "      <td>4</td>\n",
       "      <td>2</td>\n",
       "      <td>49</td>\n",
       "    </tr>\n",
       "  </tbody>\n",
       "</table>\n",
       "</div>"
      ],
      "text/plain": [
       "   mid  rno  to_eid\n",
       "0    1    1      59\n",
       "1    2    1      15\n",
       "2    3    1      15\n",
       "3    4    1     109\n",
       "4    4    2      49"
      ]
     },
     "execution_count": 56,
     "metadata": {},
     "output_type": "execute_result"
    }
   ],
   "source": [
    "df_recipient.head()"
   ]
  },
  {
   "cell_type": "code",
   "execution_count": 57,
   "metadata": {
    "collapsed": false
   },
   "outputs": [
    {
     "name": "stdout",
     "output_type": "stream",
     "text": [
      "<class 'pandas.core.frame.DataFrame'>\n",
      "RangeIndex: 38388 entries, 0 to 38387\n",
      "Data columns (total 3 columns):\n",
      "mid       38388 non-null int64\n",
      "rno       38388 non-null int64\n",
      "to_eid    38388 non-null int64\n",
      "dtypes: int64(3)\n",
      "memory usage: 899.8 KB\n"
     ]
    }
   ],
   "source": [
    "df_recipient.info()"
   ]
  },
  {
   "cell_type": "code",
   "execution_count": 59,
   "metadata": {
    "collapsed": false
   },
   "outputs": [],
   "source": [
    "df_count = df_recipient.groupby('mid')[['rno']].count()"
   ]
  },
  {
   "cell_type": "code",
   "execution_count": 63,
   "metadata": {
    "collapsed": false
   },
   "outputs": [
    {
     "data": {
      "text/plain": [
       "14985"
      ]
     },
     "execution_count": 63,
     "metadata": {},
     "output_type": "execute_result"
    }
   ],
   "source": [
    "(df_count['rno']==1).sum()"
   ]
  },
  {
   "cell_type": "code",
   "execution_count": 64,
   "metadata": {
    "collapsed": false
   },
   "outputs": [
    {
     "data": {
      "text/plain": [
       "2962"
      ]
     },
     "execution_count": 64,
     "metadata": {},
     "output_type": "execute_result"
    }
   ],
   "source": [
    "(df_count['rno']==2).sum()"
   ]
  },
  {
   "cell_type": "code",
   "execution_count": 66,
   "metadata": {
    "collapsed": false
   },
   "outputs": [
    {
     "data": {
      "text/plain": [
       "1380"
      ]
     },
     "execution_count": 66,
     "metadata": {},
     "output_type": "execute_result"
    }
   ],
   "source": [
    "(df_count['rno']>=5).sum()"
   ]
  },
  {
   "cell_type": "code",
   "execution_count": 69,
   "metadata": {
    "collapsed": false
   },
   "outputs": [
    {
     "data": {
      "text/html": [
       "<div>\n",
       "<table border=\"1\" class=\"dataframe\">\n",
       "  <thead>\n",
       "    <tr style=\"text-align: right;\">\n",
       "      <th></th>\n",
       "      <th>rno</th>\n",
       "    </tr>\n",
       "    <tr>\n",
       "      <th>mid</th>\n",
       "      <th></th>\n",
       "    </tr>\n",
       "  </thead>\n",
       "  <tbody>\n",
       "    <tr>\n",
       "      <th>12116</th>\n",
       "      <td>57</td>\n",
       "    </tr>\n",
       "    <tr>\n",
       "      <th>12151</th>\n",
       "      <td>57</td>\n",
       "    </tr>\n",
       "  </tbody>\n",
       "</table>\n",
       "</div>"
      ],
      "text/plain": [
       "       rno\n",
       "mid       \n",
       "12116   57\n",
       "12151   57"
      ]
     },
     "execution_count": 69,
     "metadata": {},
     "output_type": "execute_result"
    }
   ],
   "source": [
    "df_count[df_count['rno']==57]"
   ]
  },
  {
   "cell_type": "code",
   "execution_count": null,
   "metadata": {
    "collapsed": true
   },
   "outputs": [],
   "source": []
  },
  {
   "cell_type": "code",
   "execution_count": null,
   "metadata": {
    "collapsed": true
   },
   "outputs": [],
   "source": []
  },
  {
   "cell_type": "markdown",
   "metadata": {},
   "source": [
    "Rescale to investigate the tail of the curve"
   ]
  },
  {
   "cell_type": "code",
   "execution_count": null,
   "metadata": {
    "collapsed": false
   },
   "outputs": [],
   "source": []
  },
  {
   "cell_type": "markdown",
   "metadata": {},
   "source": [
    "## 3. Data Merging\n",
    "\n",
    "Use the pandas merge function to combine the information in the 3 dataframes to answer the following questions:\n",
    "\n",
    "1. Are there more Men or Women employees?\n",
    "- How is gender distributed across departments?\n",
    "- Who is sending more emails? Men or Women?\n",
    "- What's the average number of emails sent by each gender?\n",
    "- Are there more Juniors or Seniors?\n",
    "- Who is sending more emails? Juniors or Seniors?\n",
    "- Which department is sending more emails? How does that relate with the number of employees in the department?\n",
    "- Who are the top 3 senders of emails? (people who sent out the most emails)"
   ]
  },
  {
   "cell_type": "code",
   "execution_count": null,
   "metadata": {
    "collapsed": false
   },
   "outputs": [],
   "source": []
  },
  {
   "cell_type": "markdown",
   "metadata": {},
   "source": [
    "Answer the following questions regarding received messages:\n",
    "\n",
    "- Who is receiving more emails? Men or Women?\n",
    "- Who is receiving more emails? Juniors or Seniors?\n",
    "- Which department is receiving more emails? How does that relate with the number of employees in the department?\n",
    "- Who are the top 5 receivers of emails? (people who received the most emails)"
   ]
  },
  {
   "cell_type": "code",
   "execution_count": null,
   "metadata": {
    "collapsed": true
   },
   "outputs": [],
   "source": []
  },
  {
   "cell_type": "markdown",
   "metadata": {},
   "source": [
    "Which employees sent the most 'mass' emails?"
   ]
  },
  {
   "cell_type": "code",
   "execution_count": null,
   "metadata": {
    "collapsed": false
   },
   "outputs": [],
   "source": []
  },
  {
   "cell_type": "markdown",
   "metadata": {},
   "source": [
    "Keep exploring the dataset, which other questions would you ask?\n",
    "\n",
    "Work in pairs. Give each other a challenge and try to solve it."
   ]
  }
 ],
 "metadata": {
  "kernelspec": {
   "display_name": "Python 2",
   "language": "python",
   "name": "python2"
  },
  "language_info": {
   "codemirror_mode": {
    "name": "ipython",
    "version": 2
   },
   "file_extension": ".py",
   "mimetype": "text/x-python",
   "name": "python",
   "nbconvert_exporter": "python",
   "pygments_lexer": "ipython2",
   "version": "2.7.11"
  }
 },
 "nbformat": 4,
 "nbformat_minor": 0
}

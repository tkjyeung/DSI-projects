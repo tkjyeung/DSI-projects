{
 "cells": [
  {
   "cell_type": "markdown",
   "metadata": {},
   "source": [
    "# Multi-table Datasets - ENRON Archive"
   ]
  },
  {
   "cell_type": "markdown",
   "metadata": {},
   "source": [
    "## 1. Data import\n",
    "\n",
    "Connect to the file 'assets/datasets/enron.db' using one of these methods:\n",
    "\n",
    "- sqlite3 python package\n",
    "- pandas.read_sql\n",
    "- SQLite Manager Firefox extension\n",
    "\n",
    "Take a look at the database and query the master table. How many Tables are there in the db?\n",
    "\n",
    "> Answer:\n",
    "There are 3 tables:\n",
    "- MessageBase\n",
    "- RecipientBase\n",
    "- EmployeeBase"
   ]
  },
  {
   "cell_type": "code",
   "execution_count": 1,
   "metadata": {
    "collapsed": false
   },
   "outputs": [
    {
     "data": {
      "text/plain": [
       "[(u'MessageBase',), (u'RecipientBase',), (u'EmployeeBase',)]"
      ]
     },
     "execution_count": 1,
     "metadata": {},
     "output_type": "execute_result"
    }
   ],
   "source": [
    "import sqlite3\n",
    "conn = sqlite3.connect('../../assets/datasets/enron.db') \n",
    "c = conn.cursor()\n",
    "c.execute(\"SELECT name FROM sqlite_master WHERE type='table';\").fetchall()"
   ]
  },
  {
   "cell_type": "markdown",
   "metadata": {},
   "source": [
    "Query the `sqlite_master` table to retrieve the schema of the `EmployeeBase` table.\n",
    "\n",
    "1. What fields are there?\n",
    "1. What's the type of each of them?"
   ]
  },
  {
   "cell_type": "code",
   "execution_count": 2,
   "metadata": {
    "collapsed": false
   },
   "outputs": [
    {
     "name": "stdout",
     "output_type": "stream",
     "text": [
      "CREATE TABLE EmployeeBase (\n",
      "                  [eid] INTEGER,\n",
      "  [name] TEXT,\n",
      "  [department] TEXT,\n",
      "  [longdepartment] TEXT,\n",
      "  [title] TEXT,\n",
      "  [gender] TEXT,\n",
      "  [seniority] TEXT\n",
      "                  \n",
      "                  )\n",
      "CREATE TABLE MessageBase (\n",
      "    mid INTEGER,\n",
      "    filename TEXT,\n",
      "    unix_time INTEGER,\n",
      "    subject TEXT,\n",
      "    from_eid INTEGER,\n",
      "    \n",
      "    PRIMARY KEY(mid ASC),\n",
      "    FOREIGN KEY(from_eid) REFERENCES Employee(eid)\n",
      ")\n",
      "CREATE TABLE RecipientBase (\n",
      "    mid INTEGER,\n",
      "    rno INTEGER,\n",
      "    to_eid INTEGER,\n",
      "    \n",
      "    PRIMARY KEY(mid ASC, rno ASC)\n",
      "    FOREIGN KEY(mid) REFERENCES Message(mid)\n",
      "    FOREIGN KEY(to_eid) REFERENCES Employee(eid)\n",
      ")\n"
     ]
    }
   ],
   "source": [
    "fields = c.execute(\"SELECT sql from sqlite_master WHERE type='table' and name='EmployeeBase';\").fetchall()\n",
    "print ''.join(fields[0])\n",
    "\n",
    "fields = c.execute(\"SELECT sql from sqlite_master WHERE type='table' and name='MessageBase';\").fetchall()\n",
    "print ''.join(fields[0])\n",
    "\n",
    "fields = c.execute(\"SELECT sql from sqlite_master WHERE type='table' and name='RecipientBase';\").fetchall()\n",
    "print ''.join(fields[0])"
   ]
  },
  {
   "cell_type": "markdown",
   "metadata": {},
   "source": [
    "1. Print the first 5 rows of EmployeeBase table\n",
    "1. Print the first 5 rows of MessageBase table\n",
    "1. Print the first 5 rows of RecipientBase table\n",
    "\n",
    "**Hint**  use `SELECT` and `LIMIT`."
   ]
  },
  {
   "cell_type": "code",
   "execution_count": 3,
   "metadata": {
    "collapsed": false
   },
   "outputs": [
    {
     "name": "stdout",
     "output_type": "stream",
     "text": [
      "(1, u'John Arnold', u'Forestry', u'ENA Gas Financial', u'VP Trading', u'Male', u'Senior')\n",
      "(2, u'Harry Arora', u'Forestry', u'ENA East Power', u'VP Trading', u'Male', u'Senior')\n",
      "(3, u'Robert Badeer', u'Forestry', u'ENA West Power', u'Mgr Trading', u'Male', u'Junior')\n",
      "(4, u'Susan Bailey', u'Legal', u'ENA Legal', u'Specialist Legal', u'Female', u'Junior')\n",
      "(5, u'Eric Bass', u'Forestry', u'ENA Gas Texas', u'Trader', u'Male', u'Junior')\n"
     ]
    }
   ],
   "source": [
    "results = c.execute(\"SELECT * FROM EmployeeBase LIMIT 5;\").fetchall()\n",
    "for row in results:\n",
    "    print row"
   ]
  },
  {
   "cell_type": "code",
   "execution_count": 4,
   "metadata": {
    "collapsed": false
   },
   "outputs": [
    {
     "name": "stdout",
     "output_type": "stream",
     "text": [
      "(1, u'taylor-m/sent/11', 910930020, u'Cd$ CME letter', 138)\n",
      "(2, u'taylor-m/sent/17', 911459940, u'Indemnification', 138)\n",
      "(3, u'taylor-m/sent/18', 911463840, u'Re: Indemnification', 138)\n",
      "(4, u'taylor-m/sent/23', 911874180, u'Re: Coral Energy, L.P.', 138)\n",
      "(5, u'taylor-m/sent/27', 912396120, u'Bankruptcy Code revisions', 138)\n"
     ]
    }
   ],
   "source": [
    "results = c.execute(\"SELECT * FROM MessageBase LIMIT 5;\").fetchall()\n",
    "for row in results:\n",
    "    print row"
   ]
  },
  {
   "cell_type": "code",
   "execution_count": 5,
   "metadata": {
    "collapsed": false,
    "scrolled": true
   },
   "outputs": [
    {
     "name": "stdout",
     "output_type": "stream",
     "text": [
      "(1, 1, 59)\n",
      "(2, 1, 15)\n",
      "(3, 1, 15)\n",
      "(4, 1, 109)\n",
      "(4, 2, 49)\n",
      "(4, 3, 120)\n",
      "(4, 4, 59)\n",
      "(5, 1, 45)\n",
      "(5, 2, 53)\n",
      "(6, 1, 113)\n"
     ]
    }
   ],
   "source": [
    "results = c.execute(\"SELECT * FROM RecipientBase LIMIT 10;\").fetchall()\n",
    "for row in results:\n",
    "    print row\n",
    "    \n",
    "# The first field is message id, the second is recipient number, and the third is the id of the recipient.\n",
    "# mid, rno, to_eid"
   ]
  },
  {
   "cell_type": "markdown",
   "metadata": {},
   "source": [
    "Import each of the 3 tables to a Pandas Dataframes"
   ]
  },
  {
   "cell_type": "code",
   "execution_count": 6,
   "metadata": {
    "collapsed": true
   },
   "outputs": [],
   "source": [
    "import pandas as pd\n",
    "employees = pd.read_sql(\"SELECT * FROM EmployeeBase;\", conn)\n",
    "recipients = pd.read_sql(\"SELECT * FROM RecipientBase;\", conn)\n",
    "messages = pd.read_sql(\"SELECT * FROM MessageBase;\", conn)"
   ]
  },
  {
   "cell_type": "code",
   "execution_count": 7,
   "metadata": {
    "collapsed": false
   },
   "outputs": [
    {
     "data": {
      "text/html": [
       "<div>\n",
       "<table border=\"1\" class=\"dataframe\">\n",
       "  <thead>\n",
       "    <tr style=\"text-align: right;\">\n",
       "      <th></th>\n",
       "      <th>mid</th>\n",
       "      <th>rno</th>\n",
       "      <th>to_eid</th>\n",
       "    </tr>\n",
       "  </thead>\n",
       "  <tbody>\n",
       "    <tr>\n",
       "      <th>0</th>\n",
       "      <td>1</td>\n",
       "      <td>1</td>\n",
       "      <td>59</td>\n",
       "    </tr>\n",
       "    <tr>\n",
       "      <th>1</th>\n",
       "      <td>2</td>\n",
       "      <td>1</td>\n",
       "      <td>15</td>\n",
       "    </tr>\n",
       "    <tr>\n",
       "      <th>2</th>\n",
       "      <td>3</td>\n",
       "      <td>1</td>\n",
       "      <td>15</td>\n",
       "    </tr>\n",
       "    <tr>\n",
       "      <th>3</th>\n",
       "      <td>4</td>\n",
       "      <td>1</td>\n",
       "      <td>109</td>\n",
       "    </tr>\n",
       "    <tr>\n",
       "      <th>4</th>\n",
       "      <td>4</td>\n",
       "      <td>2</td>\n",
       "      <td>49</td>\n",
       "    </tr>\n",
       "    <tr>\n",
       "      <th>5</th>\n",
       "      <td>4</td>\n",
       "      <td>3</td>\n",
       "      <td>120</td>\n",
       "    </tr>\n",
       "    <tr>\n",
       "      <th>6</th>\n",
       "      <td>4</td>\n",
       "      <td>4</td>\n",
       "      <td>59</td>\n",
       "    </tr>\n",
       "    <tr>\n",
       "      <th>7</th>\n",
       "      <td>5</td>\n",
       "      <td>1</td>\n",
       "      <td>45</td>\n",
       "    </tr>\n",
       "    <tr>\n",
       "      <th>8</th>\n",
       "      <td>5</td>\n",
       "      <td>2</td>\n",
       "      <td>53</td>\n",
       "    </tr>\n",
       "    <tr>\n",
       "      <th>9</th>\n",
       "      <td>6</td>\n",
       "      <td>1</td>\n",
       "      <td>113</td>\n",
       "    </tr>\n",
       "  </tbody>\n",
       "</table>\n",
       "</div>"
      ],
      "text/plain": [
       "   mid  rno  to_eid\n",
       "0    1    1      59\n",
       "1    2    1      15\n",
       "2    3    1      15\n",
       "3    4    1     109\n",
       "4    4    2      49\n",
       "5    4    3     120\n",
       "6    4    4      59\n",
       "7    5    1      45\n",
       "8    5    2      53\n",
       "9    6    1     113"
      ]
     },
     "execution_count": 7,
     "metadata": {},
     "output_type": "execute_result"
    }
   ],
   "source": [
    "recipients.head(10)"
   ]
  },
  {
   "cell_type": "markdown",
   "metadata": {},
   "source": [
    "## 2. Data Exploration\n",
    "\n",
    "Use the 3 dataframes to answer the following questions:\n",
    "\n",
    "1. How many employees are there in the company?\n",
    "- How many messages are there in the database?\n",
    "- Convert the timestamp column in the messages. When was the oldest message sent? And the newest?\n",
    "- Some messages are sent to more than one recipient. Group the messages by message_id and count the number of recepients. Then look at the distribution of recepient numbers.\n",
    "    - How many messages have only one recepient?\n",
    "    - How many messages have >= 5 recepients?\n",
    "    - What's the highest number of recepients?\n",
    "    - Who sent the message with the highest number of recepients?\n",
    "- Plot the distribution of recepient numbers using Bokeh."
   ]
  },
  {
   "cell_type": "code",
   "execution_count": 8,
   "metadata": {
    "collapsed": false
   },
   "outputs": [
    {
     "data": {
      "text/plain": [
       "156"
      ]
     },
     "execution_count": 8,
     "metadata": {},
     "output_type": "execute_result"
    }
   ],
   "source": [
    "len(employees)"
   ]
  },
  {
   "cell_type": "code",
   "execution_count": 9,
   "metadata": {
    "collapsed": false
   },
   "outputs": [
    {
     "data": {
      "text/plain": [
       "21635"
      ]
     },
     "execution_count": 9,
     "metadata": {},
     "output_type": "execute_result"
    }
   ],
   "source": [
    "len(messages)"
   ]
  },
  {
   "cell_type": "code",
   "execution_count": 10,
   "metadata": {
    "collapsed": false
   },
   "outputs": [
    {
     "name": "stdout",
     "output_type": "stream",
     "text": [
      "first msg was sent on: 1998-11-13 12:07:00\n",
      "last msg was sent on: 2002-06-21 21:37:34\n"
     ]
    }
   ],
   "source": [
    "datetimes = messages['unix_time'].apply(pd.datetime.fromtimestamp)\n",
    "print \"first msg was sent on:\", min(datetimes)\n",
    "print \"last msg was sent on:\", max(datetimes)"
   ]
  },
  {
   "cell_type": "code",
   "execution_count": 11,
   "metadata": {
    "collapsed": true
   },
   "outputs": [],
   "source": [
    "from collections import Counter"
   ]
  },
  {
   "cell_type": "code",
   "execution_count": 12,
   "metadata": {
    "collapsed": false
   },
   "outputs": [
    {
     "data": {
      "text/plain": [
       "Counter({1: 14985,\n",
       "         2: 2962,\n",
       "         3: 1435,\n",
       "         4: 873,\n",
       "         5: 711,\n",
       "         6: 180,\n",
       "         7: 176,\n",
       "         8: 61,\n",
       "         9: 24,\n",
       "         10: 29,\n",
       "         11: 47,\n",
       "         12: 33,\n",
       "         13: 57,\n",
       "         14: 11,\n",
       "         15: 28,\n",
       "         16: 9,\n",
       "         17: 2,\n",
       "         18: 1,\n",
       "         19: 1,\n",
       "         20: 1,\n",
       "         21: 2,\n",
       "         22: 1,\n",
       "         24: 1,\n",
       "         49: 1,\n",
       "         52: 1,\n",
       "         55: 1,\n",
       "         57: 2})"
      ]
     },
     "execution_count": 12,
     "metadata": {},
     "output_type": "execute_result"
    }
   ],
   "source": [
    "#counts = recipients.groupby('mid')['to_eid'].count().value_counts()\n",
    "counts = Counter(recipients.groupby('mid')['to_eid'].count())\n",
    "counts"
   ]
  },
  {
   "cell_type": "code",
   "execution_count": 13,
   "metadata": {
    "collapsed": false
   },
   "outputs": [
    {
     "data": {
      "text/html": [
       "\n",
       "    <div class=\"bk-banner\">\n",
       "        <a href=\"http://bokeh.pydata.org\" target=\"_blank\" class=\"bk-logo bk-logo-small bk-logo-notebook\"></a>\n",
       "        <span id=\"4add9032-727c-4bfc-b55d-3963ea12b2c3\">Loading BokehJS ...</span>\n",
       "    </div>"
      ]
     },
     "metadata": {},
     "output_type": "display_data"
    },
    {
     "data": {
      "application/javascript": [
       "\n",
       "(function(global) {\n",
       "  function now() {\n",
       "    return new Date();\n",
       "  }\n",
       "\n",
       "  if (typeof (window._bokeh_onload_callbacks) === \"undefined\") {\n",
       "    window._bokeh_onload_callbacks = [];\n",
       "  }\n",
       "\n",
       "  function run_callbacks() {\n",
       "    window._bokeh_onload_callbacks.forEach(function(callback) { callback() });\n",
       "    delete window._bokeh_onload_callbacks\n",
       "    console.info(\"Bokeh: all callbacks have finished\");\n",
       "  }\n",
       "\n",
       "  function load_libs(js_urls, callback) {\n",
       "    window._bokeh_onload_callbacks.push(callback);\n",
       "    if (window._bokeh_is_loading > 0) {\n",
       "      console.log(\"Bokeh: BokehJS is being loaded, scheduling callback at\", now());\n",
       "      return null;\n",
       "    }\n",
       "    if (js_urls == null || js_urls.length === 0) {\n",
       "      run_callbacks();\n",
       "      return null;\n",
       "    }\n",
       "    console.log(\"Bokeh: BokehJS not loaded, scheduling load and callback at\", now());\n",
       "    window._bokeh_is_loading = js_urls.length;\n",
       "    for (var i = 0; i < js_urls.length; i++) {\n",
       "      var url = js_urls[i];\n",
       "      var s = document.createElement('script');\n",
       "      s.src = url;\n",
       "      s.async = false;\n",
       "      s.onreadystatechange = s.onload = function() {\n",
       "        window._bokeh_is_loading--;\n",
       "        if (window._bokeh_is_loading === 0) {\n",
       "          console.log(\"Bokeh: all BokehJS libraries loaded\");\n",
       "          run_callbacks()\n",
       "        }\n",
       "      };\n",
       "      s.onerror = function() {\n",
       "        console.warn(\"failed to load library \" + url);\n",
       "      };\n",
       "      console.log(\"Bokeh: injecting script tag for BokehJS library: \", url);\n",
       "      document.getElementsByTagName(\"head\")[0].appendChild(s);\n",
       "    }\n",
       "  };\n",
       "\n",
       "  var js_urls = ['https://cdn.pydata.org/bokeh/release/bokeh-0.11.1.min.js', 'https://cdn.pydata.org/bokeh/release/bokeh-widgets-0.11.1.min.js', 'https://cdn.pydata.org/bokeh/release/bokeh-compiler-0.11.1.min.js'];\n",
       "\n",
       "  var inline_js = [\n",
       "    function(Bokeh) {\n",
       "      Bokeh.set_log_level(\"info\");\n",
       "    },\n",
       "    \n",
       "    function(Bokeh) {\n",
       "      Bokeh.$(\"#4add9032-727c-4bfc-b55d-3963ea12b2c3\").text(\"BokehJS successfully loaded\");\n",
       "    },\n",
       "    function(Bokeh) {\n",
       "      console.log(\"Bokeh: injecting CSS: https://cdn.pydata.org/bokeh/release/bokeh-0.11.1.min.css\");\n",
       "      Bokeh.embed.inject_css(\"https://cdn.pydata.org/bokeh/release/bokeh-0.11.1.min.css\");\n",
       "      console.log(\"Bokeh: injecting CSS: https://cdn.pydata.org/bokeh/release/bokeh-widgets-0.11.1.min.css\");\n",
       "      Bokeh.embed.inject_css(\"https://cdn.pydata.org/bokeh/release/bokeh-widgets-0.11.1.min.css\");\n",
       "    }\n",
       "  ];\n",
       "\n",
       "  function run_inline_js() {\n",
       "    for (var i = 0; i < inline_js.length; i++) {\n",
       "      inline_js[i](window.Bokeh);\n",
       "    }\n",
       "  }\n",
       "\n",
       "  if (window._bokeh_is_loading === 0) {\n",
       "    console.log(\"Bokeh: BokehJS loaded, going straight to plotting\");\n",
       "    run_inline_js();\n",
       "  } else {\n",
       "    load_libs(js_urls, function() {\n",
       "      console.log(\"Bokeh: BokehJS plotting callback run at\", now());\n",
       "      run_inline_js();\n",
       "    });\n",
       "  }\n",
       "}(this));"
      ]
     },
     "metadata": {},
     "output_type": "display_data"
    }
   ],
   "source": [
    "from bokeh.plotting import figure,show,output_notebook\n",
    "output_notebook()"
   ]
  },
  {
   "cell_type": "code",
   "execution_count": 14,
   "metadata": {
    "collapsed": false
   },
   "outputs": [
    {
     "data": {
      "text/html": [
       "\n",
       "\n",
       "    <div class=\"plotdiv\" id=\"659b4399-fdb5-42f9-b115-67f8c2881183\"></div>\n",
       "<script type=\"text/javascript\">\n",
       "  \n",
       "  (function(global) {\n",
       "    function now() {\n",
       "      return new Date();\n",
       "    }\n",
       "  \n",
       "    if (typeof (window._bokeh_onload_callbacks) === \"undefined\") {\n",
       "      window._bokeh_onload_callbacks = [];\n",
       "    }\n",
       "  \n",
       "    function run_callbacks() {\n",
       "      window._bokeh_onload_callbacks.forEach(function(callback) { callback() });\n",
       "      delete window._bokeh_onload_callbacks\n",
       "      console.info(\"Bokeh: all callbacks have finished\");\n",
       "    }\n",
       "  \n",
       "    function load_libs(js_urls, callback) {\n",
       "      window._bokeh_onload_callbacks.push(callback);\n",
       "      if (window._bokeh_is_loading > 0) {\n",
       "        console.log(\"Bokeh: BokehJS is being loaded, scheduling callback at\", now());\n",
       "        return null;\n",
       "      }\n",
       "      if (js_urls == null || js_urls.length === 0) {\n",
       "        run_callbacks();\n",
       "        return null;\n",
       "      }\n",
       "      console.log(\"Bokeh: BokehJS not loaded, scheduling load and callback at\", now());\n",
       "      window._bokeh_is_loading = js_urls.length;\n",
       "      for (var i = 0; i < js_urls.length; i++) {\n",
       "        var url = js_urls[i];\n",
       "        var s = document.createElement('script');\n",
       "        s.src = url;\n",
       "        s.async = false;\n",
       "        s.onreadystatechange = s.onload = function() {\n",
       "          window._bokeh_is_loading--;\n",
       "          if (window._bokeh_is_loading === 0) {\n",
       "            console.log(\"Bokeh: all BokehJS libraries loaded\");\n",
       "            run_callbacks()\n",
       "          }\n",
       "        };\n",
       "        s.onerror = function() {\n",
       "          console.warn(\"failed to load library \" + url);\n",
       "        };\n",
       "        console.log(\"Bokeh: injecting script tag for BokehJS library: \", url);\n",
       "        document.getElementsByTagName(\"head\")[0].appendChild(s);\n",
       "      }\n",
       "    };var element = document.getElementById(\"659b4399-fdb5-42f9-b115-67f8c2881183\");\n",
       "    if (element == null) {\n",
       "      console.log(\"Bokeh: ERROR: autoload.js configured with elementid '659b4399-fdb5-42f9-b115-67f8c2881183' but no matching script tag was found. \")\n",
       "      return false;\n",
       "    }\n",
       "  \n",
       "    var js_urls = [];\n",
       "  \n",
       "    var inline_js = [\n",
       "      function(Bokeh) {\n",
       "        Bokeh.$(function() {\n",
       "            var docs_json = {\"93493f90-932a-423f-9f69-a57e693c6d81\":{\"roots\":{\"references\":[{\"attributes\":{\"callback\":null,\"column_names\":[\"top\",\"right\",\"left\"],\"data\":{\"left\":[0.5,1.5,2.5,3.5,4.5,5.5,6.5,7.5,12.5,10.5,11.5,9.5,14.5,8.5,13.5,15.5,16.5,20.5,56.5,17.5,18.5,19.5,21.5,23.5,48.5,51.5,54.5],\"right\":[1.5,2.5,3.5,4.5,5.5,6.5,7.5,8.5,13.5,11.5,12.5,10.5,15.5,9.5,14.5,16.5,17.5,21.5,57.5,18.5,19.5,20.5,22.5,24.5,49.5,52.5,55.5],\"top\":[14985,2962,1435,873,711,180,176,61,57,47,33,29,28,24,11,9,2,2,2,1,1,1,1,1,1,1,1]}},\"id\":\"8b5142cd-d22f-4bec-b86c-8ad94cacc277\",\"type\":\"ColumnDataSource\"},{\"attributes\":{\"axis_label\":\"# of recipients\",\"formatter\":{\"id\":\"43df2ebd-49e7-41cc-b4ae-5affc3dc2b57\",\"type\":\"BasicTickFormatter\"},\"plot\":{\"id\":\"edc325f0-a600-4f6d-99f8-c42d5a909547\",\"subtype\":\"Figure\",\"type\":\"Plot\"},\"ticker\":{\"id\":\"99d4b6aa-a6bd-419a-a7fa-81438d5ecbc8\",\"type\":\"BasicTicker\"}},\"id\":\"e3f0c90a-a3e6-4603-98d2-ea4622bd09a2\",\"type\":\"LinearAxis\"},{\"attributes\":{\"bottom\":{\"value\":0},\"fill_color\":{\"value\":\"#1f77b4\"},\"left\":{\"field\":\"left\"},\"right\":{\"field\":\"right\"},\"top\":{\"field\":\"top\"}},\"id\":\"fb76ec2c-7562-461d-9197-05ec5aad7225\",\"type\":\"Quad\"},{\"attributes\":{\"callback\":null},\"id\":\"973e0c60-54fe-4409-8b05-2d95b4b0ae89\",\"type\":\"DataRange1d\"},{\"attributes\":{\"axis_label\":\"Counts\",\"formatter\":{\"id\":\"16f78971-529e-43ff-bcf3-9c7493fe5258\",\"type\":\"BasicTickFormatter\"},\"plot\":{\"id\":\"edc325f0-a600-4f6d-99f8-c42d5a909547\",\"subtype\":\"Figure\",\"type\":\"Plot\"},\"ticker\":{\"id\":\"21d10cfc-160a-48c5-8cdd-8ea1e8cdf9ea\",\"type\":\"BasicTicker\"}},\"id\":\"f4d7af5c-8c97-41a2-8e74-2fb590b6f394\",\"type\":\"LinearAxis\"},{\"attributes\":{\"data_source\":{\"id\":\"8b5142cd-d22f-4bec-b86c-8ad94cacc277\",\"type\":\"ColumnDataSource\"},\"glyph\":{\"id\":\"fb76ec2c-7562-461d-9197-05ec5aad7225\",\"type\":\"Quad\"},\"hover_glyph\":null,\"nonselection_glyph\":{\"id\":\"db4781eb-3668-45a3-9f3a-843ed8089ca2\",\"type\":\"Quad\"},\"selection_glyph\":null},\"id\":\"472e8b07-fb69-4029-a6d2-a1cf1d026cb4\",\"type\":\"GlyphRenderer\"},{\"attributes\":{},\"id\":\"43df2ebd-49e7-41cc-b4ae-5affc3dc2b57\",\"type\":\"BasicTickFormatter\"},{\"attributes\":{\"dimension\":1,\"plot\":{\"id\":\"edc325f0-a600-4f6d-99f8-c42d5a909547\",\"subtype\":\"Figure\",\"type\":\"Plot\"},\"ticker\":{\"id\":\"21d10cfc-160a-48c5-8cdd-8ea1e8cdf9ea\",\"type\":\"BasicTicker\"}},\"id\":\"352d4f0b-dcc8-4ed4-bc1a-75a4d684189d\",\"type\":\"Grid\"},{\"attributes\":{},\"id\":\"1f5d2172-ca51-4bea-9c2b-9b3063c656d3\",\"type\":\"ToolEvents\"},{\"attributes\":{\"plot\":{\"id\":\"edc325f0-a600-4f6d-99f8-c42d5a909547\",\"subtype\":\"Figure\",\"type\":\"Plot\"},\"ticker\":{\"id\":\"99d4b6aa-a6bd-419a-a7fa-81438d5ecbc8\",\"type\":\"BasicTicker\"}},\"id\":\"b4c33628-1718-4a52-bfc5-2caa878e35b6\",\"type\":\"Grid\"},{\"attributes\":{},\"id\":\"16f78971-529e-43ff-bcf3-9c7493fe5258\",\"type\":\"BasicTickFormatter\"},{\"attributes\":{\"callback\":null},\"id\":\"5f10a3d3-f2a3-4f5f-9ca1-b326d62b3cab\",\"type\":\"DataRange1d\"},{\"attributes\":{\"bottom\":{\"value\":0},\"fill_alpha\":{\"value\":0.1},\"fill_color\":{\"value\":\"#1f77b4\"},\"left\":{\"field\":\"left\"},\"line_alpha\":{\"value\":0.1},\"line_color\":{\"value\":\"#1f77b4\"},\"right\":{\"field\":\"right\"},\"top\":{\"field\":\"top\"}},\"id\":\"db4781eb-3668-45a3-9f3a-843ed8089ca2\",\"type\":\"Quad\"},{\"attributes\":{\"below\":[{\"id\":\"e3f0c90a-a3e6-4603-98d2-ea4622bd09a2\",\"type\":\"LinearAxis\"}],\"left\":[{\"id\":\"f4d7af5c-8c97-41a2-8e74-2fb590b6f394\",\"type\":\"LinearAxis\"}],\"renderers\":[{\"id\":\"e3f0c90a-a3e6-4603-98d2-ea4622bd09a2\",\"type\":\"LinearAxis\"},{\"id\":\"b4c33628-1718-4a52-bfc5-2caa878e35b6\",\"type\":\"Grid\"},{\"id\":\"f4d7af5c-8c97-41a2-8e74-2fb590b6f394\",\"type\":\"LinearAxis\"},{\"id\":\"352d4f0b-dcc8-4ed4-bc1a-75a4d684189d\",\"type\":\"Grid\"},{\"id\":\"472e8b07-fb69-4029-a6d2-a1cf1d026cb4\",\"type\":\"GlyphRenderer\"}],\"title\":\"Message Recipients\",\"tool_events\":{\"id\":\"1f5d2172-ca51-4bea-9c2b-9b3063c656d3\",\"type\":\"ToolEvents\"},\"x_range\":{\"id\":\"5f10a3d3-f2a3-4f5f-9ca1-b326d62b3cab\",\"type\":\"DataRange1d\"},\"y_range\":{\"id\":\"973e0c60-54fe-4409-8b05-2d95b4b0ae89\",\"type\":\"DataRange1d\"}},\"id\":\"edc325f0-a600-4f6d-99f8-c42d5a909547\",\"subtype\":\"Figure\",\"type\":\"Plot\"},{\"attributes\":{},\"id\":\"21d10cfc-160a-48c5-8cdd-8ea1e8cdf9ea\",\"type\":\"BasicTicker\"},{\"attributes\":{},\"id\":\"99d4b6aa-a6bd-419a-a7fa-81438d5ecbc8\",\"type\":\"BasicTicker\"}],\"root_ids\":[\"edc325f0-a600-4f6d-99f8-c42d5a909547\"]},\"title\":\"Bokeh Application\",\"version\":\"0.11.1\"}};\n",
       "            var render_items = [{\"docid\":\"93493f90-932a-423f-9f69-a57e693c6d81\",\"elementid\":\"659b4399-fdb5-42f9-b115-67f8c2881183\",\"modelid\":\"edc325f0-a600-4f6d-99f8-c42d5a909547\",\"notebook_comms_target\":\"f8f3c4f0-c0eb-42ff-957d-61279619a2b8\"}];\n",
       "            \n",
       "            Bokeh.embed.embed_items(docs_json, render_items);\n",
       "        });\n",
       "      },\n",
       "      function(Bokeh) {\n",
       "      }\n",
       "    ];\n",
       "  \n",
       "    function run_inline_js() {\n",
       "      for (var i = 0; i < inline_js.length; i++) {\n",
       "        inline_js[i](window.Bokeh);\n",
       "      }\n",
       "    }\n",
       "  \n",
       "    if (window._bokeh_is_loading === 0) {\n",
       "      console.log(\"Bokeh: BokehJS loaded, going straight to plotting\");\n",
       "      run_inline_js();\n",
       "    } else {\n",
       "      load_libs(js_urls, function() {\n",
       "        console.log(\"Bokeh: BokehJS plotting callback run at\", now());\n",
       "        run_inline_js();\n",
       "      });\n",
       "    }\n",
       "  }(this));\n",
       "</script>"
      ]
     },
     "metadata": {},
     "output_type": "display_data"
    },
    {
     "data": {
      "text/html": [
       "<p><code>&lt;Bokeh Notebook handle for <strong>In[10]</strong>&gt;</code></p>"
      ],
      "text/plain": [
       "<bokeh.io._CommsHandle at 0x7fa039867bd0>"
      ]
     },
     "execution_count": 14,
     "metadata": {},
     "output_type": "execute_result"
    }
   ],
   "source": [
    "x = [i[0] for i in counts.most_common()]\n",
    "y = [i[1] for i in counts.most_common()]\n",
    "left_border = [val-0.5 for val in x]\n",
    "right_border = [val+0.5 for val in x]\n",
    "\n",
    "\n",
    "p= figure(title=\"Message Recipients\",tools='',x_axis_label='# of recipients',y_axis_label='Counts')\n",
    "p.quad(top=y,left=left_border,right=right_border,bottom=0,line_color='black')\n",
    "show(p)"
   ]
  },
  {
   "cell_type": "markdown",
   "metadata": {},
   "source": [
    "Rescale to investigate the tail of the curve"
   ]
  },
  {
   "cell_type": "code",
   "execution_count": 15,
   "metadata": {
    "collapsed": false
   },
   "outputs": [
    {
     "data": {
      "text/html": [
       "\n",
       "\n",
       "    <div class=\"plotdiv\" id=\"98316f9b-efb7-489c-ad3c-79f93e73bb88\"></div>\n",
       "<script type=\"text/javascript\">\n",
       "  \n",
       "  (function(global) {\n",
       "    function now() {\n",
       "      return new Date();\n",
       "    }\n",
       "  \n",
       "    if (typeof (window._bokeh_onload_callbacks) === \"undefined\") {\n",
       "      window._bokeh_onload_callbacks = [];\n",
       "    }\n",
       "  \n",
       "    function run_callbacks() {\n",
       "      window._bokeh_onload_callbacks.forEach(function(callback) { callback() });\n",
       "      delete window._bokeh_onload_callbacks\n",
       "      console.info(\"Bokeh: all callbacks have finished\");\n",
       "    }\n",
       "  \n",
       "    function load_libs(js_urls, callback) {\n",
       "      window._bokeh_onload_callbacks.push(callback);\n",
       "      if (window._bokeh_is_loading > 0) {\n",
       "        console.log(\"Bokeh: BokehJS is being loaded, scheduling callback at\", now());\n",
       "        return null;\n",
       "      }\n",
       "      if (js_urls == null || js_urls.length === 0) {\n",
       "        run_callbacks();\n",
       "        return null;\n",
       "      }\n",
       "      console.log(\"Bokeh: BokehJS not loaded, scheduling load and callback at\", now());\n",
       "      window._bokeh_is_loading = js_urls.length;\n",
       "      for (var i = 0; i < js_urls.length; i++) {\n",
       "        var url = js_urls[i];\n",
       "        var s = document.createElement('script');\n",
       "        s.src = url;\n",
       "        s.async = false;\n",
       "        s.onreadystatechange = s.onload = function() {\n",
       "          window._bokeh_is_loading--;\n",
       "          if (window._bokeh_is_loading === 0) {\n",
       "            console.log(\"Bokeh: all BokehJS libraries loaded\");\n",
       "            run_callbacks()\n",
       "          }\n",
       "        };\n",
       "        s.onerror = function() {\n",
       "          console.warn(\"failed to load library \" + url);\n",
       "        };\n",
       "        console.log(\"Bokeh: injecting script tag for BokehJS library: \", url);\n",
       "        document.getElementsByTagName(\"head\")[0].appendChild(s);\n",
       "      }\n",
       "    };var element = document.getElementById(\"98316f9b-efb7-489c-ad3c-79f93e73bb88\");\n",
       "    if (element == null) {\n",
       "      console.log(\"Bokeh: ERROR: autoload.js configured with elementid '98316f9b-efb7-489c-ad3c-79f93e73bb88' but no matching script tag was found. \")\n",
       "      return false;\n",
       "    }\n",
       "  \n",
       "    var js_urls = [];\n",
       "  \n",
       "    var inline_js = [\n",
       "      function(Bokeh) {\n",
       "        Bokeh.$(function() {\n",
       "            var docs_json = {\"f5f8f320-8f7c-4375-88b4-8ce2f5dff859\":{\"roots\":{\"references\":[{\"attributes\":{\"callback\":null},\"id\":\"973e0c60-54fe-4409-8b05-2d95b4b0ae89\",\"type\":\"DataRange1d\"},{\"attributes\":{\"axis_label\":\"Counts\",\"formatter\":{\"id\":\"16f78971-529e-43ff-bcf3-9c7493fe5258\",\"type\":\"BasicTickFormatter\"},\"plot\":{\"id\":\"edc325f0-a600-4f6d-99f8-c42d5a909547\",\"subtype\":\"Figure\",\"type\":\"Plot\"},\"ticker\":{\"id\":\"21d10cfc-160a-48c5-8cdd-8ea1e8cdf9ea\",\"type\":\"BasicTicker\"}},\"id\":\"f4d7af5c-8c97-41a2-8e74-2fb590b6f394\",\"type\":\"LinearAxis\"},{\"attributes\":{\"data_source\":{\"id\":\"8b5142cd-d22f-4bec-b86c-8ad94cacc277\",\"type\":\"ColumnDataSource\"},\"glyph\":{\"id\":\"fb76ec2c-7562-461d-9197-05ec5aad7225\",\"type\":\"Quad\"},\"hover_glyph\":null,\"nonselection_glyph\":{\"id\":\"db4781eb-3668-45a3-9f3a-843ed8089ca2\",\"type\":\"Quad\"},\"selection_glyph\":null},\"id\":\"472e8b07-fb69-4029-a6d2-a1cf1d026cb4\",\"type\":\"GlyphRenderer\"},{\"attributes\":{\"axis_label\":\"Counts\",\"formatter\":{\"id\":\"e36afcdc-b6cd-491f-889b-5cc0708e4a9b\",\"type\":\"BasicTickFormatter\"},\"plot\":{\"id\":\"53b8c775-7ddc-4f5e-a041-a97bf323aad7\",\"subtype\":\"Figure\",\"type\":\"Plot\"},\"ticker\":{\"id\":\"0e7aa916-57a9-41d6-a473-f643fe83ef77\",\"type\":\"BasicTicker\"}},\"id\":\"277dc063-549d-402c-a6c2-c6fe42cc5caf\",\"type\":\"LinearAxis\"},{\"attributes\":{\"below\":[{\"id\":\"e3f0c90a-a3e6-4603-98d2-ea4622bd09a2\",\"type\":\"LinearAxis\"}],\"left\":[{\"id\":\"f4d7af5c-8c97-41a2-8e74-2fb590b6f394\",\"type\":\"LinearAxis\"}],\"renderers\":[{\"id\":\"e3f0c90a-a3e6-4603-98d2-ea4622bd09a2\",\"type\":\"LinearAxis\"},{\"id\":\"b4c33628-1718-4a52-bfc5-2caa878e35b6\",\"type\":\"Grid\"},{\"id\":\"f4d7af5c-8c97-41a2-8e74-2fb590b6f394\",\"type\":\"LinearAxis\"},{\"id\":\"352d4f0b-dcc8-4ed4-bc1a-75a4d684189d\",\"type\":\"Grid\"},{\"id\":\"472e8b07-fb69-4029-a6d2-a1cf1d026cb4\",\"type\":\"GlyphRenderer\"}],\"title\":\"Message Recipients\",\"tool_events\":{\"id\":\"1f5d2172-ca51-4bea-9c2b-9b3063c656d3\",\"type\":\"ToolEvents\"},\"x_range\":{\"id\":\"5f10a3d3-f2a3-4f5f-9ca1-b326d62b3cab\",\"type\":\"DataRange1d\"},\"y_range\":{\"id\":\"973e0c60-54fe-4409-8b05-2d95b4b0ae89\",\"type\":\"DataRange1d\"}},\"id\":\"edc325f0-a600-4f6d-99f8-c42d5a909547\",\"subtype\":\"Figure\",\"type\":\"Plot\"},{\"attributes\":{\"callback\":null,\"column_names\":[\"top\",\"right\",\"left\"],\"data\":{\"left\":[0.5,1.5,2.5,3.5,4.5,5.5,6.5,7.5,12.5,10.5,11.5,9.5,14.5,8.5,13.5,15.5,16.5,20.5,56.5,17.5,18.5,19.5,21.5,23.5,48.5,51.5,54.5],\"right\":[1.5,2.5,3.5,4.5,5.5,6.5,7.5,8.5,13.5,11.5,12.5,10.5,15.5,9.5,14.5,16.5,17.5,21.5,57.5,18.5,19.5,20.5,22.5,24.5,49.5,52.5,55.5],\"top\":[14985,2962,1435,873,711,180,176,61,57,47,33,29,28,24,11,9,2,2,2,1,1,1,1,1,1,1,1]}},\"id\":\"8b5142cd-d22f-4bec-b86c-8ad94cacc277\",\"type\":\"ColumnDataSource\"},{\"attributes\":{\"data_source\":{\"id\":\"1fe50887-e08a-495d-b532-0d30c2fab1b0\",\"type\":\"ColumnDataSource\"},\"glyph\":{\"id\":\"377ff189-723b-470a-ae16-ce6fabea7d54\",\"type\":\"Quad\"},\"hover_glyph\":null,\"nonselection_glyph\":{\"id\":\"9d5bb996-f009-4401-80fb-2dce8398f83e\",\"type\":\"Quad\"},\"selection_glyph\":null},\"id\":\"ee4ec690-13c4-40be-b05d-a145d675423b\",\"type\":\"GlyphRenderer\"},{\"attributes\":{\"callback\":null},\"id\":\"80f3ca94-c33e-490f-b111-63789a67d428\",\"type\":\"DataRange1d\"},{\"attributes\":{},\"id\":\"43df2ebd-49e7-41cc-b4ae-5affc3dc2b57\",\"type\":\"BasicTickFormatter\"},{\"attributes\":{\"bottom\":{\"value\":0},\"fill_color\":{\"value\":\"#1f77b4\"},\"left\":{\"field\":\"left\"},\"right\":{\"field\":\"right\"},\"top\":{\"field\":\"top\"}},\"id\":\"377ff189-723b-470a-ae16-ce6fabea7d54\",\"type\":\"Quad\"},{\"attributes\":{},\"id\":\"1f5d2172-ca51-4bea-9c2b-9b3063c656d3\",\"type\":\"ToolEvents\"},{\"attributes\":{},\"id\":\"16f78971-529e-43ff-bcf3-9c7493fe5258\",\"type\":\"BasicTickFormatter\"},{\"attributes\":{\"callback\":null},\"id\":\"5f10a3d3-f2a3-4f5f-9ca1-b326d62b3cab\",\"type\":\"DataRange1d\"},{\"attributes\":{},\"id\":\"99d4b6aa-a6bd-419a-a7fa-81438d5ecbc8\",\"type\":\"BasicTicker\"},{\"attributes\":{\"bottom\":{\"value\":0},\"fill_alpha\":{\"value\":0.1},\"fill_color\":{\"value\":\"#1f77b4\"},\"left\":{\"field\":\"left\"},\"line_alpha\":{\"value\":0.1},\"line_color\":{\"value\":\"#1f77b4\"},\"right\":{\"field\":\"right\"},\"top\":{\"field\":\"top\"}},\"id\":\"9d5bb996-f009-4401-80fb-2dce8398f83e\",\"type\":\"Quad\"},{\"attributes\":{\"dimension\":1,\"plot\":{\"id\":\"53b8c775-7ddc-4f5e-a041-a97bf323aad7\",\"subtype\":\"Figure\",\"type\":\"Plot\"},\"ticker\":{\"id\":\"0e7aa916-57a9-41d6-a473-f643fe83ef77\",\"type\":\"BasicTicker\"}},\"id\":\"8839e55f-b22e-4196-aab0-a8dd1871d863\",\"type\":\"Grid\"},{\"attributes\":{},\"id\":\"e36afcdc-b6cd-491f-889b-5cc0708e4a9b\",\"type\":\"BasicTickFormatter\"},{\"attributes\":{\"bottom\":{\"value\":0},\"fill_alpha\":{\"value\":0.1},\"fill_color\":{\"value\":\"#1f77b4\"},\"left\":{\"field\":\"left\"},\"line_alpha\":{\"value\":0.1},\"line_color\":{\"value\":\"#1f77b4\"},\"right\":{\"field\":\"right\"},\"top\":{\"field\":\"top\"}},\"id\":\"db4781eb-3668-45a3-9f3a-843ed8089ca2\",\"type\":\"Quad\"},{\"attributes\":{\"below\":[{\"id\":\"d2cc2015-e3e2-45b2-9ec0-09034b56f762\",\"type\":\"LinearAxis\"}],\"left\":[{\"id\":\"277dc063-549d-402c-a6c2-c6fe42cc5caf\",\"type\":\"LinearAxis\"}],\"renderers\":[{\"id\":\"d2cc2015-e3e2-45b2-9ec0-09034b56f762\",\"type\":\"LinearAxis\"},{\"id\":\"9fb4360e-846b-41ea-b86a-eb2b53339bcd\",\"type\":\"Grid\"},{\"id\":\"277dc063-549d-402c-a6c2-c6fe42cc5caf\",\"type\":\"LinearAxis\"},{\"id\":\"8839e55f-b22e-4196-aab0-a8dd1871d863\",\"type\":\"Grid\"},{\"id\":\"ee4ec690-13c4-40be-b05d-a145d675423b\",\"type\":\"GlyphRenderer\"}],\"title\":\"Message Recipients\",\"tool_events\":{\"id\":\"25a91828-b759-46a4-a0d1-ccc21c5c2238\",\"type\":\"ToolEvents\"},\"x_range\":{\"id\":\"04777720-bcc8-49d2-a269-eed9666d93ad\",\"type\":\"DataRange1d\"},\"y_range\":{\"id\":\"80f3ca94-c33e-490f-b111-63789a67d428\",\"type\":\"DataRange1d\"}},\"id\":\"53b8c775-7ddc-4f5e-a041-a97bf323aad7\",\"subtype\":\"Figure\",\"type\":\"Plot\"},{\"attributes\":{\"axis_label\":\"# of recipients\",\"formatter\":{\"id\":\"43df2ebd-49e7-41cc-b4ae-5affc3dc2b57\",\"type\":\"BasicTickFormatter\"},\"plot\":{\"id\":\"edc325f0-a600-4f6d-99f8-c42d5a909547\",\"subtype\":\"Figure\",\"type\":\"Plot\"},\"ticker\":{\"id\":\"99d4b6aa-a6bd-419a-a7fa-81438d5ecbc8\",\"type\":\"BasicTicker\"}},\"id\":\"e3f0c90a-a3e6-4603-98d2-ea4622bd09a2\",\"type\":\"LinearAxis\"},{\"attributes\":{\"bottom\":{\"value\":0},\"fill_color\":{\"value\":\"#1f77b4\"},\"left\":{\"field\":\"left\"},\"right\":{\"field\":\"right\"},\"top\":{\"field\":\"top\"}},\"id\":\"fb76ec2c-7562-461d-9197-05ec5aad7225\",\"type\":\"Quad\"},{\"attributes\":{},\"id\":\"0e7aa916-57a9-41d6-a473-f643fe83ef77\",\"type\":\"BasicTicker\"},{\"attributes\":{},\"id\":\"fea20f03-b41c-4a47-b556-a64d84352d19\",\"type\":\"BasicTicker\"},{\"attributes\":{},\"id\":\"21d10cfc-160a-48c5-8cdd-8ea1e8cdf9ea\",\"type\":\"BasicTicker\"},{\"attributes\":{\"plot\":{\"id\":\"53b8c775-7ddc-4f5e-a041-a97bf323aad7\",\"subtype\":\"Figure\",\"type\":\"Plot\"},\"ticker\":{\"id\":\"fea20f03-b41c-4a47-b556-a64d84352d19\",\"type\":\"BasicTicker\"}},\"id\":\"9fb4360e-846b-41ea-b86a-eb2b53339bcd\",\"type\":\"Grid\"},{\"attributes\":{\"callback\":null,\"column_names\":[\"top\",\"right\",\"left\"],\"data\":{\"left\":[5.5,6.5,7.5,12.5,10.5,11.5,9.5,14.5,8.5,13.5,15.5,16.5,20.5,56.5,17.5,18.5,19.5,21.5,23.5,48.5,51.5,54.5],\"right\":[6.5,7.5,8.5,13.5,11.5,12.5,10.5,15.5,9.5,14.5,16.5,17.5,21.5,57.5,18.5,19.5,20.5,22.5,24.5,49.5,52.5,55.5],\"top\":[180,176,61,57,47,33,29,28,24,11,9,2,2,2,1,1,1,1,1,1,1,1]}},\"id\":\"1fe50887-e08a-495d-b532-0d30c2fab1b0\",\"type\":\"ColumnDataSource\"},{\"attributes\":{},\"id\":\"25a91828-b759-46a4-a0d1-ccc21c5c2238\",\"type\":\"ToolEvents\"},{\"attributes\":{},\"id\":\"c956a63a-18c6-4d13-a46d-d902970536ee\",\"type\":\"BasicTickFormatter\"},{\"attributes\":{\"dimension\":1,\"plot\":{\"id\":\"edc325f0-a600-4f6d-99f8-c42d5a909547\",\"subtype\":\"Figure\",\"type\":\"Plot\"},\"ticker\":{\"id\":\"21d10cfc-160a-48c5-8cdd-8ea1e8cdf9ea\",\"type\":\"BasicTicker\"}},\"id\":\"352d4f0b-dcc8-4ed4-bc1a-75a4d684189d\",\"type\":\"Grid\"},{\"attributes\":{\"plot\":{\"id\":\"edc325f0-a600-4f6d-99f8-c42d5a909547\",\"subtype\":\"Figure\",\"type\":\"Plot\"},\"ticker\":{\"id\":\"99d4b6aa-a6bd-419a-a7fa-81438d5ecbc8\",\"type\":\"BasicTicker\"}},\"id\":\"b4c33628-1718-4a52-bfc5-2caa878e35b6\",\"type\":\"Grid\"},{\"attributes\":{\"axis_label\":\"# of recipients\",\"formatter\":{\"id\":\"c956a63a-18c6-4d13-a46d-d902970536ee\",\"type\":\"BasicTickFormatter\"},\"plot\":{\"id\":\"53b8c775-7ddc-4f5e-a041-a97bf323aad7\",\"subtype\":\"Figure\",\"type\":\"Plot\"},\"ticker\":{\"id\":\"fea20f03-b41c-4a47-b556-a64d84352d19\",\"type\":\"BasicTicker\"}},\"id\":\"d2cc2015-e3e2-45b2-9ec0-09034b56f762\",\"type\":\"LinearAxis\"},{\"attributes\":{\"callback\":null},\"id\":\"04777720-bcc8-49d2-a269-eed9666d93ad\",\"type\":\"DataRange1d\"}],\"root_ids\":[\"edc325f0-a600-4f6d-99f8-c42d5a909547\",\"53b8c775-7ddc-4f5e-a041-a97bf323aad7\"]},\"title\":\"Bokeh Application\",\"version\":\"0.11.1\"}};\n",
       "            var render_items = [{\"docid\":\"f5f8f320-8f7c-4375-88b4-8ce2f5dff859\",\"elementid\":\"98316f9b-efb7-489c-ad3c-79f93e73bb88\",\"modelid\":\"53b8c775-7ddc-4f5e-a041-a97bf323aad7\",\"notebook_comms_target\":\"3c6c5f11-0ba9-457c-b999-965ef5e94e2b\"}];\n",
       "            \n",
       "            Bokeh.embed.embed_items(docs_json, render_items);\n",
       "        });\n",
       "      },\n",
       "      function(Bokeh) {\n",
       "      }\n",
       "    ];\n",
       "  \n",
       "    function run_inline_js() {\n",
       "      for (var i = 0; i < inline_js.length; i++) {\n",
       "        inline_js[i](window.Bokeh);\n",
       "      }\n",
       "    }\n",
       "  \n",
       "    if (window._bokeh_is_loading === 0) {\n",
       "      console.log(\"Bokeh: BokehJS loaded, going straight to plotting\");\n",
       "      run_inline_js();\n",
       "    } else {\n",
       "      load_libs(js_urls, function() {\n",
       "        console.log(\"Bokeh: BokehJS plotting callback run at\", now());\n",
       "        run_inline_js();\n",
       "      });\n",
       "    }\n",
       "  }(this));\n",
       "</script>"
      ]
     },
     "metadata": {},
     "output_type": "display_data"
    },
    {
     "data": {
      "text/html": [
       "<p><code>&lt;Bokeh Notebook handle for <strong>In[10]</strong>&gt;</code></p>"
      ],
      "text/plain": [
       "<bokeh.io._CommsHandle at 0x7fa0397d84d0>"
      ]
     },
     "execution_count": 15,
     "metadata": {},
     "output_type": "execute_result"
    }
   ],
   "source": [
    "x = [i[0] for i in counts.most_common()[5:]]  # chop off the first 5\n",
    "y = [i[1] for i in counts.most_common()[5:]]  # chop off the first 5\n",
    "left_border = [val-0.5 for val in x]\n",
    "right_border = [val+0.5 for val in x]\n",
    "\n",
    "\n",
    "p= figure(title=\"Message Recipients\",tools='',x_axis_label='# of recipients',y_axis_label='Counts')\n",
    "p.quad(top=y,left=left_border,right=right_border,bottom=0,line_color='black')\n",
    "show(p)"
   ]
  },
  {
   "cell_type": "markdown",
   "metadata": {},
   "source": [
    "## 3. Data Merging\n",
    "\n",
    "Use the pandas merge function to combine the information in the 3 dataframes to answer the following questions:\n",
    "\n",
    "1. Are there more Men or Women employees?\n",
    "- How is gender distributed across departments?\n",
    "- Who is sending more emails? Men or Women?\n",
    "- What's the average number of emails sent by each gender?\n",
    "- Are there more Juniors or Seniors?\n",
    "- Who is sending more emails? Juniors or Seniors?\n",
    "- Which department is sending more emails? How does that relate with the number of employees in the department?\n",
    "- Who are the top 3 senders of emails? (people who sent out the most emails)"
   ]
  },
  {
   "cell_type": "code",
   "execution_count": 16,
   "metadata": {
    "collapsed": false
   },
   "outputs": [
    {
     "data": {
      "text/plain": [
       "Male      113\n",
       "Female     43\n",
       "Name: gender, dtype: int64"
      ]
     },
     "execution_count": 16,
     "metadata": {},
     "output_type": "execute_result"
    }
   ],
   "source": [
    "employees.gender.value_counts()"
   ]
  },
  {
   "cell_type": "markdown",
   "metadata": {},
   "source": [
    "More men"
   ]
  },
  {
   "cell_type": "code",
   "execution_count": 17,
   "metadata": {
    "collapsed": false
   },
   "outputs": [
    {
     "data": {
      "text/plain": [
       "Male      0.724359\n",
       "Female    0.275641\n",
       "Name: gender, dtype: float64"
      ]
     },
     "execution_count": 17,
     "metadata": {},
     "output_type": "execute_result"
    }
   ],
   "source": [
    "employees.gender.value_counts() / employees.gender.count()"
   ]
  },
  {
   "cell_type": "code",
   "execution_count": 18,
   "metadata": {
    "collapsed": false
   },
   "outputs": [
    {
     "data": {
      "text/plain": [
       "department  gender\n",
       "Forestry    Male      0.833333\n",
       "            Female    0.166667\n",
       "Legal       Female    0.520000\n",
       "            Male      0.480000\n",
       "Other       Male      0.718310\n",
       "            Female    0.281690\n",
       "Name: gender, dtype: float64"
      ]
     },
     "execution_count": 18,
     "metadata": {},
     "output_type": "execute_result"
    }
   ],
   "source": [
    "# How is gender distributed across departments?\n",
    "employees.groupby('department')['gender'].value_counts() / employees.groupby('department')['gender'].count()"
   ]
  },
  {
   "cell_type": "markdown",
   "metadata": {},
   "source": [
    "    Forestry 83% Male\n",
    "    Legal    48% Male\n",
    "    Other    72% Male\n",
    "    Company  72% Male"
   ]
  },
  {
   "cell_type": "code",
   "execution_count": 19,
   "metadata": {
    "collapsed": false
   },
   "outputs": [
    {
     "data": {
      "text/plain": [
       "Male      0.593529\n",
       "Female    0.406471\n",
       "Name: gender, dtype: float64"
      ]
     },
     "execution_count": 19,
     "metadata": {},
     "output_type": "execute_result"
    }
   ],
   "source": [
    "# Who is sending more emails? Men or Women?\n",
    "df = pd.merge(employees, messages, left_on='eid', right_on='from_eid')\n",
    "df.gender.value_counts() / df.gender.count()"
   ]
  },
  {
   "cell_type": "code",
   "execution_count": 20,
   "metadata": {
    "collapsed": false
   },
   "outputs": [
    {
     "data": {
      "text/plain": [
       "Male      113.637168\n",
       "Female    204.511628\n",
       "Name: gender, dtype: float64"
      ]
     },
     "execution_count": 20,
     "metadata": {},
     "output_type": "execute_result"
    }
   ],
   "source": [
    "# What's the average number of emails sent by each gender?\n",
    "df.gender.value_counts() / employees.gender.value_counts()"
   ]
  },
  {
   "cell_type": "markdown",
   "metadata": {},
   "source": [
    "Women sent almost twice as many messages on average"
   ]
  },
  {
   "cell_type": "code",
   "execution_count": 21,
   "metadata": {
    "collapsed": false
   },
   "outputs": [
    {
     "data": {
      "text/plain": [
       "Junior    82\n",
       "Senior    74\n",
       "Name: seniority, dtype: int64"
      ]
     },
     "execution_count": 21,
     "metadata": {},
     "output_type": "execute_result"
    }
   ],
   "source": [
    "employees.seniority.value_counts()"
   ]
  },
  {
   "cell_type": "code",
   "execution_count": 22,
   "metadata": {
    "collapsed": false
   },
   "outputs": [
    {
     "data": {
      "text/plain": [
       "Senior    12439\n",
       "Junior     9196\n",
       "Name: seniority, dtype: int64"
      ]
     },
     "execution_count": 22,
     "metadata": {},
     "output_type": "execute_result"
    }
   ],
   "source": [
    "df.seniority.value_counts()"
   ]
  },
  {
   "cell_type": "code",
   "execution_count": 23,
   "metadata": {
    "collapsed": false
   },
   "outputs": [
    {
     "data": {
      "text/plain": [
       "Junior    112.146341\n",
       "Senior    168.094595\n",
       "Name: seniority, dtype: float64"
      ]
     },
     "execution_count": 23,
     "metadata": {},
     "output_type": "execute_result"
    }
   ],
   "source": [
    "df.seniority.value_counts() / employees.seniority.value_counts()"
   ]
  },
  {
   "cell_type": "markdown",
   "metadata": {},
   "source": [
    "Senior employees send more messages in absolute value and also on average"
   ]
  },
  {
   "cell_type": "code",
   "execution_count": 24,
   "metadata": {
    "collapsed": false
   },
   "outputs": [
    {
     "data": {
      "text/plain": [
       "Legal       10396\n",
       "Other        6852\n",
       "Forestry     4387\n",
       "Name: department, dtype: int64"
      ]
     },
     "execution_count": 24,
     "metadata": {},
     "output_type": "execute_result"
    }
   ],
   "source": [
    "# Which department is sending more emails? How does that relate with the number of employees in the department?\n",
    "df.department.value_counts()"
   ]
  },
  {
   "cell_type": "code",
   "execution_count": 25,
   "metadata": {
    "collapsed": false
   },
   "outputs": [
    {
     "data": {
      "text/plain": [
       "Forestry     73.116667\n",
       "Legal       415.840000\n",
       "Other        96.507042\n",
       "Name: department, dtype: float64"
      ]
     },
     "execution_count": 25,
     "metadata": {},
     "output_type": "execute_result"
    }
   ],
   "source": [
    "df.department.value_counts() / employees.department.value_counts()"
   ]
  },
  {
   "cell_type": "markdown",
   "metadata": {},
   "source": [
    "Legal is sending many more messages than the other departments"
   ]
  },
  {
   "cell_type": "code",
   "execution_count": 26,
   "metadata": {
    "collapsed": false
   },
   "outputs": [
    {
     "data": {
      "text/html": [
       "<div>\n",
       "<table border=\"1\" class=\"dataframe\">\n",
       "  <thead>\n",
       "    <tr style=\"text-align: right;\">\n",
       "      <th></th>\n",
       "      <th>eid</th>\n",
       "      <th>msgs_sent</th>\n",
       "    </tr>\n",
       "  </thead>\n",
       "  <tbody>\n",
       "    <tr>\n",
       "      <th>0</th>\n",
       "      <td>20</td>\n",
       "      <td>1597</td>\n",
       "    </tr>\n",
       "    <tr>\n",
       "      <th>1</th>\n",
       "      <td>59</td>\n",
       "      <td>1379</td>\n",
       "    </tr>\n",
       "    <tr>\n",
       "      <th>2</th>\n",
       "      <td>120</td>\n",
       "      <td>1142</td>\n",
       "    </tr>\n",
       "    <tr>\n",
       "      <th>3</th>\n",
       "      <td>131</td>\n",
       "      <td>859</td>\n",
       "    </tr>\n",
       "    <tr>\n",
       "      <th>4</th>\n",
       "      <td>138</td>\n",
       "      <td>658</td>\n",
       "    </tr>\n",
       "  </tbody>\n",
       "</table>\n",
       "</div>"
      ],
      "text/plain": [
       "   eid  msgs_sent\n",
       "0   20       1597\n",
       "1   59       1379\n",
       "2  120       1142\n",
       "3  131        859\n",
       "4  138        658"
      ]
     },
     "execution_count": 26,
     "metadata": {},
     "output_type": "execute_result"
    }
   ],
   "source": [
    "# Who are the top 5 senders of emails? (people who sent out the most emails)\n",
    "top5senders = df.eid.value_counts().head().reset_index()\n",
    "top5senders.columns = ['eid', 'msgs_sent']\n",
    "top5senders"
   ]
  },
  {
   "cell_type": "code",
   "execution_count": 27,
   "metadata": {
    "collapsed": false
   },
   "outputs": [
    {
     "data": {
      "text/html": [
       "<div>\n",
       "<table border=\"1\" class=\"dataframe\">\n",
       "  <thead>\n",
       "    <tr style=\"text-align: right;\">\n",
       "      <th></th>\n",
       "      <th>eid</th>\n",
       "      <th>name</th>\n",
       "      <th>department</th>\n",
       "      <th>longdepartment</th>\n",
       "      <th>title</th>\n",
       "      <th>gender</th>\n",
       "      <th>seniority</th>\n",
       "      <th>msgs_sent</th>\n",
       "    </tr>\n",
       "  </thead>\n",
       "  <tbody>\n",
       "    <tr>\n",
       "      <th>0</th>\n",
       "      <td>20</td>\n",
       "      <td>Jeff Dasovich</td>\n",
       "      <td>Legal</td>\n",
       "      <td>Regulatory and Government Affairs</td>\n",
       "      <td>Director</td>\n",
       "      <td>Male</td>\n",
       "      <td>Senior</td>\n",
       "      <td>1597</td>\n",
       "    </tr>\n",
       "    <tr>\n",
       "      <th>1</th>\n",
       "      <td>59</td>\n",
       "      <td>Tana Jones</td>\n",
       "      <td>Legal</td>\n",
       "      <td>ENA Legal</td>\n",
       "      <td>Specialist Legal</td>\n",
       "      <td>Female</td>\n",
       "      <td>Junior</td>\n",
       "      <td>1379</td>\n",
       "    </tr>\n",
       "    <tr>\n",
       "      <th>2</th>\n",
       "      <td>120</td>\n",
       "      <td>Sara Shackleton</td>\n",
       "      <td>Legal</td>\n",
       "      <td>ENA Legal</td>\n",
       "      <td>Gen Cnsl Asst</td>\n",
       "      <td>Female</td>\n",
       "      <td>Junior</td>\n",
       "      <td>1142</td>\n",
       "    </tr>\n",
       "    <tr>\n",
       "      <th>3</th>\n",
       "      <td>131</td>\n",
       "      <td>James D. Steffes</td>\n",
       "      <td>Legal</td>\n",
       "      <td>Regulatory and Government Affairs</td>\n",
       "      <td>VP of Government Affairs</td>\n",
       "      <td>Male</td>\n",
       "      <td>Senior</td>\n",
       "      <td>859</td>\n",
       "    </tr>\n",
       "    <tr>\n",
       "      <th>4</th>\n",
       "      <td>138</td>\n",
       "      <td>Mark E. Taylor</td>\n",
       "      <td>Legal</td>\n",
       "      <td>ENA Legal</td>\n",
       "      <td>VP &amp; Gen Cnsl</td>\n",
       "      <td>Male</td>\n",
       "      <td>Senior</td>\n",
       "      <td>658</td>\n",
       "    </tr>\n",
       "  </tbody>\n",
       "</table>\n",
       "</div>"
      ],
      "text/plain": [
       "   eid              name department                     longdepartment  \\\n",
       "0   20     Jeff Dasovich      Legal  Regulatory and Government Affairs   \n",
       "1   59        Tana Jones      Legal                          ENA Legal   \n",
       "2  120   Sara Shackleton      Legal                          ENA Legal   \n",
       "3  131  James D. Steffes      Legal  Regulatory and Government Affairs   \n",
       "4  138    Mark E. Taylor      Legal                          ENA Legal   \n",
       "\n",
       "                      title  gender seniority  msgs_sent  \n",
       "0                  Director    Male    Senior       1597  \n",
       "1          Specialist Legal  Female    Junior       1379  \n",
       "2             Gen Cnsl Asst  Female    Junior       1142  \n",
       "3  VP of Government Affairs    Male    Senior        859  \n",
       "4             VP & Gen Cnsl    Male    Senior        658  "
      ]
     },
     "execution_count": 27,
     "metadata": {},
     "output_type": "execute_result"
    }
   ],
   "source": [
    "pd.merge(employees, top5senders, on='eid')"
   ]
  },
  {
   "cell_type": "markdown",
   "metadata": {},
   "source": [
    "# 3.b (Optional) More merging\n",
    "\n",
    "Answer the following questions regarding received messages:\n",
    "\n",
    "- Who is receiving more emails? Men or Women?\n",
    "- Who is receiving more emails? Juniors or Seniors?\n",
    "- Which department is receiving more emails? How does that relate with the number of employees in the department?\n",
    "- Who are the top 5 receivers of emails? (people who received the most emails)"
   ]
  },
  {
   "cell_type": "code",
   "execution_count": 28,
   "metadata": {
    "collapsed": true
   },
   "outputs": [],
   "source": [
    "# Who is receiving more emails? Men or Women?"
   ]
  },
  {
   "cell_type": "code",
   "execution_count": 29,
   "metadata": {
    "collapsed": false
   },
   "outputs": [
    {
     "data": {
      "text/html": [
       "<div>\n",
       "<table border=\"1\" class=\"dataframe\">\n",
       "  <thead>\n",
       "    <tr style=\"text-align: right;\">\n",
       "      <th></th>\n",
       "      <th>eid_x</th>\n",
       "      <th>name_x</th>\n",
       "      <th>department_x</th>\n",
       "      <th>longdepartment_x</th>\n",
       "      <th>title_x</th>\n",
       "      <th>gender_x</th>\n",
       "      <th>seniority_x</th>\n",
       "      <th>mid</th>\n",
       "      <th>filename</th>\n",
       "      <th>unix_time</th>\n",
       "      <th>...</th>\n",
       "      <th>from_eid</th>\n",
       "      <th>rno</th>\n",
       "      <th>to_eid</th>\n",
       "      <th>eid_y</th>\n",
       "      <th>name_y</th>\n",
       "      <th>department_y</th>\n",
       "      <th>longdepartment_y</th>\n",
       "      <th>title_y</th>\n",
       "      <th>gender_y</th>\n",
       "      <th>seniority_y</th>\n",
       "    </tr>\n",
       "  </thead>\n",
       "  <tbody>\n",
       "    <tr>\n",
       "      <th>0</th>\n",
       "      <td>1</td>\n",
       "      <td>John Arnold</td>\n",
       "      <td>Forestry</td>\n",
       "      <td>ENA Gas Financial</td>\n",
       "      <td>VP Trading</td>\n",
       "      <td>Male</td>\n",
       "      <td>Senior</td>\n",
       "      <td>1611</td>\n",
       "      <td>arnold-j/sent/379</td>\n",
       "      <td>954317280</td>\n",
       "      <td>...</td>\n",
       "      <td>1</td>\n",
       "      <td>1</td>\n",
       "      <td>42</td>\n",
       "      <td>42</td>\n",
       "      <td>John Griffith</td>\n",
       "      <td>Forestry</td>\n",
       "      <td>ENA Gas Financial</td>\n",
       "      <td>Mgr Trading</td>\n",
       "      <td>Male</td>\n",
       "      <td>Junior</td>\n",
       "    </tr>\n",
       "    <tr>\n",
       "      <th>1</th>\n",
       "      <td>1</td>\n",
       "      <td>John Arnold</td>\n",
       "      <td>Forestry</td>\n",
       "      <td>ENA Gas Financial</td>\n",
       "      <td>VP Trading</td>\n",
       "      <td>Male</td>\n",
       "      <td>Senior</td>\n",
       "      <td>4828</td>\n",
       "      <td>arnold-j/sent/151</td>\n",
       "      <td>970463160</td>\n",
       "      <td>...</td>\n",
       "      <td>1</td>\n",
       "      <td>3</td>\n",
       "      <td>42</td>\n",
       "      <td>42</td>\n",
       "      <td>John Griffith</td>\n",
       "      <td>Forestry</td>\n",
       "      <td>ENA Gas Financial</td>\n",
       "      <td>Mgr Trading</td>\n",
       "      <td>Male</td>\n",
       "      <td>Junior</td>\n",
       "    </tr>\n",
       "    <tr>\n",
       "      <th>2</th>\n",
       "      <td>1</td>\n",
       "      <td>John Arnold</td>\n",
       "      <td>Forestry</td>\n",
       "      <td>ENA Gas Financial</td>\n",
       "      <td>VP Trading</td>\n",
       "      <td>Male</td>\n",
       "      <td>Senior</td>\n",
       "      <td>5026</td>\n",
       "      <td>arnold-j/sent/132</td>\n",
       "      <td>971078940</td>\n",
       "      <td>...</td>\n",
       "      <td>1</td>\n",
       "      <td>1</td>\n",
       "      <td>42</td>\n",
       "      <td>42</td>\n",
       "      <td>John Griffith</td>\n",
       "      <td>Forestry</td>\n",
       "      <td>ENA Gas Financial</td>\n",
       "      <td>Mgr Trading</td>\n",
       "      <td>Male</td>\n",
       "      <td>Junior</td>\n",
       "    </tr>\n",
       "    <tr>\n",
       "      <th>3</th>\n",
       "      <td>1</td>\n",
       "      <td>John Arnold</td>\n",
       "      <td>Forestry</td>\n",
       "      <td>ENA Gas Financial</td>\n",
       "      <td>VP Trading</td>\n",
       "      <td>Male</td>\n",
       "      <td>Senior</td>\n",
       "      <td>7579</td>\n",
       "      <td>arnold-j/sent/774</td>\n",
       "      <td>978509400</td>\n",
       "      <td>...</td>\n",
       "      <td>1</td>\n",
       "      <td>1</td>\n",
       "      <td>42</td>\n",
       "      <td>42</td>\n",
       "      <td>John Griffith</td>\n",
       "      <td>Forestry</td>\n",
       "      <td>ENA Gas Financial</td>\n",
       "      <td>Mgr Trading</td>\n",
       "      <td>Male</td>\n",
       "      <td>Junior</td>\n",
       "    </tr>\n",
       "    <tr>\n",
       "      <th>4</th>\n",
       "      <td>1</td>\n",
       "      <td>John Arnold</td>\n",
       "      <td>Forestry</td>\n",
       "      <td>ENA Gas Financial</td>\n",
       "      <td>VP Trading</td>\n",
       "      <td>Male</td>\n",
       "      <td>Senior</td>\n",
       "      <td>10581</td>\n",
       "      <td>arnold-j/sent/526</td>\n",
       "      <td>986536620</td>\n",
       "      <td>...</td>\n",
       "      <td>1</td>\n",
       "      <td>1</td>\n",
       "      <td>42</td>\n",
       "      <td>42</td>\n",
       "      <td>John Griffith</td>\n",
       "      <td>Forestry</td>\n",
       "      <td>ENA Gas Financial</td>\n",
       "      <td>Mgr Trading</td>\n",
       "      <td>Male</td>\n",
       "      <td>Junior</td>\n",
       "    </tr>\n",
       "  </tbody>\n",
       "</table>\n",
       "<p>5 rows × 21 columns</p>\n",
       "</div>"
      ],
      "text/plain": [
       "   eid_x       name_x department_x   longdepartment_x     title_x gender_x  \\\n",
       "0      1  John Arnold     Forestry  ENA Gas Financial  VP Trading     Male   \n",
       "1      1  John Arnold     Forestry  ENA Gas Financial  VP Trading     Male   \n",
       "2      1  John Arnold     Forestry  ENA Gas Financial  VP Trading     Male   \n",
       "3      1  John Arnold     Forestry  ENA Gas Financial  VP Trading     Male   \n",
       "4      1  John Arnold     Forestry  ENA Gas Financial  VP Trading     Male   \n",
       "\n",
       "  seniority_x    mid           filename  unix_time     ...     from_eid  rno  \\\n",
       "0      Senior   1611  arnold-j/sent/379  954317280     ...            1    1   \n",
       "1      Senior   4828  arnold-j/sent/151  970463160     ...            1    3   \n",
       "2      Senior   5026  arnold-j/sent/132  971078940     ...            1    1   \n",
       "3      Senior   7579  arnold-j/sent/774  978509400     ...            1    1   \n",
       "4      Senior  10581  arnold-j/sent/526  986536620     ...            1    1   \n",
       "\n",
       "   to_eid  eid_y         name_y department_y   longdepartment_y      title_y  \\\n",
       "0      42     42  John Griffith     Forestry  ENA Gas Financial  Mgr Trading   \n",
       "1      42     42  John Griffith     Forestry  ENA Gas Financial  Mgr Trading   \n",
       "2      42     42  John Griffith     Forestry  ENA Gas Financial  Mgr Trading   \n",
       "3      42     42  John Griffith     Forestry  ENA Gas Financial  Mgr Trading   \n",
       "4      42     42  John Griffith     Forestry  ENA Gas Financial  Mgr Trading   \n",
       "\n",
       "  gender_y seniority_y  \n",
       "0     Male      Junior  \n",
       "1     Male      Junior  \n",
       "2     Male      Junior  \n",
       "3     Male      Junior  \n",
       "4     Male      Junior  \n",
       "\n",
       "[5 rows x 21 columns]"
      ]
     },
     "execution_count": 29,
     "metadata": {},
     "output_type": "execute_result"
    }
   ],
   "source": [
    "df1 = pd.merge(df, recipients, on='mid')\n",
    "df2 = pd.merge(df1, employees, left_on='to_eid', right_on='eid')\n",
    "df2.head()"
   ]
  },
  {
   "cell_type": "code",
   "execution_count": 30,
   "metadata": {
    "collapsed": false
   },
   "outputs": [
    {
     "data": {
      "text/plain": [
       "Male      0.665547\n",
       "Female    0.334453\n",
       "Name: gender_y, dtype: float64"
      ]
     },
     "execution_count": 30,
     "metadata": {},
     "output_type": "execute_result"
    }
   ],
   "source": [
    "df2.gender_y.value_counts() / df2.gender_y.count()"
   ]
  },
  {
   "cell_type": "code",
   "execution_count": 31,
   "metadata": {
    "collapsed": false
   },
   "outputs": [
    {
     "data": {
      "text/plain": [
       "Male      226.097345\n",
       "Female    298.581395\n",
       "dtype: float64"
      ]
     },
     "execution_count": 31,
     "metadata": {},
     "output_type": "execute_result"
    }
   ],
   "source": [
    "df2.gender_y.value_counts() / employees.gender.value_counts()"
   ]
  },
  {
   "cell_type": "code",
   "execution_count": 32,
   "metadata": {
    "collapsed": false
   },
   "outputs": [
    {
     "data": {
      "text/plain": [
       "Senior    0.623476\n",
       "Junior    0.376524\n",
       "Name: seniority_y, dtype: float64"
      ]
     },
     "execution_count": 32,
     "metadata": {},
     "output_type": "execute_result"
    }
   ],
   "source": [
    "# Who is receiving more emails? Juniors or Seniors?\n",
    "df2.seniority_y.value_counts() / df2.seniority_y.count()"
   ]
  },
  {
   "cell_type": "code",
   "execution_count": 33,
   "metadata": {
    "collapsed": false
   },
   "outputs": [
    {
     "data": {
      "text/plain": [
       "Junior    176.268293\n",
       "Senior    323.432432\n",
       "dtype: float64"
      ]
     },
     "execution_count": 33,
     "metadata": {},
     "output_type": "execute_result"
    }
   ],
   "source": [
    "df2.seniority_y.value_counts() / employees.seniority.value_counts()"
   ]
  },
  {
   "cell_type": "code",
   "execution_count": 34,
   "metadata": {
    "collapsed": false
   },
   "outputs": [
    {
     "data": {
      "text/plain": [
       "Legal       16311\n",
       "Other       13653\n",
       "Forestry     8424\n",
       "Name: department_y, dtype: int64"
      ]
     },
     "execution_count": 34,
     "metadata": {},
     "output_type": "execute_result"
    }
   ],
   "source": [
    "# Which department is receiving more emails? How does that relate with the number of employees in the department?\n",
    "df2.department_y.value_counts()"
   ]
  },
  {
   "cell_type": "code",
   "execution_count": 35,
   "metadata": {
    "collapsed": false
   },
   "outputs": [
    {
     "data": {
      "text/plain": [
       "Forestry    140.400000\n",
       "Legal       652.440000\n",
       "Other       192.295775\n",
       "dtype: float64"
      ]
     },
     "execution_count": 35,
     "metadata": {},
     "output_type": "execute_result"
    }
   ],
   "source": [
    "df2.department_y.value_counts() / employees.department.value_counts()"
   ]
  },
  {
   "cell_type": "code",
   "execution_count": 36,
   "metadata": {
    "collapsed": false
   },
   "outputs": [
    {
     "data": {
      "text/html": [
       "<div>\n",
       "<table border=\"1\" class=\"dataframe\">\n",
       "  <thead>\n",
       "    <tr style=\"text-align: right;\">\n",
       "      <th></th>\n",
       "      <th>eid</th>\n",
       "      <th>msgs_received</th>\n",
       "    </tr>\n",
       "  </thead>\n",
       "  <tbody>\n",
       "    <tr>\n",
       "      <th>0</th>\n",
       "      <td>131</td>\n",
       "      <td>1797</td>\n",
       "    </tr>\n",
       "    <tr>\n",
       "      <th>1</th>\n",
       "      <td>122</td>\n",
       "      <td>1730</td>\n",
       "    </tr>\n",
       "    <tr>\n",
       "      <th>2</th>\n",
       "      <td>138</td>\n",
       "      <td>1477</td>\n",
       "    </tr>\n",
       "    <tr>\n",
       "      <th>3</th>\n",
       "      <td>61</td>\n",
       "      <td>1290</td>\n",
       "    </tr>\n",
       "    <tr>\n",
       "      <th>4</th>\n",
       "      <td>120</td>\n",
       "      <td>1173</td>\n",
       "    </tr>\n",
       "  </tbody>\n",
       "</table>\n",
       "</div>"
      ],
      "text/plain": [
       "   eid  msgs_received\n",
       "0  131           1797\n",
       "1  122           1730\n",
       "2  138           1477\n",
       "3   61           1290\n",
       "4  120           1173"
      ]
     },
     "execution_count": 36,
     "metadata": {},
     "output_type": "execute_result"
    }
   ],
   "source": [
    "# Who are the top 5 receivers of emails? (people who received the most emails)\n",
    "top5receivers = df2.to_eid.value_counts().head().reset_index()\n",
    "top5receivers.columns = ['eid', 'msgs_received']\n",
    "top5receivers"
   ]
  },
  {
   "cell_type": "code",
   "execution_count": 37,
   "metadata": {
    "collapsed": false
   },
   "outputs": [
    {
     "data": {
      "text/html": [
       "<div>\n",
       "<table border=\"1\" class=\"dataframe\">\n",
       "  <thead>\n",
       "    <tr style=\"text-align: right;\">\n",
       "      <th></th>\n",
       "      <th>eid</th>\n",
       "      <th>name</th>\n",
       "      <th>department</th>\n",
       "      <th>longdepartment</th>\n",
       "      <th>title</th>\n",
       "      <th>gender</th>\n",
       "      <th>seniority</th>\n",
       "      <th>msgs_received</th>\n",
       "    </tr>\n",
       "  </thead>\n",
       "  <tbody>\n",
       "    <tr>\n",
       "      <th>3</th>\n",
       "      <td>131</td>\n",
       "      <td>James D. Steffes</td>\n",
       "      <td>Legal</td>\n",
       "      <td>Regulatory and Government Affairs</td>\n",
       "      <td>VP of Government Affairs</td>\n",
       "      <td>Male</td>\n",
       "      <td>Senior</td>\n",
       "      <td>1797</td>\n",
       "    </tr>\n",
       "    <tr>\n",
       "      <th>2</th>\n",
       "      <td>122</td>\n",
       "      <td>Richard Shapiro</td>\n",
       "      <td>Legal</td>\n",
       "      <td>Regulatory and Government Affairs</td>\n",
       "      <td>VP of Regulatory Affairs</td>\n",
       "      <td>Male</td>\n",
       "      <td>Senior</td>\n",
       "      <td>1730</td>\n",
       "    </tr>\n",
       "    <tr>\n",
       "      <th>4</th>\n",
       "      <td>138</td>\n",
       "      <td>Mark E. Taylor</td>\n",
       "      <td>Legal</td>\n",
       "      <td>ENA Legal</td>\n",
       "      <td>VP &amp; Gen Cnsl</td>\n",
       "      <td>Male</td>\n",
       "      <td>Senior</td>\n",
       "      <td>1477</td>\n",
       "    </tr>\n",
       "    <tr>\n",
       "      <th>0</th>\n",
       "      <td>61</td>\n",
       "      <td>Steven J. Kean</td>\n",
       "      <td>Other</td>\n",
       "      <td>Enron</td>\n",
       "      <td>VP &amp; Chief of Staff</td>\n",
       "      <td>Male</td>\n",
       "      <td>Senior</td>\n",
       "      <td>1290</td>\n",
       "    </tr>\n",
       "    <tr>\n",
       "      <th>1</th>\n",
       "      <td>120</td>\n",
       "      <td>Sara Shackleton</td>\n",
       "      <td>Legal</td>\n",
       "      <td>ENA Legal</td>\n",
       "      <td>Gen Cnsl Asst</td>\n",
       "      <td>Female</td>\n",
       "      <td>Junior</td>\n",
       "      <td>1173</td>\n",
       "    </tr>\n",
       "  </tbody>\n",
       "</table>\n",
       "</div>"
      ],
      "text/plain": [
       "   eid              name department                     longdepartment  \\\n",
       "3  131  James D. Steffes      Legal  Regulatory and Government Affairs   \n",
       "2  122   Richard Shapiro      Legal  Regulatory and Government Affairs   \n",
       "4  138    Mark E. Taylor      Legal                          ENA Legal   \n",
       "0   61    Steven J. Kean      Other                              Enron   \n",
       "1  120   Sara Shackleton      Legal                          ENA Legal   \n",
       "\n",
       "                      title  gender seniority  msgs_received  \n",
       "3  VP of Government Affairs    Male    Senior           1797  \n",
       "2  VP of Regulatory Affairs    Male    Senior           1730  \n",
       "4             VP & Gen Cnsl    Male    Senior           1477  \n",
       "0       VP & Chief of Staff    Male    Senior           1290  \n",
       "1             Gen Cnsl Asst  Female    Junior           1173  "
      ]
     },
     "execution_count": 37,
     "metadata": {},
     "output_type": "execute_result"
    }
   ],
   "source": [
    "pd.merge(employees, top5receivers, on='eid').sort_values('msgs_received', ascending=False)"
   ]
  },
  {
   "cell_type": "markdown",
   "metadata": {},
   "source": [
    "Which employees sent the most 'mass' emails?"
   ]
  },
  {
   "cell_type": "code",
   "execution_count": 38,
   "metadata": {
    "collapsed": false
   },
   "outputs": [
    {
     "data": {
      "text/html": [
       "<div>\n",
       "<table border=\"1\" class=\"dataframe\">\n",
       "  <thead>\n",
       "    <tr style=\"text-align: right;\">\n",
       "      <th></th>\n",
       "      <th>mid</th>\n",
       "      <th>rno</th>\n",
       "      <th>filename</th>\n",
       "      <th>unix_time</th>\n",
       "      <th>subject</th>\n",
       "      <th>from_eid</th>\n",
       "    </tr>\n",
       "  </thead>\n",
       "  <tbody>\n",
       "    <tr>\n",
       "      <th>0</th>\n",
       "      <td>12151</td>\n",
       "      <td>57</td>\n",
       "      <td>baughman-d/ect_admin/22</td>\n",
       "      <td>990546780</td>\n",
       "      <td></td>\n",
       "      <td>67</td>\n",
       "    </tr>\n",
       "    <tr>\n",
       "      <th>1</th>\n",
       "      <td>12116</td>\n",
       "      <td>57</td>\n",
       "      <td>baughman-d/all_documents/398</td>\n",
       "      <td>990510780</td>\n",
       "      <td></td>\n",
       "      <td>67</td>\n",
       "    </tr>\n",
       "    <tr>\n",
       "      <th>2</th>\n",
       "      <td>12140</td>\n",
       "      <td>55</td>\n",
       "      <td>lavorato-j/sent_items/18</td>\n",
       "      <td>990528836</td>\n",
       "      <td></td>\n",
       "      <td>67</td>\n",
       "    </tr>\n",
       "    <tr>\n",
       "      <th>3</th>\n",
       "      <td>14404</td>\n",
       "      <td>52</td>\n",
       "      <td>lay-k/sent_items/10</td>\n",
       "      <td>998565865</td>\n",
       "      <td>Associate/Analyst Program</td>\n",
       "      <td>68</td>\n",
       "    </tr>\n",
       "    <tr>\n",
       "      <th>4</th>\n",
       "      <td>16035</td>\n",
       "      <td>49</td>\n",
       "      <td>beck-s/sent_items/368</td>\n",
       "      <td>1002290637</td>\n",
       "      <td>Enron Center South (ECS) Move Back-up Plan</td>\n",
       "      <td>7</td>\n",
       "    </tr>\n",
       "    <tr>\n",
       "      <th>5</th>\n",
       "      <td>16431</td>\n",
       "      <td>24</td>\n",
       "      <td>sanchez-m/sent_items/99</td>\n",
       "      <td>1002893728</td>\n",
       "      <td>Park City Bound</td>\n",
       "      <td>112</td>\n",
       "    </tr>\n",
       "    <tr>\n",
       "      <th>6</th>\n",
       "      <td>8116</td>\n",
       "      <td>22</td>\n",
       "      <td>wolfe-j/all_documents/32</td>\n",
       "      <td>980396100</td>\n",
       "      <td>7th Annual Party</td>\n",
       "      <td>112</td>\n",
       "    </tr>\n",
       "    <tr>\n",
       "      <th>7</th>\n",
       "      <td>15148</td>\n",
       "      <td>21</td>\n",
       "      <td>baughman-d/enron_power/miso/19</td>\n",
       "      <td>1000822727</td>\n",
       "      <td>RTO/regulatory update</td>\n",
       "      <td>117</td>\n",
       "    </tr>\n",
       "    <tr>\n",
       "      <th>8</th>\n",
       "      <td>15577</td>\n",
       "      <td>21</td>\n",
       "      <td>kitchen-l/sent_items/990</td>\n",
       "      <td>1001571865</td>\n",
       "      <td>FW: Fantastic Friday/Super Saturday Interviewers</td>\n",
       "      <td>65</td>\n",
       "    </tr>\n",
       "    <tr>\n",
       "      <th>9</th>\n",
       "      <td>21103</td>\n",
       "      <td>20</td>\n",
       "      <td>mckay-j/ubswenergy_com/3</td>\n",
       "      <td>1013408919</td>\n",
       "      <td>book names</td>\n",
       "      <td>63</td>\n",
       "    </tr>\n",
       "  </tbody>\n",
       "</table>\n",
       "</div>"
      ],
      "text/plain": [
       "     mid  rno                        filename   unix_time  \\\n",
       "0  12151   57         baughman-d/ect_admin/22   990546780   \n",
       "1  12116   57    baughman-d/all_documents/398   990510780   \n",
       "2  12140   55        lavorato-j/sent_items/18   990528836   \n",
       "3  14404   52             lay-k/sent_items/10   998565865   \n",
       "4  16035   49           beck-s/sent_items/368  1002290637   \n",
       "5  16431   24         sanchez-m/sent_items/99  1002893728   \n",
       "6   8116   22        wolfe-j/all_documents/32   980396100   \n",
       "7  15148   21  baughman-d/enron_power/miso/19  1000822727   \n",
       "8  15577   21        kitchen-l/sent_items/990  1001571865   \n",
       "9  21103   20        mckay-j/ubswenergy_com/3  1013408919   \n",
       "\n",
       "                                            subject  from_eid  \n",
       "0                                                          67  \n",
       "1                                                          67  \n",
       "2                                                          67  \n",
       "3                         Associate/Analyst Program        68  \n",
       "4        Enron Center South (ECS) Move Back-up Plan         7  \n",
       "5                                   Park City Bound       112  \n",
       "6                                  7th Annual Party       112  \n",
       "7                             RTO/regulatory update       117  \n",
       "8  FW: Fantastic Friday/Super Saturday Interviewers        65  \n",
       "9                                        book names        63  "
      ]
     },
     "execution_count": 38,
     "metadata": {},
     "output_type": "execute_result"
    }
   ],
   "source": [
    "top10massmails = df2.groupby('mid')['rno'].max().sort_values(ascending=False).head(10).reset_index()\n",
    "massmails = pd.merge(top10massmails, messages)\n",
    "massmails"
   ]
  },
  {
   "cell_type": "code",
   "execution_count": 39,
   "metadata": {
    "collapsed": false
   },
   "outputs": [
    {
     "data": {
      "text/html": [
       "<div>\n",
       "<table border=\"1\" class=\"dataframe\">\n",
       "  <thead>\n",
       "    <tr style=\"text-align: right;\">\n",
       "      <th></th>\n",
       "      <th>name</th>\n",
       "      <th>title</th>\n",
       "      <th>mid</th>\n",
       "      <th>subject</th>\n",
       "      <th>rno</th>\n",
       "    </tr>\n",
       "  </thead>\n",
       "  <tbody>\n",
       "    <tr>\n",
       "      <th>0</th>\n",
       "      <td>John J. Lavorato</td>\n",
       "      <td>ENA President &amp; CEO</td>\n",
       "      <td>12151</td>\n",
       "      <td></td>\n",
       "      <td>57</td>\n",
       "    </tr>\n",
       "    <tr>\n",
       "      <th>1</th>\n",
       "      <td>John J. Lavorato</td>\n",
       "      <td>ENA President &amp; CEO</td>\n",
       "      <td>12116</td>\n",
       "      <td></td>\n",
       "      <td>57</td>\n",
       "    </tr>\n",
       "    <tr>\n",
       "      <th>2</th>\n",
       "      <td>John J. Lavorato</td>\n",
       "      <td>ENA President &amp; CEO</td>\n",
       "      <td>12140</td>\n",
       "      <td></td>\n",
       "      <td>55</td>\n",
       "    </tr>\n",
       "    <tr>\n",
       "      <th>3</th>\n",
       "      <td>Kenneth Lay</td>\n",
       "      <td>President &amp; CEO</td>\n",
       "      <td>14404</td>\n",
       "      <td>Associate/Analyst Program</td>\n",
       "      <td>52</td>\n",
       "    </tr>\n",
       "    <tr>\n",
       "      <th>4</th>\n",
       "      <td>Sally Beck</td>\n",
       "      <td>VP</td>\n",
       "      <td>16035</td>\n",
       "      <td>Enron Center South (ECS) Move Back-up Plan</td>\n",
       "      <td>49</td>\n",
       "    </tr>\n",
       "    <tr>\n",
       "      <th>5</th>\n",
       "      <td>Monique Sanchez</td>\n",
       "      <td>Associate</td>\n",
       "      <td>16431</td>\n",
       "      <td>Park City Bound</td>\n",
       "      <td>24</td>\n",
       "    </tr>\n",
       "    <tr>\n",
       "      <th>6</th>\n",
       "      <td>Monique Sanchez</td>\n",
       "      <td>Associate</td>\n",
       "      <td>8116</td>\n",
       "      <td>7th Annual Party</td>\n",
       "      <td>22</td>\n",
       "    </tr>\n",
       "    <tr>\n",
       "      <th>7</th>\n",
       "      <td>Susan Scott</td>\n",
       "      <td>Cnsl</td>\n",
       "      <td>15148</td>\n",
       "      <td>RTO/regulatory update</td>\n",
       "      <td>21</td>\n",
       "    </tr>\n",
       "    <tr>\n",
       "      <th>8</th>\n",
       "      <td>Louise Kitchen</td>\n",
       "      <td>COO</td>\n",
       "      <td>15577</td>\n",
       "      <td>FW: Fantastic Friday/Super Saturday Interviewers</td>\n",
       "      <td>21</td>\n",
       "    </tr>\n",
       "    <tr>\n",
       "      <th>9</th>\n",
       "      <td>Kam Keiser</td>\n",
       "      <td>Mgr Trading</td>\n",
       "      <td>21103</td>\n",
       "      <td>book names</td>\n",
       "      <td>20</td>\n",
       "    </tr>\n",
       "  </tbody>\n",
       "</table>\n",
       "</div>"
      ],
      "text/plain": [
       "               name                title    mid  \\\n",
       "0  John J. Lavorato  ENA President & CEO  12151   \n",
       "1  John J. Lavorato  ENA President & CEO  12116   \n",
       "2  John J. Lavorato  ENA President & CEO  12140   \n",
       "3       Kenneth Lay      President & CEO  14404   \n",
       "4        Sally Beck                   VP  16035   \n",
       "5  Monique Sanchez             Associate  16431   \n",
       "6  Monique Sanchez             Associate   8116   \n",
       "7       Susan Scott                 Cnsl  15148   \n",
       "8    Louise Kitchen                  COO  15577   \n",
       "9        Kam Keiser          Mgr Trading  21103   \n",
       "\n",
       "                                            subject  rno  \n",
       "0                                                     57  \n",
       "1                                                     57  \n",
       "2                                                     55  \n",
       "3                         Associate/Analyst Program   52  \n",
       "4        Enron Center South (ECS) Move Back-up Plan   49  \n",
       "5                                   Park City Bound   24  \n",
       "6                                  7th Annual Party   22  \n",
       "7                             RTO/regulatory update   21  \n",
       "8  FW: Fantastic Friday/Super Saturday Interviewers   21  \n",
       "9                                        book names   20  "
      ]
     },
     "execution_count": 39,
     "metadata": {},
     "output_type": "execute_result"
    }
   ],
   "source": [
    "pd.merge(massmails, employees, left_on='from_eid', right_on='eid')[['name', 'title', 'mid', 'subject', 'rno']]"
   ]
  },
  {
   "cell_type": "markdown",
   "metadata": {},
   "source": [
    "Keep exploring the dataset, which other questions would you ask?\n",
    "\n",
    "Work in pairs. Give each other a challenge and try to solve it."
   ]
  }
 ],
 "metadata": {
  "kernelspec": {
   "display_name": "Python 2",
   "language": "python",
   "name": "python2"
  },
  "language_info": {
   "codemirror_mode": {
    "name": "ipython",
    "version": 2
   },
   "file_extension": ".py",
   "mimetype": "text/x-python",
   "name": "python",
   "nbconvert_exporter": "python",
   "pygments_lexer": "ipython2",
   "version": "2.7.12"
  }
 },
 "nbformat": 4,
 "nbformat_minor": 0
}

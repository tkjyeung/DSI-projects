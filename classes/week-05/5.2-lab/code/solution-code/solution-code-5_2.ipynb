{
 "cells": [
  {
   "cell_type": "markdown",
   "metadata": {},
   "source": [
    "# Support Vector Machines Lab"
   ]
  },
  {
   "cell_type": "markdown",
   "metadata": {},
   "source": [
    "In this lab we will explore several datasets with SVMs. The assets folder contains several datasets (in order of complexity):\n",
    "\n",
    "- Breast cancer\n",
    "- Spambase\n",
    "- Car evaluation\n",
    "- Mushroom\n",
    "\n",
    "For each of these a `.names` file is provided with details on the origin of data."
   ]
  },
  {
   "cell_type": "code",
   "execution_count": 41,
   "metadata": {
    "collapsed": false
   },
   "outputs": [],
   "source": [
    "import numpy as np\n",
    "import pandas as pd\n",
    "%matplotlib inline\n",
    "import matplotlib.pyplot as plt"
   ]
  },
  {
   "cell_type": "markdown",
   "metadata": {},
   "source": [
    "# Exercise 1: Breast Cancer\n",
    "\n",
    "\n",
    "\n",
    "## 1.a: Load the Data\n",
    "Use `pandas.read_csv` to load the data and assess the following:\n",
    "- Are there any missing values? (how are they encoded? do we impute them?)\n",
    "- Are the features categorical or numerical?\n",
    "- Are the values normalized?\n",
    "- How many classes are there in the target?\n",
    "\n",
    "Perform what's necessary to get to a point where you have a feature matrix `X` and a target vector `y`, both with only numerical entries."
   ]
  },
  {
   "cell_type": "code",
   "execution_count": 42,
   "metadata": {
    "collapsed": false
   },
   "outputs": [
    {
     "name": "stdout",
     "output_type": "stream",
     "text": [
      "<class 'pandas.core.frame.DataFrame'>\n",
      "RangeIndex: 699 entries, 0 to 698\n",
      "Data columns (total 11 columns):\n",
      "Sample_code_number             699 non-null int64\n",
      "Clump_Thickness                699 non-null int64\n",
      "Uniformity_of_Cell_Size        699 non-null int64\n",
      "Uniformity_of_Cell_Shape       699 non-null int64\n",
      "Marginal_Adhesion              699 non-null int64\n",
      "Single_Epithelial_Cell_Size    699 non-null int64\n",
      "Bare_Nuclei                    683 non-null float64\n",
      "Bland_Chromatin                699 non-null int64\n",
      "Normal_Nucleoli                699 non-null int64\n",
      "Mitoses                        699 non-null int64\n",
      "Class                          699 non-null int64\n",
      "dtypes: float64(1), int64(10)\n",
      "memory usage: 60.1 KB\n"
     ]
    }
   ],
   "source": [
    "df = pd.read_csv('../../assets/datasets/breast_cancer.csv', na_values='?')\n",
    "df.info()"
   ]
  },
  {
   "cell_type": "code",
   "execution_count": 43,
   "metadata": {
    "collapsed": false
   },
   "outputs": [
    {
     "data": {
      "text/plain": [
       "<matplotlib.axes._subplots.AxesSubplot at 0x7fe5d7586c50>"
      ]
     },
     "execution_count": 43,
     "metadata": {},
     "output_type": "execute_result"
    },
    {
     "data": {
      "image/png": "[encoded data removed]",
      "text/plain": [
       "<matplotlib.figure.Figure at 0x7fe5c7916bd0>"
      ]
     },
     "metadata": {},
     "output_type": "display_data"
    }
   ],
   "source": [
    "# 16 missing values in Bare_Nuclei\n",
    "# replacing with mean not justified because distribution is very skewed:\n",
    "df['Bare_Nuclei'].hist()"
   ]
  },
  {
   "cell_type": "code",
   "execution_count": 45,
   "metadata": {
    "collapsed": false
   },
   "outputs": [
    {
     "data": {
      "text/plain": [
       "2    458\n",
       "4    241\n",
       "Name: Class, dtype: int64"
      ]
     },
     "execution_count": 45,
     "metadata": {},
     "output_type": "execute_result"
    }
   ],
   "source": [
    "df['Class'].value_counts()"
   ]
  },
  {
   "cell_type": "code",
   "execution_count": 4,
   "metadata": {
    "collapsed": false
   },
   "outputs": [
    {
     "data": {
      "text/plain": [
       "2    14\n",
       "4     2\n",
       "Name: Class, dtype: int64"
      ]
     },
     "execution_count": 4,
     "metadata": {},
     "output_type": "execute_result"
    }
   ],
   "source": [
    "# which class are the missing values?\n",
    "df.ix[df['Bare_Nuclei'].isnull()]['Class'].value_counts()"
   ]
  },
  {
   "cell_type": "code",
   "execution_count": 5,
   "metadata": {
    "collapsed": true
   },
   "outputs": [],
   "source": [
    "# mostly benign, I'll drop them (it's the majority class)\n",
    "df = df.dropna().astype(int)"
   ]
  },
  {
   "cell_type": "code",
   "execution_count": 6,
   "metadata": {
    "collapsed": false
   },
   "outputs": [
    {
     "name": "stdout",
     "output_type": "stream",
     "text": [
      "<class 'pandas.core.frame.DataFrame'>\n",
      "Int64Index: 683 entries, 0 to 698\n",
      "Data columns (total 11 columns):\n",
      "Sample_code_number             683 non-null int64\n",
      "Clump_Thickness                683 non-null int64\n",
      "Uniformity_of_Cell_Size        683 non-null int64\n",
      "Uniformity_of_Cell_Shape       683 non-null int64\n",
      "Marginal_Adhesion              683 non-null int64\n",
      "Single_Epithelial_Cell_Size    683 non-null int64\n",
      "Bare_Nuclei                    683 non-null int64\n",
      "Bland_Chromatin                683 non-null int64\n",
      "Normal_Nucleoli                683 non-null int64\n",
      "Mitoses                        683 non-null int64\n",
      "Class                          683 non-null int64\n",
      "dtypes: int64(11)\n",
      "memory usage: 64.0 KB\n"
     ]
    }
   ],
   "source": [
    "df.info()"
   ]
  },
  {
   "cell_type": "code",
   "execution_count": 7,
   "metadata": {
    "collapsed": false
   },
   "outputs": [],
   "source": [
    "X = df.drop(['Sample_code_number', 'Class'], axis = 1)\n",
    "y = df['Class'] == 4"
   ]
  },
  {
   "cell_type": "code",
   "execution_count": null,
   "metadata": {
    "collapsed": true
   },
   "outputs": [],
   "source": []
  },
  {
   "cell_type": "code",
   "execution_count": 8,
   "metadata": {
    "collapsed": true
   },
   "outputs": [],
   "source": [
    "# data all has the same 1-10 scale so don't normalize"
   ]
  },
  {
   "cell_type": "markdown",
   "metadata": {},
   "source": [
    "## 1.b: Model Building\n",
    "\n",
    "- What's the baseline for the accuracy?\n",
    "- Initialize and train a linear svm. What's the average accuracy score with a 3-fold cross validation?\n",
    "- Repeat using an rbf classifier. Compare the scores. Which one is better?\n",
    "- Are your features normalized? if not, try normalizing and repeat the test. Does the score improve?\n",
    "- What's the best model?\n",
    "- Print a confusion matrix and classification report for your best model using:\n",
    "        train_test_split(X, y, stratify=y, test_size=0.33, random_state=42)\n",
    "\n",
    "**Check:** To decide which model is best, look at the average cross validation score. Are the scores significantly different from one another?"
   ]
  },
  {
   "cell_type": "code",
   "execution_count": 9,
   "metadata": {
    "collapsed": false
   },
   "outputs": [
    {
     "data": {
      "text/plain": [
       "False    0.650073\n",
       "True     0.349927\n",
       "Name: Class, dtype: float64"
      ]
     },
     "execution_count": 9,
     "metadata": {},
     "output_type": "execute_result"
    }
   ],
   "source": [
    "#baseline => 65%\n",
    "y.value_counts() / len(y)"
   ]
  },
  {
   "cell_type": "code",
   "execution_count": 10,
   "metadata": {
    "collapsed": false
   },
   "outputs": [
    {
     "name": "stdout",
     "output_type": "stream",
     "text": [
      "SVC(C=1.0, cache_size=200, class_weight=None, coef0=0.0,\n",
      "  decision_function_shape=None, degree=3, gamma='auto', kernel='linear',\n",
      "  max_iter=-1, probability=False, random_state=None, shrinking=True,\n",
      "  tol=0.001, verbose=False)\n",
      "Average score: 0.965+/-0.0179\n"
     ]
    }
   ],
   "source": [
    "from sklearn.svm import SVC\n",
    "from sklearn.cross_validation import cross_val_score\n",
    "\n",
    "all_scores = []\n",
    "model = SVC(kernel='linear')\n",
    "\n",
    "def do_cv(model, X, y, cv):\n",
    "    scores = cross_val_score(model, X, y, cv=cv)\n",
    "    print model\n",
    "    sm = scores.mean()\n",
    "    ss = scores.std()\n",
    "    res = (sm, ss)\n",
    "    print \"Average score: {:0.3}+/-{:0.3}\".format(*res)\n",
    "    return res\n",
    "\n",
    "all_scores.append(do_cv(model, X, y, 3))"
   ]
  },
  {
   "cell_type": "code",
   "execution_count": 11,
   "metadata": {
    "collapsed": false
   },
   "outputs": [
    {
     "name": "stdout",
     "output_type": "stream",
     "text": [
      "SVC(C=1.0, cache_size=200, class_weight=None, coef0=0.0,\n",
      "  decision_function_shape=None, degree=3, gamma='auto', kernel='rbf',\n",
      "  max_iter=-1, probability=False, random_state=None, shrinking=True,\n",
      "  tol=0.001, verbose=False)\n",
      "Average score: 0.958+/-0.0251\n"
     ]
    }
   ],
   "source": [
    "model = SVC(kernel='rbf')\n",
    "all_scores.append(do_cv(model, X, y, 3))"
   ]
  },
  {
   "cell_type": "code",
   "execution_count": 12,
   "metadata": {
    "collapsed": false
   },
   "outputs": [
    {
     "name": "stdout",
     "output_type": "stream",
     "text": [
      "Pipeline(steps=[('standardscaler', StandardScaler(copy=True, with_mean=True, with_std=True)), ('svc', SVC(C=1.0, cache_size=200, class_weight=None, coef0=0.0,\n",
      "  decision_function_shape=None, degree=3, gamma='auto', kernel='linear',\n",
      "  max_iter=-1, probability=False, random_state=None, shrinking=True,\n",
      "  tol=0.001, verbose=False))])\n",
      "Average score: 0.966+/-0.0161\n"
     ]
    }
   ],
   "source": [
    "from sklearn.preprocessing import StandardScaler\n",
    "from sklearn.pipeline import make_pipeline\n",
    "\n",
    "model = make_pipeline(StandardScaler(), SVC(kernel='linear'))\n",
    "all_scores.append(do_cv(model, X, y, 3))"
   ]
  },
  {
   "cell_type": "code",
   "execution_count": 13,
   "metadata": {
    "collapsed": false
   },
   "outputs": [
    {
     "name": "stdout",
     "output_type": "stream",
     "text": [
      "Pipeline(steps=[('standardscaler', StandardScaler(copy=True, with_mean=True, with_std=True)), ('svc', SVC(C=1.0, cache_size=200, class_weight=None, coef0=0.0,\n",
      "  decision_function_shape=None, degree=3, gamma='auto', kernel='rbf',\n",
      "  max_iter=-1, probability=False, random_state=None, shrinking=True,\n",
      "  tol=0.001, verbose=False))])\n",
      "Average score: 0.968+/-0.018\n"
     ]
    }
   ],
   "source": [
    "model = make_pipeline(StandardScaler(), SVC(kernel='rbf'))\n",
    "all_scores.append(do_cv(model, X, y, 3))"
   ]
  },
  {
   "cell_type": "code",
   "execution_count": 14,
   "metadata": {
    "collapsed": false
   },
   "outputs": [
    {
     "data": {
      "text/plain": [
       "(0.9, 1)"
      ]
     },
     "execution_count": 14,
     "metadata": {},
     "output_type": "execute_result"
    },
    {
     "data": {
      "image/png": "[encoded data removed]",
      "text/plain": [
       "<matplotlib.figure.Figure at 0x7fe5c87ef1d0>"
      ]
     },
     "metadata": {},
     "output_type": "display_data"
    }
   ],
   "source": [
    "plt.bar(xrange(4),\n",
    "        [m[0] for m in all_scores],\n",
    "        yerr=[m[1] for m in all_scores],\n",
    "        alpha = 0.5)\n",
    "plt.ylim(0.9,1)"
   ]
  },
  {
   "cell_type": "code",
   "execution_count": 15,
   "metadata": {
    "collapsed": false
   },
   "outputs": [],
   "source": [
    "from sklearn.metrics import confusion_matrix, classification_report\n",
    "\n",
    "def print_cm_cr(y_true, y_pred, names):\n",
    "    \"\"\"prints the confusion matrix and the classification report\"\"\"\n",
    "    cm = confusion_matrix(y_true, y_pred)\n",
    "    cols = ['pred_' + c for c in names]\n",
    "    dfcm = pd.DataFrame(cm, columns = cols, index = names)\n",
    "    print dfcm\n",
    "    print\n",
    "    print classification_report(y_true, y_pred)"
   ]
  },
  {
   "cell_type": "code",
   "execution_count": 16,
   "metadata": {
    "collapsed": false,
    "scrolled": true
   },
   "outputs": [],
   "source": [
    "from sklearn.cross_validation import train_test_split"
   ]
  },
  {
   "cell_type": "code",
   "execution_count": 17,
   "metadata": {
    "collapsed": true
   },
   "outputs": [],
   "source": [
    "model = make_pipeline(StandardScaler(), SVC(kernel='rbf'))"
   ]
  },
  {
   "cell_type": "code",
   "execution_count": 18,
   "metadata": {
    "collapsed": false
   },
   "outputs": [
    {
     "name": "stdout",
     "output_type": "stream",
     "text": [
      "        pred_benign  pred_cancer\n",
      "benign          142            5\n",
      "cancer            3           76\n",
      "\n",
      "             precision    recall  f1-score   support\n",
      "\n",
      "      False       0.98      0.97      0.97       147\n",
      "       True       0.94      0.96      0.95        79\n",
      "\n",
      "avg / total       0.96      0.96      0.96       226\n",
      "\n"
     ]
    }
   ],
   "source": [
    "def do_cm_cr(model, X, y, names):\n",
    "    X_train, X_test, y_train, y_test = train_test_split(X, y, stratify=y, test_size=0.33, random_state=42)\n",
    "    model.fit(X_train, y_train)\n",
    "    y_pred = model.predict(X_test)\n",
    "    print_cm_cr(y_test, y_pred, names)\n",
    "\n",
    "do_cm_cr(model, X, y, ['benign', 'cancer'])"
   ]
  },
  {
   "cell_type": "markdown",
   "metadata": {},
   "source": [
    "**Check:** Are there more false positives or false negatives? Is this good or bad?\n",
    "\n",
    "> Answer:\n",
    "More false negatives is bad from the point of view of the patient and good from the point of view of the insurance company. Viceversa otherwise."
   ]
  },
  {
   "cell_type": "markdown",
   "metadata": {},
   "source": [
    "## 1.c: feature selection\n",
    "\n",
    "Use any of the strategies offered by `sklearn` to select the most important features.\n",
    "\n",
    "Repeat the cross validation with only those 5 features. Does the score change?"
   ]
  },
  {
   "cell_type": "code",
   "execution_count": 19,
   "metadata": {
    "collapsed": false
   },
   "outputs": [],
   "source": [
    "from sklearn.feature_selection import SelectKBest, chi2"
   ]
  },
  {
   "cell_type": "code",
   "execution_count": 20,
   "metadata": {
    "collapsed": false
   },
   "outputs": [],
   "source": [
    "def do_k_best(X, y, k=5):\n",
    "    selector = SelectKBest(chi2, k=k)\n",
    "    selected_data = selector.fit_transform(X, y)\n",
    "    selected_columns = X.columns[selector.get_support()]\n",
    "    X_new = pd.DataFrame(selected_data, columns=selected_columns)\n",
    "    return X_new\n",
    "\n"
   ]
  },
  {
   "cell_type": "code",
   "execution_count": 21,
   "metadata": {
    "collapsed": false
   },
   "outputs": [
    {
     "name": "stdout",
     "output_type": "stream",
     "text": [
      "        pred_benign  pred_cancer\n",
      "benign          142            5\n",
      "cancer            4           75\n",
      "\n",
      "             precision    recall  f1-score   support\n",
      "\n",
      "      False       0.97      0.97      0.97       147\n",
      "       True       0.94      0.95      0.94        79\n",
      "\n",
      "avg / total       0.96      0.96      0.96       226\n",
      "\n"
     ]
    }
   ],
   "source": [
    "X_new = do_k_best(X, y, 5)\n",
    "do_cm_cr(model, X_new, y, ['benign', 'cancer'])"
   ]
  },
  {
   "cell_type": "markdown",
   "metadata": {},
   "source": [
    "almost the same result, with only 5 features!"
   ]
  },
  {
   "cell_type": "markdown",
   "metadata": {},
   "source": [
    "## 1.d: Learning Curves\n",
    "\n",
    "Learning curves are useful to study the behavior of training and test errors as a function of the number of datapoints available.\n",
    "\n",
    "- Plot learning curves for train sizes between 10% and 100% (use StratifiedKFold with 5 folds as cross validation)\n",
    "- What can you say about the dataset? do you need more data or do you need a better model?"
   ]
  },
  {
   "cell_type": "code",
   "execution_count": 22,
   "metadata": {
    "collapsed": false
   },
   "outputs": [
    {
     "data": {
      "text/html": [
       "\n",
       "    <div class=\"bk-banner\">\n",
       "        <a href=\"http://bokeh.pydata.org\" target=\"_blank\" class=\"bk-logo bk-logo-small bk-logo-notebook\"></a>\n",
       "        <span id=\"62d14c4e-1406-4b1e-a167-8f948bf2bb51\">Loading BokehJS ...</span>\n",
       "    </div>"
      ]
     },
     "metadata": {},
     "output_type": "display_data"
    },
    {
     "data": {
      "application/javascript": [
       "\n",
       "(function(global) {\n",
       "  function now() {\n",
       "    return new Date();\n",
       "  }\n",
       "\n",
       "  if (typeof (window._bokeh_onload_callbacks) === \"undefined\") {\n",
       "    window._bokeh_onload_callbacks = [];\n",
       "  }\n",
       "\n",
       "  function run_callbacks() {\n",
       "    window._bokeh_onload_callbacks.forEach(function(callback) { callback() });\n",
       "    delete window._bokeh_onload_callbacks\n",
       "    console.info(\"Bokeh: all callbacks have finished\");\n",
       "  }\n",
       "\n",
       "  function load_libs(js_urls, callback) {\n",
       "    window._bokeh_onload_callbacks.push(callback);\n",
       "    if (window._bokeh_is_loading > 0) {\n",
       "      console.log(\"Bokeh: BokehJS is being loaded, scheduling callback at\", now());\n",
       "      return null;\n",
       "    }\n",
       "    if (js_urls == null || js_urls.length === 0) {\n",
       "      run_callbacks();\n",
       "      return null;\n",
       "    }\n",
       "    console.log(\"Bokeh: BokehJS not loaded, scheduling load and callback at\", now());\n",
       "    window._bokeh_is_loading = js_urls.length;\n",
       "    for (var i = 0; i < js_urls.length; i++) {\n",
       "      var url = js_urls[i];\n",
       "      var s = document.createElement('script');\n",
       "      s.src = url;\n",
       "      s.async = false;\n",
       "      s.onreadystatechange = s.onload = function() {\n",
       "        window._bokeh_is_loading--;\n",
       "        if (window._bokeh_is_loading === 0) {\n",
       "          console.log(\"Bokeh: all BokehJS libraries loaded\");\n",
       "          run_callbacks()\n",
       "        }\n",
       "      };\n",
       "      s.onerror = function() {\n",
       "        console.warn(\"failed to load library \" + url);\n",
       "      };\n",
       "      console.log(\"Bokeh: injecting script tag for BokehJS library: \", url);\n",
       "      document.getElementsByTagName(\"head\")[0].appendChild(s);\n",
       "    }\n",
       "  };\n",
       "\n",
       "  var js_urls = ['https://cdn.pydata.org/bokeh/release/bokeh-0.11.1.min.js', 'https://cdn.pydata.org/bokeh/release/bokeh-widgets-0.11.1.min.js', 'https://cdn.pydata.org/bokeh/release/bokeh-compiler-0.11.1.min.js'];\n",
       "\n",
       "  var inline_js = [\n",
       "    function(Bokeh) {\n",
       "      Bokeh.set_log_level(\"info\");\n",
       "    },\n",
       "    \n",
       "    function(Bokeh) {\n",
       "      Bokeh.$(\"#62d14c4e-1406-4b1e-a167-8f948bf2bb51\").text(\"BokehJS successfully loaded\");\n",
       "    },\n",
       "    function(Bokeh) {\n",
       "      console.log(\"Bokeh: injecting CSS: https://cdn.pydata.org/bokeh/release/bokeh-0.11.1.min.css\");\n",
       "      Bokeh.embed.inject_css(\"https://cdn.pydata.org/bokeh/release/bokeh-0.11.1.min.css\");\n",
       "      console.log(\"Bokeh: injecting CSS: https://cdn.pydata.org/bokeh/release/bokeh-widgets-0.11.1.min.css\");\n",
       "      Bokeh.embed.inject_css(\"https://cdn.pydata.org/bokeh/release/bokeh-widgets-0.11.1.min.css\");\n",
       "    }\n",
       "  ];\n",
       "\n",
       "  function run_inline_js() {\n",
       "    for (var i = 0; i < inline_js.length; i++) {\n",
       "      inline_js[i](window.Bokeh);\n",
       "    }\n",
       "  }\n",
       "\n",
       "  if (window._bokeh_is_loading === 0) {\n",
       "    console.log(\"Bokeh: BokehJS loaded, going straight to plotting\");\n",
       "    run_inline_js();\n",
       "  } else {\n",
       "    load_libs(js_urls, function() {\n",
       "      console.log(\"Bokeh: BokehJS plotting callback run at\", now());\n",
       "      run_inline_js();\n",
       "    });\n",
       "  }\n",
       "}(this));"
      ]
     },
     "metadata": {},
     "output_type": "display_data"
    },
    {
     "data": {
      "text/html": [
       "\n",
       "\n",
       "    <div class=\"plotdiv\" id=\"0565b8b9-cc2e-465d-bcf8-c0abed33aa5e\"></div>\n",
       "<script type=\"text/javascript\">\n",
       "  \n",
       "  (function(global) {\n",
       "    function now() {\n",
       "      return new Date();\n",
       "    }\n",
       "  \n",
       "    if (typeof (window._bokeh_onload_callbacks) === \"undefined\") {\n",
       "      window._bokeh_onload_callbacks = [];\n",
       "    }\n",
       "  \n",
       "    function run_callbacks() {\n",
       "      window._bokeh_onload_callbacks.forEach(function(callback) { callback() });\n",
       "      delete window._bokeh_onload_callbacks\n",
       "      console.info(\"Bokeh: all callbacks have finished\");\n",
       "    }\n",
       "  \n",
       "    function load_libs(js_urls, callback) {\n",
       "      window._bokeh_onload_callbacks.push(callback);\n",
       "      if (window._bokeh_is_loading > 0) {\n",
       "        console.log(\"Bokeh: BokehJS is being loaded, scheduling callback at\", now());\n",
       "        return null;\n",
       "      }\n",
       "      if (js_urls == null || js_urls.length === 0) {\n",
       "        run_callbacks();\n",
       "        return null;\n",
       "      }\n",
       "      console.log(\"Bokeh: BokehJS not loaded, scheduling load and callback at\", now());\n",
       "      window._bokeh_is_loading = js_urls.length;\n",
       "      for (var i = 0; i < js_urls.length; i++) {\n",
       "        var url = js_urls[i];\n",
       "        var s = document.createElement('script');\n",
       "        s.src = url;\n",
       "        s.async = false;\n",
       "        s.onreadystatechange = s.onload = function() {\n",
       "          window._bokeh_is_loading--;\n",
       "          if (window._bokeh_is_loading === 0) {\n",
       "            console.log(\"Bokeh: all BokehJS libraries loaded\");\n",
       "            run_callbacks()\n",
       "          }\n",
       "        };\n",
       "        s.onerror = function() {\n",
       "          console.warn(\"failed to load library \" + url);\n",
       "        };\n",
       "        console.log(\"Bokeh: injecting script tag for BokehJS library: \", url);\n",
       "        document.getElementsByTagName(\"head\")[0].appendChild(s);\n",
       "      }\n",
       "    };var element = document.getElementById(\"0565b8b9-cc2e-465d-bcf8-c0abed33aa5e\");\n",
       "    if (element == null) {\n",
       "      console.log(\"Bokeh: ERROR: autoload.js configured with elementid '0565b8b9-cc2e-465d-bcf8-c0abed33aa5e' but no matching script tag was found. \")\n",
       "      return false;\n",
       "    }\n",
       "  \n",
       "    var js_urls = [];\n",
       "  \n",
       "    var inline_js = [\n",
       "      function(Bokeh) {\n",
       "        Bokeh.$(function() {\n",
       "            var docs_json = {\"826252be-fed2-4fce-956d-787203376f4f\":{\"roots\":{\"references\":[{\"attributes\":{\"plot\":{\"id\":\"ab333060-e88a-4912-a5e3-e80646297322\",\"subtype\":\"Figure\",\"type\":\"Plot\"},\"ticker\":{\"id\":\"00996f71-af61-4506-9d4a-497723ec997a\",\"type\":\"BasicTicker\"}},\"id\":\"5058e1ec-0e02-4ef6-852e-716ca2c0affb\",\"type\":\"Grid\"},{\"attributes\":{\"overlay\":{\"id\":\"3ab13fc6-95ca-446e-a698-2f6123b21e62\",\"type\":\"BoxAnnotation\"},\"plot\":{\"id\":\"ab333060-e88a-4912-a5e3-e80646297322\",\"subtype\":\"Figure\",\"type\":\"Plot\"}},\"id\":\"a84df100-80f1-4819-96df-0f9cb87a47a1\",\"type\":\"BoxZoomTool\"},{\"attributes\":{},\"id\":\"44fb72ca-7452-4c50-9149-96726ef2a711\",\"type\":\"BasicTicker\"},{\"attributes\":{\"formatter\":{\"id\":\"c22a7cc7-6855-495f-ba4a-f1fc4df075fc\",\"type\":\"BasicTickFormatter\"},\"plot\":{\"id\":\"ab333060-e88a-4912-a5e3-e80646297322\",\"subtype\":\"Figure\",\"type\":\"Plot\"},\"ticker\":{\"id\":\"44fb72ca-7452-4c50-9149-96726ef2a711\",\"type\":\"BasicTicker\"}},\"id\":\"cbaabf00-e664-4967-b282-9142884b6a21\",\"type\":\"LinearAxis\"},{\"attributes\":{},\"id\":\"81a9fe45-dac5-4566-a425-c804eaaebf9f\",\"type\":\"ToolEvents\"},{\"attributes\":{\"plot\":{\"id\":\"ab333060-e88a-4912-a5e3-e80646297322\",\"subtype\":\"Figure\",\"type\":\"Plot\"}},\"id\":\"fce53015-7ba8-4337-ad05-d7c9c1b52bf9\",\"type\":\"WheelZoomTool\"},{\"attributes\":{\"below\":[{\"id\":\"0efaae6a-8cb4-41aa-ac15-2b5babcf76c8\",\"type\":\"LinearAxis\"}],\"left\":[{\"id\":\"cbaabf00-e664-4967-b282-9142884b6a21\",\"type\":\"LinearAxis\"}],\"renderers\":[{\"id\":\"0efaae6a-8cb4-41aa-ac15-2b5babcf76c8\",\"type\":\"LinearAxis\"},{\"id\":\"5058e1ec-0e02-4ef6-852e-716ca2c0affb\",\"type\":\"Grid\"},{\"id\":\"cbaabf00-e664-4967-b282-9142884b6a21\",\"type\":\"LinearAxis\"},{\"id\":\"2c75e4c7-4595-4b2f-8c20-e9ff8905a1d7\",\"type\":\"Grid\"},{\"id\":\"3ab13fc6-95ca-446e-a698-2f6123b21e62\",\"type\":\"BoxAnnotation\"},{\"id\":\"ac6de56d-bca0-4217-a37b-f0774bb2adff\",\"type\":\"Legend\"},{\"id\":\"acaac149-846b-454e-9ba0-f0d93208a017\",\"type\":\"GlyphRenderer\"},{\"id\":\"8b82a840-9bf9-4671-b2bf-f4b897523e83\",\"type\":\"GlyphRenderer\"}],\"title\":\"Learning Curve\",\"tool_events\":{\"id\":\"81a9fe45-dac5-4566-a425-c804eaaebf9f\",\"type\":\"ToolEvents\"},\"tools\":[{\"id\":\"dd2fb70a-fe9d-44b8-bad2-6318a6123dfe\",\"type\":\"PanTool\"},{\"id\":\"fce53015-7ba8-4337-ad05-d7c9c1b52bf9\",\"type\":\"WheelZoomTool\"},{\"id\":\"a84df100-80f1-4819-96df-0f9cb87a47a1\",\"type\":\"BoxZoomTool\"},{\"id\":\"678bd3b2-7af5-4b18-baeb-c359258032b9\",\"type\":\"PreviewSaveTool\"},{\"id\":\"9e569921-21eb-4db3-97b0-b7dd8dfd825a\",\"type\":\"ResizeTool\"},{\"id\":\"b6d9b7bb-04e1-4a12-8ebc-85e714ad31c3\",\"type\":\"ResetTool\"},{\"id\":\"f7cb52b1-79c3-4528-ad88-796aed7ea17c\",\"type\":\"HelpTool\"}],\"x_range\":{\"id\":\"9e53a4cd-619c-454c-8b41-3c3d803530d9\",\"type\":\"DataRange1d\"},\"y_range\":{\"id\":\"c69c060e-53b6-425d-b2e6-954e6c864958\",\"type\":\"Range1d\"}},\"id\":\"ab333060-e88a-4912-a5e3-e80646297322\",\"subtype\":\"Figure\",\"type\":\"Plot\"},{\"attributes\":{\"callback\":null,\"column_names\":[\"y\",\"x\"],\"data\":{\"x\":[54,109,163,218,273,327,382,436,491,546],\"y\":[0.9663152203298189,0.9677534468775345,0.9677750743444176,0.9662935928629359,0.969213300892133,0.9677534468775345,0.9662935928629359,0.9662935928629359,0.9662935928629359,0.9662935928629359]}},\"id\":\"270222c3-b88a-4204-ac0e-5434d0f8c7bc\",\"type\":\"ColumnDataSource\"},{\"attributes\":{\"callback\":null},\"id\":\"9e53a4cd-619c-454c-8b41-3c3d803530d9\",\"type\":\"DataRange1d\"},{\"attributes\":{\"data_source\":{\"id\":\"1dd15741-c57f-4fe5-9f00-75bbcc8878c3\",\"type\":\"ColumnDataSource\"},\"glyph\":{\"id\":\"b52bad2a-bfa2-4d67-a605-f521552685cd\",\"type\":\"Line\"},\"hover_glyph\":null,\"nonselection_glyph\":{\"id\":\"32270afe-eae8-4cad-96d2-4ccd9571c042\",\"type\":\"Line\"},\"selection_glyph\":null},\"id\":\"acaac149-846b-454e-9ba0-f0d93208a017\",\"type\":\"GlyphRenderer\"},{\"attributes\":{\"formatter\":{\"id\":\"67cd4e80-370e-4d7f-814f-016714882e0e\",\"type\":\"BasicTickFormatter\"},\"plot\":{\"id\":\"ab333060-e88a-4912-a5e3-e80646297322\",\"subtype\":\"Figure\",\"type\":\"Plot\"},\"ticker\":{\"id\":\"00996f71-af61-4506-9d4a-497723ec997a\",\"type\":\"BasicTicker\"}},\"id\":\"0efaae6a-8cb4-41aa-ac15-2b5babcf76c8\",\"type\":\"LinearAxis\"},{\"attributes\":{\"legends\":[[\"Train Scores\",[{\"id\":\"acaac149-846b-454e-9ba0-f0d93208a017\",\"type\":\"GlyphRenderer\"}]],[\"Test Scores\",[{\"id\":\"8b82a840-9bf9-4671-b2bf-f4b897523e83\",\"type\":\"GlyphRenderer\"}]]],\"plot\":{\"id\":\"ab333060-e88a-4912-a5e3-e80646297322\",\"subtype\":\"Figure\",\"type\":\"Plot\"}},\"id\":\"ac6de56d-bca0-4217-a37b-f0774bb2adff\",\"type\":\"Legend\"},{\"attributes\":{\"line_color\":{\"value\":\"red\"},\"x\":{\"field\":\"x\"},\"y\":{\"field\":\"y\"}},\"id\":\"b52bad2a-bfa2-4d67-a605-f521552685cd\",\"type\":\"Line\"},{\"attributes\":{\"plot\":{\"id\":\"ab333060-e88a-4912-a5e3-e80646297322\",\"subtype\":\"Figure\",\"type\":\"Plot\"}},\"id\":\"dd2fb70a-fe9d-44b8-bad2-6318a6123dfe\",\"type\":\"PanTool\"},{\"attributes\":{},\"id\":\"67cd4e80-370e-4d7f-814f-016714882e0e\",\"type\":\"BasicTickFormatter\"},{\"attributes\":{\"plot\":{\"id\":\"ab333060-e88a-4912-a5e3-e80646297322\",\"subtype\":\"Figure\",\"type\":\"Plot\"}},\"id\":\"9e569921-21eb-4db3-97b0-b7dd8dfd825a\",\"type\":\"ResizeTool\"},{\"attributes\":{\"line_alpha\":{\"value\":0.1},\"line_color\":{\"value\":\"#1f77b4\"},\"x\":{\"field\":\"x\"},\"y\":{\"field\":\"y\"}},\"id\":\"32270afe-eae8-4cad-96d2-4ccd9571c042\",\"type\":\"Line\"},{\"attributes\":{\"line_color\":{\"value\":\"blue\"},\"x\":{\"field\":\"x\"},\"y\":{\"field\":\"y\"}},\"id\":\"d839e065-5fc8-4e64-8c3d-993e3800644f\",\"type\":\"Line\"},{\"attributes\":{\"bottom_units\":\"screen\",\"fill_alpha\":{\"value\":0.5},\"fill_color\":{\"value\":\"lightgrey\"},\"left_units\":\"screen\",\"level\":\"overlay\",\"line_alpha\":{\"value\":1.0},\"line_color\":{\"value\":\"black\"},\"line_dash\":[4,4],\"line_width\":{\"value\":2},\"plot\":null,\"render_mode\":\"css\",\"right_units\":\"screen\",\"top_units\":\"screen\"},\"id\":\"3ab13fc6-95ca-446e-a698-2f6123b21e62\",\"type\":\"BoxAnnotation\"},{\"attributes\":{\"callback\":null,\"column_names\":[\"y\",\"x\"],\"data\":{\"x\":[54,109,163,218,273,327,382,436,491,546],\"y\":[0.9703703703703704,0.98348623853211,0.9803680981595093,0.9706422018348624,0.9663003663003662,0.9669724770642201,0.968062827225131,0.9701834862385322,0.9739307535641547,0.9758241758241757]}},\"id\":\"1dd15741-c57f-4fe5-9f00-75bbcc8878c3\",\"type\":\"ColumnDataSource\"},{\"attributes\":{},\"id\":\"c22a7cc7-6855-495f-ba4a-f1fc4df075fc\",\"type\":\"BasicTickFormatter\"},{\"attributes\":{\"plot\":{\"id\":\"ab333060-e88a-4912-a5e3-e80646297322\",\"subtype\":\"Figure\",\"type\":\"Plot\"}},\"id\":\"678bd3b2-7af5-4b18-baeb-c359258032b9\",\"type\":\"PreviewSaveTool\"},{\"attributes\":{},\"id\":\"00996f71-af61-4506-9d4a-497723ec997a\",\"type\":\"BasicTicker\"},{\"attributes\":{\"callback\":null,\"start\":0.9},\"id\":\"c69c060e-53b6-425d-b2e6-954e6c864958\",\"type\":\"Range1d\"},{\"attributes\":{\"data_source\":{\"id\":\"270222c3-b88a-4204-ac0e-5434d0f8c7bc\",\"type\":\"ColumnDataSource\"},\"glyph\":{\"id\":\"d839e065-5fc8-4e64-8c3d-993e3800644f\",\"type\":\"Line\"},\"hover_glyph\":null,\"nonselection_glyph\":{\"id\":\"be5c5dac-4d9b-44c1-8424-9d1ae67cf735\",\"type\":\"Line\"},\"selection_glyph\":null},\"id\":\"8b82a840-9bf9-4671-b2bf-f4b897523e83\",\"type\":\"GlyphRenderer\"},{\"attributes\":{\"plot\":{\"id\":\"ab333060-e88a-4912-a5e3-e80646297322\",\"subtype\":\"Figure\",\"type\":\"Plot\"}},\"id\":\"b6d9b7bb-04e1-4a12-8ebc-85e714ad31c3\",\"type\":\"ResetTool\"},{\"attributes\":{\"line_alpha\":{\"value\":0.1},\"line_color\":{\"value\":\"#1f77b4\"},\"x\":{\"field\":\"x\"},\"y\":{\"field\":\"y\"}},\"id\":\"be5c5dac-4d9b-44c1-8424-9d1ae67cf735\",\"type\":\"Line\"},{\"attributes\":{\"plot\":{\"id\":\"ab333060-e88a-4912-a5e3-e80646297322\",\"subtype\":\"Figure\",\"type\":\"Plot\"}},\"id\":\"f7cb52b1-79c3-4528-ad88-796aed7ea17c\",\"type\":\"HelpTool\"},{\"attributes\":{\"dimension\":1,\"plot\":{\"id\":\"ab333060-e88a-4912-a5e3-e80646297322\",\"subtype\":\"Figure\",\"type\":\"Plot\"},\"ticker\":{\"id\":\"44fb72ca-7452-4c50-9149-96726ef2a711\",\"type\":\"BasicTicker\"}},\"id\":\"2c75e4c7-4595-4b2f-8c20-e9ff8905a1d7\",\"type\":\"Grid\"}],\"root_ids\":[\"ab333060-e88a-4912-a5e3-e80646297322\"]},\"title\":\"Bokeh Application\",\"version\":\"0.11.1\"}};\n",
       "            var render_items = [{\"docid\":\"826252be-fed2-4fce-956d-787203376f4f\",\"elementid\":\"0565b8b9-cc2e-465d-bcf8-c0abed33aa5e\",\"modelid\":\"ab333060-e88a-4912-a5e3-e80646297322\",\"notebook_comms_target\":\"5492d06d-6408-4794-9d1c-f18a7959a9b5\"}];\n",
       "            \n",
       "            Bokeh.embed.embed_items(docs_json, render_items);\n",
       "        });\n",
       "      },\n",
       "      function(Bokeh) {\n",
       "      }\n",
       "    ];\n",
       "  \n",
       "    function run_inline_js() {\n",
       "      for (var i = 0; i < inline_js.length; i++) {\n",
       "        inline_js[i](window.Bokeh);\n",
       "      }\n",
       "    }\n",
       "  \n",
       "    if (window._bokeh_is_loading === 0) {\n",
       "      console.log(\"Bokeh: BokehJS loaded, going straight to plotting\");\n",
       "      run_inline_js();\n",
       "    } else {\n",
       "      load_libs(js_urls, function() {\n",
       "        console.log(\"Bokeh: BokehJS plotting callback run at\", now());\n",
       "        run_inline_js();\n",
       "      });\n",
       "    }\n",
       "  }(this));\n",
       "</script>"
      ]
     },
     "metadata": {},
     "output_type": "display_data"
    }
   ],
   "source": [
    "from sklearn.learning_curve import learning_curve\n",
    "from sklearn.cross_validation import StratifiedKFold\n",
    "from bokeh.plotting import figure, output_notebook, show\n",
    "output_notebook()\n",
    "\n",
    "def do_learning_curve(model, X, y, sizes=np.linspace(0.1, 1.0, 10), y_range=(0.9,1)):\n",
    "    sizes, tr_scores, te_scores = learning_curve(model,\n",
    "                                                 X,\n",
    "                                                 y,\n",
    "                                                 train_sizes=sizes,\n",
    "                                                 cv = StratifiedKFold(y, n_folds=5, shuffle=True, random_state=0),\n",
    "                                                 n_jobs=-1)\n",
    "    # Create our base figure\n",
    "    p = figure(title='Learning Curve',y_range=y_range)\n",
    "\n",
    "    # Create our Training score line\n",
    "    p.line(x=sizes,\n",
    "           y=tr_scores.mean(axis=1),\n",
    "           color='red',\n",
    "           legend=\"Train Scores\")\n",
    "\n",
    "    #Create our Testing score line\n",
    "    p.line(x=sizes,\n",
    "           y=te_scores.mean(axis=1),\n",
    "           color='blue',\n",
    "           legend= \"Test Scores\")\n",
    "\n",
    "    #Move our legend around\n",
    "    p.legend.location = \"top_right\"\n",
    "\n",
    "    # Render the plot!!\n",
    "    show(p)\n",
    "    \n",
    "do_learning_curve(model, X, y)"
   ]
  },
  {
   "cell_type": "markdown",
   "metadata": {},
   "source": [
    "##  1.e: Grid search\n",
    "\n",
    "Use the grid_search function to explore different kernels and values for the `C` parameter.\n",
    "\n",
    "- Can you improve on your best previous score?\n",
    "- Print the best parameters and the best score"
   ]
  },
  {
   "cell_type": "code",
   "execution_count": 23,
   "metadata": {
    "collapsed": false
   },
   "outputs": [],
   "source": [
    "from sklearn import grid_search\n",
    "\n",
    "parameters = {'svc__kernel':('linear', 'rbf'), 'svc__C':[0.01, 0.1, 1, 10, 100]}\n",
    "pipe = make_pipeline(StandardScaler(), SVC())\n",
    "\n",
    "def do_grid_search(input_model, X, y, parameters):\n",
    "    model = grid_search.GridSearchCV(input_model, parameters, cv=StratifiedKFold(y, 5), n_jobs=-1)\n",
    "    model.fit(X, y)\n",
    "    print \"Best Params:\", model.best_params_\n",
    "    print \"Best Score:\", model.best_score_\n",
    "    return model.best_estimator_"
   ]
  },
  {
   "cell_type": "code",
   "execution_count": 24,
   "metadata": {
    "collapsed": false
   },
   "outputs": [
    {
     "name": "stdout",
     "output_type": "stream",
     "text": [
      "Best Params: {'svc__kernel': 'linear', 'svc__C': 0.01}\n",
      "Best Score: 0.96925329429\n"
     ]
    }
   ],
   "source": [
    "best_model = do_grid_search(model, X, y, parameters)"
   ]
  },
  {
   "cell_type": "code",
   "execution_count": 25,
   "metadata": {
    "collapsed": false
   },
   "outputs": [
    {
     "data": {
      "text/plain": [
       "Pipeline(steps=[('standardscaler', StandardScaler(copy=True, with_mean=True, with_std=True)), ('svc', SVC(C=0.01, cache_size=200, class_weight=None, coef0=0.0,\n",
       "  decision_function_shape=None, degree=3, gamma='auto', kernel='linear',\n",
       "  max_iter=-1, probability=False, random_state=None, shrinking=True,\n",
       "  tol=0.001, verbose=False))])"
      ]
     },
     "execution_count": 25,
     "metadata": {},
     "output_type": "execute_result"
    }
   ],
   "source": [
    "best_model"
   ]
  },
  {
   "cell_type": "code",
   "execution_count": 26,
   "metadata": {
    "collapsed": false
   },
   "outputs": [
    {
     "data": {
      "text/plain": [
       "Pipeline(steps=[('standardscaler', StandardScaler(copy=True, with_mean=True, with_std=True)), ('svc', SVC(C=1.0, cache_size=200, class_weight=None, coef0=0.0,\n",
       "  decision_function_shape=None, degree=3, gamma='auto', kernel='rbf',\n",
       "  max_iter=-1, probability=False, random_state=None, shrinking=True,\n",
       "  tol=0.001, verbose=False))])"
      ]
     },
     "execution_count": 26,
     "metadata": {},
     "output_type": "execute_result"
    }
   ],
   "source": [
    "model"
   ]
  },
  {
   "cell_type": "markdown",
   "metadata": {},
   "source": [
    "# Exercise 2\n",
    "Now that you've completed steps 1.a through 1.e it's time to tackle some harder datasets. But before we do that, let's encapsulate a few things into functions so that it's easier to repeat the analysis.\n",
    "\n",
    "## 2.a: Cross Validation\n",
    "Implement a function `do_cv(model, X, y, cv)` that does the following:\n",
    "- Calculates the cross validation scores\n",
    "- Prints the model\n",
    "- Prints and returns the mean and the standard deviation of the cross validation scores\n",
    "\n",
    "> Answer: see above\n",
    "\n",
    "## 2.b: Confusion Matrix and Classification report\n",
    "Implement a function `do_cm_cr(model, X, y, names)` that automates the following:\n",
    "- Split the data using `train_test_split(X, y, stratify=y, test_size=0.33, random_state=42)`\n",
    "- Fit the model\n",
    "- Prints confusion matrix and classification report in a nice format\n",
    "\n",
    "**Hint:** names is the list of target classes\n",
    "\n",
    "> Answer: see above\n",
    "\n",
    "## 2.c: Learning Curves\n",
    "Implement a function `do_learning_curve(model, X, y, sizes)` that automates drawing the learning curves:\n",
    "- Allow for sizes input\n",
    "- Use 5-fold StratifiedKFold cross validation\n",
    "\n",
    "> Answer: see above\n",
    "\n",
    "## 2.d Grid Search\n",
    "Implement a function `do_grid_search(model, parameters)` that automates the grid search by doing:\n",
    "- Calculate grid search\n",
    "- Print best parameters\n",
    "- Print best score\n",
    "- Return best estimator\n",
    "\n",
    "\n",
    "> Answer: see above"
   ]
  },
  {
   "cell_type": "markdown",
   "metadata": {},
   "source": [
    "# Exercise 3\n",
    "Using the functions above, analyze the Spambase dataset.\n",
    "\n",
    "Notice that now you have many more features. Focus your attention on step C => feature selection\n",
    "\n",
    "- Load the data and get to X, y\n",
    "- Select the 15 best features\n",
    "- Perform grid search to determine best model\n",
    "- Display learning curves"
   ]
  },
  {
   "cell_type": "code",
   "execution_count": 27,
   "metadata": {
    "collapsed": false
   },
   "outputs": [
    {
     "name": "stdout",
     "output_type": "stream",
     "text": [
      "<class 'pandas.core.frame.DataFrame'>\n",
      "RangeIndex: 4601 entries, 0 to 4600\n",
      "Data columns (total 58 columns):\n",
      "word_freq_make                4601 non-null float64\n",
      "word_freq_address             4601 non-null float64\n",
      "word_freq_all                 4601 non-null float64\n",
      "word_freq_3d                  4601 non-null float64\n",
      "word_freq_our                 4601 non-null float64\n",
      "word_freq_over                4601 non-null float64\n",
      "word_freq_remove              4601 non-null float64\n",
      "word_freq_internet            4601 non-null float64\n",
      "word_freq_order               4601 non-null float64\n",
      "word_freq_mail                4601 non-null float64\n",
      "word_freq_receive             4601 non-null float64\n",
      "word_freq_will                4601 non-null float64\n",
      "word_freq_people              4601 non-null float64\n",
      "word_freq_report              4601 non-null float64\n",
      "word_freq_addresses           4601 non-null float64\n",
      "word_freq_free                4601 non-null float64\n",
      "word_freq_business            4601 non-null float64\n",
      "word_freq_email               4601 non-null float64\n",
      "word_freq_you                 4601 non-null float64\n",
      "word_freq_credit              4601 non-null float64\n",
      "word_freq_your                4601 non-null float64\n",
      "word_freq_font                4601 non-null float64\n",
      "word_freq_000                 4601 non-null float64\n",
      "word_freq_money               4601 non-null float64\n",
      "word_freq_hp                  4601 non-null float64\n",
      "word_freq_hpl                 4601 non-null float64\n",
      "word_freq_george              4601 non-null float64\n",
      "word_freq_650                 4601 non-null float64\n",
      "word_freq_lab                 4601 non-null float64\n",
      "word_freq_labs                4601 non-null float64\n",
      "word_freq_telnet              4601 non-null float64\n",
      "word_freq_857                 4601 non-null float64\n",
      "word_freq_data                4601 non-null float64\n",
      "word_freq_415                 4601 non-null float64\n",
      "word_freq_85                  4601 non-null float64\n",
      "word_freq_technology          4601 non-null float64\n",
      "word_freq_1999                4601 non-null float64\n",
      "word_freq_parts               4601 non-null float64\n",
      "word_freq_pm                  4601 non-null float64\n",
      "word_freq_direct              4601 non-null float64\n",
      "word_freq_cs                  4601 non-null float64\n",
      "word_freq_meeting             4601 non-null float64\n",
      "word_freq_original            4601 non-null float64\n",
      "word_freq_project             4601 non-null float64\n",
      "word_freq_re                  4601 non-null float64\n",
      "word_freq_edu                 4601 non-null float64\n",
      "word_freq_table               4601 non-null float64\n",
      "word_freq_conference          4601 non-null float64\n",
      "char_freq_;                   4601 non-null float64\n",
      "char_freq_(                   4601 non-null float64\n",
      "char_freq_[                   4601 non-null float64\n",
      "char_freq_!                   4601 non-null float64\n",
      "char_freq_$                   4601 non-null float64\n",
      "char_freq_#                   4601 non-null float64\n",
      "capital_run_length_average    4601 non-null float64\n",
      "capital_run_length_longest    4601 non-null int64\n",
      "capital_run_length_total      4601 non-null int64\n",
      "class                         4601 non-null int64\n",
      "dtypes: float64(55), int64(3)\n",
      "memory usage: 2.0 MB\n"
     ]
    }
   ],
   "source": [
    "df = pd.read_csv('../../assets/datasets/spambase.csv')\n",
    "df.info()"
   ]
  },
  {
   "cell_type": "code",
   "execution_count": 28,
   "metadata": {
    "collapsed": false
   },
   "outputs": [
    {
     "name": "stdout",
     "output_type": "stream",
     "text": [
      "      pred_ham  pred_spam\n",
      "ham        879         41\n",
      "spam        74        525\n",
      "\n",
      "             precision    recall  f1-score   support\n",
      "\n",
      "          0       0.92      0.96      0.94       920\n",
      "          1       0.93      0.88      0.90       599\n",
      "\n",
      "avg / total       0.92      0.92      0.92      1519\n",
      "\n"
     ]
    }
   ],
   "source": [
    "X = df.drop('class', axis=1)\n",
    "y = df['class']\n",
    "do_cm_cr(model, X, y, ['ham', 'spam'])"
   ]
  },
  {
   "cell_type": "code",
   "execution_count": 29,
   "metadata": {
    "collapsed": false
   },
   "outputs": [
    {
     "name": "stdout",
     "output_type": "stream",
     "text": [
      "      pred_ham  pred_spam\n",
      "ham        869         51\n",
      "spam        94        505\n",
      "\n",
      "             precision    recall  f1-score   support\n",
      "\n",
      "          0       0.90      0.94      0.92       920\n",
      "          1       0.91      0.84      0.87       599\n",
      "\n",
      "avg / total       0.90      0.90      0.90      1519\n",
      "\n"
     ]
    }
   ],
   "source": [
    "# select the 15 best features\n",
    "X_new = do_k_best(X, y, 15)\n",
    "do_cm_cr(model, X_new, y, ['ham', 'spam'])"
   ]
  },
  {
   "cell_type": "code",
   "execution_count": 30,
   "metadata": {
    "collapsed": false
   },
   "outputs": [
    {
     "name": "stdout",
     "output_type": "stream",
     "text": [
      "Best Params: {'svc__kernel': 'rbf', 'svc__C': 10}\n",
      "Best Score: 0.901543142795\n"
     ]
    },
    {
     "data": {
      "text/plain": [
       "Pipeline(steps=[('standardscaler', StandardScaler(copy=True, with_mean=True, with_std=True)), ('svc', SVC(C=10, cache_size=200, class_weight=None, coef0=0.0,\n",
       "  decision_function_shape=None, degree=3, gamma='auto', kernel='rbf',\n",
       "  max_iter=-1, probability=False, random_state=None, shrinking=True,\n",
       "  tol=0.001, verbose=False))])"
      ]
     },
     "execution_count": 30,
     "metadata": {},
     "output_type": "execute_result"
    }
   ],
   "source": [
    "# perform grid search to determine best model\n",
    "parameters = {'svc__kernel':('linear', 'rbf'), 'svc__C':[0.01, 0.1, 1.0, 10, 100]}\n",
    "pipe = make_pipeline(StandardScaler(), SVC())\n",
    "best_model = do_grid_search(pipe, X_new, y, parameters)\n",
    "best_model"
   ]
  },
  {
   "cell_type": "code",
   "execution_count": 31,
   "metadata": {
    "collapsed": false
   },
   "outputs": [
    {
     "data": {
      "text/html": [
       "\n",
       "\n",
       "    <div class=\"plotdiv\" id=\"49d9fbfe-7ac1-4e99-a068-0729ce525acf\"></div>\n",
       "<script type=\"text/javascript\">\n",
       "  \n",
       "  (function(global) {\n",
       "    function now() {\n",
       "      return new Date();\n",
       "    }\n",
       "  \n",
       "    if (typeof (window._bokeh_onload_callbacks) === \"undefined\") {\n",
       "      window._bokeh_onload_callbacks = [];\n",
       "    }\n",
       "  \n",
       "    function run_callbacks() {\n",
       "      window._bokeh_onload_callbacks.forEach(function(callback) { callback() });\n",
       "      delete window._bokeh_onload_callbacks\n",
       "      console.info(\"Bokeh: all callbacks have finished\");\n",
       "    }\n",
       "  \n",
       "    function load_libs(js_urls, callback) {\n",
       "      window._bokeh_onload_callbacks.push(callback);\n",
       "      if (window._bokeh_is_loading > 0) {\n",
       "        console.log(\"Bokeh: BokehJS is being loaded, scheduling callback at\", now());\n",
       "        return null;\n",
       "      }\n",
       "      if (js_urls == null || js_urls.length === 0) {\n",
       "        run_callbacks();\n",
       "        return null;\n",
       "      }\n",
       "      console.log(\"Bokeh: BokehJS not loaded, scheduling load and callback at\", now());\n",
       "      window._bokeh_is_loading = js_urls.length;\n",
       "      for (var i = 0; i < js_urls.length; i++) {\n",
       "        var url = js_urls[i];\n",
       "        var s = document.createElement('script');\n",
       "        s.src = url;\n",
       "        s.async = false;\n",
       "        s.onreadystatechange = s.onload = function() {\n",
       "          window._bokeh_is_loading--;\n",
       "          if (window._bokeh_is_loading === 0) {\n",
       "            console.log(\"Bokeh: all BokehJS libraries loaded\");\n",
       "            run_callbacks()\n",
       "          }\n",
       "        };\n",
       "        s.onerror = function() {\n",
       "          console.warn(\"failed to load library \" + url);\n",
       "        };\n",
       "        console.log(\"Bokeh: injecting script tag for BokehJS library: \", url);\n",
       "        document.getElementsByTagName(\"head\")[0].appendChild(s);\n",
       "      }\n",
       "    };var element = document.getElementById(\"49d9fbfe-7ac1-4e99-a068-0729ce525acf\");\n",
       "    if (element == null) {\n",
       "      console.log(\"Bokeh: ERROR: autoload.js configured with elementid '49d9fbfe-7ac1-4e99-a068-0729ce525acf' but no matching script tag was found. \")\n",
       "      return false;\n",
       "    }\n",
       "  \n",
       "    var js_urls = [];\n",
       "  \n",
       "    var inline_js = [\n",
       "      function(Bokeh) {\n",
       "        Bokeh.$(function() {\n",
       "            var docs_json = {\"43acd2f9-9e88-400e-ace7-7562a8876015\":{\"roots\":{\"references\":[{\"attributes\":{\"plot\":{\"id\":\"303187bf-c20e-4abc-b3b7-22a7ff4567c6\",\"subtype\":\"Figure\",\"type\":\"Plot\"}},\"id\":\"e8e380f7-db64-4938-978a-239035bc7a71\",\"type\":\"PanTool\"},{\"attributes\":{\"bottom_units\":\"screen\",\"fill_alpha\":{\"value\":0.5},\"fill_color\":{\"value\":\"lightgrey\"},\"left_units\":\"screen\",\"level\":\"overlay\",\"line_alpha\":{\"value\":1.0},\"line_color\":{\"value\":\"black\"},\"line_dash\":[4,4],\"line_width\":{\"value\":2},\"plot\":null,\"render_mode\":\"css\",\"right_units\":\"screen\",\"top_units\":\"screen\"},\"id\":\"f81f0747-66fe-4fcf-bdb7-9d1c8b0cf580\",\"type\":\"BoxAnnotation\"},{\"attributes\":{\"plot\":{\"id\":\"303187bf-c20e-4abc-b3b7-22a7ff4567c6\",\"subtype\":\"Figure\",\"type\":\"Plot\"},\"ticker\":{\"id\":\"ee0a8f9b-c01e-4ca9-89c5-c49230a75e76\",\"type\":\"BasicTicker\"}},\"id\":\"bf2b6bc2-14b0-4288-ad71-64dfef99d15b\",\"type\":\"Grid\"},{\"attributes\":{\"plot\":{\"id\":\"ab333060-e88a-4912-a5e3-e80646297322\",\"subtype\":\"Figure\",\"type\":\"Plot\"},\"ticker\":{\"id\":\"00996f71-af61-4506-9d4a-497723ec997a\",\"type\":\"BasicTicker\"}},\"id\":\"5058e1ec-0e02-4ef6-852e-716ca2c0affb\",\"type\":\"Grid\"},{\"attributes\":{\"data_source\":{\"id\":\"b445d560-de55-479d-a24e-434624f3e4ea\",\"type\":\"ColumnDataSource\"},\"glyph\":{\"id\":\"8f22e737-8521-4611-a880-1f3969d8e00e\",\"type\":\"Line\"},\"hover_glyph\":null,\"nonselection_glyph\":{\"id\":\"b37a8416-cbe0-41df-a8d6-7fc4ee2cc43d\",\"type\":\"Line\"},\"selection_glyph\":null},\"id\":\"20be5bc6-316e-4fc5-b3c4-ef2018730f2b\",\"type\":\"GlyphRenderer\"},{\"attributes\":{\"overlay\":{\"id\":\"3ab13fc6-95ca-446e-a698-2f6123b21e62\",\"type\":\"BoxAnnotation\"},\"plot\":{\"id\":\"ab333060-e88a-4912-a5e3-e80646297322\",\"subtype\":\"Figure\",\"type\":\"Plot\"}},\"id\":\"a84df100-80f1-4819-96df-0f9cb87a47a1\",\"type\":\"BoxZoomTool\"},{\"attributes\":{\"callback\":null,\"start\":0.7},\"id\":\"9610fbf8-ac17-400e-96af-522c03cb82cf\",\"type\":\"Range1d\"},{\"attributes\":{},\"id\":\"f0aad92f-b9ae-4225-88e5-2b8ff9defbfa\",\"type\":\"BasicTicker\"},{\"attributes\":{\"legends\":[[\"Train Scores\",[{\"id\":\"20be5bc6-316e-4fc5-b3c4-ef2018730f2b\",\"type\":\"GlyphRenderer\"}]],[\"Test Scores\",[{\"id\":\"7e7d1297-81fc-409e-84e7-fa403f71a737\",\"type\":\"GlyphRenderer\"}]]],\"plot\":{\"id\":\"303187bf-c20e-4abc-b3b7-22a7ff4567c6\",\"subtype\":\"Figure\",\"type\":\"Plot\"}},\"id\":\"3ae3e49d-7729-47ac-805e-0f2b193b2300\",\"type\":\"Legend\"},{\"attributes\":{},\"id\":\"7ebb932f-f864-4163-ac5b-679152971f53\",\"type\":\"BasicTickFormatter\"},{\"attributes\":{\"data_source\":{\"id\":\"1dd15741-c57f-4fe5-9f00-75bbcc8878c3\",\"type\":\"ColumnDataSource\"},\"glyph\":{\"id\":\"b52bad2a-bfa2-4d67-a605-f521552685cd\",\"type\":\"Line\"},\"hover_glyph\":null,\"nonselection_glyph\":{\"id\":\"32270afe-eae8-4cad-96d2-4ccd9571c042\",\"type\":\"Line\"},\"selection_glyph\":null},\"id\":\"acaac149-846b-454e-9ba0-f0d93208a017\",\"type\":\"GlyphRenderer\"},{\"attributes\":{},\"id\":\"67cd4e80-370e-4d7f-814f-016714882e0e\",\"type\":\"BasicTickFormatter\"},{\"attributes\":{\"formatter\":{\"id\":\"c22a7cc7-6855-495f-ba4a-f1fc4df075fc\",\"type\":\"BasicTickFormatter\"},\"plot\":{\"id\":\"ab333060-e88a-4912-a5e3-e80646297322\",\"subtype\":\"Figure\",\"type\":\"Plot\"},\"ticker\":{\"id\":\"44fb72ca-7452-4c50-9149-96726ef2a711\",\"type\":\"BasicTicker\"}},\"id\":\"cbaabf00-e664-4967-b282-9142884b6a21\",\"type\":\"LinearAxis\"},{\"attributes\":{\"plot\":{\"id\":\"303187bf-c20e-4abc-b3b7-22a7ff4567c6\",\"subtype\":\"Figure\",\"type\":\"Plot\"}},\"id\":\"10e7950b-d482-4254-bdfa-1d518fa5e681\",\"type\":\"WheelZoomTool\"},{\"attributes\":{},\"id\":\"81a9fe45-dac5-4566-a425-c804eaaebf9f\",\"type\":\"ToolEvents\"},{\"attributes\":{\"plot\":{\"id\":\"ab333060-e88a-4912-a5e3-e80646297322\",\"subtype\":\"Figure\",\"type\":\"Plot\"}},\"id\":\"fce53015-7ba8-4337-ad05-d7c9c1b52bf9\",\"type\":\"WheelZoomTool\"},{\"attributes\":{\"below\":[{\"id\":\"0efaae6a-8cb4-41aa-ac15-2b5babcf76c8\",\"type\":\"LinearAxis\"}],\"left\":[{\"id\":\"cbaabf00-e664-4967-b282-9142884b6a21\",\"type\":\"LinearAxis\"}],\"renderers\":[{\"id\":\"0efaae6a-8cb4-41aa-ac15-2b5babcf76c8\",\"type\":\"LinearAxis\"},{\"id\":\"5058e1ec-0e02-4ef6-852e-716ca2c0affb\",\"type\":\"Grid\"},{\"id\":\"cbaabf00-e664-4967-b282-9142884b6a21\",\"type\":\"LinearAxis\"},{\"id\":\"2c75e4c7-4595-4b2f-8c20-e9ff8905a1d7\",\"type\":\"Grid\"},{\"id\":\"3ab13fc6-95ca-446e-a698-2f6123b21e62\",\"type\":\"BoxAnnotation\"},{\"id\":\"ac6de56d-bca0-4217-a37b-f0774bb2adff\",\"type\":\"Legend\"},{\"id\":\"acaac149-846b-454e-9ba0-f0d93208a017\",\"type\":\"GlyphRenderer\"},{\"id\":\"8b82a840-9bf9-4671-b2bf-f4b897523e83\",\"type\":\"GlyphRenderer\"}],\"title\":\"Learning Curve\",\"tool_events\":{\"id\":\"81a9fe45-dac5-4566-a425-c804eaaebf9f\",\"type\":\"ToolEvents\"},\"tools\":[{\"id\":\"dd2fb70a-fe9d-44b8-bad2-6318a6123dfe\",\"type\":\"PanTool\"},{\"id\":\"fce53015-7ba8-4337-ad05-d7c9c1b52bf9\",\"type\":\"WheelZoomTool\"},{\"id\":\"a84df100-80f1-4819-96df-0f9cb87a47a1\",\"type\":\"BoxZoomTool\"},{\"id\":\"678bd3b2-7af5-4b18-baeb-c359258032b9\",\"type\":\"PreviewSaveTool\"},{\"id\":\"9e569921-21eb-4db3-97b0-b7dd8dfd825a\",\"type\":\"ResizeTool\"},{\"id\":\"b6d9b7bb-04e1-4a12-8ebc-85e714ad31c3\",\"type\":\"ResetTool\"},{\"id\":\"f7cb52b1-79c3-4528-ad88-796aed7ea17c\",\"type\":\"HelpTool\"}],\"x_range\":{\"id\":\"9e53a4cd-619c-454c-8b41-3c3d803530d9\",\"type\":\"DataRange1d\"},\"y_range\":{\"id\":\"c69c060e-53b6-425d-b2e6-954e6c864958\",\"type\":\"Range1d\"}},\"id\":\"ab333060-e88a-4912-a5e3-e80646297322\",\"subtype\":\"Figure\",\"type\":\"Plot\"},{\"attributes\":{\"plot\":{\"id\":\"ab333060-e88a-4912-a5e3-e80646297322\",\"subtype\":\"Figure\",\"type\":\"Plot\"}},\"id\":\"dd2fb70a-fe9d-44b8-bad2-6318a6123dfe\",\"type\":\"PanTool\"},{\"attributes\":{\"data_source\":{\"id\":\"475a65f2-1da3-4d53-b7e6-ba798b5ebd2b\",\"type\":\"ColumnDataSource\"},\"glyph\":{\"id\":\"c4cdee44-7219-4ff8-a436-b173f69d77cc\",\"type\":\"Line\"},\"hover_glyph\":null,\"nonselection_glyph\":{\"id\":\"a2bf336a-db72-4663-9d04-d559513aff30\",\"type\":\"Line\"},\"selection_glyph\":null},\"id\":\"7e7d1297-81fc-409e-84e7-fa403f71a737\",\"type\":\"GlyphRenderer\"},{\"attributes\":{\"plot\":{\"id\":\"303187bf-c20e-4abc-b3b7-22a7ff4567c6\",\"subtype\":\"Figure\",\"type\":\"Plot\"}},\"id\":\"5e916577-231e-44f9-a429-4810c2ef7f9f\",\"type\":\"PreviewSaveTool\"},{\"attributes\":{\"callback\":null,\"column_names\":[\"y\",\"x\"],\"data\":{\"x\":[54,109,163,218,273,327,382,436,491,546],\"y\":[0.9663152203298189,0.9677534468775345,0.9677750743444176,0.9662935928629359,0.969213300892133,0.9677534468775345,0.9662935928629359,0.9662935928629359,0.9662935928629359,0.9662935928629359]}},\"id\":\"270222c3-b88a-4204-ac0e-5434d0f8c7bc\",\"type\":\"ColumnDataSource\"},{\"attributes\":{\"line_alpha\":{\"value\":0.1},\"line_color\":{\"value\":\"#1f77b4\"},\"x\":{\"field\":\"x\"},\"y\":{\"field\":\"y\"}},\"id\":\"a2bf336a-db72-4663-9d04-d559513aff30\",\"type\":\"Line\"},{\"attributes\":{\"callback\":null},\"id\":\"9e53a4cd-619c-454c-8b41-3c3d803530d9\",\"type\":\"DataRange1d\"},{\"attributes\":{\"line_color\":{\"value\":\"blue\"},\"x\":{\"field\":\"x\"},\"y\":{\"field\":\"y\"}},\"id\":\"c4cdee44-7219-4ff8-a436-b173f69d77cc\",\"type\":\"Line\"},{\"attributes\":{},\"id\":\"44fb72ca-7452-4c50-9149-96726ef2a711\",\"type\":\"BasicTicker\"},{\"attributes\":{\"callback\":null,\"column_names\":[\"y\",\"x\"],\"data\":{\"x\":[1472,2024,2576,3128,3680],\"y\":[0.4792479669753863,0.8570073924945565,0.8904691522556145,0.8993758262946908,0.9111111898761696]}},\"id\":\"475a65f2-1da3-4d53-b7e6-ba798b5ebd2b\",\"type\":\"ColumnDataSource\"},{\"attributes\":{\"callback\":null,\"column_names\":[\"y\",\"x\"],\"data\":{\"x\":[1472,2024,2576,3128,3680],\"y\":[0.9929347826086957,0.9294466403162056,0.9272515527950309,0.9303708439897698,0.9206521739130435]}},\"id\":\"b445d560-de55-479d-a24e-434624f3e4ea\",\"type\":\"ColumnDataSource\"},{\"attributes\":{\"below\":[{\"id\":\"ba6490fb-e8ca-48b9-82ed-4e2f9b407dcf\",\"type\":\"LinearAxis\"}],\"left\":[{\"id\":\"94f1e8b9-3231-4e44-b66a-26f37e327ff1\",\"type\":\"LinearAxis\"}],\"renderers\":[{\"id\":\"ba6490fb-e8ca-48b9-82ed-4e2f9b407dcf\",\"type\":\"LinearAxis\"},{\"id\":\"bf2b6bc2-14b0-4288-ad71-64dfef99d15b\",\"type\":\"Grid\"},{\"id\":\"94f1e8b9-3231-4e44-b66a-26f37e327ff1\",\"type\":\"LinearAxis\"},{\"id\":\"ace077d4-4273-4397-8384-4e70d9a88e7e\",\"type\":\"Grid\"},{\"id\":\"f81f0747-66fe-4fcf-bdb7-9d1c8b0cf580\",\"type\":\"BoxAnnotation\"},{\"id\":\"3ae3e49d-7729-47ac-805e-0f2b193b2300\",\"type\":\"Legend\"},{\"id\":\"20be5bc6-316e-4fc5-b3c4-ef2018730f2b\",\"type\":\"GlyphRenderer\"},{\"id\":\"7e7d1297-81fc-409e-84e7-fa403f71a737\",\"type\":\"GlyphRenderer\"}],\"title\":\"Learning Curve\",\"tool_events\":{\"id\":\"8cad695d-f111-4bd6-8b3b-dafdd0eccf2a\",\"type\":\"ToolEvents\"},\"tools\":[{\"id\":\"e8e380f7-db64-4938-978a-239035bc7a71\",\"type\":\"PanTool\"},{\"id\":\"10e7950b-d482-4254-bdfa-1d518fa5e681\",\"type\":\"WheelZoomTool\"},{\"id\":\"3d599914-ded1-4f48-92d4-cfcff96d4fd8\",\"type\":\"BoxZoomTool\"},{\"id\":\"5e916577-231e-44f9-a429-4810c2ef7f9f\",\"type\":\"PreviewSaveTool\"},{\"id\":\"4d970c2d-0b98-4861-b977-95c7d8bee81f\",\"type\":\"ResizeTool\"},{\"id\":\"d7fd8f57-1ce3-497a-9be3-d00809adc894\",\"type\":\"ResetTool\"},{\"id\":\"8cea71d7-38ac-41cf-bec7-16cbada56a9f\",\"type\":\"HelpTool\"}],\"x_range\":{\"id\":\"0a22f499-d3ce-4c66-97e1-444569567444\",\"type\":\"DataRange1d\"},\"y_range\":{\"id\":\"9610fbf8-ac17-400e-96af-522c03cb82cf\",\"type\":\"Range1d\"}},\"id\":\"303187bf-c20e-4abc-b3b7-22a7ff4567c6\",\"subtype\":\"Figure\",\"type\":\"Plot\"},{\"attributes\":{\"formatter\":{\"id\":\"4abe640d-8d15-4638-9251-ed6bcea83d83\",\"type\":\"BasicTickFormatter\"},\"plot\":{\"id\":\"303187bf-c20e-4abc-b3b7-22a7ff4567c6\",\"subtype\":\"Figure\",\"type\":\"Plot\"},\"ticker\":{\"id\":\"ee0a8f9b-c01e-4ca9-89c5-c49230a75e76\",\"type\":\"BasicTicker\"}},\"id\":\"ba6490fb-e8ca-48b9-82ed-4e2f9b407dcf\",\"type\":\"LinearAxis\"},{\"attributes\":{},\"id\":\"8cad695d-f111-4bd6-8b3b-dafdd0eccf2a\",\"type\":\"ToolEvents\"},{\"attributes\":{\"formatter\":{\"id\":\"67cd4e80-370e-4d7f-814f-016714882e0e\",\"type\":\"BasicTickFormatter\"},\"plot\":{\"id\":\"ab333060-e88a-4912-a5e3-e80646297322\",\"subtype\":\"Figure\",\"type\":\"Plot\"},\"ticker\":{\"id\":\"00996f71-af61-4506-9d4a-497723ec997a\",\"type\":\"BasicTicker\"}},\"id\":\"0efaae6a-8cb4-41aa-ac15-2b5babcf76c8\",\"type\":\"LinearAxis\"},{\"attributes\":{\"plot\":{\"id\":\"303187bf-c20e-4abc-b3b7-22a7ff4567c6\",\"subtype\":\"Figure\",\"type\":\"Plot\"}},\"id\":\"d7fd8f57-1ce3-497a-9be3-d00809adc894\",\"type\":\"ResetTool\"},{\"attributes\":{\"legends\":[[\"Train Scores\",[{\"id\":\"acaac149-846b-454e-9ba0-f0d93208a017\",\"type\":\"GlyphRenderer\"}]],[\"Test Scores\",[{\"id\":\"8b82a840-9bf9-4671-b2bf-f4b897523e83\",\"type\":\"GlyphRenderer\"}]]],\"plot\":{\"id\":\"ab333060-e88a-4912-a5e3-e80646297322\",\"subtype\":\"Figure\",\"type\":\"Plot\"}},\"id\":\"ac6de56d-bca0-4217-a37b-f0774bb2adff\",\"type\":\"Legend\"},{\"attributes\":{\"line_color\":{\"value\":\"red\"},\"x\":{\"field\":\"x\"},\"y\":{\"field\":\"y\"}},\"id\":\"b52bad2a-bfa2-4d67-a605-f521552685cd\",\"type\":\"Line\"},{\"attributes\":{\"dimension\":1,\"plot\":{\"id\":\"303187bf-c20e-4abc-b3b7-22a7ff4567c6\",\"subtype\":\"Figure\",\"type\":\"Plot\"},\"ticker\":{\"id\":\"f0aad92f-b9ae-4225-88e5-2b8ff9defbfa\",\"type\":\"BasicTicker\"}},\"id\":\"ace077d4-4273-4397-8384-4e70d9a88e7e\",\"type\":\"Grid\"},{\"attributes\":{\"line_alpha\":{\"value\":0.1},\"line_color\":{\"value\":\"#1f77b4\"},\"x\":{\"field\":\"x\"},\"y\":{\"field\":\"y\"}},\"id\":\"b37a8416-cbe0-41df-a8d6-7fc4ee2cc43d\",\"type\":\"Line\"},{\"attributes\":{\"plot\":{\"id\":\"ab333060-e88a-4912-a5e3-e80646297322\",\"subtype\":\"Figure\",\"type\":\"Plot\"}},\"id\":\"b6d9b7bb-04e1-4a12-8ebc-85e714ad31c3\",\"type\":\"ResetTool\"},{\"attributes\":{\"callback\":null},\"id\":\"0a22f499-d3ce-4c66-97e1-444569567444\",\"type\":\"DataRange1d\"},{\"attributes\":{\"plot\":{\"id\":\"ab333060-e88a-4912-a5e3-e80646297322\",\"subtype\":\"Figure\",\"type\":\"Plot\"}},\"id\":\"9e569921-21eb-4db3-97b0-b7dd8dfd825a\",\"type\":\"ResizeTool\"},{\"attributes\":{\"line_alpha\":{\"value\":0.1},\"line_color\":{\"value\":\"#1f77b4\"},\"x\":{\"field\":\"x\"},\"y\":{\"field\":\"y\"}},\"id\":\"32270afe-eae8-4cad-96d2-4ccd9571c042\",\"type\":\"Line\"},{\"attributes\":{\"line_color\":{\"value\":\"blue\"},\"x\":{\"field\":\"x\"},\"y\":{\"field\":\"y\"}},\"id\":\"d839e065-5fc8-4e64-8c3d-993e3800644f\",\"type\":\"Line\"},{\"attributes\":{\"plot\":{\"id\":\"303187bf-c20e-4abc-b3b7-22a7ff4567c6\",\"subtype\":\"Figure\",\"type\":\"Plot\"}},\"id\":\"4d970c2d-0b98-4861-b977-95c7d8bee81f\",\"type\":\"ResizeTool\"},{\"attributes\":{\"bottom_units\":\"screen\",\"fill_alpha\":{\"value\":0.5},\"fill_color\":{\"value\":\"lightgrey\"},\"left_units\":\"screen\",\"level\":\"overlay\",\"line_alpha\":{\"value\":1.0},\"line_color\":{\"value\":\"black\"},\"line_dash\":[4,4],\"line_width\":{\"value\":2},\"plot\":null,\"render_mode\":\"css\",\"right_units\":\"screen\",\"top_units\":\"screen\"},\"id\":\"3ab13fc6-95ca-446e-a698-2f6123b21e62\",\"type\":\"BoxAnnotation\"},{\"attributes\":{},\"id\":\"4abe640d-8d15-4638-9251-ed6bcea83d83\",\"type\":\"BasicTickFormatter\"},{\"attributes\":{\"callback\":null,\"column_names\":[\"y\",\"x\"],\"data\":{\"x\":[54,109,163,218,273,327,382,436,491,546],\"y\":[0.9703703703703704,0.98348623853211,0.9803680981595093,0.9706422018348624,0.9663003663003662,0.9669724770642201,0.968062827225131,0.9701834862385322,0.9739307535641547,0.9758241758241757]}},\"id\":\"1dd15741-c57f-4fe5-9f00-75bbcc8878c3\",\"type\":\"ColumnDataSource\"},{\"attributes\":{},\"id\":\"c22a7cc7-6855-495f-ba4a-f1fc4df075fc\",\"type\":\"BasicTickFormatter\"},{\"attributes\":{\"line_color\":{\"value\":\"red\"},\"x\":{\"field\":\"x\"},\"y\":{\"field\":\"y\"}},\"id\":\"8f22e737-8521-4611-a880-1f3969d8e00e\",\"type\":\"Line\"},{\"attributes\":{\"plot\":{\"id\":\"ab333060-e88a-4912-a5e3-e80646297322\",\"subtype\":\"Figure\",\"type\":\"Plot\"}},\"id\":\"678bd3b2-7af5-4b18-baeb-c359258032b9\",\"type\":\"PreviewSaveTool\"},{\"attributes\":{\"plot\":{\"id\":\"303187bf-c20e-4abc-b3b7-22a7ff4567c6\",\"subtype\":\"Figure\",\"type\":\"Plot\"}},\"id\":\"8cea71d7-38ac-41cf-bec7-16cbada56a9f\",\"type\":\"HelpTool\"},{\"attributes\":{\"callback\":null,\"start\":0.9},\"id\":\"c69c060e-53b6-425d-b2e6-954e6c864958\",\"type\":\"Range1d\"},{\"attributes\":{},\"id\":\"ee0a8f9b-c01e-4ca9-89c5-c49230a75e76\",\"type\":\"BasicTicker\"},{\"attributes\":{\"overlay\":{\"id\":\"f81f0747-66fe-4fcf-bdb7-9d1c8b0cf580\",\"type\":\"BoxAnnotation\"},\"plot\":{\"id\":\"303187bf-c20e-4abc-b3b7-22a7ff4567c6\",\"subtype\":\"Figure\",\"type\":\"Plot\"}},\"id\":\"3d599914-ded1-4f48-92d4-cfcff96d4fd8\",\"type\":\"BoxZoomTool\"},{\"attributes\":{\"data_source\":{\"id\":\"270222c3-b88a-4204-ac0e-5434d0f8c7bc\",\"type\":\"ColumnDataSource\"},\"glyph\":{\"id\":\"d839e065-5fc8-4e64-8c3d-993e3800644f\",\"type\":\"Line\"},\"hover_glyph\":null,\"nonselection_glyph\":{\"id\":\"be5c5dac-4d9b-44c1-8424-9d1ae67cf735\",\"type\":\"Line\"},\"selection_glyph\":null},\"id\":\"8b82a840-9bf9-4671-b2bf-f4b897523e83\",\"type\":\"GlyphRenderer\"},{\"attributes\":{},\"id\":\"00996f71-af61-4506-9d4a-497723ec997a\",\"type\":\"BasicTicker\"},{\"attributes\":{\"line_alpha\":{\"value\":0.1},\"line_color\":{\"value\":\"#1f77b4\"},\"x\":{\"field\":\"x\"},\"y\":{\"field\":\"y\"}},\"id\":\"be5c5dac-4d9b-44c1-8424-9d1ae67cf735\",\"type\":\"Line\"},{\"attributes\":{\"formatter\":{\"id\":\"7ebb932f-f864-4163-ac5b-679152971f53\",\"type\":\"BasicTickFormatter\"},\"plot\":{\"id\":\"303187bf-c20e-4abc-b3b7-22a7ff4567c6\",\"subtype\":\"Figure\",\"type\":\"Plot\"},\"ticker\":{\"id\":\"f0aad92f-b9ae-4225-88e5-2b8ff9defbfa\",\"type\":\"BasicTicker\"}},\"id\":\"94f1e8b9-3231-4e44-b66a-26f37e327ff1\",\"type\":\"LinearAxis\"},{\"attributes\":{\"plot\":{\"id\":\"ab333060-e88a-4912-a5e3-e80646297322\",\"subtype\":\"Figure\",\"type\":\"Plot\"}},\"id\":\"f7cb52b1-79c3-4528-ad88-796aed7ea17c\",\"type\":\"HelpTool\"},{\"attributes\":{\"dimension\":1,\"plot\":{\"id\":\"ab333060-e88a-4912-a5e3-e80646297322\",\"subtype\":\"Figure\",\"type\":\"Plot\"},\"ticker\":{\"id\":\"44fb72ca-7452-4c50-9149-96726ef2a711\",\"type\":\"BasicTicker\"}},\"id\":\"2c75e4c7-4595-4b2f-8c20-e9ff8905a1d7\",\"type\":\"Grid\"}],\"root_ids\":[\"ab333060-e88a-4912-a5e3-e80646297322\",\"303187bf-c20e-4abc-b3b7-22a7ff4567c6\"]},\"title\":\"Bokeh Application\",\"version\":\"0.11.1\"}};\n",
       "            var render_items = [{\"docid\":\"43acd2f9-9e88-400e-ace7-7562a8876015\",\"elementid\":\"49d9fbfe-7ac1-4e99-a068-0729ce525acf\",\"modelid\":\"303187bf-c20e-4abc-b3b7-22a7ff4567c6\",\"notebook_comms_target\":\"b6a78102-0d56-4823-872b-8c4e5c0f1d8f\"}];\n",
       "            \n",
       "            Bokeh.embed.embed_items(docs_json, render_items);\n",
       "        });\n",
       "      },\n",
       "      function(Bokeh) {\n",
       "      }\n",
       "    ];\n",
       "  \n",
       "    function run_inline_js() {\n",
       "      for (var i = 0; i < inline_js.length; i++) {\n",
       "        inline_js[i](window.Bokeh);\n",
       "      }\n",
       "    }\n",
       "  \n",
       "    if (window._bokeh_is_loading === 0) {\n",
       "      console.log(\"Bokeh: BokehJS loaded, going straight to plotting\");\n",
       "      run_inline_js();\n",
       "    } else {\n",
       "      load_libs(js_urls, function() {\n",
       "        console.log(\"Bokeh: BokehJS plotting callback run at\", now());\n",
       "        run_inline_js();\n",
       "      });\n",
       "    }\n",
       "  }(this));\n",
       "</script>"
      ]
     },
     "metadata": {},
     "output_type": "display_data"
    }
   ],
   "source": [
    "# display learning curves\n",
    "do_learning_curve(best_model, X_new, y,\n",
    "                  sizes=np.linspace(0.4,1.0,5),\n",
    "                  y_range=(0.7, 1))"
   ]
  },
  {
   "cell_type": "markdown",
   "metadata": {},
   "source": [
    "# Exercise 4\n",
    "Repeat steps 1.a - 1.e for the car dataset. Notice that now features are categorical, not numerical.\n",
    "\n",
    "- Find a suitable way to encode them\n",
    "- How does this change our modeling strategy?\n",
    "\n",
    "Also notice that the target variable `acceptability` has 4 classes. How do we encode them?\n"
   ]
  },
  {
   "cell_type": "code",
   "execution_count": 32,
   "metadata": {
    "collapsed": false
   },
   "outputs": [
    {
     "name": "stdout",
     "output_type": "stream",
     "text": [
      "<class 'pandas.core.frame.DataFrame'>\n",
      "RangeIndex: 1728 entries, 0 to 1727\n",
      "Data columns (total 7 columns):\n",
      "buying           1728 non-null object\n",
      "maint            1728 non-null object\n",
      "doors            1728 non-null object\n",
      "persons          1728 non-null object\n",
      "lug_boot         1728 non-null object\n",
      "safety           1728 non-null object\n",
      "acceptability    1728 non-null object\n",
      "dtypes: object(7)\n",
      "memory usage: 94.6+ KB\n"
     ]
    }
   ],
   "source": [
    "df = pd.read_csv('../../assets/datasets/car.csv')\n",
    "df.info()"
   ]
  },
  {
   "cell_type": "code",
   "execution_count": 33,
   "metadata": {
    "collapsed": false
   },
   "outputs": [
    {
     "data": {
      "text/plain": [
       "unacc    0.700231\n",
       "acc      0.222222\n",
       "good     0.039931\n",
       "vgood    0.037616\n",
       "Name: acceptability, dtype: float64"
      ]
     },
     "execution_count": 33,
     "metadata": {},
     "output_type": "execute_result"
    }
   ],
   "source": [
    "df['acceptability'].value_counts() / len(df)"
   ]
  },
  {
   "cell_type": "code",
   "execution_count": 34,
   "metadata": {
    "collapsed": false
   },
   "outputs": [
    {
     "data": {
      "text/plain": [
       "array(['acc', 'good', 'unacc', 'vgood'], dtype=object)"
      ]
     },
     "execution_count": 34,
     "metadata": {},
     "output_type": "execute_result"
    }
   ],
   "source": [
    "from sklearn.preprocessing import LabelEncoder\n",
    "le = LabelEncoder()\n",
    "labels = df['acceptability']\n",
    "le.fit(labels)\n",
    "y = le.transform(labels)\n",
    "le.classes_"
   ]
  },
  {
   "cell_type": "code",
   "execution_count": 35,
   "metadata": {
    "collapsed": false
   },
   "outputs": [],
   "source": [
    "X = pd.get_dummies(df.drop('acceptability', axis = 1))"
   ]
  },
  {
   "cell_type": "code",
   "execution_count": 36,
   "metadata": {
    "collapsed": false
   },
   "outputs": [
    {
     "name": "stdout",
     "output_type": "stream",
     "text": [
      "Best Params: {'svc__kernel': 'rbf', 'svc__C': 10}\n",
      "Best Score: 0.856481481481\n"
     ]
    }
   ],
   "source": [
    "parameters = {'svc__kernel':('linear', 'rbf'), 'svc__C':[0.01, 0.1, 1.0, 10, 100]}\n",
    "pipe = make_pipeline(StandardScaler(), SVC())\n",
    "\n",
    "best_model = do_grid_search(pipe, X, y, parameters)"
   ]
  },
  {
   "cell_type": "code",
   "execution_count": 37,
   "metadata": {
    "collapsed": false
   },
   "outputs": [
    {
     "name": "stdout",
     "output_type": "stream",
     "text": [
      "       pred_acc  pred_good  pred_unacc  pred_vgood\n",
      "acc         127          0           0           0\n",
      "good          1         22           0           0\n",
      "unacc         1          0         399           0\n",
      "vgood         0          0           0          21\n",
      "\n",
      "             precision    recall  f1-score   support\n",
      "\n",
      "          0       0.98      1.00      0.99       127\n",
      "          1       1.00      0.96      0.98        23\n",
      "          2       1.00      1.00      1.00       400\n",
      "          3       1.00      1.00      1.00        21\n",
      "\n",
      "avg / total       1.00      1.00      1.00       571\n",
      "\n"
     ]
    }
   ],
   "source": [
    "do_cm_cr(best_model, X, y, le.classes_)"
   ]
  },
  {
   "cell_type": "code",
   "execution_count": 38,
   "metadata": {
    "collapsed": false
   },
   "outputs": [
    {
     "data": {
      "text/html": [
       "\n",
       "\n",
       "    <div class=\"plotdiv\" id=\"f605b018-6909-493e-99ea-b9fcf799a58a\"></div>\n",
       "<script type=\"text/javascript\">\n",
       "  \n",
       "  (function(global) {\n",
       "    function now() {\n",
       "      return new Date();\n",
       "    }\n",
       "  \n",
       "    if (typeof (window._bokeh_onload_callbacks) === \"undefined\") {\n",
       "      window._bokeh_onload_callbacks = [];\n",
       "    }\n",
       "  \n",
       "    function run_callbacks() {\n",
       "      window._bokeh_onload_callbacks.forEach(function(callback) { callback() });\n",
       "      delete window._bokeh_onload_callbacks\n",
       "      console.info(\"Bokeh: all callbacks have finished\");\n",
       "    }\n",
       "  \n",
       "    function load_libs(js_urls, callback) {\n",
       "      window._bokeh_onload_callbacks.push(callback);\n",
       "      if (window._bokeh_is_loading > 0) {\n",
       "        console.log(\"Bokeh: BokehJS is being loaded, scheduling callback at\", now());\n",
       "        return null;\n",
       "      }\n",
       "      if (js_urls == null || js_urls.length === 0) {\n",
       "        run_callbacks();\n",
       "        return null;\n",
       "      }\n",
       "      console.log(\"Bokeh: BokehJS not loaded, scheduling load and callback at\", now());\n",
       "      window._bokeh_is_loading = js_urls.length;\n",
       "      for (var i = 0; i < js_urls.length; i++) {\n",
       "        var url = js_urls[i];\n",
       "        var s = document.createElement('script');\n",
       "        s.src = url;\n",
       "        s.async = false;\n",
       "        s.onreadystatechange = s.onload = function() {\n",
       "          window._bokeh_is_loading--;\n",
       "          if (window._bokeh_is_loading === 0) {\n",
       "            console.log(\"Bokeh: all BokehJS libraries loaded\");\n",
       "            run_callbacks()\n",
       "          }\n",
       "        };\n",
       "        s.onerror = function() {\n",
       "          console.warn(\"failed to load library \" + url);\n",
       "        };\n",
       "        console.log(\"Bokeh: injecting script tag for BokehJS library: \", url);\n",
       "        document.getElementsByTagName(\"head\")[0].appendChild(s);\n",
       "      }\n",
       "    };var element = document.getElementById(\"f605b018-6909-493e-99ea-b9fcf799a58a\");\n",
       "    if (element == null) {\n",
       "      console.log(\"Bokeh: ERROR: autoload.js configured with elementid 'f605b018-6909-493e-99ea-b9fcf799a58a' but no matching script tag was found. \")\n",
       "      return false;\n",
       "    }\n",
       "  \n",
       "    var js_urls = [];\n",
       "  \n",
       "    var inline_js = [\n",
       "      function(Bokeh) {\n",
       "        Bokeh.$(function() {\n",
       "            var docs_json = {\"85bf9208-14d0-48ba-8d41-d0ae71c4b3a6\":{\"roots\":{\"references\":[{\"attributes\":{\"bottom_units\":\"screen\",\"fill_alpha\":{\"value\":0.5},\"fill_color\":{\"value\":\"lightgrey\"},\"left_units\":\"screen\",\"level\":\"overlay\",\"line_alpha\":{\"value\":1.0},\"line_color\":{\"value\":\"black\"},\"line_dash\":[4,4],\"line_width\":{\"value\":2},\"plot\":null,\"render_mode\":\"css\",\"right_units\":\"screen\",\"top_units\":\"screen\"},\"id\":\"f81f0747-66fe-4fcf-bdb7-9d1c8b0cf580\",\"type\":\"BoxAnnotation\"},{\"attributes\":{},\"id\":\"f0aad92f-b9ae-4225-88e5-2b8ff9defbfa\",\"type\":\"BasicTicker\"},{\"attributes\":{\"line_alpha\":{\"value\":0.1},\"line_color\":{\"value\":\"#1f77b4\"},\"x\":{\"field\":\"x\"},\"y\":{\"field\":\"y\"}},\"id\":\"536e60a2-030c-4051-a701-496295d7336f\",\"type\":\"Line\"},{\"attributes\":{\"below\":[{\"id\":\"0efaae6a-8cb4-41aa-ac15-2b5babcf76c8\",\"type\":\"LinearAxis\"}],\"left\":[{\"id\":\"cbaabf00-e664-4967-b282-9142884b6a21\",\"type\":\"LinearAxis\"}],\"renderers\":[{\"id\":\"0efaae6a-8cb4-41aa-ac15-2b5babcf76c8\",\"type\":\"LinearAxis\"},{\"id\":\"5058e1ec-0e02-4ef6-852e-716ca2c0affb\",\"type\":\"Grid\"},{\"id\":\"cbaabf00-e664-4967-b282-9142884b6a21\",\"type\":\"LinearAxis\"},{\"id\":\"2c75e4c7-4595-4b2f-8c20-e9ff8905a1d7\",\"type\":\"Grid\"},{\"id\":\"3ab13fc6-95ca-446e-a698-2f6123b21e62\",\"type\":\"BoxAnnotation\"},{\"id\":\"ac6de56d-bca0-4217-a37b-f0774bb2adff\",\"type\":\"Legend\"},{\"id\":\"acaac149-846b-454e-9ba0-f0d93208a017\",\"type\":\"GlyphRenderer\"},{\"id\":\"8b82a840-9bf9-4671-b2bf-f4b897523e83\",\"type\":\"GlyphRenderer\"}],\"title\":\"Learning Curve\",\"tool_events\":{\"id\":\"81a9fe45-dac5-4566-a425-c804eaaebf9f\",\"type\":\"ToolEvents\"},\"tools\":[{\"id\":\"dd2fb70a-fe9d-44b8-bad2-6318a6123dfe\",\"type\":\"PanTool\"},{\"id\":\"fce53015-7ba8-4337-ad05-d7c9c1b52bf9\",\"type\":\"WheelZoomTool\"},{\"id\":\"a84df100-80f1-4819-96df-0f9cb87a47a1\",\"type\":\"BoxZoomTool\"},{\"id\":\"678bd3b2-7af5-4b18-baeb-c359258032b9\",\"type\":\"PreviewSaveTool\"},{\"id\":\"9e569921-21eb-4db3-97b0-b7dd8dfd825a\",\"type\":\"ResizeTool\"},{\"id\":\"b6d9b7bb-04e1-4a12-8ebc-85e714ad31c3\",\"type\":\"ResetTool\"},{\"id\":\"f7cb52b1-79c3-4528-ad88-796aed7ea17c\",\"type\":\"HelpTool\"}],\"x_range\":{\"id\":\"9e53a4cd-619c-454c-8b41-3c3d803530d9\",\"type\":\"DataRange1d\"},\"y_range\":{\"id\":\"c69c060e-53b6-425d-b2e6-954e6c864958\",\"type\":\"Range1d\"}},\"id\":\"ab333060-e88a-4912-a5e3-e80646297322\",\"subtype\":\"Figure\",\"type\":\"Plot\"},{\"attributes\":{\"data_source\":{\"id\":\"475a65f2-1da3-4d53-b7e6-ba798b5ebd2b\",\"type\":\"ColumnDataSource\"},\"glyph\":{\"id\":\"c4cdee44-7219-4ff8-a436-b173f69d77cc\",\"type\":\"Line\"},\"hover_glyph\":null,\"nonselection_glyph\":{\"id\":\"a2bf336a-db72-4663-9d04-d559513aff30\",\"type\":\"Line\"},\"selection_glyph\":null},\"id\":\"7e7d1297-81fc-409e-84e7-fa403f71a737\",\"type\":\"GlyphRenderer\"},{\"attributes\":{\"callback\":null},\"id\":\"3d6a6d4f-f05f-4e1c-9b13-4a9d925e6669\",\"type\":\"DataRange1d\"},{\"attributes\":{\"callback\":null,\"column_names\":[\"y\",\"x\"],\"data\":{\"x\":[54,109,163,218,273,327,382,436,491,546],\"y\":[0.9663152203298189,0.9677534468775345,0.9677750743444176,0.9662935928629359,0.969213300892133,0.9677534468775345,0.9662935928629359,0.9662935928629359,0.9662935928629359,0.9662935928629359]}},\"id\":\"270222c3-b88a-4204-ac0e-5434d0f8c7bc\",\"type\":\"ColumnDataSource\"},{\"attributes\":{\"plot\":{\"id\":\"ab333060-e88a-4912-a5e3-e80646297322\",\"subtype\":\"Figure\",\"type\":\"Plot\"}},\"id\":\"b6d9b7bb-04e1-4a12-8ebc-85e714ad31c3\",\"type\":\"ResetTool\"},{\"attributes\":{\"line_color\":{\"value\":\"blue\"},\"x\":{\"field\":\"x\"},\"y\":{\"field\":\"y\"}},\"id\":\"c4cdee44-7219-4ff8-a436-b173f69d77cc\",\"type\":\"Line\"},{\"attributes\":{\"formatter\":{\"id\":\"4abe640d-8d15-4638-9251-ed6bcea83d83\",\"type\":\"BasicTickFormatter\"},\"plot\":{\"id\":\"303187bf-c20e-4abc-b3b7-22a7ff4567c6\",\"subtype\":\"Figure\",\"type\":\"Plot\"},\"ticker\":{\"id\":\"ee0a8f9b-c01e-4ca9-89c5-c49230a75e76\",\"type\":\"BasicTicker\"}},\"id\":\"ba6490fb-e8ca-48b9-82ed-4e2f9b407dcf\",\"type\":\"LinearAxis\"},{\"attributes\":{\"line_color\":{\"value\":\"red\"},\"x\":{\"field\":\"x\"},\"y\":{\"field\":\"y\"}},\"id\":\"b52bad2a-bfa2-4d67-a605-f521552685cd\",\"type\":\"Line\"},{\"attributes\":{\"below\":[{\"id\":\"948a397b-a10c-43b4-91a0-396dfab3b38b\",\"type\":\"LinearAxis\"}],\"left\":[{\"id\":\"94d10e04-12ec-465d-94b8-076b783f2c9e\",\"type\":\"LinearAxis\"}],\"renderers\":[{\"id\":\"948a397b-a10c-43b4-91a0-396dfab3b38b\",\"type\":\"LinearAxis\"},{\"id\":\"0a772063-80df-4998-b2c5-0b92803e4920\",\"type\":\"Grid\"},{\"id\":\"94d10e04-12ec-465d-94b8-076b783f2c9e\",\"type\":\"LinearAxis\"},{\"id\":\"e2df27f1-6b5c-42dc-a151-d705323d6ba9\",\"type\":\"Grid\"},{\"id\":\"277e4e8c-c83f-4525-99a1-765539b8d47c\",\"type\":\"BoxAnnotation\"},{\"id\":\"5a1279ad-0275-40f1-8ec1-f6d337fce130\",\"type\":\"Legend\"},{\"id\":\"d9260b9f-c145-4470-a540-2f84b24c1981\",\"type\":\"GlyphRenderer\"},{\"id\":\"103f6b5c-6c91-4d6e-8244-af1483ae48d5\",\"type\":\"GlyphRenderer\"}],\"title\":\"Learning Curve\",\"tool_events\":{\"id\":\"7a50d0fd-a279-4ebc-b431-e91de20fe547\",\"type\":\"ToolEvents\"},\"tools\":[{\"id\":\"98ce28e9-42e3-4b41-9965-ce2fbd6dcd17\",\"type\":\"PanTool\"},{\"id\":\"e9c64a40-ae02-43f6-ba79-f0490d43150d\",\"type\":\"WheelZoomTool\"},{\"id\":\"fe42c239-ade5-452b-9a03-19bef590272f\",\"type\":\"BoxZoomTool\"},{\"id\":\"839afb29-bfc3-4693-ab26-89f7c4ea4c18\",\"type\":\"PreviewSaveTool\"},{\"id\":\"d729c8d8-0b4b-4cc9-ba08-d74d57e891fe\",\"type\":\"ResizeTool\"},{\"id\":\"a11a3e3e-18f9-4930-8bf8-ea4bb987a991\",\"type\":\"ResetTool\"},{\"id\":\"8a7500c7-e0be-4501-80c8-25644615e5c1\",\"type\":\"HelpTool\"}],\"x_range\":{\"id\":\"3d6a6d4f-f05f-4e1c-9b13-4a9d925e6669\",\"type\":\"DataRange1d\"},\"y_range\":{\"id\":\"7cc7537b-d3e7-4f2e-8936-c20a7dea378e\",\"type\":\"Range1d\"}},\"id\":\"5f733d8b-98f8-4f96-b098-647b85b5b3a6\",\"subtype\":\"Figure\",\"type\":\"Plot\"},{\"attributes\":{\"plot\":{\"id\":\"ab333060-e88a-4912-a5e3-e80646297322\",\"subtype\":\"Figure\",\"type\":\"Plot\"}},\"id\":\"dd2fb70a-fe9d-44b8-bad2-6318a6123dfe\",\"type\":\"PanTool\"},{\"attributes\":{\"plot\":{\"id\":\"5f733d8b-98f8-4f96-b098-647b85b5b3a6\",\"subtype\":\"Figure\",\"type\":\"Plot\"}},\"id\":\"98ce28e9-42e3-4b41-9965-ce2fbd6dcd17\",\"type\":\"PanTool\"},{\"attributes\":{\"plot\":{\"id\":\"303187bf-c20e-4abc-b3b7-22a7ff4567c6\",\"subtype\":\"Figure\",\"type\":\"Plot\"}},\"id\":\"4d970c2d-0b98-4861-b977-95c7d8bee81f\",\"type\":\"ResizeTool\"},{\"attributes\":{\"callback\":null,\"column_names\":[\"y\",\"x\"],\"data\":{\"x\":[345,460,575,691,806,921,1036,1151,1266,1382],\"y\":[0.7766232020432854,0.8078505175426803,0.8217334319128915,0.814803737061433,0.8709302325581396,0.8836772415647264,0.8975567952681812,0.9409665277591074,0.9838049469014652,0.9959537572254336]}},\"id\":\"eed03124-a398-4531-b217-4e1f53ffb6e7\",\"type\":\"ColumnDataSource\"},{\"attributes\":{\"callback\":null,\"column_names\":[\"y\",\"x\"],\"data\":{\"x\":[345,460,575,691,806,921,1036,1151,1266,1382],\"y\":[1.0,1.0,1.0,1.0,1.0,1.0,1.0,1.0,1.0,1.0]}},\"id\":\"7ff0a8cd-6bad-4ef7-924c-b0c123f91be2\",\"type\":\"ColumnDataSource\"},{\"attributes\":{},\"id\":\"15d214d2-44a3-467e-af6a-f4d72339d25e\",\"type\":\"BasicTickFormatter\"},{\"attributes\":{\"plot\":{\"id\":\"5f733d8b-98f8-4f96-b098-647b85b5b3a6\",\"subtype\":\"Figure\",\"type\":\"Plot\"}},\"id\":\"a11a3e3e-18f9-4930-8bf8-ea4bb987a991\",\"type\":\"ResetTool\"},{\"attributes\":{\"plot\":{\"id\":\"ab333060-e88a-4912-a5e3-e80646297322\",\"subtype\":\"Figure\",\"type\":\"Plot\"}},\"id\":\"fce53015-7ba8-4337-ad05-d7c9c1b52bf9\",\"type\":\"WheelZoomTool\"},{\"attributes\":{\"plot\":{\"id\":\"303187bf-c20e-4abc-b3b7-22a7ff4567c6\",\"subtype\":\"Figure\",\"type\":\"Plot\"}},\"id\":\"8cea71d7-38ac-41cf-bec7-16cbada56a9f\",\"type\":\"HelpTool\"},{\"attributes\":{\"plot\":{\"id\":\"ab333060-e88a-4912-a5e3-e80646297322\",\"subtype\":\"Figure\",\"type\":\"Plot\"}},\"id\":\"f7cb52b1-79c3-4528-ad88-796aed7ea17c\",\"type\":\"HelpTool\"},{\"attributes\":{},\"id\":\"44fb72ca-7452-4c50-9149-96726ef2a711\",\"type\":\"BasicTicker\"},{\"attributes\":{\"plot\":{\"id\":\"303187bf-c20e-4abc-b3b7-22a7ff4567c6\",\"subtype\":\"Figure\",\"type\":\"Plot\"},\"ticker\":{\"id\":\"ee0a8f9b-c01e-4ca9-89c5-c49230a75e76\",\"type\":\"BasicTicker\"}},\"id\":\"bf2b6bc2-14b0-4288-ad71-64dfef99d15b\",\"type\":\"Grid\"},{\"attributes\":{\"plot\":{\"id\":\"ab333060-e88a-4912-a5e3-e80646297322\",\"subtype\":\"Figure\",\"type\":\"Plot\"},\"ticker\":{\"id\":\"00996f71-af61-4506-9d4a-497723ec997a\",\"type\":\"BasicTicker\"}},\"id\":\"5058e1ec-0e02-4ef6-852e-716ca2c0affb\",\"type\":\"Grid\"},{\"attributes\":{},\"id\":\"7ebb932f-f864-4163-ac5b-679152971f53\",\"type\":\"BasicTickFormatter\"},{\"attributes\":{\"bottom_units\":\"screen\",\"fill_alpha\":{\"value\":0.5},\"fill_color\":{\"value\":\"lightgrey\"},\"left_units\":\"screen\",\"level\":\"overlay\",\"line_alpha\":{\"value\":1.0},\"line_color\":{\"value\":\"black\"},\"line_dash\":[4,4],\"line_width\":{\"value\":2},\"plot\":null,\"render_mode\":\"css\",\"right_units\":\"screen\",\"top_units\":\"screen\"},\"id\":\"277e4e8c-c83f-4525-99a1-765539b8d47c\",\"type\":\"BoxAnnotation\"},{\"attributes\":{\"formatter\":{\"id\":\"c22a7cc7-6855-495f-ba4a-f1fc4df075fc\",\"type\":\"BasicTickFormatter\"},\"plot\":{\"id\":\"ab333060-e88a-4912-a5e3-e80646297322\",\"subtype\":\"Figure\",\"type\":\"Plot\"},\"ticker\":{\"id\":\"44fb72ca-7452-4c50-9149-96726ef2a711\",\"type\":\"BasicTicker\"}},\"id\":\"cbaabf00-e664-4967-b282-9142884b6a21\",\"type\":\"LinearAxis\"},{\"attributes\":{},\"id\":\"81a9fe45-dac5-4566-a425-c804eaaebf9f\",\"type\":\"ToolEvents\"},{\"attributes\":{\"plot\":{\"id\":\"5f733d8b-98f8-4f96-b098-647b85b5b3a6\",\"subtype\":\"Figure\",\"type\":\"Plot\"}},\"id\":\"e9c64a40-ae02-43f6-ba79-f0490d43150d\",\"type\":\"WheelZoomTool\"},{\"attributes\":{\"callback\":null},\"id\":\"0a22f499-d3ce-4c66-97e1-444569567444\",\"type\":\"DataRange1d\"},{\"attributes\":{\"plot\":{\"id\":\"5f733d8b-98f8-4f96-b098-647b85b5b3a6\",\"subtype\":\"Figure\",\"type\":\"Plot\"}},\"id\":\"d729c8d8-0b4b-4cc9-ba08-d74d57e891fe\",\"type\":\"ResizeTool\"},{\"attributes\":{\"line_alpha\":{\"value\":0.1},\"line_color\":{\"value\":\"#1f77b4\"},\"x\":{\"field\":\"x\"},\"y\":{\"field\":\"y\"}},\"id\":\"b37a8416-cbe0-41df-a8d6-7fc4ee2cc43d\",\"type\":\"Line\"},{\"attributes\":{\"plot\":{\"id\":\"ab333060-e88a-4912-a5e3-e80646297322\",\"subtype\":\"Figure\",\"type\":\"Plot\"}},\"id\":\"9e569921-21eb-4db3-97b0-b7dd8dfd825a\",\"type\":\"ResizeTool\"},{\"attributes\":{\"data_source\":{\"id\":\"eed03124-a398-4531-b217-4e1f53ffb6e7\",\"type\":\"ColumnDataSource\"},\"glyph\":{\"id\":\"6755fb6f-19a9-44cd-b70a-c14cd0bbcc4a\",\"type\":\"Line\"},\"hover_glyph\":null,\"nonselection_glyph\":{\"id\":\"1a83c463-1ee0-4075-be47-e88ff69da37e\",\"type\":\"Line\"},\"selection_glyph\":null},\"id\":\"103f6b5c-6c91-4d6e-8244-af1483ae48d5\",\"type\":\"GlyphRenderer\"},{\"attributes\":{},\"id\":\"4abe640d-8d15-4638-9251-ed6bcea83d83\",\"type\":\"BasicTickFormatter\"},{\"attributes\":{\"callback\":null,\"column_names\":[\"y\",\"x\"],\"data\":{\"x\":[54,109,163,218,273,327,382,436,491,546],\"y\":[0.9703703703703704,0.98348623853211,0.9803680981595093,0.9706422018348624,0.9663003663003662,0.9669724770642201,0.968062827225131,0.9701834862385322,0.9739307535641547,0.9758241758241757]}},\"id\":\"1dd15741-c57f-4fe5-9f00-75bbcc8878c3\",\"type\":\"ColumnDataSource\"},{\"attributes\":{},\"id\":\"c22a7cc7-6855-495f-ba4a-f1fc4df075fc\",\"type\":\"BasicTickFormatter\"},{\"attributes\":{\"callback\":null,\"start\":0.9},\"id\":\"c69c060e-53b6-425d-b2e6-954e6c864958\",\"type\":\"Range1d\"},{\"attributes\":{\"data_source\":{\"id\":\"270222c3-b88a-4204-ac0e-5434d0f8c7bc\",\"type\":\"ColumnDataSource\"},\"glyph\":{\"id\":\"d839e065-5fc8-4e64-8c3d-993e3800644f\",\"type\":\"Line\"},\"hover_glyph\":null,\"nonselection_glyph\":{\"id\":\"be5c5dac-4d9b-44c1-8424-9d1ae67cf735\",\"type\":\"Line\"},\"selection_glyph\":null},\"id\":\"8b82a840-9bf9-4671-b2bf-f4b897523e83\",\"type\":\"GlyphRenderer\"},{\"attributes\":{\"line_alpha\":{\"value\":0.1},\"line_color\":{\"value\":\"#1f77b4\"},\"x\":{\"field\":\"x\"},\"y\":{\"field\":\"y\"}},\"id\":\"be5c5dac-4d9b-44c1-8424-9d1ae67cf735\",\"type\":\"Line\"},{\"attributes\":{\"dimension\":1,\"plot\":{\"id\":\"ab333060-e88a-4912-a5e3-e80646297322\",\"subtype\":\"Figure\",\"type\":\"Plot\"},\"ticker\":{\"id\":\"44fb72ca-7452-4c50-9149-96726ef2a711\",\"type\":\"BasicTicker\"}},\"id\":\"2c75e4c7-4595-4b2f-8c20-e9ff8905a1d7\",\"type\":\"Grid\"},{\"attributes\":{\"formatter\":{\"id\":\"51386535-a8bc-408c-84fc-b49124e4f113\",\"type\":\"BasicTickFormatter\"},\"plot\":{\"id\":\"5f733d8b-98f8-4f96-b098-647b85b5b3a6\",\"subtype\":\"Figure\",\"type\":\"Plot\"},\"ticker\":{\"id\":\"dfcc7892-97b8-4d77-aad3-c4cfc8e74f8a\",\"type\":\"BasicTicker\"}},\"id\":\"94d10e04-12ec-465d-94b8-076b783f2c9e\",\"type\":\"LinearAxis\"},{\"attributes\":{\"callback\":null,\"start\":0.7},\"id\":\"9610fbf8-ac17-400e-96af-522c03cb82cf\",\"type\":\"Range1d\"},{\"attributes\":{\"line_color\":{\"value\":\"blue\"},\"x\":{\"field\":\"x\"},\"y\":{\"field\":\"y\"}},\"id\":\"6755fb6f-19a9-44cd-b70a-c14cd0bbcc4a\",\"type\":\"Line\"},{\"attributes\":{\"legends\":[[\"Train Scores\",[{\"id\":\"20be5bc6-316e-4fc5-b3c4-ef2018730f2b\",\"type\":\"GlyphRenderer\"}]],[\"Test Scores\",[{\"id\":\"7e7d1297-81fc-409e-84e7-fa403f71a737\",\"type\":\"GlyphRenderer\"}]]],\"plot\":{\"id\":\"303187bf-c20e-4abc-b3b7-22a7ff4567c6\",\"subtype\":\"Figure\",\"type\":\"Plot\"}},\"id\":\"3ae3e49d-7729-47ac-805e-0f2b193b2300\",\"type\":\"Legend\"},{\"attributes\":{\"line_alpha\":{\"value\":0.1},\"line_color\":{\"value\":\"#1f77b4\"},\"x\":{\"field\":\"x\"},\"y\":{\"field\":\"y\"}},\"id\":\"1a83c463-1ee0-4075-be47-e88ff69da37e\",\"type\":\"Line\"},{\"attributes\":{},\"id\":\"4e3ae2b5-5ddb-4702-997d-56d8219b8519\",\"type\":\"BasicTicker\"},{\"attributes\":{\"plot\":{\"id\":\"303187bf-c20e-4abc-b3b7-22a7ff4567c6\",\"subtype\":\"Figure\",\"type\":\"Plot\"}},\"id\":\"5e916577-231e-44f9-a429-4810c2ef7f9f\",\"type\":\"PreviewSaveTool\"},{\"attributes\":{\"plot\":{\"id\":\"5f733d8b-98f8-4f96-b098-647b85b5b3a6\",\"subtype\":\"Figure\",\"type\":\"Plot\"}},\"id\":\"839afb29-bfc3-4693-ab26-89f7c4ea4c18\",\"type\":\"PreviewSaveTool\"},{\"attributes\":{\"callback\":null,\"column_names\":[\"y\",\"x\"],\"data\":{\"x\":[1472,2024,2576,3128,3680],\"y\":[0.9929347826086957,0.9294466403162056,0.9272515527950309,0.9303708439897698,0.9206521739130435]}},\"id\":\"b445d560-de55-479d-a24e-434624f3e4ea\",\"type\":\"ColumnDataSource\"},{\"attributes\":{\"line_alpha\":{\"value\":0.1},\"line_color\":{\"value\":\"#1f77b4\"},\"x\":{\"field\":\"x\"},\"y\":{\"field\":\"y\"}},\"id\":\"a2bf336a-db72-4663-9d04-d559513aff30\",\"type\":\"Line\"},{\"attributes\":{},\"id\":\"8cad695d-f111-4bd6-8b3b-dafdd0eccf2a\",\"type\":\"ToolEvents\"},{\"attributes\":{\"dimension\":1,\"plot\":{\"id\":\"303187bf-c20e-4abc-b3b7-22a7ff4567c6\",\"subtype\":\"Figure\",\"type\":\"Plot\"},\"ticker\":{\"id\":\"f0aad92f-b9ae-4225-88e5-2b8ff9defbfa\",\"type\":\"BasicTicker\"}},\"id\":\"ace077d4-4273-4397-8384-4e70d9a88e7e\",\"type\":\"Grid\"},{\"attributes\":{\"overlay\":{\"id\":\"277e4e8c-c83f-4525-99a1-765539b8d47c\",\"type\":\"BoxAnnotation\"},\"plot\":{\"id\":\"5f733d8b-98f8-4f96-b098-647b85b5b3a6\",\"subtype\":\"Figure\",\"type\":\"Plot\"}},\"id\":\"fe42c239-ade5-452b-9a03-19bef590272f\",\"type\":\"BoxZoomTool\"},{\"attributes\":{},\"id\":\"ee0a8f9b-c01e-4ca9-89c5-c49230a75e76\",\"type\":\"BasicTicker\"},{\"attributes\":{\"plot\":{\"id\":\"5f733d8b-98f8-4f96-b098-647b85b5b3a6\",\"subtype\":\"Figure\",\"type\":\"Plot\"}},\"id\":\"8a7500c7-e0be-4501-80c8-25644615e5c1\",\"type\":\"HelpTool\"},{\"attributes\":{\"line_color\":{\"value\":\"red\"},\"x\":{\"field\":\"x\"},\"y\":{\"field\":\"y\"}},\"id\":\"7320e05c-a056-40d8-b03d-2eac51b51836\",\"type\":\"Line\"},{\"attributes\":{\"callback\":null,\"column_names\":[\"y\",\"x\"],\"data\":{\"x\":[1472,2024,2576,3128,3680],\"y\":[0.4792479669753863,0.8570073924945565,0.8904691522556145,0.8993758262946908,0.9111111898761696]}},\"id\":\"475a65f2-1da3-4d53-b7e6-ba798b5ebd2b\",\"type\":\"ColumnDataSource\"},{\"attributes\":{\"callback\":null,\"end\":1.1,\"start\":0.7},\"id\":\"7cc7537b-d3e7-4f2e-8936-c20a7dea378e\",\"type\":\"Range1d\"},{\"attributes\":{\"overlay\":{\"id\":\"f81f0747-66fe-4fcf-bdb7-9d1c8b0cf580\",\"type\":\"BoxAnnotation\"},\"plot\":{\"id\":\"303187bf-c20e-4abc-b3b7-22a7ff4567c6\",\"subtype\":\"Figure\",\"type\":\"Plot\"}},\"id\":\"3d599914-ded1-4f48-92d4-cfcff96d4fd8\",\"type\":\"BoxZoomTool\"},{\"attributes\":{\"formatter\":{\"id\":\"7ebb932f-f864-4163-ac5b-679152971f53\",\"type\":\"BasicTickFormatter\"},\"plot\":{\"id\":\"303187bf-c20e-4abc-b3b7-22a7ff4567c6\",\"subtype\":\"Figure\",\"type\":\"Plot\"},\"ticker\":{\"id\":\"f0aad92f-b9ae-4225-88e5-2b8ff9defbfa\",\"type\":\"BasicTicker\"}},\"id\":\"94f1e8b9-3231-4e44-b66a-26f37e327ff1\",\"type\":\"LinearAxis\"},{\"attributes\":{\"below\":[{\"id\":\"ba6490fb-e8ca-48b9-82ed-4e2f9b407dcf\",\"type\":\"LinearAxis\"}],\"left\":[{\"id\":\"94f1e8b9-3231-4e44-b66a-26f37e327ff1\",\"type\":\"LinearAxis\"}],\"renderers\":[{\"id\":\"ba6490fb-e8ca-48b9-82ed-4e2f9b407dcf\",\"type\":\"LinearAxis\"},{\"id\":\"bf2b6bc2-14b0-4288-ad71-64dfef99d15b\",\"type\":\"Grid\"},{\"id\":\"94f1e8b9-3231-4e44-b66a-26f37e327ff1\",\"type\":\"LinearAxis\"},{\"id\":\"ace077d4-4273-4397-8384-4e70d9a88e7e\",\"type\":\"Grid\"},{\"id\":\"f81f0747-66fe-4fcf-bdb7-9d1c8b0cf580\",\"type\":\"BoxAnnotation\"},{\"id\":\"3ae3e49d-7729-47ac-805e-0f2b193b2300\",\"type\":\"Legend\"},{\"id\":\"20be5bc6-316e-4fc5-b3c4-ef2018730f2b\",\"type\":\"GlyphRenderer\"},{\"id\":\"7e7d1297-81fc-409e-84e7-fa403f71a737\",\"type\":\"GlyphRenderer\"}],\"title\":\"Learning Curve\",\"tool_events\":{\"id\":\"8cad695d-f111-4bd6-8b3b-dafdd0eccf2a\",\"type\":\"ToolEvents\"},\"tools\":[{\"id\":\"e8e380f7-db64-4938-978a-239035bc7a71\",\"type\":\"PanTool\"},{\"id\":\"10e7950b-d482-4254-bdfa-1d518fa5e681\",\"type\":\"WheelZoomTool\"},{\"id\":\"3d599914-ded1-4f48-92d4-cfcff96d4fd8\",\"type\":\"BoxZoomTool\"},{\"id\":\"5e916577-231e-44f9-a429-4810c2ef7f9f\",\"type\":\"PreviewSaveTool\"},{\"id\":\"4d970c2d-0b98-4861-b977-95c7d8bee81f\",\"type\":\"ResizeTool\"},{\"id\":\"d7fd8f57-1ce3-497a-9be3-d00809adc894\",\"type\":\"ResetTool\"},{\"id\":\"8cea71d7-38ac-41cf-bec7-16cbada56a9f\",\"type\":\"HelpTool\"}],\"x_range\":{\"id\":\"0a22f499-d3ce-4c66-97e1-444569567444\",\"type\":\"DataRange1d\"},\"y_range\":{\"id\":\"9610fbf8-ac17-400e-96af-522c03cb82cf\",\"type\":\"Range1d\"}},\"id\":\"303187bf-c20e-4abc-b3b7-22a7ff4567c6\",\"subtype\":\"Figure\",\"type\":\"Plot\"},{\"attributes\":{\"plot\":{\"id\":\"303187bf-c20e-4abc-b3b7-22a7ff4567c6\",\"subtype\":\"Figure\",\"type\":\"Plot\"}},\"id\":\"e8e380f7-db64-4938-978a-239035bc7a71\",\"type\":\"PanTool\"},{\"attributes\":{\"overlay\":{\"id\":\"3ab13fc6-95ca-446e-a698-2f6123b21e62\",\"type\":\"BoxAnnotation\"},\"plot\":{\"id\":\"ab333060-e88a-4912-a5e3-e80646297322\",\"subtype\":\"Figure\",\"type\":\"Plot\"}},\"id\":\"a84df100-80f1-4819-96df-0f9cb87a47a1\",\"type\":\"BoxZoomTool\"},{\"attributes\":{},\"id\":\"51386535-a8bc-408c-84fc-b49124e4f113\",\"type\":\"BasicTickFormatter\"},{\"attributes\":{\"plot\":{\"id\":\"5f733d8b-98f8-4f96-b098-647b85b5b3a6\",\"subtype\":\"Figure\",\"type\":\"Plot\"},\"ticker\":{\"id\":\"4e3ae2b5-5ddb-4702-997d-56d8219b8519\",\"type\":\"BasicTicker\"}},\"id\":\"0a772063-80df-4998-b2c5-0b92803e4920\",\"type\":\"Grid\"},{\"attributes\":{\"plot\":{\"id\":\"303187bf-c20e-4abc-b3b7-22a7ff4567c6\",\"subtype\":\"Figure\",\"type\":\"Plot\"}},\"id\":\"10e7950b-d482-4254-bdfa-1d518fa5e681\",\"type\":\"WheelZoomTool\"},{\"attributes\":{\"legends\":[[\"Train Scores\",[{\"id\":\"d9260b9f-c145-4470-a540-2f84b24c1981\",\"type\":\"GlyphRenderer\"}]],[\"Test Scores\",[{\"id\":\"103f6b5c-6c91-4d6e-8244-af1483ae48d5\",\"type\":\"GlyphRenderer\"}]]],\"plot\":{\"id\":\"5f733d8b-98f8-4f96-b098-647b85b5b3a6\",\"subtype\":\"Figure\",\"type\":\"Plot\"}},\"id\":\"5a1279ad-0275-40f1-8ec1-f6d337fce130\",\"type\":\"Legend\"},{\"attributes\":{\"data_source\":{\"id\":\"b445d560-de55-479d-a24e-434624f3e4ea\",\"type\":\"ColumnDataSource\"},\"glyph\":{\"id\":\"8f22e737-8521-4611-a880-1f3969d8e00e\",\"type\":\"Line\"},\"hover_glyph\":null,\"nonselection_glyph\":{\"id\":\"b37a8416-cbe0-41df-a8d6-7fc4ee2cc43d\",\"type\":\"Line\"},\"selection_glyph\":null},\"id\":\"20be5bc6-316e-4fc5-b3c4-ef2018730f2b\",\"type\":\"GlyphRenderer\"},{\"attributes\":{\"callback\":null},\"id\":\"9e53a4cd-619c-454c-8b41-3c3d803530d9\",\"type\":\"DataRange1d\"},{\"attributes\":{\"data_source\":{\"id\":\"1dd15741-c57f-4fe5-9f00-75bbcc8878c3\",\"type\":\"ColumnDataSource\"},\"glyph\":{\"id\":\"b52bad2a-bfa2-4d67-a605-f521552685cd\",\"type\":\"Line\"},\"hover_glyph\":null,\"nonselection_glyph\":{\"id\":\"32270afe-eae8-4cad-96d2-4ccd9571c042\",\"type\":\"Line\"},\"selection_glyph\":null},\"id\":\"acaac149-846b-454e-9ba0-f0d93208a017\",\"type\":\"GlyphRenderer\"},{\"attributes\":{},\"id\":\"7a50d0fd-a279-4ebc-b431-e91de20fe547\",\"type\":\"ToolEvents\"},{\"attributes\":{},\"id\":\"dfcc7892-97b8-4d77-aad3-c4cfc8e74f8a\",\"type\":\"BasicTicker\"},{\"attributes\":{\"formatter\":{\"id\":\"67cd4e80-370e-4d7f-814f-016714882e0e\",\"type\":\"BasicTickFormatter\"},\"plot\":{\"id\":\"ab333060-e88a-4912-a5e3-e80646297322\",\"subtype\":\"Figure\",\"type\":\"Plot\"},\"ticker\":{\"id\":\"00996f71-af61-4506-9d4a-497723ec997a\",\"type\":\"BasicTicker\"}},\"id\":\"0efaae6a-8cb4-41aa-ac15-2b5babcf76c8\",\"type\":\"LinearAxis\"},{\"attributes\":{\"plot\":{\"id\":\"303187bf-c20e-4abc-b3b7-22a7ff4567c6\",\"subtype\":\"Figure\",\"type\":\"Plot\"}},\"id\":\"d7fd8f57-1ce3-497a-9be3-d00809adc894\",\"type\":\"ResetTool\"},{\"attributes\":{\"legends\":[[\"Train Scores\",[{\"id\":\"acaac149-846b-454e-9ba0-f0d93208a017\",\"type\":\"GlyphRenderer\"}]],[\"Test Scores\",[{\"id\":\"8b82a840-9bf9-4671-b2bf-f4b897523e83\",\"type\":\"GlyphRenderer\"}]]],\"plot\":{\"id\":\"ab333060-e88a-4912-a5e3-e80646297322\",\"subtype\":\"Figure\",\"type\":\"Plot\"}},\"id\":\"ac6de56d-bca0-4217-a37b-f0774bb2adff\",\"type\":\"Legend\"},{\"attributes\":{\"data_source\":{\"id\":\"7ff0a8cd-6bad-4ef7-924c-b0c123f91be2\",\"type\":\"ColumnDataSource\"},\"glyph\":{\"id\":\"7320e05c-a056-40d8-b03d-2eac51b51836\",\"type\":\"Line\"},\"hover_glyph\":null,\"nonselection_glyph\":{\"id\":\"536e60a2-030c-4051-a701-496295d7336f\",\"type\":\"Line\"},\"selection_glyph\":null},\"id\":\"d9260b9f-c145-4470-a540-2f84b24c1981\",\"type\":\"GlyphRenderer\"},{\"attributes\":{},\"id\":\"67cd4e80-370e-4d7f-814f-016714882e0e\",\"type\":\"BasicTickFormatter\"},{\"attributes\":{\"line_alpha\":{\"value\":0.1},\"line_color\":{\"value\":\"#1f77b4\"},\"x\":{\"field\":\"x\"},\"y\":{\"field\":\"y\"}},\"id\":\"32270afe-eae8-4cad-96d2-4ccd9571c042\",\"type\":\"Line\"},{\"attributes\":{\"line_color\":{\"value\":\"blue\"},\"x\":{\"field\":\"x\"},\"y\":{\"field\":\"y\"}},\"id\":\"d839e065-5fc8-4e64-8c3d-993e3800644f\",\"type\":\"Line\"},{\"attributes\":{\"line_color\":{\"value\":\"red\"},\"x\":{\"field\":\"x\"},\"y\":{\"field\":\"y\"}},\"id\":\"8f22e737-8521-4611-a880-1f3969d8e00e\",\"type\":\"Line\"},{\"attributes\":{\"bottom_units\":\"screen\",\"fill_alpha\":{\"value\":0.5},\"fill_color\":{\"value\":\"lightgrey\"},\"left_units\":\"screen\",\"level\":\"overlay\",\"line_alpha\":{\"value\":1.0},\"line_color\":{\"value\":\"black\"},\"line_dash\":[4,4],\"line_width\":{\"value\":2},\"plot\":null,\"render_mode\":\"css\",\"right_units\":\"screen\",\"top_units\":\"screen\"},\"id\":\"3ab13fc6-95ca-446e-a698-2f6123b21e62\",\"type\":\"BoxAnnotation\"},{\"attributes\":{\"plot\":{\"id\":\"ab333060-e88a-4912-a5e3-e80646297322\",\"subtype\":\"Figure\",\"type\":\"Plot\"}},\"id\":\"678bd3b2-7af5-4b18-baeb-c359258032b9\",\"type\":\"PreviewSaveTool\"},{\"attributes\":{},\"id\":\"00996f71-af61-4506-9d4a-497723ec997a\",\"type\":\"BasicTicker\"},{\"attributes\":{\"dimension\":1,\"plot\":{\"id\":\"5f733d8b-98f8-4f96-b098-647b85b5b3a6\",\"subtype\":\"Figure\",\"type\":\"Plot\"},\"ticker\":{\"id\":\"dfcc7892-97b8-4d77-aad3-c4cfc8e74f8a\",\"type\":\"BasicTicker\"}},\"id\":\"e2df27f1-6b5c-42dc-a151-d705323d6ba9\",\"type\":\"Grid\"},{\"attributes\":{\"formatter\":{\"id\":\"15d214d2-44a3-467e-af6a-f4d72339d25e\",\"type\":\"BasicTickFormatter\"},\"plot\":{\"id\":\"5f733d8b-98f8-4f96-b098-647b85b5b3a6\",\"subtype\":\"Figure\",\"type\":\"Plot\"},\"ticker\":{\"id\":\"4e3ae2b5-5ddb-4702-997d-56d8219b8519\",\"type\":\"BasicTicker\"}},\"id\":\"948a397b-a10c-43b4-91a0-396dfab3b38b\",\"type\":\"LinearAxis\"}],\"root_ids\":[\"ab333060-e88a-4912-a5e3-e80646297322\",\"303187bf-c20e-4abc-b3b7-22a7ff4567c6\",\"5f733d8b-98f8-4f96-b098-647b85b5b3a6\"]},\"title\":\"Bokeh Application\",\"version\":\"0.11.1\"}};\n",
       "            var render_items = [{\"docid\":\"85bf9208-14d0-48ba-8d41-d0ae71c4b3a6\",\"elementid\":\"f605b018-6909-493e-99ea-b9fcf799a58a\",\"modelid\":\"5f733d8b-98f8-4f96-b098-647b85b5b3a6\",\"notebook_comms_target\":\"818eeaa5-e368-4cad-a512-4c48acacfb20\"}];\n",
       "            \n",
       "            Bokeh.embed.embed_items(docs_json, render_items);\n",
       "        });\n",
       "      },\n",
       "      function(Bokeh) {\n",
       "      }\n",
       "    ];\n",
       "  \n",
       "    function run_inline_js() {\n",
       "      for (var i = 0; i < inline_js.length; i++) {\n",
       "        inline_js[i](window.Bokeh);\n",
       "      }\n",
       "    }\n",
       "  \n",
       "    if (window._bokeh_is_loading === 0) {\n",
       "      console.log(\"Bokeh: BokehJS loaded, going straight to plotting\");\n",
       "      run_inline_js();\n",
       "    } else {\n",
       "      load_libs(js_urls, function() {\n",
       "        console.log(\"Bokeh: BokehJS plotting callback run at\", now());\n",
       "        run_inline_js();\n",
       "      });\n",
       "    }\n",
       "  }(this));\n",
       "</script>"
      ]
     },
     "metadata": {},
     "output_type": "display_data"
    }
   ],
   "source": [
    "do_learning_curve(best_model, X, y, sizes=np.linspace(0.25, 1.0, 10), y_range=(0.7,1.1))"
   ]
  },
  {
   "cell_type": "markdown",
   "metadata": {},
   "source": [
    "# Bonus\n",
    "Repeat steps 1.a - 1.e for the mushroom dataset. Notice that now features are categorical, not numerical. This dataset is quite large.\n",
    "\n",
    "- How does this change our modeling strategy?\n",
    "- Can we use feature selection to improve this?\n"
   ]
  },
  {
   "cell_type": "code",
   "execution_count": null,
   "metadata": {
    "collapsed": true
   },
   "outputs": [],
   "source": []
  }
 ],
 "metadata": {
  "kernelspec": {
   "display_name": "Python 2",
   "language": "python",
   "name": "python2"
  },
  "language_info": {
   "codemirror_mode": {
    "name": "ipython",
    "version": 2
   },
   "file_extension": ".py",
   "mimetype": "text/x-python",
   "name": "python",
   "nbconvert_exporter": "python",
   "pygments_lexer": "ipython2",
   "version": "2.7.12"
  }
 },
 "nbformat": 4,
 "nbformat_minor": 0
}

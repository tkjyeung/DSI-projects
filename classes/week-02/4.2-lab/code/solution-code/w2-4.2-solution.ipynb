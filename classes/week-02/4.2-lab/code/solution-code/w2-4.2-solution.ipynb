{
 "cells": [
  {
   "cell_type": "code",
   "execution_count": 1,
   "metadata": {
    "collapsed": false
   },
   "outputs": [],
   "source": [
    "import numpy as np\n",
    "from scipy import stats\n",
    "from scipy.stats import norm"
   ]
  },
  {
   "cell_type": "code",
   "execution_count": 2,
   "metadata": {
    "collapsed": false
   },
   "outputs": [],
   "source": [
    "# To generate a sequence of random variates, use the size keyword \n",
    "# argument:\n",
    "\n",
    "random = norm.rvs(size=3)"
   ]
  },
  {
   "cell_type": "code",
   "execution_count": 3,
   "metadata": {
    "collapsed": false
   },
   "outputs": [],
   "source": [
    "# In the example above, the specific stream of random numbers is not \n",
    "# reproducible across runs. To achieve reproducibility, you can \n",
    "# explicitly seed a global variable\n",
    "\n",
    "random = np.random.seed(1234)"
   ]
  },
  {
   "cell_type": "code",
   "execution_count": 4,
   "metadata": {
    "collapsed": false
   },
   "outputs": [
    {
     "data": {
      "text/plain": [
       "array([ 0.47143516, -1.19097569,  1.43270697, -0.3126519 , -0.72058873])"
      ]
     },
     "execution_count": 4,
     "metadata": {},
     "output_type": "execute_result"
    }
   ],
   "source": [
    "# Relying on a global state is not recommended though. A better way \n",
    "# is to use the random_state parameter which accepts an instance of \n",
    "# numpy.random.RandomState class, or an integer which is then used \n",
    "# to seed an internal\n",
    "# RandomState object:\n",
    "\n",
    "random = norm.rvs(size=5, random_state=1234)\n",
    "random"
   ]
  },
  {
   "cell_type": "code",
   "execution_count": 5,
   "metadata": {
    "collapsed": false
   },
   "outputs": [
    {
     "name": "stdout",
     "output_type": "stream",
     "text": [
      "Number of elements: 5\n",
      "Minimum: -1.190976 Maximum: 1.432707\n",
      "Mean: -0.064015\n",
      "Variance: 1.072458\n",
      "Skew : 0.447145\n",
      "Kurtosis: -1.124388\n"
     ]
    }
   ],
   "source": [
    "# The scipy.stats sub package has a 'describe' function that \n",
    "# will provide: number of elements, min, max, variance, skew, \n",
    "# and kurtosis. Let's take a look.\n",
    "\n",
    "n, min_max, mean, var, skew, kurt = stats.describe(random)\n",
    "print(\"Number of elements: {0:d}\".format(n))\n",
    "print(\"Minimum: {0:8.6f} Maximum: {1:8.6f}\".format(min_max[0], min_max[1]))\n",
    "print(\"Mean: {0:8.6f}\".format(mean))\n",
    "print(\"Variance: {0:8.6f}\".format(var))\n",
    "print(\"Skew : {0:8.6f}\".format(skew))\n",
    "print(\"Kurtosis: {0:8.6f}\".format(kurt))"
   ]
  },
  {
   "cell_type": "code",
   "execution_count": null,
   "metadata": {
    "collapsed": true
   },
   "outputs": [],
   "source": []
  }
 ],
 "metadata": {
  "kernelspec": {
   "display_name": "Python 2",
   "language": "python",
   "name": "python2"
  },
  "language_info": {
   "codemirror_mode": {
    "name": "ipython",
    "version": 2
   },
   "file_extension": ".py",
   "mimetype": "text/x-python",
   "name": "python",
   "nbconvert_exporter": "python",
   "pygments_lexer": "ipython2",
   "version": "2.7.11"
  }
 },
 "nbformat": 4,
 "nbformat_minor": 0
}

{
 "cells": [
  {
   "cell_type": "markdown",
   "metadata": {
    "slideshow": {
     "slide_type": "slide"
    }
   },
   "source": [
    "<img src=\"https://ga-dash.s3.amazonaws.com/production/assets/logo-9f88ae6c9c3871690e33280fcf557f33.png\" style=\"float: left; margin: 10px;\"> \n",
    "# Plotting with Pandas\n",
    "***\n",
    "Week 2 | Lesson 5.1"
   ]
  },
  {
   "cell_type": "markdown",
   "metadata": {
    "slideshow": {
     "slide_type": "subslide"
    }
   },
   "source": [
    "\n",
    "### LEARNING OBJECTIVES\n",
    "*After this lesson, you will be able to:*\n",
    "- Generate bar charts\n",
    "- Generate scatter plots\n",
    "- Generate time series plots\n"
   ]
  },
  {
   "cell_type": "markdown",
   "metadata": {
    "slideshow": {
     "slide_type": "subslide"
    }
   },
   "source": [
    "### LESSON GUIDE\n",
    "| TIMING  | TYPE  | TOPIC  |\n",
    "|:-:|---|---|\n",
    "| 5 min  | [Introduction](#introduction)   | Plotting with Pandas  |\n",
    "| 20 min  | [Demo / Guided Practice](#demo)  | bar plots  |\n",
    "| 20 min  | [Demo / Guided Practice](#demo)  | scatter plots  |\n",
    "| 20 min  | [Demo / Guided Practice](#demo)  | time series plots  |\n",
    "| 20 min  | [Independent Practice](#ind-practice)  |   |\n",
    "| 5 min  | [Conclusion](#conclusion)  |   |\n",
    "\n"
   ]
  },
  {
   "cell_type": "markdown",
   "metadata": {
    "slideshow": {
     "slide_type": "slide"
    }
   },
   "source": [
    "<a name=\"Plotting with Pandas\"></a>\n",
    "## Introduction: Plotting with Pandas (5 mins)\n",
    "\n",
    "As we already learned in Week 1, there are several ways to plot: \n",
    " - seaborn \n",
    " - plotly \n",
    " - matplotlib. \n",
    " \n",
    "Pandas provides a convenient way to access matplotlib's plot bindings via a method that is available on every single **DataFrame** object and **DataFrame Group** object.  When we load **seaborn**, many of its **matplotlib** equivelents are available via your dataframe object by adding a **.plot()** to call the plotting methods that are bound within Pandas plotting features.\n",
    " \n",
    "\n",
    "DataFrame.plot(x=None, y=None, kind='line', ax=None, subplots=False, sharex=None, \n",
    "sharey=False, layout=None, figsize=None, use_index=True, title=None, grid=None, \n",
    "legend=True, style=None, logx=False, logy=False, loglog=False, xticks=None, yticks=None, \n",
    "xlim=None, ylim=None, rot=None, fontsize=None, colormap=None, table=False, yerr=None, \n",
    "xerr=None, secondary_y=False, sort_columns=False, **kwds)\n",
    "\n",
    "[Pandas Documentation: df.plot()](http://pandas.pydata.org/pandas-docs/stable/generated/pandas.DataFrame.plot.html)"
   ]
  },
  {
   "cell_type": "markdown",
   "metadata": {
    "slideshow": {
     "slide_type": "subslide"
    }
   },
   "source": [
    "## Generally, Pandas .plot() method is:\n",
    "    \n",
    " -  Consistent\n",
    " -  Predictable\n",
    " -  Easy to remember common parameters\n",
    "    \n",
    "It's recommended that you learn to use .plot() to be able to navigate plotting features quickly, but use specfic libraries like **seaborn** when a higher level of visual customization is desired.  "
   ]
  },
  {
   "cell_type": "markdown",
   "metadata": {
    "slideshow": {
     "slide_type": "subslide"
    }
   },
   "source": [
    "## 5 Mins:  Have you been working with plotting outside lessons / labs?\n",
    "\n",
    "**Additionally:**\n",
    "\n",
    " - What is difficult about plotting?\n",
    " - Is there anything you thought would be harder than it was with plotting?\n"
   ]
  },
  {
   "cell_type": "markdown",
   "metadata": {
    "slideshow": {
     "slide_type": "subslide"
    }
   },
   "source": [
    "## Let's slice our data a few ways first.\n",
    "\n",
    "First, a more interesting dataset than random numbers."
   ]
  },
  {
   "cell_type": "code",
   "execution_count": 3,
   "metadata": {
    "collapsed": false,
    "slideshow": {
     "slide_type": "fragment"
    }
   },
   "outputs": [
    {
     "data": {
      "text/html": [
       "<div>\n",
       "<table border=\"1\" class=\"dataframe\">\n",
       "  <thead>\n",
       "    <tr style=\"text-align: right;\">\n",
       "      <th></th>\n",
       "      <th>account number</th>\n",
       "      <th>name</th>\n",
       "      <th>sku</th>\n",
       "      <th>category</th>\n",
       "      <th>quantity</th>\n",
       "      <th>unit price</th>\n",
       "      <th>ext price</th>\n",
       "      <th>date</th>\n",
       "    </tr>\n",
       "  </thead>\n",
       "  <tbody>\n",
       "    <tr>\n",
       "      <th>0</th>\n",
       "      <td>296809</td>\n",
       "      <td>Carroll PLC</td>\n",
       "      <td>QN-82852</td>\n",
       "      <td>Belt</td>\n",
       "      <td>13</td>\n",
       "      <td>44.48</td>\n",
       "      <td>578.24</td>\n",
       "      <td>2014-09-27 07:13:03</td>\n",
       "    </tr>\n",
       "    <tr>\n",
       "      <th>1</th>\n",
       "      <td>98022</td>\n",
       "      <td>Heidenreich-Bosco</td>\n",
       "      <td>MJ-21460</td>\n",
       "      <td>Shoes</td>\n",
       "      <td>19</td>\n",
       "      <td>53.62</td>\n",
       "      <td>1018.78</td>\n",
       "      <td>2014-07-29 02:10:44</td>\n",
       "    </tr>\n",
       "    <tr>\n",
       "      <th>2</th>\n",
       "      <td>563905</td>\n",
       "      <td>Kerluke, Reilly and Bechtelar</td>\n",
       "      <td>AS-93055</td>\n",
       "      <td>Shirt</td>\n",
       "      <td>12</td>\n",
       "      <td>24.16</td>\n",
       "      <td>289.92</td>\n",
       "      <td>2014-03-01 10:51:24</td>\n",
       "    </tr>\n",
       "    <tr>\n",
       "      <th>3</th>\n",
       "      <td>93356</td>\n",
       "      <td>Waters-Walker</td>\n",
       "      <td>AS-93055</td>\n",
       "      <td>Shirt</td>\n",
       "      <td>5</td>\n",
       "      <td>82.68</td>\n",
       "      <td>413.40</td>\n",
       "      <td>2013-11-17 20:41:11</td>\n",
       "    </tr>\n",
       "    <tr>\n",
       "      <th>4</th>\n",
       "      <td>659366</td>\n",
       "      <td>Waelchi-Fahey</td>\n",
       "      <td>AS-93055</td>\n",
       "      <td>Shirt</td>\n",
       "      <td>18</td>\n",
       "      <td>99.64</td>\n",
       "      <td>1793.52</td>\n",
       "      <td>2014-01-03 08:14:27</td>\n",
       "    </tr>\n",
       "  </tbody>\n",
       "</table>\n",
       "</div>"
      ],
      "text/plain": [
       "   account number                           name       sku category  quantity  \\\n",
       "0          296809                    Carroll PLC  QN-82852     Belt        13   \n",
       "1           98022              Heidenreich-Bosco  MJ-21460    Shoes        19   \n",
       "2          563905  Kerluke, Reilly and Bechtelar  AS-93055    Shirt        12   \n",
       "3           93356                  Waters-Walker  AS-93055    Shirt         5   \n",
       "4          659366                  Waelchi-Fahey  AS-93055    Shirt        18   \n",
       "\n",
       "   unit price  ext price                 date  \n",
       "0       44.48     578.24  2014-09-27 07:13:03  \n",
       "1       53.62    1018.78  2014-07-29 02:10:44  \n",
       "2       24.16     289.92  2014-03-01 10:51:24  \n",
       "3       82.68     413.40  2013-11-17 20:41:11  \n",
       "4       99.64    1793.52  2014-01-03 08:14:27  "
      ]
     },
     "execution_count": 3,
     "metadata": {},
     "output_type": "execute_result"
    }
   ],
   "source": [
    "import pandas as pd\n",
    "from matplotlib import pyplot as plt \n",
    "\n",
    "sales_df = pd.read_csv(\"http://pbpython.com/extras/sample-salesv2.csv\")\n",
    "sales_df.head()"
   ]
  },
  {
   "cell_type": "markdown",
   "metadata": {
    "slideshow": {
     "slide_type": "subslide"
    }
   },
   "source": [
    "We are going to slice our customer sales data by column to only **name, ext price, date**, then display the first 20 rows."
   ]
  },
  {
   "cell_type": "code",
   "execution_count": 5,
   "metadata": {
    "collapsed": false,
    "slideshow": {
     "slide_type": "fragment"
    }
   },
   "outputs": [
    {
     "data": {
      "text/html": [
       "<div>\n",
       "<table border=\"1\" class=\"dataframe\">\n",
       "  <thead>\n",
       "    <tr style=\"text-align: right;\">\n",
       "      <th></th>\n",
       "      <th>name</th>\n",
       "      <th>ext price</th>\n",
       "      <th>date</th>\n",
       "    </tr>\n",
       "  </thead>\n",
       "  <tbody>\n",
       "    <tr>\n",
       "      <th>0</th>\n",
       "      <td>Carroll PLC</td>\n",
       "      <td>578.24</td>\n",
       "      <td>2014-09-27 07:13:03</td>\n",
       "    </tr>\n",
       "    <tr>\n",
       "      <th>1</th>\n",
       "      <td>Heidenreich-Bosco</td>\n",
       "      <td>1018.78</td>\n",
       "      <td>2014-07-29 02:10:44</td>\n",
       "    </tr>\n",
       "    <tr>\n",
       "      <th>2</th>\n",
       "      <td>Kerluke, Reilly and Bechtelar</td>\n",
       "      <td>289.92</td>\n",
       "      <td>2014-03-01 10:51:24</td>\n",
       "    </tr>\n",
       "    <tr>\n",
       "      <th>3</th>\n",
       "      <td>Waters-Walker</td>\n",
       "      <td>413.40</td>\n",
       "      <td>2013-11-17 20:41:11</td>\n",
       "    </tr>\n",
       "    <tr>\n",
       "      <th>4</th>\n",
       "      <td>Waelchi-Fahey</td>\n",
       "      <td>1793.52</td>\n",
       "      <td>2014-01-03 08:14:27</td>\n",
       "    </tr>\n",
       "    <tr>\n",
       "      <th>5</th>\n",
       "      <td>Kerluke, Reilly and Bechtelar</td>\n",
       "      <td>897.94</td>\n",
       "      <td>2013-12-04 02:07:05</td>\n",
       "    </tr>\n",
       "    <tr>\n",
       "      <th>6</th>\n",
       "      <td>Cole-Eichmann</td>\n",
       "      <td>275.04</td>\n",
       "      <td>2014-04-09 16:15:03</td>\n",
       "    </tr>\n",
       "    <tr>\n",
       "      <th>7</th>\n",
       "      <td>Hegmann and Sons</td>\n",
       "      <td>551.46</td>\n",
       "      <td>2014-06-18 19:25:10</td>\n",
       "    </tr>\n",
       "    <tr>\n",
       "      <th>8</th>\n",
       "      <td>Senger, Upton and Breitenberg</td>\n",
       "      <td>649.23</td>\n",
       "      <td>2014-02-10 05:55:56</td>\n",
       "    </tr>\n",
       "    <tr>\n",
       "      <th>9</th>\n",
       "      <td>Kerluke, Reilly and Bechtelar</td>\n",
       "      <td>323.76</td>\n",
       "      <td>2014-05-20 00:21:28</td>\n",
       "    </tr>\n",
       "    <tr>\n",
       "      <th>10</th>\n",
       "      <td>Cole-Eichmann</td>\n",
       "      <td>1144.18</td>\n",
       "      <td>2014-03-10 06:23:31</td>\n",
       "    </tr>\n",
       "    <tr>\n",
       "      <th>11</th>\n",
       "      <td>Hegmann and Sons</td>\n",
       "      <td>78.72</td>\n",
       "      <td>2013-11-03 18:38:16</td>\n",
       "    </tr>\n",
       "    <tr>\n",
       "      <th>12</th>\n",
       "      <td>Kihn, McClure and Denesik</td>\n",
       "      <td>238.76</td>\n",
       "      <td>2014-01-11 21:48:28</td>\n",
       "    </tr>\n",
       "    <tr>\n",
       "      <th>13</th>\n",
       "      <td>Ernser, Cruickshank and Lind</td>\n",
       "      <td>1167.00</td>\n",
       "      <td>2014-09-19 13:20:00</td>\n",
       "    </tr>\n",
       "    <tr>\n",
       "      <th>14</th>\n",
       "      <td>Koelpin PLC</td>\n",
       "      <td>732.96</td>\n",
       "      <td>2014-08-12 08:05:27</td>\n",
       "    </tr>\n",
       "    <tr>\n",
       "      <th>15</th>\n",
       "      <td>Waters-Walker</td>\n",
       "      <td>959.94</td>\n",
       "      <td>2014-07-15 23:21:11</td>\n",
       "    </tr>\n",
       "    <tr>\n",
       "      <th>16</th>\n",
       "      <td>Kerluke, Reilly and Bechtelar</td>\n",
       "      <td>142.48</td>\n",
       "      <td>2014-10-05 23:38:16</td>\n",
       "    </tr>\n",
       "    <tr>\n",
       "      <th>17</th>\n",
       "      <td>Koelpin PLC</td>\n",
       "      <td>1669.91</td>\n",
       "      <td>2014-01-26 01:52:36</td>\n",
       "    </tr>\n",
       "    <tr>\n",
       "      <th>18</th>\n",
       "      <td>Kihn, McClure and Denesik</td>\n",
       "      <td>1042.80</td>\n",
       "      <td>2013-11-13 21:38:46</td>\n",
       "    </tr>\n",
       "    <tr>\n",
       "      <th>19</th>\n",
       "      <td>Carroll PLC</td>\n",
       "      <td>961.44</td>\n",
       "      <td>2014-05-24 16:03:28</td>\n",
       "    </tr>\n",
       "  </tbody>\n",
       "</table>\n",
       "</div>"
      ],
      "text/plain": [
       "                             name  ext price                 date\n",
       "0                     Carroll PLC     578.24  2014-09-27 07:13:03\n",
       "1               Heidenreich-Bosco    1018.78  2014-07-29 02:10:44\n",
       "2   Kerluke, Reilly and Bechtelar     289.92  2014-03-01 10:51:24\n",
       "3                   Waters-Walker     413.40  2013-11-17 20:41:11\n",
       "4                   Waelchi-Fahey    1793.52  2014-01-03 08:14:27\n",
       "5   Kerluke, Reilly and Bechtelar     897.94  2013-12-04 02:07:05\n",
       "6                   Cole-Eichmann     275.04  2014-04-09 16:15:03\n",
       "7                Hegmann and Sons     551.46  2014-06-18 19:25:10\n",
       "8   Senger, Upton and Breitenberg     649.23  2014-02-10 05:55:56\n",
       "9   Kerluke, Reilly and Bechtelar     323.76  2014-05-20 00:21:28\n",
       "10                  Cole-Eichmann    1144.18  2014-03-10 06:23:31\n",
       "11               Hegmann and Sons      78.72  2013-11-03 18:38:16\n",
       "12      Kihn, McClure and Denesik     238.76  2014-01-11 21:48:28\n",
       "13   Ernser, Cruickshank and Lind    1167.00  2014-09-19 13:20:00\n",
       "14                    Koelpin PLC     732.96  2014-08-12 08:05:27\n",
       "15                  Waters-Walker     959.94  2014-07-15 23:21:11\n",
       "16  Kerluke, Reilly and Bechtelar     142.48  2014-10-05 23:38:16\n",
       "17                    Koelpin PLC    1669.91  2014-01-26 01:52:36\n",
       "18      Kihn, McClure and Denesik    1042.80  2013-11-13 21:38:46\n",
       "19                    Carroll PLC     961.44  2014-05-24 16:03:28"
      ]
     },
     "execution_count": 5,
     "metadata": {},
     "output_type": "execute_result"
    }
   ],
   "source": [
    "# We are going to \n",
    "customers = sales_df[['name','ext price','date']]\n",
    "customers.head(20)"
   ]
  },
  {
   "cell_type": "code",
   "execution_count": 15,
   "metadata": {
    "collapsed": false,
    "slideshow": {
     "slide_type": "subslide"
    }
   },
   "outputs": [
    {
     "name": "stdout",
     "output_type": "stream",
     "text": [
      "Berge LLC (52, 3)\n",
      "Carroll PLC (57, 3)\n",
      "Cole-Eichmann (51, 3)\n",
      "Davis, Kshlerin and Reilly (41, 3)\n",
      "Ernser, Cruickshank and Lind (47, 3)\n",
      "Gorczany-Hahn (42, 3)\n",
      "Hamill-Hackett (44, 3)\n",
      "Hegmann and Sons (58, 3)\n",
      "Heidenreich-Bosco (40, 3)\n",
      "Huel-Haag (43, 3)\n",
      "Kerluke, Reilly and Bechtelar (52, 3)\n",
      "Kihn, McClure and Denesik (58, 3)\n",
      "Kilback-Gerlach (45, 3)\n",
      "Koelpin PLC (53, 3)\n",
      "Kunze Inc (54, 3)\n",
      "Kuphal, Zieme and Kub (52, 3)\n",
      "Senger, Upton and Breitenberg (59, 3)\n",
      "Volkman, Goyette and Lemke (48, 3)\n",
      "Waelchi-Fahey (54, 3)\n",
      "Waters-Walker (50, 3)\n"
     ]
    }
   ],
   "source": [
    "customer_groups = customers.groupby('name')\n",
    "\n",
    "for tuple_df in customer_groups:\n",
    "    name, df_group = tuple_df\n",
    "    print name, df_group.shape"
   ]
  },
  {
   "cell_type": "code",
   "execution_count": 16,
   "metadata": {
    "collapsed": false
   },
   "outputs": [
    {
     "data": {
      "text/html": [
       "<div>\n",
       "<table border=\"1\" class=\"dataframe\">\n",
       "  <thead>\n",
       "    <tr style=\"text-align: right;\">\n",
       "      <th></th>\n",
       "      <th>name</th>\n",
       "      <th>ext price</th>\n",
       "      <th>date</th>\n",
       "    </tr>\n",
       "  </thead>\n",
       "  <tbody>\n",
       "    <tr>\n",
       "      <th>3</th>\n",
       "      <td>Waters-Walker</td>\n",
       "      <td>413.40</td>\n",
       "      <td>2013-11-17 20:41:11</td>\n",
       "    </tr>\n",
       "    <tr>\n",
       "      <th>15</th>\n",
       "      <td>Waters-Walker</td>\n",
       "      <td>959.94</td>\n",
       "      <td>2014-07-15 23:21:11</td>\n",
       "    </tr>\n",
       "    <tr>\n",
       "      <th>37</th>\n",
       "      <td>Waters-Walker</td>\n",
       "      <td>1132.08</td>\n",
       "      <td>2014-09-04 13:39:04</td>\n",
       "    </tr>\n",
       "    <tr>\n",
       "      <th>104</th>\n",
       "      <td>Waters-Walker</td>\n",
       "      <td>200.40</td>\n",
       "      <td>2014-08-11 02:09:32</td>\n",
       "    </tr>\n",
       "    <tr>\n",
       "      <th>123</th>\n",
       "      <td>Waters-Walker</td>\n",
       "      <td>1465.06</td>\n",
       "      <td>2014-08-13 15:42:49</td>\n",
       "    </tr>\n",
       "    <tr>\n",
       "      <th>126</th>\n",
       "      <td>Waters-Walker</td>\n",
       "      <td>292.44</td>\n",
       "      <td>2014-08-21 19:29:11</td>\n",
       "    </tr>\n",
       "    <tr>\n",
       "      <th>130</th>\n",
       "      <td>Waters-Walker</td>\n",
       "      <td>342.88</td>\n",
       "      <td>2014-05-25 00:38:58</td>\n",
       "    </tr>\n",
       "    <tr>\n",
       "      <th>131</th>\n",
       "      <td>Waters-Walker</td>\n",
       "      <td>421.80</td>\n",
       "      <td>2013-12-23 04:50:54</td>\n",
       "    </tr>\n",
       "    <tr>\n",
       "      <th>139</th>\n",
       "      <td>Waters-Walker</td>\n",
       "      <td>172.34</td>\n",
       "      <td>2014-03-12 14:25:12</td>\n",
       "    </tr>\n",
       "    <tr>\n",
       "      <th>158</th>\n",
       "      <td>Waters-Walker</td>\n",
       "      <td>961.65</td>\n",
       "      <td>2013-10-23 08:28:53</td>\n",
       "    </tr>\n",
       "    <tr>\n",
       "      <th>167</th>\n",
       "      <td>Waters-Walker</td>\n",
       "      <td>1207.68</td>\n",
       "      <td>2014-08-23 04:04:11</td>\n",
       "    </tr>\n",
       "    <tr>\n",
       "      <th>241</th>\n",
       "      <td>Waters-Walker</td>\n",
       "      <td>178.83</td>\n",
       "      <td>2014-08-02 13:29:11</td>\n",
       "    </tr>\n",
       "    <tr>\n",
       "      <th>246</th>\n",
       "      <td>Waters-Walker</td>\n",
       "      <td>854.26</td>\n",
       "      <td>2014-03-15 17:01:26</td>\n",
       "    </tr>\n",
       "    <tr>\n",
       "      <th>254</th>\n",
       "      <td>Waters-Walker</td>\n",
       "      <td>150.32</td>\n",
       "      <td>2013-11-26 12:30:16</td>\n",
       "    </tr>\n",
       "    <tr>\n",
       "      <th>286</th>\n",
       "      <td>Waters-Walker</td>\n",
       "      <td>298.26</td>\n",
       "      <td>2014-01-27 11:30:33</td>\n",
       "    </tr>\n",
       "    <tr>\n",
       "      <th>289</th>\n",
       "      <td>Waters-Walker</td>\n",
       "      <td>863.94</td>\n",
       "      <td>2013-12-28 22:14:49</td>\n",
       "    </tr>\n",
       "    <tr>\n",
       "      <th>312</th>\n",
       "      <td>Waters-Walker</td>\n",
       "      <td>1151.52</td>\n",
       "      <td>2014-06-12 00:58:43</td>\n",
       "    </tr>\n",
       "    <tr>\n",
       "      <th>359</th>\n",
       "      <td>Waters-Walker</td>\n",
       "      <td>995.35</td>\n",
       "      <td>2014-05-04 23:02:26</td>\n",
       "    </tr>\n",
       "    <tr>\n",
       "      <th>398</th>\n",
       "      <td>Waters-Walker</td>\n",
       "      <td>274.80</td>\n",
       "      <td>2013-11-18 19:41:31</td>\n",
       "    </tr>\n",
       "    <tr>\n",
       "      <th>429</th>\n",
       "      <td>Waters-Walker</td>\n",
       "      <td>265.44</td>\n",
       "      <td>2014-09-07 02:26:24</td>\n",
       "    </tr>\n",
       "    <tr>\n",
       "      <th>432</th>\n",
       "      <td>Waters-Walker</td>\n",
       "      <td>597.61</td>\n",
       "      <td>2014-07-05 08:56:46</td>\n",
       "    </tr>\n",
       "    <tr>\n",
       "      <th>506</th>\n",
       "      <td>Waters-Walker</td>\n",
       "      <td>915.42</td>\n",
       "      <td>2014-01-03 19:04:02</td>\n",
       "    </tr>\n",
       "    <tr>\n",
       "      <th>531</th>\n",
       "      <td>Waters-Walker</td>\n",
       "      <td>903.07</td>\n",
       "      <td>2014-03-10 16:34:16</td>\n",
       "    </tr>\n",
       "    <tr>\n",
       "      <th>549</th>\n",
       "      <td>Waters-Walker</td>\n",
       "      <td>416.50</td>\n",
       "      <td>2014-04-29 12:04:58</td>\n",
       "    </tr>\n",
       "    <tr>\n",
       "      <th>564</th>\n",
       "      <td>Waters-Walker</td>\n",
       "      <td>683.93</td>\n",
       "      <td>2014-01-31 10:14:51</td>\n",
       "    </tr>\n",
       "    <tr>\n",
       "      <th>595</th>\n",
       "      <td>Waters-Walker</td>\n",
       "      <td>1013.27</td>\n",
       "      <td>2014-05-31 08:48:28</td>\n",
       "    </tr>\n",
       "    <tr>\n",
       "      <th>612</th>\n",
       "      <td>Waters-Walker</td>\n",
       "      <td>1247.80</td>\n",
       "      <td>2014-04-19 16:00:54</td>\n",
       "    </tr>\n",
       "    <tr>\n",
       "      <th>617</th>\n",
       "      <td>Waters-Walker</td>\n",
       "      <td>1212.44</td>\n",
       "      <td>2014-09-16 10:45:19</td>\n",
       "    </tr>\n",
       "    <tr>\n",
       "      <th>619</th>\n",
       "      <td>Waters-Walker</td>\n",
       "      <td>1812.03</td>\n",
       "      <td>2014-05-20 09:39:21</td>\n",
       "    </tr>\n",
       "    <tr>\n",
       "      <th>630</th>\n",
       "      <td>Waters-Walker</td>\n",
       "      <td>757.20</td>\n",
       "      <td>2014-01-31 09:09:36</td>\n",
       "    </tr>\n",
       "    <tr>\n",
       "      <th>633</th>\n",
       "      <td>Waters-Walker</td>\n",
       "      <td>590.46</td>\n",
       "      <td>2013-12-29 21:47:14</td>\n",
       "    </tr>\n",
       "    <tr>\n",
       "      <th>649</th>\n",
       "      <td>Waters-Walker</td>\n",
       "      <td>999.40</td>\n",
       "      <td>2014-04-28 20:35:33</td>\n",
       "    </tr>\n",
       "    <tr>\n",
       "      <th>671</th>\n",
       "      <td>Waters-Walker</td>\n",
       "      <td>796.92</td>\n",
       "      <td>2014-04-02 00:13:13</td>\n",
       "    </tr>\n",
       "    <tr>\n",
       "      <th>683</th>\n",
       "      <td>Waters-Walker</td>\n",
       "      <td>856.44</td>\n",
       "      <td>2013-12-03 07:38:11</td>\n",
       "    </tr>\n",
       "    <tr>\n",
       "      <th>736</th>\n",
       "      <td>Waters-Walker</td>\n",
       "      <td>494.23</td>\n",
       "      <td>2014-06-19 04:21:18</td>\n",
       "    </tr>\n",
       "    <tr>\n",
       "      <th>787</th>\n",
       "      <td>Waters-Walker</td>\n",
       "      <td>1370.09</td>\n",
       "      <td>2014-02-22 07:22:10</td>\n",
       "    </tr>\n",
       "    <tr>\n",
       "      <th>790</th>\n",
       "      <td>Waters-Walker</td>\n",
       "      <td>1058.85</td>\n",
       "      <td>2013-11-02 14:31:09</td>\n",
       "    </tr>\n",
       "    <tr>\n",
       "      <th>822</th>\n",
       "      <td>Waters-Walker</td>\n",
       "      <td>307.08</td>\n",
       "      <td>2014-07-31 17:50:40</td>\n",
       "    </tr>\n",
       "    <tr>\n",
       "      <th>825</th>\n",
       "      <td>Waters-Walker</td>\n",
       "      <td>401.39</td>\n",
       "      <td>2013-12-26 18:47:55</td>\n",
       "    </tr>\n",
       "    <tr>\n",
       "      <th>887</th>\n",
       "      <td>Waters-Walker</td>\n",
       "      <td>844.80</td>\n",
       "      <td>2014-02-23 18:36:40</td>\n",
       "    </tr>\n",
       "    <tr>\n",
       "      <th>906</th>\n",
       "      <td>Waters-Walker</td>\n",
       "      <td>637.29</td>\n",
       "      <td>2014-01-30 11:06:55</td>\n",
       "    </tr>\n",
       "    <tr>\n",
       "      <th>915</th>\n",
       "      <td>Waters-Walker</td>\n",
       "      <td>290.04</td>\n",
       "      <td>2014-10-07 11:12:45</td>\n",
       "    </tr>\n",
       "    <tr>\n",
       "      <th>916</th>\n",
       "      <td>Waters-Walker</td>\n",
       "      <td>76.61</td>\n",
       "      <td>2014-05-07 10:17:28</td>\n",
       "    </tr>\n",
       "    <tr>\n",
       "      <th>923</th>\n",
       "      <td>Waters-Walker</td>\n",
       "      <td>193.60</td>\n",
       "      <td>2014-07-13 09:44:29</td>\n",
       "    </tr>\n",
       "    <tr>\n",
       "      <th>948</th>\n",
       "      <td>Waters-Walker</td>\n",
       "      <td>95.48</td>\n",
       "      <td>2014-03-22 02:00:16</td>\n",
       "    </tr>\n",
       "    <tr>\n",
       "      <th>955</th>\n",
       "      <td>Waters-Walker</td>\n",
       "      <td>1263.45</td>\n",
       "      <td>2014-07-18 04:09:08</td>\n",
       "    </tr>\n",
       "    <tr>\n",
       "      <th>973</th>\n",
       "      <td>Waters-Walker</td>\n",
       "      <td>546.44</td>\n",
       "      <td>2013-12-19 19:43:07</td>\n",
       "    </tr>\n",
       "    <tr>\n",
       "      <th>986</th>\n",
       "      <td>Waters-Walker</td>\n",
       "      <td>1994.80</td>\n",
       "      <td>2014-04-18 15:39:12</td>\n",
       "    </tr>\n",
       "    <tr>\n",
       "      <th>990</th>\n",
       "      <td>Waters-Walker</td>\n",
       "      <td>617.58</td>\n",
       "      <td>2014-08-12 08:06:21</td>\n",
       "    </tr>\n",
       "    <tr>\n",
       "      <th>997</th>\n",
       "      <td>Waters-Walker</td>\n",
       "      <td>1182.35</td>\n",
       "      <td>2014-06-14 12:43:51</td>\n",
       "    </tr>\n",
       "  </tbody>\n",
       "</table>\n",
       "</div>"
      ],
      "text/plain": [
       "              name  ext price                 date\n",
       "3    Waters-Walker     413.40  2013-11-17 20:41:11\n",
       "15   Waters-Walker     959.94  2014-07-15 23:21:11\n",
       "37   Waters-Walker    1132.08  2014-09-04 13:39:04\n",
       "104  Waters-Walker     200.40  2014-08-11 02:09:32\n",
       "123  Waters-Walker    1465.06  2014-08-13 15:42:49\n",
       "126  Waters-Walker     292.44  2014-08-21 19:29:11\n",
       "130  Waters-Walker     342.88  2014-05-25 00:38:58\n",
       "131  Waters-Walker     421.80  2013-12-23 04:50:54\n",
       "139  Waters-Walker     172.34  2014-03-12 14:25:12\n",
       "158  Waters-Walker     961.65  2013-10-23 08:28:53\n",
       "167  Waters-Walker    1207.68  2014-08-23 04:04:11\n",
       "241  Waters-Walker     178.83  2014-08-02 13:29:11\n",
       "246  Waters-Walker     854.26  2014-03-15 17:01:26\n",
       "254  Waters-Walker     150.32  2013-11-26 12:30:16\n",
       "286  Waters-Walker     298.26  2014-01-27 11:30:33\n",
       "289  Waters-Walker     863.94  2013-12-28 22:14:49\n",
       "312  Waters-Walker    1151.52  2014-06-12 00:58:43\n",
       "359  Waters-Walker     995.35  2014-05-04 23:02:26\n",
       "398  Waters-Walker     274.80  2013-11-18 19:41:31\n",
       "429  Waters-Walker     265.44  2014-09-07 02:26:24\n",
       "432  Waters-Walker     597.61  2014-07-05 08:56:46\n",
       "506  Waters-Walker     915.42  2014-01-03 19:04:02\n",
       "531  Waters-Walker     903.07  2014-03-10 16:34:16\n",
       "549  Waters-Walker     416.50  2014-04-29 12:04:58\n",
       "564  Waters-Walker     683.93  2014-01-31 10:14:51\n",
       "595  Waters-Walker    1013.27  2014-05-31 08:48:28\n",
       "612  Waters-Walker    1247.80  2014-04-19 16:00:54\n",
       "617  Waters-Walker    1212.44  2014-09-16 10:45:19\n",
       "619  Waters-Walker    1812.03  2014-05-20 09:39:21\n",
       "630  Waters-Walker     757.20  2014-01-31 09:09:36\n",
       "633  Waters-Walker     590.46  2013-12-29 21:47:14\n",
       "649  Waters-Walker     999.40  2014-04-28 20:35:33\n",
       "671  Waters-Walker     796.92  2014-04-02 00:13:13\n",
       "683  Waters-Walker     856.44  2013-12-03 07:38:11\n",
       "736  Waters-Walker     494.23  2014-06-19 04:21:18\n",
       "787  Waters-Walker    1370.09  2014-02-22 07:22:10\n",
       "790  Waters-Walker    1058.85  2013-11-02 14:31:09\n",
       "822  Waters-Walker     307.08  2014-07-31 17:50:40\n",
       "825  Waters-Walker     401.39  2013-12-26 18:47:55\n",
       "887  Waters-Walker     844.80  2014-02-23 18:36:40\n",
       "906  Waters-Walker     637.29  2014-01-30 11:06:55\n",
       "915  Waters-Walker     290.04  2014-10-07 11:12:45\n",
       "916  Waters-Walker      76.61  2014-05-07 10:17:28\n",
       "923  Waters-Walker     193.60  2014-07-13 09:44:29\n",
       "948  Waters-Walker      95.48  2014-03-22 02:00:16\n",
       "955  Waters-Walker    1263.45  2014-07-18 04:09:08\n",
       "973  Waters-Walker     546.44  2013-12-19 19:43:07\n",
       "986  Waters-Walker    1994.80  2014-04-18 15:39:12\n",
       "990  Waters-Walker     617.58  2014-08-12 08:06:21\n",
       "997  Waters-Walker    1182.35  2014-06-14 12:43:51"
      ]
     },
     "execution_count": 16,
     "metadata": {},
     "output_type": "execute_result"
    }
   ],
   "source": [
    "customer_groups.get_group(\"Waters-Walker\")"
   ]
  },
  {
   "cell_type": "code",
   "execution_count": 26,
   "metadata": {
    "collapsed": false
   },
   "outputs": [
    {
     "data": {
      "text/plain": [
       "name\n",
       "Berge LLC                        30064.87\n",
       "Carroll PLC                      35934.31\n",
       "Cole-Eichmann                    30435.42\n",
       "Davis, Kshlerin and Reilly       19054.76\n",
       "Ernser, Cruickshank and Lind     28089.02\n",
       "Gorczany-Hahn                    22207.90\n",
       "Hamill-Hackett                   23433.78\n",
       "Hegmann and Sons                 35213.72\n",
       "Heidenreich-Bosco                25428.29\n",
       "Huel-Haag                        21087.88\n",
       "Kerluke, Reilly and Bechtelar    27389.43\n",
       "Kihn, McClure and Denesik        38935.29\n",
       "Kilback-Gerlach                  26987.20\n",
       "Koelpin PLC                      26811.66\n",
       "Kunze Inc                        34406.54\n",
       "Kuphal, Zieme and Kub            27031.86\n",
       "Senger, Upton and Breitenberg    29577.46\n",
       "Volkman, Goyette and Lemke       32006.87\n",
       "Waelchi-Fahey                    28968.68\n",
       "Waters-Walker                    36778.96\n",
       "Name: ext price, dtype: float64"
      ]
     },
     "execution_count": 26,
     "metadata": {},
     "output_type": "execute_result"
    }
   ],
   "source": [
    "customer_group['ext price'].sum()"
   ]
  },
  {
   "cell_type": "code",
   "execution_count": 27,
   "metadata": {
    "collapsed": false
   },
   "outputs": [
    {
     "data": {
      "text/html": [
       "<div>\n",
       "<table border=\"1\" class=\"dataframe\">\n",
       "  <thead>\n",
       "    <tr style=\"text-align: right;\">\n",
       "      <th></th>\n",
       "      <th>ext price</th>\n",
       "    </tr>\n",
       "    <tr>\n",
       "      <th>name</th>\n",
       "      <th></th>\n",
       "    </tr>\n",
       "  </thead>\n",
       "  <tbody>\n",
       "    <tr>\n",
       "      <th>Berge LLC</th>\n",
       "      <td>30064.87</td>\n",
       "    </tr>\n",
       "    <tr>\n",
       "      <th>Carroll PLC</th>\n",
       "      <td>35934.31</td>\n",
       "    </tr>\n",
       "    <tr>\n",
       "      <th>Cole-Eichmann</th>\n",
       "      <td>30435.42</td>\n",
       "    </tr>\n",
       "    <tr>\n",
       "      <th>Davis, Kshlerin and Reilly</th>\n",
       "      <td>19054.76</td>\n",
       "    </tr>\n",
       "    <tr>\n",
       "      <th>Ernser, Cruickshank and Lind</th>\n",
       "      <td>28089.02</td>\n",
       "    </tr>\n",
       "    <tr>\n",
       "      <th>Gorczany-Hahn</th>\n",
       "      <td>22207.90</td>\n",
       "    </tr>\n",
       "    <tr>\n",
       "      <th>Hamill-Hackett</th>\n",
       "      <td>23433.78</td>\n",
       "    </tr>\n",
       "    <tr>\n",
       "      <th>Hegmann and Sons</th>\n",
       "      <td>35213.72</td>\n",
       "    </tr>\n",
       "    <tr>\n",
       "      <th>Heidenreich-Bosco</th>\n",
       "      <td>25428.29</td>\n",
       "    </tr>\n",
       "    <tr>\n",
       "      <th>Huel-Haag</th>\n",
       "      <td>21087.88</td>\n",
       "    </tr>\n",
       "    <tr>\n",
       "      <th>Kerluke, Reilly and Bechtelar</th>\n",
       "      <td>27389.43</td>\n",
       "    </tr>\n",
       "    <tr>\n",
       "      <th>Kihn, McClure and Denesik</th>\n",
       "      <td>38935.29</td>\n",
       "    </tr>\n",
       "    <tr>\n",
       "      <th>Kilback-Gerlach</th>\n",
       "      <td>26987.20</td>\n",
       "    </tr>\n",
       "    <tr>\n",
       "      <th>Koelpin PLC</th>\n",
       "      <td>26811.66</td>\n",
       "    </tr>\n",
       "    <tr>\n",
       "      <th>Kunze Inc</th>\n",
       "      <td>34406.54</td>\n",
       "    </tr>\n",
       "    <tr>\n",
       "      <th>Kuphal, Zieme and Kub</th>\n",
       "      <td>27031.86</td>\n",
       "    </tr>\n",
       "    <tr>\n",
       "      <th>Senger, Upton and Breitenberg</th>\n",
       "      <td>29577.46</td>\n",
       "    </tr>\n",
       "    <tr>\n",
       "      <th>Volkman, Goyette and Lemke</th>\n",
       "      <td>32006.87</td>\n",
       "    </tr>\n",
       "    <tr>\n",
       "      <th>Waelchi-Fahey</th>\n",
       "      <td>28968.68</td>\n",
       "    </tr>\n",
       "    <tr>\n",
       "      <th>Waters-Walker</th>\n",
       "      <td>36778.96</td>\n",
       "    </tr>\n",
       "  </tbody>\n",
       "</table>\n",
       "</div>"
      ],
      "text/plain": [
       "                               ext price\n",
       "name                                    \n",
       "Berge LLC                       30064.87\n",
       "Carroll PLC                     35934.31\n",
       "Cole-Eichmann                   30435.42\n",
       "Davis, Kshlerin and Reilly      19054.76\n",
       "Ernser, Cruickshank and Lind    28089.02\n",
       "Gorczany-Hahn                   22207.90\n",
       "Hamill-Hackett                  23433.78\n",
       "Hegmann and Sons                35213.72\n",
       "Heidenreich-Bosco               25428.29\n",
       "Huel-Haag                       21087.88\n",
       "Kerluke, Reilly and Bechtelar   27389.43\n",
       "Kihn, McClure and Denesik       38935.29\n",
       "Kilback-Gerlach                 26987.20\n",
       "Koelpin PLC                     26811.66\n",
       "Kunze Inc                       34406.54\n",
       "Kuphal, Zieme and Kub           27031.86\n",
       "Senger, Upton and Breitenberg   29577.46\n",
       "Volkman, Goyette and Lemke      32006.87\n",
       "Waelchi-Fahey                   28968.68\n",
       "Waters-Walker                   36778.96"
      ]
     },
     "execution_count": 27,
     "metadata": {},
     "output_type": "execute_result"
    }
   ],
   "source": [
    "customer_group.sum()[[\"ext price\"]]"
   ]
  },
  {
   "cell_type": "code",
   "execution_count": 28,
   "metadata": {
    "collapsed": false
   },
   "outputs": [
    {
     "data": {
      "text/plain": [
       "name\n",
       "Davis, Kshlerin and Reilly       19054.76\n",
       "Huel-Haag                        21087.88\n",
       "Gorczany-Hahn                    22207.90\n",
       "Hamill-Hackett                   23433.78\n",
       "Heidenreich-Bosco                25428.29\n",
       "Koelpin PLC                      26811.66\n",
       "Kilback-Gerlach                  26987.20\n",
       "Kuphal, Zieme and Kub            27031.86\n",
       "Kerluke, Reilly and Bechtelar    27389.43\n",
       "Ernser, Cruickshank and Lind     28089.02\n",
       "Waelchi-Fahey                    28968.68\n",
       "Senger, Upton and Breitenberg    29577.46\n",
       "Berge LLC                        30064.87\n",
       "Cole-Eichmann                    30435.42\n",
       "Volkman, Goyette and Lemke       32006.87\n",
       "Kunze Inc                        34406.54\n",
       "Hegmann and Sons                 35213.72\n",
       "Carroll PLC                      35934.31\n",
       "Waters-Walker                    36778.96\n",
       "Kihn, McClure and Denesik        38935.29\n",
       "Name: ext price, dtype: float64"
      ]
     },
     "execution_count": 28,
     "metadata": {},
     "output_type": "execute_result"
    }
   ],
   "source": [
    "customer_group['ext price'].sum().sort_values()"
   ]
  },
  {
   "cell_type": "code",
   "execution_count": 29,
   "metadata": {
    "collapsed": false,
    "slideshow": {
     "slide_type": "subslide"
    }
   },
   "outputs": [
    {
     "data": {
      "text/html": [
       "<div>\n",
       "<table border=\"1\" class=\"dataframe\">\n",
       "  <thead>\n",
       "    <tr style=\"text-align: right;\">\n",
       "      <th></th>\n",
       "      <th>ext price</th>\n",
       "    </tr>\n",
       "    <tr>\n",
       "      <th>name</th>\n",
       "      <th></th>\n",
       "    </tr>\n",
       "  </thead>\n",
       "  <tbody>\n",
       "    <tr>\n",
       "      <th>Davis, Kshlerin and Reilly</th>\n",
       "      <td>19054.76</td>\n",
       "    </tr>\n",
       "    <tr>\n",
       "      <th>Huel-Haag</th>\n",
       "      <td>21087.88</td>\n",
       "    </tr>\n",
       "    <tr>\n",
       "      <th>Gorczany-Hahn</th>\n",
       "      <td>22207.90</td>\n",
       "    </tr>\n",
       "    <tr>\n",
       "      <th>Hamill-Hackett</th>\n",
       "      <td>23433.78</td>\n",
       "    </tr>\n",
       "    <tr>\n",
       "      <th>Heidenreich-Bosco</th>\n",
       "      <td>25428.29</td>\n",
       "    </tr>\n",
       "    <tr>\n",
       "      <th>Koelpin PLC</th>\n",
       "      <td>26811.66</td>\n",
       "    </tr>\n",
       "    <tr>\n",
       "      <th>Kilback-Gerlach</th>\n",
       "      <td>26987.20</td>\n",
       "    </tr>\n",
       "    <tr>\n",
       "      <th>Kuphal, Zieme and Kub</th>\n",
       "      <td>27031.86</td>\n",
       "    </tr>\n",
       "    <tr>\n",
       "      <th>Kerluke, Reilly and Bechtelar</th>\n",
       "      <td>27389.43</td>\n",
       "    </tr>\n",
       "    <tr>\n",
       "      <th>Ernser, Cruickshank and Lind</th>\n",
       "      <td>28089.02</td>\n",
       "    </tr>\n",
       "    <tr>\n",
       "      <th>Waelchi-Fahey</th>\n",
       "      <td>28968.68</td>\n",
       "    </tr>\n",
       "    <tr>\n",
       "      <th>Senger, Upton and Breitenberg</th>\n",
       "      <td>29577.46</td>\n",
       "    </tr>\n",
       "    <tr>\n",
       "      <th>Berge LLC</th>\n",
       "      <td>30064.87</td>\n",
       "    </tr>\n",
       "    <tr>\n",
       "      <th>Cole-Eichmann</th>\n",
       "      <td>30435.42</td>\n",
       "    </tr>\n",
       "    <tr>\n",
       "      <th>Volkman, Goyette and Lemke</th>\n",
       "      <td>32006.87</td>\n",
       "    </tr>\n",
       "    <tr>\n",
       "      <th>Kunze Inc</th>\n",
       "      <td>34406.54</td>\n",
       "    </tr>\n",
       "    <tr>\n",
       "      <th>Hegmann and Sons</th>\n",
       "      <td>35213.72</td>\n",
       "    </tr>\n",
       "    <tr>\n",
       "      <th>Carroll PLC</th>\n",
       "      <td>35934.31</td>\n",
       "    </tr>\n",
       "    <tr>\n",
       "      <th>Waters-Walker</th>\n",
       "      <td>36778.96</td>\n",
       "    </tr>\n",
       "    <tr>\n",
       "      <th>Kihn, McClure and Denesik</th>\n",
       "      <td>38935.29</td>\n",
       "    </tr>\n",
       "  </tbody>\n",
       "</table>\n",
       "</div>"
      ],
      "text/plain": [
       "                               ext price\n",
       "name                                    \n",
       "Davis, Kshlerin and Reilly      19054.76\n",
       "Huel-Haag                       21087.88\n",
       "Gorczany-Hahn                   22207.90\n",
       "Hamill-Hackett                  23433.78\n",
       "Heidenreich-Bosco               25428.29\n",
       "Koelpin PLC                     26811.66\n",
       "Kilback-Gerlach                 26987.20\n",
       "Kuphal, Zieme and Kub           27031.86\n",
       "Kerluke, Reilly and Bechtelar   27389.43\n",
       "Ernser, Cruickshank and Lind    28089.02\n",
       "Waelchi-Fahey                   28968.68\n",
       "Senger, Upton and Breitenberg   29577.46\n",
       "Berge LLC                       30064.87\n",
       "Cole-Eichmann                   30435.42\n",
       "Volkman, Goyette and Lemke      32006.87\n",
       "Kunze Inc                       34406.54\n",
       "Hegmann and Sons                35213.72\n",
       "Carroll PLC                     35934.31\n",
       "Waters-Walker                   36778.96\n",
       "Kihn, McClure and Denesik       38935.29"
      ]
     },
     "execution_count": 29,
     "metadata": {},
     "output_type": "execute_result"
    }
   ],
   "source": [
    "customer_group.sum().sort_values('ext price')"
   ]
  },
  {
   "cell_type": "markdown",
   "metadata": {
    "slideshow": {
     "slide_type": "slide"
    }
   },
   "source": [
    "## Plotting Basic Elements\n",
    "\n",
    "Normally, just calling your dataframe and then \".plot()\" at the end, will produce a plot.  One way to control visual elements such as title, and x/y labels, is to save your plot in a variable, then call various plot specific methods set the various aspects to this.\n",
    "\n",
    "Also, don't forget to turn plotting on in your notebook by setting `%matplotlib inline`."
   ]
  },
  {
   "cell_type": "code",
   "execution_count": 39,
   "metadata": {
    "collapsed": false,
    "slideshow": {
     "slide_type": "subslide"
    }
   },
   "outputs": [
    {
     "data": {
      "text/html": [
       "<div>\n",
       "<table border=\"1\" class=\"dataframe\">\n",
       "  <thead>\n",
       "    <tr style=\"text-align: right;\">\n",
       "      <th></th>\n",
       "      <th>ext price</th>\n",
       "    </tr>\n",
       "    <tr>\n",
       "      <th>name</th>\n",
       "      <th></th>\n",
       "    </tr>\n",
       "  </thead>\n",
       "  <tbody>\n",
       "    <tr>\n",
       "      <th>Kihn, McClure and Denesik</th>\n",
       "      <td>38935.29</td>\n",
       "    </tr>\n",
       "    <tr>\n",
       "      <th>Waters-Walker</th>\n",
       "      <td>36778.96</td>\n",
       "    </tr>\n",
       "    <tr>\n",
       "      <th>Carroll PLC</th>\n",
       "      <td>35934.31</td>\n",
       "    </tr>\n",
       "    <tr>\n",
       "      <th>Hegmann and Sons</th>\n",
       "      <td>35213.72</td>\n",
       "    </tr>\n",
       "    <tr>\n",
       "      <th>Kunze Inc</th>\n",
       "      <td>34406.54</td>\n",
       "    </tr>\n",
       "    <tr>\n",
       "      <th>Volkman, Goyette and Lemke</th>\n",
       "      <td>32006.87</td>\n",
       "    </tr>\n",
       "    <tr>\n",
       "      <th>Cole-Eichmann</th>\n",
       "      <td>30435.42</td>\n",
       "    </tr>\n",
       "    <tr>\n",
       "      <th>Berge LLC</th>\n",
       "      <td>30064.87</td>\n",
       "    </tr>\n",
       "    <tr>\n",
       "      <th>Senger, Upton and Breitenberg</th>\n",
       "      <td>29577.46</td>\n",
       "    </tr>\n",
       "    <tr>\n",
       "      <th>Waelchi-Fahey</th>\n",
       "      <td>28968.68</td>\n",
       "    </tr>\n",
       "    <tr>\n",
       "      <th>Ernser, Cruickshank and Lind</th>\n",
       "      <td>28089.02</td>\n",
       "    </tr>\n",
       "    <tr>\n",
       "      <th>Kerluke, Reilly and Bechtelar</th>\n",
       "      <td>27389.43</td>\n",
       "    </tr>\n",
       "    <tr>\n",
       "      <th>Kuphal, Zieme and Kub</th>\n",
       "      <td>27031.86</td>\n",
       "    </tr>\n",
       "    <tr>\n",
       "      <th>Kilback-Gerlach</th>\n",
       "      <td>26987.20</td>\n",
       "    </tr>\n",
       "    <tr>\n",
       "      <th>Koelpin PLC</th>\n",
       "      <td>26811.66</td>\n",
       "    </tr>\n",
       "    <tr>\n",
       "      <th>Heidenreich-Bosco</th>\n",
       "      <td>25428.29</td>\n",
       "    </tr>\n",
       "    <tr>\n",
       "      <th>Hamill-Hackett</th>\n",
       "      <td>23433.78</td>\n",
       "    </tr>\n",
       "    <tr>\n",
       "      <th>Gorczany-Hahn</th>\n",
       "      <td>22207.90</td>\n",
       "    </tr>\n",
       "    <tr>\n",
       "      <th>Huel-Haag</th>\n",
       "      <td>21087.88</td>\n",
       "    </tr>\n",
       "    <tr>\n",
       "      <th>Davis, Kshlerin and Reilly</th>\n",
       "      <td>19054.76</td>\n",
       "    </tr>\n",
       "  </tbody>\n",
       "</table>\n",
       "</div>"
      ],
      "text/plain": [
       "                               ext price\n",
       "name                                    \n",
       "Kihn, McClure and Denesik       38935.29\n",
       "Waters-Walker                   36778.96\n",
       "Carroll PLC                     35934.31\n",
       "Hegmann and Sons                35213.72\n",
       "Kunze Inc                       34406.54\n",
       "Volkman, Goyette and Lemke      32006.87\n",
       "Cole-Eichmann                   30435.42\n",
       "Berge LLC                       30064.87\n",
       "Senger, Upton and Breitenberg   29577.46\n",
       "Waelchi-Fahey                   28968.68\n",
       "Ernser, Cruickshank and Lind    28089.02\n",
       "Kerluke, Reilly and Bechtelar   27389.43\n",
       "Kuphal, Zieme and Kub           27031.86\n",
       "Kilback-Gerlach                 26987.20\n",
       "Koelpin PLC                     26811.66\n",
       "Heidenreich-Bosco               25428.29\n",
       "Hamill-Hackett                  23433.78\n",
       "Gorczany-Hahn                   22207.90\n",
       "Huel-Haag                       21087.88\n",
       "Davis, Kshlerin and Reilly      19054.76"
      ]
     },
     "execution_count": 39,
     "metadata": {},
     "output_type": "execute_result"
    }
   ],
   "source": [
    "%matplotlib inline\n",
    "\n",
    "sales_totals = sales_df.groupby(by=\"name\").sum()[['ext price']].sort_values('ext price', ascending=False)\n",
    "\n",
    "sales_totals"
   ]
  },
  {
   "cell_type": "code",
   "execution_count": 55,
   "metadata": {
    "collapsed": false
   },
   "outputs": [
    {
     "name": "stdout",
     "output_type": "stream",
     "text": [
      "0 5\n",
      "5 10\n",
      "10 15\n",
      "15 20\n",
      "[181268.81999999998, 151053.30000000002, 136309.17000000001, 111212.60999999997]\n"
     ]
    },
    {
     "data": {
      "text/plain": [
       "<matplotlib.axes._subplots.AxesSubplot at 0x124232dd0>"
      ]
     },
     "execution_count": 55,
     "metadata": {},
     "output_type": "execute_result"
    },
    {
     "data": {
      "image/png": "[encoded data removed]",
      "text/plain": [
       "<matplotlib.figure.Figure at 0x121857d90>"
      ]
     },
     "metadata": {},
     "output_type": "display_data"
    }
   ],
   "source": [
    "number_of_people = 5\n",
    "slices = []\n",
    "for i_s in range(0, sales_totals.shape[0], number_of_people):\n",
    "    print i_s, i_s+number_of_people\n",
    "    slices.append(sales_totals.ix[i_s:i_s+number_of_people].sum()[0])\n",
    "\n",
    "print slices\n",
    "s = pd.Series(slices)\n",
    "s.plot(kind='bar')"
   ]
  },
  {
   "cell_type": "markdown",
   "metadata": {
    "slideshow": {
     "slide_type": "subslide"
    }
   },
   "source": [
    "### Now to set visual elements \"title\" and \"xlabel\""
   ]
  },
  {
   "cell_type": "code",
   "execution_count": 53,
   "metadata": {
    "collapsed": false,
    "slideshow": {
     "slide_type": "fragment"
    }
   },
   "outputs": [
    {
     "data": {
      "text/plain": [
       "<matplotlib.text.Text at 0x121911ad0>"
      ]
     },
     "execution_count": 53,
     "metadata": {},
     "output_type": "execute_result"
    },
    {
     "data": {
      "image/png": "[encoded data removed]",
      "text/plain": [
       "<matplotlib.figure.Figure at 0x11dd1be50>"
      ]
     },
     "metadata": {},
     "output_type": "display_data"
    }
   ],
   "source": [
    "my_plot = sales_totals.plot(kind='bar')\n",
    "my_plot.set_xlabel(\"Customers\")\n",
    "my_plot.set_ylabel(\"Sales ($)\")"
   ]
  },
  {
   "cell_type": "code",
   "execution_count": 54,
   "metadata": {
    "collapsed": false,
    "slideshow": {
     "slide_type": "subslide"
    }
   },
   "outputs": [
    {
     "data": {
      "text/plain": [
       "<matplotlib.text.Text at 0x1240faf90>"
      ]
     },
     "execution_count": 54,
     "metadata": {},
     "output_type": "execute_result"
    },
    {
     "data": {
      "image/png": "[encoded data removed]",
      "text/plain": [
       "<matplotlib.figure.Figure at 0x1240d7790>"
      ]
     },
     "metadata": {},
     "output_type": "display_data"
    }
   ],
   "source": [
    "# Importing seaborn will bind it's methods to Pandas .plot()\n",
    "import seaborn as sns\n",
    "\n",
    "my_plot = sales_totals.plot(kind='bar')\n",
    "my_plot.set_xlabel(\"Customers\")\n",
    "my_plot.set_ylabel(\"Sales ($)\")"
   ]
  },
  {
   "cell_type": "markdown",
   "metadata": {
    "slideshow": {
     "slide_type": "slide"
    }
   },
   "source": [
    "## Let's try something a bit more simple"
   ]
  },
  {
   "cell_type": "code",
   "execution_count": 93,
   "metadata": {
    "collapsed": false,
    "slideshow": {
     "slide_type": "subslide"
    }
   },
   "outputs": [
    {
     "data": {
      "text/html": [
       "<div>\n",
       "<table border=\"1\" class=\"dataframe\">\n",
       "  <thead>\n",
       "    <tr style=\"text-align: right;\">\n",
       "      <th></th>\n",
       "      <th>a</th>\n",
       "      <th>b</th>\n",
       "      <th>c</th>\n",
       "      <th>d</th>\n",
       "    </tr>\n",
       "  </thead>\n",
       "  <tbody>\n",
       "    <tr>\n",
       "      <th>0</th>\n",
       "      <td>1.685017</td>\n",
       "      <td>-1.642796</td>\n",
       "      <td>0.187954</td>\n",
       "      <td>-0.051239</td>\n",
       "    </tr>\n",
       "    <tr>\n",
       "      <th>1</th>\n",
       "      <td>1.982798</td>\n",
       "      <td>-0.688611</td>\n",
       "      <td>-0.800551</td>\n",
       "      <td>-1.045584</td>\n",
       "    </tr>\n",
       "    <tr>\n",
       "      <th>2</th>\n",
       "      <td>-1.249618</td>\n",
       "      <td>-0.491325</td>\n",
       "      <td>0.725846</td>\n",
       "      <td>-0.486260</td>\n",
       "    </tr>\n",
       "    <tr>\n",
       "      <th>3</th>\n",
       "      <td>0.860126</td>\n",
       "      <td>-1.220681</td>\n",
       "      <td>-3.274411</td>\n",
       "      <td>-3.937675</td>\n",
       "    </tr>\n",
       "    <tr>\n",
       "      <th>4</th>\n",
       "      <td>2.426016</td>\n",
       "      <td>-1.928606</td>\n",
       "      <td>-0.839981</td>\n",
       "      <td>-0.126040</td>\n",
       "    </tr>\n",
       "    <tr>\n",
       "      <th>5</th>\n",
       "      <td>-0.872020</td>\n",
       "      <td>0.197321</td>\n",
       "      <td>-0.437109</td>\n",
       "      <td>0.460301</td>\n",
       "    </tr>\n",
       "    <tr>\n",
       "      <th>6</th>\n",
       "      <td>0.156393</td>\n",
       "      <td>-0.106135</td>\n",
       "      <td>1.562154</td>\n",
       "      <td>-0.952544</td>\n",
       "    </tr>\n",
       "    <tr>\n",
       "      <th>7</th>\n",
       "      <td>1.007553</td>\n",
       "      <td>0.233626</td>\n",
       "      <td>-0.132416</td>\n",
       "      <td>-0.641854</td>\n",
       "    </tr>\n",
       "    <tr>\n",
       "      <th>8</th>\n",
       "      <td>-2.658545</td>\n",
       "      <td>2.057522</td>\n",
       "      <td>-0.459996</td>\n",
       "      <td>-0.241080</td>\n",
       "    </tr>\n",
       "    <tr>\n",
       "      <th>9</th>\n",
       "      <td>-0.201150</td>\n",
       "      <td>-2.171544</td>\n",
       "      <td>-0.404468</td>\n",
       "      <td>-1.605503</td>\n",
       "    </tr>\n",
       "  </tbody>\n",
       "</table>\n",
       "</div>"
      ],
      "text/plain": [
       "          a         b         c         d\n",
       "0  1.685017 -1.642796  0.187954 -0.051239\n",
       "1  1.982798 -0.688611 -0.800551 -1.045584\n",
       "2 -1.249618 -0.491325  0.725846 -0.486260\n",
       "3  0.860126 -1.220681 -3.274411 -3.937675\n",
       "4  2.426016 -1.928606 -0.839981 -0.126040\n",
       "5 -0.872020  0.197321 -0.437109  0.460301\n",
       "6  0.156393 -0.106135  1.562154 -0.952544\n",
       "7  1.007553  0.233626 -0.132416 -0.641854\n",
       "8 -2.658545  2.057522 -0.459996 -0.241080\n",
       "9 -0.201150 -2.171544 -0.404468 -1.605503"
      ]
     },
     "execution_count": 93,
     "metadata": {},
     "output_type": "execute_result"
    }
   ],
   "source": [
    "import numpy as np\n",
    "\n",
    "#np.random.seed(3243)\n",
    "df = pd.DataFrame(np.random.randn(10, 4), columns=['a', 'b', 'c', 'd'])\n",
    "df"
   ]
  },
  {
   "cell_type": "markdown",
   "metadata": {
    "slideshow": {
     "slide_type": "subslide"
    }
   },
   "source": [
    "### A basic bar plot with random data and 4 variables"
   ]
  },
  {
   "cell_type": "code",
   "execution_count": 94,
   "metadata": {
    "collapsed": false,
    "slideshow": {
     "slide_type": "fragment"
    }
   },
   "outputs": [
    {
     "data": {
      "text/plain": [
       "<matplotlib.axes._subplots.AxesSubplot at 0x11bd86990>"
      ]
     },
     "execution_count": 94,
     "metadata": {},
     "output_type": "execute_result"
    },
    {
     "data": {
      "image/png": "[encoded data removed]",
      "text/plain": [
       "<matplotlib.figure.Figure at 0x12579ff10>"
      ]
     },
     "metadata": {},
     "output_type": "display_data"
    }
   ],
   "source": [
    "df.plot(kind='bar')"
   ]
  },
  {
   "cell_type": "markdown",
   "metadata": {
    "slideshow": {
     "slide_type": "subslide"
    }
   },
   "source": [
    "### Now stacked bars"
   ]
  },
  {
   "cell_type": "code",
   "execution_count": 95,
   "metadata": {
    "collapsed": false,
    "slideshow": {
     "slide_type": "fragment"
    }
   },
   "outputs": [
    {
     "data": {
      "text/plain": [
       "<matplotlib.axes._subplots.AxesSubplot at 0x129749050>"
      ]
     },
     "execution_count": 95,
     "metadata": {},
     "output_type": "execute_result"
    },
    {
     "data": {
      "image/png": "[encoded data removed]",
      "text/plain": [
       "<matplotlib.figure.Figure at 0x129503210>"
      ]
     },
     "metadata": {},
     "output_type": "display_data"
    }
   ],
   "source": [
    "df.plot(kind='bar', stacked=True)"
   ]
  },
  {
   "cell_type": "markdown",
   "metadata": {
    "slideshow": {
     "slide_type": "subslide"
    }
   },
   "source": [
    "### Stacked Bar, Horizontally"
   ]
  },
  {
   "cell_type": "code",
   "execution_count": 96,
   "metadata": {
    "collapsed": false,
    "slideshow": {
     "slide_type": "fragment"
    }
   },
   "outputs": [
    {
     "data": {
      "text/plain": [
       "<matplotlib.axes._subplots.AxesSubplot at 0x128fa63d0>"
      ]
     },
     "execution_count": 96,
     "metadata": {},
     "output_type": "execute_result"
    },
    {
     "data": {
      "image/png": "[encoded data removed]",
      "text/plain": [
       "<matplotlib.figure.Figure at 0x128f7d2d0>"
      ]
     },
     "metadata": {},
     "output_type": "display_data"
    }
   ],
   "source": [
    "df.plot(kind='barh', stacked=True)"
   ]
  },
  {
   "cell_type": "markdown",
   "metadata": {
    "slideshow": {
     "slide_type": "subslide"
    }
   },
   "source": [
    "## Help me set the title and 1 label!"
   ]
  },
  {
   "cell_type": "code",
   "execution_count": 97,
   "metadata": {
    "collapsed": false
   },
   "outputs": [
    {
     "data": {
      "text/plain": [
       "<matplotlib.legend.Legend at 0x117511910>"
      ]
     },
     "execution_count": 97,
     "metadata": {},
     "output_type": "execute_result"
    },
    {
     "data": {
      "image/png": "[encoded data removed]",
      "text/plain": [
       "<matplotlib.figure.Figure at 0x118ea2710>"
      ]
     },
     "metadata": {},
     "output_type": "display_data"
    }
   ],
   "source": [
    "\n",
    "a_plot = df.plot(kind='barh', stacked=True, legend=True, figsize=(10,10))\n",
    "a_plot.set_xlabel(\"Whatever I want!\")\n",
    "a_plot.set_ylabel(\"Whatever I want on Y!\")\n",
    "a_plot.set_title(\"Fancy plot\")\n",
    "a_plot.legend(loc='center right')\n"
   ]
  },
  {
   "cell_type": "markdown",
   "metadata": {},
   "source": [
    "More refernece here:  [Pandas Docs: bar plots](http://pandas.pydata.org/pandas-docs/version/0.15.0/visualization.html)"
   ]
  },
  {
   "cell_type": "markdown",
   "metadata": {
    "slideshow": {
     "slide_type": "slide"
    }
   },
   "source": [
    "# df.plot( kind = \"????\" )\n",
    "\n",
    "With **DataFrames** or **DataFrame groups**, you can set the type with the \"kind\" parameter.  Check the docs for a full list.  \n",
    "\n",
    "For scatter it's simply **kind=\"scatter\"**.\n",
    "\n",
    "Some plot \"kinds\" have specific requirements.  For instance, a scatter plot requires X and Y axis data in order to work correctly.  If you have more than 2 numeric series items in your dataframe, you need to decide which 2 to plot.\n",
    "\n"
   ]
  },
  {
   "cell_type": "code",
   "execution_count": 99,
   "metadata": {
    "collapsed": false,
    "slideshow": {
     "slide_type": "subslide"
    }
   },
   "outputs": [
    {
     "data": {
      "text/plain": [
       "<matplotlib.axes._subplots.AxesSubplot at 0x12d021d90>"
      ]
     },
     "execution_count": 99,
     "metadata": {},
     "output_type": "execute_result"
    },
    {
     "data": {
      "image/png": "[encoded data removed]",
      "text/plain": [
       "<matplotlib.figure.Figure at 0x12d1aaf10>"
      ]
     },
     "metadata": {},
     "output_type": "display_data"
    }
   ],
   "source": [
    "df = pd.DataFrame(np.random.randn(550, 4), columns=['a', 'b', 'c', 'd'])\n",
    "df.plot(kind='scatter', x='a', y='b')"
   ]
  },
  {
   "cell_type": "markdown",
   "metadata": {},
   "source": [
    "_If you recall: In the case of an sns.pairplot, each numeric variable is plotted against each other for x / y display._"
   ]
  },
  {
   "cell_type": "code",
   "execution_count": 100,
   "metadata": {
    "collapsed": false,
    "slideshow": {
     "slide_type": "subslide"
    }
   },
   "outputs": [
    {
     "data": {
      "text/plain": [
       "<seaborn.axisgrid.PairGrid at 0x12d490150>"
      ]
     },
     "execution_count": 100,
     "metadata": {},
     "output_type": "execute_result"
    },
    {
     "data": {
      "image/png": "[encoded data removed]",
      "text/plain": [
       "<matplotlib.figure.Figure at 0x12d489f50>"
      ]
     },
     "metadata": {},
     "output_type": "display_data"
    }
   ],
   "source": [
    "sns.pairplot(df)"
   ]
  },
  {
   "cell_type": "markdown",
   "metadata": {
    "slideshow": {
     "slide_type": "subslide"
    }
   },
   "source": [
    "To plot multiple column groups in a single axes, repeat plot method specifying target \n",
    "'ax'. It is recommended to specify color and label keywords to distinguish each groups."
   ]
  },
  {
   "cell_type": "code",
   "execution_count": 104,
   "metadata": {
    "collapsed": false,
    "slideshow": {
     "slide_type": "subslide"
    }
   },
   "outputs": [
    {
     "data": {
      "text/plain": [
       "<matplotlib.axes._subplots.AxesSubplot at 0x1303e0d10>"
      ]
     },
     "execution_count": 104,
     "metadata": {},
     "output_type": "execute_result"
    },
    {
     "data": {
      "image/png": "[encoded data removed]",
      "text/plain": [
       "<matplotlib.figure.Figure at 0x1301da190>"
      ]
     },
     "metadata": {},
     "output_type": "display_data"
    }
   ],
   "source": [
    "ax = df.plot(kind='scatter', x='a', y='b', color='Red', label='A-B')\n",
    "df.plot(kind='scatter', x='a', y='c', color='Blue', label='A-C', ax=ax)"
   ]
  },
  {
   "cell_type": "markdown",
   "metadata": {
    "slideshow": {
     "slide_type": "subslide"
    }
   },
   "source": [
    "Using an \"ax\", we can add multiple plots in the same space"
   ]
  },
  {
   "cell_type": "markdown",
   "metadata": {
    "slideshow": {
     "slide_type": "subslide"
    }
   },
   "source": [
    "[Pandas: scatter plots](http://pandas.pydata.org/pandas-docs/version/0.15.0/visualization.html)"
   ]
  },
  {
   "cell_type": "markdown",
   "metadata": {
    "slideshow": {
     "slide_type": "slide"
    }
   },
   "source": [
    "## Demo/Guided Practice: time series plots (20 mins)\n",
    "\n",
    "This is a very gentle introduction to timeseries.  The main thing we want to do when we plot this type of data, is deal with an index that is a datetime type, rather than an INT or an object so we can apply resampling.\n",
    "\n",
    "Resampling the date allows us to easily slice our data based on unit of time such as:\n",
    " - Week number\n",
    " - Week day\n",
    " - Month day\n",
    " - year\n",
    " - Month number\n",
    " - etc\n",
    "\n",
    "The problem we usually encounter, is that we recieve date data as \"object\" once it makes its way to a dataframe.  The process for dealing with this is:\n",
    "\n",
    " - Convert date string to **datetime dtype**\n",
    " - Set the dataframe index as the converted **datetime dtype**\n"
   ]
  },
  {
   "cell_type": "code",
   "execution_count": 111,
   "metadata": {
    "collapsed": true,
    "slideshow": {
     "slide_type": "subslide"
    }
   },
   "outputs": [],
   "source": [
    "from datetime import datetime"
   ]
  },
  {
   "cell_type": "code",
   "execution_count": 112,
   "metadata": {
    "collapsed": false,
    "slideshow": {
     "slide_type": "fragment"
    }
   },
   "outputs": [
    {
     "data": {
      "text/html": [
       "<div>\n",
       "<table border=\"1\" class=\"dataframe\">\n",
       "  <thead>\n",
       "    <tr style=\"text-align: right;\">\n",
       "      <th></th>\n",
       "      <th>date</th>\n",
       "      <th>battle_deaths</th>\n",
       "    </tr>\n",
       "  </thead>\n",
       "  <tbody>\n",
       "    <tr>\n",
       "      <th>0</th>\n",
       "      <td>2014-05-01 18:47:05.069722</td>\n",
       "      <td>34</td>\n",
       "    </tr>\n",
       "    <tr>\n",
       "      <th>1</th>\n",
       "      <td>2014-05-01 18:47:05.119994</td>\n",
       "      <td>25</td>\n",
       "    </tr>\n",
       "    <tr>\n",
       "      <th>2</th>\n",
       "      <td>2014-05-02 18:47:05.178768</td>\n",
       "      <td>26</td>\n",
       "    </tr>\n",
       "    <tr>\n",
       "      <th>3</th>\n",
       "      <td>2014-05-02 18:47:05.230071</td>\n",
       "      <td>15</td>\n",
       "    </tr>\n",
       "    <tr>\n",
       "      <th>4</th>\n",
       "      <td>2014-05-02 18:47:05.230071</td>\n",
       "      <td>15</td>\n",
       "    </tr>\n",
       "    <tr>\n",
       "      <th>5</th>\n",
       "      <td>2014-05-02 18:47:05.280592</td>\n",
       "      <td>14</td>\n",
       "    </tr>\n",
       "    <tr>\n",
       "      <th>6</th>\n",
       "      <td>2014-05-03 18:47:05.332662</td>\n",
       "      <td>26</td>\n",
       "    </tr>\n",
       "    <tr>\n",
       "      <th>7</th>\n",
       "      <td>2014-05-03 18:47:05.385109</td>\n",
       "      <td>25</td>\n",
       "    </tr>\n",
       "    <tr>\n",
       "      <th>8</th>\n",
       "      <td>2014-05-04 18:47:05.436523</td>\n",
       "      <td>62</td>\n",
       "    </tr>\n",
       "    <tr>\n",
       "      <th>9</th>\n",
       "      <td>2014-05-04 18:47:05.486877</td>\n",
       "      <td>41</td>\n",
       "    </tr>\n",
       "  </tbody>\n",
       "</table>\n",
       "</div>"
      ],
      "text/plain": [
       "                         date  battle_deaths\n",
       "0  2014-05-01 18:47:05.069722             34\n",
       "1  2014-05-01 18:47:05.119994             25\n",
       "2  2014-05-02 18:47:05.178768             26\n",
       "3  2014-05-02 18:47:05.230071             15\n",
       "4  2014-05-02 18:47:05.230071             15\n",
       "5  2014-05-02 18:47:05.280592             14\n",
       "6  2014-05-03 18:47:05.332662             26\n",
       "7  2014-05-03 18:47:05.385109             25\n",
       "8  2014-05-04 18:47:05.436523             62\n",
       "9  2014-05-04 18:47:05.486877             41"
      ]
     },
     "execution_count": 112,
     "metadata": {},
     "output_type": "execute_result"
    }
   ],
   "source": [
    "data = {'date': ['2014-05-01 18:47:05.069722', '2014-05-01 18:47:05.119994', \n",
    "'2014-05-02 18:47:05.178768', '2014-05-02 18:47:05.230071', \n",
    "'2014-05-02 18:47:05.230071', '2014-05-02 18:47:05.280592', \n",
    "'2014-05-03 18:47:05.332662', '2014-05-03 18:47:05.385109', \n",
    "'2014-05-04 18:47:05.436523', '2014-05-04 18:47:05.486877'], \n",
    "        'battle_deaths': [34, 25, 26, 15, 15, 14, 26, 25, 62, 41]}\n",
    "df = pd.DataFrame(data, columns = ['date', 'battle_deaths'])\n",
    "df"
   ]
  },
  {
   "cell_type": "code",
   "execution_count": 113,
   "metadata": {
    "collapsed": false,
    "slideshow": {
     "slide_type": "subslide"
    }
   },
   "outputs": [
    {
     "name": "stdout",
     "output_type": "stream",
     "text": [
      "<class 'pandas.core.frame.DataFrame'>\n",
      "RangeIndex: 10 entries, 0 to 9\n",
      "Data columns (total 2 columns):\n",
      "date             10 non-null object\n",
      "battle_deaths    10 non-null int64\n",
      "dtypes: int64(1), object(1)\n",
      "memory usage: 232.0+ bytes\n"
     ]
    }
   ],
   "source": [
    "# Looks like the date column is an \"object\" - remember what this is?\n",
    "df.info()"
   ]
  },
  {
   "cell_type": "code",
   "execution_count": 114,
   "metadata": {
    "collapsed": true,
    "slideshow": {
     "slide_type": "fragment"
    }
   },
   "outputs": [],
   "source": [
    "df['date'] = pd.to_datetime(df['date'])"
   ]
  },
  {
   "cell_type": "code",
   "execution_count": 115,
   "metadata": {
    "collapsed": false,
    "slideshow": {
     "slide_type": "fragment"
    }
   },
   "outputs": [
    {
     "name": "stdout",
     "output_type": "stream",
     "text": [
      "<class 'pandas.core.frame.DataFrame'>\n",
      "RangeIndex: 10 entries, 0 to 9\n",
      "Data columns (total 2 columns):\n",
      "date             10 non-null datetime64[ns]\n",
      "battle_deaths    10 non-null int64\n",
      "dtypes: datetime64[ns](1), int64(1)\n",
      "memory usage: 232.0 bytes\n"
     ]
    }
   ],
   "source": [
    "df.info()"
   ]
  },
  {
   "cell_type": "markdown",
   "metadata": {
    "slideshow": {
     "slide_type": "subslide"
    }
   },
   "source": [
    "### Set df['date'] as the index and delete the column"
   ]
  },
  {
   "cell_type": "code",
   "execution_count": 118,
   "metadata": {
    "collapsed": false,
    "slideshow": {
     "slide_type": "fragment"
    }
   },
   "outputs": [
    {
     "data": {
      "text/html": [
       "<div>\n",
       "<table border=\"1\" class=\"dataframe\">\n",
       "  <thead>\n",
       "    <tr style=\"text-align: right;\">\n",
       "      <th></th>\n",
       "      <th>battle_deaths</th>\n",
       "    </tr>\n",
       "    <tr>\n",
       "      <th>date</th>\n",
       "      <th></th>\n",
       "    </tr>\n",
       "  </thead>\n",
       "  <tbody>\n",
       "    <tr>\n",
       "      <th>2014-05-01 18:47:05.069722</th>\n",
       "      <td>34</td>\n",
       "    </tr>\n",
       "    <tr>\n",
       "      <th>2014-05-01 18:47:05.119994</th>\n",
       "      <td>25</td>\n",
       "    </tr>\n",
       "    <tr>\n",
       "      <th>2014-05-02 18:47:05.178768</th>\n",
       "      <td>26</td>\n",
       "    </tr>\n",
       "    <tr>\n",
       "      <th>2014-05-02 18:47:05.230071</th>\n",
       "      <td>15</td>\n",
       "    </tr>\n",
       "    <tr>\n",
       "      <th>2014-05-02 18:47:05.230071</th>\n",
       "      <td>15</td>\n",
       "    </tr>\n",
       "    <tr>\n",
       "      <th>2014-05-02 18:47:05.280592</th>\n",
       "      <td>14</td>\n",
       "    </tr>\n",
       "    <tr>\n",
       "      <th>2014-05-03 18:47:05.332662</th>\n",
       "      <td>26</td>\n",
       "    </tr>\n",
       "    <tr>\n",
       "      <th>2014-05-03 18:47:05.385109</th>\n",
       "      <td>25</td>\n",
       "    </tr>\n",
       "    <tr>\n",
       "      <th>2014-05-04 18:47:05.436523</th>\n",
       "      <td>62</td>\n",
       "    </tr>\n",
       "    <tr>\n",
       "      <th>2014-05-04 18:47:05.486877</th>\n",
       "      <td>41</td>\n",
       "    </tr>\n",
       "  </tbody>\n",
       "</table>\n",
       "</div>"
      ],
      "text/plain": [
       "                            battle_deaths\n",
       "date                                     \n",
       "2014-05-01 18:47:05.069722             34\n",
       "2014-05-01 18:47:05.119994             25\n",
       "2014-05-02 18:47:05.178768             26\n",
       "2014-05-02 18:47:05.230071             15\n",
       "2014-05-02 18:47:05.230071             15\n",
       "2014-05-02 18:47:05.280592             14\n",
       "2014-05-03 18:47:05.332662             26\n",
       "2014-05-03 18:47:05.385109             25\n",
       "2014-05-04 18:47:05.436523             62\n",
       "2014-05-04 18:47:05.486877             41"
      ]
     },
     "execution_count": 118,
     "metadata": {},
     "output_type": "execute_result"
    }
   ],
   "source": [
    "df.set_index(['date'], inplace=True)\n",
    "# df.index = df['date']\n",
    "# del df['date']\n",
    "df"
   ]
  },
  {
   "cell_type": "markdown",
   "metadata": {},
   "source": [
    "### Find the total value of battle_deaths per day\n",
    "\n",
    "**NOW with our new datetime index, we can apple the resample function to give us grouping by \"days\" (ie: \"D\").**"
   ]
  },
  {
   "cell_type": "code",
   "execution_count": 127,
   "metadata": {
    "collapsed": false,
    "slideshow": {
     "slide_type": "subslide"
    }
   },
   "outputs": [
    {
     "data": {
      "text/html": [
       "<div>\n",
       "<table border=\"1\" class=\"dataframe\">\n",
       "  <thead>\n",
       "    <tr style=\"text-align: right;\">\n",
       "      <th></th>\n",
       "      <th>battle_deaths</th>\n",
       "    </tr>\n",
       "    <tr>\n",
       "      <th>date</th>\n",
       "      <th></th>\n",
       "    </tr>\n",
       "  </thead>\n",
       "  <tbody>\n",
       "    <tr>\n",
       "      <th>2014-05-01</th>\n",
       "      <td>59</td>\n",
       "    </tr>\n",
       "    <tr>\n",
       "      <th>2014-05-02</th>\n",
       "      <td>70</td>\n",
       "    </tr>\n",
       "    <tr>\n",
       "      <th>2014-05-03</th>\n",
       "      <td>51</td>\n",
       "    </tr>\n",
       "    <tr>\n",
       "      <th>2014-05-04</th>\n",
       "      <td>103</td>\n",
       "    </tr>\n",
       "  </tbody>\n",
       "</table>\n",
       "</div>"
      ],
      "text/plain": [
       "            battle_deaths\n",
       "date                     \n",
       "2014-05-01             59\n",
       "2014-05-02             70\n",
       "2014-05-03             51\n",
       "2014-05-04            103"
      ]
     },
     "execution_count": 127,
     "metadata": {},
     "output_type": "execute_result"
    }
   ],
   "source": [
    "df.resample('D').sum()"
   ]
  },
  {
   "cell_type": "markdown",
   "metadata": {
    "slideshow": {
     "slide_type": "subslide"
    }
   },
   "source": [
    "### Almost every Pandas object can use .plot()\n",
    "\n",
    "Let's view the battle deaths per day now."
   ]
  },
  {
   "cell_type": "code",
   "execution_count": 128,
   "metadata": {
    "collapsed": false,
    "slideshow": {
     "slide_type": "subslide"
    }
   },
   "outputs": [
    {
     "data": {
      "text/plain": [
       "<matplotlib.axes._subplots.AxesSubplot at 0x130c76a10>"
      ]
     },
     "execution_count": 128,
     "metadata": {},
     "output_type": "execute_result"
    },
    {
     "data": {
      "image/png": "[encoded data removed]",
      "text/plain": [
       "<matplotlib.figure.Figure at 0x130c5fa10>"
      ]
     },
     "metadata": {},
     "output_type": "display_data"
    }
   ],
   "source": [
    "df.resample('D').sum().plot.bar()"
   ]
  },
  {
   "cell_type": "markdown",
   "metadata": {
    "slideshow": {
     "slide_type": "slide"
    }
   },
   "source": [
    "<a name=\"ind-practice\"></a>\n",
    "## Independent Practice: Topic (20 minutes)\n",
    "\n",
    "Using the sales.csv data, do the following\n",
    "- Create a stacked bar plot of Rep and Price\n",
    "- Create a stacked bar plot of Rep and Quantity\n",
    "- Plot weekly quantity sold and ext price"
   ]
  },
  {
   "cell_type": "code",
   "execution_count": null,
   "metadata": {
    "collapsed": true
   },
   "outputs": [],
   "source": [
    "sales_df = pd.read_csv(\"http://pbpython.com/extras/sample-salesv2.csv\")\n"
   ]
  },
  {
   "cell_type": "code",
   "execution_count": null,
   "metadata": {
    "collapsed": false
   },
   "outputs": [],
   "source": []
  },
  {
   "cell_type": "code",
   "execution_count": null,
   "metadata": {
    "collapsed": false
   },
   "outputs": [],
   "source": []
  },
  {
   "cell_type": "markdown",
   "metadata": {
    "slideshow": {
     "slide_type": "slide"
    }
   },
   "source": [
    "<a name=\"conclusion\"></a>\n",
    "## Conclusion (10 mins)\n",
    "\n",
    "As we saw in the introduction, df.plot can take a lot of parameters. Try adding some\n",
    "of them to the plots you created during independent practice. "
   ]
  }
 ],
 "metadata": {
  "kernelspec": {
   "display_name": "Python 2",
   "language": "python",
   "name": "python2"
  },
  "language_info": {
   "codemirror_mode": {
    "name": "ipython",
    "version": 2
   },
   "file_extension": ".py",
   "mimetype": "text/x-python",
   "name": "python",
   "nbconvert_exporter": "python",
   "pygments_lexer": "ipython2",
   "version": "2.7.11"
  }
 },
 "nbformat": 4,
 "nbformat_minor": 0
}

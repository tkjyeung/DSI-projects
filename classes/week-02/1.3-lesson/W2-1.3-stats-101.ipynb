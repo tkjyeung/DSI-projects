{
 "cells": [
  {
   "cell_type": "markdown",
   "metadata": {
    "slideshow": {
     "slide_type": "slide"
    }
   },
   "source": [
    "# ![](https://ga-dash.s3.amazonaws.com/production/assets/logo-9f88ae6c9c3871690e33280fcf557f33.png) Stats 101\n",
    "Week 2 | Lesson 1.3 .."
   ]
  },
  {
   "cell_type": "markdown",
   "metadata": {
    "slideshow": {
     "slide_type": "subslide"
    }
   },
   "source": [
    "### LEARNING OBJECTIVES\n",
    "*After this lesson, you will be able to:*\n",
    "- Define alpha level, aka level of significance\n",
    "- Define what null hypothesis means\n",
    "- Define what a p-value means\n",
    "- Define confidence intervals ..\n"
   ]
  },
  {
   "cell_type": "markdown",
   "metadata": {
    "slideshow": {
     "slide_type": "subslide"
    }
   },
   "source": [
    "### STUDENT PRE-WORK\n",
    "*Before this lesson, you should already be able to:*\n",
    "- [hypothesis testing and p values](https://www.khanacademy.org/math/probability/statistics-inferential/hypothesis-testing/v/hypothesis-testing-and-p-values) .."
   ]
  },
  {
   "cell_type": "markdown",
   "metadata": {
    "slideshow": {
     "slide_type": "subslide"
    }
   },
   "source": [
    "### LESSON GUIDE\n",
    "| TIMING  | TYPE  |\n",
    "|:-:|---|\n",
    "| 20 min  | [Introduction](#introduction)   |\n",
    "| 20 min  | Hypothesis Testing  | \n",
    "| 20 min  | T-Test  | \n",
    "| 10 min  | Confidence Interval | \n",
    "| 15 min  | Bootstrap Statistics | \n",
    "| 5 min  | [Conclusion](#conclusion)  |  \n"
   ]
  },
  {
   "cell_type": "markdown",
   "metadata": {
    "slideshow": {
     "slide_type": "slide"
    }
   },
   "source": [
    "## \"Bayesian\" vs. \"Frequentist\"\n",
    "\n",
    "There are two big \"camps\" in statistics: **Frequentist** and **Bayesian**. \n",
    "\n",
    "Not too be taken seriously, but have some fun links:\n",
    "\n",
    "- [Frequentist vs Bayesian - XKCD](https://xkcd.com/1132/)\n",
    "\n",
    "- [Bayesian Drinking Game - SMBC](http://www.smbc-comics.com/?id=3366)\n",
    "\n",
    "- [Bayesianism - SMBC](http://www.smbc-comics.com/index.php?id=4127)\n"
   ]
  },
  {
   "cell_type": "markdown",
   "metadata": {
    "slideshow": {
     "slide_type": "subslide"
    }
   },
   "source": [
    "I will get to the essential differences, but it is important to remember the overarching goal of both:\n",
    "    \n",
    "---\n",
    "\n",
    "**As statisticians we want to make a statement about ALL data points based on a SAMPLE of data points, and describe our UNCERTAINTY about that statement.**\n",
    "\n",
    "---\n"
   ]
  },
  {
   "cell_type": "markdown",
   "metadata": {
    "slideshow": {
     "slide_type": "slide"
    }
   },
   "source": [
    "### Estimating a mean value\n",
    "\n",
    "Say we want to measure the **mean height of 25 year old San Francisco males**. We measure the height of 100 different 25 year old males and thus have 100 data points in our sample."
   ]
  },
  {
   "cell_type": "markdown",
   "metadata": {
    "slideshow": {
     "slide_type": "fragment"
    }
   },
   "source": [
    "Our scenario:\n",
    "\n",
    "- We want to make a statement about the mean height of **ALL** 25 year old San Francisco males.\n",
    "- We have a **sample** of 100 measured heights from that **population**."
   ]
  },
  {
   "cell_type": "markdown",
   "metadata": {
    "slideshow": {
     "slide_type": "subslide"
    }
   },
   "source": [
    "### Estimating the mean height from a Bayesian approach...\n",
    "\n",
    "As a **Bayesian** I believe:\n",
    "\n",
    "- The mean height of 25 year old San Francisco males is indeed a value, but it is drawn from a **prior probability distribution** of 25 year old San Francisco male heights.\n",
    "- I have collected **fixed data** which I use to update my inference of the probability for the mean height, which is called my **posterior distribution** of mean heights."
   ]
  },
  {
   "cell_type": "markdown",
   "metadata": {
    "slideshow": {
     "slide_type": "subslide"
    }
   },
   "source": [
    "### Estimating the mean height from a Frequentist approach...\n",
    "\n",
    "As a **Frequentist** I believe:\n",
    "\n",
    "- The mean height of 25 year old San Francisco males is an unknown but **fixed, \"true\" value**."
   ]
  },
  {
   "cell_type": "markdown",
   "metadata": {
    "slideshow": {
     "slide_type": "fragment"
    }
   },
   "source": [
    "- My 100 data points are considered to be a **random sample.** That is to say, I have collected **at random** 100 heights from the **population pool**."
   ]
  },
  {
   "cell_type": "markdown",
   "metadata": {
    "slideshow": {
     "slide_type": "fragment"
    }
   },
   "source": [
    "- This random sampling procedure is considered **infinitely repeatable**. My inferences about height are based on the idea that this sample is just one of an infinite number of potential population samples."
   ]
  },
  {
   "cell_type": "markdown",
   "metadata": {
    "slideshow": {
     "slide_type": "fragment"
    }
   },
   "source": [
    "- Though the **data sampled is random**, the **true value of height is fixed** across samples."
   ]
  },
  {
   "cell_type": "markdown",
   "metadata": {
    "slideshow": {
     "slide_type": "subslide"
    }
   },
   "source": [
    "### Pros and cons to both\n",
    "\n",
    "Recent hype may have lead you to believe that Bayesian methods are definitively better than Frequetist, but the real truth is that there are pros and cons to both.\n",
    "\n",
    "---"
   ]
  },
  {
   "cell_type": "markdown",
   "metadata": {
    "slideshow": {
     "slide_type": "fragment"
    }
   },
   "source": [
    "**Bayesian methods**:\n",
    "\n",
    "- Pros: Inference on measure is more intuitive. No \"absurd\" results. Does not require \"infinite sampling\" theory.\n",
    "- Cons: Computationally intensive. Does not \"guarantee\" success rate of experiments. Requires prior belief."
   ]
  },
  {
   "cell_type": "markdown",
   "metadata": {
    "slideshow": {
     "slide_type": "fragment"
    }
   },
   "source": [
    "** Frequentist methods:**\n",
    "\n",
    "- Pros: Requires no justification of prior belief. Direct analogy to experimental design theory. Not as computationally expensive.\n",
    "- Cons: Inference not as intuitive. Requires \"asymptotic\" sampling axioms. Allows \"absurd\" results (it is ok if some of the \"experiments\" are nonsense as long as most are correct.)"
   ]
  },
  {
   "cell_type": "markdown",
   "metadata": {
    "slideshow": {
     "slide_type": "slide"
    }
   },
   "source": [
    "## Hypothesis testing with frequentist methods\n",
    "\n",
    "**Frequentist** methods lend themselves well to the idea of experimental design. For example, say we are giving people a pill that makes them faster to solve math problems.\n",
    "\n",
    "- One hundred (100) people math students are randomly selected from a broader population.\n",
    "- Randomly assign \n",
    "    - 50 to the (placebo) control group, and \n",
    "    - 50 to the treatment group. \n",
    "\n",
    "- The study is double blind, so neither experimenters, nor subjects know which group they are assigned to.\n"
   ]
  },
  {
   "cell_type": "markdown",
   "metadata": {
    "slideshow": {
     "slide_type": "slide"
    }
   },
   "source": [
    "### The \"null hypothesis\"\n",
    "\n",
    "The **null hypothesis** is a fundamental concept for Frequentist statistics. We can define this as **$H_0$**. The null hypothesis is, in this example, the hypothesis that there is no difference between placebo and treatment."
   ]
  },
  {
   "cell_type": "markdown",
   "metadata": {
    "slideshow": {
     "slide_type": "fragment"
    }
   },
   "source": [
    "**$H_0$:** The measured parameter is equal to a specific value for the population."
   ]
  },
  {
   "cell_type": "markdown",
   "metadata": {
    "slideshow": {
     "slide_type": "fragment"
    }
   },
   "source": [
    "The **alternative hypothesis** is the other possible outcome of the experiment: the difference between the placebo and the treatment is real/not zero.\n",
    "\n",
    "**$H_{1}$**:  The measured parameter is different for the population than the value in the null hypothesis.\n",
    "\n",
    "$H_{1}$ is also referred to by $H_{A}$"
   ]
  },
  {
   "cell_type": "markdown",
   "metadata": {
    "slideshow": {
     "slide_type": "slide"
    }
   },
   "source": [
    "### The p-value\n",
    "\n",
    "The **p-value** is the probability that, **GIVEN THE NULL HYPOTHESIS IS TRUE**, we would have the current set of data. \n",
    "\n",
    "---"
   ]
  },
  {
   "cell_type": "markdown",
   "metadata": {
    "slideshow": {
     "slide_type": "fragment"
    }
   },
   "source": [
    "Say in our experiment we follow-up with the experimental and control groups:\n",
    "\n",
    "- control group results\n",
    "    - pre-study: mean test speed was 120 seconds, with a standard deviation of 15 seconds\n",
    "    - post-study: mean test speed was $\\bar{x}_1$ seconds, with a standard deviation of 15 seconds \n",
    "- treatment group results\n",
    "    - pre-study: mean test speed was 120 seconds, with a standard deviation of 15 seconds\n",
    "    - post-study: mean test speed was $\\bar{x}_2$ seconds, with a standard deviation of 15 seconds \n",
    "    \n",
    "\n",
    "The **p-value** would be the **probability that there is no difference between $\\bar{x}_1$ and $\\bar{x}_2$ an equal standard deviation of 15 over a sample an equally divided sample of 100 people.**"
   ]
  },
  {
   "cell_type": "markdown",
   "metadata": {
    "slideshow": {
     "slide_type": "subslide"
    }
   },
   "source": [
    "#### What is the difference in value that would fall outside a 95% confidence interval?"
   ]
  },
  {
   "cell_type": "code",
   "execution_count": 1,
   "metadata": {
    "collapsed": false,
    "slideshow": {
     "slide_type": "skip"
    }
   },
   "outputs": [],
   "source": [
    "import numpy as np\n",
    "import scipy.stats as stats\n",
    "import seaborn as sns\n",
    "import matplotlib.pyplot as plt\n",
    "import math\n",
    "%matplotlib inline\n",
    "sns.set(rc={\"figure.figsize\": (9, 7)})"
   ]
  },
  {
   "cell_type": "code",
   "execution_count": 2,
   "metadata": {
    "collapsed": false,
    "slideshow": {
     "slide_type": "fragment"
    }
   },
   "outputs": [
    {
     "name": "stdout",
     "output_type": "stream",
     "text": [
      "3.0\n"
     ]
    }
   ],
   "source": [
    "n_sample_placebo = 50.\n",
    "n_sample_drug = 50.\n",
    "stdev_placebo = 15\n",
    "stdev_drug = 15\n",
    "\n",
    "standard_error = (stdev_drug**2) / n_sample_drug + (stdev_placebo**2) / n_sample_placebo\n",
    "standard_deviation_of_sample_diff = math.sqrt(standard_error)\n",
    "\n",
    "print standard_deviation_of_sample_diff"
   ]
  },
  {
   "cell_type": "code",
   "execution_count": 3,
   "metadata": {
    "collapsed": false,
    "slideshow": {
     "slide_type": "subslide"
    }
   },
   "outputs": [
    {
     "data": {
      "text/plain": [
       "<matplotlib.lines.Line2D at 0x1168e7ad0>"
      ]
     },
     "execution_count": 3,
     "metadata": {},
     "output_type": "execute_result"
    },
    {
     "data": {
      "image/png": "[encoded data removed]",
      "text/plain": [
       "<matplotlib.figure.Figure at 0x1167d6210>"
      ]
     },
     "metadata": {},
     "output_type": "display_data"
    }
   ],
   "source": [
    "diff_dist = np.random.normal(0.0, standard_deviation_of_sample_diff, 10000)\n",
    "ax = sns.distplot(diff_dist)\n",
    "ax.axvline(standard_deviation_of_sample_diff*2, color='k', linestyle='--', lw=1)\n",
    "ax.axvline(standard_deviation_of_sample_diff*-2, color='k', linestyle='--', lw=1)\n",
    "ax.axvline(standard_deviation_of_sample_diff*3, color='k', linestyle='--', lw=1)\n",
    "ax.axvline(standard_deviation_of_sample_diff*-3, color='k', linestyle='--', lw=1)\n"
   ]
  },
  {
   "cell_type": "code",
   "execution_count": 4,
   "metadata": {
    "collapsed": true,
    "slideshow": {
     "slide_type": "subslide"
    }
   },
   "outputs": [],
   "source": [
    "n_sample_placebo = 50.\n",
    "n_sample_drug = 50.\n",
    "mean_placebo = 100.\n",
    "mean_drug = 95.\n",
    "stdev_placebo = 15\n",
    "stdev_drug = 15"
   ]
  },
  {
   "cell_type": "code",
   "execution_count": 5,
   "metadata": {
    "collapsed": false,
    "slideshow": {
     "slide_type": "subslide"
    }
   },
   "outputs": [
    {
     "data": {
      "text/plain": [
       "<matplotlib.axes._subplots.AxesSubplot at 0x1167c8d10>"
      ]
     },
     "execution_count": 5,
     "metadata": {},
     "output_type": "execute_result"
    },
    {
     "data": {
      "image/png": "[encoded data removed]",
      "text/plain": [
       "<matplotlib.figure.Figure at 0x10415e5d0>"
      ]
     },
     "metadata": {},
     "output_type": "display_data"
    }
   ],
   "source": [
    "placebo_dist = np.random.normal(mean_placebo, stdev_placebo, 1000)\n",
    "drug_dist = np.random.normal(mean_drug, stdev_drug, 1000)\n",
    "\n",
    "ax = sns.distplot(placebo_dist)\n",
    "sns.distplot(drug_dist, color='darkred', bins=10, ax=ax)"
   ]
  },
  {
   "cell_type": "code",
   "execution_count": 6,
   "metadata": {
    "collapsed": true,
    "slideshow": {
     "slide_type": "subslide"
    }
   },
   "outputs": [],
   "source": [
    "n_sample_placebo = 50.\n",
    "n_sample_drug = 50.\n",
    "mean_placebo = 100.\n",
    "mean_drug = 85.\n",
    "stdev_placebo = 15\n",
    "stdev_drug = 15"
   ]
  },
  {
   "cell_type": "code",
   "execution_count": 7,
   "metadata": {
    "collapsed": false,
    "slideshow": {
     "slide_type": "subslide"
    }
   },
   "outputs": [
    {
     "data": {
      "text/plain": [
       "<matplotlib.axes._subplots.AxesSubplot at 0x116ecdb10>"
      ]
     },
     "execution_count": 7,
     "metadata": {},
     "output_type": "execute_result"
    },
    {
     "data": {
      "image/png": "[encoded data removed]",
      "text/plain": [
       "<matplotlib.figure.Figure at 0x116ecd2d0>"
      ]
     },
     "metadata": {},
     "output_type": "display_data"
    }
   ],
   "source": [
    "placebo_dist = np.random.normal(mean_placebo, stdev_placebo, 50)\n",
    "drug_dist = np.random.normal(mean_drug, stdev_drug, 50)\n",
    "\n",
    "ax = sns.distplot(placebo_dist)\n",
    "sns.distplot(drug_dist, color='darkred', bins=10, ax=ax)"
   ]
  },
  {
   "cell_type": "markdown",
   "metadata": {
    "slideshow": {
     "slide_type": "slide"
    }
   },
   "source": [
    "### t-tests: calculating the p-value\n",
    "\n",
    "How do we calculate the **p-value**? For comparing two means (as is the case in this example: the mean difference in symptoms between conditions) we can use a **t-test**.\n",
    "\n",
    "There are a few different t-test:\n",
    "- unpaired t-test\n",
    "- paired t-test\n",
    "- one sample\n"
   ]
  },
  {
   "cell_type": "markdown",
   "metadata": {
    "slideshow": {
     "slide_type": "subslide"
    }
   },
   "source": [
    "#### Unpaired t-test\n",
    "\n",
    "$$ \\text{t-value}=\\frac{(\\bar{x}_1 - \\bar{x}_2) - d_0}{\\sqrt{\\frac{\\sigma_1^2}{n_1} + \\frac{\\sigma_2^2}{n_2}}} $$\n",
    "\n",
    "##### t\\-value tells us if the difference between two sample is larger than the difference in between samples"
   ]
  },
  {
   "cell_type": "markdown",
   "metadata": {
    "slideshow": {
     "slide_type": "fragment"
    }
   },
   "source": [
    "The t-statistic measures the **signal to noise ratio** in our data."
   ]
  },
  {
   "cell_type": "markdown",
   "metadata": {
    "slideshow": {
     "slide_type": "fragment"
    }
   },
   "source": [
    "- **The signal is our measured difference.** This is our measured mean minus the hypothesized mean **H0**."
   ]
  },
  {
   "cell_type": "markdown",
   "metadata": {
    "slideshow": {
     "slide_type": "fragment"
    }
   },
   "source": [
    "- **The noise** is the **variation in our data**. This is how much our measurements vary (measured by the standard deviation), with a penalty for smaller sample sizes (the square root of the sample size)."
   ]
  },
  {
   "cell_type": "code",
   "execution_count": 8,
   "metadata": {
    "collapsed": false,
    "slideshow": {
     "slide_type": "subslide"
    }
   },
   "outputs": [
    {
     "data": {
      "text/plain": [
       "-1.6666666666666667"
      ]
     },
     "execution_count": 8,
     "metadata": {},
     "output_type": "execute_result"
    }
   ],
   "source": [
    "n_sample_placebo = 50.\n",
    "n_sample_drug = 50.\n",
    "mean_placebo = 100.\n",
    "mean_drug = 95.\n",
    "stdev_placebo = 15\n",
    "stdev_drug = 15\n",
    "\n",
    "num = (mean_drug - mean_placebo) - 0.0\n",
    "den_sum = (stdev_drug**2)/n_sample_drug + (stdev_placebo**2)/n_sample_placebo\n",
    "t = num / math.sqrt(den_sum)\n",
    "t"
   ]
  },
  {
   "cell_type": "markdown",
   "metadata": {
    "slideshow": {
     "slide_type": "subslide"
    }
   },
   "source": [
    "#### To get the p-value, look at the table\n",
    "\n",
    "```\n",
    "t-DISTRIBUTION (t-TABLE) or t-VALUES WHEN P( > t)\n",
    "\n",
    "                 ---             \n",
    "              --- | ---          \n",
    "            --    |    --        \n",
    "          --      |    |:--      \n",
    "     ___--        |    |:::--___ \n",
    "    --------------+----+---------\n",
    "                  0    t         \n",
    "\n",
    "   DF |     t(0.1)   t(0.05)  t(0.025)   t(0.01)  t(0.005) t(0.0025) \n",
    " -----+--------------------------------------------------------------\n",
    "    1 |     3.078     6.314    12.706    31.821    63.657   127.321\n",
    "    2 |     1.886     2.920     4.303     6.965     9.925    14.089\n",
    "    3 |     1.638     2.353     3.182     4.541     5.841     7.453\n",
    "    4 |     1.533     2.132     2.776     3.747     4.604     5.598\n",
    "    5 |     1.476     2.015     2.571     3.365     4.032     4.773\n",
    "   10 |     1.372     1.812     2.228     2.764     3.169     3.581\n",
    "   20 |     1.325     1.725     2.086     2.528     2.845     3.153\n",
    "   30 |     1.310     1.697     2.042     2.457     2.750     3.030\n",
    "   40 |     1.303     1.684     2.021     2.423     2.704     2.971\n",
    "   50 |     1.299     1.676     2.009     2.403     2.678     2.937\n",
    "   70 |     1.294     1.667     1.994     2.381     2.648     2.899\n",
    "   90 |     1.291     1.662     1.987     2.368     2.632     2.878\n",
    "  100 |     1.290     1.660     1.984     2.364     2.626     2.871\n",
    "  120 |     1.289     1.658     1.980     2.358     2.617     2.860\n",
    "\n",
    "    Z       1.282     1.645     1.960     2.326     2.576     2.807\n",
    "```\n",
    "\n",
    "From [statex](http://www.statext.com/practice/T-Distribution01.php)"
   ]
  },
  {
   "cell_type": "code",
   "execution_count": 9,
   "metadata": {
    "collapsed": false,
    "slideshow": {
     "slide_type": "subslide"
    }
   },
   "outputs": [
    {
     "name": "stdout",
     "output_type": "stream",
     "text": [
      "t-value: -1.66666666667\n",
      "p-value: 0.0493868900791\n"
     ]
    }
   ],
   "source": [
    "res = stats.ttest_ind_from_stats(mean_drug, stdev_drug, n_sample_drug,\n",
    "                                 mean_placebo, stdev_placebo, n_sample_placebo,\n",
    "                                 equal_var=True)\n",
    "\n",
    "print \"t-value:\",res.statistic\n",
    "print \"p-value:\",res.pvalue/2.0"
   ]
  },
  {
   "cell_type": "markdown",
   "metadata": {
    "slideshow": {
     "slide_type": "slide"
    }
   },
   "source": [
    "## Confidence intervals\n",
    "\n",
    "You may have heard of people describing \"95% confidence intervals\" in experiments measuring mean differences.\n",
    "\n",
    "What do you think of this definition of confidence intervals:\n",
    "\n",
    "**Def.1:** The 95% confidence interval around a mean indicates that there is a 95% chance the true mean falls in that interval."
   ]
  },
  {
   "cell_type": "markdown",
   "metadata": {
    "slideshow": {
     "slide_type": "fragment"
    }
   },
   "source": [
    "#### Yes, but not quite\n",
    "\n",
    "That is a **Bayesian** way of thinking (which is confusingly called \"credible intervals\"). The **Frequentist confidence interval** is defined as:\n",
    "\n",
    "**Correct definition:** In 95% of experiments, an interval constructed with this threshold will contain the true mean."
   ]
  },
  {
   "cell_type": "markdown",
   "metadata": {
    "slideshow": {
     "slide_type": "subslide"
    }
   },
   "source": [
    "### Bootstrapping the confidence interval\n",
    "\n",
    "**Bootstrapping** is the procedure of **resampling your sample** to extract confidence intervals.\n",
    "\n",
    "[Bootstrapping has other extended uses. We will talk about bootstrapping in depth later.]\n",
    "\n",
    "Imagine we resample our sample 1000 times and each time calculate the mean. What can we use these values for?"
   ]
  },
  {
   "cell_type": "markdown",
   "metadata": {
    "slideshow": {
     "slide_type": "fragment"
    }
   },
   "source": [
    "---\n",
    "\n",
    "**A:** Bootstrapped means can give us additional information about our **statistic of interest**. For example, the 2.5th percentile and 97.5th percentile can give us the 95% confidence interval for our statistic."
   ]
  },
  {
   "cell_type": "markdown",
   "metadata": {
    "slideshow": {
     "slide_type": "subslide"
    }
   },
   "source": [
    "### Why does bootstrapping work?\n",
    "\n",
    "This question is beyond the scope of this lecture, and potentially beyond the scope of our class (at least mathematically). \n",
    "\n",
    "However, there is a good intuition for the bootstrap."
   ]
  },
  {
   "cell_type": "markdown",
   "metadata": {
    "slideshow": {
     "slide_type": "fragment"
    }
   },
   "source": [
    "---\n",
    "The bootstrapping procedure is based on the same infinite sampling theory that Frequentist statistics leverages. Remember that taking a random sample of people and measuring them provides us the ability  to **infer information about the whole population.**\n",
    "\n",
    "Likewise, **bootstrapping our statistic of interest lets us infer information _about the \"population\" of our measured statistic!**"
   ]
  },
  {
   "cell_type": "markdown",
   "metadata": {
    "slideshow": {
     "slide_type": "subslide"
    }
   },
   "source": [
    "### Code the confidence interval bootstrap\n",
    "\n",
    "Coding a function to perform the bootstrap for a confidence interval is surprisingly simple!"
   ]
  },
  {
   "cell_type": "code",
   "execution_count": 10,
   "metadata": {
    "collapsed": false,
    "slideshow": {
     "slide_type": "fragment"
    }
   },
   "outputs": [],
   "source": [
    "def mean_ci_bootstrap(sample, confidence, iterations):\n",
    "    upper_ci = 100 - (100 - confidence)/2.\n",
    "    lower_ci = (100 - confidence)/2.\n",
    "    print upper_ci, lower_ci\n",
    "    \n",
    "    subsamples = [np.random.choice(sample, size=len(sample), replace=True) for i in range(iterations)]\n",
    "    means = [np.mean(subsample) for subsample in subsamples]\n",
    "    \n",
    "    upper_ci_value = np.mean([np.percentile(subsample, upper_ci) for subsample in subsamples])\n",
    "    lower_ci_value = np.mean([np.percentile(subsamples, lower_ci) for subsample in subsamples])\n",
    "    mean_of_means = np.mean(means)\n",
    "    \n",
    "    return([mean_of_means, upper_ci_value, lower_ci_value])\n",
    "    "
   ]
  },
  {
   "cell_type": "code",
   "execution_count": 11,
   "metadata": {
    "collapsed": false,
    "slideshow": {
     "slide_type": "subslide"
    }
   },
   "outputs": [
    {
     "name": "stdout",
     "output_type": "stream",
     "text": [
      "97.5 2.5\n",
      "Mean: 49.8177001956\n",
      "Bootstrapped mean: 49.8394249477\n",
      "Upper 95% CI: 94.0272658159\n",
      "Lower 95% CI: 5.86640970426\n"
     ]
    }
   ],
   "source": [
    "random_vals = np.random.normal(50, 22.5, size=10000)\n",
    "[mean_of_means, upper_ci_value, lower_ci_value] = mean_ci_bootstrap(random_vals, 95, 100)\n",
    "sample_mean = np.mean(random_vals)\n",
    "\n",
    "print 'Mean:', sample_mean\n",
    "print 'Bootstrapped mean:', mean_of_means\n",
    "print 'Upper 95% CI:', upper_ci_value\n",
    "print 'Lower 95% CI:', lower_ci_value"
   ]
  },
  {
   "cell_type": "markdown",
   "metadata": {
    "collapsed": true,
    "slideshow": {
     "slide_type": "slide"
    }
   },
   "source": [
    "## Conclusion\n",
    "\n",
    "*You should be able now to defined:*\n",
    "\n",
    "- Define alpha level, aka level of significance\n",
    "- Define what null hypothesis means\n",
    "- Define what a p-value means\n",
    "- Define confidence intervals ..\n"
   ]
  },
  {
   "cell_type": "markdown",
   "metadata": {
    "collapsed": false,
    "slideshow": {
     "slide_type": "subslide"
    }
   },
   "source": [
    "*More fun with XKCD*\n",
    "\n",
    "- https://xkcd.com/892/\n",
    "- https://xkcd.com/882/"
   ]
  }
 ],
 "metadata": {
  "kernelspec": {
   "display_name": "Python 2",
   "language": "python",
   "name": "python2"
  },
  "language_info": {
   "codemirror_mode": {
    "name": "ipython",
    "version": 2
   },
   "file_extension": ".py",
   "mimetype": "text/x-python",
   "name": "python",
   "nbconvert_exporter": "python",
   "pygments_lexer": "ipython2",
   "version": "2.7.11"
  }
 },
 "nbformat": 4,
 "nbformat_minor": 0
}

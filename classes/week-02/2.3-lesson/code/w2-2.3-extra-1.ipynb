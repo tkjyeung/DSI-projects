{
 "cells": [
  {
   "cell_type": "code",
   "execution_count": 1,
   "metadata": {
    "collapsed": true
   },
   "outputs": [],
   "source": [
    "import pandas as pd\n",
    "import numpy as np\n",
    "%matplotlib inline"
   ]
  },
  {
   "cell_type": "code",
   "execution_count": 2,
   "metadata": {
    "collapsed": false
   },
   "outputs": [
    {
     "data": {
      "text/html": [
       "<div>\n",
       "<table border=\"1\" class=\"dataframe\">\n",
       "  <thead>\n",
       "    <tr style=\"text-align: right;\">\n",
       "      <th></th>\n",
       "      <th>A</th>\n",
       "      <th>B</th>\n",
       "      <th>B1</th>\n",
       "      <th>C</th>\n",
       "      <th>D</th>\n",
       "      <th>E</th>\n",
       "      <th>F</th>\n",
       "      <th>G</th>\n",
       "    </tr>\n",
       "  </thead>\n",
       "  <tbody>\n",
       "    <tr>\n",
       "      <th>0</th>\n",
       "      <td>0.930387</td>\n",
       "      <td>1</td>\n",
       "      <td>2</td>\n",
       "      <td>foo</td>\n",
       "      <td>2001-01-02</td>\n",
       "      <td>1.0</td>\n",
       "      <td>False</td>\n",
       "      <td>1</td>\n",
       "    </tr>\n",
       "    <tr>\n",
       "      <th>1</th>\n",
       "      <td>0.290025</td>\n",
       "      <td>1</td>\n",
       "      <td>3</td>\n",
       "      <td>foo</td>\n",
       "      <td>2001-01-02</td>\n",
       "      <td>1.0</td>\n",
       "      <td>False</td>\n",
       "      <td>1</td>\n",
       "    </tr>\n",
       "    <tr>\n",
       "      <th>2</th>\n",
       "      <td>0.480281</td>\n",
       "      <td>1</td>\n",
       "      <td>4</td>\n",
       "      <td>foo</td>\n",
       "      <td>2001-01-02</td>\n",
       "      <td>1.0</td>\n",
       "      <td>True</td>\n",
       "      <td>1</td>\n",
       "    </tr>\n",
       "  </tbody>\n",
       "</table>\n",
       "</div>"
      ],
      "text/plain": [
       "          A  B  B1    C          D    E      F  G\n",
       "0  0.930387  1   2  foo 2001-01-02  1.0  False  1\n",
       "1  0.290025  1   3  foo 2001-01-02  1.0  False  1\n",
       "2  0.480281  1   4  foo 2001-01-02  1.0   True  1"
      ]
     },
     "execution_count": 2,
     "metadata": {},
     "output_type": "execute_result"
    }
   ],
   "source": [
    "df = pd.DataFrame(dict(A = np.random.rand(3),\n",
    "                       B = 1,\n",
    "                       B1 = [2,3,4],\n",
    "                       C = 'foo',\n",
    "                       D = pd.Timestamp('20010102'),\n",
    "                       E = pd.Series([1.0]*3).astype('float32'),\n",
    "                       F = [False, False, True],\n",
    "                       G = pd.Series([1]*3,dtype='int8')))\n",
    "df"
   ]
  },
  {
   "cell_type": "code",
   "execution_count": 3,
   "metadata": {
    "collapsed": false
   },
   "outputs": [
    {
     "data": {
      "text/plain": [
       "numpy.int64"
      ]
     },
     "execution_count": 3,
     "metadata": {},
     "output_type": "execute_result"
    }
   ],
   "source": [
    "type(df[\"B\"][0])"
   ]
  },
  {
   "cell_type": "code",
   "execution_count": 4,
   "metadata": {
    "collapsed": false
   },
   "outputs": [
    {
     "data": {
      "text/plain": [
       "0    1.0\n",
       "1    2.0\n",
       "2    3.0\n",
       "3    4.0\n",
       "4    5.0\n",
       "5    6.0\n",
       "dtype: float64"
      ]
     },
     "execution_count": 4,
     "metadata": {},
     "output_type": "execute_result"
    }
   ],
   "source": [
    "s = pd.Series([1, 2, 3, 4, 5, 6.0])\n",
    "s"
   ]
  },
  {
   "cell_type": "code",
   "execution_count": 5,
   "metadata": {
    "collapsed": false
   },
   "outputs": [
    {
     "data": {
      "text/plain": [
       "numpy.float64"
      ]
     },
     "execution_count": 5,
     "metadata": {},
     "output_type": "execute_result"
    }
   ],
   "source": [
    "type(s[5])"
   ]
  },
  {
   "cell_type": "code",
   "execution_count": 6,
   "metadata": {
    "collapsed": false
   },
   "outputs": [
    {
     "data": {
      "text/plain": [
       "dtype('float64')"
      ]
     },
     "execution_count": 6,
     "metadata": {},
     "output_type": "execute_result"
    }
   ],
   "source": [
    "s.dtype"
   ]
  },
  {
   "cell_type": "code",
   "execution_count": 7,
   "metadata": {
    "collapsed": false
   },
   "outputs": [
    {
     "data": {
      "text/plain": [
       "bool              1\n",
       "datetime64[ns]    1\n",
       "float32           1\n",
       "float64           1\n",
       "int64             2\n",
       "int8              1\n",
       "object            1\n",
       "dtype: int64"
      ]
     },
     "execution_count": 7,
     "metadata": {},
     "output_type": "execute_result"
    }
   ],
   "source": [
    "df.get_dtype_counts()"
   ]
  },
  {
   "cell_type": "code",
   "execution_count": 8,
   "metadata": {
    "collapsed": false
   },
   "outputs": [
    {
     "data": {
      "text/html": [
       "<div>\n",
       "<table border=\"1\" class=\"dataframe\">\n",
       "  <thead>\n",
       "    <tr style=\"text-align: right;\">\n",
       "      <th></th>\n",
       "      <th>A</th>\n",
       "      <th>B</th>\n",
       "      <th>B1</th>\n",
       "      <th>C</th>\n",
       "      <th>D</th>\n",
       "      <th>E</th>\n",
       "      <th>G</th>\n",
       "    </tr>\n",
       "  </thead>\n",
       "  <tbody>\n",
       "    <tr>\n",
       "      <th>0</th>\n",
       "      <td>0.930387</td>\n",
       "      <td>1</td>\n",
       "      <td>2</td>\n",
       "      <td>foo</td>\n",
       "      <td>2001-01-02</td>\n",
       "      <td>1.0</td>\n",
       "      <td>1</td>\n",
       "    </tr>\n",
       "    <tr>\n",
       "      <th>1</th>\n",
       "      <td>0.290025</td>\n",
       "      <td>1</td>\n",
       "      <td>3</td>\n",
       "      <td>foo</td>\n",
       "      <td>2001-01-02</td>\n",
       "      <td>1.0</td>\n",
       "      <td>1</td>\n",
       "    </tr>\n",
       "    <tr>\n",
       "      <th>2</th>\n",
       "      <td>0.480281</td>\n",
       "      <td>1</td>\n",
       "      <td>4</td>\n",
       "      <td>foo</td>\n",
       "      <td>2001-01-02</td>\n",
       "      <td>1.0</td>\n",
       "      <td>1</td>\n",
       "    </tr>\n",
       "  </tbody>\n",
       "</table>\n",
       "</div>"
      ],
      "text/plain": [
       "          A  B  B1    C          D    E  G\n",
       "0  0.930387  1   2  foo 2001-01-02  1.0  1\n",
       "1  0.290025  1   3  foo 2001-01-02  1.0  1\n",
       "2  0.480281  1   4  foo 2001-01-02  1.0  1"
      ]
     },
     "execution_count": 8,
     "metadata": {},
     "output_type": "execute_result"
    }
   ],
   "source": [
    "df.select_dtypes(exclude=['bool'])"
   ]
  },
  {
   "cell_type": "code",
   "execution_count": 9,
   "metadata": {
    "collapsed": false
   },
   "outputs": [
    {
     "data": {
      "text/html": [
       "<div>\n",
       "<table border=\"1\" class=\"dataframe\">\n",
       "  <thead>\n",
       "    <tr style=\"text-align: right;\">\n",
       "      <th></th>\n",
       "      <th>a</th>\n",
       "      <th>b</th>\n",
       "      <th>c</th>\n",
       "      <th>d</th>\n",
       "    </tr>\n",
       "  </thead>\n",
       "  <tbody>\n",
       "    <tr>\n",
       "      <th>0</th>\n",
       "      <td>-0.442420</td>\n",
       "      <td>1.543443</td>\n",
       "      <td>-0.221369</td>\n",
       "      <td>-0.247316</td>\n",
       "    </tr>\n",
       "    <tr>\n",
       "      <th>1</th>\n",
       "      <td>-1.612099</td>\n",
       "      <td>0.287372</td>\n",
       "      <td>1.192713</td>\n",
       "      <td>2.200132</td>\n",
       "    </tr>\n",
       "    <tr>\n",
       "      <th>2</th>\n",
       "      <td>2.157470</td>\n",
       "      <td>-2.379663</td>\n",
       "      <td>-0.522366</td>\n",
       "      <td>-0.142476</td>\n",
       "    </tr>\n",
       "    <tr>\n",
       "      <th>3</th>\n",
       "      <td>2.422837</td>\n",
       "      <td>-0.403367</td>\n",
       "      <td>0.701673</td>\n",
       "      <td>0.371844</td>\n",
       "    </tr>\n",
       "    <tr>\n",
       "      <th>4</th>\n",
       "      <td>0.973648</td>\n",
       "      <td>-0.681176</td>\n",
       "      <td>-1.503070</td>\n",
       "      <td>0.268519</td>\n",
       "    </tr>\n",
       "  </tbody>\n",
       "</table>\n",
       "</div>"
      ],
      "text/plain": [
       "          a         b         c         d\n",
       "0 -0.442420  1.543443 -0.221369 -0.247316\n",
       "1 -1.612099  0.287372  1.192713  2.200132\n",
       "2  2.157470 -2.379663 -0.522366 -0.142476\n",
       "3  2.422837 -0.403367  0.701673  0.371844\n",
       "4  0.973648 -0.681176 -1.503070  0.268519"
      ]
     },
     "execution_count": 9,
     "metadata": {},
     "output_type": "execute_result"
    }
   ],
   "source": [
    "df = pd.DataFrame(np.random.randn(5, 4), columns=['a', 'b', 'c', 'd'])\n",
    "df"
   ]
  },
  {
   "cell_type": "code",
   "execution_count": 10,
   "metadata": {
    "collapsed": false
   },
   "outputs": [
    {
     "data": {
      "text/plain": [
       "a    0.699887\n",
       "b   -0.326678\n",
       "c   -0.070484\n",
       "d    0.490141\n",
       "dtype: float64"
      ]
     },
     "execution_count": 10,
     "metadata": {},
     "output_type": "execute_result"
    }
   ],
   "source": [
    "df.apply(np.mean)"
   ]
  },
  {
   "cell_type": "code",
   "execution_count": 11,
   "metadata": {
    "collapsed": false
   },
   "outputs": [],
   "source": [
    "def add_one(value):\n",
    "    return value + 1"
   ]
  },
  {
   "cell_type": "code",
   "execution_count": 12,
   "metadata": {
    "collapsed": false
   },
   "outputs": [
    {
     "data": {
      "text/html": [
       "<div>\n",
       "<table border=\"1\" class=\"dataframe\">\n",
       "  <thead>\n",
       "    <tr style=\"text-align: right;\">\n",
       "      <th></th>\n",
       "      <th>a</th>\n",
       "      <th>b</th>\n",
       "      <th>c</th>\n",
       "      <th>d</th>\n",
       "    </tr>\n",
       "  </thead>\n",
       "  <tbody>\n",
       "    <tr>\n",
       "      <th>0</th>\n",
       "      <td>0.557580</td>\n",
       "      <td>2.543443</td>\n",
       "      <td>0.778631</td>\n",
       "      <td>0.752684</td>\n",
       "    </tr>\n",
       "    <tr>\n",
       "      <th>1</th>\n",
       "      <td>-0.612099</td>\n",
       "      <td>1.287372</td>\n",
       "      <td>2.192713</td>\n",
       "      <td>3.200132</td>\n",
       "    </tr>\n",
       "    <tr>\n",
       "      <th>2</th>\n",
       "      <td>3.157470</td>\n",
       "      <td>-1.379663</td>\n",
       "      <td>0.477634</td>\n",
       "      <td>0.857524</td>\n",
       "    </tr>\n",
       "    <tr>\n",
       "      <th>3</th>\n",
       "      <td>3.422837</td>\n",
       "      <td>0.596633</td>\n",
       "      <td>1.701673</td>\n",
       "      <td>1.371844</td>\n",
       "    </tr>\n",
       "    <tr>\n",
       "      <th>4</th>\n",
       "      <td>1.973648</td>\n",
       "      <td>0.318824</td>\n",
       "      <td>-0.503070</td>\n",
       "      <td>1.268519</td>\n",
       "    </tr>\n",
       "  </tbody>\n",
       "</table>\n",
       "</div>"
      ],
      "text/plain": [
       "          a         b         c         d\n",
       "0  0.557580  2.543443  0.778631  0.752684\n",
       "1 -0.612099  1.287372  2.192713  3.200132\n",
       "2  3.157470 -1.379663  0.477634  0.857524\n",
       "3  3.422837  0.596633  1.701673  1.371844\n",
       "4  1.973648  0.318824 -0.503070  1.268519"
      ]
     },
     "execution_count": 12,
     "metadata": {},
     "output_type": "execute_result"
    }
   ],
   "source": [
    "df.applymap(add_one)"
   ]
  },
  {
   "cell_type": "code",
   "execution_count": 13,
   "metadata": {
    "collapsed": false
   },
   "outputs": [
    {
     "data": {
      "text/plain": [
       "array([9, 1, 6, 6, 3, 5, 5, 9, 7, 7, 2, 9, 7, 3, 1, 6, 1, 6, 0, 7, 8, 7, 0,\n",
       "       6, 8, 4, 0, 5, 5, 7, 8, 4, 6, 2, 2, 1, 2, 6, 2, 4, 3, 5, 3, 6, 0, 8,\n",
       "       5, 1, 8, 6, 2, 4, 0, 8, 9, 9, 5, 6, 2, 6, 6, 3, 2, 2, 7, 0, 0, 3, 6,\n",
       "       5, 6, 8, 8, 5, 1, 2, 7, 7, 4, 1, 1, 4, 6, 9, 7, 3, 5, 4, 4, 6, 8, 7,\n",
       "       7, 3, 8, 0, 2, 4, 4, 7, 0, 7, 1, 1, 4, 4, 5, 6, 2, 2, 6, 2, 6, 0, 5,\n",
       "       3, 8, 6, 3, 4, 2, 7, 6, 4, 8, 8, 4, 2, 6, 9, 4, 3, 0, 7, 5, 4, 1, 0,\n",
       "       4, 2, 7, 6, 2, 2, 7, 4, 7, 0, 2, 0, 2, 2, 7, 7, 5, 0, 7, 7, 6, 1, 5,\n",
       "       1, 8, 9, 5, 9, 0, 1, 8, 1, 0, 3, 0, 9, 2, 4, 6, 7, 5, 6, 1, 6, 5, 3,\n",
       "       5, 5, 5, 6, 6, 5, 9, 1, 8, 5, 6, 5, 9, 5, 6, 7, 3, 8, 7, 0, 2, 0, 8,\n",
       "       2, 1, 5, 5, 2, 2, 2, 5, 2, 1, 2, 9, 1, 3, 7, 2, 2, 4, 2, 4, 5, 4, 4,\n",
       "       8, 3, 1, 7, 5, 9, 6, 9, 9, 8, 5, 4, 1, 8, 0, 3, 2, 5, 3, 8, 0, 2, 2,\n",
       "       7, 1, 8, 4, 5, 7, 0, 1, 5, 0, 1, 8, 1, 4, 9, 7, 0, 5, 6, 9, 6, 2, 8,\n",
       "       7, 9, 6, 1, 7, 8, 1, 1, 9, 0, 3, 4, 0, 2, 3, 4, 6, 9, 2, 4, 2, 7, 3,\n",
       "       7, 3, 8, 5, 1, 2, 2, 8, 4, 2, 4, 4, 0, 9, 8, 5, 7, 7, 8, 5, 0, 3, 0,\n",
       "       3, 0, 0, 6, 9, 0, 4, 2, 2, 0, 3, 6, 5, 1, 0, 2, 7, 7, 6, 3, 3, 6, 8,\n",
       "       9, 8, 9, 4, 8, 3, 9, 0, 2, 3, 4, 8, 3, 6, 6, 4, 5, 0, 6, 5, 6, 9, 3,\n",
       "       4, 8, 5, 1, 4, 4, 4, 8, 5, 2, 9, 9, 4, 4, 9, 2, 8, 4, 1, 2, 8, 8, 3,\n",
       "       7, 4, 2, 2, 9, 8, 4, 4, 0, 1, 2, 0, 3, 9, 9, 1, 0, 1, 5, 1, 5, 9, 0,\n",
       "       7, 3, 9, 6, 0, 9, 4, 9, 8, 2, 7, 0, 1, 0, 1, 0, 3, 8, 7, 9, 5, 4, 5,\n",
       "       2, 5, 3, 3, 3, 7, 8, 7, 1, 6, 6, 8, 8, 5, 4, 3, 1, 3, 4, 6, 9, 7, 2,\n",
       "       7, 4, 1, 0, 0, 6, 5, 0, 1, 0, 8, 0, 9, 0, 1, 5, 8, 0, 5, 1, 1, 1, 9,\n",
       "       5, 9, 3, 9, 9, 3, 7, 8, 1, 1, 6, 1, 9, 7, 6, 4, 9, 9, 1, 5, 3, 8, 6,\n",
       "       7, 4, 6, 5, 1, 4, 8, 1, 1, 1, 0, 6, 5, 2, 1, 2, 7, 2, 6, 6, 1, 4, 6,\n",
       "       9, 6, 0, 3, 1, 7, 0, 3, 1, 7, 5, 5, 2, 2, 1, 2, 4, 6, 8, 7, 5, 3, 3,\n",
       "       3, 2, 5, 1, 1, 4, 2, 3, 2, 4, 1, 1, 1, 1, 8, 8, 8, 5, 5, 3, 5, 6, 8,\n",
       "       6, 2, 4, 4, 6, 5, 1, 8, 8, 9, 3, 9, 6, 3, 4, 8, 8, 3, 2, 7, 5, 1, 2,\n",
       "       1, 7, 2, 3, 6, 6, 9, 9, 2, 9, 1, 9, 2, 4, 2, 0, 8, 2, 4, 3, 3, 8, 1,\n",
       "       3, 8, 6, 0, 6, 9, 7, 9, 1, 1, 6, 9, 3, 4, 9, 7, 6, 1, 0, 9, 1, 7, 0,\n",
       "       8, 8, 6, 6, 7, 2, 8, 3, 3, 7, 5, 2, 3, 0, 3, 4, 5, 5, 4, 9, 3, 5, 1,\n",
       "       7, 7, 7, 3, 2, 5, 2, 1, 0, 5, 7, 0, 9, 9, 3, 2, 7, 9, 9, 2, 3, 5, 9,\n",
       "       6, 8, 6, 7, 5, 2, 7, 0, 8, 9, 7, 1, 7, 7, 6, 2, 3, 2, 9, 8, 5, 5, 5,\n",
       "       6, 6, 2, 8, 3, 6, 9, 8, 0, 9, 1, 3, 6, 5, 2, 6, 5, 9, 6, 1, 4, 1, 4,\n",
       "       6, 8, 7, 2, 8, 3, 5, 4, 0, 7, 0, 3, 5, 4, 9, 1, 7, 2, 5, 2, 0, 6, 9,\n",
       "       2, 7, 0, 1, 8, 1, 5, 2, 0, 8, 8, 7, 4, 8, 4, 7, 7, 6, 3, 8, 8, 7, 0,\n",
       "       3, 4, 6, 7, 6, 0, 4, 1, 6, 0, 2, 1, 2, 6, 4, 6, 5, 1, 3, 7, 0, 5, 4,\n",
       "       0, 2, 2, 5, 4, 6, 5, 4, 9, 7, 0, 5, 5, 0, 8, 0, 6, 0, 9, 9, 2, 0, 5,\n",
       "       5, 6, 2, 8, 0, 1, 1, 7, 6, 3, 7, 5, 3, 6, 0, 3, 1, 4, 1, 8, 8, 5, 1,\n",
       "       0, 8, 6, 0, 6, 0, 1, 3, 0, 0, 1, 7, 3, 2, 8, 4, 7, 4, 1, 5, 0, 2, 2,\n",
       "       5, 9, 3, 9, 0, 0, 8, 8, 4, 0, 9, 3, 4, 2, 5, 1, 8, 7, 1, 3, 1, 2, 4,\n",
       "       8, 3, 5, 8, 1, 2, 3, 3, 8, 4, 3, 1, 1, 0, 4, 6, 9, 7, 7, 4, 8, 6, 1,\n",
       "       5, 1, 3, 9, 9, 2, 7, 1, 5, 9, 9, 1, 6, 0, 5, 2, 4, 1, 2, 7, 8, 8, 9,\n",
       "       3, 8, 8, 2, 5, 6, 7, 0, 1, 9, 6, 6, 5, 1, 6, 7, 4, 2, 7, 6, 7, 8, 1,\n",
       "       1, 5, 0, 0, 7, 4, 8, 6, 5, 3, 3, 6, 6, 6, 2, 7, 7, 6, 5, 5, 2, 9, 9,\n",
       "       9, 6, 7, 3, 9, 9, 2, 1, 4, 3, 9])"
      ]
     },
     "execution_count": 13,
     "metadata": {},
     "output_type": "execute_result"
    }
   ],
   "source": [
    "data = np.random.randint(0, 10, size = 1000)\n",
    "data"
   ]
  },
  {
   "cell_type": "code",
   "execution_count": 14,
   "metadata": {
    "collapsed": false
   },
   "outputs": [
    {
     "data": {
      "text/plain": [
       "0      9\n",
       "1      1\n",
       "2      6\n",
       "3      6\n",
       "4      3\n",
       "5      5\n",
       "6      5\n",
       "7      9\n",
       "8      7\n",
       "9      7\n",
       "10     2\n",
       "11     9\n",
       "12     7\n",
       "13     3\n",
       "14     1\n",
       "15     6\n",
       "16     1\n",
       "17     6\n",
       "18     0\n",
       "19     7\n",
       "20     8\n",
       "21     7\n",
       "22     0\n",
       "23     6\n",
       "24     8\n",
       "25     4\n",
       "26     0\n",
       "27     5\n",
       "28     5\n",
       "29     7\n",
       "      ..\n",
       "970    7\n",
       "971    4\n",
       "972    8\n",
       "973    6\n",
       "974    5\n",
       "975    3\n",
       "976    3\n",
       "977    6\n",
       "978    6\n",
       "979    6\n",
       "980    2\n",
       "981    7\n",
       "982    7\n",
       "983    6\n",
       "984    5\n",
       "985    5\n",
       "986    2\n",
       "987    9\n",
       "988    9\n",
       "989    9\n",
       "990    6\n",
       "991    7\n",
       "992    3\n",
       "993    9\n",
       "994    9\n",
       "995    2\n",
       "996    1\n",
       "997    4\n",
       "998    3\n",
       "999    9\n",
       "dtype: int64"
      ]
     },
     "execution_count": 14,
     "metadata": {},
     "output_type": "execute_result"
    }
   ],
   "source": [
    "rseries = pd.Series(data)\n",
    "rseries"
   ]
  },
  {
   "cell_type": "code",
   "execution_count": 15,
   "metadata": {
    "collapsed": false
   },
   "outputs": [
    {
     "data": {
      "text/plain": [
       "1    111\n",
       "6    109\n",
       "2    109\n",
       "5    105\n",
       "7     99\n",
       "8     97\n",
       "0     95\n",
       "4     92\n",
       "3     92\n",
       "9     91\n",
       "dtype: int64"
      ]
     },
     "execution_count": 15,
     "metadata": {},
     "output_type": "execute_result"
    }
   ],
   "source": [
    "rseries.value_counts()"
   ]
  },
  {
   "cell_type": "code",
   "execution_count": 16,
   "metadata": {
    "collapsed": false
   },
   "outputs": [
    {
     "data": {
      "text/plain": [
       "count    1000.000000\n",
       "mean        4.440000\n",
       "std         2.849653\n",
       "min         0.000000\n",
       "25%         2.000000\n",
       "50%         5.000000\n",
       "75%         7.000000\n",
       "max         9.000000\n",
       "dtype: float64"
      ]
     },
     "execution_count": 16,
     "metadata": {},
     "output_type": "execute_result"
    }
   ],
   "source": [
    "rseries.describe()"
   ]
  },
  {
   "cell_type": "code",
   "execution_count": 17,
   "metadata": {
    "collapsed": false
   },
   "outputs": [
    {
     "data": {
      "text/plain": [
       "<matplotlib.axes._subplots.AxesSubplot at 0x1121094d0>"
      ]
     },
     "execution_count": 17,
     "metadata": {},
     "output_type": "execute_result"
    },
    {
     "data": {
      "image/png": "[encoded data removed]",
      "text/plain": [
       "<matplotlib.figure.Figure at 0x112065290>"
      ]
     },
     "metadata": {},
     "output_type": "display_data"
    }
   ],
   "source": [
    "rseries.hist()"
   ]
  },
  {
   "cell_type": "code",
   "execution_count": null,
   "metadata": {
    "collapsed": true
   },
   "outputs": [],
   "source": []
  }
 ],
 "metadata": {
  "kernelspec": {
   "display_name": "Python 2",
   "language": "python",
   "name": "python2"
  },
  "language_info": {
   "codemirror_mode": {
    "name": "ipython",
    "version": 2
   },
   "file_extension": ".py",
   "mimetype": "text/x-python",
   "name": "python",
   "nbconvert_exporter": "python",
   "pygments_lexer": "ipython2",
   "version": "2.7.11"
  }
 },
 "nbformat": 4,
 "nbformat_minor": 0
}

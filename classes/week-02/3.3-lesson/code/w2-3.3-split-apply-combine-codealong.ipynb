{
 "cells": [
  {
   "cell_type": "markdown",
   "metadata": {},
   "source": [
    "# 3.3: Split-apply-combine in pandas\n",
    "\n",
    "Now that we are (somewhat) comfortable with transformation of data between wide and long, we can get into another very powerful pandas feature known as split-apply-combine.\n",
    "\n",
    "---\n",
    "\n",
    "## Dataset\n",
    "\n",
    "We will again be using the dataset measuring \"Machiavellianism\" in people.\n",
    "\n",
    "The three files are in your ```../assets/datasets/``` directory. They are:\n",
    "\n",
    "- ```mach_data.csv``` which contains the wide data.\n",
    "- ```mach_long.csv``` which contains the already long data.\n",
    "- ```mach_codebook.csv``` which contains the information about the survey data.\n",
    "\n",
    "---\n",
    "\n",
    "## Packages\n",
    "\n",
    "Loaded same as ever."
   ]
  },
  {
   "cell_type": "code",
   "execution_count": null,
   "metadata": {
    "collapsed": true
   },
   "outputs": [],
   "source": [
    "# data modules\n",
    "import numpy as np\n",
    "import scipy.stats as stats\n",
    "import pandas as pd\n",
    "\n",
    "# plotting modules\n",
    "import matplotlib.pyplot as plt\n",
    "import seaborn as sns\n",
    "\n",
    "# make sure charts appear in the notebook:\n",
    "%matplotlib inline"
   ]
  },
  {
   "cell_type": "markdown",
   "metadata": {},
   "source": [
    "---\n",
    "\n",
    "## A: Load the already widened data\n",
    "\n",
    "I have already widened the data for you here in the interest of time. You can see how I get started on the bonus 2 question below as well.\n",
    "\n",
    "If you would like to do the melting part yourself for practice, be my guest! The more practice the better. If doing it yourself you would instead load the ```mach_data.csv``` file again."
   ]
  },
  {
   "cell_type": "code",
   "execution_count": null,
   "metadata": {
    "collapsed": false
   },
   "outputs": [],
   "source": [
    "mach_long = pd.read_csv('../assets/datasets/mach_long.csv')\n",
    "mach_long.head()"
   ]
  },
  {
   "cell_type": "code",
   "execution_count": null,
   "metadata": {
    "collapsed": false
   },
   "outputs": [],
   "source": [
    "print mach_long.variable.unique()"
   ]
  },
  {
   "cell_type": "code",
   "execution_count": null,
   "metadata": {
    "collapsed": false
   },
   "outputs": [],
   "source": []
  },
  {
   "cell_type": "markdown",
   "metadata": {},
   "source": [
    "### A.2 : Sorting by multiple columns with custom sort for questions\n",
    "\n",
    "We are going to use ```pd.Categorical``` to custom-sort the questions after subject\n",
    "\n",
    "see:  http://stackoverflow.com/questions/13838405/custom-sorting-in-pandas-dataframe\n",
    "\n",
    "Look stuff up online!!"
   ]
  },
  {
   "cell_type": "code",
   "execution_count": null,
   "metadata": {
    "collapsed": false
   },
   "outputs": [],
   "source": []
  },
  {
   "cell_type": "markdown",
   "metadata": {},
   "source": [
    "### A.3: Adding the time by question by subject_id as a new value\n",
    "\n",
    "Merge the seconds data and the long data together. This is a preview to future lessons!"
   ]
  },
  {
   "cell_type": "code",
   "execution_count": null,
   "metadata": {
    "collapsed": false
   },
   "outputs": [],
   "source": []
  },
  {
   "cell_type": "markdown",
   "metadata": {},
   "source": [
    "### A.4 Doing a cumulative sum of the seconds\n",
    "\n",
    "Do a cumulative sum of the seconds by subject.\n",
    "\n",
    "This is an example of the split-apply-combine pattern. We will do more as well."
   ]
  },
  {
   "cell_type": "markdown",
   "metadata": {},
   "source": [
    "#### A.4.1: Split the data into groups by subject_id"
   ]
  },
  {
   "cell_type": "code",
   "execution_count": null,
   "metadata": {
    "collapsed": false
   },
   "outputs": [],
   "source": []
  },
  {
   "cell_type": "markdown",
   "metadata": {},
   "source": [
    "#### A.4.2: Apply the cumulative sum function, iterating through the groups\n",
    "\n",
    "the ```.transform()``` function on group objects requires a function as the argument."
   ]
  },
  {
   "cell_type": "code",
   "execution_count": null,
   "metadata": {
    "collapsed": false
   },
   "outputs": [],
   "source": []
  },
  {
   "cell_type": "code",
   "execution_count": null,
   "metadata": {
    "collapsed": false
   },
   "outputs": [],
   "source": []
  },
  {
   "cell_type": "code",
   "execution_count": null,
   "metadata": {
    "collapsed": true
   },
   "outputs": [],
   "source": []
  }
 ],
 "metadata": {
  "kernelspec": {
   "display_name": "Python 2",
   "language": "python",
   "name": "python2"
  },
  "language_info": {
   "codemirror_mode": {
    "name": "ipython",
    "version": 2
   },
   "file_extension": ".py",
   "mimetype": "text/x-python",
   "name": "python",
   "nbconvert_exporter": "python",
   "pygments_lexer": "ipython2",
   "version": "2.7.11"
  }
 },
 "nbformat": 4,
 "nbformat_minor": 0
}

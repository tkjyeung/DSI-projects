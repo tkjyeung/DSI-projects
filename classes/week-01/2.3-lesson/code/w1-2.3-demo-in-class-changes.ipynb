{
 "cells": [
  {
   "cell_type": "markdown",
   "metadata": {},
   "source": [
    "#### Basic for loop example"
   ]
  },
  {
   "cell_type": "code",
   "execution_count": 1,
   "metadata": {
    "collapsed": false
   },
   "outputs": [
    {
     "name": "stdout",
     "output_type": "stream",
     "text": [
      "1\n",
      "Yes\n",
      "2\n",
      "YesYes\n",
      "3\n",
      "YesYesYes\n"
     ]
    }
   ],
   "source": [
    "for count in [1, 2, 3]: \n",
    "    print(count) \n",
    "    print('Yes' * count) "
   ]
  },
  {
   "cell_type": "markdown",
   "metadata": {},
   "source": [
    "#### Simple repeat loop "
   ]
  },
  {
   "cell_type": "code",
   "execution_count": 2,
   "metadata": {
    "collapsed": false
   },
   "outputs": [
    {
     "name": "stdout",
     "output_type": "stream",
     "text": [
      "Hello\n",
      "Hello\n",
      "Hello\n",
      "Hello\n",
      "Hello\n",
      "Hello\n",
      "Hello\n",
      "Hello\n",
      "Hello\n",
      "Hello\n"
     ]
    }
   ],
   "source": [
    "for i in range(10): \n",
    "    print('Hello')"
   ]
  },
  {
   "cell_type": "markdown",
   "metadata": {},
   "source": [
    "#### Using a for loop to go through the letters in a word"
   ]
  },
  {
   "cell_type": "code",
   "execution_count": 3,
   "metadata": {
    "collapsed": false
   },
   "outputs": [
    {
     "name": "stdout",
     "output_type": "stream",
     "text": [
      "c\n",
      "o\n",
      "m\n",
      "p\n",
      "u\n",
      "t\n",
      "e\n",
      "r\n"
     ]
    }
   ],
   "source": [
    "word = 'computer'\n",
    "for letter in word: \n",
    "    print letter"
   ]
  },
  {
   "cell_type": "markdown",
   "metadata": {},
   "source": [
    "#### Loop through a list"
   ]
  },
  {
   "cell_type": "code",
   "execution_count": 4,
   "metadata": {
    "collapsed": false
   },
   "outputs": [
    {
     "name": "stdout",
     "output_type": "stream",
     "text": [
      "columbia\n",
      "endeavour\n",
      "challenger\n",
      "discovery\n",
      "atlantis\n",
      "enterprise\n",
      "pathfinder\n"
     ]
    }
   ],
   "source": [
    "shuttles = ['columbia', 'endeavour', 'challenger', 'discovery', 'atlantis', 'enterprise', 'pathfinder' ]\n",
    "\n",
    "for s in shuttles: \n",
    "    print s"
   ]
  },
  {
   "cell_type": "code",
   "execution_count": 13,
   "metadata": {
    "collapsed": false
   },
   "outputs": [
    {
     "data": {
      "text/plain": [
       "['COLUMBIA',\n",
       " 'ENDEAVOUR',\n",
       " 'CHALLENGER',\n",
       " 'DISCOVERY',\n",
       " 'ATLANTIS',\n",
       " 'ENTERPRISE',\n",
       " 'PATHFINDER']"
      ]
     },
     "execution_count": 13,
     "metadata": {},
     "output_type": "execute_result"
    }
   ],
   "source": [
    "shuttle_uppercase = [shuttle.upper() for shuttle in shuttles]\n",
    "shuttle_uppercase"
   ]
  },
  {
   "cell_type": "code",
   "execution_count": 14,
   "metadata": {
    "collapsed": false
   },
   "outputs": [
    {
     "data": {
      "text/plain": [
       "True"
      ]
     },
     "execution_count": 14,
     "metadata": {},
     "output_type": "execute_result"
    }
   ],
   "source": [
    "shuttle_name = 'ColumBIA'\n",
    "shuttle_name.upper() in shuttle_uppercase"
   ]
  },
  {
   "cell_type": "code",
   "execution_count": 34,
   "metadata": {
    "collapsed": false
   },
   "outputs": [],
   "source": [
    "sentence = \"I like the Python, but It is so annoying as it gives me runtime errors all the time.\""
   ]
  },
  {
   "cell_type": "code",
   "execution_count": 35,
   "metadata": {
    "collapsed": false
   },
   "outputs": [
    {
     "data": {
      "text/plain": [
       "['I',\n",
       " 'like',\n",
       " 'the',\n",
       " 'Python,',\n",
       " 'but',\n",
       " 'It',\n",
       " 'is',\n",
       " 'so',\n",
       " 'annoying',\n",
       " 'as',\n",
       " 'it',\n",
       " 'gives',\n",
       " 'me',\n",
       " 'runtime',\n",
       " 'errors',\n",
       " 'all',\n",
       " 'the',\n",
       " 'time.']"
      ]
     },
     "execution_count": 35,
     "metadata": {},
     "output_type": "execute_result"
    }
   ],
   "source": [
    "sentence.split()\n"
   ]
  },
  {
   "cell_type": "code",
   "execution_count": 38,
   "metadata": {
    "collapsed": false
   },
   "outputs": [
    {
     "data": {
      "text/plain": [
       "{'all': 1,\n",
       " 'annoying': 1,\n",
       " 'as': 1,\n",
       " 'but': 1,\n",
       " 'errors': 1,\n",
       " 'gives': 1,\n",
       " 'i': 1,\n",
       " 'is': 1,\n",
       " 'it': 2,\n",
       " 'like': 1,\n",
       " 'me': 1,\n",
       " 'python,': 1,\n",
       " 'runtime': 1,\n",
       " 'so': 1,\n",
       " 'the': 2,\n",
       " 'time.': 1}"
      ]
     },
     "execution_count": 38,
     "metadata": {},
     "output_type": "execute_result"
    }
   ],
   "source": [
    "count_dict = {}\n",
    "\n",
    "for word in sentence.lower().split():\n",
    "\n",
    "    if word not in count_dict:\n",
    "        count_dict[word] = 1\n",
    "    else:\n",
    "        count_dict[word] += 1\n",
    "\n",
    "count_dict"
   ]
  },
  {
   "cell_type": "markdown",
   "metadata": {},
   "source": [
    "#### Create a counter using a while loop"
   ]
  },
  {
   "cell_type": "code",
   "execution_count": 39,
   "metadata": {
    "collapsed": false
   },
   "outputs": [
    {
     "name": "stdout",
     "output_type": "stream",
     "text": [
      "0\n",
      "1\n",
      "2\n",
      "3\n",
      "4\n"
     ]
    }
   ],
   "source": [
    "count = 0\n",
    "while count < 5: \n",
    "    print count\n",
    "    count += count + 1  \n",
    "    # count += 1 "
   ]
  },
  {
   "cell_type": "markdown",
   "metadata": {},
   "source": [
    "#### Another counter using a while loop"
   ]
  },
  {
   "cell_type": "code",
   "execution_count": 42,
   "metadata": {
    "collapsed": false
   },
   "outputs": [
    {
     "name": "stdout",
     "output_type": "stream",
     "text": [
      "1\n",
      "2\n",
      "3\n",
      "4\n",
      "5\n",
      "6\n",
      "7\n",
      "8\n",
      "9\n",
      "10\n"
     ]
    }
   ],
   "source": [
    "a = 0\n",
    "while a < 10:\n",
    "    a = a + 1\n",
    "    print a"
   ]
  },
  {
   "cell_type": "markdown",
   "metadata": {},
   "source": [
    "#### This while loop will stop when the user types \"stop\""
   ]
  },
  {
   "cell_type": "code",
   "execution_count": 43,
   "metadata": {
    "collapsed": false
   },
   "outputs": [
    {
     "name": "stdout",
     "output_type": "stream",
     "text": [
      "Enter text, [type \"stop\" to quit]: Hello!\n",
      "hello!\n",
      "Enter text, [type \"stop\" to quit]: goodbye\n",
      "goodbye\n",
      "Enter text, [type \"stop\" to quit]: lhkjfh\n",
      "lhkjfh\n",
      "Enter text, [type \"stop\" to quit]: hkjfdhgd\n",
      "hkjfdhgd\n",
      "Enter text, [type \"stop\" to quit]: hjlfdkjhgdf stop\n",
      "hjlfdkjhgdf stop\n",
      "Enter text, [type \"stop\" to quit]: STOP\n",
      "stop\n",
      "Enter text, [type \"stop\" to quit]: stop\n",
      "stop\n"
     ]
    }
   ],
   "source": [
    "while True:\n",
    "    reply = raw_input('Enter text, [type \"stop\" to quit]: ')\n",
    "    print reply.lower()\n",
    "    if reply == 'stop':\n",
    "        break"
   ]
  },
  {
   "cell_type": "code",
   "execution_count": null,
   "metadata": {
    "collapsed": true
   },
   "outputs": [],
   "source": []
  }
 ],
 "metadata": {
  "kernelspec": {
   "display_name": "Python 2",
   "language": "python",
   "name": "python2"
  },
  "language_info": {
   "codemirror_mode": {
    "name": "ipython",
    "version": 2
   },
   "file_extension": ".py",
   "mimetype": "text/x-python",
   "name": "python",
   "nbconvert_exporter": "python",
   "pygments_lexer": "ipython2",
   "version": "2.7.11"
  }
 },
 "nbformat": 4,
 "nbformat_minor": 0
}

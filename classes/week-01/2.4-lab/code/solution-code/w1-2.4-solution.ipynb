{
 "cells": [
  {
   "cell_type": "markdown",
   "metadata": {},
   "source": [
    "#### Dictionary of movies"
   ]
  },
  {
   "cell_type": "code",
   "execution_count": 1,
   "metadata": {
    "collapsed": false
   },
   "outputs": [],
   "source": [
    "movies = [{\"name\": \"Usual Suspects\", \n",
    "             \"imdb\": 7.0,\n",
    "             \"category\": \"Thriller\"\n",
    "          },\n",
    "          {\"name\": \"Hitman\",\n",
    "           \"imdb\": 6.3,\n",
    "           \"category\": \"Action\"\n",
    "          },\n",
    "          {\"name\": \"Dark Knight\",\n",
    "           \"imdb\": 9.0,\n",
    "           \"category\": \"Adventure\"\n",
    "          },\n",
    "          {\"name\": \"The Help\",\n",
    "           \"imdb\": 8.0,\n",
    "           \"category\": \"Drama\"\n",
    "          },\n",
    "          {\"name\": \"The Choice\",\n",
    "           \"imdb\": 6.2,\n",
    "           \"category\": \"Romance\"\n",
    "          },\n",
    "          {\"name\": \"Colonia\",\n",
    "           \"imdb\": 7.4,\n",
    "           \"category\": \"Romance\"\n",
    "          },\n",
    "          {\"name\": \"Love\",\n",
    "           \"imdb\": 6.0,\n",
    "           \"category\": \"Romance\"\n",
    "          },\n",
    "          {\"name\": \"Bride Wars\",\n",
    "           \"imdb\": 5.4,\n",
    "           \"category\": \"Romance\"\n",
    "          },\n",
    "          {\"name\": \"AlphaJet\",\n",
    "           \"imdb\": 3.2,\n",
    "           \"category\": \"War\"\n",
    "          },\n",
    "          {\"name\": \"Ringing Crime\",\n",
    "           \"imdb\": 4.0,\n",
    "           \"category\": \"Crime\"\n",
    "          },\n",
    "          {\"name\": \"Joking muck\",\n",
    "           \"imdb\": 7.2,\n",
    "           \"category\": \"Comedy\"\n",
    "          },\n",
    "          {\"name\": \"What is the name\",\n",
    "           \"imdb\": 9.2,\n",
    "           \"category\": \"Suspense\"\n",
    "          },\n",
    "          {\"name\": \"Detective\",\n",
    "           \"imdb\": 7.0,\n",
    "           \"category\": \"Suspense\"\n",
    "          },\n",
    "          {\"name\": \"Exam\",\n",
    "           \"imdb\": 4.2,\n",
    "           \"category\": \"Thriller\"\n",
    "          },\n",
    "          {\"name\": \"We Two\",\n",
    "           \"imdb\": 7.2,\n",
    "           \"category\": \"Romance\"\n",
    "          }\n",
    "         ]"
   ]
  },
  {
   "cell_type": "markdown",
   "metadata": {},
   "source": [
    "#### Write a function that takes a single movie and returns True if its IMDB score is above 5.5"
   ]
  },
  {
   "cell_type": "code",
   "execution_count": 2,
   "metadata": {
    "collapsed": false
   },
   "outputs": [],
   "source": [
    "def check_score_greater(movie): \n",
    "    if movie['imdb'] > 5.5:\n",
    "        return True\n",
    "    else:\n",
    "        return False\n",
    "    \n",
    "# solution could also be intepreted as \n",
    "\n",
    "def check_score_movie_in_list(list_of_movies, movie_name, score_threshold):\n",
    "    for movie in list_of_movies:\n",
    "        if movie['name'] == movie_name:\n",
    "            if movie['imdb'] > score_threshold:\n",
    "                return True\n",
    "            else:\n",
    "                return False\n",
    "    # Movie was not found\n",
    "    return None "
   ]
  },
  {
   "cell_type": "markdown",
   "metadata": {},
   "source": [
    "#### Could change movie title from Dark Knight to any other and change to the corresponding element from 2 to whichever movie you want to see is above 5.5 or not\n"
   ]
  },
  {
   "cell_type": "code",
   "execution_count": 3,
   "metadata": {
    "collapsed": false
   },
   "outputs": [
    {
     "name": "stdout",
     "output_type": "stream",
     "text": [
      "\n",
      "Checking if Dark Knight is greater than 5.5\n",
      "\n",
      "True\n",
      "True\n"
     ]
    }
   ],
   "source": [
    "print ''\n",
    "print 'Checking if Dark Knight is greater than 5.5'\n",
    "print ''\n",
    "print check_score_greater(movies[2])\n",
    "\n",
    "# or\n",
    "\n",
    "print check_score_movie_in_list(movies, \"Dark Knight\", 5.5)"
   ]
  },
  {
   "cell_type": "markdown",
   "metadata": {},
   "source": [
    "#### Write a function that returns a sublist of movies with an IMDB score above 5.5. "
   ]
  },
  {
   "cell_type": "code",
   "execution_count": 4,
   "metadata": {
    "collapsed": false
   },
   "outputs": [
    {
     "name": "stdout",
     "output_type": "stream",
     "text": [
      "\n",
      "List of movies with an IMDB score > 5.5: \n",
      "\n",
      "[{'category': 'Thriller', 'imdb': 7.0, 'name': 'Usual Suspects'}, {'category': 'Action', 'imdb': 6.3, 'name': 'Hitman'}, {'category': 'Adventure', 'imdb': 9.0, 'name': 'Dark Knight'}, {'category': 'Drama', 'imdb': 8.0, 'name': 'The Help'}, {'category': 'Romance', 'imdb': 6.2, 'name': 'The Choice'}, {'category': 'Romance', 'imdb': 7.4, 'name': 'Colonia'}, {'category': 'Romance', 'imdb': 6.0, 'name': 'Love'}, {'category': 'Comedy', 'imdb': 7.2, 'name': 'Joking muck'}, {'category': 'Suspense', 'imdb': 9.2, 'name': 'What is the name'}, {'category': 'Suspense', 'imdb': 7.0, 'name': 'Detective'}, {'category': 'Romance', 'imdb': 7.2, 'name': 'We Two'}]\n"
     ]
    }
   ],
   "source": [
    "def sub_list_movies_high_score(movies): \n",
    "    out_list = [];\n",
    "    for curr_movie in movies:\n",
    "        if curr_movie['imdb'] > 5.5:\n",
    "            out_list.append(curr_movie)\n",
    "    return out_list\n",
    "\n",
    "# Using list comprehensions\n",
    "def sub_list_movies_high_score_simpler(movies): \n",
    "    return [movie for movie in movies if movie['imdb'] > 5.5]\n",
    "\n",
    "print ''\n",
    "print 'List of movies with an IMDB score > 5.5: '\n",
    "print ''\n",
    "print sub_list_movies_high_score(movies)"
   ]
  },
  {
   "cell_type": "markdown",
   "metadata": {},
   "source": [
    "#### Write a function that takes a category name and returns just those movies under that category."
   ]
  },
  {
   "cell_type": "code",
   "execution_count": 5,
   "metadata": {
    "collapsed": false
   },
   "outputs": [
    {
     "name": "stdout",
     "output_type": "stream",
     "text": [
      "\n",
      "Movies in the Thriller are: \n",
      "\n",
      "[{'category': 'Thriller', 'imdb': 7.0, 'name': 'Usual Suspects'}, {'category': 'Thriller', 'imdb': 4.2, 'name': 'Exam'}]\n"
     ]
    }
   ],
   "source": [
    "def return_movie_category(movies, cat_name): \n",
    "    out_list = []\n",
    "    for i in movies:\n",
    "        if cat_name.lower() == i['category'].lower():\n",
    "            out_list.append(i)\n",
    "    return out_list\n",
    "\n",
    "# with list comprehensions \n",
    "def return_movie_category_simplet(movies, cat_name): \n",
    "    return [movie for movie in movies if movie['category'] == cat_name]\n",
    "\n",
    "# You could change to any category you'd like\n",
    "print ''\n",
    "print 'Movies in the Thriller are: '\n",
    "print ''\n",
    "out_list = return_movie_category(movies, 'Thriller')\n",
    "print out_list"
   ]
  },
  {
   "cell_type": "markdown",
   "metadata": {},
   "source": [
    "#### Write a function that takes a list of movies and computes the average IMDB score."
   ]
  },
  {
   "cell_type": "code",
   "execution_count": 6,
   "metadata": {
    "collapsed": false
   },
   "outputs": [
    {
     "name": "stdout",
     "output_type": "stream",
     "text": [
      "\n",
      "Average IMDB score of all the movies is: \n",
      "6.48666666667\n"
     ]
    }
   ],
   "source": [
    "def avg_imdb_score(movies): \n",
    "    if len(movies) == 0:\n",
    "        return None\n",
    "    \n",
    "    sum_scores = 0.0\n",
    "    for movie in movies:\n",
    "        sum_scores += movie['imdb']\n",
    "\n",
    "    return sum_scores / len(movies)\n",
    "\n",
    "# or\n",
    "\n",
    "def avg_imdb_score(movies): \n",
    "    if len(movies) == 0:\n",
    "        return None\n",
    "    \n",
    "    list_scores = [movie['imdb'] for movie in movies]\n",
    "    return sum(list_scores)/float(len(movies))\n",
    "    \n",
    "    \n",
    "    \n",
    "\n",
    "print ''\n",
    "print 'Average IMDB score of all the movies is: '\n",
    "s1 = avg_imdb_score(movies)\n",
    "print s1"
   ]
  },
  {
   "cell_type": "markdown",
   "metadata": {},
   "source": [
    "#### Write a function that takes a category and computes the average IMDB score (HINT: reuse the function from question 2.)"
   ]
  },
  {
   "cell_type": "code",
   "execution_count": 7,
   "metadata": {
    "collapsed": false
   },
   "outputs": [
    {
     "name": "stdout",
     "output_type": "stream",
     "text": [
      "\n",
      "Average IMDB of movies in the Thriller category is: \n",
      "5.6\n"
     ]
    }
   ],
   "source": [
    "def avg_imdb_acc_to_cat(movies, cat_name): \n",
    "    cat_movies = return_movie_category(movies, cat_name)\n",
    "    avg_score = avg_imdb_score(cat_movies)\n",
    "    return avg_score\n",
    "\n",
    "print ''\n",
    "print 'Average IMDB of movies in the Thriller category is: '\n",
    "s2 = avg_imdb_acc_to_cat(movies,'Thriller')\n",
    "print s2"
   ]
  }
 ],
 "metadata": {
  "kernelspec": {
   "display_name": "Python 2",
   "language": "python",
   "name": "python2"
  },
  "language_info": {
   "codemirror_mode": {
    "name": "ipython",
    "version": 2
   },
   "file_extension": ".py",
   "mimetype": "text/x-python",
   "name": "python",
   "nbconvert_exporter": "python",
   "pygments_lexer": "ipython2",
   "version": "2.7.11"
  }
 },
 "nbformat": 4,
 "nbformat_minor": 0
}

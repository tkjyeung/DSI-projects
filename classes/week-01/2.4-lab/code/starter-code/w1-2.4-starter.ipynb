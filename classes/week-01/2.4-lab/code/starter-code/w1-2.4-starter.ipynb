{
 "cells": [
  {
   "cell_type": "markdown",
   "metadata": {},
   "source": [
    "#### Dictionary of movies"
   ]
  },
  {
   "cell_type": "code",
   "execution_count": 1,
   "metadata": {
    "collapsed": false
   },
   "outputs": [],
   "source": [
    "movies = [{\"name\": \"Usual Suspects\", \n",
    "             \"imdb\": 7.0,\n",
    "             \"category\": \"Thriller\"\n",
    "          },\n",
    "          {\"name\": \"Hitman\",\n",
    "           \"imdb\": 6.3,\n",
    "           \"category\": \"Action\"\n",
    "          },\n",
    "          {\"name\": \"Dark Knight\",\n",
    "           \"imdb\": 9.0,\n",
    "           \"category\": \"Adventure\"\n",
    "          },\n",
    "          {\"name\": \"The Help\",\n",
    "           \"imdb\": 8.0,\n",
    "           \"category\": \"Drama\"\n",
    "          },\n",
    "          {\"name\": \"The Choice\",\n",
    "           \"imdb\": 6.2,\n",
    "           \"category\": \"Romance\"\n",
    "          },\n",
    "          {\"name\": \"Colonia\",\n",
    "           \"imdb\": 7.4,\n",
    "           \"category\": \"Romance\"\n",
    "          },\n",
    "          {\"name\": \"Love\",\n",
    "           \"imdb\": 6.0,\n",
    "           \"category\": \"Romance\"\n",
    "          },\n",
    "          {\"name\": \"Bride Wars\",\n",
    "           \"imdb\": 5.4,\n",
    "           \"category\": \"Romance\"\n",
    "          },\n",
    "          {\"name\": \"AlphaJet\",\n",
    "           \"imdb\": 3.2,\n",
    "           \"category\": \"War\"\n",
    "          },\n",
    "          {\"name\": \"Ringing Crime\",\n",
    "           \"imdb\": 4.0,\n",
    "           \"category\": \"Crime\"\n",
    "          },\n",
    "          {\"name\": \"Joking muck\",\n",
    "           \"imdb\": 7.2,\n",
    "           \"category\": \"Comedy\"\n",
    "          },\n",
    "          {\"name\": \"What is the name\",\n",
    "           \"imdb\": 9.2,\n",
    "           \"category\": \"Suspense\"\n",
    "          },\n",
    "          {\"name\": \"Detective\",\n",
    "           \"imdb\": 7.0,\n",
    "           \"category\": \"Suspense\"\n",
    "          },\n",
    "          {\"name\": \"Exam\",\n",
    "           \"imdb\": 4.2,\n",
    "           \"category\": \"Thriller\"\n",
    "          },\n",
    "          {\"name\": \"We Two\",\n",
    "           \"imdb\": 7.2,\n",
    "           \"category\": \"Romance\"\n",
    "          }\n",
    "         ]"
   ]
  },
  {
   "cell_type": "markdown",
   "metadata": {},
   "source": [
    "#### Write a function that takes a single movie and returns True if its IMDB score is above 5.5"
   ]
  },
  {
   "cell_type": "code",
   "execution_count": null,
   "metadata": {
    "collapsed": false
   },
   "outputs": [],
   "source": []
  },
  {
   "cell_type": "markdown",
   "metadata": {},
   "source": [
    "#### Could change movie title from Dark Knight to any other and change to the corresponding element from 2 to whichever movie you want to see is above 5.5 or not\n"
   ]
  },
  {
   "cell_type": "code",
   "execution_count": null,
   "metadata": {
    "collapsed": false
   },
   "outputs": [],
   "source": []
  },
  {
   "cell_type": "markdown",
   "metadata": {},
   "source": [
    "#### Write a function that returns a sublist of movies with an IMDB score above 5.5. "
   ]
  },
  {
   "cell_type": "code",
   "execution_count": null,
   "metadata": {
    "collapsed": false
   },
   "outputs": [],
   "source": [
    "\n"
   ]
  },
  {
   "cell_type": "markdown",
   "metadata": {},
   "source": [
    "#### Write a function that takes a category name and returns just those movies under that category."
   ]
  },
  {
   "cell_type": "code",
   "execution_count": null,
   "metadata": {
    "collapsed": false
   },
   "outputs": [],
   "source": []
  },
  {
   "cell_type": "markdown",
   "metadata": {},
   "source": [
    "#### Write a function that takes a list of movies and computes the average IMDB score."
   ]
  },
  {
   "cell_type": "code",
   "execution_count": null,
   "metadata": {
    "collapsed": false
   },
   "outputs": [],
   "source": []
  },
  {
   "cell_type": "markdown",
   "metadata": {},
   "source": [
    "#### Write a function that takes a category and computes the average IMDB score (HINT: reuse the function from question 2.)"
   ]
  },
  {
   "cell_type": "code",
   "execution_count": null,
   "metadata": {
    "collapsed": false
   },
   "outputs": [],
   "source": []
  }
 ],
 "metadata": {
  "kernelspec": {
   "display_name": "Python 2",
   "language": "python",
   "name": "python2"
  },
  "language_info": {
   "codemirror_mode": {
    "name": "ipython",
    "version": 2
   },
   "file_extension": ".py",
   "mimetype": "text/x-python",
   "name": "python",
   "nbconvert_exporter": "python",
   "pygments_lexer": "ipython2",
   "version": "2.7.11"
  }
 },
 "nbformat": 4,
 "nbformat_minor": 0
}

{
 "cells": [
  {
   "cell_type": "markdown",
   "metadata": {},
   "source": [
    "#### Write a function with one argument. Find the area of a square. "
   ]
  },
  {
   "cell_type": "code",
   "execution_count": 1,
   "metadata": {
    "collapsed": false
   },
   "outputs": [
    {
     "name": "stdout",
     "output_type": "stream",
     "text": [
      "The area of a square using a function with one argument (side 5) is: \n",
      "25\n",
      "\n"
     ]
    }
   ],
   "source": [
    "def areaSquare(side): \n",
    "    return side**2\n",
    "\n",
    "print 'The area of a square using a function with one argument (side 5) is: '\n",
    "area = areaSquare(5)\n",
    "print area\n",
    "print ''"
   ]
  },
  {
   "cell_type": "markdown",
   "metadata": {},
   "source": [
    "#### Write a function with two arguments. Find the area of a rectangle. "
   ]
  },
  {
   "cell_type": "code",
   "execution_count": 2,
   "metadata": {
    "collapsed": false
   },
   "outputs": [
    {
     "name": "stdout",
     "output_type": "stream",
     "text": [
      "The area of a rectangle using a function with two arguments (length 5 and breadth 6) is: \n",
      "30\n",
      "\n"
     ]
    }
   ],
   "source": [
    "\n",
    "def areaRect(length, breadth):\n",
    "    return length * breadth\n",
    "\n",
    "print 'The area of a rectangle using a function with two arguments (length 5 and breadth 6) is: '\n",
    "area = areaRect(5, 6)\n",
    "print area\n",
    "print ''"
   ]
  },
  {
   "cell_type": "markdown",
   "metadata": {},
   "source": [
    "#### Write a function with three arguments. Find the surface area of cuboid.\n",
    "\n",
    "Formula is:\n",
    "> _sfc = 2 x (lb + bh + lh)_"
   ]
  },
  {
   "cell_type": "code",
   "execution_count": 3,
   "metadata": {
    "collapsed": false
   },
   "outputs": [
    {
     "name": "stdout",
     "output_type": "stream",
     "text": [
      "The surface area of a cuboid using a function with three arguements (length 5, breadth 6, and height 7) is:\n",
      "214\n",
      "\n"
     ]
    }
   ],
   "source": [
    "def surfaceAreaCuboid(length, breadth, height): \n",
    "    area = 2*(length*breadth + breadth*height + length*height)\n",
    "    return area\n",
    "\n",
    "print 'The surface area of a cuboid using a function with three arguements (length 5, breadth 6, and height 7) is:'\n",
    "area=surfaceAreaCuboid(5, 6, 7)\n",
    "print area\n",
    "print ''"
   ]
  }
 ],
 "metadata": {
  "kernelspec": {
   "display_name": "Python 2",
   "language": "python",
   "name": "python2"
  },
  "language_info": {
   "codemirror_mode": {
    "name": "ipython",
    "version": 2
   },
   "file_extension": ".py",
   "mimetype": "text/x-python",
   "name": "python",
   "nbconvert_exporter": "python",
   "pygments_lexer": "ipython2",
   "version": "2.7.11"
  }
 },
 "nbformat": 4,
 "nbformat_minor": 0
}

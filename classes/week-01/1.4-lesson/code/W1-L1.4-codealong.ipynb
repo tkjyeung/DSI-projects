{
 "cells": [
  {
   "cell_type": "markdown",
   "metadata": {},
   "source": [
    "### Lists\n",
    "\n",
    "Practice creating and operating on lists"
   ]
  },
  {
   "cell_type": "markdown",
   "metadata": {},
   "source": [
    "##### L-1: make a list with these 5 friends\n",
    "\n",
    "'Curly', 'Moe', 'Larry', 'Tweedle Dee', 'Tweedle Dumb'"
   ]
  },
  {
   "cell_type": "code",
   "execution_count": 1,
   "metadata": {
    "collapsed": false
   },
   "outputs": [
    {
     "data": {
      "text/plain": [
       "['Curly', 'Moe', 'Larry', 'Tweedle Dee', 'Tweedle Dumb']"
      ]
     },
     "execution_count": 1,
     "metadata": {},
     "output_type": "execute_result"
    }
   ],
   "source": [
    "friends = ['Curly', 'Moe', 'Larry', 'Tweedle Dee', 'Tweedle Dumb']\n",
    "friends"
   ]
  },
  {
   "cell_type": "markdown",
   "metadata": {},
   "source": [
    "##### L-2: print the 3rd item of the friends list"
   ]
  },
  {
   "cell_type": "code",
   "execution_count": 2,
   "metadata": {
    "collapsed": false
   },
   "outputs": [
    {
     "name": "stdout",
     "output_type": "stream",
     "text": [
      "Larry\n"
     ]
    }
   ],
   "source": [
    "print friends[2]"
   ]
  },
  {
   "cell_type": "markdown",
   "metadata": {},
   "source": [
    "##### L-3: print the 3rd thru 5th elements of the friends list"
   ]
  },
  {
   "cell_type": "code",
   "execution_count": 3,
   "metadata": {
    "collapsed": false
   },
   "outputs": [
    {
     "data": {
      "text/plain": [
       "['Larry', 'Tweedle Dee', 'Tweedle Dumb']"
      ]
     },
     "execution_count": 3,
     "metadata": {},
     "output_type": "execute_result"
    }
   ],
   "source": [
    "friends[2:5]"
   ]
  },
  {
   "cell_type": "markdown",
   "metadata": {},
   "source": [
    "##### L-4: add 'Samwise' to the end of the friends list using .append()"
   ]
  },
  {
   "cell_type": "code",
   "execution_count": 4,
   "metadata": {
    "collapsed": false
   },
   "outputs": [
    {
     "data": {
      "text/plain": [
       "['Curly', 'Moe', 'Larry', 'Tweedle Dee', 'Tweedle Dumb', 'Samwise']"
      ]
     },
     "execution_count": 4,
     "metadata": {},
     "output_type": "execute_result"
    }
   ],
   "source": [
    "friends.append('Samwise')\n",
    "# sam = ['Samwise']\n",
    "# friends += sam\n",
    "friends"
   ]
  },
  {
   "cell_type": "markdown",
   "metadata": {},
   "source": [
    "##### L-5: add the list ['Bob', 'Joe'] to the friends list"
   ]
  },
  {
   "cell_type": "code",
   "execution_count": 5,
   "metadata": {
    "collapsed": false
   },
   "outputs": [
    {
     "data": {
      "text/plain": [
       "['Curly',\n",
       " 'Moe',\n",
       " 'Larry',\n",
       " 'Tweedle Dee',\n",
       " 'Tweedle Dumb',\n",
       " 'Samwise',\n",
       " 'Bob',\n",
       " 'Joe']"
      ]
     },
     "execution_count": 5,
     "metadata": {},
     "output_type": "execute_result"
    }
   ],
   "source": [
    "friends = friends + ['Bob', 'Joe']\n",
    "friends"
   ]
  },
  {
   "cell_type": "markdown",
   "metadata": {},
   "source": [
    "##### L-6: remove 'Sam' from the list with the .remove() function"
   ]
  },
  {
   "cell_type": "code",
   "execution_count": 6,
   "metadata": {
    "collapsed": false
   },
   "outputs": [
    {
     "data": {
      "text/plain": [
       "['Curly', 'Moe', 'Larry', 'Tweedle Dee', 'Tweedle Dumb', 'Bob', 'Joe']"
      ]
     },
     "execution_count": 6,
     "metadata": {},
     "output_type": "execute_result"
    }
   ],
   "source": [
    "friends.remove('Samwise')\n",
    "friends"
   ]
  },
  {
   "cell_type": "markdown",
   "metadata": {},
   "source": [
    "##### L-7: remove the first element of friends using del"
   ]
  },
  {
   "cell_type": "code",
   "execution_count": 7,
   "metadata": {
    "collapsed": false
   },
   "outputs": [
    {
     "data": {
      "text/plain": [
       "['Moe', 'Larry', 'Tweedle Dee', 'Tweedle Dumb', 'Bob', 'Joe']"
      ]
     },
     "execution_count": 7,
     "metadata": {},
     "output_type": "execute_result"
    }
   ],
   "source": [
    "del friends[0]\n",
    "friends"
   ]
  },
  {
   "cell_type": "markdown",
   "metadata": {},
   "source": [
    "### Dictionaries\n",
    "\n",
    "Create and operate on dictionaries"
   ]
  },
  {
   "cell_type": "markdown",
   "metadata": {},
   "source": [
    "##### D-1: Create the HK district dictionary\n",
    "\n",
    "With the following key:value pairs:\n",
    "\n",
    "    'Central and Western':248600\n",
    "    'Eastern':579400\n",
    "    'Southern':270500\n",
    "    'Wan Chai':150400\n",
    "    'Sham Shui Po':388300\n",
    "    'Kowloon City':402300\n",
    "    'Kwun Tong':639900\n",
    "    'Wong Tai Sin':424500\n",
    "    'Yau Tsim Mong':313600\n",
    "    'Kwai Tsing':501900\n",
    "    'North':303300\n",
    "    'Sai Kung':448600\n",
    "    'Sha Tin':648200\n",
    "    'Tai Po':302300\n",
    "    'Tsuen Wan':301600\n",
    "    'Tuen Mun':489000\n",
    "    'Yuen Long':595100"
   ]
  },
  {
   "cell_type": "code",
   "execution_count": 8,
   "metadata": {
    "collapsed": false
   },
   "outputs": [
    {
     "data": {
      "text/plain": [
       "{'Central and Western': 248600,\n",
       " 'Eastern': 579400,\n",
       " 'Kowloon City': 402300,\n",
       " 'Kwai Tsing': 501900,\n",
       " 'Kwun Tong': 639900,\n",
       " 'North': 303300,\n",
       " 'Sai Kung': 448600,\n",
       " 'Sha Tin': 648200,\n",
       " 'Sham Shui Po': 388300,\n",
       " 'Southern': 270500,\n",
       " 'Tai Po': 302300,\n",
       " 'Tsuen Wan': 301600,\n",
       " 'Tuen Mun': 489000,\n",
       " 'Wan Chai': 150400,\n",
       " 'Wong Tai Sin': 424500,\n",
       " 'Yau Tsim Mong': 313600,\n",
       " 'Yuen Long': 595100}"
      ]
     },
     "execution_count": 8,
     "metadata": {},
     "output_type": "execute_result"
    }
   ],
   "source": [
    "population = {'Central and Western':248600,\n",
    "             'Eastern':579400,\n",
    "             'Southern':270500,\n",
    "             'Wan Chai':150400,\n",
    "             'Sham Shui Po':388300,\n",
    "             'Kowloon City':402300,\n",
    "             'Kwun Tong':639900,\n",
    "             'Wong Tai Sin':424500,\n",
    "             'Yau Tsim Mong':313600,\n",
    "             'Kwai Tsing':501900,\n",
    "             'North':303300,\n",
    "             'Sai Kung':448600,\n",
    "             'Sha Tin':648200,\n",
    "             'Tai Po':302300,\n",
    "             'Tsuen Wan':301600,\n",
    "             'Tuen Mun':489000,\n",
    "             'Yuen Long':595100,    \n",
    "            }\n",
    "population"
   ]
  },
  {
   "cell_type": "markdown",
   "metadata": {},
   "source": [
    "##### D-2: access the population for Kowloon City and assign it to a variable"
   ]
  },
  {
   "cell_type": "code",
   "execution_count": 9,
   "metadata": {
    "collapsed": false
   },
   "outputs": [
    {
     "data": {
      "text/plain": [
       "402300"
      ]
     },
     "execution_count": 9,
     "metadata": {},
     "output_type": "execute_result"
    }
   ],
   "source": [
    "kowloon_city = population['Kowloon City']\n",
    "kowloon_city"
   ]
  },
  {
   "cell_type": "markdown",
   "metadata": {},
   "source": [
    "##### D-3: print out a list of the keys in population using .keys()"
   ]
  },
  {
   "cell_type": "code",
   "execution_count": 10,
   "metadata": {
    "collapsed": false
   },
   "outputs": [
    {
     "data": {
      "text/plain": [
       "['North',\n",
       " 'Eastern',\n",
       " 'Sha Tin',\n",
       " 'Sham Shui Po',\n",
       " 'Sai Kung',\n",
       " 'Kwai Tsing',\n",
       " 'Southern',\n",
       " 'Yuen Long',\n",
       " 'Wan Chai',\n",
       " 'Tai Po',\n",
       " 'Yau Tsim Mong',\n",
       " 'Tsuen Wan',\n",
       " 'Kowloon City',\n",
       " 'Tuen Mun',\n",
       " 'Central and Western',\n",
       " 'Kwun Tong',\n",
       " 'Wong Tai Sin']"
      ]
     },
     "execution_count": 10,
     "metadata": {},
     "output_type": "execute_result"
    }
   ],
   "source": [
    "population.keys()"
   ]
  },
  {
   "cell_type": "markdown",
   "metadata": {},
   "source": [
    "##### D-4: print out a list of the key:value pairs in population using .items()"
   ]
  },
  {
   "cell_type": "code",
   "execution_count": 11,
   "metadata": {
    "collapsed": false
   },
   "outputs": [
    {
     "data": {
      "text/plain": [
       "[('North', 303300),\n",
       " ('Eastern', 579400),\n",
       " ('Sha Tin', 648200),\n",
       " ('Sham Shui Po', 388300),\n",
       " ('Sai Kung', 448600),\n",
       " ('Kwai Tsing', 501900),\n",
       " ('Southern', 270500),\n",
       " ('Yuen Long', 595100),\n",
       " ('Wan Chai', 150400),\n",
       " ('Tai Po', 302300),\n",
       " ('Yau Tsim Mong', 313600),\n",
       " ('Tsuen Wan', 301600),\n",
       " ('Kowloon City', 402300),\n",
       " ('Tuen Mun', 489000),\n",
       " ('Central and Western', 248600),\n",
       " ('Kwun Tong', 639900),\n",
       " ('Wong Tai Sin', 424500)]"
      ]
     },
     "execution_count": 11,
     "metadata": {},
     "output_type": "execute_result"
    }
   ],
   "source": [
    "population.items()"
   ]
  },
  {
   "cell_type": "markdown",
   "metadata": {},
   "source": [
    "##### D-5: add 'Islands':144500 to the population dictionary"
   ]
  },
  {
   "cell_type": "code",
   "execution_count": 12,
   "metadata": {
    "collapsed": false
   },
   "outputs": [
    {
     "data": {
      "text/plain": [
       "{'Central and Western': 248600,\n",
       " 'Eastern': 579400,\n",
       " 'Islands': 144500,\n",
       " 'Kowloon City': 402300,\n",
       " 'Kwai Tsing': 501900,\n",
       " 'Kwun Tong': 639900,\n",
       " 'North': 303300,\n",
       " 'Sai Kung': 448600,\n",
       " 'Sha Tin': 648200,\n",
       " 'Sham Shui Po': 388300,\n",
       " 'Southern': 270500,\n",
       " 'Tai Po': 302300,\n",
       " 'Tsuen Wan': 301600,\n",
       " 'Tuen Mun': 489000,\n",
       " 'Wan Chai': 150400,\n",
       " 'Wong Tai Sin': 424500,\n",
       " 'Yau Tsim Mong': 313600,\n",
       " 'Yuen Long': 595100}"
      ]
     },
     "execution_count": 12,
     "metadata": {},
     "output_type": "execute_result"
    }
   ],
   "source": [
    "population['Islands'] = 144500\n",
    "population"
   ]
  },
  {
   "cell_type": "markdown",
   "metadata": {},
   "source": [
    "##### D-6: remove the North population with .pop() and assign it to a variable"
   ]
  },
  {
   "cell_type": "code",
   "execution_count": 13,
   "metadata": {
    "collapsed": false
   },
   "outputs": [
    {
     "name": "stdout",
     "output_type": "stream",
     "text": [
      "303300\n"
     ]
    },
    {
     "data": {
      "text/plain": [
       "{'Central and Western': 248600,\n",
       " 'Eastern': 579400,\n",
       " 'Islands': 144500,\n",
       " 'Kowloon City': 402300,\n",
       " 'Kwai Tsing': 501900,\n",
       " 'Kwun Tong': 639900,\n",
       " 'Sai Kung': 448600,\n",
       " 'Sha Tin': 648200,\n",
       " 'Sham Shui Po': 388300,\n",
       " 'Southern': 270500,\n",
       " 'Tai Po': 302300,\n",
       " 'Tsuen Wan': 301600,\n",
       " 'Tuen Mun': 489000,\n",
       " 'Wan Chai': 150400,\n",
       " 'Wong Tai Sin': 424500,\n",
       " 'Yau Tsim Mong': 313600,\n",
       " 'Yuen Long': 595100}"
      ]
     },
     "execution_count": 13,
     "metadata": {},
     "output_type": "execute_result"
    }
   ],
   "source": [
    "north = population.pop('North')\n",
    "\n",
    "# or do this\n",
    "# north = population['North']\n",
    "# del population['North']\n",
    "\n",
    "print north\n",
    "population"
   ]
  },
  {
   "cell_type": "code",
   "execution_count": null,
   "metadata": {
    "collapsed": true
   },
   "outputs": [],
   "source": []
  }
 ],
 "metadata": {
  "kernelspec": {
   "display_name": "Python 2",
   "language": "python",
   "name": "python2"
  },
  "language_info": {
   "codemirror_mode": {
    "name": "ipython",
    "version": 2
   },
   "file_extension": ".py",
   "mimetype": "text/x-python",
   "name": "python",
   "nbconvert_exporter": "python",
   "pygments_lexer": "ipython2",
   "version": "2.7.11"
  }
 },
 "nbformat": 4,
 "nbformat_minor": 0
}

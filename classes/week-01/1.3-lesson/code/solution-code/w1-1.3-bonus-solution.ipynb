{
 "cells": [
  {
   "cell_type": "markdown",
   "metadata": {
    "slideshow": {
     "slide_type": "slide"
    }
   },
   "source": [
    "# Alternate Code Challenges #1\n",
    "\n",
    "While the rest of the class learns about types, you've already known about types and have at least a basic level of experience working with Python.  We think there are plenty of algorithms and data structures that are important to know about, which are outside the scope of our class but fall under year 1-2 computer science fundamentals.  However, with these alternate exercises, we feel are at least somehow supportive of what you might find in job interviews and Python code challenges.\n",
    "\n",
    "These are completely **optional**, but if you are unable to complete these in the beginning, come back to them once you're ready.\n",
    "\n",
    "## Requirements\n",
    "For these challenges, you will need to have a basic working knowledge of Python and be comfortable with fundamental usage.  To get the most out of these exercises you should avoid using libraries (but feel free to use built-in types ie: zip()) as much as possible and try to construct solutions by hand as much as possible.  Also, if solutions are available, try not to peek to get the most out of this.  \n",
    "\n",
    "Feel free to search and use resources on the web but try to figure as much of these out with careful thought."
   ]
  },
  {
   "cell_type": "markdown",
   "metadata": {
    "slideshow": {
     "slide_type": "subslide"
    }
   },
   "source": [
    "## Optional Challenge 1 - Counting Types\n",
    "\n",
    "Given a list of mixed input, implement a method that counts types of elements (given a list) and reports the quantity of items found in the input.  Output can also be an object representation (ie: dictionary).\n",
    "\n",
    "**Input:**\n",
    "\n",
    "\n",
    "    [5, \"Foo\", (2, 4, 5, 100), {\"fox\": \"mammal\"}, False, True, 2.987, \"Bar\"]\n",
    "\n",
    "\n",
    "\n",
    "**Output:**\n",
    "\n",
    "    int: 1\n",
    "    float: 1\n",
    "    str: 2\n",
    "    tuple: 1\n",
    "    dict: 1\n",
    "    bool: 2\n"
   ]
  },
  {
   "cell_type": "code",
   "execution_count": 1,
   "metadata": {
    "collapsed": false,
    "slideshow": {
     "slide_type": "subslide"
    }
   },
   "outputs": [],
   "source": [
    "# Here's a bit of starter code to get you started:\n",
    "def count_types(input):\n",
    "    \n",
    "    # A dictionary is a great choice for this type of data problem\n",
    "    type_counts = {}\n",
    "    \n",
    "    for value in input:\n",
    "        \n",
    "        type_key = type(value)\n",
    "        \n",
    "        # We update the count of each type if it exists\n",
    "        if type_key in type_counts:\n",
    "            type_counts[type_key] += 1\n",
    "            \n",
    "            \n",
    "        # Or set the count to 1 if we've never seen the key type in the dictionary\n",
    "        else:\n",
    "            type_counts[type_key] = 1\n",
    "    \n",
    "    # This is sufficient to report the solution to the problem\n",
    "    # print type_counts\n",
    "\n",
    "    return type_counts # If we return, we can reuse this method for the 2nd challenege\n"
   ]
  },
  {
   "cell_type": "code",
   "execution_count": 2,
   "metadata": {
    "collapsed": false
   },
   "outputs": [
    {
     "name": "stdout",
     "output_type": "stream",
     "text": [
      "str: 4\n",
      "list: 1\n",
      "bool: 1\n",
      "NoneType: 1\n",
      "int: 5\n",
      "float: 3\n",
      "tuple: 1\n",
      "dict: 1\n"
     ]
    }
   ],
   "source": [
    "example_input = [\n",
    "    True, \n",
    "    5, \n",
    "    23.234, \n",
    "    3.55, \n",
    "    \"This is not a test\", \n",
    "    {\"steve\": \"jobs\"}, \n",
    "    (5, 23, 55), \n",
    "    max([1, 0, 1, 1]), \n",
    "    abs(-234), \n",
    "    (5 + 3.01), \n",
    "    \"\",\n",
    "    None,\n",
    "    [5] * 20,\n",
    "    \"343434\",\n",
    "    \"5\" + \"aaaaaa2\",\n",
    "    55 % 3,\n",
    "    5^2\n",
    "]\n",
    "\n",
    "ctypes = count_types(example_input)\n",
    "for k, v in ctypes.items():\n",
    "    print \"{}: {}\".format(k.__name__, v)"
   ]
  },
  {
   "cell_type": "markdown",
   "metadata": {
    "slideshow": {
     "slide_type": "slide"
    }
   },
   "source": [
    "## Optional Challenge 2 - Printing Max Type\n",
    "\n",
    "Given an list input of mixed element types (ie: *example_input*), print the most common type and count.  \n",
    "\n",
    "_If there are more than one common types, print both out._\n",
    "\n",
    "**Input:**\n",
    "\n",
    "    [5, \"Foo\", (2, 4, 5, 100), {\"fox\": \"mammal\"}, False, True, 2.987, \"Bar\"]\n",
    "    \n",
    "**Output:**\n",
    "\n",
    "    str: 2\n",
    "    bool: 2\n",
    "    \n",
    "    # String and boolean have the greatest count: 2"
   ]
  },
  {
   "cell_type": "code",
   "execution_count": 3,
   "metadata": {
    "collapsed": false,
    "slideshow": {
     "slide_type": "slide"
    }
   },
   "outputs": [
    {
     "name": "stdout",
     "output_type": "stream",
     "text": [
      "Max count is 5 for the following types: [<type 'int'>] \n",
      "\n",
      "int: 5\n"
     ]
    }
   ],
   "source": [
    "## Solution here\n",
    "\n",
    "value_counts = count_types(example_input)\n",
    "\n",
    "max_count = 0 \n",
    "max_types = []\n",
    "\n",
    "for type_key, value_count in value_counts.iteritems():\n",
    "    \n",
    "    if value_count > max_count:\n",
    "        max_count = value_count\n",
    "        max_types = [type_key]\n",
    "    elif value_count == max_count:\n",
    "        max_types.append(type_key)\n",
    "        \n",
    "print \"Max count is {count} for the following types: {types} \".format(count=max_count, types=max_types)\n",
    "print \n",
    "for mtype in max_types:\n",
    "    print \"{}: {}\".format(mtype.__name__, max_count)\n"
   ]
  },
  {
   "cell_type": "markdown",
   "metadata": {
    "slideshow": {
     "slide_type": "slide"
    }
   },
   "source": [
    "## Optional Challenge 3 - Intersection of Counts\n",
    "\n",
    "Given a 2 lists inputs with mixed element types, print types that have the same counts from each list. \n",
    "\n",
    "_If there are more than one common types, print both out._\n",
    "\n",
    "**Input:**\n",
    "\n",
    "    Input 1:  [5, \"Foo\", (2, 4, 5, 100), {\"monkey\": \"mammal\"}, False, True, 2.987, \"Bar\", {\"snake\": \"reptile\"}]\n",
    "    Input 2:  [\"335\", False, True, \"Maybe\", 105.3, {\"colour\": \"blue\"}, {234: \"value\"}]\n",
    "    \n",
    "**Output:**\n",
    "\n",
    "    strings: 2\n",
    "    booleans: 2\n",
    "    dictionaries: 2\n",
    "    floats: 1\n",
    "    \n",
    "\n",
    "** Explanation **\n",
    "* The first input has 1 int, **1 float**, **2 strings**, 1 tuple, **2 dictionaries**, **2 booleans**.\n",
    "* The second input as **2 strings**, **2 booleans**, **1 float**, **2 dictionaries**.\n",
    "* The quantities that match are **strings, booleans, dictionaries,** and **floats**.\n",
    "    \n",
    " "
   ]
  },
  {
   "cell_type": "code",
   "execution_count": 4,
   "metadata": {
    "collapsed": false,
    "slideshow": {
     "slide_type": "fragment"
    }
   },
   "outputs": [],
   "source": [
    "## Reuse example_input\n",
    "def count_matching_quantities(input1, input2):\n",
    "    \n",
    "    count_values_1 = count_types(input1)\n",
    "    count_values_2 = count_types(input2)\n",
    "    \n",
    "    # pure list solution\n",
    "    items_count_1 = count_values_1.items()\n",
    "    items_count_2 = count_values_2.items()\n",
    "\n",
    "    intersection_values = []\n",
    "\n",
    "    for item in items_count_1:\n",
    "        if item in items_count_2:\n",
    "            intersection_values.append(item)\n",
    "    \n",
    "    # best solution would use sets, like the following (1 line only)\n",
    "    # intersection_values = set(count_values_1.items()) & set(count_values_2.items())\n",
    "    \n",
    "    for k, v in intersection_values:\n",
    "        print \"{}: {}\".format(k.__name__, v)"
   ]
  },
  {
   "cell_type": "code",
   "execution_count": 5,
   "metadata": {
    "collapsed": false
   },
   "outputs": [
    {
     "name": "stdout",
     "output_type": "stream",
     "text": [
      "bool: 1\n",
      "dict: 1\n"
     ]
    }
   ],
   "source": [
    "# Same as previously\n",
    "example_input1 = [\n",
    "    True, \n",
    "    5, \n",
    "    23.234, \n",
    "    3.55, \n",
    "    \"This is not a test\", \n",
    "    {\"steve\": \"jobs\"}, \n",
    "    (5, 23, 55), \n",
    "    max([1, 0, 1, 1]), \n",
    "    abs(-234), \n",
    "    (5 + 3.01), \n",
    "    \"\",\n",
    "    None,\n",
    "    [5] * 20,\n",
    "    \"343434\",\n",
    "    \"5\" + \"aaaaaa2\",\n",
    "    55 % 3,\n",
    "    5^2\n",
    "]\n",
    "example_input2 = [\n",
    "    \"335\", \n",
    "    False, \n",
    "    \"Maybe\", \n",
    "    105.3, \n",
    "    {\"colour\": \"blue\"}, \n",
    "    4,\n",
    "    12345\n",
    "]\n",
    "\n",
    "count_matching_quantities(example_input1, example_input2)\n"
   ]
  },
  {
   "cell_type": "code",
   "execution_count": 6,
   "metadata": {
    "collapsed": false
   },
   "outputs": [
    {
     "name": "stdout",
     "output_type": "stream",
     "text": [
      "str: 2\n",
      "bool: 2\n",
      "float: 1\n",
      "dict: 2\n"
     ]
    }
   ],
   "source": [
    "i1=[5, \"Foo\", (2, 4, 5, 100), {\"monkey\": \"mammal\"}, False, True, 2.987, \"Bar\", {\"snake\": \"reptile\"}]\n",
    "i2=[\"335\", False, True, \"Maybe\", 105.3, {\"colour\": \"blue\"}, {234: \"value\"}]\n",
    "\n",
    "count_matching_quantities(i1, i2)"
   ]
  },
  {
   "cell_type": "code",
   "execution_count": null,
   "metadata": {
    "collapsed": true
   },
   "outputs": [],
   "source": []
  }
 ],
 "metadata": {
  "kernelspec": {
   "display_name": "Python 2",
   "language": "python",
   "name": "python2"
  },
  "language_info": {
   "codemirror_mode": {
    "name": "ipython",
    "version": 2
   },
   "file_extension": ".py",
   "mimetype": "text/x-python",
   "name": "python",
   "nbconvert_exporter": "python",
   "pygments_lexer": "ipython2",
   "version": "2.7.11"
  }
 },
 "nbformat": 4,
 "nbformat_minor": 0
}

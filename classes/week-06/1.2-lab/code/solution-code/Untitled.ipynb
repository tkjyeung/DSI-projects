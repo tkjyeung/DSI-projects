{
 "cells": [
  {
   "cell_type": "code",
   "execution_count": 9,
   "metadata": {
    "collapsed": true
   },
   "outputs": [],
   "source": [
    "# import pandas\n",
    "import pandas as pd\n",
    "import numpy as np\n",
    "import matplotlib.pyplot as plt\n",
    "%matplotlib inline\n",
    "\n",
    "# read in vehicle data\n",
    "vehicles = pd.read_csv('../../assets/datasets/used_cars.csv')"
   ]
  },
  {
   "cell_type": "code",
   "execution_count": 10,
   "metadata": {
    "collapsed": true
   },
   "outputs": [],
   "source": [
    "from sklearn import cross_validation, metrics\n",
    "from sklearn import tree"
   ]
  },
  {
   "cell_type": "code",
   "execution_count": 11,
   "metadata": {
    "collapsed": false
   },
   "outputs": [
    {
     "data": {
      "text/plain": [
       "0     0\n",
       "1     0\n",
       "2     0\n",
       "3     0\n",
       "4     0\n",
       "5     0\n",
       "6     0\n",
       "7     1\n",
       "8     0\n",
       "9     0\n",
       "10    1\n",
       "11    0\n",
       "12    1\n",
       "13    0\n",
       "Name: type, dtype: int64"
      ]
     },
     "execution_count": 11,
     "metadata": {},
     "output_type": "execute_result"
    }
   ],
   "source": [
    "vehicles['type'] = vehicles['type'].map({'car':0, 'truck':1})\n",
    "vehicles['type']"
   ]
  },
  {
   "cell_type": "code",
   "execution_count": 12,
   "metadata": {
    "collapsed": true
   },
   "outputs": [],
   "source": [
    "# X = vehicles.iloc[:,1:5]\n",
    "# X = vehicles[list(set(vehicles.columns)-set(['price']))]\n",
    "# X = vehicles[[col for col in vehicles.columns if col not in ['price']]]\n",
    "X = vehicles.drop('price', axis=1)\n",
    "y = vehicles.price"
   ]
  },
  {
   "cell_type": "code",
   "execution_count": 13,
   "metadata": {
    "collapsed": false
   },
   "outputs": [
    {
     "name": "stdout",
     "output_type": "stream",
     "text": [
      "1 -37871914.966\n",
      "2 -38643808.3333\n",
      "3 -34223560.1852\n",
      "4 -38705833.3333\n",
      "5 -35015666.6667\n",
      "6 -40594833.3333\n",
      "7 -34695666.6667\n",
      "8 -37718333.3333\n",
      "9 -34770833.3333\n",
      "10 -38812500.0\n"
     ]
    },
    {
     "data": {
      "text/plain": [
       "-34223560.185185187"
      ]
     },
     "execution_count": 13,
     "metadata": {},
     "output_type": "execute_result"
    }
   ],
   "source": [
    "cross_val_scores = []\n",
    "\n",
    "cv = cross_validation.KFold(len(y), n_folds=3, random_state=1)\n",
    "\n",
    "for depth in range(1, 11):\n",
    "    treereg = tree.DecisionTreeRegressor(max_depth=depth)\n",
    "    mse_score = np.mean(cross_validation.cross_val_score(treereg, X, y, scoring=\"mean_squared_error\", cv=cv))\n",
    "    # y_pred = cross_validation.cross_val_predict(treereg, X, y, cv=cv)\n",
    "    # mse_score = metrics.mean_squared_error(y_true=y, y_pred=y_pred)\n",
    "    cross_val_scores.append(mse_score)\n",
    "    print depth, mse_score\n",
    "\n",
    "np.max(cross_val_scores)"
   ]
  },
  {
   "cell_type": "code",
   "execution_count": 14,
   "metadata": {
    "collapsed": false
   },
   "outputs": [
    {
     "data": {
      "text/plain": [
       "array([ 4000.        ,  4000.        ,  4000.        ,  4000.        ,\n",
       "        4000.        ,  9500.        ,  1866.66666667,  1866.66666667,\n",
       "        1866.66666667,  1866.66666667,  2475.        ,  9000.        ,\n",
       "        2475.        ,  2475.        ])"
      ]
     },
     "execution_count": 14,
     "metadata": {},
     "output_type": "execute_result"
    }
   ],
   "source": [
    "treereg = tree.DecisionTreeRegressor(max_depth=3)\n",
    "cross_validation.cross_val_predict(treereg, X, y, cv=cv)"
   ]
  },
  {
   "cell_type": "code",
   "execution_count": 15,
   "metadata": {
    "collapsed": false
   },
   "outputs": [
    {
     "data": {
      "text/plain": [
       "DecisionTreeRegressor(criterion='mse', max_depth=3, max_features=None,\n",
       "           max_leaf_nodes=None, min_samples_leaf=1, min_samples_split=2,\n",
       "           min_weight_fraction_leaf=0.0, presort=False, random_state=None,\n",
       "           splitter='best')"
      ]
     },
     "execution_count": 15,
     "metadata": {},
     "output_type": "execute_result"
    }
   ],
   "source": [
    "treereg1 = tree.DecisionTreeRegressor(max_depth=3)\n",
    "treereg1.fit(X, y)"
   ]
  },
  {
   "cell_type": "code",
   "execution_count": 16,
   "metadata": {
    "collapsed": false
   },
   "outputs": [
    {
     "data": {
      "text/plain": [
       "array([ 22000.,  13500.,  13500.,   9250.,   9250.,   4000.,   2480.,\n",
       "         2480.,   2480.,   2480.,   2480.,   5000.,   1550.,   1550.])"
      ]
     },
     "execution_count": 16,
     "metadata": {},
     "output_type": "execute_result"
    }
   ],
   "source": [
    "treereg1.predict(X)"
   ]
  },
  {
   "cell_type": "code",
   "execution_count": null,
   "metadata": {
    "collapsed": true
   },
   "outputs": [],
   "source": []
  }
 ],
 "metadata": {
  "kernelspec": {
   "display_name": "Python 2",
   "language": "python",
   "name": "python2"
  },
  "language_info": {
   "codemirror_mode": {
    "name": "ipython",
    "version": 2
   },
   "file_extension": ".py",
   "mimetype": "text/x-python",
   "name": "python",
   "nbconvert_exporter": "python",
   "pygments_lexer": "ipython2",
   "version": "2.7.12"
  }
 },
 "nbformat": 4,
 "nbformat_minor": 0
}

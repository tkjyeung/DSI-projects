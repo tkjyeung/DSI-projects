{
 "cells": [
  {
   "cell_type": "markdown",
   "metadata": {},
   "source": [
    "# Implementing KNN\n",
    "\n",
    "How KNN trains:\n",
    "    - Record every data point and its class\n",
    "\n",
    "How KNN classifies a new data point:\n",
    "    - Check how far is the new data point to the \"trained\" data point.\n",
    "    - Sort existing data point by distance to the new point\n",
    "    - Select the majority class for the closest K points"
   ]
  },
  {
   "cell_type": "code",
   "execution_count": 1,
   "metadata": {
    "collapsed": true
   },
   "outputs": [],
   "source": [
    "import pandas as pd\n",
    "import numpy as np\n",
    "\n",
    "from sklearn import metrics\n",
    "from sklearn import cross_validation"
   ]
  },
  {
   "cell_type": "code",
   "execution_count": 2,
   "metadata": {
    "collapsed": false,
    "scrolled": false
   },
   "outputs": [],
   "source": [
    "def distance(point1, point2):\n",
    "    # calculate the distance between two single points based on manhattam distance\n",
    "    \n",
    "    distance = 0.0 # replace this\n",
    "    distance = np.sum(point1[1] - point2[1])\n",
    "    \n",
    "    return abs(distance)\n",
    "\n",
    "\n",
    "class MyKNN(object):\n",
    "    \n",
    "    n_neighbors = None\n",
    "    fitted_X = None\n",
    "    fitted_y = None\n",
    "    \n",
    "    def __init__(self, n_neighbors = 10):\n",
    "        self.n_neighbors = n_neighbors\n",
    "        self.fitted_X = None\n",
    "        self.fitted_y = None\n",
    "        \n",
    "    def fit(self, X, y):\n",
    "        # record instances in self.learned_instances\n",
    "        self.fitted_X = X\n",
    "        self.fitted_y = y\n",
    "\n",
    "        return self\n",
    "    \n",
    "    def predict(self, X):\n",
    "        # write this\n",
    "        \n",
    "        y_pred = [] # replace this\n",
    "        \n",
    "        for x in X.iterrows():\n",
    "            x_dist = []\n",
    "            for x_t, y_t in zip(self.fitted_X.iterrows(), self.fitted_y):\n",
    "                x_dist.append((distance(x, x_t), y_t))\n",
    "            \n",
    "            x_dist.sort(reverse=False)\n",
    "            x_classes = {}\n",
    "            for _, y_t in x_dist[:self.n_neighbors]:\n",
    "                if y_t not in x_classes:\n",
    "                    x_classes[y_t] = 1.0\n",
    "                else:\n",
    "                    x_classes[y_t] += 1.0\n",
    "            \n",
    "            x_class_sorted = sorted(x_classes.items(), key=lambda (k,v): (v,k), reverse=True)\n",
    "            majority_class, _freq = x_class_sorted[0]        \n",
    "\n",
    "            y_pred.append(majority_class)\n",
    "        \n",
    "        return y_pred"
   ]
  },
  {
   "cell_type": "markdown",
   "metadata": {},
   "source": [
    "### Load data and test"
   ]
  },
  {
   "cell_type": "code",
   "execution_count": 8,
   "metadata": {
    "collapsed": false
   },
   "outputs": [],
   "source": [
    "column_names = ['id',\n",
    "                'clump_thickness',\n",
    "                'cell_size_uniformity',\n",
    "                'cell_shape_uniformity',\n",
    "                'marginal_adhesion',\n",
    "                'single_epithelial_size',\n",
    "                'bare_nuclei',\n",
    "                'bland_chromatin',\n",
    "                'normal_nucleoli',\n",
    "                'mitoses',\n",
    "                'class']\n",
    "\n",
    "df = pd.read_csv('../../assets/data/breast-cancer-wisconsin.csv',\n",
    "                 names=column_names, na_values=['?'], index_col=\"id\")\n",
    "df.dropna(inplace=True)\n",
    "df['class'] = df['class'] == 2"
   ]
  },
  {
   "cell_type": "code",
   "execution_count": 9,
   "metadata": {
    "collapsed": false
   },
   "outputs": [],
   "source": [
    "X = df[list(set(column_names)-set(['id','class']))]\n",
    "y = df['class']\n",
    "\n",
    "# x_cols = ['clump_thickness','cell_size_uniformity']\n",
    "# X = df[x_cols]\n",
    "\n",
    "X_train, X_test, y_train, y_test = cross_validation.train_test_split(X, y, train_size=0.5, test_size=0.5)"
   ]
  },
  {
   "cell_type": "code",
   "execution_count": 10,
   "metadata": {
    "collapsed": false
   },
   "outputs": [
    {
     "name": "stdout",
     "output_type": "stream",
     "text": [
      "[[112   3]\n",
      " [  4 223]]\n",
      "0.979532163743\n"
     ]
    }
   ],
   "source": [
    "k = MyKNN(10)\n",
    "\n",
    "k.fit(X_train, y_train)\n",
    "y_pred = k.predict(X_test)\n",
    "\n",
    "print metrics.confusion_matrix(y_true=y_test, y_pred=y_pred)\n",
    "print metrics.accuracy_score(y_true=y_test, y_pred=y_pred)"
   ]
  },
  {
   "cell_type": "code",
   "execution_count": null,
   "metadata": {
    "collapsed": true
   },
   "outputs": [],
   "source": []
  },
  {
   "cell_type": "code",
   "execution_count": null,
   "metadata": {
    "collapsed": false
   },
   "outputs": [],
   "source": []
  },
  {
   "cell_type": "code",
   "execution_count": null,
   "metadata": {
    "collapsed": false
   },
   "outputs": [],
   "source": []
  },
  {
   "cell_type": "code",
   "execution_count": null,
   "metadata": {
    "collapsed": true
   },
   "outputs": [],
   "source": []
  },
  {
   "cell_type": "code",
   "execution_count": null,
   "metadata": {
    "collapsed": true
   },
   "outputs": [],
   "source": []
  }
 ],
 "metadata": {
  "kernelspec": {
   "display_name": "Python 2",
   "language": "python",
   "name": "python2"
  },
  "language_info": {
   "codemirror_mode": {
    "name": "ipython",
    "version": 2
   },
   "file_extension": ".py",
   "mimetype": "text/x-python",
   "name": "python",
   "nbconvert_exporter": "python",
   "pygments_lexer": "ipython2",
   "version": "2.7.11"
  }
 },
 "nbformat": 4,
 "nbformat_minor": 0
}

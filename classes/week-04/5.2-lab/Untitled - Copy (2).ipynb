{
 "cells": [
  {
   "cell_type": "code",
   "execution_count": 125,
   "metadata": {
    "collapsed": true
   },
   "outputs": [],
   "source": [
    "from bs4 import BeautifulSoup\n",
    "import urllib2, requests\n",
    "import pandas as pd\n",
    "from sklearn.linear_model import LogisticRegression\n",
    "import re\n",
    "from sklearn import linear_model, preprocessing, cross_validation, metrics, pipeline"
   ]
  },
  {
   "cell_type": "code",
   "execution_count": 126,
   "metadata": {
    "collapsed": false
   },
   "outputs": [],
   "source": [
    "% matplotlib inline\n",
    "from os import path\n",
    "from wordcloud import WordCloud\n",
    "import matplotlib.pyplot as plt\n",
    "\n",
    "#d = path.dirname(__file__)\n",
    "\n",
    "trump = open('speeches.txt').read()\n",
    "hillary = open('hillary_clinton.txt').read()\n",
    "#text\n",
    "#wordcloud = WordCloud(max_font_size=40, relative_scaling=.5).generate(text)\n",
    "#plt.figure()\n",
    "#plt.imshow(wordcloud)\n",
    "#plt.axis(\"off\")\n",
    "#plt.show()"
   ]
  },
  {
   "cell_type": "code",
   "execution_count": 127,
   "metadata": {
    "collapsed": true
   },
   "outputs": [],
   "source": [
    "#trump = re.sub(r'\\W+',' ', trump)\n",
    "#hillary = re.sub(r'\\W+',' ', hillary)"
   ]
  },
  {
   "cell_type": "code",
   "execution_count": 128,
   "metadata": {
    "collapsed": false
   },
   "outputs": [
    {
     "data": {
      "text/plain": [
       "str"
      ]
     },
     "execution_count": 128,
     "metadata": {},
     "output_type": "execute_result"
    }
   ],
   "source": [
    "type(trump)"
   ]
  },
  {
   "cell_type": "code",
   "execution_count": null,
   "metadata": {
    "collapsed": true
   },
   "outputs": [],
   "source": []
  },
  {
   "cell_type": "code",
   "execution_count": 129,
   "metadata": {
    "collapsed": true
   },
   "outputs": [],
   "source": [
    "trump_sentence = trump.replace('\\n','').replace('\\r','').split('.')\n",
    "hillary_sentence = hillary.replace('\\n','').replace('\\r','').split('.')"
   ]
  },
  {
   "cell_type": "code",
   "execution_count": 130,
   "metadata": {
    "collapsed": false
   },
   "outputs": [
    {
     "data": {
      "text/plain": [
       "18216"
      ]
     },
     "execution_count": 130,
     "metadata": {},
     "output_type": "execute_result"
    }
   ],
   "source": [
    "len(trump_sentence)"
   ]
  },
  {
   "cell_type": "code",
   "execution_count": 131,
   "metadata": {
    "collapsed": false
   },
   "outputs": [
    {
     "data": {
      "text/plain": [
       "14832"
      ]
     },
     "execution_count": 131,
     "metadata": {},
     "output_type": "execute_result"
    }
   ],
   "source": [
    "len(hillary_sentence)"
   ]
  },
  {
   "cell_type": "code",
   "execution_count": 132,
   "metadata": {
    "collapsed": false
   },
   "outputs": [],
   "source": [
    "n = 20\n",
    "trump_list = [''.join(trump_sentence[i:i+n]) for i in range(0, len(trump_sentence), n)]\n",
    "hillary_list = [''.join(hillary_sentence[i:i+n]) for i in range(0, len(hillary_sentence), n)]"
   ]
  },
  {
   "cell_type": "code",
   "execution_count": 133,
   "metadata": {
    "collapsed": false
   },
   "outputs": [],
   "source": [
    "trump_list = [re.sub(r'\\W+',' ', trump_list[i]) for i in range(len(trump_list))]\n",
    "hillary_list = [re.sub(r'\\W+',' ', hillary_list[i]) for i in range(len(hillary_list))]\n"
   ]
  },
  {
   "cell_type": "code",
   "execution_count": null,
   "metadata": {
    "collapsed": true
   },
   "outputs": [],
   "source": []
  },
  {
   "cell_type": "code",
   "execution_count": 134,
   "metadata": {
    "collapsed": false
   },
   "outputs": [
    {
     "data": {
      "text/plain": [
       "911"
      ]
     },
     "execution_count": 134,
     "metadata": {},
     "output_type": "execute_result"
    }
   ],
   "source": [
    "len(trump_list)"
   ]
  },
  {
   "cell_type": "code",
   "execution_count": 135,
   "metadata": {
    "collapsed": false
   },
   "outputs": [
    {
     "data": {
      "text/plain": [
       "742"
      ]
     },
     "execution_count": 135,
     "metadata": {},
     "output_type": "execute_result"
    }
   ],
   "source": [
    "len(hillary_list)"
   ]
  },
  {
   "cell_type": "code",
   "execution_count": 136,
   "metadata": {
    "collapsed": false
   },
   "outputs": [],
   "source": [
    "#len(re.findall(r'\\w+', hillary))"
   ]
  },
  {
   "cell_type": "code",
   "execution_count": null,
   "metadata": {
    "collapsed": true
   },
   "outputs": [],
   "source": []
  },
  {
   "cell_type": "code",
   "execution_count": 137,
   "metadata": {
    "collapsed": false
   },
   "outputs": [],
   "source": [
    "df = pd.DataFrame(trump_list)"
   ]
  },
  {
   "cell_type": "code",
   "execution_count": 138,
   "metadata": {
    "collapsed": false
   },
   "outputs": [],
   "source": [
    "df.columns = ['speech']\n",
    "df['is_Trump'] = 1"
   ]
  },
  {
   "cell_type": "code",
   "execution_count": 139,
   "metadata": {
    "collapsed": true
   },
   "outputs": [],
   "source": [
    "df_hill = pd.DataFrame(hillary_list)\n",
    "df_hill.columns = ['speech']\n",
    "df_hill['is_Trump'] = 0"
   ]
  },
  {
   "cell_type": "code",
   "execution_count": 140,
   "metadata": {
    "collapsed": false
   },
   "outputs": [],
   "source": [
    "df = pd.concat([df,df_hill], ignore_index=True)"
   ]
  },
  {
   "cell_type": "code",
   "execution_count": null,
   "metadata": {
    "collapsed": true
   },
   "outputs": [],
   "source": []
  },
  {
   "cell_type": "code",
   "execution_count": 141,
   "metadata": {
    "collapsed": false
   },
   "outputs": [
    {
     "data": {
      "text/plain": [
       "RangeIndex(start=0, stop=1653, step=1)"
      ]
     },
     "execution_count": 141,
     "metadata": {},
     "output_type": "execute_result"
    }
   ],
   "source": [
    "df.index"
   ]
  },
  {
   "cell_type": "code",
   "execution_count": 142,
   "metadata": {
    "collapsed": true
   },
   "outputs": [],
   "source": [
    "X = df['speech']\n",
    "y = df['is_Trump']"
   ]
  },
  {
   "cell_type": "code",
   "execution_count": 143,
   "metadata": {
    "collapsed": false
   },
   "outputs": [
    {
     "data": {
      "text/plain": [
       "(1653,)"
      ]
     },
     "execution_count": 143,
     "metadata": {},
     "output_type": "execute_result"
    }
   ],
   "source": [
    "X.shape"
   ]
  },
  {
   "cell_type": "code",
   "execution_count": 144,
   "metadata": {
    "collapsed": false
   },
   "outputs": [
    {
     "data": {
      "text/plain": [
       "(1653,)"
      ]
     },
     "execution_count": 144,
     "metadata": {},
     "output_type": "execute_result"
    }
   ],
   "source": [
    "y.shape"
   ]
  },
  {
   "cell_type": "code",
   "execution_count": 145,
   "metadata": {
    "collapsed": false
   },
   "outputs": [
    {
     "data": {
      "text/plain": [
       "1653"
      ]
     },
     "execution_count": 145,
     "metadata": {},
     "output_type": "execute_result"
    }
   ],
   "source": [
    "len(X)"
   ]
  },
  {
   "cell_type": "code",
   "execution_count": 146,
   "metadata": {
    "collapsed": false
   },
   "outputs": [
    {
     "data": {
      "text/plain": [
       "1653"
      ]
     },
     "execution_count": 146,
     "metadata": {},
     "output_type": "execute_result"
    }
   ],
   "source": [
    "len(y)"
   ]
  },
  {
   "cell_type": "code",
   "execution_count": 147,
   "metadata": {
    "collapsed": false
   },
   "outputs": [
    {
     "data": {
      "text/plain": [
       "pandas.core.series.Series"
      ]
     },
     "execution_count": 147,
     "metadata": {},
     "output_type": "execute_result"
    }
   ],
   "source": [
    "type(X)"
   ]
  },
  {
   "cell_type": "code",
   "execution_count": 148,
   "metadata": {
    "collapsed": false
   },
   "outputs": [
    {
     "data": {
      "text/plain": [
       "RangeIndex(start=0, stop=1653, step=1)"
      ]
     },
     "execution_count": 148,
     "metadata": {},
     "output_type": "execute_result"
    }
   ],
   "source": [
    "X.index"
   ]
  },
  {
   "cell_type": "code",
   "execution_count": 149,
   "metadata": {
    "collapsed": false
   },
   "outputs": [
    {
     "name": "stdout",
     "output_type": "stream",
     "text": [
      "Thank you so much That s so nice Isn t he a great guy He doesn t get a fair press he doesn t get it It s just not fair And I have to tell you I m here and very strongly here because I have great respect for Steve King and have great respect likewise for Citizens United David and everybody and tremendous resect for the Tea Party Also also the people of Iowa They have something in common Hard working people They want to work they want to make the country great I love the people of Iowa So that s the way it is Very simpleWith that said our country is really headed in the wrong direction with a president who is doing an absolutely terrible job The world is collapsing around us and many of the problems we ve caused Our president is either grossly incompetent a word that more and more people are using and I think I was the first to use it or he has a completely different agenda than you want to know about which could be possible In any event Washington is broken and our country is in serious trouble and total disarray\n"
     ]
    }
   ],
   "source": [
    "print(X[0])"
   ]
  },
  {
   "cell_type": "code",
   "execution_count": 150,
   "metadata": {
    "collapsed": false
   },
   "outputs": [
    {
     "data": {
      "text/plain": [
       "' Very simple Politicians are all talk no action They are all talk and no action And it s constant it never endsAnd I m a conservative actually very conservative and I m a Republican And I m very disappointed by our Republican politicians Because they let the president get away with absolute murder You see always oh we re going to do this we re going to Nothing ever happens nothing ever happensYou look at Obamacare A total catastrophe and by the way it really kicks in in 16 and it is going to be a disaster People are closing up shops Doctors are quitting the business I have a friend of mine who s a doctor a very good doctor a very successful guy He said I have more accountants than I have patients And he needs because it is so complicated and so terrible and he s never had that before and he s going to close up his business And he was very successful guy But it s happening more and moreLook at Obamacare with a 5 billion website I have many websites many many websites'"
      ]
     },
     "execution_count": 150,
     "metadata": {},
     "output_type": "execute_result"
    }
   ],
   "source": [
    "X[1]"
   ]
  },
  {
   "cell_type": "code",
   "execution_count": 151,
   "metadata": {
    "collapsed": false
   },
   "outputs": [
    {
     "data": {
      "text/plain": [
       "0       Thank you so much That s so nice Isn t he a gr...\n",
       "1        Very simple Politicians are all talk no actio...\n",
       "2        They re all over the place But for 10 okay No...\n",
       "3        I build I build nice fences but I build great...\n",
       "4       IRS e mails I get sued all the time okay I run...\n",
       "5        But they talk about it And then you have a pr...\n",
       "6        I never thought that they d have the guts to ...\n",
       "7        They don t even respect us they don t even ca...\n",
       "8        And like I like Congressman Ryan I like a lot...\n",
       "9        The power And we have to be in a position whe...\n",
       "10       I go to China They are building a bridge on e...\n",
       "11       The ones that sort of go like this demonstrat...\n",
       "12       Why aren t they doing something to justify wh...\n",
       "13       Most people are like that I mean most people ...\n",
       "14       I was never a big fan but his brother gave us...\n",
       "15       No problems get off stage everybody falls asl...\n",
       "16       The Old Post Office site and I got it from Ob...\n",
       "17      It s time to shake the rust off America s fore...\n",
       "18       We failed to develop a new vision for a new t...\n",
       "19       Today I want to identify five main weaknesses...\n",
       "20       A Trump administration will lead a free world...\n",
       "21       All of the expense and all at the expense of ...\n",
       "22       And with that economic power we can rein in a...\n",
       "23       IncredibleClinton blames it all on a video an...\n",
       "24      In this we re going to be working very closely...\n",
       "25       We have to be vigilantA pause for reassessmen...\n",
       "26       We have to be unpredictable And we have to be...\n",
       "27       We will develop build and purchase the best e...\n",
       "28      Our veterans have not been treated fairly or j...\n",
       "29       We have to be smart enough to recognize who t...\n",
       "                              ...                        \n",
       "1623     I know there is no substitute for working har...\n",
       "1624     And I can tell you when my husband ran for pr...\n",
       "1625     Remember that So I said Look I m a senator no...\n",
       "1626     Turns out he wanted to ask me to be secretary...\n",
       "1627    And of course we hear from candidates on the o...\n",
       "1628    I have spent a lifetime fighting for the under...\n",
       "1629     Just constantly have to be prepared to keep g...\n",
       "1630     And they kept working to find consensus to ma...\n",
       "1631     Either we move forward on the path of diploma...\n",
       "1632    So President Obama and I pursued a two pronged...\n",
       "1633     Is it perfect Well of course not No agreement...\n",
       "1634     They are impossible to hide That s why Secret...\n",
       "1635     Yes and we will embed it in a broader strateg...\n",
       "1636     Keeping our allies on board Xbut being willin...\n",
       "1637     We cannot ever take that lightly particularly...\n",
       "1638     I ll press our partners in the region to prev...\n",
       "1639    I will push for renewed diplomacy to solve the...\n",
       "1640     I know that my saying This deal makes you saf...\n",
       "1641     Like my friend Chuck Schumer who s going to b...\n",
       "1642     There s a lot that Democrats and Republicans ...\n",
       "1643     I want to recognize former Congressman Joe Ga...\n",
       "1644    I wish every Cuban back in Cuba could spend a ...\n",
       "1645    So in 2009 we tried something new The Obama ad...\n",
       "1646    The future for Cuba is not foreordained But th...\n",
       "1647     In fact there may be no stronger argument for...\n",
       "1648     If Congress won t act to do this I would use ...\n",
       "1649     We want more American airplanes and ferries a...\n",
       "1650     We were isolated in our opposition to opening...\n",
       "1651     And if we don t make no mistake others will C...\n",
       "1652     I believe the future holds far more opportuni...\n",
       "Name: speech, dtype: object"
      ]
     },
     "execution_count": 151,
     "metadata": {},
     "output_type": "execute_result"
    }
   ],
   "source": [
    "X"
   ]
  },
  {
   "cell_type": "code",
   "execution_count": 152,
   "metadata": {
    "collapsed": false
   },
   "outputs": [
    {
     "data": {
      "text/plain": [
       "' Very simple Politicians are all talk no action They are all talk and no action And it s constant it never endsAnd I m a conservative actually very conservative and I m a Republican And I m very disappointed by our Republican politicians Because they let the president get away with absolute murder You see always oh we re going to do this we re going to Nothing ever happens nothing ever happensYou look at Obamacare A total catastrophe and by the way it really kicks in in 16 and it is going to be a disaster People are closing up shops Doctors are quitting the business I have a friend of mine who s a doctor a very good doctor a very successful guy He said I have more accountants than I have patients And he needs because it is so complicated and so terrible and he s never had that before and he s going to close up his business And he was very successful guy But it s happening more and moreLook at Obamacare with a 5 billion website I have many websites many many websites'"
      ]
     },
     "execution_count": 152,
     "metadata": {},
     "output_type": "execute_result"
    }
   ],
   "source": [
    "X[1]"
   ]
  },
  {
   "cell_type": "code",
   "execution_count": 153,
   "metadata": {
    "collapsed": false
   },
   "outputs": [
    {
     "data": {
      "text/plain": [
       "1653"
      ]
     },
     "execution_count": 153,
     "metadata": {},
     "output_type": "execute_result"
    }
   ],
   "source": [
    "len(X)"
   ]
  },
  {
   "cell_type": "code",
   "execution_count": 154,
   "metadata": {
    "collapsed": false
   },
   "outputs": [
    {
     "data": {
      "text/plain": [
       "' Very simple Politicians are all talk no action They are all talk and no action And it s constant it never endsAnd I m a conservative actually very conservative and I m a Republican And I m very disappointed by our Republican politicians Because they let the president get away with absolute murder You see always oh we re going to do this we re going to Nothing ever happens nothing ever happensYou look at Obamacare A total catastrophe and by the way it really kicks in in 16 and it is going to be a disaster People are closing up shops Doctors are quitting the business I have a friend of mine who s a doctor a very good doctor a very successful guy He said I have more accountants than I have patients And he needs because it is so complicated and so terrible and he s never had that before and he s going to close up his business And he was very successful guy But it s happening more and moreLook at Obamacare with a 5 billion website I have many websites many many websites'"
      ]
     },
     "execution_count": 154,
     "metadata": {},
     "output_type": "execute_result"
    }
   ],
   "source": [
    "re.sub(r\"\\s+\", \" \", X[1], flags=re.UNICODE)"
   ]
  },
  {
   "cell_type": "code",
   "execution_count": null,
   "metadata": {
    "collapsed": true
   },
   "outputs": [],
   "source": []
  },
  {
   "cell_type": "code",
   "execution_count": 155,
   "metadata": {
    "collapsed": true
   },
   "outputs": [],
   "source": [
    "from sklearn import feature_extraction"
   ]
  },
  {
   "cell_type": "code",
   "execution_count": 156,
   "metadata": {
    "collapsed": true
   },
   "outputs": [],
   "source": [
    "estimator = pipeline.Pipeline(steps=[('countVec', feature_extraction.text.CountVectorizer(lowercase=True)),\n",
    "                                    ('reg',LogisticRegression())\n",
    "                                    ])\n"
   ]
  },
  {
   "cell_type": "code",
   "execution_count": 157,
   "metadata": {
    "collapsed": true
   },
   "outputs": [],
   "source": [
    "estimator = estimator.fit(X=X, y=y)"
   ]
  },
  {
   "cell_type": "code",
   "execution_count": 158,
   "metadata": {
    "collapsed": false
   },
   "outputs": [
    {
     "data": {
      "text/plain": [
       "1.0"
      ]
     },
     "execution_count": 158,
     "metadata": {},
     "output_type": "execute_result"
    }
   ],
   "source": [
    "estimator.score(X=X, y=y)"
   ]
  },
  {
   "cell_type": "code",
   "execution_count": null,
   "metadata": {
    "collapsed": true
   },
   "outputs": [],
   "source": []
  },
  {
   "cell_type": "code",
   "execution_count": null,
   "metadata": {
    "collapsed": true
   },
   "outputs": [],
   "source": []
  },
  {
   "cell_type": "code",
   "execution_count": null,
   "metadata": {
    "collapsed": true
   },
   "outputs": [],
   "source": []
  },
  {
   "cell_type": "code",
   "execution_count": 159,
   "metadata": {
    "collapsed": true
   },
   "outputs": [],
   "source": [
    "from ipywidgets import widgets"
   ]
  },
  {
   "cell_type": "code",
   "execution_count": 160,
   "metadata": {
    "collapsed": false
   },
   "outputs": [
    {
     "name": "stderr",
     "output_type": "stream",
     "text": [
      "Widget Javascript not detected.  It may not be installed properly. Did you enable the widgetsnbextension? If not, then run \"jupyter nbextension enable --py --sys-prefix widgetsnbextension\"\n"
     ]
    }
   ],
   "source": [
    "from __future__ import print_function\n",
    "from ipywidgets import *\n",
    "import ipywidgets as widgets\n",
    "from IPython.display import display\n",
    "text = widgets.Text()\n",
    "display(text)\n",
    "\n",
    "def handle_submit(sender):\n",
    "    who_speaking(text)\n",
    "text.on_submit(handle_submit)"
   ]
  },
  {
   "cell_type": "code",
   "execution_count": 161,
   "metadata": {
    "collapsed": false
   },
   "outputs": [
    {
     "name": "stdout",
     "output_type": "stream",
     "text": [
      "/usr/bin/sh: jupyter: command not found\r\n"
     ]
    }
   ],
   "source": [
    "!jupyter nbextension enable --py --sys-prefix widgetsnbextension"
   ]
  },
  {
   "cell_type": "code",
   "execution_count": 162,
   "metadata": {
    "collapsed": false
   },
   "outputs": [],
   "source": [
    "def who_speaking(text) :\n",
    "    temp_str =  text\n",
    "    #\"President Roosevelt called on every American to do his or her part, and every American answered. He said there’s no mystery about what it takes to build a strong and prosperous America: “Equality of opportunity… Jobs for those who can work… Security for those who need it… The ending of special privilege for the few… The preservation of civil liberties for all… a wider and constantly rising standard of living.\"\n",
    "    temp_str_l = []\n",
    "\n",
    "    temp_str = temp_str.replace('\\n','').replace('\\r','')\n",
    "    temp_str = re.sub(r'\\W+',' ', temp_str)\n",
    "    temp_str_l.append(temp_str)\n",
    "    X_pred_temp = pd.DataFrame(temp_str_l, columns=['speech'])\n",
    "\n",
    "    if estimator.predict(X_pred_temp['speech'])[0] :\n",
    "        print('Trump speaking')\n",
    "    else :\n",
    "        print('Hillary speaking')\n"
   ]
  },
  {
   "cell_type": "code",
   "execution_count": 166,
   "metadata": {
    "collapsed": false
   },
   "outputs": [
    {
     "name": "stdout",
     "output_type": "stream",
     "text": [
      "Trump speaking\n"
     ]
    }
   ],
   "source": [
    "who_speaking(\"assresident Rry Aembly\")       "
   ]
  },
  {
   "cell_type": "code",
   "execution_count": null,
   "metadata": {
    "collapsed": true
   },
   "outputs": [],
   "source": []
  },
  {
   "cell_type": "code",
   "execution_count": null,
   "metadata": {
    "collapsed": true
   },
   "outputs": [],
   "source": []
  },
  {
   "cell_type": "code",
   "execution_count": null,
   "metadata": {
    "collapsed": false
   },
   "outputs": [],
   "source": [
    "#temp_str = \"Homicides last year increased by 17 percent in America\\’s 50 largest cities. That\\’s the largest increase in 25 years. In our nation\\’s capital, killings have risen by 50 percent. They are up nearly 60 percent in nearby Baltimore.\"\n",
    "#temp_str = \"If Trump wants to talk about debt, let’s start with the $34 trillion (that's a \\\"t\\\") his tax plan would run up.\"\n",
    "#temp_str = \"Congratulations to my children, Don and Tiffany, on having done a fantastic job last night. I am very proud of you!\"\n",
    "#temp_str = \"You know, over the past few months, I have had the opportunity to listen to Americans’ concerns about an economy that still isn’t delivering for them. It’s not delivering the way that it should. It still seems, to most Americans that I have spoken with, that it is stacked for those at the top.\"\n",
    "#temp_str =  \"It is also a coming together, much the way women come together every day in every country. We come together in fields and factories, in village markets and supermarkets, in living rooms and board rooms. Whether it is while playing with our children in the park, or washing clothes in a river, or taking a break at the office water cooler, we come together and talk about our aspirations and concern. And time and again, our talk turns to our children and our families. However different we may appear, there is far more that unites us than divides us. We share a common future, and we are here to find common ground so that we may help bring new dignity and respect to women and girls all over the world, and in so doing bring new strength and stability to families as well.\"\n",
    "#temp_str =  \"All I do is hug Democrats. It gets me in trouble all the time. All the time,\"\n",
    "temp_str =  \"President Roosevelt called on every American to do his or her part, and every American answered. He said there’s no mystery about what it takes to build a strong and prosperous America: “Equality of opportunity… Jobs for those who can work… Security for those who need it… The ending of special privilege for the few… The preservation of civil liberties for all… a wider and constantly rising standard of living.\"\n",
    "temp_str = []\n",
    "#temp_str1 = temp_str1.replace('\\n','').replace('\\r','')\n",
    "temp_str2 = temp_str2.replace('\\n','').replace('\\r','')\n",
    "#temp_str.append(temp_str1)\n",
    "temp_str.append(temp_str2)\n",
    "X_pred_temp = pd.DataFrame(temp_str, columns=['speech'])\n",
    "\n",
    "\n",
    "X_pred = cout_vect.transform(X_pred_temp)"
   ]
  },
  {
   "cell_type": "code",
   "execution_count": null,
   "metadata": {
    "collapsed": false
   },
   "outputs": [],
   "source": [
    "temp_str"
   ]
  },
  {
   "cell_type": "code",
   "execution_count": null,
   "metadata": {
    "collapsed": false
   },
   "outputs": [],
   "source": [
    "X_pred_temp"
   ]
  }
 ],
 "metadata": {
  "kernelspec": {
   "display_name": "Python 2",
   "language": "python",
   "name": "python2"
  },
  "language_info": {
   "codemirror_mode": {
    "name": "ipython",
    "version": 2
   },
   "file_extension": ".py",
   "mimetype": "text/x-python",
   "name": "python",
   "nbconvert_exporter": "python",
   "pygments_lexer": "ipython2",
   "version": "2.7.11"
  }
 },
 "nbformat": 4,
 "nbformat_minor": 0
}

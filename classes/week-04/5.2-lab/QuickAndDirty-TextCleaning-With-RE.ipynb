{
 "cells": [
  {
   "cell_type": "code",
   "execution_count": 1,
   "metadata": {
    "collapsed": true
   },
   "outputs": [],
   "source": [
    "import re"
   ]
  },
  {
   "cell_type": "code",
   "execution_count": 2,
   "metadata": {
    "collapsed": false
   },
   "outputs": [
    {
     "data": {
      "text/plain": [
       "'kfdj##@glfkdj3# hslg jksfdhg lks      fgkl43987 y4ihger go8473hnjfdgoryh fw4;on h29p3d:? kgm;lrkjl kasnl KAFBLFD2=-9\\';D EWB/S\"'"
      ]
     },
     "execution_count": 2,
     "metadata": {},
     "output_type": "execute_result"
    }
   ],
   "source": [
    "txt = 'kfdj##@glfkdj3# hslg jksfdhg lks      fgkl43987 y4ihger go8473hnjfdgoryh fw4;on h29p3d:? kgm;lrkjl kasnl KAFBLFD2=-9\\';D EWB/S\"'\n",
    "txt"
   ]
  },
  {
   "cell_type": "code",
   "execution_count": 3,
   "metadata": {
    "collapsed": false
   },
   "outputs": [
    {
     "data": {
      "text/plain": [
       "'kfdj glfkdj3 hslg jksfdhg lks fgkl43987 y4ihger go8473hnjfdgoryh fw4 on h29p3d kgm lrkjl kasnl KAFBLFD2 9 D EWB S '"
      ]
     },
     "execution_count": 3,
     "metadata": {},
     "output_type": "execute_result"
    }
   ],
   "source": [
    "re.sub(r'\\W+',' ', txt)"
   ]
  }
 ],
 "metadata": {
  "kernelspec": {
   "display_name": "Python 2",
   "language": "python",
   "name": "python2"
  },
  "language_info": {
   "codemirror_mode": {
    "name": "ipython",
    "version": 2
   },
   "file_extension": ".py",
   "mimetype": "text/x-python",
   "name": "python",
   "nbconvert_exporter": "python",
   "pygments_lexer": "ipython2",
   "version": "2.7.12"
  }
 },
 "nbformat": 4,
 "nbformat_minor": 0
}

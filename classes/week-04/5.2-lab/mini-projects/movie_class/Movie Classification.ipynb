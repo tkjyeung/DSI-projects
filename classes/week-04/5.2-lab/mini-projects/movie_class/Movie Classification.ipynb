{
 "cells": [
  {
   "cell_type": "code",
   "execution_count": 1,
   "metadata": {
    "collapsed": true
   },
   "outputs": [],
   "source": [
    "% matplotlib inline\n",
    "import datetime\n",
    "from matplotlib import pyplot as plt\n",
    "import seaborn as sns\n",
    "\n",
    "import numpy as np\n",
    "import pandas as pd\n",
    "from sklearn import linear_model, preprocessing, cross_validation, metrics, pipeline, feature_extraction\n",
    "import re"
   ]
  },
  {
   "cell_type": "code",
   "execution_count": 2,
   "metadata": {
    "collapsed": false
   },
   "outputs": [],
   "source": [
    "df1 = pd.read_csv('movies.csv')"
   ]
  },
  {
   "cell_type": "code",
   "execution_count": 3,
   "metadata": {
    "collapsed": false
   },
   "outputs": [
    {
     "name": "stdout",
     "output_type": "stream",
     "text": [
      "   movieId                               title  \\\n",
      "0        1                    Toy Story (1995)   \n",
      "1        2                      Jumanji (1995)   \n",
      "2        3             Grumpier Old Men (1995)   \n",
      "3        4            Waiting to Exhale (1995)   \n",
      "4        5  Father of the Bride Part II (1995)   \n",
      "\n",
      "                                        genres  \n",
      "0  Adventure|Animation|Children|Comedy|Fantasy  \n",
      "1                   Adventure|Children|Fantasy  \n",
      "2                               Comedy|Romance  \n",
      "3                         Comedy|Drama|Romance  \n",
      "4                                       Comedy  \n"
     ]
    }
   ],
   "source": [
    "print df1.head(5)"
   ]
  },
  {
   "cell_type": "code",
   "execution_count": 4,
   "metadata": {
    "collapsed": false
   },
   "outputs": [],
   "source": [
    "genres_split = df1['genres'].str.split('|',expand=True)"
   ]
  },
  {
   "cell_type": "code",
   "execution_count": 5,
   "metadata": {
    "collapsed": false,
    "scrolled": true
   },
   "outputs": [
    {
     "name": "stdout",
     "output_type": "stream",
     "text": [
      "                        0          1         2         3         4     5  \\\n",
      "0               Adventure  Animation  Children    Comedy   Fantasy  None   \n",
      "1               Adventure   Children   Fantasy      None      None  None   \n",
      "2                  Comedy    Romance      None      None      None  None   \n",
      "3                  Comedy      Drama   Romance      None      None  None   \n",
      "4                  Comedy       None      None      None      None  None   \n",
      "5                  Action      Crime  Thriller      None      None  None   \n",
      "6                  Comedy    Romance      None      None      None  None   \n",
      "7               Adventure   Children      None      None      None  None   \n",
      "8                  Action       None      None      None      None  None   \n",
      "9                  Action  Adventure  Thriller      None      None  None   \n",
      "10                 Comedy      Drama   Romance      None      None  None   \n",
      "11                 Comedy     Horror      None      None      None  None   \n",
      "12              Adventure  Animation  Children      None      None  None   \n",
      "13                  Drama       None      None      None      None  None   \n",
      "14                 Action  Adventure   Romance      None      None  None   \n",
      "15                  Crime      Drama      None      None      None  None   \n",
      "16                  Drama    Romance      None      None      None  None   \n",
      "17                 Comedy       None      None      None      None  None   \n",
      "18                 Comedy       None      None      None      None  None   \n",
      "19                 Action     Comedy     Crime     Drama  Thriller  None   \n",
      "20                 Comedy      Crime  Thriller      None      None  None   \n",
      "21                  Crime      Drama    Horror   Mystery  Thriller  None   \n",
      "22                 Action      Crime  Thriller      None      None  None   \n",
      "23                  Drama     Sci-Fi      None      None      None  None   \n",
      "24                  Drama    Romance      None      None      None  None   \n",
      "25                  Drama       None      None      None      None  None   \n",
      "26               Children      Drama      None      None      None  None   \n",
      "27                  Drama    Romance      None      None      None  None   \n",
      "28              Adventure      Drama   Fantasy   Mystery    Sci-Fi  None   \n",
      "29                  Crime      Drama      None      None      None  None   \n",
      "...                   ...        ...       ...       ...       ...   ...   \n",
      "34178         Documentary       None      None      None      None  None   \n",
      "34179            Thriller       None      None      None      None  None   \n",
      "34180               Drama    Romance      None      None      None  None   \n",
      "34181               Drama       None      None      None      None  None   \n",
      "34182               Drama       None      None      None      None  None   \n",
      "34183              Horror       None      None      None      None  None   \n",
      "34184               Drama       None      None      None      None  None   \n",
      "34185         Documentary       None      None      None      None  None   \n",
      "34186           Adventure    Fantasy      None      None      None  None   \n",
      "34187               Drama     Horror   Mystery  Thriller      None  None   \n",
      "34188               Drama    Romance      None      None      None  None   \n",
      "34189              Comedy    Romance      None      None      None  None   \n",
      "34190  (no genres listed)       None      None      None      None  None   \n",
      "34191  (no genres listed)       None      None      None      None  None   \n",
      "34192            Thriller       None      None      None      None  None   \n",
      "34193              Action     Comedy     Crime   Romance  Thriller  None   \n",
      "34194              Comedy     Sci-Fi      None      None      None  None   \n",
      "34195  (no genres listed)       None      None      None      None  None   \n",
      "34196              Comedy       None      None      None      None  None   \n",
      "34197               Drama       None      None      None      None  None   \n",
      "34198  (no genres listed)       None      None      None      None  None   \n",
      "34199            Children      Drama      None      None      None  None   \n",
      "34200         Documentary       None      None      None      None  None   \n",
      "34201              Comedy       None      None      None      None  None   \n",
      "34202               Drama     Sci-Fi  Thriller      None      None  None   \n",
      "34203            Thriller       None      None      None      None  None   \n",
      "34204  (no genres listed)       None      None      None      None  None   \n",
      "34205               Drama       None      None      None      None  None   \n",
      "34206               Drama     Sci-Fi      None      None      None  None   \n",
      "34207  (no genres listed)       None      None      None      None  None   \n",
      "\n",
      "          6     7     8     9  \n",
      "0      None  None  None  None  \n",
      "1      None  None  None  None  \n",
      "2      None  None  None  None  \n",
      "3      None  None  None  None  \n",
      "4      None  None  None  None  \n",
      "5      None  None  None  None  \n",
      "6      None  None  None  None  \n",
      "7      None  None  None  None  \n",
      "8      None  None  None  None  \n",
      "9      None  None  None  None  \n",
      "10     None  None  None  None  \n",
      "11     None  None  None  None  \n",
      "12     None  None  None  None  \n",
      "13     None  None  None  None  \n",
      "14     None  None  None  None  \n",
      "15     None  None  None  None  \n",
      "16     None  None  None  None  \n",
      "17     None  None  None  None  \n",
      "18     None  None  None  None  \n",
      "19     None  None  None  None  \n",
      "20     None  None  None  None  \n",
      "21     None  None  None  None  \n",
      "22     None  None  None  None  \n",
      "23     None  None  None  None  \n",
      "24     None  None  None  None  \n",
      "25     None  None  None  None  \n",
      "26     None  None  None  None  \n",
      "27     None  None  None  None  \n",
      "28     None  None  None  None  \n",
      "29     None  None  None  None  \n",
      "...     ...   ...   ...   ...  \n",
      "34178  None  None  None  None  \n",
      "34179  None  None  None  None  \n",
      "34180  None  None  None  None  \n",
      "34181  None  None  None  None  \n",
      "34182  None  None  None  None  \n",
      "34183  None  None  None  None  \n",
      "34184  None  None  None  None  \n",
      "34185  None  None  None  None  \n",
      "34186  None  None  None  None  \n",
      "34187  None  None  None  None  \n",
      "34188  None  None  None  None  \n",
      "34189  None  None  None  None  \n",
      "34190  None  None  None  None  \n",
      "34191  None  None  None  None  \n",
      "34192  None  None  None  None  \n",
      "34193  None  None  None  None  \n",
      "34194  None  None  None  None  \n",
      "34195  None  None  None  None  \n",
      "34196  None  None  None  None  \n",
      "34197  None  None  None  None  \n",
      "34198  None  None  None  None  \n",
      "34199  None  None  None  None  \n",
      "34200  None  None  None  None  \n",
      "34201  None  None  None  None  \n",
      "34202  None  None  None  None  \n",
      "34203  None  None  None  None  \n",
      "34204  None  None  None  None  \n",
      "34205  None  None  None  None  \n",
      "34206  None  None  None  None  \n",
      "34207  None  None  None  None  \n",
      "\n",
      "[34208 rows x 10 columns]\n"
     ]
    }
   ],
   "source": [
    "print genres_split"
   ]
  },
  {
   "cell_type": "code",
   "execution_count": 6,
   "metadata": {
    "collapsed": false
   },
   "outputs": [],
   "source": [
    "newdf = pd.DataFrame({'Title' : [],'Genre':[]})\n",
    "\n",
    "for col in genres_split:\n",
    "    df = pd.DataFrame({'Title':df1['title'], 'Genre':genres_split[col]})\n",
    "    newdf = pd.concat([newdf, df],ignore_index=True)\n"
   ]
  },
  {
   "cell_type": "code",
   "execution_count": 7,
   "metadata": {
    "collapsed": false
   },
   "outputs": [
    {
     "name": "stdout",
     "output_type": "stream",
     "text": [
      "       Genre                               Title\n",
      "0  Adventure                    Toy Story (1995)\n",
      "1  Adventure                      Jumanji (1995)\n",
      "2     Comedy             Grumpier Old Men (1995)\n",
      "3     Comedy            Waiting to Exhale (1995)\n",
      "4     Comedy  Father of the Bride Part II (1995)\n",
      "       Genre                         Title\n",
      "342075  None             Grand Slam (1967)\n",
      "342076  None             Bloodmoney (2010)\n",
      "342077  None   The Butterfly Circus (2009)\n",
      "342078  None                   Zero (2015)\n",
      "342079  None  The 2000 Year Old Man (1975)\n"
     ]
    }
   ],
   "source": [
    "print newdf.head()\n",
    "print newdf.tail()"
   ]
  },
  {
   "cell_type": "code",
   "execution_count": 8,
   "metadata": {
    "collapsed": false
   },
   "outputs": [
    {
     "data": {
      "text/plain": [
       "array(['Adventure', 'Comedy', 'Action', 'Drama', 'Crime', 'Children',\n",
       "       'Mystery', 'Documentary', 'Animation', 'Thriller', 'Horror',\n",
       "       'Fantasy', 'Western', 'Film-Noir', 'Romance', 'War', 'Sci-Fi',\n",
       "       'Musical', 'IMAX', '(no genres listed)', None], dtype=object)"
      ]
     },
     "execution_count": 8,
     "metadata": {},
     "output_type": "execute_result"
    }
   ],
   "source": [
    "newdf['Genre'].unique()"
   ]
  },
  {
   "cell_type": "code",
   "execution_count": 9,
   "metadata": {
    "collapsed": false
   },
   "outputs": [],
   "source": [
    "newdf.dropna(axis=0, inplace = True)"
   ]
  },
  {
   "cell_type": "code",
   "execution_count": 10,
   "metadata": {
    "collapsed": false
   },
   "outputs": [
    {
     "data": {
      "text/plain": [
       "array(['Adventure', 'Comedy', 'Action', 'Drama', 'Crime', 'Children',\n",
       "       'Mystery', 'Documentary', 'Animation', 'Thriller', 'Horror',\n",
       "       'Fantasy', 'Western', 'Film-Noir', 'Romance', 'War', 'Sci-Fi',\n",
       "       'Musical', 'IMAX', '(no genres listed)'], dtype=object)"
      ]
     },
     "execution_count": 10,
     "metadata": {},
     "output_type": "execute_result"
    }
   ],
   "source": [
    "newdf['Genre'].unique()"
   ]
  },
  {
   "cell_type": "code",
   "execution_count": 11,
   "metadata": {
    "collapsed": false
   },
   "outputs": [
    {
     "data": {
      "text/html": [
       "<div>\n",
       "<table border=\"1\" class=\"dataframe\">\n",
       "  <thead>\n",
       "    <tr style=\"text-align: right;\">\n",
       "      <th></th>\n",
       "      <th>Genre</th>\n",
       "      <th>Title</th>\n",
       "    </tr>\n",
       "  </thead>\n",
       "  <tbody>\n",
       "    <tr>\n",
       "      <th>254457</th>\n",
       "      <td>Thriller</td>\n",
       "      <td>Lupin III: Sweet Lost Night (Rupan Sansei: Swe...</td>\n",
       "    </tr>\n",
       "    <tr>\n",
       "      <th>254529</th>\n",
       "      <td>Thriller</td>\n",
       "      <td>Lupin III: First Contact (Rupan Sansei: Faasut...</td>\n",
       "    </tr>\n",
       "    <tr>\n",
       "      <th>255511</th>\n",
       "      <td>Mystery</td>\n",
       "      <td>Rubber (2010)</td>\n",
       "    </tr>\n",
       "    <tr>\n",
       "      <th>289719</th>\n",
       "      <td>Thriller</td>\n",
       "      <td>Rubber (2010)</td>\n",
       "    </tr>\n",
       "    <tr>\n",
       "      <th>323927</th>\n",
       "      <td>Western</td>\n",
       "      <td>Rubber (2010)</td>\n",
       "    </tr>\n",
       "  </tbody>\n",
       "</table>\n",
       "</div>"
      ],
      "text/plain": [
       "           Genre                                              Title\n",
       "254457  Thriller  Lupin III: Sweet Lost Night (Rupan Sansei: Swe...\n",
       "254529  Thriller  Lupin III: First Contact (Rupan Sansei: Faasut...\n",
       "255511   Mystery                                      Rubber (2010)\n",
       "289719  Thriller                                      Rubber (2010)\n",
       "323927   Western                                      Rubber (2010)"
      ]
     },
     "execution_count": 11,
     "metadata": {},
     "output_type": "execute_result"
    }
   ],
   "source": [
    "newdf.head()\n",
    "newdf.tail()"
   ]
  },
  {
   "cell_type": "code",
   "execution_count": 12,
   "metadata": {
    "collapsed": false
   },
   "outputs": [
    {
     "data": {
      "text/plain": [
       "array(['Adventure', 'Comedy', 'Action', 'Drama', 'Crime', 'Children',\n",
       "       'Mystery', 'Documentary', 'Animation', 'Thriller', 'Horror',\n",
       "       'Fantasy', 'Western', 'Film-Noir', 'Romance', 'War', 'Sci-Fi',\n",
       "       'Musical', 'IMAX', '(no genres listed)'], dtype=object)"
      ]
     },
     "execution_count": 12,
     "metadata": {},
     "output_type": "execute_result"
    }
   ],
   "source": [
    "newdf['Genre'].unique()"
   ]
  },
  {
   "cell_type": "code",
   "execution_count": 13,
   "metadata": {
    "collapsed": false
   },
   "outputs": [],
   "source": [
    "newdf = newdf[(newdf['Genre']!='(no genres listed)')]"
   ]
  },
  {
   "cell_type": "code",
   "execution_count": 14,
   "metadata": {
    "collapsed": false
   },
   "outputs": [
    {
     "data": {
      "text/plain": [
       "array(['Adventure', 'Comedy', 'Action', 'Drama', 'Crime', 'Children',\n",
       "       'Mystery', 'Documentary', 'Animation', 'Thriller', 'Horror',\n",
       "       'Fantasy', 'Western', 'Film-Noir', 'Romance', 'War', 'Sci-Fi',\n",
       "       'Musical', 'IMAX'], dtype=object)"
      ]
     },
     "execution_count": 14,
     "metadata": {},
     "output_type": "execute_result"
    }
   ],
   "source": [
    "newdf['Genre'].unique()"
   ]
  },
  {
   "cell_type": "code",
   "execution_count": 15,
   "metadata": {
    "collapsed": true
   },
   "outputs": [],
   "source": [
    "newdf = newdf[(newdf['Genre']!='IMAX')]"
   ]
  },
  {
   "cell_type": "code",
   "execution_count": 16,
   "metadata": {
    "collapsed": false
   },
   "outputs": [
    {
     "data": {
      "text/plain": [
       "array(['Adventure', 'Comedy', 'Action', 'Drama', 'Crime', 'Children',\n",
       "       'Mystery', 'Documentary', 'Animation', 'Thriller', 'Horror',\n",
       "       'Fantasy', 'Western', 'Film-Noir', 'Romance', 'War', 'Sci-Fi',\n",
       "       'Musical'], dtype=object)"
      ]
     },
     "execution_count": 16,
     "metadata": {},
     "output_type": "execute_result"
    }
   ],
   "source": [
    "newdf['Genre'].unique()"
   ]
  },
  {
   "cell_type": "code",
   "execution_count": 17,
   "metadata": {
    "collapsed": false
   },
   "outputs": [
    {
     "name": "stdout",
     "output_type": "stream",
     "text": [
      "          Genre                                              Title\n",
      "0     Adventure                                   Toy Story (1995)\n",
      "1     Adventure                                     Jumanji (1995)\n",
      "2        Comedy                            Grumpier Old Men (1995)\n",
      "3        Comedy                           Waiting to Exhale (1995)\n",
      "4        Comedy                 Father of the Bride Part II (1995)\n",
      "5        Action                                        Heat (1995)\n",
      "6        Comedy                                     Sabrina (1995)\n",
      "7     Adventure                                Tom and Huck (1995)\n",
      "8        Action                                Sudden Death (1995)\n",
      "9        Action                                   GoldenEye (1995)\n",
      "10       Comedy                     American President, The (1995)\n",
      "11       Comedy                 Dracula: Dead and Loving It (1995)\n",
      "12    Adventure                                       Balto (1995)\n",
      "13        Drama                                       Nixon (1995)\n",
      "14       Action                            Cutthroat Island (1995)\n",
      "15        Crime                                      Casino (1995)\n",
      "16        Drama                       Sense and Sensibility (1995)\n",
      "17       Comedy                                  Four Rooms (1995)\n",
      "18       Comedy              Ace Ventura: When Nature Calls (1995)\n",
      "19       Action                                 Money Train (1995)\n",
      "20       Comedy                                  Get Shorty (1995)\n",
      "21        Crime                                     Copycat (1995)\n",
      "22       Action                                   Assassins (1995)\n",
      "23        Drama                                      Powder (1995)\n",
      "24        Drama                           Leaving Las Vegas (1995)\n",
      "25        Drama                                     Othello (1995)\n",
      "26     Children                                Now and Then (1995)\n",
      "27        Drama                                  Persuasion (1995)\n",
      "28    Adventure  City of Lost Children, The (Cité des enfants p...\n",
      "29        Crime  Shanghai Triad (Yao a yao yao dao waipo qiao) ...\n",
      "..          ...                                                ...\n",
      "70       Action                                   Fair Game (1995)\n",
      "71       Comedy                       Kicking and Screaming (1995)\n",
      "72        Drama                             Misérables, Les (1995)\n",
      "73        Drama                                Bed of Roses (1996)\n",
      "74       Comedy                                   Big Bully (1996)\n",
      "75       Action                                   Screamers (1995)\n",
      "76  Documentary                                   Nico Icon (1995)\n",
      "77       Action                         Crossing Guard, The (1995)\n",
      "78        Drama                                  Juror, The (1996)\n",
      "79     Children        White Balloon, The (Badkonake sefid) (1995)\n",
      "80        Crime     Things to Do in Denver When You're Dead (1995)\n",
      "81       Comedy                    Antonia's Line (Antonia) (1995)\n",
      "82        Drama    Once Upon a Time... When We Were Colored (1995)\n",
      "83       Comedy                 Last Summer in the Hamptons (1995)\n",
      "84        Drama                          Angels and Insects (1995)\n",
      "85       Action                                White Squall (1996)\n",
      "86     Children                           Dunston Checks In (1996)\n",
      "87       Comedy                                 Black Sheep (1996)\n",
      "88       Action                                Nick of Time (1995)\n",
      "89        Drama                 Journey of August King, The (1995)\n",
      "90        Drama                                 Mary Reilly (1996)\n",
      "91       Comedy                         Vampire in Brooklyn (1995)\n",
      "92       Comedy                             Beautiful Girls (1996)\n",
      "93       Action                                Broken Arrow (1996)\n",
      "94       Comedy                      In the Bleak Midwinter (1995)\n",
      "95        Crime                            Hate (Haine, La) (1995)\n",
      "96       Action                                    Shopping (1994)\n",
      "97  Documentary               Heidi Fleiss: Hollywood Madam (1995)\n",
      "98        Drama                                   City Hall (1996)\n",
      "99    Adventure                               Bottle Rocket (1996)\n",
      "\n",
      "[100 rows x 2 columns]\n",
      "            Genre                                              Title\n",
      "181912     Sci-Fi                                       Pulse (2006)\n",
      "182111   Thriller                             Lady on a Train (1945)\n",
      "182270     Sci-Fi                                   Mind Game (2004)\n",
      "182534        War                               Blood Diamond (2006)\n",
      "182537    Romance                                         She (1965)\n",
      "182666        War                                         Izo (2004)\n",
      "182756    Fantasy                    Atlantis: Milo's Return (2003) \n",
      "182791    Fantasy         TMNT (Teenage Mutant Ninja Turtles) (2007)\n",
      "182825     Sci-Fi                          Meet the Robinsons (2007)\n",
      "182846    Mystery  Aqua Teen Hunger Force Colon Movie Film for Th...\n",
      "183061     Sci-Fi                                    Underdog (2007)\n",
      "183309    Musical                                   Enchanted (2007)\n",
      "183598   Thriller                                  Slipstream (2007)\n",
      "183760   Thriller  Honor Among Thieves (Adieu l'ami) (Farewell, F...\n",
      "184149     Sci-Fi                     Futurama: Bender's Game (2008)\n",
      "184290   Thriller                           The Wrecking Crew (1968)\n",
      "184592   Thriller                   Army of One (Joshua Tree) (1993)\n",
      "184852   Thriller                                         Don (1978)\n",
      "184952    Romance              Ice Age: Dawn of the Dinosaurs (2009)\n",
      "185437     Sci-Fi          Aelita: The Queen of Mars (Aelita) (1924)\n",
      "185472   Thriller    Cirque du Freak: The Vampire's Assistant (2009)\n",
      "185921   Thriller              Hero: Love Story of a Spy, The (2003)\n",
      "185922   Thriller                     Lucky: No Time For Love (2005)\n",
      "186041    Mystery  Lupin III: Sweet Lost Night (Rupan Sansei: Swe...\n",
      "186113    Mystery  Lupin III: First Contact (Rupan Sansei: Faasut...\n",
      "186564   Thriller                   Island of Dr. Moreau, The (1977)\n",
      "186602   Thriller                                   Inception (2010)\n",
      "187095  Film-Noir                                      Rubber (2010)\n",
      "187264    Romance                                     Tangled (2010)\n",
      "187544    Romance                       Kaho Naa... Pyaar Hai (2000)\n",
      "...           ...                                                ...\n",
      "208150    Mystery                    Who Framed Roger Rabbit? (1988)\n",
      "209873   Thriller                               Osmosis Jones (2001)\n",
      "210171     Sci-Fi                                    Motorama (1991)\n",
      "212041   Thriller                               Interstate 60 (2002)\n",
      "213853    Musical  Wonderful World of the Brothers Grimm, The (1962)\n",
      "214248     Sci-Fi  Patlabor: The Movie (Kidô keisatsu patorebâ: T...\n",
      "214544    Romance  Revolutionary Girl Utena: Adolescence of Utena...\n",
      "214736   Thriller                                 Svidd Neger (2003)\n",
      "216120   Thriller                                       Pulse (2006)\n",
      "216745     Sci-Fi                                         She (1965)\n",
      "217054     Sci-Fi  Aqua Teen Hunger Force Colon Movie Film for Th...\n",
      "217517    Romance                                   Enchanted (2007)\n",
      "219645   Thriller          Aelita: The Queen of Mars (Aelita) (1924)\n",
      "220129        War              Hero: Love Story of a Spy, The (2003)\n",
      "220130        War                     Lucky: No Time For Love (2005)\n",
      "220249    Romance  Lupin III: Sweet Lost Night (Rupan Sansei: Swe...\n",
      "220321    Romance  Lupin III: First Contact (Rupan Sansei: Faasut...\n",
      "221303     Horror                                      Rubber (2010)\n",
      "221752   Thriller                       Kaho Naa... Pyaar Hai (2000)\n",
      "225047        War  Glamorous Life of Sachiko Hanai, The (Hatsujô ...\n",
      "229813        War                              Whip Hand, The (1951)\n",
      "238102     Sci-Fi                      Princes and Princesses (2000)\n",
      "244379   Thriller                                    Motorama (1991)\n",
      "248061    Romance  Wonderful World of the Brothers Grimm, The (1962)\n",
      "248456   Thriller  Patlabor: The Movie (Kidô keisatsu patorebâ: T...\n",
      "254457   Thriller  Lupin III: Sweet Lost Night (Rupan Sansei: Swe...\n",
      "254529   Thriller  Lupin III: First Contact (Rupan Sansei: Faasut...\n",
      "255511    Mystery                                      Rubber (2010)\n",
      "289719   Thriller                                      Rubber (2010)\n",
      "323927    Western                                      Rubber (2010)\n",
      "\n",
      "[100 rows x 2 columns]\n"
     ]
    }
   ],
   "source": [
    "print newdf.head(100)\n",
    "print newdf.tail(100)"
   ]
  },
  {
   "cell_type": "code",
   "execution_count": 18,
   "metadata": {
    "collapsed": false
   },
   "outputs": [],
   "source": [
    "# for i in range(1900,2020):\n",
    "#     cut = \"\\(\"+str(i)+\"\\)\"\n",
    "#     #print string\n",
    "#     newdf['Title'] = newdf['Title'].str.replace(cut,\"\")\n"
   ]
  },
  {
   "cell_type": "code",
   "execution_count": 19,
   "metadata": {
    "collapsed": false
   },
   "outputs": [
    {
     "data": {
      "text/html": [
       "<div>\n",
       "<table border=\"1\" class=\"dataframe\">\n",
       "  <thead>\n",
       "    <tr style=\"text-align: right;\">\n",
       "      <th></th>\n",
       "      <th>Genre</th>\n",
       "      <th>Title</th>\n",
       "    </tr>\n",
       "  </thead>\n",
       "  <tbody>\n",
       "    <tr>\n",
       "      <th>181912</th>\n",
       "      <td>Sci-Fi</td>\n",
       "      <td>Pulse (2006)</td>\n",
       "    </tr>\n",
       "    <tr>\n",
       "      <th>182111</th>\n",
       "      <td>Thriller</td>\n",
       "      <td>Lady on a Train (1945)</td>\n",
       "    </tr>\n",
       "    <tr>\n",
       "      <th>182270</th>\n",
       "      <td>Sci-Fi</td>\n",
       "      <td>Mind Game (2004)</td>\n",
       "    </tr>\n",
       "    <tr>\n",
       "      <th>182534</th>\n",
       "      <td>War</td>\n",
       "      <td>Blood Diamond (2006)</td>\n",
       "    </tr>\n",
       "    <tr>\n",
       "      <th>182537</th>\n",
       "      <td>Romance</td>\n",
       "      <td>She (1965)</td>\n",
       "    </tr>\n",
       "    <tr>\n",
       "      <th>182666</th>\n",
       "      <td>War</td>\n",
       "      <td>Izo (2004)</td>\n",
       "    </tr>\n",
       "    <tr>\n",
       "      <th>182756</th>\n",
       "      <td>Fantasy</td>\n",
       "      <td>Atlantis: Milo's Return (2003)</td>\n",
       "    </tr>\n",
       "    <tr>\n",
       "      <th>182791</th>\n",
       "      <td>Fantasy</td>\n",
       "      <td>TMNT (Teenage Mutant Ninja Turtles) (2007)</td>\n",
       "    </tr>\n",
       "    <tr>\n",
       "      <th>182825</th>\n",
       "      <td>Sci-Fi</td>\n",
       "      <td>Meet the Robinsons (2007)</td>\n",
       "    </tr>\n",
       "    <tr>\n",
       "      <th>182846</th>\n",
       "      <td>Mystery</td>\n",
       "      <td>Aqua Teen Hunger Force Colon Movie Film for Th...</td>\n",
       "    </tr>\n",
       "    <tr>\n",
       "      <th>183061</th>\n",
       "      <td>Sci-Fi</td>\n",
       "      <td>Underdog (2007)</td>\n",
       "    </tr>\n",
       "    <tr>\n",
       "      <th>183309</th>\n",
       "      <td>Musical</td>\n",
       "      <td>Enchanted (2007)</td>\n",
       "    </tr>\n",
       "    <tr>\n",
       "      <th>183598</th>\n",
       "      <td>Thriller</td>\n",
       "      <td>Slipstream (2007)</td>\n",
       "    </tr>\n",
       "    <tr>\n",
       "      <th>183760</th>\n",
       "      <td>Thriller</td>\n",
       "      <td>Honor Among Thieves (Adieu l'ami) (Farewell, F...</td>\n",
       "    </tr>\n",
       "    <tr>\n",
       "      <th>184149</th>\n",
       "      <td>Sci-Fi</td>\n",
       "      <td>Futurama: Bender's Game (2008)</td>\n",
       "    </tr>\n",
       "    <tr>\n",
       "      <th>184290</th>\n",
       "      <td>Thriller</td>\n",
       "      <td>The Wrecking Crew (1968)</td>\n",
       "    </tr>\n",
       "    <tr>\n",
       "      <th>184592</th>\n",
       "      <td>Thriller</td>\n",
       "      <td>Army of One (Joshua Tree) (1993)</td>\n",
       "    </tr>\n",
       "    <tr>\n",
       "      <th>184852</th>\n",
       "      <td>Thriller</td>\n",
       "      <td>Don (1978)</td>\n",
       "    </tr>\n",
       "    <tr>\n",
       "      <th>184952</th>\n",
       "      <td>Romance</td>\n",
       "      <td>Ice Age: Dawn of the Dinosaurs (2009)</td>\n",
       "    </tr>\n",
       "    <tr>\n",
       "      <th>185437</th>\n",
       "      <td>Sci-Fi</td>\n",
       "      <td>Aelita: The Queen of Mars (Aelita) (1924)</td>\n",
       "    </tr>\n",
       "    <tr>\n",
       "      <th>185472</th>\n",
       "      <td>Thriller</td>\n",
       "      <td>Cirque du Freak: The Vampire's Assistant (2009)</td>\n",
       "    </tr>\n",
       "    <tr>\n",
       "      <th>185921</th>\n",
       "      <td>Thriller</td>\n",
       "      <td>Hero: Love Story of a Spy, The (2003)</td>\n",
       "    </tr>\n",
       "    <tr>\n",
       "      <th>185922</th>\n",
       "      <td>Thriller</td>\n",
       "      <td>Lucky: No Time For Love (2005)</td>\n",
       "    </tr>\n",
       "    <tr>\n",
       "      <th>186041</th>\n",
       "      <td>Mystery</td>\n",
       "      <td>Lupin III: Sweet Lost Night (Rupan Sansei: Swe...</td>\n",
       "    </tr>\n",
       "    <tr>\n",
       "      <th>186113</th>\n",
       "      <td>Mystery</td>\n",
       "      <td>Lupin III: First Contact (Rupan Sansei: Faasut...</td>\n",
       "    </tr>\n",
       "    <tr>\n",
       "      <th>186564</th>\n",
       "      <td>Thriller</td>\n",
       "      <td>Island of Dr. Moreau, The (1977)</td>\n",
       "    </tr>\n",
       "    <tr>\n",
       "      <th>186602</th>\n",
       "      <td>Thriller</td>\n",
       "      <td>Inception (2010)</td>\n",
       "    </tr>\n",
       "    <tr>\n",
       "      <th>187095</th>\n",
       "      <td>Film-Noir</td>\n",
       "      <td>Rubber (2010)</td>\n",
       "    </tr>\n",
       "    <tr>\n",
       "      <th>187264</th>\n",
       "      <td>Romance</td>\n",
       "      <td>Tangled (2010)</td>\n",
       "    </tr>\n",
       "    <tr>\n",
       "      <th>187544</th>\n",
       "      <td>Romance</td>\n",
       "      <td>Kaho Naa... Pyaar Hai (2000)</td>\n",
       "    </tr>\n",
       "    <tr>\n",
       "      <th>...</th>\n",
       "      <td>...</td>\n",
       "      <td>...</td>\n",
       "    </tr>\n",
       "    <tr>\n",
       "      <th>208150</th>\n",
       "      <td>Mystery</td>\n",
       "      <td>Who Framed Roger Rabbit? (1988)</td>\n",
       "    </tr>\n",
       "    <tr>\n",
       "      <th>209873</th>\n",
       "      <td>Thriller</td>\n",
       "      <td>Osmosis Jones (2001)</td>\n",
       "    </tr>\n",
       "    <tr>\n",
       "      <th>210171</th>\n",
       "      <td>Sci-Fi</td>\n",
       "      <td>Motorama (1991)</td>\n",
       "    </tr>\n",
       "    <tr>\n",
       "      <th>212041</th>\n",
       "      <td>Thriller</td>\n",
       "      <td>Interstate 60 (2002)</td>\n",
       "    </tr>\n",
       "    <tr>\n",
       "      <th>213853</th>\n",
       "      <td>Musical</td>\n",
       "      <td>Wonderful World of the Brothers Grimm, The (1962)</td>\n",
       "    </tr>\n",
       "    <tr>\n",
       "      <th>214248</th>\n",
       "      <td>Sci-Fi</td>\n",
       "      <td>Patlabor: The Movie (Kidô keisatsu patorebâ: T...</td>\n",
       "    </tr>\n",
       "    <tr>\n",
       "      <th>214544</th>\n",
       "      <td>Romance</td>\n",
       "      <td>Revolutionary Girl Utena: Adolescence of Utena...</td>\n",
       "    </tr>\n",
       "    <tr>\n",
       "      <th>214736</th>\n",
       "      <td>Thriller</td>\n",
       "      <td>Svidd Neger (2003)</td>\n",
       "    </tr>\n",
       "    <tr>\n",
       "      <th>216120</th>\n",
       "      <td>Thriller</td>\n",
       "      <td>Pulse (2006)</td>\n",
       "    </tr>\n",
       "    <tr>\n",
       "      <th>216745</th>\n",
       "      <td>Sci-Fi</td>\n",
       "      <td>She (1965)</td>\n",
       "    </tr>\n",
       "    <tr>\n",
       "      <th>217054</th>\n",
       "      <td>Sci-Fi</td>\n",
       "      <td>Aqua Teen Hunger Force Colon Movie Film for Th...</td>\n",
       "    </tr>\n",
       "    <tr>\n",
       "      <th>217517</th>\n",
       "      <td>Romance</td>\n",
       "      <td>Enchanted (2007)</td>\n",
       "    </tr>\n",
       "    <tr>\n",
       "      <th>219645</th>\n",
       "      <td>Thriller</td>\n",
       "      <td>Aelita: The Queen of Mars (Aelita) (1924)</td>\n",
       "    </tr>\n",
       "    <tr>\n",
       "      <th>220129</th>\n",
       "      <td>War</td>\n",
       "      <td>Hero: Love Story of a Spy, The (2003)</td>\n",
       "    </tr>\n",
       "    <tr>\n",
       "      <th>220130</th>\n",
       "      <td>War</td>\n",
       "      <td>Lucky: No Time For Love (2005)</td>\n",
       "    </tr>\n",
       "    <tr>\n",
       "      <th>220249</th>\n",
       "      <td>Romance</td>\n",
       "      <td>Lupin III: Sweet Lost Night (Rupan Sansei: Swe...</td>\n",
       "    </tr>\n",
       "    <tr>\n",
       "      <th>220321</th>\n",
       "      <td>Romance</td>\n",
       "      <td>Lupin III: First Contact (Rupan Sansei: Faasut...</td>\n",
       "    </tr>\n",
       "    <tr>\n",
       "      <th>221303</th>\n",
       "      <td>Horror</td>\n",
       "      <td>Rubber (2010)</td>\n",
       "    </tr>\n",
       "    <tr>\n",
       "      <th>221752</th>\n",
       "      <td>Thriller</td>\n",
       "      <td>Kaho Naa... Pyaar Hai (2000)</td>\n",
       "    </tr>\n",
       "    <tr>\n",
       "      <th>225047</th>\n",
       "      <td>War</td>\n",
       "      <td>Glamorous Life of Sachiko Hanai, The (Hatsujô ...</td>\n",
       "    </tr>\n",
       "    <tr>\n",
       "      <th>229813</th>\n",
       "      <td>War</td>\n",
       "      <td>Whip Hand, The (1951)</td>\n",
       "    </tr>\n",
       "    <tr>\n",
       "      <th>238102</th>\n",
       "      <td>Sci-Fi</td>\n",
       "      <td>Princes and Princesses (2000)</td>\n",
       "    </tr>\n",
       "    <tr>\n",
       "      <th>244379</th>\n",
       "      <td>Thriller</td>\n",
       "      <td>Motorama (1991)</td>\n",
       "    </tr>\n",
       "    <tr>\n",
       "      <th>248061</th>\n",
       "      <td>Romance</td>\n",
       "      <td>Wonderful World of the Brothers Grimm, The (1962)</td>\n",
       "    </tr>\n",
       "    <tr>\n",
       "      <th>248456</th>\n",
       "      <td>Thriller</td>\n",
       "      <td>Patlabor: The Movie (Kidô keisatsu patorebâ: T...</td>\n",
       "    </tr>\n",
       "    <tr>\n",
       "      <th>254457</th>\n",
       "      <td>Thriller</td>\n",
       "      <td>Lupin III: Sweet Lost Night (Rupan Sansei: Swe...</td>\n",
       "    </tr>\n",
       "    <tr>\n",
       "      <th>254529</th>\n",
       "      <td>Thriller</td>\n",
       "      <td>Lupin III: First Contact (Rupan Sansei: Faasut...</td>\n",
       "    </tr>\n",
       "    <tr>\n",
       "      <th>255511</th>\n",
       "      <td>Mystery</td>\n",
       "      <td>Rubber (2010)</td>\n",
       "    </tr>\n",
       "    <tr>\n",
       "      <th>289719</th>\n",
       "      <td>Thriller</td>\n",
       "      <td>Rubber (2010)</td>\n",
       "    </tr>\n",
       "    <tr>\n",
       "      <th>323927</th>\n",
       "      <td>Western</td>\n",
       "      <td>Rubber (2010)</td>\n",
       "    </tr>\n",
       "  </tbody>\n",
       "</table>\n",
       "<p>100 rows × 2 columns</p>\n",
       "</div>"
      ],
      "text/plain": [
       "            Genre                                              Title\n",
       "181912     Sci-Fi                                       Pulse (2006)\n",
       "182111   Thriller                             Lady on a Train (1945)\n",
       "182270     Sci-Fi                                   Mind Game (2004)\n",
       "182534        War                               Blood Diamond (2006)\n",
       "182537    Romance                                         She (1965)\n",
       "182666        War                                         Izo (2004)\n",
       "182756    Fantasy                    Atlantis: Milo's Return (2003) \n",
       "182791    Fantasy         TMNT (Teenage Mutant Ninja Turtles) (2007)\n",
       "182825     Sci-Fi                          Meet the Robinsons (2007)\n",
       "182846    Mystery  Aqua Teen Hunger Force Colon Movie Film for Th...\n",
       "183061     Sci-Fi                                    Underdog (2007)\n",
       "183309    Musical                                   Enchanted (2007)\n",
       "183598   Thriller                                  Slipstream (2007)\n",
       "183760   Thriller  Honor Among Thieves (Adieu l'ami) (Farewell, F...\n",
       "184149     Sci-Fi                     Futurama: Bender's Game (2008)\n",
       "184290   Thriller                           The Wrecking Crew (1968)\n",
       "184592   Thriller                   Army of One (Joshua Tree) (1993)\n",
       "184852   Thriller                                         Don (1978)\n",
       "184952    Romance              Ice Age: Dawn of the Dinosaurs (2009)\n",
       "185437     Sci-Fi          Aelita: The Queen of Mars (Aelita) (1924)\n",
       "185472   Thriller    Cirque du Freak: The Vampire's Assistant (2009)\n",
       "185921   Thriller              Hero: Love Story of a Spy, The (2003)\n",
       "185922   Thriller                     Lucky: No Time For Love (2005)\n",
       "186041    Mystery  Lupin III: Sweet Lost Night (Rupan Sansei: Swe...\n",
       "186113    Mystery  Lupin III: First Contact (Rupan Sansei: Faasut...\n",
       "186564   Thriller                   Island of Dr. Moreau, The (1977)\n",
       "186602   Thriller                                   Inception (2010)\n",
       "187095  Film-Noir                                      Rubber (2010)\n",
       "187264    Romance                                     Tangled (2010)\n",
       "187544    Romance                       Kaho Naa... Pyaar Hai (2000)\n",
       "...           ...                                                ...\n",
       "208150    Mystery                    Who Framed Roger Rabbit? (1988)\n",
       "209873   Thriller                               Osmosis Jones (2001)\n",
       "210171     Sci-Fi                                    Motorama (1991)\n",
       "212041   Thriller                               Interstate 60 (2002)\n",
       "213853    Musical  Wonderful World of the Brothers Grimm, The (1962)\n",
       "214248     Sci-Fi  Patlabor: The Movie (Kidô keisatsu patorebâ: T...\n",
       "214544    Romance  Revolutionary Girl Utena: Adolescence of Utena...\n",
       "214736   Thriller                                 Svidd Neger (2003)\n",
       "216120   Thriller                                       Pulse (2006)\n",
       "216745     Sci-Fi                                         She (1965)\n",
       "217054     Sci-Fi  Aqua Teen Hunger Force Colon Movie Film for Th...\n",
       "217517    Romance                                   Enchanted (2007)\n",
       "219645   Thriller          Aelita: The Queen of Mars (Aelita) (1924)\n",
       "220129        War              Hero: Love Story of a Spy, The (2003)\n",
       "220130        War                     Lucky: No Time For Love (2005)\n",
       "220249    Romance  Lupin III: Sweet Lost Night (Rupan Sansei: Swe...\n",
       "220321    Romance  Lupin III: First Contact (Rupan Sansei: Faasut...\n",
       "221303     Horror                                      Rubber (2010)\n",
       "221752   Thriller                       Kaho Naa... Pyaar Hai (2000)\n",
       "225047        War  Glamorous Life of Sachiko Hanai, The (Hatsujô ...\n",
       "229813        War                              Whip Hand, The (1951)\n",
       "238102     Sci-Fi                      Princes and Princesses (2000)\n",
       "244379   Thriller                                    Motorama (1991)\n",
       "248061    Romance  Wonderful World of the Brothers Grimm, The (1962)\n",
       "248456   Thriller  Patlabor: The Movie (Kidô keisatsu patorebâ: T...\n",
       "254457   Thriller  Lupin III: Sweet Lost Night (Rupan Sansei: Swe...\n",
       "254529   Thriller  Lupin III: First Contact (Rupan Sansei: Faasut...\n",
       "255511    Mystery                                      Rubber (2010)\n",
       "289719   Thriller                                      Rubber (2010)\n",
       "323927    Western                                      Rubber (2010)\n",
       "\n",
       "[100 rows x 2 columns]"
      ]
     },
     "execution_count": 19,
     "metadata": {},
     "output_type": "execute_result"
    }
   ],
   "source": [
    "newdf.head(100)\n",
    "newdf.tail(100)"
   ]
  },
  {
   "cell_type": "code",
   "execution_count": 20,
   "metadata": {
    "collapsed": true
   },
   "outputs": [],
   "source": [
    "def remove_year(x):\n",
    "    return re.sub(r'\\([0-9]{4}\\)','',x).strip()"
   ]
  },
  {
   "cell_type": "code",
   "execution_count": 21,
   "metadata": {
    "collapsed": false
   },
   "outputs": [],
   "source": [
    "newdf['Title'] = newdf['Title'].apply(remove_year)"
   ]
  },
  {
   "cell_type": "code",
   "execution_count": 22,
   "metadata": {
    "collapsed": false
   },
   "outputs": [],
   "source": [
    "newdf['Title'] = newdf['Title'].str.lower()"
   ]
  },
  {
   "cell_type": "code",
   "execution_count": 23,
   "metadata": {
    "collapsed": false
   },
   "outputs": [
    {
     "data": {
      "text/html": [
       "<div>\n",
       "<table border=\"1\" class=\"dataframe\">\n",
       "  <thead>\n",
       "    <tr style=\"text-align: right;\">\n",
       "      <th></th>\n",
       "      <th>Genre</th>\n",
       "      <th>Title</th>\n",
       "    </tr>\n",
       "  </thead>\n",
       "  <tbody>\n",
       "    <tr>\n",
       "      <th>254457</th>\n",
       "      <td>Thriller</td>\n",
       "      <td>lupin iii: sweet lost night (rupan sansei: swe...</td>\n",
       "    </tr>\n",
       "    <tr>\n",
       "      <th>254529</th>\n",
       "      <td>Thriller</td>\n",
       "      <td>lupin iii: first contact (rupan sansei: faasut...</td>\n",
       "    </tr>\n",
       "    <tr>\n",
       "      <th>255511</th>\n",
       "      <td>Mystery</td>\n",
       "      <td>rubber</td>\n",
       "    </tr>\n",
       "    <tr>\n",
       "      <th>289719</th>\n",
       "      <td>Thriller</td>\n",
       "      <td>rubber</td>\n",
       "    </tr>\n",
       "    <tr>\n",
       "      <th>323927</th>\n",
       "      <td>Western</td>\n",
       "      <td>rubber</td>\n",
       "    </tr>\n",
       "  </tbody>\n",
       "</table>\n",
       "</div>"
      ],
      "text/plain": [
       "           Genre                                              Title\n",
       "254457  Thriller  lupin iii: sweet lost night (rupan sansei: swe...\n",
       "254529  Thriller  lupin iii: first contact (rupan sansei: faasut...\n",
       "255511   Mystery                                             rubber\n",
       "289719  Thriller                                             rubber\n",
       "323927   Western                                             rubber"
      ]
     },
     "execution_count": 23,
     "metadata": {},
     "output_type": "execute_result"
    }
   ],
   "source": [
    "newdf.head()\n",
    "newdf.tail()"
   ]
  },
  {
   "cell_type": "code",
   "execution_count": 24,
   "metadata": {
    "collapsed": true
   },
   "outputs": [],
   "source": [
    "X = newdf['Title']\n",
    "y = newdf['Genre']"
   ]
  },
  {
   "cell_type": "code",
   "execution_count": 25,
   "metadata": {
    "collapsed": false
   },
   "outputs": [],
   "source": [
    "text_pipeline = pipeline.make_pipeline(feature_extraction.text.CountVectorizer(),\n",
    "                                       linear_model.LogisticRegression(multi_class='ovr'))"
   ]
  },
  {
   "cell_type": "code",
   "execution_count": 26,
   "metadata": {
    "collapsed": false
   },
   "outputs": [
    {
     "data": {
      "text/plain": [
       "array([ 0.24846203,  0.22358452,  0.16652885])"
      ]
     },
     "execution_count": 26,
     "metadata": {},
     "output_type": "execute_result"
    }
   ],
   "source": [
    "cross_validation.cross_val_score(text_pipeline, X=X, y=y, cv=3)"
   ]
  },
  {
   "cell_type": "code",
   "execution_count": 27,
   "metadata": {
    "collapsed": false
   },
   "outputs": [],
   "source": [
    "text_pipeline2 = pipeline.make_pipeline(feature_extraction.text.CountVectorizer(),\n",
    "                                        feature_extraction.text.TfidfTransformer(),\n",
    "                                         linear_model.LogisticRegression())"
   ]
  },
  {
   "cell_type": "code",
   "execution_count": 28,
   "metadata": {
    "collapsed": false
   },
   "outputs": [
    {
     "data": {
      "text/plain": [
       "array([ 0.25984758,  0.23814116,  0.20181   ])"
      ]
     },
     "execution_count": 28,
     "metadata": {},
     "output_type": "execute_result"
    }
   ],
   "source": [
    "cross_validation.cross_val_score(text_pipeline2, X=X, y=y, cv=3)"
   ]
  },
  {
   "cell_type": "code",
   "execution_count": 29,
   "metadata": {
    "collapsed": false
   },
   "outputs": [],
   "source": [
    "model = text_pipeline.fit(X,y)\n",
    "y_pred = model.predict(X)"
   ]
  },
  {
   "cell_type": "code",
   "execution_count": 30,
   "metadata": {
    "collapsed": false
   },
   "outputs": [],
   "source": [
    "model2 = text_pipeline2.fit(X,y)\n",
    "y_pred2 = model2.predict(X)\n",
    "\n",
    "# transformer2 = feature_extraction.text.TfidfTransformer()\n",
    "# transformer2.fit_transform(X,y)"
   ]
  },
  {
   "cell_type": "code",
   "execution_count": 31,
   "metadata": {
    "collapsed": false
   },
   "outputs": [
    {
     "data": {
      "text/plain": [
       "array([[  978,   151,    44,    10,   537,    93,    15,  2054,    23,\n",
       "            0,   101,     2,    11,    14,   124,   249,    14,    25],\n",
       "       [  299,   395,    55,    54,   459,    12,    20,  1155,    53,\n",
       "            0,    34,     3,     4,    27,    89,    76,     7,    21],\n",
       "       [  109,    76,   204,   121,   335,     3,    13,   407,    28,\n",
       "            0,    20,     6,     2,    11,    41,     8,     1,     2],\n",
       "       [   39,   111,    95,   211,   521,     4,     5,   525,    38,\n",
       "            0,    13,     7,     1,    11,    16,     8,     1,     3],\n",
       "       [  146,    81,    34,    56,  5584,    67,    49,  3554,    20,\n",
       "            0,   168,     8,    29,   175,    45,    86,     7,    15],\n",
       "       [  179,     7,     7,     1,   476,   275,    18,  2127,     1,\n",
       "            0,    53,     2,    49,    17,     9,   221,     2,     2],\n",
       "       [   22,    11,     1,     3,   350,    21,  1083,  1411,     0,\n",
       "            0,    36,     4,     2,    16,    22,    41,    16,     1],\n",
       "       [  216,    62,    10,    18,  1146,   104,    49, 13514,    13,\n",
       "            1,   131,     4,    23,   147,    51,   240,    29,    16],\n",
       "       [  125,   114,    43,    58,   317,     6,    14,   713,   126,\n",
       "            0,    84,     2,     3,    31,    25,    31,     0,     0],\n",
       "       [    1,     0,     1,     0,    13,    11,     1,   273,     0,\n",
       "            0,     4,     0,     0,     2,     0,    32,     0,     0],\n",
       "       [   71,     9,     4,     2,   359,    13,    13,  1335,    13,\n",
       "            0,  1098,     2,    21,     9,    82,   328,     4,     2],\n",
       "       [    8,    16,     7,    22,   331,     1,    41,   523,    12,\n",
       "            0,     8,    40,     1,    30,     4,     4,     3,     1],\n",
       "       [   22,    10,     9,    14,   165,    56,     8,  1072,     3,\n",
       "            0,   135,     1,   104,     5,    14,   218,     0,     1],\n",
       "       [   36,    42,    10,    11,  1174,    12,    12,  3088,     8,\n",
       "            0,    33,     6,     6,   359,    12,    46,     8,    12],\n",
       "       [  225,    70,    25,     5,   255,     1,     9,   878,    16,\n",
       "            0,   173,     0,     8,     8,   362,   115,     3,     3],\n",
       "       [  238,    25,     7,     1,   356,   106,    12,  3195,     7,\n",
       "            0,   314,     0,    38,    26,    62,   906,     4,     3],\n",
       "       [   80,    16,     2,     0,    80,     5,    34,  1010,     0,\n",
       "            0,     7,     0,     1,    12,     6,    18,    69,     5],\n",
       "       [   36,    15,     0,     1,   130,     4,     1,   437,     0,\n",
       "            0,    11,     2,     0,    14,     5,    13,     1,   109]])"
      ]
     },
     "execution_count": 31,
     "metadata": {},
     "output_type": "execute_result"
    }
   ],
   "source": [
    "metrics.accuracy_score(y_pred = y_pred, y_true = y)\n",
    "metrics.confusion_matrix(y_pred = y_pred, y_true = y)"
   ]
  },
  {
   "cell_type": "code",
   "execution_count": 32,
   "metadata": {
    "collapsed": false
   },
   "outputs": [
    {
     "data": {
      "text/plain": [
       "array(['Drama'], dtype=object)"
      ]
     },
     "execution_count": 32,
     "metadata": {},
     "output_type": "execute_result"
    }
   ],
   "source": [
    "model.predict([\"Cow in the city\"])\n",
    "model2.predict([\"Cow in the city\"])"
   ]
  },
  {
   "cell_type": "code",
   "execution_count": 33,
   "metadata": {
    "collapsed": false
   },
   "outputs": [],
   "source": [
    "#sorted(zip(model.classes_,model.predict_proba([\"kill bill\"])[0]), key=lambda (c,p): (-p,c))"
   ]
  },
  {
   "cell_type": "code",
   "execution_count": 34,
   "metadata": {
    "collapsed": false
   },
   "outputs": [
    {
     "data": {
      "text/plain": [
       "18"
      ]
     },
     "execution_count": 34,
     "metadata": {},
     "output_type": "execute_result"
    }
   ],
   "source": [
    "len(model.classes_)"
   ]
  },
  {
   "cell_type": "code",
   "execution_count": 40,
   "metadata": {
    "collapsed": false
   },
   "outputs": [
    {
     "data": {
      "text/plain": [
       "array(['Action', 'Adventure', 'Animation', 'Children', 'Comedy', 'Crime',\n",
       "       'Documentary', 'Drama', 'Fantasy', 'Film-Noir', 'Horror', 'Musical',\n",
       "       'Mystery', 'Romance', 'Sci-Fi', 'Thriller', 'War', 'Western'], dtype=object)"
      ]
     },
     "execution_count": 40,
     "metadata": {},
     "output_type": "execute_result"
    }
   ],
   "source": [
    "model.classes_"
   ]
  },
  {
   "cell_type": "code",
   "execution_count": 35,
   "metadata": {
    "collapsed": true
   },
   "outputs": [],
   "source": [
    "##GUI"
   ]
  },
  {
   "cell_type": "code",
   "execution_count": 45,
   "metadata": {
    "collapsed": false,
    "scrolled": false
   },
   "outputs": [
    {
     "name": "stdout",
     "output_type": "stream",
     "text": [
      "terry murders alice is a Crime\n",
      "Crime 0.15209747235\n",
      "Mystery 0.141430417802\n",
      "Thriller 0.126230841611\n",
      "Comedy 0.120822500251\n",
      "Horror 0.0804658562272\n"
     ]
    },
    {
     "data": {
      "image/png": "[encoded data removed]",
      "text/plain": [
       "<matplotlib.figure.Figure at 0x114bc5bd0>"
      ]
     },
     "metadata": {},
     "output_type": "display_data"
    }
   ],
   "source": [
    "from IPython.display import display, clear_output\n",
    "from IPython.html import widgets \n",
    "import matplotlib.pyplot as plt\n",
    "%matplotlib inline\n",
    "\n",
    "text = widgets.Text(\"CountVectorizer - Please enter movie name\")\n",
    "display(text)\n",
    "\n",
    "def handle_submit(sender):   \n",
    "    \n",
    "    clear_output()\n",
    "    \n",
    "    print text.value + \" is a \" + model.predict([text.value.lower()])[0]\n",
    "    \n",
    "    sortgenre =  sorted(zip(model.classes_,model.predict_proba([text.value.lower()])[0]), key=lambda (c,p): (-p,c))\n",
    "    \n",
    "    chartx, charty = zip(*sortgenre)\n",
    "    \n",
    "    for i in range(5):\n",
    "        print chartx[i], charty[i]\n",
    "       \n",
    "    ind = np.arange(5)  \n",
    "    width = 0.50 \n",
    "    plt.bar(ind,charty[0:5])\n",
    "    plt.xticks(ind + width/2., chartx[0:5])\n",
    "    plt.title(text.value)\n",
    "    plt.xlabel(\"Category\")\n",
    "    plt.xlabel(\"Probability\")\n",
    "\n",
    "text.on_submit(handle_submit)\n"
   ]
  },
  {
   "cell_type": "code",
   "execution_count": null,
   "metadata": {
    "collapsed": false
   },
   "outputs": [],
   "source": []
  },
  {
   "cell_type": "code",
   "execution_count": 46,
   "metadata": {
    "collapsed": false
   },
   "outputs": [],
   "source": [
    "text = widgets.Text(\"TfidfTransformer - Please enter movie name\")\n",
    "display(text)\n",
    "\n",
    "def handle_submit(sender):   \n",
    "    \n",
    "    clear_output()\n",
    "    \n",
    "    print text.value + \" is a \" + model2.predict([text.value.lower()])[0]\n",
    "    \n",
    "    sortgenre =  sorted(zip(model2.classes_,model2.predict_proba([text.value.lower()])[0]), key=lambda (c,p): (-p,c))\n",
    "    \n",
    "    chartx, charty = zip(*sortgenre)\n",
    "    \n",
    "    for i in range(5):\n",
    "        print chartx[i], charty[i]\n",
    "       \n",
    "    ind = np.arange(5)  \n",
    "    width = 0.50 \n",
    "    plt.bar(ind,charty[0:5])\n",
    "    plt.xticks(ind + width/2., chartx[0:5])\n",
    "    plt.title(text.value)\n",
    "    plt.xlabel(\"Category\")\n",
    "    plt.xlabel(\"Probability\")\n",
    "\n",
    "text.on_submit(handle_submit)"
   ]
  },
  {
   "cell_type": "code",
   "execution_count": null,
   "metadata": {
    "collapsed": true
   },
   "outputs": [],
   "source": []
  }
 ],
 "metadata": {
  "kernelspec": {
   "display_name": "Python 2",
   "language": "python",
   "name": "python2"
  },
  "language_info": {
   "codemirror_mode": {
    "name": "ipython",
    "version": 2
   },
   "file_extension": ".py",
   "mimetype": "text/x-python",
   "name": "python",
   "nbconvert_exporter": "python",
   "pygments_lexer": "ipython2",
   "version": "2.7.11"
  }
 },
 "nbformat": 4,
 "nbformat_minor": 0
}

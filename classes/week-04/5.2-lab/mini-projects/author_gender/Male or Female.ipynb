{
 "cells": [
  {
   "cell_type": "markdown",
   "metadata": {},
   "source": [
    "# Male or Female?"
   ]
  },
  {
   "cell_type": "code",
   "execution_count": 1,
   "metadata": {
    "collapsed": false
   },
   "outputs": [],
   "source": [
    "import pandas as pd\n",
    "import numpy as np\n",
    "\n",
    "%matplotlib inline\n",
    "from matplotlib import pyplot as plt\n",
    "\n",
    "from sklearn import datasets, linear_model\n",
    "from sklearn.metrics import mean_squared_error\n",
    "from sklearn.cross_validation import train_test_split\n",
    "from sklearn.cross_validation import cross_val_score\n",
    "from sklearn.linear_model import LinearRegression\n",
    "from sklearn.neighbors import KNeighborsClassifier\n",
    "from sklearn import feature_extraction, pipeline, cross_validation\n",
    "\n",
    "import statsmodels.api as sm\n",
    "from sklearn import linear_model\n",
    "from sklearn import metrics\n",
    "\n",
    "from IPython.display import Image\n",
    "from IPython.display import display\n",
    "import seaborn as sns\n",
    "\n",
    "import re\n"
   ]
  },
  {
   "cell_type": "code",
   "execution_count": 2,
   "metadata": {
    "collapsed": false
   },
   "outputs": [
    {
     "data": {
      "text/html": [
       "<div>\n",
       "<table border=\"1\" class=\"dataframe\">\n",
       "  <thead>\n",
       "    <tr style=\"text-align: right;\">\n",
       "      <th></th>\n",
       "      <th>text</th>\n",
       "      <th>gender</th>\n",
       "    </tr>\n",
       "  </thead>\n",
       "  <tbody>\n",
       "    <tr>\n",
       "      <th>0</th>\n",
       "      <td>Long time no see. Like always I was rewriting it from scratch a couple of times. But nevertheless it's still java and now it uses metropolis sampling to help that poor path tracing converge.\\n\\nBtw. I did MLT on yesterday evening after 2 beers (it had to be Ballmer peak).\\n\\nAltough the implementation is still very fresh it easily outperforms standard path tracing, what is to be seen especially when difficult caustics are involved.\\n\\nI've implemented spectral rendering too, it was very easy actually, cause all computations on wavelengths are linear just like rgb. But then I realised that even if it does feel more physically correct to do so, whats the point? 3d applications are operating in rgb color space, and because I cant represent a rgb color as spectrum interchangeably I have to approximate it, so as long as I'm not running a physical simulation or something I don't see the benefits (please correct me if I'm wrong), thus I abandoned that.</td>\n",
       "      <td>M</td>\n",
       "    </tr>\n",
       "    <tr>\n",
       "      <th>1</th>\n",
       "      <td>Guest Demo: Eric Iverson’s Itty Bitty Search\\nFebruary 16th, 2010 by Daniel Tunkelang\\nRespond\\n\\nI’m back from vacation, and still digging my way out of everything that’s piled up while I’ve been offline.\\n\\nWhile I catch up, I thought I’d share with you a demo that Eric Iverson was gracious enough to share with me. It uses Yahoo! BOSS to support an exploratory search experience on top of a general web search engine.\\n\\nWhen you perform a query, the application retrieves a set of related term candidates using Yahoo’s key terms API. It then scores each term by dividing its occurrence count within the result set by its global occurrence count–a relevance measure similar to one my former colleagues and I used at Endeca in enterprise contexts.\\n\\nYou can try out the demo yourself at http://www.ittybittysearch.com/. While it has rough edges, it produces nice results–especially considering the simplicity of the approach.\\n\\nHere’s an example of how I used the application to explore and learn something new. I started with [\"information retrieval\"]. I noticed “interactive information retrieval” as a top term, so I used it to refine. Most of the refinement suggestions looked familiar to me–but an unfamiliar name caught my attention: “Anton Leuski”. Following my curiosity, I refined again. Looking at the results, I immediately saw that Leuski had done work on evaluating document clustering for interactive information retrieval. Further exploration made it clear this is someone whose work I should get to know–check out his home page!\\n\\nI can’t promise that you’ll have as productive an experience as I did, but I encourage you to try Eric’s demo. It’s simple examples like these that remind me of the value of pursuing HCIR for the open web.\\n\\nSpeaking of which, HCIR 2010 is in the works. We’ll flesh out the details over the next weeks, and of course I’ll share them here.</td>\n",
       "      <td>M</td>\n",
       "    </tr>\n",
       "    <tr>\n",
       "      <th>2</th>\n",
       "      <td>Who moved my Cheese???   The world has been developing in and out in all the areas and to create a difference in this competitive world... we need to change...\\nchange the way we take our things...\\nbut we rather change or atleast try to change..... we try the same routine work evryday and expect to get more\\nand when things fail such as losing a job, loss in business we would upset, discouraged, frustrated and keep on hanging to the same thing again and start complaining.\\nCHANGE IS GOOD.... LETS WELCOME IT..!!!\\nwondering wat is all about Cheese?? and what actually is all about \" Who Moved My Cheese??? \"\\n\\n\\nWell...!!!! Who moved my cheese?? is a simple parable that reveals profound thoughts. It is an enlightening story of four characters who live in a maze and look for cheese to nourish them and make them happy. The story is about two mice called \"SNIFF\" and \"SCURRY\" and two little men ... smaller in size and who were similar to us people. Their names were \"HEM\" and \"HAW\"\\n\\nCheese is a metaphor for what you want to have in life - whether it is a good job, loving relationship, money or a possession, health or spiritual peace of mind.\\n\\nAnd the maze is where you look for what you want - the organisation you work in, or the family or community you live in.\\n\\nEveryday both the mice and men spent time in the maze looking for their own special cheese. The mice had only Rodent brains while the men used their brains, filled with many beliefs. The common thing between the rodents and these men is tat every morning they went in search for the cheese.\\n\\nThe maze had confusing network of paths corridors and some of the chambers had delicious cheese. But there were also dark corners and blind alleys leading nowhere. It was an easy place to get lost. Those who found the way to secret chambers had to enjoy a better life.\\n\\nAfter much of searching they found a chamber C which had an enormous amount of richest quality of Cheese.Rodents used the trial and error method by racing through the corridors. While the men used their brains and beliefs and experience.\\n\\nHAVING CHEESE MADE THEM HAPPY.\\nBoth these men and rodents enjoyed the cheese everyday almost many many days and finally one day was such tat the cheese had to run out and there isnt left anymore.\\nRodents observed the minute details of cheese getting decreased day by day and they were ready for the situation and were ready for the hunt of new Cheese.\\nOn the otherhand these men based on their beliefs wondered \"Who moved their Cheese?\". Both HEM and HAW kept waiting for the cheese at the old place. Fearing that they might get lost in the maze they didnt start to find their way to new cheese and started starving and waiting in the old place. Both of them kept Hemming and Hawing for their old Cheese. But couldnt find any and increased frustration in them. It also created FEAR in them about what might happend if they get lost in finding new cheese..!!!\\nThey started evaluating the situation at Chamber C and waited there everyday and returned homes hungry.\\nTHEY WERE AFRAID OF CHANGE.\\n\\nMeanwhile,Rodents found out their new way and found a chamber N having more cheese than the older one.\\n\\nEverytime HAW wanted to go in search for the new Cheese. HEM would stop him. But one day in utter despair to find the new Cheese HAW started for his search leaving behind his friend HEM in the old chamber. He wrote on a wall so tat his friend had something to think about...\\nIF YOU DONOT CHANGE, YOU CAN BECOME EXTINCT.\\nand HAW in order to overcome his fear of getting lost in the maze ... he reminded himself as..\\nWHAT WOULD YOU DO IF YOU WEREN'T AFRAID?\\nhe continued his search and found a dark alley where he could smell some nice cheese\\nhe was afraid of what might be on the other end... and started walking towards it.\\nAND when he moved he felt free and rather more young than he is.\\n\\nWHEN YOU MOVE BEYOND YOUR FEAR, YOU FEEL FREE.!!!\\nbut he didnt find any cheese it had some little pieces left over near the chamber, someone had already visited the chamber and completed it. He gulped some cheese leftover and kept some for his friend in his pocket and wondered if HEM was still in chamber C\\n\\nAll the while throughtout his search he kept on noticing the changes in him.. and everytime he is feeling happy and on the way back to his friend HEM , HAW had been thinking of himself as..\\nwhy he hadnt moved out before to find the new cheese...??\\nTHE QUICKER YOU LET GO , OF OLD CHEESE THE SOONER YOU FIND NEW CHEESE.\\nIT IS SAFER TO SEARCH IN THE MAZE THAN REMAIN IN A CHEESELESS SITUATION.\\nOLD BELIEFS DONOT LEAD YOU TO NEW CHEESE.\\nHAW came back to his friend HEW and told his experience expecting him to turn out for searching. but HEW didnt.\\nso he left him there and returned for his new treasure. before coming he told him about the way he felt and shared the cheese wid him.\\nHAW started his journey back to the maze.\\n\\nWHEN YOU SEE THAT YOU CAN FIND AND ENJOY NEW CHEESE, YOU CHANGE COURSE.\\nNOTICING SMALL CHANGES EARLY HELPS YOU ADAPT TO BIGGER CHANGES THAT ARE TO COME.\\nfinally haw saw a bigger chamber wid all the variety of cheese wid enormous quantity and was happy to find the rodents der enjoying the cheese. but this time haw was ready for the change observing the minute changes so tat he could act fast.\\n\\nAs days passed one fine day he heard the footsteps and guessed it was HEW and was happy finally he started searching for the new cheese..!!!\\n\\n(HAW could have gone to HEW and say about the new cheese at the chamber N. but he didnt since one cannot infuse the seeds to overcome the fear and accept the change . it should be from inself)\\n\\nso evryone out der.... let us\\nANTICIPATE CHANGE\\nADAPT TO CHANGE QUICKLY\\nENJOY THE CHANGE\\nBE READY TO CHANGE QUICKLY,AGAIN AND AGAIN\\n\\nSo who you are ??? SCURRY SNIFFY HEM OR HAW ??\\nAccepting changes like Scurry and Sniffy\\nor else learning about the advantages of accepting changes\\nor else hanging with the question... \" who moved my cheese??\"\\n\\nALL THE BEST.... :)</td>\n",
       "      <td>M</td>\n",
       "    </tr>\n",
       "    <tr>\n",
       "      <th>3</th>\n",
       "      <td>Yesterday I attended a biweekly meeting of an informal a UC Berkeley group devoted to Python in science (Py4Science), organized by Fernando Perez. The format (in honor of my visit) was a series of 4-minute lightning talks about various projects using Python in the scientific world (at Berkeley and elsewhere) followed by an hourlong Q&amp;A session. This meant I didn't have to do a presentation and still got to interact with the audience for an hour -- my ideal format.\\n\\nI was blown away by the wide variety of Python use for scientific work. It looks like Python (with extensions like numpy) is becoming a standard tool for many sciences that need to process large amounts of data, from neuroimaging to astronomy.\\n\\nHere is a list of the topics presented (though not in the order presented). All these describing Python software; I've added names and affiliations insofar I managed to get them. (Thanks to Jarrod Millman for providing me with a complete list.) Most projects are easily found by Googling for them, so I have not included hyperlinks except in some cases where the slides emphasized them. (See also the blog comments.)</td>\n",
       "      <td>M</td>\n",
       "    </tr>\n",
       "    <tr>\n",
       "      <th>4</th>\n",
       "      <td>Liam is nothing like Natalie. Natalie never went through draws or cabinets. She was always so good. LIAM is a bit more adventurous. And he always picks the cabinets that are the hardest to put back together. Hubby just started Nutrisystem and he has his own little section of the kitchen. Well, Liam doesn't like the order of it all and trashes my set up at least 10 times a day. YES, I need to buy one of those locks for the doors. We have one for the chemicals. But none on the food. My mistake for SURE!\\n\\nIn the meantime, I better document it because before I know it this boy will be in college and I will be missing cleaning up after him.\\nYeah.. that's not me. But I still decided that I wanted to start doing Yoga. I've been thinking about it for quite some time. So, this weekend I bought a pair of work out shorts and a tank and off I went. The only class that was close to me was Birkham Yoga, the hot one. The 100 degree sweaty room one.\\n\\nI. Almost. Died. \\n\\nThe Yoga itself was wonderful. I will continue that for sure. But the HEAT of that room was unbearable. The best part is, the teacher specifically came up to me and said,</td>\n",
       "      <td>F</td>\n",
       "    </tr>\n",
       "  </tbody>\n",
       "</table>\n",
       "</div>"
      ],
      "text/plain": [
       "                                                                                                                                                                                                                                                                                                                                                                                                                                                                                                                                                                                                                                                                                                                                                                                                                                                                                                                                                                                                                                                                                                                                                                                                                                                                                                                                                                                                                                                                                                                                                                                                                                                                                                                                                                                                                                                                                                                                                                                                                                                                                                                                                                                                                                                                                                                                                                                                                                                                                                                                                                                                                                                                                                                                                                                                                                                                                                                                                                                                                                                                                                                                                                                                                                                                                                                                                                                                                                                                                                                                                                                                                                                                                                                                                                                                                                                                                                                                                                                                                                                                                                                                                                                                                                                                                                                                                                                                                                                                                                                                                                                                                                                                                                                                                                                                                                                                                                                                                                                                                                                                                                                                                                                                                                                                                                                                                                                                                                                                                                                                                                                                                                                                                                                                                                                                                                                                                                                                                                                                                                                                                                                                                                                                                                                                                                  text  \\\n",
       "0                                                                                                                                                                                                                                                                                                                                                                                                                                                                                                                                                                                                                                                                                                                                                                                                                                                                                                                                                                                                                                                                                                                                                                                                                                                                                                                                                                                                                                                                                                                                                                                                                                                                                                                                                                                                                                                                                                                                                                                                                                                                                                                                                                                                                                                                                                                                                                                                                                                                                                                                                                                                                                                                                                                                                                                                                                                                                                                                                                                                                                                                                                                                                                                                                                                                                                                                                                                                                                                                                                                                                                                                                                                                                                                                                                                                                                                                                                                                                                                                                                                                                                                                                                                                                                                                                                                                                                                                                                                                                                                                                                                                                                                                                                                                                                                                                                                                                                                                                                                                                                                                                                                                                                                                                                                                                                      Long time no see. Like always I was rewriting it from scratch a couple of times. But nevertheless it's still java and now it uses metropolis sampling to help that poor path tracing converge.\\n\\nBtw. I did MLT on yesterday evening after 2 beers (it had to be Ballmer peak).\\n\\nAltough the implementation is still very fresh it easily outperforms standard path tracing, what is to be seen especially when difficult caustics are involved.\\n\\nI've implemented spectral rendering too, it was very easy actually, cause all computations on wavelengths are linear just like rgb. But then I realised that even if it does feel more physically correct to do so, whats the point? 3d applications are operating in rgb color space, and because I cant represent a rgb color as spectrum interchangeably I have to approximate it, so as long as I'm not running a physical simulation or something I don't see the benefits (please correct me if I'm wrong), thus I abandoned that.   \n",
       "1                                                                                                                                                                                                                                                                                                                                                                                                                                                                                                                                                                                                                                                                                                                                                                                                                                                                                                                                                                                                                                                                                                                                                                                                                                                                                                                                                                                                                                                                                                                                                                                                                                                                                                                                                                                                                                                                                                                                                                                                                                                                                                                                                                                                                                                                                                                                                                                                                                                                                                                                                                                                                                                                                                                                                                                                                                                                                                                                                                                                                                                                                                                                                                                                                                                                                                                                                                                                                                                                                                                                                                                                                                                                                                                                                                                                                                                                                                                                                                                                                                                                                                                                                                                                                                                                                                                                 Guest Demo: Eric Iverson’s Itty Bitty Search\\nFebruary 16th, 2010 by Daniel Tunkelang\\nRespond\\n\\nI’m back from vacation, and still digging my way out of everything that’s piled up while I’ve been offline.\\n\\nWhile I catch up, I thought I’d share with you a demo that Eric Iverson was gracious enough to share with me. It uses Yahoo! BOSS to support an exploratory search experience on top of a general web search engine.\\n\\nWhen you perform a query, the application retrieves a set of related term candidates using Yahoo’s key terms API. It then scores each term by dividing its occurrence count within the result set by its global occurrence count–a relevance measure similar to one my former colleagues and I used at Endeca in enterprise contexts.\\n\\nYou can try out the demo yourself at http://www.ittybittysearch.com/. While it has rough edges, it produces nice results–especially considering the simplicity of the approach.\\n\\nHere’s an example of how I used the application to explore and learn something new. I started with [\"information retrieval\"]. I noticed “interactive information retrieval” as a top term, so I used it to refine. Most of the refinement suggestions looked familiar to me–but an unfamiliar name caught my attention: “Anton Leuski”. Following my curiosity, I refined again. Looking at the results, I immediately saw that Leuski had done work on evaluating document clustering for interactive information retrieval. Further exploration made it clear this is someone whose work I should get to know–check out his home page!\\n\\nI can’t promise that you’ll have as productive an experience as I did, but I encourage you to try Eric’s demo. It’s simple examples like these that remind me of the value of pursuing HCIR for the open web.\\n\\nSpeaking of which, HCIR 2010 is in the works. We’ll flesh out the details over the next weeks, and of course I’ll share them here.   \n",
       "2  Who moved my Cheese???   The world has been developing in and out in all the areas and to create a difference in this competitive world... we need to change...\\nchange the way we take our things...\\nbut we rather change or atleast try to change..... we try the same routine work evryday and expect to get more\\nand when things fail such as losing a job, loss in business we would upset, discouraged, frustrated and keep on hanging to the same thing again and start complaining.\\nCHANGE IS GOOD.... LETS WELCOME IT..!!!\\nwondering wat is all about Cheese?? and what actually is all about \" Who Moved My Cheese??? \"\\n\\n\\nWell...!!!! Who moved my cheese?? is a simple parable that reveals profound thoughts. It is an enlightening story of four characters who live in a maze and look for cheese to nourish them and make them happy. The story is about two mice called \"SNIFF\" and \"SCURRY\" and two little men ... smaller in size and who were similar to us people. Their names were \"HEM\" and \"HAW\"\\n\\nCheese is a metaphor for what you want to have in life - whether it is a good job, loving relationship, money or a possession, health or spiritual peace of mind.\\n\\nAnd the maze is where you look for what you want - the organisation you work in, or the family or community you live in.\\n\\nEveryday both the mice and men spent time in the maze looking for their own special cheese. The mice had only Rodent brains while the men used their brains, filled with many beliefs. The common thing between the rodents and these men is tat every morning they went in search for the cheese.\\n\\nThe maze had confusing network of paths corridors and some of the chambers had delicious cheese. But there were also dark corners and blind alleys leading nowhere. It was an easy place to get lost. Those who found the way to secret chambers had to enjoy a better life.\\n\\nAfter much of searching they found a chamber C which had an enormous amount of richest quality of Cheese.Rodents used the trial and error method by racing through the corridors. While the men used their brains and beliefs and experience.\\n\\nHAVING CHEESE MADE THEM HAPPY.\\nBoth these men and rodents enjoyed the cheese everyday almost many many days and finally one day was such tat the cheese had to run out and there isnt left anymore.\\nRodents observed the minute details of cheese getting decreased day by day and they were ready for the situation and were ready for the hunt of new Cheese.\\nOn the otherhand these men based on their beliefs wondered \"Who moved their Cheese?\". Both HEM and HAW kept waiting for the cheese at the old place. Fearing that they might get lost in the maze they didnt start to find their way to new cheese and started starving and waiting in the old place. Both of them kept Hemming and Hawing for their old Cheese. But couldnt find any and increased frustration in them. It also created FEAR in them about what might happend if they get lost in finding new cheese..!!!\\nThey started evaluating the situation at Chamber C and waited there everyday and returned homes hungry.\\nTHEY WERE AFRAID OF CHANGE.\\n\\nMeanwhile,Rodents found out their new way and found a chamber N having more cheese than the older one.\\n\\nEverytime HAW wanted to go in search for the new Cheese. HEM would stop him. But one day in utter despair to find the new Cheese HAW started for his search leaving behind his friend HEM in the old chamber. He wrote on a wall so tat his friend had something to think about...\\nIF YOU DONOT CHANGE, YOU CAN BECOME EXTINCT.\\nand HAW in order to overcome his fear of getting lost in the maze ... he reminded himself as..\\nWHAT WOULD YOU DO IF YOU WEREN'T AFRAID?\\nhe continued his search and found a dark alley where he could smell some nice cheese\\nhe was afraid of what might be on the other end... and started walking towards it.\\nAND when he moved he felt free and rather more young than he is.\\n\\nWHEN YOU MOVE BEYOND YOUR FEAR, YOU FEEL FREE.!!!\\nbut he didnt find any cheese it had some little pieces left over near the chamber, someone had already visited the chamber and completed it. He gulped some cheese leftover and kept some for his friend in his pocket and wondered if HEM was still in chamber C\\n\\nAll the while throughtout his search he kept on noticing the changes in him.. and everytime he is feeling happy and on the way back to his friend HEM , HAW had been thinking of himself as..\\nwhy he hadnt moved out before to find the new cheese...??\\nTHE QUICKER YOU LET GO , OF OLD CHEESE THE SOONER YOU FIND NEW CHEESE.\\nIT IS SAFER TO SEARCH IN THE MAZE THAN REMAIN IN A CHEESELESS SITUATION.\\nOLD BELIEFS DONOT LEAD YOU TO NEW CHEESE.\\nHAW came back to his friend HEW and told his experience expecting him to turn out for searching. but HEW didnt.\\nso he left him there and returned for his new treasure. before coming he told him about the way he felt and shared the cheese wid him.\\nHAW started his journey back to the maze.\\n\\nWHEN YOU SEE THAT YOU CAN FIND AND ENJOY NEW CHEESE, YOU CHANGE COURSE.\\nNOTICING SMALL CHANGES EARLY HELPS YOU ADAPT TO BIGGER CHANGES THAT ARE TO COME.\\nfinally haw saw a bigger chamber wid all the variety of cheese wid enormous quantity and was happy to find the rodents der enjoying the cheese. but this time haw was ready for the change observing the minute changes so tat he could act fast.\\n\\nAs days passed one fine day he heard the footsteps and guessed it was HEW and was happy finally he started searching for the new cheese..!!!\\n\\n(HAW could have gone to HEW and say about the new cheese at the chamber N. but he didnt since one cannot infuse the seeds to overcome the fear and accept the change . it should be from inself)\\n\\nso evryone out der.... let us\\nANTICIPATE CHANGE\\nADAPT TO CHANGE QUICKLY\\nENJOY THE CHANGE\\nBE READY TO CHANGE QUICKLY,AGAIN AND AGAIN\\n\\nSo who you are ??? SCURRY SNIFFY HEM OR HAW ??\\nAccepting changes like Scurry and Sniffy\\nor else learning about the advantages of accepting changes\\nor else hanging with the question... \" who moved my cheese??\"\\n\\nALL THE BEST.... :)   \n",
       "3                                                                                                                                                                                                                                                                                                                                                                                                                                                                                                                                                                                                                                                                                                                                                                                                                                                                                                                                                                                                                                                                                                                                                                                                                                                                                                                                                                                                                                                                                                                                                                                                                                                                                                                                                                                                                                                                                                                                                                                                                                                                                                                                                                                                                                                                                                                                                                                                                                                                                                                                                                                                                                                                                                                                                                                                                                                                                                                                                                                                                                                                                                                                                                                                                                                                                                                                                                                                                                                                                                                                                                                                                                                                                                                                                                                                                                                                                                                                                                                                                                                                                                                                                                                                                                                                                                                                                                                                                                                                                                                                                                                                                                                                                                                                                                                                                                                                                                                                                                                                                                                                                                                      Yesterday I attended a biweekly meeting of an informal a UC Berkeley group devoted to Python in science (Py4Science), organized by Fernando Perez. The format (in honor of my visit) was a series of 4-minute lightning talks about various projects using Python in the scientific world (at Berkeley and elsewhere) followed by an hourlong Q&A session. This meant I didn't have to do a presentation and still got to interact with the audience for an hour -- my ideal format.\\n\\nI was blown away by the wide variety of Python use for scientific work. It looks like Python (with extensions like numpy) is becoming a standard tool for many sciences that need to process large amounts of data, from neuroimaging to astronomy.\\n\\nHere is a list of the topics presented (though not in the order presented). All these describing Python software; I've added names and affiliations insofar I managed to get them. (Thanks to Jarrod Millman for providing me with a complete list.) Most projects are easily found by Googling for them, so I have not included hyperlinks except in some cases where the slides emphasized them. (See also the blog comments.)   \n",
       "4                                                                                                                                                                                                                                                                                                                                                                                                                                                                                                                                                                                                                                                                                                                                                                                                                                                                                                                                                                                                                                                                                                                                                                                                                                                                                                                                                                                                                                                                                                                                                                                                                                                                                                                                                                                                                                                                                                                                                                                                                                                                                                                                                                                                                                                                                                                                                                                                                                                                                                                                                                                                                                                                                                                                                                                                                                                                                                                                                                                                                                                                                                                                                                                                                                                                                                                                                                                                                                                                                                                                                                                                                                                                                                                                                                                                                                                                                                                                                                                                                                                                                                                                                                                                                                                                                                                                                                                                                                                                                                                                                                                                                                                                                                                                                                                                                                                                                                                                                                                                                                                                                                            Liam is nothing like Natalie. Natalie never went through draws or cabinets. She was always so good. LIAM is a bit more adventurous. And he always picks the cabinets that are the hardest to put back together. Hubby just started Nutrisystem and he has his own little section of the kitchen. Well, Liam doesn't like the order of it all and trashes my set up at least 10 times a day. YES, I need to buy one of those locks for the doors. We have one for the chemicals. But none on the food. My mistake for SURE!\\n\\nIn the meantime, I better document it because before I know it this boy will be in college and I will be missing cleaning up after him.\\nYeah.. that's not me. But I still decided that I wanted to start doing Yoga. I've been thinking about it for quite some time. So, this weekend I bought a pair of work out shorts and a tank and off I went. The only class that was close to me was Birkham Yoga, the hot one. The 100 degree sweaty room one.\\n\\nI. Almost. Died. \\n\\nThe Yoga itself was wonderful. I will continue that for sure. But the HEAT of that room was unbearable. The best part is, the teacher specifically came up to me and said,   \n",
       "\n",
       "  gender  \n",
       "0      M  \n",
       "1      M  \n",
       "2      M  \n",
       "3      M  \n",
       "4      F  "
      ]
     },
     "execution_count": 2,
     "metadata": {},
     "output_type": "execute_result"
    }
   ],
   "source": [
    "df = pd.read_excel('/Users/JHYL/DSI-HK-1/classes/week-04/5.2-lab/assets/bloggender.xls')\n",
    "pd.set_option('max_colwidth', 100000)\n",
    "df.head()"
   ]
  },
  {
   "cell_type": "code",
   "execution_count": 3,
   "metadata": {
    "collapsed": false
   },
   "outputs": [
    {
     "data": {
      "text/plain": [
       "array([u'M', u'F', u' M', u' F', u'F ', u' M ', u'm', u'f'], dtype=object)"
      ]
     },
     "execution_count": 3,
     "metadata": {},
     "output_type": "execute_result"
    }
   ],
   "source": [
    "df['gender'].unique()"
   ]
  },
  {
   "cell_type": "code",
   "execution_count": 4,
   "metadata": {
    "collapsed": false
   },
   "outputs": [],
   "source": [
    "df.gender = df.gender.str.replace(' ', '')\n",
    "df.gender = df.gender.str.lower()\n",
    "#([' M', ' F', 'F ', ' M', 'm', 'f'], ['M', 'F', 'F', 'M', 'M', 'F'])\n",
    "df.to_excel('blog_gender_clean.xls')"
   ]
  },
  {
   "cell_type": "code",
   "execution_count": 5,
   "metadata": {
    "collapsed": false
   },
   "outputs": [
    {
     "data": {
      "text/plain": [
       "array([u'm', u'f'], dtype=object)"
      ]
     },
     "execution_count": 5,
     "metadata": {},
     "output_type": "execute_result"
    }
   ],
   "source": [
    "df.gender.unique()"
   ]
  },
  {
   "cell_type": "code",
   "execution_count": 6,
   "metadata": {
    "collapsed": false,
    "scrolled": true
   },
   "outputs": [],
   "source": [
    "df.dropna(inplace=True)"
   ]
  },
  {
   "cell_type": "code",
   "execution_count": 7,
   "metadata": {
    "collapsed": true
   },
   "outputs": [],
   "source": [
    "X = df.text\n",
    "y = df.gender"
   ]
  },
  {
   "cell_type": "code",
   "execution_count": 8,
   "metadata": {
    "collapsed": false,
    "scrolled": true
   },
   "outputs": [],
   "source": [
    "text_pipeline = pipeline.make_pipeline(feature_extraction.text.CountVectorizer(),\n",
    "                                       linear_model.LogisticRegression())"
   ]
  },
  {
   "cell_type": "code",
   "execution_count": 9,
   "metadata": {
    "collapsed": false
   },
   "outputs": [
    {
     "name": "stdout",
     "output_type": "stream",
     "text": [
      "sklearn.cross_validation.KFold(n=3226, n_folds=5, shuffle=True, random_state=None)\n"
     ]
    }
   ],
   "source": [
    "cv = cross_validation.KFold(len(y), n_folds=5, shuffle=True)\n",
    "print cv"
   ]
  },
  {
   "cell_type": "code",
   "execution_count": 10,
   "metadata": {
    "collapsed": false
   },
   "outputs": [
    {
     "data": {
      "text/plain": [
       "array([ 0.65170279,  0.67286822,  0.69922481,  0.66511628,  0.68682171])"
      ]
     },
     "execution_count": 10,
     "metadata": {},
     "output_type": "execute_result"
    }
   ],
   "source": [
    "cross_validation.cross_val_score(text_pipeline, X=X, y=y, cv=cv)"
   ]
  },
  {
   "cell_type": "code",
   "execution_count": 11,
   "metadata": {
    "collapsed": false
   },
   "outputs": [],
   "source": [
    "X_test = ['I love unicorns']"
   ]
  },
  {
   "cell_type": "code",
   "execution_count": 12,
   "metadata": {
    "collapsed": false
   },
   "outputs": [
    {
     "data": {
      "text/plain": [
       "Pipeline(steps=[('countvectorizer', CountVectorizer(analyzer=u'word', binary=False, decode_error=u'strict',\n",
       "        dtype=<type 'numpy.int64'>, encoding=u'utf-8', input=u'content',\n",
       "        lowercase=True, max_df=1.0, max_features=None, min_df=1,\n",
       "        ngram_range=(1, 1), preprocessor=None, stop_words=None,...ty='l2', random_state=None, solver='liblinear', tol=0.0001,\n",
       "          verbose=0, warm_start=False))])"
      ]
     },
     "execution_count": 12,
     "metadata": {},
     "output_type": "execute_result"
    }
   ],
   "source": [
    "text_pipeline.fit(X=X, y=y)"
   ]
  },
  {
   "cell_type": "code",
   "execution_count": 13,
   "metadata": {
    "collapsed": true
   },
   "outputs": [],
   "source": [
    "def m_f(text):\n",
    "    g_predict = text_pipeline.predict(text)\n",
    "    g_prob = text_pipeline.predict_proba(text)\n",
    "    return g_predict, g_prob"
   ]
  },
  {
   "cell_type": "code",
   "execution_count": 14,
   "metadata": {
    "collapsed": false
   },
   "outputs": [
    {
     "name": "stdout",
     "output_type": "stream",
     "text": [
      "(array([u'f'], dtype=object), array([[ 0.54310341,  0.45689659]]))\n"
     ]
    }
   ],
   "source": [
    "print m_f(X_test)"
   ]
  },
  {
   "cell_type": "markdown",
   "metadata": {},
   "source": [
    "# TFIDF Vectorizer"
   ]
  },
  {
   "cell_type": "code",
   "execution_count": 20,
   "metadata": {
    "collapsed": true
   },
   "outputs": [],
   "source": [
    "text_pipeline_tfidf = pipeline.make_pipeline(feature_extraction.text.TfidfVectorizer(),\n",
    "                                       linear_model.LogisticRegression())"
   ]
  },
  {
   "cell_type": "code",
   "execution_count": 21,
   "metadata": {
    "collapsed": false
   },
   "outputs": [
    {
     "name": "stdout",
     "output_type": "stream",
     "text": [
      "sklearn.cross_validation.KFold(n=3226, n_folds=5, shuffle=True, random_state=None)\n"
     ]
    }
   ],
   "source": [
    "cv_tfidf = cross_validation.KFold(len(y), n_folds=5, shuffle=True)\n",
    "print cv_tfidf"
   ]
  },
  {
   "cell_type": "code",
   "execution_count": 22,
   "metadata": {
    "collapsed": false
   },
   "outputs": [
    {
     "data": {
      "text/plain": [
       "array([ 0.68421053,  0.71627907,  0.69147287,  0.6744186 ,  0.69147287])"
      ]
     },
     "execution_count": 22,
     "metadata": {},
     "output_type": "execute_result"
    }
   ],
   "source": [
    "cross_validation.cross_val_score(text_pipeline_tfidf, X=X, y=y, cv=cv)"
   ]
  },
  {
   "cell_type": "code",
   "execution_count": 108,
   "metadata": {
    "collapsed": true
   },
   "outputs": [],
   "source": [
    "X_test = ['dude']"
   ]
  },
  {
   "cell_type": "code",
   "execution_count": 109,
   "metadata": {
    "collapsed": false
   },
   "outputs": [
    {
     "data": {
      "text/plain": [
       "Pipeline(steps=[('tfidfvectorizer', TfidfVectorizer(analyzer=u'word', binary=False, decode_error=u'strict',\n",
       "        dtype=<type 'numpy.int64'>, encoding=u'utf-8', input=u'content',\n",
       "        lowercase=True, max_df=1.0, max_features=None, min_df=1,\n",
       "        ngram_range=(1, 1), norm=u'l2', preprocessor=None, smoo...ty='l2', random_state=None, solver='liblinear', tol=0.0001,\n",
       "          verbose=0, warm_start=False))])"
      ]
     },
     "execution_count": 109,
     "metadata": {},
     "output_type": "execute_result"
    }
   ],
   "source": [
    "text_pipeline_tfidf.fit(X=X, y=y)"
   ]
  },
  {
   "cell_type": "code",
   "execution_count": 110,
   "metadata": {
    "collapsed": false
   },
   "outputs": [],
   "source": [
    "def m_f_tfidf(text):\n",
    "    g_predict_tfidf = text_pipeline_tfidf.predict(text)\n",
    "    g_prob_tfidf = text_pipeline_tfidf.predict_proba(text)\n",
    "    return g_predict_tfidf, g_prob_tfidf"
   ]
  },
  {
   "cell_type": "code",
   "execution_count": 111,
   "metadata": {
    "collapsed": false
   },
   "outputs": [
    {
     "name": "stdout",
     "output_type": "stream",
     "text": [
      "(array([u'm'], dtype=object), array([[ 0.3598101,  0.6401899]]))\n"
     ]
    }
   ],
   "source": [
    "print m_f_tfidf(X_test)"
   ]
  },
  {
   "cell_type": "markdown",
   "metadata": {},
   "source": [
    "# Grid Search"
   ]
  },
  {
   "cell_type": "code",
   "execution_count": 43,
   "metadata": {
    "collapsed": true
   },
   "outputs": [],
   "source": [
    "from sklearn.metrics import classification_report, confusion_matrix, accuracy_score\n",
    "from sklearn.cross_validation import train_test_split\n",
    "from sklearn.linear_model import LogisticRegression, LogisticRegressionCV\n",
    "from sklearn.grid_search import GridSearchCV\n",
    "from sklearn import linear_model, preprocessing, cross_validation, metrics, pipeline, grid_search"
   ]
  },
  {
   "cell_type": "code",
   "execution_count": 32,
   "metadata": {
    "collapsed": true
   },
   "outputs": [],
   "source": [
    "X = df.text\n",
    "y = df.gender"
   ]
  },
  {
   "cell_type": "code",
   "execution_count": 33,
   "metadata": {
    "collapsed": true
   },
   "outputs": [],
   "source": [
    "X_train, X_test, Y_train, Y_test = train_test_split(X, y, test_size=0.5, stratify=y, random_state=77)"
   ]
  },
  {
   "cell_type": "code",
   "execution_count": 38,
   "metadata": {
    "collapsed": false
   },
   "outputs": [
    {
     "name": "stdout",
     "output_type": "stream",
     "text": [
      "     0    1\n",
      "0  661  113\n",
      "1   86  753\n"
     ]
    }
   ],
   "source": [
    "# build confusion matrices for the models above\n",
    "Y_1_pred = text_pipeline.predict(X_train)\n",
    "\n",
    "conmat_1 = confusion_matrix(Y_train, Y_1_pred)\n",
    "conmat_1 = pd.DataFrame(conmat_1)\n",
    "\n",
    "print(conmat_1)"
   ]
  },
  {
   "cell_type": "code",
   "execution_count": 66,
   "metadata": {
    "collapsed": false
   },
   "outputs": [],
   "source": [
    "param_grid = {\n",
    "    'tfidfvectorizer__ngram_range': [(1,1), (1,2), (2,2)],\n",
    "    'tfidfvectorizer__lowercase': [True, False],\n",
    "    'logisticregression__fit_intercept': [True, False],\n",
    "    'logisticregression__penalty': ['l1', 'l2']    \n",
    "}\n",
    "\n",
    "gs = grid_search.GridSearchCV(text_pipeline_tfidf, param_grid=param_grid, cv=3, verbose=1, n_jobs=1)"
   ]
  },
  {
   "cell_type": "code",
   "execution_count": 67,
   "metadata": {
    "collapsed": false
   },
   "outputs": [
    {
     "data": {
      "text/plain": [
       "GridSearchCV(cv=3, error_score='raise',\n",
       "       estimator=Pipeline(steps=[('tfidfvectorizer', TfidfVectorizer(analyzer=u'word', binary=False, decode_error=u'strict',\n",
       "        dtype=<type 'numpy.int64'>, encoding=u'utf-8', input=u'content',\n",
       "        lowercase=True, max_df=1.0, max_features=None, min_df=1,\n",
       "        ngram_range=(1, 1), norm=u'l2', preprocessor=None, smoo...ty='l2', random_state=None, solver='liblinear', tol=0.0001,\n",
       "          verbose=0, warm_start=False))]),\n",
       "       fit_params={}, iid=True, n_jobs=1,\n",
       "       param_grid={'tfidfvectorizer__ngram_range': [(1, 1), (1, 2), (2, 2)], 'tfidfvectorizer__lowercase': [True, False], 'logisticregression__penalty': ['l1', 'l2'], 'logisticregression__fit_intercept': [True, False]},\n",
       "       pre_dispatch='2*n_jobs', refit=True, scoring=None, verbose=1)"
      ]
     },
     "execution_count": 67,
     "metadata": {},
     "output_type": "execute_result"
    }
   ],
   "source": [
    "gs"
   ]
  },
  {
   "cell_type": "code",
   "execution_count": 73,
   "metadata": {
    "collapsed": false
   },
   "outputs": [
    {
     "name": "stdout",
     "output_type": "stream",
     "text": [
      "Fitting 3 folds for each of 24 candidates, totalling 72 fits\n"
     ]
    },
    {
     "name": "stderr",
     "output_type": "stream",
     "text": [
      "[Parallel(n_jobs=1)]: Done  49 tasks       | elapsed:  5.7min\n",
      "[Parallel(n_jobs=1)]: Done  72 out of  72 | elapsed:  8.4min finished\n"
     ]
    },
    {
     "data": {
      "text/plain": [
       "GridSearchCV(cv=3, error_score='raise',\n",
       "       estimator=Pipeline(steps=[('tfidfvectorizer', TfidfVectorizer(analyzer=u'word', binary=False, decode_error=u'strict',\n",
       "        dtype=<type 'numpy.int64'>, encoding=u'utf-8', input=u'content',\n",
       "        lowercase=True, max_df=1.0, max_features=None, min_df=1,\n",
       "        ngram_range=(1, 1), norm=u'l2', preprocessor=None, smoo...ty='l2', random_state=None, solver='liblinear', tol=0.0001,\n",
       "          verbose=0, warm_start=False))]),\n",
       "       fit_params={}, iid=True, n_jobs=1,\n",
       "       param_grid={'tfidfvectorizer__ngram_range': [(1, 1), (1, 2), (2, 2)], 'tfidfvectorizer__lowercase': [True, False], 'logisticregression__penalty': ['l1', 'l2'], 'logisticregression__fit_intercept': [True, False]},\n",
       "       pre_dispatch='2*n_jobs', refit=True, scoring=None, verbose=1)"
      ]
     },
     "execution_count": 73,
     "metadata": {},
     "output_type": "execute_result"
    }
   ],
   "source": [
    "gs.fit(X,y)"
   ]
  },
  {
   "cell_type": "code",
   "execution_count": 74,
   "metadata": {
    "collapsed": false
   },
   "outputs": [
    {
     "data": {
      "text/plain": [
       "Pipeline(steps=[('tfidfvectorizer', TfidfVectorizer(analyzer=u'word', binary=False, decode_error=u'strict',\n",
       "        dtype=<type 'numpy.int64'>, encoding=u'utf-8', input=u'content',\n",
       "        lowercase=False, max_df=1.0, max_features=None, min_df=1,\n",
       "        ngram_range=(1, 1), norm=u'l2', preprocessor=None, smo...ty='l2', random_state=None, solver='liblinear', tol=0.0001,\n",
       "          verbose=0, warm_start=False))])"
      ]
     },
     "execution_count": 74,
     "metadata": {},
     "output_type": "execute_result"
    }
   ],
   "source": [
    "gs.best_estimator_"
   ]
  },
  {
   "cell_type": "code",
   "execution_count": 75,
   "metadata": {
    "collapsed": false
   },
   "outputs": [
    {
     "data": {
      "text/plain": [
       "{'logisticregression__fit_intercept': False,\n",
       " 'logisticregression__penalty': 'l2',\n",
       " 'tfidfvectorizer__lowercase': False,\n",
       " 'tfidfvectorizer__ngram_range': (1, 1)}"
      ]
     },
     "execution_count": 75,
     "metadata": {},
     "output_type": "execute_result"
    }
   ],
   "source": [
    "gs.best_params_"
   ]
  },
  {
   "cell_type": "code",
   "execution_count": 76,
   "metadata": {
    "collapsed": false
   },
   "outputs": [
    {
     "data": {
      "text/plain": [
       "0.69373837569745811"
      ]
     },
     "execution_count": 76,
     "metadata": {},
     "output_type": "execute_result"
    }
   ],
   "source": [
    "gs.best_score_"
   ]
  },
  {
   "cell_type": "code",
   "execution_count": 102,
   "metadata": {
    "collapsed": false
   },
   "outputs": [
    {
     "data": {
      "text/plain": [
       "array([u'f'], dtype=object)"
      ]
     },
     "execution_count": 102,
     "metadata": {},
     "output_type": "execute_result"
    }
   ],
   "source": [
    "X_test = ['my favourite colour is pink']\n",
    "gs.predict(X_test)"
   ]
  },
  {
   "cell_type": "code",
   "execution_count": 133,
   "metadata": {
    "collapsed": false
   },
   "outputs": [
    {
     "name": "stdout",
     "output_type": "stream",
     "text": [
      "[u'Cleveland (CNN)Donald Trump conjured a dire picture Thursday of an America sliding deeper into poverty, violence and corruption and declared himself the only person who could avert disaster. Accepting the Republican nomination in Cleveland, the billionaire twice pledged to be a \"voice\" for working Americans, restore law and order and to confound elites and doubters by winning the White House in November.'] [u'm']\n",
      "[u'Cleveland (CNN)Donald Trump conjured a dire picture Thursday of an America sliding deeper into poverty, violence and corruption and declared himself the only person who could avert disaster. Accepting the Republican nomination in Cleveland, the billionaire twice pledged to be a \"voice\" for working Americans, restore law and order and to confound elites and doubters by winning the White House in November.'] [u'm']\n",
      "[u'i love unicorns'] [u'f']\n",
      "[u'dude'] [u'm']\n",
      "[u'beer'] [u'm']\n",
      "[u'babe'] [u'f']\n",
      "[u'pizza'] [u'm']\n",
      "[u'data science'] [u'm']\n",
      "[u'general assembly'] [u'm']\n"
     ]
    }
   ],
   "source": [
    "from ipywidgets import widgets\n",
    "from IPython.display import display\n",
    "text = widgets.Text()\n",
    "display(text)\n",
    "\n",
    "def handle_submit(sender):\n",
    "    print [text.value], gs.predict([text.value])\n",
    "\n",
    "text.on_submit(handle_submit)"
   ]
  },
  {
   "cell_type": "code",
   "execution_count": null,
   "metadata": {
    "collapsed": true
   },
   "outputs": [],
   "source": []
  }
 ],
 "metadata": {
  "kernelspec": {
   "display_name": "Python 2",
   "language": "python",
   "name": "python2"
  },
  "language_info": {
   "codemirror_mode": {
    "name": "ipython",
    "version": 2
   },
   "file_extension": ".py",
   "mimetype": "text/x-python",
   "name": "python",
   "nbconvert_exporter": "python",
   "pygments_lexer": "ipython2",
   "version": "2.7.12"
  }
 },
 "nbformat": 4,
 "nbformat_minor": 0
}

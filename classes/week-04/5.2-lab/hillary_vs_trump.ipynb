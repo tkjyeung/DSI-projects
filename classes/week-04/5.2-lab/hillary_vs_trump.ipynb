{
 "cells": [
  {
   "cell_type": "code",
   "execution_count": 125,
   "metadata": {
    "collapsed": true
   },
   "outputs": [],
   "source": [
    "from bs4 import BeautifulSoup\n",
    "import urllib2, requests\n",
    "import pandas as pd\n",
    "from sklearn.linear_model import LogisticRegression\n",
    "import re\n",
    "from sklearn import linear_model, preprocessing, cross_validation, metrics, pipeline"
   ]
  },
  {
   "cell_type": "code",
   "execution_count": 126,
   "metadata": {
    "collapsed": false
   },
   "outputs": [],
   "source": [
    "% matplotlib inline\n",
    "from os import path\n",
    "from wordcloud import WordCloud\n",
    "import matplotlib.pyplot as plt\n",
    "\n",
    "#d = path.dirname(__file__)\n",
    "\n",
    "trump = open('speeches.txt').read()\n",
    "hillary = open('hillary_clinton.txt').read()\n",
    "#text\n",
    "#wordcloud = WordCloud(max_font_size=40, relative_scaling=.5).generate(text)\n",
    "#plt.figure()\n",
    "#plt.imshow(wordcloud)\n",
    "#plt.axis(\"off\")\n",
    "#plt.show()"
   ]
  },
  {
   "cell_type": "code",
   "execution_count": 127,
   "metadata": {
    "collapsed": true
   },
   "outputs": [],
   "source": [
    "#trump = re.sub(r'\\W+',' ', trump)\n",
    "#hillary = re.sub(r'\\W+',' ', hillary)"
   ]
  },
  {
   "cell_type": "code",
   "execution_count": 128,
   "metadata": {
    "collapsed": false
   },
   "outputs": [
    {
     "data": {
      "text/plain": [
       "str"
      ]
     },
     "execution_count": 128,
     "metadata": {},
     "output_type": "execute_result"
    }
   ],
   "source": [
    "type(trump)"
   ]
  },
  {
   "cell_type": "code",
   "execution_count": 167,
   "metadata": {
    "collapsed": true
   },
   "outputs": [],
   "source": [
    "trump_sentence = trump.replace('\\n','').replace('\\r','').split(' ')\n",
    "hillary_sentence = hillary.replace('\\n','').replace('\\r','').split(' ')"
   ]
  },
  {
   "cell_type": "code",
   "execution_count": 168,
   "metadata": {
    "collapsed": false
   },
   "outputs": [
    {
     "data": {
      "text/plain": [
       "183385"
      ]
     },
     "execution_count": 168,
     "metadata": {},
     "output_type": "execute_result"
    }
   ],
   "source": [
    "len(trump_sentence)"
   ]
  },
  {
   "cell_type": "code",
   "execution_count": 169,
   "metadata": {
    "collapsed": false
   },
   "outputs": [
    {
     "data": {
      "text/plain": [
       "255767"
      ]
     },
     "execution_count": 169,
     "metadata": {},
     "output_type": "execute_result"
    }
   ],
   "source": [
    "len(hillary_sentence)"
   ]
  },
  {
   "cell_type": "code",
   "execution_count": 225,
   "metadata": {
    "collapsed": false
   },
   "outputs": [],
   "source": [
    "n = 500\n",
    "trump_list = [' '.join(trump_sentence[i:i+n]) for i in range(0, len(trump_sentence), n)]\n",
    "hillary_list = [' '.join(hillary_sentence[i:i+n]) for i in range(0, len(hillary_sentence), n)]"
   ]
  },
  {
   "cell_type": "code",
   "execution_count": 226,
   "metadata": {
    "collapsed": false
   },
   "outputs": [],
   "source": [
    "trump_list = [re.sub(r'\\W+',' ', trump_list[i]) for i in range(len(trump_list))]\n",
    "hillary_list = [re.sub(r'\\W+',' ', hillary_list[i]) for i in range(len(hillary_list))]\n"
   ]
  },
  {
   "cell_type": "code",
   "execution_count": null,
   "metadata": {
    "collapsed": true
   },
   "outputs": [],
   "source": []
  },
  {
   "cell_type": "code",
   "execution_count": 227,
   "metadata": {
    "collapsed": false
   },
   "outputs": [
    {
     "data": {
      "text/plain": [
       "367"
      ]
     },
     "execution_count": 227,
     "metadata": {},
     "output_type": "execute_result"
    }
   ],
   "source": [
    "len(trump_list)"
   ]
  },
  {
   "cell_type": "code",
   "execution_count": 228,
   "metadata": {
    "collapsed": false
   },
   "outputs": [
    {
     "data": {
      "text/plain": [
       "512"
      ]
     },
     "execution_count": 228,
     "metadata": {},
     "output_type": "execute_result"
    }
   ],
   "source": [
    "len(hillary_list)"
   ]
  },
  {
   "cell_type": "code",
   "execution_count": 229,
   "metadata": {
    "collapsed": false
   },
   "outputs": [],
   "source": [
    "#len(re.findall(r'\\w+', hillary))"
   ]
  },
  {
   "cell_type": "code",
   "execution_count": null,
   "metadata": {
    "collapsed": true
   },
   "outputs": [],
   "source": []
  },
  {
   "cell_type": "code",
   "execution_count": 230,
   "metadata": {
    "collapsed": false
   },
   "outputs": [],
   "source": [
    "df = pd.DataFrame(trump_list)"
   ]
  },
  {
   "cell_type": "code",
   "execution_count": 231,
   "metadata": {
    "collapsed": false
   },
   "outputs": [],
   "source": [
    "df.columns = ['speech']\n",
    "df['is_Trump'] = 1"
   ]
  },
  {
   "cell_type": "code",
   "execution_count": 232,
   "metadata": {
    "collapsed": true
   },
   "outputs": [],
   "source": [
    "df_hill = pd.DataFrame(hillary_list)\n",
    "df_hill.columns = ['speech']\n",
    "df_hill['is_Trump'] = 0"
   ]
  },
  {
   "cell_type": "code",
   "execution_count": 233,
   "metadata": {
    "collapsed": false
   },
   "outputs": [],
   "source": [
    "df = pd.concat([df,df_hill], ignore_index=True)"
   ]
  },
  {
   "cell_type": "code",
   "execution_count": 234,
   "metadata": {
    "collapsed": false
   },
   "outputs": [
    {
     "data": {
      "text/html": [
       "<div>\n",
       "<table border=\"1\" class=\"dataframe\">\n",
       "  <thead>\n",
       "    <tr style=\"text-align: right;\">\n",
       "      <th></th>\n",
       "      <th>speech</th>\n",
       "      <th>is_Trump</th>\n",
       "    </tr>\n",
       "  </thead>\n",
       "  <tbody>\n",
       "    <tr>\n",
       "      <th>0</th>\n",
       "      <td>Thank you so much That s so nice Isn t he a g...</td>\n",
       "      <td>1</td>\n",
       "    </tr>\n",
       "    <tr>\n",
       "      <th>1</th>\n",
       "      <td>location location But you have heard this abou...</td>\n",
       "      <td>1</td>\n",
       "    </tr>\n",
       "    <tr>\n",
       "      <th>2</th>\n",
       "      <td>politicians finding out where those e mails ar...</td>\n",
       "      <td>1</td>\n",
       "    </tr>\n",
       "    <tr>\n",
       "      <th>3</th>\n",
       "      <td>foreign countries that really know what they a...</td>\n",
       "      <td>1</td>\n",
       "    </tr>\n",
       "    <tr>\n",
       "      <th>4</th>\n",
       "      <td>100 years ago 50 years ago 30 years ago pull o...</td>\n",
       "      <td>1</td>\n",
       "    </tr>\n",
       "    <tr>\n",
       "      <th>5</th>\n",
       "      <td>the likes of which you have never seen And the...</td>\n",
       "      <td>1</td>\n",
       "    </tr>\n",
       "    <tr>\n",
       "      <th>6</th>\n",
       "      <td>up We have a presidential election coming up A...</td>\n",
       "      <td>1</td>\n",
       "    </tr>\n",
       "    <tr>\n",
       "      <th>7</th>\n",
       "      <td>a shocking decision that nobody believes So yo...</td>\n",
       "      <td>1</td>\n",
       "    </tr>\n",
       "    <tr>\n",
       "      <th>8</th>\n",
       "      <td>of this one I m building one of the great hote...</td>\n",
       "      <td>1</td>\n",
       "    </tr>\n",
       "    <tr>\n",
       "      <th>9</th>\n",
       "      <td>with a dangerous idea that we could make weste...</td>\n",
       "      <td>1</td>\n",
       "    </tr>\n",
       "    <tr>\n",
       "      <th>10</th>\n",
       "      <td>nuclear weapon And under a Trump administratio...</td>\n",
       "      <td>1</td>\n",
       "    </tr>\n",
       "    <tr>\n",
       "      <th>11</th>\n",
       "      <td>aggression and expands further and further wit...</td>\n",
       "      <td>1</td>\n",
       "    </tr>\n",
       "    <tr>\n",
       "      <th>12</th>\n",
       "      <td>friends and allies I say America is going to b...</td>\n",
       "      <td>1</td>\n",
       "    </tr>\n",
       "    <tr>\n",
       "      <th>13</th>\n",
       "      <td>Their days are numbered I won t tell them wher...</td>\n",
       "      <td>1</td>\n",
       "    </tr>\n",
       "    <tr>\n",
       "      <th>14</th>\n",
       "      <td>our great people and we must treat them fairly...</td>\n",
       "      <td>1</td>\n",
       "    </tr>\n",
       "    <tr>\n",
       "      <th>15</th>\n",
       "      <td>an America that will find a better friend in C...</td>\n",
       "      <td>1</td>\n",
       "    </tr>\n",
       "    <tr>\n",
       "      <th>16</th>\n",
       "      <td>look for talented experts with approaches and ...</td>\n",
       "      <td>1</td>\n",
       "    </tr>\n",
       "    <tr>\n",
       "      <th>17</th>\n",
       "      <td>bring in new ones There will be consequences f...</td>\n",
       "      <td>1</td>\n",
       "    </tr>\n",
       "    <tr>\n",
       "      <th>18</th>\n",
       "      <td>this led to one foreign policy disaster after ...</td>\n",
       "      <td>1</td>\n",
       "    </tr>\n",
       "    <tr>\n",
       "      <th>19</th>\n",
       "      <td>the a little recap and I said and I said and I...</td>\n",
       "      <td>1</td>\n",
       "    </tr>\n",
       "    <tr>\n",
       "      <th>20</th>\n",
       "      <td>want to put 10 million into your campaign I sa...</td>\n",
       "      <td>1</td>\n",
       "    </tr>\n",
       "    <tr>\n",
       "      <th>21</th>\n",
       "      <td>Believe me I ll talk to them They re going to ...</td>\n",
       "      <td>1</td>\n",
       "    </tr>\n",
       "    <tr>\n",
       "      <th>22</th>\n",
       "      <td>to border guards and they tell us what we re g...</td>\n",
       "      <td>1</td>\n",
       "    </tr>\n",
       "    <tr>\n",
       "      <th>23</th>\n",
       "      <td>and stronger by the way and we as a country ar...</td>\n",
       "      <td>1</td>\n",
       "    </tr>\n",
       "    <tr>\n",
       "      <th>24</th>\n",
       "      <td>wonderful people I like them They all want me ...</td>\n",
       "      <td>1</td>\n",
       "    </tr>\n",
       "    <tr>\n",
       "      <th>25</th>\n",
       "      <td>to stop doing things for some people but for t...</td>\n",
       "      <td>1</td>\n",
       "    </tr>\n",
       "    <tr>\n",
       "      <th>26</th>\n",
       "      <td>people negotiating don t have a clue Our presi...</td>\n",
       "      <td>1</td>\n",
       "    </tr>\n",
       "    <tr>\n",
       "      <th>27</th>\n",
       "      <td>sold an apartment for 15 million to somebody f...</td>\n",
       "      <td>1</td>\n",
       "    </tr>\n",
       "    <tr>\n",
       "      <th>28</th>\n",
       "      <td>I know the smartest negotiators in the world I...</td>\n",
       "      <td>1</td>\n",
       "    </tr>\n",
       "    <tr>\n",
       "      <th>29</th>\n",
       "      <td>It s not crass We got 18 trillion in debt We g...</td>\n",
       "      <td>1</td>\n",
       "    </tr>\n",
       "    <tr>\n",
       "      <th>...</th>\n",
       "      <td>...</td>\n",
       "      <td>...</td>\n",
       "    </tr>\n",
       "    <tr>\n",
       "      <th>849</th>\n",
       "      <td>help families by bringing down the out of pock...</td>\n",
       "      <td>0</td>\n",
       "    </tr>\n",
       "    <tr>\n",
       "      <th>850</th>\n",
       "      <td>better Meanwhile they re telling you it has th...</td>\n",
       "      <td>0</td>\n",
       "    </tr>\n",
       "    <tr>\n",
       "      <th>851</th>\n",
       "      <td>now does it s a basic feature of a free market...</td>\n",
       "      <td>0</td>\n",
       "    </tr>\n",
       "    <tr>\n",
       "      <th>852</th>\n",
       "      <td>co insurance According to a report by the nonp...</td>\n",
       "      <td>0</td>\n",
       "    </tr>\n",
       "    <tr>\n",
       "      <th>853</th>\n",
       "      <td>I have been emphasizing what it will take for ...</td>\n",
       "      <td>0</td>\n",
       "    </tr>\n",
       "    <tr>\n",
       "      <th>854</th>\n",
       "      <td>and for middle class families we re going to p...</td>\n",
       "      <td>0</td>\n",
       "    </tr>\n",
       "    <tr>\n",
       "      <th>855</th>\n",
       "      <td>said the following to me I can t move out of m...</td>\n",
       "      <td>0</td>\n",
       "    </tr>\n",
       "    <tr>\n",
       "      <th>856</th>\n",
       "      <td>It s a part of being in New Hampshire though t...</td>\n",
       "      <td>0</td>\n",
       "    </tr>\n",
       "    <tr>\n",
       "      <th>857</th>\n",
       "      <td>and the House And I often when I m listening t...</td>\n",
       "      <td>0</td>\n",
       "    </tr>\n",
       "    <tr>\n",
       "      <th>858</th>\n",
       "      <td>good start I think it s the most important job...</td>\n",
       "      <td>0</td>\n",
       "    </tr>\n",
       "    <tr>\n",
       "      <th>859</th>\n",
       "      <td>you don t We re going to make college affordab...</td>\n",
       "      <td>0</td>\n",
       "    </tr>\n",
       "    <tr>\n",
       "      <th>860</th>\n",
       "      <td>are going on across the country to eliminate t...</td>\n",
       "      <td>0</td>\n",
       "    </tr>\n",
       "    <tr>\n",
       "      <th>861</th>\n",
       "      <td>investments in growing our economy in the kind...</td>\n",
       "      <td>0</td>\n",
       "    </tr>\n",
       "    <tr>\n",
       "      <th>862</th>\n",
       "      <td>and still today protect the rights of people A...</td>\n",
       "      <td>0</td>\n",
       "    </tr>\n",
       "    <tr>\n",
       "      <th>863</th>\n",
       "      <td>14 I didn t know that I just knew she was a gr...</td>\n",
       "      <td>0</td>\n",
       "    </tr>\n",
       "    <tr>\n",
       "      <th>864</th>\n",
       "      <td>everybody else is wrong That s not a democracy...</td>\n",
       "      <td>0</td>\n",
       "    </tr>\n",
       "    <tr>\n",
       "      <th>865</th>\n",
       "      <td>regime that has the blood of Americans many ot...</td>\n",
       "      <td>0</td>\n",
       "    </tr>\n",
       "    <tr>\n",
       "      <th>866</th>\n",
       "      <td>a comprehensive agreement on Iran s nuclear pr...</td>\n",
       "      <td>0</td>\n",
       "    </tr>\n",
       "    <tr>\n",
       "      <th>867</th>\n",
       "      <td>not the pursuit of perfection Xit s the balanc...</td>\n",
       "      <td>0</td>\n",
       "    </tr>\n",
       "    <tr>\n",
       "      <th>868</th>\n",
       "      <td>allow you to acquire a nuclear weapon As presi...</td>\n",
       "      <td>0</td>\n",
       "    </tr>\n",
       "    <tr>\n",
       "      <th>869</th>\n",
       "      <td>act Third I will build a coalition to counter ...</td>\n",
       "      <td>0</td>\n",
       "    </tr>\n",
       "    <tr>\n",
       "      <th>870</th>\n",
       "      <td>conflict And the United States must lead in as...</td>\n",
       "      <td>0</td>\n",
       "    </tr>\n",
       "    <tr>\n",
       "      <th>871</th>\n",
       "      <td>say Xyou ll never have to question whether we ...</td>\n",
       "      <td>0</td>\n",
       "    </tr>\n",
       "    <tr>\n",
       "      <th>872</th>\n",
       "      <td>with principle and purpose other people and go...</td>\n",
       "      <td>0</td>\n",
       "    </tr>\n",
       "    <tr>\n",
       "      <th>873</th>\n",
       "      <td>yes for a rising generation eager to build a n...</td>\n",
       "      <td>0</td>\n",
       "    </tr>\n",
       "    <tr>\n",
       "      <th>874</th>\n",
       "      <td>It was just one story just one family but it f...</td>\n",
       "      <td>0</td>\n",
       "    </tr>\n",
       "    <tr>\n",
       "      <th>875</th>\n",
       "      <td>keep pressure on the regime Today I am calling...</td>\n",
       "      <td>0</td>\n",
       "    </tr>\n",
       "    <tr>\n",
       "      <th>876</th>\n",
       "      <td>lead of Pope Francis who will carry a powerful...</td>\n",
       "      <td>0</td>\n",
       "    </tr>\n",
       "    <tr>\n",
       "      <th>877</th>\n",
       "      <td>States across Latin America For years our unpo...</td>\n",
       "      <td>0</td>\n",
       "    </tr>\n",
       "    <tr>\n",
       "      <th>878</th>\n",
       "      <td>out of date partisan ideas and candidates rip ...</td>\n",
       "      <td>0</td>\n",
       "    </tr>\n",
       "  </tbody>\n",
       "</table>\n",
       "<p>879 rows × 2 columns</p>\n",
       "</div>"
      ],
      "text/plain": [
       "                                                speech  is_Trump\n",
       "0     Thank you so much That s so nice Isn t he a g...         1\n",
       "1    location location But you have heard this abou...         1\n",
       "2    politicians finding out where those e mails ar...         1\n",
       "3    foreign countries that really know what they a...         1\n",
       "4    100 years ago 50 years ago 30 years ago pull o...         1\n",
       "5    the likes of which you have never seen And the...         1\n",
       "6    up We have a presidential election coming up A...         1\n",
       "7    a shocking decision that nobody believes So yo...         1\n",
       "8    of this one I m building one of the great hote...         1\n",
       "9    with a dangerous idea that we could make weste...         1\n",
       "10   nuclear weapon And under a Trump administratio...         1\n",
       "11   aggression and expands further and further wit...         1\n",
       "12   friends and allies I say America is going to b...         1\n",
       "13   Their days are numbered I won t tell them wher...         1\n",
       "14   our great people and we must treat them fairly...         1\n",
       "15   an America that will find a better friend in C...         1\n",
       "16   look for talented experts with approaches and ...         1\n",
       "17   bring in new ones There will be consequences f...         1\n",
       "18   this led to one foreign policy disaster after ...         1\n",
       "19   the a little recap and I said and I said and I...         1\n",
       "20   want to put 10 million into your campaign I sa...         1\n",
       "21   Believe me I ll talk to them They re going to ...         1\n",
       "22   to border guards and they tell us what we re g...         1\n",
       "23   and stronger by the way and we as a country ar...         1\n",
       "24   wonderful people I like them They all want me ...         1\n",
       "25   to stop doing things for some people but for t...         1\n",
       "26   people negotiating don t have a clue Our presi...         1\n",
       "27   sold an apartment for 15 million to somebody f...         1\n",
       "28   I know the smartest negotiators in the world I...         1\n",
       "29   It s not crass We got 18 trillion in debt We g...         1\n",
       "..                                                 ...       ...\n",
       "849  help families by bringing down the out of pock...         0\n",
       "850  better Meanwhile they re telling you it has th...         0\n",
       "851  now does it s a basic feature of a free market...         0\n",
       "852  co insurance According to a report by the nonp...         0\n",
       "853  I have been emphasizing what it will take for ...         0\n",
       "854  and for middle class families we re going to p...         0\n",
       "855  said the following to me I can t move out of m...         0\n",
       "856  It s a part of being in New Hampshire though t...         0\n",
       "857  and the House And I often when I m listening t...         0\n",
       "858  good start I think it s the most important job...         0\n",
       "859  you don t We re going to make college affordab...         0\n",
       "860  are going on across the country to eliminate t...         0\n",
       "861  investments in growing our economy in the kind...         0\n",
       "862  and still today protect the rights of people A...         0\n",
       "863  14 I didn t know that I just knew she was a gr...         0\n",
       "864  everybody else is wrong That s not a democracy...         0\n",
       "865  regime that has the blood of Americans many ot...         0\n",
       "866  a comprehensive agreement on Iran s nuclear pr...         0\n",
       "867  not the pursuit of perfection Xit s the balanc...         0\n",
       "868  allow you to acquire a nuclear weapon As presi...         0\n",
       "869  act Third I will build a coalition to counter ...         0\n",
       "870  conflict And the United States must lead in as...         0\n",
       "871  say Xyou ll never have to question whether we ...         0\n",
       "872  with principle and purpose other people and go...         0\n",
       "873  yes for a rising generation eager to build a n...         0\n",
       "874  It was just one story just one family but it f...         0\n",
       "875  keep pressure on the regime Today I am calling...         0\n",
       "876  lead of Pope Francis who will carry a powerful...         0\n",
       "877  States across Latin America For years our unpo...         0\n",
       "878  out of date partisan ideas and candidates rip ...         0\n",
       "\n",
       "[879 rows x 2 columns]"
      ]
     },
     "execution_count": 234,
     "metadata": {},
     "output_type": "execute_result"
    }
   ],
   "source": [
    "df"
   ]
  },
  {
   "cell_type": "code",
   "execution_count": 235,
   "metadata": {
    "collapsed": false
   },
   "outputs": [
    {
     "data": {
      "text/plain": [
       "RangeIndex(start=0, stop=879, step=1)"
      ]
     },
     "execution_count": 235,
     "metadata": {},
     "output_type": "execute_result"
    }
   ],
   "source": [
    "df.index"
   ]
  },
  {
   "cell_type": "code",
   "execution_count": 236,
   "metadata": {
    "collapsed": true
   },
   "outputs": [],
   "source": [
    "X = df['speech']\n",
    "y = df['is_Trump']"
   ]
  },
  {
   "cell_type": "code",
   "execution_count": 237,
   "metadata": {
    "collapsed": false
   },
   "outputs": [
    {
     "data": {
      "text/plain": [
       "(879,)"
      ]
     },
     "execution_count": 237,
     "metadata": {},
     "output_type": "execute_result"
    }
   ],
   "source": [
    "X.shape"
   ]
  },
  {
   "cell_type": "code",
   "execution_count": 238,
   "metadata": {
    "collapsed": false
   },
   "outputs": [
    {
     "data": {
      "text/plain": [
       "(879,)"
      ]
     },
     "execution_count": 238,
     "metadata": {},
     "output_type": "execute_result"
    }
   ],
   "source": [
    "y.shape"
   ]
  },
  {
   "cell_type": "code",
   "execution_count": 239,
   "metadata": {
    "collapsed": false
   },
   "outputs": [
    {
     "data": {
      "text/plain": [
       "879"
      ]
     },
     "execution_count": 239,
     "metadata": {},
     "output_type": "execute_result"
    }
   ],
   "source": [
    "len(X)"
   ]
  },
  {
   "cell_type": "code",
   "execution_count": 240,
   "metadata": {
    "collapsed": false
   },
   "outputs": [
    {
     "data": {
      "text/plain": [
       "879"
      ]
     },
     "execution_count": 240,
     "metadata": {},
     "output_type": "execute_result"
    }
   ],
   "source": [
    "len(y)"
   ]
  },
  {
   "cell_type": "code",
   "execution_count": 241,
   "metadata": {
    "collapsed": false
   },
   "outputs": [
    {
     "data": {
      "text/plain": [
       "pandas.core.series.Series"
      ]
     },
     "execution_count": 241,
     "metadata": {},
     "output_type": "execute_result"
    }
   ],
   "source": [
    "type(X)"
   ]
  },
  {
   "cell_type": "code",
   "execution_count": 242,
   "metadata": {
    "collapsed": false
   },
   "outputs": [
    {
     "data": {
      "text/plain": [
       "RangeIndex(start=0, stop=879, step=1)"
      ]
     },
     "execution_count": 242,
     "metadata": {},
     "output_type": "execute_result"
    }
   ],
   "source": [
    "X.index"
   ]
  },
  {
   "cell_type": "code",
   "execution_count": 243,
   "metadata": {
    "collapsed": false
   },
   "outputs": [
    {
     "name": "stdout",
     "output_type": "stream",
     "text": [
      " Thank you so much That s so nice Isn t he a great guy He doesn t get a fair press he doesn t get it It s just not fair And I have to tell you I m here and very strongly here because I have great respect for Steve King and have great respect likewise for Citizens United David and everybody and tremendous resect for the Tea Party Also also the people of Iowa They have something in common Hard working people They want to work they want to make the country great I love the people of Iowa So that s the way it is Very simple With that said our country is really headed in the wrong direction with a president who is doing an absolutely terrible job The world is collapsing around us and many of the problems we ve caused Our president is either grossly incompetent a word that more and more people are using and I think I was the first to use it or he has a completely different agenda than you want to know about which could be possible In any event Washington is broken and our country is in serious trouble and total disarray Very simple Politicians are all talk no action They are all talk and no action And it s constant it never ends And I m a conservative actually very conservative and I m a Republican And I m very disappointed by our Republican politicians Because they let the president get away with absolute murder You see always oh we re going to do this we re going to Nothing ever happens nothing ever happens You look at Obamacare A total catastrophe and by the way it really kicks in in 16 and it is going to be a disaster People are closing up shops Doctors are quitting the business I have a friend of mine who s a doctor a very good doctor a very successful guy He said I have more accountants than I have patients And he needs because it is so complicated and so terrible and he s never had that before and he s going to close up his business And he was very successful guy But it s happening more and more Look at Obamacare with a 5 billion website I have many websites many many websites They re all over the place But for 10 okay Now everything about Obamacare was a lie It was a filthy lie And when you think about it lies I mean are they prosecuted Does anyone do anything And what are the Republican politicians doing about it He lied about the doctor he lied about every aspect You can keep your plan And you ve all heard that hundreds of times That s like the real estate location location I don t even say it anymore because everybody goes\n"
     ]
    }
   ],
   "source": [
    "print(X[0])"
   ]
  },
  {
   "cell_type": "code",
   "execution_count": 244,
   "metadata": {
    "collapsed": false
   },
   "outputs": [
    {
     "data": {
      "text/plain": [
       "'location location But you have heard this about Obamacare And it s disgraceful It s a big fat horrible lie Your deductibles are going through the roof You re not going to get unless you re hit by an army tank you re not going to get coverage And people that had plans that they loved that they really loved don t have those plans anymore So it s a real real disaster And somebody has to repeal and replace Obamacare And they have to do it fast and not just talk about it Now we have to build a fence And it s got to be a beauty Who can build better than Trump I build it s what I do I build I build nice fences but I build great buildings Fences are easy believe me I saw the other day on television people just walking across the border They re walking The military is standing there holding guns and people are just walking right in front coming into our country It is so terrible It is so unfair It is so incompetent And we don t have the best coming in We have people that are criminals we have people that are crooks You can certainly have terrorists You can certainly have Islamic terrorists You can have anything coming across the border We don t do anything about it So I would say that if I run and if I win I would certainly start by building a very very powerful border Again the politicians talk about it and they do nothing about it Benghazi Oh Benghazi Benghazi Everything is Benghazi What happens Nothing IRS e mails I get sued all the time okay I run a big business You know I ve always said it s very very hard for a person who is very successful I have done so many deals Almost all of them have been tremendously successful You ll see that when I file my statements I mean you will see you will be very proud of me okay But I ve always said and I said it strongly it s very hard for somebody that does tremendous numbers of deals to run for politics run for political office any office let alone president Because you ve done so much you ve beaten so many people you ve created so many Look Obama what did he do No deal He never did a deal He did one deal A house And if you did that house you d be in jail right now okay He got away with murder But I can tell you e mails IRS the e mails thousands of them they were lost they were lost If you were in my world you would know that e mails can t be lost they can t be lost So why aren t our'"
      ]
     },
     "execution_count": 244,
     "metadata": {},
     "output_type": "execute_result"
    }
   ],
   "source": [
    "X[1]"
   ]
  },
  {
   "cell_type": "code",
   "execution_count": 245,
   "metadata": {
    "collapsed": false
   },
   "outputs": [
    {
     "data": {
      "text/plain": [
       "0       Thank you so much That s so nice Isn t he a g...\n",
       "1      location location But you have heard this abou...\n",
       "2      politicians finding out where those e mails ar...\n",
       "3      foreign countries that really know what they a...\n",
       "4      100 years ago 50 years ago 30 years ago pull o...\n",
       "5      the likes of which you have never seen And the...\n",
       "6      up We have a presidential election coming up A...\n",
       "7      a shocking decision that nobody believes So yo...\n",
       "8      of this one I m building one of the great hote...\n",
       "9      with a dangerous idea that we could make weste...\n",
       "10     nuclear weapon And under a Trump administratio...\n",
       "11     aggression and expands further and further wit...\n",
       "12     friends and allies I say America is going to b...\n",
       "13     Their days are numbered I won t tell them wher...\n",
       "14     our great people and we must treat them fairly...\n",
       "15     an America that will find a better friend in C...\n",
       "16     look for talented experts with approaches and ...\n",
       "17     bring in new ones There will be consequences f...\n",
       "18     this led to one foreign policy disaster after ...\n",
       "19     the a little recap and I said and I said and I...\n",
       "20     want to put 10 million into your campaign I sa...\n",
       "21     Believe me I ll talk to them They re going to ...\n",
       "22     to border guards and they tell us what we re g...\n",
       "23     and stronger by the way and we as a country ar...\n",
       "24     wonderful people I like them They all want me ...\n",
       "25     to stop doing things for some people but for t...\n",
       "26     people negotiating don t have a clue Our presi...\n",
       "27     sold an apartment for 15 million to somebody f...\n",
       "28     I know the smartest negotiators in the world I...\n",
       "29     It s not crass We got 18 trillion in debt We g...\n",
       "                             ...                        \n",
       "849    help families by bringing down the out of pock...\n",
       "850    better Meanwhile they re telling you it has th...\n",
       "851    now does it s a basic feature of a free market...\n",
       "852    co insurance According to a report by the nonp...\n",
       "853    I have been emphasizing what it will take for ...\n",
       "854    and for middle class families we re going to p...\n",
       "855    said the following to me I can t move out of m...\n",
       "856    It s a part of being in New Hampshire though t...\n",
       "857    and the House And I often when I m listening t...\n",
       "858    good start I think it s the most important job...\n",
       "859    you don t We re going to make college affordab...\n",
       "860    are going on across the country to eliminate t...\n",
       "861    investments in growing our economy in the kind...\n",
       "862    and still today protect the rights of people A...\n",
       "863    14 I didn t know that I just knew she was a gr...\n",
       "864    everybody else is wrong That s not a democracy...\n",
       "865    regime that has the blood of Americans many ot...\n",
       "866    a comprehensive agreement on Iran s nuclear pr...\n",
       "867    not the pursuit of perfection Xit s the balanc...\n",
       "868    allow you to acquire a nuclear weapon As presi...\n",
       "869    act Third I will build a coalition to counter ...\n",
       "870    conflict And the United States must lead in as...\n",
       "871    say Xyou ll never have to question whether we ...\n",
       "872    with principle and purpose other people and go...\n",
       "873    yes for a rising generation eager to build a n...\n",
       "874    It was just one story just one family but it f...\n",
       "875    keep pressure on the regime Today I am calling...\n",
       "876    lead of Pope Francis who will carry a powerful...\n",
       "877    States across Latin America For years our unpo...\n",
       "878    out of date partisan ideas and candidates rip ...\n",
       "Name: speech, dtype: object"
      ]
     },
     "execution_count": 245,
     "metadata": {},
     "output_type": "execute_result"
    }
   ],
   "source": [
    "X"
   ]
  },
  {
   "cell_type": "code",
   "execution_count": 246,
   "metadata": {
    "collapsed": false
   },
   "outputs": [
    {
     "data": {
      "text/plain": [
       "'location location But you have heard this about Obamacare And it s disgraceful It s a big fat horrible lie Your deductibles are going through the roof You re not going to get unless you re hit by an army tank you re not going to get coverage And people that had plans that they loved that they really loved don t have those plans anymore So it s a real real disaster And somebody has to repeal and replace Obamacare And they have to do it fast and not just talk about it Now we have to build a fence And it s got to be a beauty Who can build better than Trump I build it s what I do I build I build nice fences but I build great buildings Fences are easy believe me I saw the other day on television people just walking across the border They re walking The military is standing there holding guns and people are just walking right in front coming into our country It is so terrible It is so unfair It is so incompetent And we don t have the best coming in We have people that are criminals we have people that are crooks You can certainly have terrorists You can certainly have Islamic terrorists You can have anything coming across the border We don t do anything about it So I would say that if I run and if I win I would certainly start by building a very very powerful border Again the politicians talk about it and they do nothing about it Benghazi Oh Benghazi Benghazi Everything is Benghazi What happens Nothing IRS e mails I get sued all the time okay I run a big business You know I ve always said it s very very hard for a person who is very successful I have done so many deals Almost all of them have been tremendously successful You ll see that when I file my statements I mean you will see you will be very proud of me okay But I ve always said and I said it strongly it s very hard for somebody that does tremendous numbers of deals to run for politics run for political office any office let alone president Because you ve done so much you ve beaten so many people you ve created so many Look Obama what did he do No deal He never did a deal He did one deal A house And if you did that house you d be in jail right now okay He got away with murder But I can tell you e mails IRS the e mails thousands of them they were lost they were lost If you were in my world you would know that e mails can t be lost they can t be lost So why aren t our'"
      ]
     },
     "execution_count": 246,
     "metadata": {},
     "output_type": "execute_result"
    }
   ],
   "source": [
    "X[1]"
   ]
  },
  {
   "cell_type": "code",
   "execution_count": 247,
   "metadata": {
    "collapsed": false
   },
   "outputs": [
    {
     "data": {
      "text/plain": [
       "879"
      ]
     },
     "execution_count": 247,
     "metadata": {},
     "output_type": "execute_result"
    }
   ],
   "source": [
    "len(X)"
   ]
  },
  {
   "cell_type": "code",
   "execution_count": 248,
   "metadata": {
    "collapsed": false
   },
   "outputs": [
    {
     "data": {
      "text/plain": [
       "'location location But you have heard this about Obamacare And it s disgraceful It s a big fat horrible lie Your deductibles are going through the roof You re not going to get unless you re hit by an army tank you re not going to get coverage And people that had plans that they loved that they really loved don t have those plans anymore So it s a real real disaster And somebody has to repeal and replace Obamacare And they have to do it fast and not just talk about it Now we have to build a fence And it s got to be a beauty Who can build better than Trump I build it s what I do I build I build nice fences but I build great buildings Fences are easy believe me I saw the other day on television people just walking across the border They re walking The military is standing there holding guns and people are just walking right in front coming into our country It is so terrible It is so unfair It is so incompetent And we don t have the best coming in We have people that are criminals we have people that are crooks You can certainly have terrorists You can certainly have Islamic terrorists You can have anything coming across the border We don t do anything about it So I would say that if I run and if I win I would certainly start by building a very very powerful border Again the politicians talk about it and they do nothing about it Benghazi Oh Benghazi Benghazi Everything is Benghazi What happens Nothing IRS e mails I get sued all the time okay I run a big business You know I ve always said it s very very hard for a person who is very successful I have done so many deals Almost all of them have been tremendously successful You ll see that when I file my statements I mean you will see you will be very proud of me okay But I ve always said and I said it strongly it s very hard for somebody that does tremendous numbers of deals to run for politics run for political office any office let alone president Because you ve done so much you ve beaten so many people you ve created so many Look Obama what did he do No deal He never did a deal He did one deal A house And if you did that house you d be in jail right now okay He got away with murder But I can tell you e mails IRS the e mails thousands of them they were lost they were lost If you were in my world you would know that e mails can t be lost they can t be lost So why aren t our'"
      ]
     },
     "execution_count": 248,
     "metadata": {},
     "output_type": "execute_result"
    }
   ],
   "source": [
    "re.sub(r\"\\s+\", \" \", X[1], flags=re.UNICODE)"
   ]
  },
  {
   "cell_type": "code",
   "execution_count": null,
   "metadata": {
    "collapsed": true
   },
   "outputs": [],
   "source": []
  },
  {
   "cell_type": "code",
   "execution_count": 249,
   "metadata": {
    "collapsed": true
   },
   "outputs": [],
   "source": [
    "from sklearn import feature_extraction"
   ]
  },
  {
   "cell_type": "code",
   "execution_count": 250,
   "metadata": {
    "collapsed": true
   },
   "outputs": [],
   "source": [
    "estimator = pipeline.Pipeline(steps=[('countVec', feature_extraction.text.CountVectorizer(lowercase=True)),\n",
    "                                    ('reg',LogisticRegression())\n",
    "                                    ])\n"
   ]
  },
  {
   "cell_type": "code",
   "execution_count": 251,
   "metadata": {
    "collapsed": true
   },
   "outputs": [],
   "source": [
    "estimator = estimator.fit(X=X, y=y)"
   ]
  },
  {
   "cell_type": "code",
   "execution_count": 277,
   "metadata": {
    "collapsed": false
   },
   "outputs": [
    {
     "data": {
      "text/plain": [
       "array([ 0.93258427,  1.        ,  0.90909091,  1.        ,  1.        ,\n",
       "        1.        ,  1.        ,  1.        ,  0.98850575,  1.        ])"
      ]
     },
     "execution_count": 277,
     "metadata": {},
     "output_type": "execute_result"
    }
   ],
   "source": [
    "cross_validation.cross_val_score(estimator, X=X, y=y, cv=10)"
   ]
  },
  {
   "cell_type": "code",
   "execution_count": 252,
   "metadata": {
    "collapsed": false
   },
   "outputs": [
    {
     "data": {
      "text/plain": [
       "1.0"
      ]
     },
     "execution_count": 252,
     "metadata": {},
     "output_type": "execute_result"
    }
   ],
   "source": [
    "estimator.score(X=X, y=y)"
   ]
  },
  {
   "cell_type": "code",
   "execution_count": null,
   "metadata": {
    "collapsed": true
   },
   "outputs": [],
   "source": []
  },
  {
   "cell_type": "code",
   "execution_count": null,
   "metadata": {
    "collapsed": true
   },
   "outputs": [],
   "source": []
  },
  {
   "cell_type": "code",
   "execution_count": null,
   "metadata": {
    "collapsed": true
   },
   "outputs": [],
   "source": []
  },
  {
   "cell_type": "code",
   "execution_count": 253,
   "metadata": {
    "collapsed": true
   },
   "outputs": [],
   "source": [
    "from ipywidgets import widgets"
   ]
  },
  {
   "cell_type": "code",
   "execution_count": 254,
   "metadata": {
    "collapsed": false
   },
   "outputs": [
    {
     "name": "stderr",
     "output_type": "stream",
     "text": [
      "Widget Javascript not detected.  It may not be installed properly. Did you enable the widgetsnbextension? If not, then run \"jupyter nbextension enable --py --sys-prefix widgetsnbextension\"\n"
     ]
    }
   ],
   "source": [
    "from __future__ import print_function\n",
    "from ipywidgets import *\n",
    "import ipywidgets as widgets\n",
    "from IPython.display import display\n",
    "text = widgets.Text()\n",
    "display(text)\n",
    "\n",
    "def handle_submit(sender):\n",
    "    who_speaking(text)\n",
    "text.on_submit(handle_submit)"
   ]
  },
  {
   "cell_type": "code",
   "execution_count": 255,
   "metadata": {
    "collapsed": false
   },
   "outputs": [
    {
     "name": "stdout",
     "output_type": "stream",
     "text": [
      "/usr/bin/sh: jupyter: command not found\r\n"
     ]
    }
   ],
   "source": [
    "!jupyter nbextension enable --py --sys-prefix widgetsnbextension"
   ]
  },
  {
   "cell_type": "code",
   "execution_count": 256,
   "metadata": {
    "collapsed": false
   },
   "outputs": [],
   "source": [
    "def who_speaking(text) :\n",
    "    temp_str =  text\n",
    "    #\"President Roosevelt called on every American to do his or her part, and every American answered. He said there’s no mystery about what it takes to build a strong and prosperous America: “Equality of opportunity… Jobs for those who can work… Security for those who need it… The ending of special privilege for the few… The preservation of civil liberties for all… a wider and constantly rising standard of living.\"\n",
    "    temp_str_l = []\n",
    "\n",
    "    temp_str = temp_str.replace('\\n','').replace('\\r','')\n",
    "    temp_str = re.sub(r'\\W+',' ', temp_str)\n",
    "    temp_str_l.append(temp_str)\n",
    "    X_pred_temp = pd.DataFrame(temp_str_l, columns=['speech'])\n",
    "\n",
    "    if estimator.predict(X_pred_temp['speech'])[0] :\n",
    "        print('Trump speaking')\n",
    "    else :\n",
    "        print('Hillary speaking')\n"
   ]
  },
  {
   "cell_type": "code",
   "execution_count": 275,
   "metadata": {
    "collapsed": false
   },
   "outputs": [
    {
     "name": "stdout",
     "output_type": "stream",
     "text": [
      "Trump speaking\n"
     ]
    }
   ],
   "source": [
    "who_speaking(\"Mexicans rapist\")       "
   ]
  },
  {
   "cell_type": "code",
   "execution_count": null,
   "metadata": {
    "collapsed": true
   },
   "outputs": [],
   "source": []
  },
  {
   "cell_type": "code",
   "execution_count": null,
   "metadata": {
    "collapsed": true
   },
   "outputs": [],
   "source": []
  },
  {
   "cell_type": "code",
   "execution_count": null,
   "metadata": {
    "collapsed": false
   },
   "outputs": [],
   "source": [
    "#temp_str = \"Homicides last year increased by 17 percent in America\\’s 50 largest cities. That\\’s the largest increase in 25 years. In our nation\\’s capital, killings have risen by 50 percent. They are up nearly 60 percent in nearby Baltimore.\"\n",
    "#temp_str = \"If Trump wants to talk about debt, let’s start with the $34 trillion (that's a \\\"t\\\") his tax plan would run up.\"\n",
    "#temp_str = \"Congratulations to my children, Don and Tiffany, on having done a fantastic job last night. I am very proud of you!\"\n",
    "#temp_str = \"You know, over the past few months, I have had the opportunity to listen to Americans’ concerns about an economy that still isn’t delivering for them. It’s not delivering the way that it should. It still seems, to most Americans that I have spoken with, that it is stacked for those at the top.\"\n",
    "#temp_str =  \"It is also a coming together, much the way women come together every day in every country. We come together in fields and factories, in village markets and supermarkets, in living rooms and board rooms. Whether it is while playing with our children in the park, or washing clothes in a river, or taking a break at the office water cooler, we come together and talk about our aspirations and concern. And time and again, our talk turns to our children and our families. However different we may appear, there is far more that unites us than divides us. We share a common future, and we are here to find common ground so that we may help bring new dignity and respect to women and girls all over the world, and in so doing bring new strength and stability to families as well.\"\n",
    "#temp_str =  \"All I do is hug Democrats. It gets me in trouble all the time. All the time,\"\n",
    "temp_str =  \"President Roosevelt called on every American to do his or her part, and every American answered. He said there’s no mystery about what it takes to build a strong and prosperous America: “Equality of opportunity… Jobs for those who can work… Security for those who need it… The ending of special privilege for the few… The preservation of civil liberties for all… a wider and constantly rising standard of living.\"\n"
   ]
  }
 ],
 "metadata": {
  "kernelspec": {
   "display_name": "Python 2",
   "language": "python",
   "name": "python2"
  },
  "language_info": {
   "codemirror_mode": {
    "name": "ipython",
    "version": 2
   },
   "file_extension": ".py",
   "mimetype": "text/x-python",
   "name": "python",
   "nbconvert_exporter": "python",
   "pygments_lexer": "ipython2",
   "version": "2.7.12"
  }
 },
 "nbformat": 4,
 "nbformat_minor": 0
}

{
 "cells": [
  {
   "cell_type": "markdown",
   "metadata": {},
   "source": [
    "# Times University ranking dataset analysis\n",
    "\n",
    "In this codealong we are going to analyze a ranking of universities using regression. Specifically, we are going to **predict the university ranking** with the provided predictors.\n",
    "\n",
    "---\n",
    "\n",
    "The information provided in the csv contains:\n",
    "\n",
    "- **world_rank** - world rank for the university. Contains rank ranges and equal ranks (eg. =94 and 201-250).\n",
    "- **university_name** - name of university.\n",
    "- **country** - country of each university.\n",
    "- **teaching** - university score for teaching (the learning environment).\n",
    "- **international** - university score international outlook (staff, students, research).\n",
    "- **research** - university score for research (volume, income and reputation).\n",
    "- **citations** - university score for citations (research influence).\n",
    "- **income** - university score for industry income (knowledge transfer).\n",
    "- **total_score** - total score for university, used to determine rank.\n",
    "- **num_students** - number of students at the university.\n",
    "- **student_staff_ratio** - Number of students divided by number of staff.\n",
    "- **international_students** - Percentage of students who are international.\n",
    "- **female_male_ratio** - Female student to Male student ratio.\n",
    "- **year** - year of the ranking (2011 to 2016 included).\n",
    "\n",
    "We are going to predict the **total score**, which directly corresponds to the ranking.\n",
    "\n",
    "---\n",
    "\n",
    "### ONLY THE DATA PATH IS PROVIDED!\n",
    "\n",
    "The analysis is up to you. This is an open ended practice. You are expected to:\n",
    "\n",
    "- Load the packages you need to do analysis\n",
    "- Perform EDA on variables of interest\n",
    "- Form a hypothesis or hypotheses on what is important for the score\n",
    "- Check your data for problems, clean and munge data into correct formats\n",
    "- Create new variables from columns if necessary\n",
    "- Perform statistical analysis with regression and describe the results\n",
    "\n",
    "---\n",
    "\n",
    "If you do not know how to do something **check documentation first.** I look up things in documentation all the time. \n",
    "\n",
    "**You are not expected to know how to do things by heart. Knowing how to effectively look up the answers on the internet is a critical skill for data scientists!**"
   ]
  },
  {
   "cell_type": "code",
   "execution_count": 31,
   "metadata": {
    "collapsed": true
   },
   "outputs": [],
   "source": [
    "uni_data_path = './dataset/timesData.csv'"
   ]
  },
  {
   "cell_type": "code",
   "execution_count": 32,
   "metadata": {
    "collapsed": false
   },
   "outputs": [],
   "source": [
    "import pandas as pd\n",
    "import numpy as np\n",
    "import matplotlib.pyplot as plt\n",
    "import seaborn as sns\n",
    "\n",
    "%matplotlib inline"
   ]
  },
  {
   "cell_type": "code",
   "execution_count": 33,
   "metadata": {
    "collapsed": true
   },
   "outputs": [],
   "source": [
    "unidata = pd.read_csv(uni_data_path, na_values='-')"
   ]
  },
  {
   "cell_type": "code",
   "execution_count": 34,
   "metadata": {
    "collapsed": false
   },
   "outputs": [
    {
     "data": {
      "text/html": [
       "<div>\n",
       "<table border=\"1\" class=\"dataframe\">\n",
       "  <thead>\n",
       "    <tr style=\"text-align: right;\">\n",
       "      <th></th>\n",
       "      <th>world_rank</th>\n",
       "      <th>university_name</th>\n",
       "      <th>country</th>\n",
       "      <th>teaching</th>\n",
       "      <th>international</th>\n",
       "      <th>research</th>\n",
       "      <th>citations</th>\n",
       "      <th>income</th>\n",
       "      <th>total_score</th>\n",
       "      <th>num_students</th>\n",
       "      <th>student_staff_ratio</th>\n",
       "      <th>international_students</th>\n",
       "      <th>female_male_ratio</th>\n",
       "      <th>year</th>\n",
       "    </tr>\n",
       "  </thead>\n",
       "  <tbody>\n",
       "    <tr>\n",
       "      <th>0</th>\n",
       "      <td>1</td>\n",
       "      <td>Harvard University</td>\n",
       "      <td>United States of America</td>\n",
       "      <td>99.7</td>\n",
       "      <td>72.4</td>\n",
       "      <td>98.7</td>\n",
       "      <td>98.8</td>\n",
       "      <td>34.5</td>\n",
       "      <td>96.1</td>\n",
       "      <td>20,152</td>\n",
       "      <td>8.9</td>\n",
       "      <td>25%</td>\n",
       "      <td>NaN</td>\n",
       "      <td>2011</td>\n",
       "    </tr>\n",
       "  </tbody>\n",
       "</table>\n",
       "</div>"
      ],
      "text/plain": [
       "  world_rank     university_name                   country  teaching  \\\n",
       "0          1  Harvard University  United States of America      99.7   \n",
       "\n",
       "   international  research  citations  income  total_score num_students  \\\n",
       "0           72.4      98.7       98.8    34.5         96.1       20,152   \n",
       "\n",
       "   student_staff_ratio international_students female_male_ratio  year  \n",
       "0                  8.9                    25%               NaN  2011  "
      ]
     },
     "execution_count": 34,
     "metadata": {},
     "output_type": "execute_result"
    }
   ],
   "source": [
    "unidata.head(1)"
   ]
  },
  {
   "cell_type": "code",
   "execution_count": 35,
   "metadata": {
    "collapsed": false
   },
   "outputs": [
    {
     "name": "stdout",
     "output_type": "stream",
     "text": [
      "<class 'pandas.core.frame.DataFrame'>\n",
      "RangeIndex: 2603 entries, 0 to 2602\n",
      "Data columns (total 14 columns):\n",
      "world_rank                2603 non-null object\n",
      "university_name           2603 non-null object\n",
      "country                   2603 non-null object\n",
      "teaching                  2603 non-null float64\n",
      "international             2594 non-null float64\n",
      "research                  2603 non-null float64\n",
      "citations                 2603 non-null float64\n",
      "income                    2385 non-null float64\n",
      "total_score               1201 non-null float64\n",
      "num_students              2544 non-null object\n",
      "student_staff_ratio       2544 non-null float64\n",
      "international_students    2536 non-null object\n",
      "female_male_ratio         2367 non-null object\n",
      "year                      2603 non-null int64\n",
      "dtypes: float64(7), int64(1), object(6)\n",
      "memory usage: 284.8+ KB\n"
     ]
    }
   ],
   "source": [
    "unidata.info()"
   ]
  },
  {
   "cell_type": "code",
   "execution_count": 36,
   "metadata": {
    "collapsed": false
   },
   "outputs": [],
   "source": [
    "# unidata[\"total_score\"] = pd.to_numeric(unidata[\"total_score\"].str.replace('-', ''), errors='coerce')\n",
    "# unidata[\"income\"] = pd.to_numeric(unidata[\"income\"].str.replace('-', ''), errors='coerce')"
   ]
  },
  {
   "cell_type": "code",
   "execution_count": 37,
   "metadata": {
    "collapsed": false
   },
   "outputs": [],
   "source": [
    "unidata[\"num_students\"] = unidata[\"num_students\"].str.replace(',','').astype(float)"
   ]
  },
  {
   "cell_type": "code",
   "execution_count": 38,
   "metadata": {
    "collapsed": false
   },
   "outputs": [],
   "source": [
    "unidata[\"female_male_ratio\"] = unidata[\"female_male_ratio\"].str.split(' : ', expand=True)[0].astype(float) / 100.0"
   ]
  },
  {
   "cell_type": "code",
   "execution_count": 39,
   "metadata": {
    "collapsed": false
   },
   "outputs": [],
   "source": [
    "unidata[\"international_students\"] = unidata[\"international_students\"].str.replace('%','').astype(float) / 100.0"
   ]
  },
  {
   "cell_type": "code",
   "execution_count": 41,
   "metadata": {
    "collapsed": false
   },
   "outputs": [
    {
     "name": "stdout",
     "output_type": "stream",
     "text": [
      "<class 'pandas.core.frame.DataFrame'>\n",
      "Int64Index: 954 entries, 1 to 2002\n",
      "Data columns (total 14 columns):\n",
      "world_rank                954 non-null object\n",
      "university_name           954 non-null object\n",
      "country                   954 non-null object\n",
      "teaching                  954 non-null float64\n",
      "international             954 non-null float64\n",
      "research                  954 non-null float64\n",
      "citations                 954 non-null float64\n",
      "income                    954 non-null float64\n",
      "total_score               954 non-null float64\n",
      "num_students              954 non-null float64\n",
      "student_staff_ratio       954 non-null float64\n",
      "international_students    954 non-null float64\n",
      "female_male_ratio         954 non-null float64\n",
      "year                      954 non-null int64\n",
      "dtypes: float64(10), int64(1), object(3)\n",
      "memory usage: 111.8+ KB\n"
     ]
    }
   ],
   "source": [
    "unidata.dropna(inplace=True)\n",
    "\n",
    "unidata.info()"
   ]
  },
  {
   "cell_type": "code",
   "execution_count": 43,
   "metadata": {
    "collapsed": true
   },
   "outputs": [],
   "source": [
    "exclude = ['world_rank', 'university_name', 'country', 'total_score']\n",
    "y = unidata['total_score']\n",
    "X = unidata[[col for col in unidata.columns if col not in exclude]]"
   ]
  },
  {
   "cell_type": "code",
   "execution_count": 45,
   "metadata": {
    "collapsed": true
   },
   "outputs": [],
   "source": [
    "from sklearn import cross_validation, linear_model, metrics"
   ]
  },
  {
   "cell_type": "code",
   "execution_count": 46,
   "metadata": {
    "collapsed": false
   },
   "outputs": [
    {
     "name": "stderr",
     "output_type": "stream",
     "text": [
      "/Users/pizzato/anaconda/lib/python2.7/site-packages/scipy/linalg/basic.py:884: RuntimeWarning: internal gelsd driver lwork query error, required iwork dimension not returned. This is likely the result of LAPACK bug 0038, fixed in LAPACK 3.2.2 (released July 21, 2010). Falling back to 'gelss' driver.\n",
      "  warnings.warn(mesg, RuntimeWarning)\n"
     ]
    },
    {
     "data": {
      "text/plain": [
       "array([ 0.99758245,  0.99979173,  0.99986483,  0.9999162 ,  0.99977329])"
      ]
     },
     "execution_count": 46,
     "metadata": {},
     "output_type": "execute_result"
    }
   ],
   "source": [
    "cross_validation.cross_val_score(linear_model.LinearRegression(), X, y, cv=5)"
   ]
  },
  {
   "cell_type": "code",
   "execution_count": 47,
   "metadata": {
    "collapsed": false
   },
   "outputs": [
    {
     "data": {
      "text/plain": [
       "[('teaching', 0.29907973708719454),\n",
       " ('international', 0.069710997658992566),\n",
       " ('research', 0.30094857477469505),\n",
       " ('citations', 0.30348121020814672),\n",
       " ('income', 0.025548318036536316),\n",
       " ('num_students', 3.0799112572788521e-07),\n",
       " ('student_staff_ratio', 0.00039930346566680042),\n",
       " ('international_students', 0.25684251080126969),\n",
       " ('female_male_ratio', 0.06864273088982531),\n",
       " ('year', -0.04150609706016941)]"
      ]
     },
     "execution_count": 47,
     "metadata": {},
     "output_type": "execute_result"
    }
   ],
   "source": [
    "lm = linear_model.LinearRegression().fit(X, y)\n",
    "zip(X.columns, lm.coef_)"
   ]
  },
  {
   "cell_type": "code",
   "execution_count": 48,
   "metadata": {
    "collapsed": false
   },
   "outputs": [
    {
     "data": {
      "text/plain": [
       "array([ 0.99377021,  0.99978904,  0.99932214,  0.99987752,  0.9998866 ])"
      ]
     },
     "execution_count": 48,
     "metadata": {},
     "output_type": "execute_result"
    }
   ],
   "source": [
    "cross_validation.cross_val_score(linear_model.LassoCV(), X, y, cv=5)"
   ]
  },
  {
   "cell_type": "code",
   "execution_count": 49,
   "metadata": {
    "collapsed": false
   },
   "outputs": [
    {
     "data": {
      "text/plain": [
       "[('teaching', 0.29017054718223834),\n",
       " ('international', 0.064777349407206128),\n",
       " ('research', 0.3071342615709326),\n",
       " ('citations', 0.29382323247872166),\n",
       " ('income', 0.020346664894349092),\n",
       " ('num_students', -4.7716990890085177e-06),\n",
       " ('student_staff_ratio', -0.0),\n",
       " ('international_students', 0.0),\n",
       " ('female_male_ratio', -0.0),\n",
       " ('year', -0.0)]"
      ]
     },
     "execution_count": 49,
     "metadata": {},
     "output_type": "execute_result"
    }
   ],
   "source": [
    "lm = linear_model.LassoCV().fit(X, y)\n",
    "zip(X.columns, lm.coef_)"
   ]
  },
  {
   "cell_type": "markdown",
   "metadata": {},
   "source": [
    "# Classification"
   ]
  },
  {
   "cell_type": "code",
   "execution_count": 50,
   "metadata": {
    "collapsed": true
   },
   "outputs": [],
   "source": [
    "unidata['world_rank'] = unidata['world_rank'].str.replace('=','').str.split('-', expand=True)[0].astype(int)"
   ]
  },
  {
   "cell_type": "code",
   "execution_count": 51,
   "metadata": {
    "collapsed": true
   },
   "outputs": [],
   "source": [
    "exclude = ['world_rank', 'university_name', 'country', 'total_score']\n",
    "y = unidata['world_rank'] < 100\n",
    "X = unidata[[col for col in unidata.columns if col not in exclude]]"
   ]
  },
  {
   "cell_type": "code",
   "execution_count": 52,
   "metadata": {
    "collapsed": false
   },
   "outputs": [
    {
     "data": {
      "text/plain": [
       "array([ 0.98958333,  0.91099476,  0.97382199,  0.91578947,  0.82631579])"
      ]
     },
     "execution_count": 52,
     "metadata": {},
     "output_type": "execute_result"
    }
   ],
   "source": [
    "cross_validation.cross_val_score(linear_model.LogisticRegression(), X, y, cv=5)"
   ]
  },
  {
   "cell_type": "code",
   "execution_count": 53,
   "metadata": {
    "collapsed": true
   },
   "outputs": [],
   "source": [
    "y_pred = cross_validation.cross_val_predict(linear_model.LogisticRegression(), X, y, cv=5)"
   ]
  },
  {
   "cell_type": "code",
   "execution_count": 54,
   "metadata": {
    "collapsed": false
   },
   "outputs": [
    {
     "data": {
      "text/plain": [
       "array([[460,  36],\n",
       "       [ 37, 421]])"
      ]
     },
     "execution_count": 54,
     "metadata": {},
     "output_type": "execute_result"
    }
   ],
   "source": [
    "metrics.confusion_matrix(y_true=y, y_pred=y_pred)"
   ]
  },
  {
   "cell_type": "code",
   "execution_count": 56,
   "metadata": {
    "collapsed": false
   },
   "outputs": [
    {
     "data": {
      "text/plain": [
       "<matplotlib.axes._subplots.AxesSubplot at 0x11686bed0>"
      ]
     },
     "execution_count": 56,
     "metadata": {},
     "output_type": "execute_result"
    },
    {
     "data": {
      "image/png": "[encoded data removed]",
      "text/plain": [
       "<matplotlib.figure.Figure at 0x1168dfd10>"
      ]
     },
     "metadata": {},
     "output_type": "display_data"
    }
   ],
   "source": [
    "unidata['world_rank'].plot.hist()"
   ]
  },
  {
   "cell_type": "code",
   "execution_count": 57,
   "metadata": {
    "collapsed": false
   },
   "outputs": [
    {
     "data": {
      "text/plain": [
       "1         2\n",
       "2         3\n",
       "3         4\n",
       "5         6\n",
       "6         6\n",
       "8         9\n",
       "12       13\n",
       "13       14\n",
       "15       15\n",
       "18       19\n",
       "19       20\n",
       "20       21\n",
       "21       22\n",
       "22       23\n",
       "23       24\n",
       "26       27\n",
       "27       28\n",
       "28       29\n",
       "29       30\n",
       "30       30\n",
       "31       32\n",
       "33       34\n",
       "35       36\n",
       "39       40\n",
       "41       42\n",
       "44       43\n",
       "46       47\n",
       "47       48\n",
       "50       51\n",
       "53       54\n",
       "       ... \n",
       "1970    167\n",
       "1971    167\n",
       "1972    167\n",
       "1973    167\n",
       "1974    172\n",
       "1975    172\n",
       "1976    174\n",
       "1977    175\n",
       "1978    176\n",
       "1980    178\n",
       "1981    179\n",
       "1983    180\n",
       "1984    182\n",
       "1985    182\n",
       "1986    182\n",
       "1987    185\n",
       "1988    185\n",
       "1989    185\n",
       "1991    189\n",
       "1992    190\n",
       "1993    190\n",
       "1994    192\n",
       "1995    193\n",
       "1996    193\n",
       "1997    195\n",
       "1998    196\n",
       "1999    196\n",
       "2000    198\n",
       "2001    199\n",
       "2002    200\n",
       "Name: world_rank, dtype: int64"
      ]
     },
     "execution_count": 57,
     "metadata": {},
     "output_type": "execute_result"
    }
   ],
   "source": [
    "unidata['world_rank']"
   ]
  },
  {
   "cell_type": "code",
   "execution_count": null,
   "metadata": {
    "collapsed": true
   },
   "outputs": [],
   "source": []
  }
 ],
 "metadata": {
  "kernelspec": {
   "display_name": "Python 2",
   "language": "python",
   "name": "python2"
  },
  "language_info": {
   "codemirror_mode": {
    "name": "ipython",
    "version": 2
   },
   "file_extension": ".py",
   "mimetype": "text/x-python",
   "name": "python",
   "nbconvert_exporter": "python",
   "pygments_lexer": "ipython2",
   "version": "2.7.11"
  }
 },
 "nbformat": 4,
 "nbformat_minor": 0
}

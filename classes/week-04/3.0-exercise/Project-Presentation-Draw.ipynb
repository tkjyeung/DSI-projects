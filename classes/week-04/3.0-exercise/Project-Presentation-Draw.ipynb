{
 "cells": [
  {
   "cell_type": "code",
   "execution_count": null,
   "metadata": {
    "collapsed": true
   },
   "outputs": [],
   "source": [
    "import numpy as np\n",
    "import pandas as pd"
   ]
  },
  {
   "cell_type": "code",
   "execution_count": null,
   "metadata": {
    "collapsed": false
   },
   "outputs": [],
   "source": [
    "students_presentations = {\n",
    "    \"Siddarth Anand\" : 0.0,\n",
    "    \"Jamie Lee\" : 0.0,\n",
    "    \"Jacky Yeung\" : 0.0,\n",
    "    \"Bryant Lee\" : 0.0,\n",
    "    \"Alex Rebull\" : 0.0,\n",
    "    \"Anthony Ng\" : 0.0,\n",
    "    \"Terry Chan\" : 0.0,\n",
    "    \"Alice Lam\" : 0.0,\n",
    "    \"Jacques Oelofse\" : 0.0,\n",
    "    \"Howard Ilderton\" : 0.0,\n",
    "    \"Bo Ki Wong\" : 0.0,\n",
    "}"
   ]
  },
  {
   "cell_type": "code",
   "execution_count": null,
   "metadata": {
    "collapsed": true
   },
   "outputs": [],
   "source": [
    "def draw_students(how_many, students, voluntaries = None):\n",
    "    if voluntaries is None:\n",
    "        voluntaries = []\n",
    "    \n",
    "    students_draw = {s:v for s,v in students.items() if s not in voluntaries}\n",
    "    \n",
    "    n_presentations_plus_one = np.array(students_draw.values()) + 1\n",
    "    invert_odd = (1.0 - n_presentations_plus_one / np.max(n_presentations_plus_one)) + 0.01\n",
    "    pick_prob = invert_odd / np.sum(invert_odd)                                        \n",
    "        \n",
    "    pick = np.random.choice(students_draw.keys(), \n",
    "                            size=how_many - len(voluntaries), \n",
    "                            replace=False, \n",
    "                            p=pick_prob)\n",
    "    \n",
    "    pick = list(set(pick) | set(voluntaries))    \n",
    "    np.random.shuffle(pick)\n",
    "                                          \n",
    "    new_students = {s:v+1 if s in pick else v for s,v in students.items()}    \n",
    "    return pick, new_students"
   ]
  },
  {
   "cell_type": "code",
   "execution_count": null,
   "metadata": {
    "collapsed": false,
    "scrolled": false
   },
   "outputs": [],
   "source": [
    "means = []\n",
    "stds = []\n",
    "for _1 in range(100):\n",
    "    students_test = {\n",
    "        '1': 0.0,\n",
    "        '2': 0.0,\n",
    "        '3': 0.0,\n",
    "        '4': 0.0,\n",
    "        '5': 0.0,\n",
    "        '6': 0.0,    \n",
    "        '7': 0.0,    \n",
    "        '8': 0.0,    \n",
    "        '9': 0.0,    \n",
    "        'A': 0.0,    \n",
    "        'B': 0.0,        \n",
    "    }    \n",
    "    for _ in range(6):\n",
    "        pick, students_test = draw_students(6, students=students_test)\n",
    "    \n",
    "    s = np.array(students_test.values())\n",
    "    means.append(s.mean())\n",
    "    stds.append(s.std())\n",
    "    # print \"{} [{} - {}]\".format(s.mean(), s.mean()-2*s.std(), s.mean()+2*s.std())\n",
    "\n",
    "print \"Means of means {} {} [{} - {}]\".format(np.mean(means), np.mean(stds), np.mean(means)-2*np.mean(stds), np.mean(means)+2*np.mean(stds))\n"
   ]
  },
  {
   "cell_type": "markdown",
   "metadata": {},
   "source": [
    "# Project 3 pick\n",
    "\n",
    "Let's first set a seed"
   ]
  },
  {
   "cell_type": "code",
   "execution_count": null,
   "metadata": {
    "collapsed": true
   },
   "outputs": [],
   "source": [
    "seed = None\n",
    "np.random.seed(seed)"
   ]
  },
  {
   "cell_type": "code",
   "execution_count": null,
   "metadata": {
    "collapsed": false
   },
   "outputs": [],
   "source": [
    "pd.DataFrame(students_presentations.values(), index=students_presentations.keys(), columns=['Presentations'])"
   ]
  },
  {
   "cell_type": "code",
   "execution_count": null,
   "metadata": {
    "collapsed": false
   },
   "outputs": [],
   "source": [
    "pick, students_presentations = draw_students(how_many=6, \n",
    "                                             students=students_presentations, \n",
    "                                             voluntaries=None)"
   ]
  },
  {
   "cell_type": "code",
   "execution_count": null,
   "metadata": {
    "collapsed": false
   },
   "outputs": [],
   "source": [
    "pd.Series(pick)"
   ]
  },
  {
   "cell_type": "markdown",
   "metadata": {},
   "source": [
    "### How do the presentation count looks right now?"
   ]
  },
  {
   "cell_type": "code",
   "execution_count": null,
   "metadata": {
    "collapsed": false
   },
   "outputs": [],
   "source": [
    "pd.DataFrame(students_presentations.values(), index=students_presentations.keys(), columns=['Presentations'])"
   ]
  },
  {
   "cell_type": "markdown",
   "metadata": {},
   "source": [
    "# Project 4 pick\n",
    "\n",
    "Let's first set a seed"
   ]
  },
  {
   "cell_type": "code",
   "execution_count": null,
   "metadata": {
    "collapsed": false
   },
   "outputs": [],
   "source": [
    "# seed = 1\n",
    "# np.random.seed(seed)"
   ]
  },
  {
   "cell_type": "code",
   "execution_count": null,
   "metadata": {
    "collapsed": false
   },
   "outputs": [],
   "source": [
    "# pd.DataFrame(students_presentations.values(), index=students_presentations.keys(), columns=['Presentations'])"
   ]
  },
  {
   "cell_type": "code",
   "execution_count": null,
   "metadata": {
    "collapsed": true
   },
   "outputs": [],
   "source": [
    "# pick, students_presentations = draw_students(how_many=6, \n",
    "#                                              students=students_presentations, \n",
    "#                                              voluntaries=None)"
   ]
  },
  {
   "cell_type": "code",
   "execution_count": null,
   "metadata": {
    "collapsed": false
   },
   "outputs": [],
   "source": [
    "# pd.Series(pick)"
   ]
  },
  {
   "cell_type": "code",
   "execution_count": null,
   "metadata": {
    "collapsed": true
   },
   "outputs": [],
   "source": [
    "# pd.DataFrame(students_presentations.values(), index=students_presentations.keys(), columns=['Presentations'])"
   ]
  }
 ],
 "metadata": {
  "kernelspec": {
   "display_name": "Python 2",
   "language": "python",
   "name": "python2"
  },
  "language_info": {
   "codemirror_mode": {
    "name": "ipython",
    "version": 2
   },
   "file_extension": ".py",
   "mimetype": "text/x-python",
   "name": "python",
   "nbconvert_exporter": "python",
   "pygments_lexer": "ipython2",
   "version": "2.7.11"
  }
 },
 "nbformat": 4,
 "nbformat_minor": 0
}

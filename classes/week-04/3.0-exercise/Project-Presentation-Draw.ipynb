{
 "cells": [
  {
   "cell_type": "code",
   "execution_count": 1,
   "metadata": {
    "collapsed": true
   },
   "outputs": [],
   "source": [
    "import numpy as np\n",
    "import pandas as pd"
   ]
  },
  {
   "cell_type": "code",
   "execution_count": 2,
   "metadata": {
    "collapsed": false
   },
   "outputs": [],
   "source": [
    "students_presentations = {\n",
    "    \"Siddarth Anand\" : 0.0,\n",
    "    \"Jamie Lee\" : 0.0,\n",
    "    \"Jacky Yeung\" : 0.0,\n",
    "    \"Bryant Lee\" : 0.0,\n",
    "    #\"Alex Rebull\" : 0.0,\n",
    "    \"Anthony Ng\" : 0.0,\n",
    "    \"Terry Chan\" : 0.0,\n",
    "    \"Alice Lam\" : 0.0,\n",
    "    \"Jacques Oelofse\" : 0.0,\n",
    "    \"Howard Ilderton\" : 0.0,\n",
    "    \"Bo Ki Wong\" : 0.0,\n",
    "}"
   ]
  },
  {
   "cell_type": "code",
   "execution_count": 3,
   "metadata": {
    "collapsed": true
   },
   "outputs": [],
   "source": [
    "def draw_students(how_many, students, volunteers = None, absent_students = None):\n",
    "    if volunteers is None:\n",
    "        volunteers = []\n",
    "    if absent_students is None:\n",
    "        absent_students = []\n",
    "    \n",
    "    students_draw = {s:v for s,v in students.items() if s not in volunteers and s not in absent_students}\n",
    "    \n",
    "    n_presentations_plus_one = np.array(students_draw.values()) + 1\n",
    "    invert_odd = (1.0 - n_presentations_plus_one / np.max(n_presentations_plus_one)) + 0.01\n",
    "    pick_prob = invert_odd / np.sum(invert_odd)                                        \n",
    "        \n",
    "    pick = np.random.choice(students_draw.keys(), \n",
    "                            size=how_many - len(volunteers), \n",
    "                            replace=False, \n",
    "                            p=pick_prob)\n",
    "    \n",
    "    pick = list(set(pick) | set(volunteers))    \n",
    "    np.random.shuffle(pick)\n",
    "                                          \n",
    "    new_students = {s:v+1 if s in pick else v for s,v in students.items()}    \n",
    "    return pick, new_students"
   ]
  },
  {
   "cell_type": "code",
   "execution_count": 4,
   "metadata": {
    "collapsed": true
   },
   "outputs": [],
   "source": [
    "def adjust_given_up_student(students, pick, given_up_new_colunteers):\n",
    "\n",
    "    for given_up, volunteer in given_up_new_colunteers.items():\n",
    "        pick[pick.index(given_up)] = volunteer\n",
    "        students[given_up] -= 1\n",
    "        students[volunteer] += 1\n",
    "    \n",
    "    next_week_volunteer = given_up_new_colunteers.keys()\n",
    "    \n",
    "    return pick, students, next_week_volunteer "
   ]
  },
  {
   "cell_type": "code",
   "execution_count": 5,
   "metadata": {
    "collapsed": false,
    "scrolled": false
   },
   "outputs": [
    {
     "name": "stdout",
     "output_type": "stream",
     "text": [
      "Means of means 3.27272727273 0.450498181863 [2.371730909 - 4.17372363645]\n"
     ]
    }
   ],
   "source": [
    "means = []\n",
    "stds = []\n",
    "for _1 in range(100):\n",
    "    students_test = {\n",
    "        '1': 0.0,\n",
    "        '2': 0.0,\n",
    "        '3': 0.0,\n",
    "        '4': 0.0,\n",
    "        '5': 0.0,\n",
    "        '6': 0.0,    \n",
    "        '7': 0.0,    \n",
    "        '8': 0.0,    \n",
    "        '9': 0.0,    \n",
    "        'A': 0.0,    \n",
    "        'B': 0.0,        \n",
    "    }    \n",
    "    for _ in range(6):\n",
    "        pick, students_test = draw_students(6, students=students_test)\n",
    "    \n",
    "    s = np.array(students_test.values())\n",
    "    means.append(s.mean())\n",
    "    stds.append(s.std())\n",
    "    # print \"{} [{} - {}]\".format(s.mean(), s.mean()-2*s.std(), s.mean()+2*s.std())\n",
    "\n",
    "print \"Means of means {} {} [{} - {}]\".format(np.mean(means), np.mean(stds), np.mean(means)-2*np.mean(stds), np.mean(means)+2*np.mean(stds))\n"
   ]
  },
  {
   "cell_type": "markdown",
   "metadata": {},
   "source": [
    "# Project 3 pick\n",
    "\n",
    "Let's first set a seed"
   ]
  },
  {
   "cell_type": "code",
   "execution_count": 6,
   "metadata": {
    "collapsed": false
   },
   "outputs": [],
   "source": [
    "seed = 996411566\n",
    "np.random.seed(seed)"
   ]
  },
  {
   "cell_type": "code",
   "execution_count": 7,
   "metadata": {
    "collapsed": false
   },
   "outputs": [
    {
     "data": {
      "text/html": [
       "<div>\n",
       "<table border=\"1\" class=\"dataframe\">\n",
       "  <thead>\n",
       "    <tr style=\"text-align: right;\">\n",
       "      <th></th>\n",
       "      <th>Presentations</th>\n",
       "    </tr>\n",
       "  </thead>\n",
       "  <tbody>\n",
       "    <tr>\n",
       "      <th>Howard Ilderton</th>\n",
       "      <td>0.0</td>\n",
       "    </tr>\n",
       "    <tr>\n",
       "      <th>Siddarth Anand</th>\n",
       "      <td>0.0</td>\n",
       "    </tr>\n",
       "    <tr>\n",
       "      <th>Bryant Lee</th>\n",
       "      <td>0.0</td>\n",
       "    </tr>\n",
       "    <tr>\n",
       "      <th>Jamie Lee</th>\n",
       "      <td>0.0</td>\n",
       "    </tr>\n",
       "    <tr>\n",
       "      <th>Jacques Oelofse</th>\n",
       "      <td>0.0</td>\n",
       "    </tr>\n",
       "    <tr>\n",
       "      <th>Terry Chan</th>\n",
       "      <td>0.0</td>\n",
       "    </tr>\n",
       "    <tr>\n",
       "      <th>Jacky Yeung</th>\n",
       "      <td>0.0</td>\n",
       "    </tr>\n",
       "    <tr>\n",
       "      <th>Bo Ki Wong</th>\n",
       "      <td>0.0</td>\n",
       "    </tr>\n",
       "    <tr>\n",
       "      <th>Alice Lam</th>\n",
       "      <td>0.0</td>\n",
       "    </tr>\n",
       "    <tr>\n",
       "      <th>Anthony Ng</th>\n",
       "      <td>0.0</td>\n",
       "    </tr>\n",
       "  </tbody>\n",
       "</table>\n",
       "</div>"
      ],
      "text/plain": [
       "                 Presentations\n",
       "Howard Ilderton            0.0\n",
       "Siddarth Anand             0.0\n",
       "Bryant Lee                 0.0\n",
       "Jamie Lee                  0.0\n",
       "Jacques Oelofse            0.0\n",
       "Terry Chan                 0.0\n",
       "Jacky Yeung                0.0\n",
       "Bo Ki Wong                 0.0\n",
       "Alice Lam                  0.0\n",
       "Anthony Ng                 0.0"
      ]
     },
     "execution_count": 7,
     "metadata": {},
     "output_type": "execute_result"
    }
   ],
   "source": [
    "pd.DataFrame(students_presentations.values(), index=students_presentations.keys(), columns=['Presentations'])"
   ]
  },
  {
   "cell_type": "code",
   "execution_count": 8,
   "metadata": {
    "collapsed": false
   },
   "outputs": [],
   "source": [
    "pick, students_presentations = draw_students(how_many=6, \n",
    "                                             students=students_presentations, \n",
    "                                             volunteers=[\"Jamie Lee\",\"Howard Ilderton\"])"
   ]
  },
  {
   "cell_type": "code",
   "execution_count": 9,
   "metadata": {
    "collapsed": false
   },
   "outputs": [
    {
     "data": {
      "text/plain": [
       "0         Bo Ki Wong\n",
       "1    Howard Ilderton\n",
       "2          Jamie Lee\n",
       "3          Alice Lam\n",
       "4         Bryant Lee\n",
       "5     Siddarth Anand\n",
       "dtype: object"
      ]
     },
     "execution_count": 9,
     "metadata": {},
     "output_type": "execute_result"
    }
   ],
   "source": [
    "pd.Series(pick)"
   ]
  },
  {
   "cell_type": "code",
   "execution_count": 10,
   "metadata": {
    "collapsed": false
   },
   "outputs": [],
   "source": [
    "given_up_new_colunteers = {\"Bo Ki Wong\":\"Jacques Oelofse\"}\n",
    "pick, students_presentations, next_week_volunteer = adjust_given_up_student(students=students_presentations, \n",
    "                                                                            pick=pick, \n",
    "                                                                            given_up_new_colunteers = given_up_new_colunteers)"
   ]
  },
  {
   "cell_type": "code",
   "execution_count": 11,
   "metadata": {
    "collapsed": false
   },
   "outputs": [
    {
     "data": {
      "text/plain": [
       "0    Jacques Oelofse\n",
       "1    Howard Ilderton\n",
       "2          Jamie Lee\n",
       "3          Alice Lam\n",
       "4         Bryant Lee\n",
       "5     Siddarth Anand\n",
       "dtype: object"
      ]
     },
     "execution_count": 11,
     "metadata": {},
     "output_type": "execute_result"
    }
   ],
   "source": [
    "pd.Series(pick)"
   ]
  },
  {
   "cell_type": "code",
   "execution_count": 12,
   "metadata": {
    "collapsed": false
   },
   "outputs": [
    {
     "data": {
      "text/html": [
       "<div>\n",
       "<table border=\"1\" class=\"dataframe\">\n",
       "  <thead>\n",
       "    <tr style=\"text-align: right;\">\n",
       "      <th></th>\n",
       "      <th>Presentations</th>\n",
       "    </tr>\n",
       "  </thead>\n",
       "  <tbody>\n",
       "    <tr>\n",
       "      <th>Alice Lam</th>\n",
       "      <td>1.0</td>\n",
       "    </tr>\n",
       "    <tr>\n",
       "      <th>Terry Chan</th>\n",
       "      <td>0.0</td>\n",
       "    </tr>\n",
       "    <tr>\n",
       "      <th>Bryant Lee</th>\n",
       "      <td>1.0</td>\n",
       "    </tr>\n",
       "    <tr>\n",
       "      <th>Bo Ki Wong</th>\n",
       "      <td>0.0</td>\n",
       "    </tr>\n",
       "    <tr>\n",
       "      <th>Anthony Ng</th>\n",
       "      <td>0.0</td>\n",
       "    </tr>\n",
       "    <tr>\n",
       "      <th>Siddarth Anand</th>\n",
       "      <td>1.0</td>\n",
       "    </tr>\n",
       "    <tr>\n",
       "      <th>Jamie Lee</th>\n",
       "      <td>1.0</td>\n",
       "    </tr>\n",
       "    <tr>\n",
       "      <th>Jacques Oelofse</th>\n",
       "      <td>1.0</td>\n",
       "    </tr>\n",
       "    <tr>\n",
       "      <th>Howard Ilderton</th>\n",
       "      <td>1.0</td>\n",
       "    </tr>\n",
       "    <tr>\n",
       "      <th>Jacky Yeung</th>\n",
       "      <td>0.0</td>\n",
       "    </tr>\n",
       "  </tbody>\n",
       "</table>\n",
       "</div>"
      ],
      "text/plain": [
       "                 Presentations\n",
       "Alice Lam                  1.0\n",
       "Terry Chan                 0.0\n",
       "Bryant Lee                 1.0\n",
       "Bo Ki Wong                 0.0\n",
       "Anthony Ng                 0.0\n",
       "Siddarth Anand             1.0\n",
       "Jamie Lee                  1.0\n",
       "Jacques Oelofse            1.0\n",
       "Howard Ilderton            1.0\n",
       "Jacky Yeung                0.0"
      ]
     },
     "execution_count": 12,
     "metadata": {},
     "output_type": "execute_result"
    }
   ],
   "source": [
    "pd.DataFrame(students_presentations.values(), index=students_presentations.keys(), columns=['Presentations'])"
   ]
  },
  {
   "cell_type": "markdown",
   "metadata": {},
   "source": [
    "### How do the presentation count looks right now?"
   ]
  },
  {
   "cell_type": "code",
   "execution_count": 13,
   "metadata": {
    "collapsed": false
   },
   "outputs": [
    {
     "data": {
      "text/html": [
       "<div>\n",
       "<table border=\"1\" class=\"dataframe\">\n",
       "  <thead>\n",
       "    <tr style=\"text-align: right;\">\n",
       "      <th></th>\n",
       "      <th>Presentations</th>\n",
       "    </tr>\n",
       "  </thead>\n",
       "  <tbody>\n",
       "    <tr>\n",
       "      <th>Alice Lam</th>\n",
       "      <td>1.0</td>\n",
       "    </tr>\n",
       "    <tr>\n",
       "      <th>Terry Chan</th>\n",
       "      <td>0.0</td>\n",
       "    </tr>\n",
       "    <tr>\n",
       "      <th>Alex Rebull</th>\n",
       "      <td>0.0</td>\n",
       "    </tr>\n",
       "    <tr>\n",
       "      <th>Bryant Lee</th>\n",
       "      <td>1.0</td>\n",
       "    </tr>\n",
       "    <tr>\n",
       "      <th>Bo Ki Wong</th>\n",
       "      <td>0.0</td>\n",
       "    </tr>\n",
       "    <tr>\n",
       "      <th>Anthony Ng</th>\n",
       "      <td>0.0</td>\n",
       "    </tr>\n",
       "    <tr>\n",
       "      <th>Siddarth Anand</th>\n",
       "      <td>1.0</td>\n",
       "    </tr>\n",
       "    <tr>\n",
       "      <th>Jamie Lee</th>\n",
       "      <td>1.0</td>\n",
       "    </tr>\n",
       "    <tr>\n",
       "      <th>Jacques Oelofse</th>\n",
       "      <td>1.0</td>\n",
       "    </tr>\n",
       "    <tr>\n",
       "      <th>Howard Ilderton</th>\n",
       "      <td>1.0</td>\n",
       "    </tr>\n",
       "    <tr>\n",
       "      <th>Jacky Yeung</th>\n",
       "      <td>0.0</td>\n",
       "    </tr>\n",
       "  </tbody>\n",
       "</table>\n",
       "</div>"
      ],
      "text/plain": [
       "                 Presentations\n",
       "Alice Lam                  1.0\n",
       "Terry Chan                 0.0\n",
       "Alex Rebull                0.0\n",
       "Bryant Lee                 1.0\n",
       "Bo Ki Wong                 0.0\n",
       "Anthony Ng                 0.0\n",
       "Siddarth Anand             1.0\n",
       "Jamie Lee                  1.0\n",
       "Jacques Oelofse            1.0\n",
       "Howard Ilderton            1.0\n",
       "Jacky Yeung                0.0"
      ]
     },
     "execution_count": 13,
     "metadata": {},
     "output_type": "execute_result"
    }
   ],
   "source": [
    "# Adding Alex back (before we had absent students)\n",
    "students_presentations[\"Alex Rebull\"] = 0.0\n",
    "pd.DataFrame(students_presentations.values(), index=students_presentations.keys(), columns=['Presentations'])"
   ]
  },
  {
   "cell_type": "markdown",
   "metadata": {},
   "source": [
    "# Project 4 pick\n",
    "\n",
    "Let's first set a seed"
   ]
  },
  {
   "cell_type": "code",
   "execution_count": 14,
   "metadata": {
    "collapsed": false
   },
   "outputs": [],
   "source": [
    "# seed = 1\n",
    "# np.random.seed(seed)\n",
    "\n",
    "volunteers = list(next_week_volunteer)"
   ]
  },
  {
   "cell_type": "code",
   "execution_count": 15,
   "metadata": {
    "collapsed": false
   },
   "outputs": [],
   "source": [
    "# pd.DataFrame(students_presentations.values(), index=students_presentations.keys(), columns=['Presentations'])"
   ]
  },
  {
   "cell_type": "code",
   "execution_count": 16,
   "metadata": {
    "collapsed": false
   },
   "outputs": [],
   "source": [
    "# pick, students_presentations = draw_students(how_many=6, \n",
    "#                                              students=students_presentations, \n",
    "#                                              volunteers=volunteers)"
   ]
  },
  {
   "cell_type": "code",
   "execution_count": 17,
   "metadata": {
    "collapsed": false
   },
   "outputs": [],
   "source": [
    "# pd.Series(pick)"
   ]
  },
  {
   "cell_type": "code",
   "execution_count": 18,
   "metadata": {
    "collapsed": false
   },
   "outputs": [],
   "source": [
    "# pd.DataFrame(students_presentations.values(), index=students_presentations.keys(), columns=['Presentations'])"
   ]
  },
  {
   "cell_type": "code",
   "execution_count": null,
   "metadata": {
    "collapsed": true
   },
   "outputs": [],
   "source": []
  }
 ],
 "metadata": {
  "kernelspec": {
   "display_name": "Python 2",
   "language": "python",
   "name": "python2"
  },
  "language_info": {
   "codemirror_mode": {
    "name": "ipython",
    "version": 2
   },
   "file_extension": ".py",
   "mimetype": "text/x-python",
   "name": "python",
   "nbconvert_exporter": "python",
   "pygments_lexer": "ipython2",
   "version": "2.7.12"
  }
 },
 "nbformat": 4,
 "nbformat_minor": 0
}

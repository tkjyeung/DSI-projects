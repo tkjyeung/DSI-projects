{
 "cells": [
  {
   "cell_type": "code",
   "execution_count": 1,
   "metadata": {
    "collapsed": true
   },
   "outputs": [],
   "source": [
    "import pandas as pd\n",
    "import numpy as np\n",
    "from sklearn import linear_model\n",
    "from sklearn import metrics\n",
    "import string"
   ]
  },
  {
   "cell_type": "code",
   "execution_count": 2,
   "metadata": {
    "collapsed": true
   },
   "outputs": [],
   "source": [
    "true_coef = [1, 2, -3, 4, 50]\n",
    "def true(x):    \n",
    "    return np.dot(true_coef, x) "
   ]
  },
  {
   "cell_type": "code",
   "execution_count": 3,
   "metadata": {
    "collapsed": false
   },
   "outputs": [],
   "source": [
    "N = 100\n",
    "X = pd.DataFrame([np.random.uniform(-1,1, len(true_coef)) for _ in range(N)], columns=list(string.lowercase[:len(true_coef)]))\n",
    "y = true(X.T) + np.random.normal(0, 100)"
   ]
  },
  {
   "cell_type": "code",
   "execution_count": 4,
   "metadata": {
    "collapsed": false
   },
   "outputs": [
    {
     "name": "stdout",
     "output_type": "stream",
     "text": [
      "[  1.   2.  -3.   4.  50.]\n",
      "6.04330562272e-28\n"
     ]
    }
   ],
   "source": [
    "lm = linear_model.LinearRegression()\n",
    "lm.fit(X, y)\n",
    "print lm.coef_\n",
    "y_pred = lm.predict(X)\n",
    "print metrics.mean_squared_error(y, y_pred)"
   ]
  },
  {
   "cell_type": "code",
   "execution_count": 5,
   "metadata": {
    "collapsed": false
   },
   "outputs": [
    {
     "data": {
      "text/html": [
       "<div>\n",
       "<table border=\"1\" class=\"dataframe\">\n",
       "  <thead>\n",
       "    <tr style=\"text-align: right;\">\n",
       "      <th></th>\n",
       "      <th>a</th>\n",
       "      <th>b</th>\n",
       "      <th>c</th>\n",
       "      <th>d</th>\n",
       "      <th>e</th>\n",
       "    </tr>\n",
       "  </thead>\n",
       "  <tbody>\n",
       "    <tr>\n",
       "      <th>a</th>\n",
       "      <td>1.000000</td>\n",
       "      <td>-0.126811</td>\n",
       "      <td>-0.032686</td>\n",
       "      <td>-0.048629</td>\n",
       "      <td>-0.126811</td>\n",
       "    </tr>\n",
       "    <tr>\n",
       "      <th>b</th>\n",
       "      <td>-0.126811</td>\n",
       "      <td>1.000000</td>\n",
       "      <td>-0.027135</td>\n",
       "      <td>0.050752</td>\n",
       "      <td>1.000000</td>\n",
       "    </tr>\n",
       "    <tr>\n",
       "      <th>c</th>\n",
       "      <td>-0.032686</td>\n",
       "      <td>-0.027135</td>\n",
       "      <td>1.000000</td>\n",
       "      <td>0.033842</td>\n",
       "      <td>-0.027135</td>\n",
       "    </tr>\n",
       "    <tr>\n",
       "      <th>d</th>\n",
       "      <td>-0.048629</td>\n",
       "      <td>0.050752</td>\n",
       "      <td>0.033842</td>\n",
       "      <td>1.000000</td>\n",
       "      <td>0.050752</td>\n",
       "    </tr>\n",
       "    <tr>\n",
       "      <th>e</th>\n",
       "      <td>-0.126811</td>\n",
       "      <td>1.000000</td>\n",
       "      <td>-0.027135</td>\n",
       "      <td>0.050752</td>\n",
       "      <td>1.000000</td>\n",
       "    </tr>\n",
       "  </tbody>\n",
       "</table>\n",
       "</div>"
      ],
      "text/plain": [
       "          a         b         c         d         e\n",
       "a  1.000000 -0.126811 -0.032686 -0.048629 -0.126811\n",
       "b -0.126811  1.000000 -0.027135  0.050752  1.000000\n",
       "c -0.032686 -0.027135  1.000000  0.033842 -0.027135\n",
       "d -0.048629  0.050752  0.033842  1.000000  0.050752\n",
       "e -0.126811  1.000000 -0.027135  0.050752  1.000000"
      ]
     },
     "execution_count": 5,
     "metadata": {},
     "output_type": "execute_result"
    }
   ],
   "source": [
    "# change column e to be correlated with column b\n",
    "X.e = X.b + np.random.normal(0, 1000)\n",
    "\n",
    "# recompute y\n",
    "y = true(X.T) + np.random.normal(0, 100)\n",
    "\n",
    "# check correlation\n",
    "X.corr()"
   ]
  },
  {
   "cell_type": "code",
   "execution_count": 11,
   "metadata": {
    "collapsed": false
   },
   "outputs": [
    {
     "name": "stdout",
     "output_type": "stream",
     "text": [
      "[  1.           9.60207744  -3.           4.          42.39792256]\n",
      "9.52912065661e-24\n"
     ]
    }
   ],
   "source": [
    "# fit a linear regression model and check coefficients \n",
    "lm = linear_model.LinearRegression()\n",
    "lm.fit(X,y)\n",
    "print lm.coef_\n",
    "y_pred = lm.predict(X)\n",
    "print metrics.mean_squared_error(y, y_pred)"
   ]
  },
  {
   "cell_type": "code",
   "execution_count": 13,
   "metadata": {
    "collapsed": false
   },
   "outputs": [
    {
     "name": "stdout",
     "output_type": "stream",
     "text": [
      "[  0.86815199  25.63348286  -2.92093523   3.91155888  25.63348286]\n",
      "0.194815714899\n"
     ]
    }
   ],
   "source": [
    "# fit a ridge regression model and check coefficients\n",
    "rlm = linear_model.Ridge(alpha=1.0)\n",
    "\n",
    "rlm.fit(X,y)\n",
    "print rlm.coef_\n",
    "y_pred = rlm.predict(X)\n",
    "print metrics.mean_squared_error(y, y_pred)"
   ]
  },
  {
   "cell_type": "code",
   "execution_count": 14,
   "metadata": {
    "collapsed": false
   },
   "outputs": [
    {
     "name": "stdout",
     "output_type": "stream",
     "text": [
      "[  0.          49.28048494  -0.           0.97649101   0.        ]\n",
      "8.4845059307\n"
     ]
    }
   ],
   "source": [
    "# fit a lasso regression model and check coefficients\n",
    "lm = linear_model.Lasso(alpha=1.0)\n",
    "\n",
    "lm.fit(X,y)\n",
    "print lm.coef_\n",
    "y_pred = lm.predict(X)\n",
    "print metrics.mean_squared_error(y, y_pred)"
   ]
  },
  {
   "cell_type": "code",
   "execution_count": 9,
   "metadata": {
    "collapsed": false
   },
   "outputs": [],
   "source": [
    "# fit a elastic net regression model and check coefficients"
   ]
  },
  {
   "cell_type": "code",
   "execution_count": 16,
   "metadata": {
    "collapsed": false
   },
   "outputs": [
    {
     "name": "stdout",
     "output_type": "stream",
     "text": [
      "[ -0.17516248  14.84019202  -0.67786738   1.40565755  14.83997911]\n",
      "181.150931129\n"
     ]
    }
   ],
   "source": [
    "lm = linear_model.ElasticNet(alpha=1.0, l1_ratio = 0.5)\n",
    "\n",
    "lm.fit(X,y)\n",
    "print lm.coef_\n",
    "y_pred = lm.predict(X)\n",
    "print metrics.mean_squared_error(y, y_pred)"
   ]
  },
  {
   "cell_type": "code",
   "execution_count": null,
   "metadata": {
    "collapsed": true
   },
   "outputs": [],
   "source": []
  }
 ],
 "metadata": {
  "kernelspec": {
   "display_name": "Python 2",
   "language": "python",
   "name": "python2"
  },
  "language_info": {
   "codemirror_mode": {
    "name": "ipython",
    "version": 2
   },
   "file_extension": ".py",
   "mimetype": "text/x-python",
   "name": "python",
   "nbconvert_exporter": "python",
   "pygments_lexer": "ipython2",
   "version": "2.7.11"
  }
 },
 "nbformat": 4,
 "nbformat_minor": 0
}

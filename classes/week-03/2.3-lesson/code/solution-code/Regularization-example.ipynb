{
 "cells": [
  {
   "cell_type": "code",
   "execution_count": 11,
   "metadata": {
    "collapsed": true
   },
   "outputs": [],
   "source": [
    "import pandas as pd\n",
    "import numpy as np\n",
    "from sklearn import linear_model\n",
    "from sklearn import metrics\n",
    "import string"
   ]
  },
  {
   "cell_type": "code",
   "execution_count": 12,
   "metadata": {
    "collapsed": true
   },
   "outputs": [],
   "source": [
    "true_coef = [1, 2, -3, 4, 50]\n",
    "def true(x):    \n",
    "    return np.dot(true_coef, x) "
   ]
  },
  {
   "cell_type": "code",
   "execution_count": 13,
   "metadata": {
    "collapsed": false
   },
   "outputs": [],
   "source": [
    "N = 100\n",
    "X = pd.DataFrame([np.random.uniform(-1,1, len(true_coef)) for _ in range(N)], columns=list(string.lowercase[:len(true_coef)]))\n",
    "y = true(X.T) + np.random.normal(0, 100)\n"
   ]
  },
  {
   "cell_type": "code",
   "execution_count": 14,
   "metadata": {
    "collapsed": false
   },
   "outputs": [
    {
     "name": "stdout",
     "output_type": "stream",
     "text": [
      "[  1.   2.  -3.   4.  50.]\n",
      "4.64986171973e-28\n"
     ]
    }
   ],
   "source": [
    "lm = linear_model.LinearRegression()\n",
    "lm.fit(X, y)\n",
    "print lm.coef_\n",
    "# print \"R^2\", lm.score(X, y)\n",
    "y_pred = lm.predict(X)\n",
    "print metrics.mean_squared_error(y, y_pred)"
   ]
  },
  {
   "cell_type": "code",
   "execution_count": 15,
   "metadata": {
    "collapsed": false
   },
   "outputs": [],
   "source": [
    "X.e = X.b + np.random.normal(0, 100)\n",
    "y = true(X.T) + np.random.normal(0, 100)"
   ]
  },
  {
   "cell_type": "code",
   "execution_count": 16,
   "metadata": {
    "collapsed": false
   },
   "outputs": [
    {
     "name": "stdout",
     "output_type": "stream",
     "text": [
      "[  1.          83.79016092  -3.           4.         -31.79016092]\n",
      "3.29579775314e-26\n"
     ]
    }
   ],
   "source": [
    "lm = linear_model.LinearRegression()\n",
    "lm.fit(X, y)\n",
    "print lm.coef_\n",
    "# print \"R^2\", lm.score(X, y)\n",
    "y_pred = lm.predict(X)\n",
    "print metrics.mean_squared_error(y, y_pred)"
   ]
  },
  {
   "cell_type": "code",
   "execution_count": 17,
   "metadata": {
    "collapsed": false
   },
   "outputs": [
    {
     "name": "stdout",
     "output_type": "stream",
     "text": [
      "[  0.97373259  25.86229159  -2.98715707   3.96046697  25.86229159]\n",
      "0.0220302616949\n"
     ]
    }
   ],
   "source": [
    "lm = linear_model.Ridge(alpha=0.3)\n",
    "lm.fit(X, y)\n",
    "print lm.coef_\n",
    "# print \"R^2\", lm.score(X, y)\n",
    "y_pred = lm.predict(X)\n",
    "print metrics.mean_squared_error(y, y_pred)"
   ]
  },
  {
   "cell_type": "code",
   "execution_count": 20,
   "metadata": {
    "collapsed": false
   },
   "outputs": [
    {
     "name": "stdout",
     "output_type": "stream",
     "text": [
      "[  0.          50.58862175  -1.88776945   2.59269572   0.        ]\n",
      "1.87681467246\n"
     ]
    }
   ],
   "source": [
    "lm = linear_model.Lasso(alpha=0.4)\n",
    "lm.fit(X, y)\n",
    "print lm.coef_\n",
    "# print \"R^2\", lm.score(X, y)\n",
    "y_pred = lm.predict(X)\n",
    "print metrics.mean_squared_error(y, y_pred)"
   ]
  },
  {
   "cell_type": "code",
   "execution_count": 19,
   "metadata": {
    "collapsed": false
   },
   "outputs": [
    {
     "name": "stdout",
     "output_type": "stream",
     "text": [
      "[  0.13976379  21.9356334   -2.41193537   2.73535287  21.93243228]\n",
      "19.4195629434\n"
     ]
    }
   ],
   "source": [
    "lm = linear_model.ElasticNet(alpha=0.2, l1_ratio=0.5)\n",
    "lm.fit(X, y)\n",
    "print lm.coef_\n",
    "# print \"R^2\", lm.score(X, y)\n",
    "y_pred = lm.predict(X)\n",
    "print metrics.mean_squared_error(y, y_pred)"
   ]
  },
  {
   "cell_type": "code",
   "execution_count": null,
   "metadata": {
    "collapsed": true
   },
   "outputs": [],
   "source": []
  }
 ],
 "metadata": {
  "kernelspec": {
   "display_name": "Python 2",
   "language": "python",
   "name": "python2"
  },
  "language_info": {
   "codemirror_mode": {
    "name": "ipython",
    "version": 2
   },
   "file_extension": ".py",
   "mimetype": "text/x-python",
   "name": "python",
   "nbconvert_exporter": "python",
   "pygments_lexer": "ipython2",
   "version": "2.7.11"
  }
 },
 "nbformat": 4,
 "nbformat_minor": 0
}

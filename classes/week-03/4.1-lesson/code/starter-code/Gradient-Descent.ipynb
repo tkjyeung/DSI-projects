{
 "cells": [
  {
   "cell_type": "markdown",
   "metadata": {},
   "source": [
    "# Gradients\n",
    "\n",
    "The [gradient of a function](https://en.wikipedia.org/wiki/Gradient) is a multivariate derivate with a crucial property -- the gradient points in the direction of the greatest rate of increase of the function. Many physical processes can be modeled by gradient and gradient flows, such as the flow of water down a mountain and the movement of charged particles in electromagnetic potentials.\n",
    "\n",
    "As data scientists we use gradient descent to maximize or minimize various functions. For example, to find a good model fit we could attempt to minimize a loss function by following the gradient through many iterations in parameter-space. In particular, gradient descent can be used for [linear regression](https://en.wikipedia.org/wiki/Gradient_descent#Solution_of_a_linear_system). Let's take a close look.\n",
    "\n",
    "If we want to minimize a multivariate function $f(\\mathbf{a})$ -- typically a function of our parameters $\\mathbf{a} = (a_1, \\ldots, a_n)$ computed on our dataset -- we start with a guess $\\mathbf{a}_1$ and compute the next step using the gradient, denoted by $\\nabla f$:\n",
    "\n",
    "$$ \\mathbf{a}_2 = \\mathbf{a}_1 - \\lambda \\nabla f(\\mathbf{a}_1)$$\n",
    "\n",
    "Note the differences in notation carefully -- bold face indicates a vector of parameters. The variable $\\lambda$ is a parameter that controls the step size and is sometimes called the _learning rate_. Essentially we are taking a local linear approximation to our function, stepping a small bit in the direction of greatest change, and computing a new linear approximation to the function. We repeat the process until we converge to a minimum:\n",
    "\n",
    "$$ \\mathbf{a}_{n+1} = \\mathbf{a}_n - \\lambda \\nabla f(\\mathbf{a}_n)$$\n",
    "\n",
    "This is the _gradient descent_ algorithm. It is used for a variety of machine learning models including some that you will learn about soon, such as logistic regression, support vector machines, and neural networks.\n",
    "\n",
    "![](https://upload.wikimedia.org/wikipedia/commons/7/79/Gradient_descent.png)\n"
   ]
  },
  {
   "cell_type": "code",
   "execution_count": 1,
   "metadata": {
    "collapsed": true
   },
   "outputs": [],
   "source": [
    "% matplotlib inline\n",
    "import random\n",
    "\n",
    "from matplotlib import pyplot as plt\n",
    "import numpy as np\n",
    "import pandas as pd\n",
    "from scipy import stats\n",
    "from sklearn import datasets, linear_model\n",
    "import math\n",
    "# import seaborn as ss"
   ]
  },
  {
   "cell_type": "markdown",
   "metadata": {},
   "source": [
    "## Some helper functions\n",
    "The following functions will generate data and polynomial values."
   ]
  },
  {
   "cell_type": "code",
   "execution_count": 2,
   "metadata": {
    "collapsed": true
   },
   "outputs": [],
   "source": [
    "def func_x(x):\n",
    "    return x**2\n",
    "\n",
    "def gradient_x(x):\n",
    "    return 2*x\n",
    "\n",
    "def gradient_descent_x(gradient, x, alpha=0.1, max_steps=1000):    \n",
    "    path_gradient = []\n",
    "    \n",
    "    for step in range(max_steps):\n",
    "        \n",
    "        g = gradient(x)\n",
    "        path_gradient.append((x,g))\n",
    "        \n",
    "        x -= alpha*g\n",
    "        \n",
    "        \n",
    "        if abs(alpha*g) < 0.001:\n",
    "            break\n",
    "\n",
    "    return path_gradient"
   ]
  },
  {
   "cell_type": "code",
   "execution_count": 3,
   "metadata": {
    "collapsed": false
   },
   "outputs": [
    {
     "data": {
      "text/plain": [
       "<matplotlib.collections.PathCollection at 0x7f32ff2618d0>"
      ]
     },
     "execution_count": 3,
     "metadata": {},
     "output_type": "execute_result"
    },
    {
     "data": {
      "image/png": "[encoded data removed]",
      "text/plain": [
       "<matplotlib.figure.Figure at 0x7f32ff261910>"
      ]
     },
     "metadata": {},
     "output_type": "display_data"
    }
   ],
   "source": [
    "xs = np.arange(-2, 2, 0.1)\n",
    "ys = map(func_x, xs)\n",
    "\n",
    "plt.plot(xs, ys)\n",
    "\n",
    "# Start gradient descent at x = -1.5\n",
    "path_gradient = gradient_descent_x(gradient_x, x=-1.5, alpha=0.1, max_steps=1000)\n",
    "x_path, g_path = zip(*path_gradient)\n",
    "y_path = map(func_x, x_path)\n",
    "plt.scatter(x_path, y_path, c='r', s=50)"
   ]
  },
  {
   "cell_type": "markdown",
   "metadata": {
    "collapsed": true
   },
   "source": [
    "## Independent Practice\n",
    "\n",
    "Here is a [nice example](http://math.stackexchange.com/questions/770622/gradient-descent-algorithm-always-converges-to-the-closest-local-optima) of when gradient descent fails. Let's implement these functions and see that gradient descent gets stuck.\n",
    "\n",
    "The function is:\n",
    "$$f(x, y) = \\begin{cases}\n",
    "2 x^2 & \\quad \\text{if $x \\leq 1$}\\\\\n",
    "2  & \\quad \\text{else}\n",
    "\\end{cases}$$\n",
    "\n",
    "Walk throught the following code samples."
   ]
  },
  {
   "cell_type": "code",
   "execution_count": 4,
   "metadata": {
    "collapsed": false
   },
   "outputs": [],
   "source": [
    "def func_x(x):\n",
    "    if x <= 1:\n",
    "        return 2 * x ** 2\n",
    "    return 2\n",
    "\n",
    "def gradient_x(x):\n",
    "    if x <= 1:\n",
    "        return 4 * x\n",
    "    return 0\n",
    "\n",
    "def gradient_descent_x(gradient, x, alpha=0.1, max_steps=1000):    \n",
    "    path_gradient = []\n",
    "    \n",
    "    for step in range(max_steps):\n",
    "        \n",
    "        g = gradient(x)\n",
    "        path_gradient.append((x,g))\n",
    "        \n",
    "        x -= alpha*g\n",
    "        \n",
    "        if abs(alpha*g) < 0.00001:\n",
    "            break\n",
    "\n",
    "    return path_gradient"
   ]
  },
  {
   "cell_type": "code",
   "execution_count": 5,
   "metadata": {
    "collapsed": false,
    "scrolled": false
   },
   "outputs": [
    {
     "data": {
      "text/plain": [
       "<matplotlib.collections.PathCollection at 0x114b0e510>"
      ]
     },
     "execution_count": 5,
     "metadata": {},
     "output_type": "execute_result"
    },
    {
     "data": {
      "image/png": "[encoded data removed]",
      "text/plain": [
       "<matplotlib.figure.Figure at 0x1148ba2d0>"
      ]
     },
     "metadata": {},
     "output_type": "display_data"
    }
   ],
   "source": [
    "xs = np.arange(-2, 3, 0.1)\n",
    "ys = map(func_x, xs)\n",
    "\n",
    "plt.plot(xs, ys)\n",
    "\n",
    "# Start gradient descent at x = -1.5\n",
    "path_gradient = gradient_descent_x(gradient_x, alpha=0.01, x=-1.5)\n",
    "x_path, g_path = zip(*path_gradient)\n",
    "y_path = map(func_x, x_path)\n",
    "plt.scatter(x_path, y_path, c='r', s=50)\n",
    "\n",
    "# # Start gradient descent at x = 2.0\n",
    "path_gradient = gradient_descent_x(gradient_x, alpha=0.01, x=2.0)\n",
    "x_path, g_path = zip(*path_gradient)\n",
    "y_path = map(func_x, x_path)\n",
    "plt.scatter(x_path, y_path, c='r', s=100)"
   ]
  },
  {
   "cell_type": "markdown",
   "metadata": {},
   "source": [
    "Gradient descent works on the left half of the function but not on the right portion because the derivative is flat. Our starting point of $x=2$ never moves and doesn't converge to the center."
   ]
  },
  {
   "cell_type": "markdown",
   "metadata": {},
   "source": [
    "### Exercise\n",
    "\n",
    "Similarly, use the function $f(x) = x^4 - 2 x^2 + x +1$ and apply gradient descent. If you need help with the derivative, you can use [Wolfram Alpha](http://www.wolframalpha.com/calculators/derivative-calculator/).\n",
    "\n",
    "Steps:\n",
    "* Plot the function and identify the two minima\n",
    "* Compute the derivative\n",
    "* Using gradient descent, find two starting points that converge to different minima. You may need to alter the learning rate.\n",
    "\n",
    "Questions:\n",
    "* What does this tell you about the end result of gradient descent?\n",
    "* What are the implications for putting gradient descent into practice?\n",
    "\n",
    "> The learning rate and starting point affects the end popint. We can't be sure that gradient descent converges to a global minimum."
   ]
  },
  {
   "cell_type": "code",
   "execution_count": 6,
   "metadata": {
    "collapsed": false
   },
   "outputs": [],
   "source": [
    "# Solution\n",
    "\n",
    "def func_x(x):\n",
    "    return x**4 - 2*x**2 + x + 1\n",
    "\n",
    "def gradient_x(x):\n",
    "    return 4 * x**3 - 4*x + 1\n",
    "\n",
    "def gradient_descent_x(gradient, x, alpha=0.1, max_steps=1000):    \n",
    "    path_gradient = []\n",
    "    \n",
    "    for step in range(max_steps):\n",
    "        \n",
    "        g = gradient(x)\n",
    "        path_gradient.append((x,g))\n",
    "        \n",
    "        x -= alpha*g\n",
    "        \n",
    "        if abs(alpha*g) < 0.00001:\n",
    "            break\n",
    "\n",
    "    return path_gradient"
   ]
  },
  {
   "cell_type": "code",
   "execution_count": 7,
   "metadata": {
    "collapsed": false
   },
   "outputs": [
    {
     "data": {
      "text/plain": [
       "<matplotlib.collections.PathCollection at 0x114bcce10>"
      ]
     },
     "execution_count": 7,
     "metadata": {},
     "output_type": "execute_result"
    },
    {
     "data": {
      "image/png": "[encoded data removed]",
      "text/plain": [
       "<matplotlib.figure.Figure at 0x114a09190>"
      ]
     },
     "metadata": {},
     "output_type": "display_data"
    }
   ],
   "source": [
    "xs = np.arange(-2, 2, 0.1)\n",
    "ys = map(func_x, xs)\n",
    "\n",
    "plt.plot(xs, ys)\n",
    "\n",
    "# Start gradient descent at x = -1.5\n",
    "path_gradient = gradient_descent_x(gradient_x, x=-1.5, alpha=0.1, max_steps=1000)\n",
    "x_path, g_path = zip(*path_gradient)\n",
    "y_path = map(func_x, x_path)\n",
    "plt.scatter(x_path, y_path, c='r', s=50)\n",
    "\n",
    "# Start gradient descent at x = 2\n",
    "path_gradient = gradient_descent_x(gradient_x, x=1.6, alpha=0.1, max_steps=1000)\n",
    "x_path, g_path = zip(*path_gradient)\n",
    "y_path = map(func_x, x_path)\n",
    "plt.scatter(x_path, y_path, c='r', s=50)"
   ]
  },
  {
   "cell_type": "markdown",
   "metadata": {
    "collapsed": true
   },
   "source": [
    "### Bonus Exercise\n",
    "\n",
    "Use gradient descent to find the minimum of the function\n",
    "$$f(x, y) = - e^{-x^2 - 4y^2}$$\n",
    "\n",
    "Answer: $(x, y) = (0, 0)$."
   ]
  },
  {
   "cell_type": "code",
   "execution_count": 8,
   "metadata": {
    "collapsed": false
   },
   "outputs": [],
   "source": [
    "# Solution\n",
    "\n",
    "def func_xy(x):\n",
    "    return - math.exp(-x**2-4*y**2)\n",
    "\n",
    "def gradient_xy_x(x, y):\n",
    "    return 2*x * np.exp(-x**2-4*y**2)\n",
    "def gradient_xy_y(x, y):\n",
    "    return 8*y * np.exp(-x**2-4*y**2)\n",
    "\n",
    "def gradient_descent_xy_xy(gradient_xy_x, gradient_xy_y, x, y, alpha=0.1, max_steps=1000):    \n",
    "    path_gradient = []\n",
    "    \n",
    "    for step in range(max_steps):\n",
    "        \n",
    "        gx = gradient_xy_x(x, y)\n",
    "        gy = gradient_xy_y(x, y)        \n",
    "\n",
    "        path_gradient.append((x,y,gx,gy))\n",
    "        \n",
    "        x -= alpha*gx\n",
    "        y -= alpha*gy\n",
    "        \n",
    "        if abs(alpha*gx) < 0.001 and abs(alpha*gy) < 0.000001:\n",
    "            break\n",
    "\n",
    "    return path_gradient\n"
   ]
  },
  {
   "cell_type": "code",
   "execution_count": 9,
   "metadata": {
    "collapsed": false,
    "scrolled": false
   },
   "outputs": [
    {
     "data": {
      "image/png": "[encoded data removed]",
      "text/plain": [
       "<matplotlib.figure.Figure at 0x113fd2c90>"
      ]
     },
     "metadata": {},
     "output_type": "display_data"
    }
   ],
   "source": [
    "delta = 0.01\n",
    "x = y = np.arange(-2.0, 2.0, delta)\n",
    "X, Y = np.meshgrid(x, y)\n",
    "Z = gradient_xy_x(X, Y)\n",
    "CS = plt.contourf(X, Y, Z)\n",
    "\n",
    "xs, ys = -1, 1.5\n",
    "\n",
    "path_gradient = gradient_descent_xy_xy(gradient_xy_x, gradient_xy_y, xs, ys, alpha=0.1, max_steps=100000000)\n",
    "\n",
    "x_path, y_path, gx_path, gy_path = zip(*path_gradient)\n",
    "\n",
    "plt.scatter(x_path, y_path, color=\"black\")\n",
    "plt.plot(x_path, y_path, color=\"black\")\n",
    "plt.show()"
   ]
  },
  {
   "cell_type": "code",
   "execution_count": null,
   "metadata": {
    "collapsed": true
   },
   "outputs": [],
   "source": []
  }
 ],
 "metadata": {
  "kernelspec": {
   "display_name": "Python 2",
   "language": "python",
   "name": "python2"
  },
  "language_info": {
   "codemirror_mode": {
    "name": "ipython",
    "version": 2
   },
   "file_extension": ".py",
   "mimetype": "text/x-python",
   "name": "python",
   "nbconvert_exporter": "python",
   "pygments_lexer": "ipython2",
   "version": "2.7.11"
  }
 },
 "nbformat": 4,
 "nbformat_minor": 0
}

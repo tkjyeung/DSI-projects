{
 "cells": [
  {
   "cell_type": "markdown",
   "metadata": {},
   "source": [
    "# Linear Regression with Statsmodels and Scikit-Learn"
   ]
  },
  {
   "cell_type": "markdown",
   "metadata": {},
   "source": [
    "Let's investigate the housing dataset with linear regression. We'll use two different packages and you can see examples for linear regression of each:\n",
    "* statsmodels -- [linear regression](http://statsmodels.sourceforge.net/devel/examples/#regression)\n",
    "* scikit-learn -- [linear regression](http://scikit-learn.org/stable/modules/generated/sklearn.linear_model.LinearRegression.html)"
   ]
  },
  {
   "cell_type": "markdown",
   "metadata": {},
   "source": [
    "## Intro to Scikit-Learn\n",
    "\n",
    "Scikit-learn is a machine learning package for python that includes a huge array of models including linear regression. Scikit-learn includes a number of sample data sets including the Boston housing data set. (We could also load the data with pandas as in the last lesson.)"
   ]
  },
  {
   "cell_type": "code",
   "execution_count": 1,
   "metadata": {
    "collapsed": false
   },
   "outputs": [
    {
     "name": "stdout",
     "output_type": "stream",
     "text": [
      "Boston House Prices dataset\n",
      "\n",
      "Notes\n",
      "------\n",
      "Data Set Characteristics:  \n",
      "\n",
      "    :Number of Instances: 506 \n",
      "\n",
      "    :Number of Attributes: 13 numeric/categorical predictive\n",
      "    \n",
      "    :Median Value (attribute 14) is usually the target\n",
      "\n",
      "    :Attribute Information (in order):\n",
      "        - CRIM     per capita crime rate by town\n",
      "        - ZN       proportion of residential land zoned for lots over 25,000 sq.ft.\n",
      "        - INDUS    proportion of non-retail business acres per town\n",
      "        - CHAS     Charles River dummy variable (= 1 if tract bounds river; 0 otherwise)\n",
      "        - NOX      nitric oxides concentration (parts per 10 million)\n",
      "        - RM       average number of rooms per dwelling\n",
      "        - AGE      proportion of owner-occupied units built prior to 1940\n",
      "        - DIS      weighted distances to five Boston employment centres\n",
      "        - RAD      index of accessibility to radial highways\n",
      "        - TAX      full-value property-tax rate per $10,000\n",
      "        - PTRATIO  pupil-teacher ratio by town\n",
      "        - B        1000(Bk - 0.63)^2 where Bk is the proportion of blacks by town\n",
      "        - LSTAT    % lower status of the population\n",
      "        - MEDV     Median value of owner-occupied homes in $1000's\n",
      "\n",
      "    :Missing Attribute Values: None\n",
      "\n",
      "    :Creator: Harrison, D. and Rubinfeld, D.L.\n",
      "\n",
      "This is a copy of UCI ML housing dataset.\n",
      "http://archive.ics.uci.edu/ml/datasets/Housing\n",
      "\n",
      "\n",
      "This dataset was taken from the StatLib library which is maintained at Carnegie Mellon University.\n",
      "\n",
      "The Boston house-price data of Harrison, D. and Rubinfeld, D.L. 'Hedonic\n",
      "prices and the demand for clean air', J. Environ. Economics & Management,\n",
      "vol.5, 81-102, 1978.   Used in Belsley, Kuh & Welsch, 'Regression diagnostics\n",
      "...', Wiley, 1980.   N.B. Various transformations are used in the table on\n",
      "pages 244-261 of the latter.\n",
      "\n",
      "The Boston house-price data has been used in many machine learning papers that address regression\n",
      "problems.   \n",
      "     \n",
      "**References**\n",
      "\n",
      "   - Belsley, Kuh & Welsch, 'Regression diagnostics: Identifying Influential Data and Sources of Collinearity', Wiley, 1980. 244-261.\n",
      "   - Quinlan,R. (1993). Combining Instance-Based and Model-Based Learning. In Proceedings on the Tenth International Conference of Machine Learning, 236-243, University of Massachusetts, Amherst. Morgan Kaufmann.\n",
      "   - many more! (see http://archive.ics.uci.edu/ml/datasets/Housing)\n",
      "\n"
     ]
    }
   ],
   "source": [
    "%matplotlib inline\n",
    "from matplotlib import pyplot as plt\n",
    "\n",
    "from sklearn import datasets, linear_model\n",
    "from sklearn.metrics import mean_squared_error\n",
    "data = datasets.load_boston()\n",
    "\n",
    "print data.DESCR"
   ]
  },
  {
   "cell_type": "markdown",
   "metadata": {},
   "source": [
    "Let's take a minute to see what the data looks like."
   ]
  },
  {
   "cell_type": "code",
   "execution_count": 2,
   "metadata": {
    "collapsed": false
   },
   "outputs": [
    {
     "name": "stdout",
     "output_type": "stream",
     "text": [
      "['CRIM' 'ZN' 'INDUS' 'CHAS' 'NOX' 'RM' 'AGE' 'DIS' 'RAD' 'TAX' 'PTRATIO'\n",
      " 'B' 'LSTAT']\n",
      "[  6.32000000e-03   1.80000000e+01   2.31000000e+00   0.00000000e+00\n",
      "   5.38000000e-01   6.57500000e+00   6.52000000e+01   4.09000000e+00\n",
      "   1.00000000e+00   2.96000000e+02   1.53000000e+01   3.96900000e+02\n",
      "   4.98000000e+00]\n",
      "24.0\n"
     ]
    }
   ],
   "source": [
    "print data.feature_names\n",
    "print data.data[0]\n",
    "print data.target[0]"
   ]
  },
  {
   "cell_type": "markdown",
   "metadata": {},
   "source": [
    "Scikit-learn has already split off the house value data into the target variable. Let's see how to build a linear regression. First let's put the data into a data frame for convenience, and do a quick check to see that everything loaded correctly."
   ]
  },
  {
   "cell_type": "code",
   "execution_count": 3,
   "metadata": {
    "collapsed": false
   },
   "outputs": [
    {
     "name": "stdout",
     "output_type": "stream",
     "text": [
      "      CRIM    ZN  INDUS  CHAS    NOX     RM   AGE     DIS  RAD    TAX  \\\n",
      "0  0.00632  18.0   2.31   0.0  0.538  6.575  65.2  4.0900  1.0  296.0   \n",
      "1  0.02731   0.0   7.07   0.0  0.469  6.421  78.9  4.9671  2.0  242.0   \n",
      "2  0.02729   0.0   7.07   0.0  0.469  7.185  61.1  4.9671  2.0  242.0   \n",
      "3  0.03237   0.0   2.18   0.0  0.458  6.998  45.8  6.0622  3.0  222.0   \n",
      "4  0.06905   0.0   2.18   0.0  0.458  7.147  54.2  6.0622  3.0  222.0   \n",
      "\n",
      "   PTRATIO       B  LSTAT  \n",
      "0     15.3  396.90   4.98  \n",
      "1     17.8  396.90   9.14  \n",
      "2     17.8  392.83   4.03  \n",
      "3     18.7  394.63   2.94  \n",
      "4     18.7  396.90   5.33  \n",
      "   MEDV\n",
      "0  24.0\n",
      "1  21.6\n",
      "2  34.7\n",
      "3  33.4\n",
      "4  36.2\n"
     ]
    }
   ],
   "source": [
    "import numpy as np\n",
    "import pandas as pd\n",
    "df = pd.DataFrame(data.data, columns=data.feature_names)\n",
    "\n",
    "# Put the target (housing value -- MEDV) in another DataFrame\n",
    "targets = pd.DataFrame(data.target, columns=[\"MEDV\"])\n",
    "\n",
    "# Take a look at the first few rows\n",
    "print df.head()\n",
    "print targets.head()"
   ]
  },
  {
   "cell_type": "markdown",
   "metadata": {},
   "source": [
    "Now let's fit a linear model to the data. First let's take a look at some of the variables we identified visually as being linked to house value, RM and LSTAT. Let's look at each individually and then both together.\n",
    "\n",
    "Note: If for some reason scikit-learn crashes the jupyter notebook, have conda remove mkl (there's an issue with the newer build on some systems)."
   ]
  },
  {
   "cell_type": "code",
   "execution_count": 4,
   "metadata": {
    "collapsed": false
   },
   "outputs": [
    {
     "data": {
      "image/png": "[encoded data removed]",
      "text/plain": [
       "<matplotlib.figure.Figure at 0x7f65c669d450>"
      ]
     },
     "metadata": {},
     "output_type": "display_data"
    },
    {
     "name": "stdout",
     "output_type": "stream",
     "text": [
      "MSE: 43.6005517712\n"
     ]
    }
   ],
   "source": [
    "lm = linear_model.LinearRegression()\n",
    "\n",
    "X = df[[\"RM\"]]\n",
    "y = targets[\"MEDV\"]\n",
    "\n",
    "model = lm.fit(X, y)\n",
    "predictions = lm.predict(X)\n",
    "\n",
    "# Plot the model\n",
    "plt.scatter(predictions, y, s=30, c='r', marker='+', zorder=10)\n",
    "plt.xlabel(\"Predicted Values from RM\")\n",
    "plt.ylabel(\"Actual Values MEDV\")\n",
    "plt.show()\n",
    "print \"MSE:\", mean_squared_error(y, predictions)"
   ]
  },
  {
   "cell_type": "markdown",
   "metadata": {},
   "source": [
    "**Check**: How does this plot relate to the model? In other words, how are the independent variable (RM) and dependent variable (\"MEDV\") incorporated?"
   ]
  },
  {
   "cell_type": "code",
   "execution_count": 5,
   "metadata": {
    "collapsed": false
   },
   "outputs": [
    {
     "data": {
      "image/png": "[encoded data removed]",
      "text/plain": [
       "<matplotlib.figure.Figure at 0x7f65f588dbd0>"
      ]
     },
     "metadata": {},
     "output_type": "display_data"
    },
    {
     "name": "stdout",
     "output_type": "stream",
     "text": [
      "MSE: 38.4829672299\n"
     ]
    }
   ],
   "source": [
    "lm = linear_model.LinearRegression()\n",
    "\n",
    "X = df[[\"LSTAT\"]]\n",
    "y = targets[\"MEDV\"]\n",
    "\n",
    "model = lm.fit(X, y)\n",
    "predictions = lm.predict(X)\n",
    "\n",
    "# Plot the model\n",
    "plt.scatter(predictions, y, s=30, c='r', marker='+', zorder=10)\n",
    "plt.xlabel(\"Predicted Values from LSTAT\")\n",
    "plt.ylabel(\"Actual Values MEDV\")\n",
    "plt.show()\n",
    "print \"MSE:\", mean_squared_error(y, predictions)"
   ]
  },
  {
   "cell_type": "code",
   "execution_count": 6,
   "metadata": {
    "collapsed": false
   },
   "outputs": [
    {
     "data": {
      "image/png": "[encoded data removed]",
      "text/plain": [
       "<matplotlib.figure.Figure at 0x7f65c66cdb10>"
      ]
     },
     "metadata": {},
     "output_type": "display_data"
    },
    {
     "name": "stdout",
     "output_type": "stream",
     "text": [
      "MSE: 30.5124687773\n"
     ]
    }
   ],
   "source": [
    "lm = linear_model.LinearRegression()\n",
    "\n",
    "X = df[[\"RM\", \"LSTAT\"]]\n",
    "y = targets[\"MEDV\"]\n",
    "\n",
    "model = lm.fit(X, y)\n",
    "predictions = model.predict(X)\n",
    "\n",
    "# Plot the model\n",
    "plt.scatter(predictions, y, s=30, c='r', marker='+', zorder=10)\n",
    "plt.xlabel(\"Predicted Values from RM and LSTAT\")\n",
    "plt.ylabel(\"Actual Values MEDV\")\n",
    "plt.show()\n",
    "print \"MSE:\", mean_squared_error(y, predictions)"
   ]
  },
  {
   "cell_type": "markdown",
   "metadata": {},
   "source": [
    "## Comparing the models\n",
    "\n",
    "A perfect fit would yield a straight line when we plot the predicted values versus the true values. We'll quantify the goodness of fit soon.\n",
    "\n",
    "### Exercise\n",
    "\n",
    "Run the fit on all the variables with `X = df`. Did this improve the fit versus the previously tested variable combinations? (Use mean squared error)."
   ]
  },
  {
   "cell_type": "markdown",
   "metadata": {
    "collapsed": true
   },
   "source": [
    "## Intro to Statsmodels\n",
    "\n",
    "Now let's see how to use another popular package for regressions."
   ]
  },
  {
   "cell_type": "code",
   "execution_count": 7,
   "metadata": {
    "collapsed": false
   },
   "outputs": [
    {
     "data": {
      "image/png": "[encoded data removed]",
      "text/plain": [
       "<matplotlib.figure.Figure at 0x7f65c2030d90>"
      ]
     },
     "metadata": {},
     "output_type": "display_data"
    },
    {
     "name": "stdout",
     "output_type": "stream",
     "text": [
      "MSE: 58.4106354321\n"
     ]
    }
   ],
   "source": [
    "import statsmodels.api as sm\n",
    "\n",
    "X = df[\"RM\"]\n",
    "y = targets[\"MEDV\"]\n",
    "\n",
    "# Note the difference in argument order\n",
    "model = sm.OLS(y, X).fit()\n",
    "predictions = model.predict(X)\n",
    "\n",
    "# Plot the model\n",
    "plt.scatter(predictions, y, s=30, c='r', marker='+', zorder=10)\n",
    "plt.xlabel(\"Predicted Values from RM\")\n",
    "plt.ylabel(\"Actual Values MEDV\")\n",
    "plt.show()\n",
    "print \"MSE:\", mean_squared_error(y, predictions)"
   ]
  },
  {
   "cell_type": "markdown",
   "metadata": {
    "collapsed": true
   },
   "source": [
    "## Guided Practice\n",
    "\n",
    "Compare this to the analgous fit from scikit-learn above.\n",
    "\n",
    "### Exercises\n",
    "\n",
    "Recreate the model fits above with `statsmodels`:\n",
    "* a model using LSTAT\n",
    "* a model using RM and LSTAT\n",
    "* a model using all the variables\n",
    "\n",
    "Compare the mean squared errors for each model between the two packages. Do they differ significantly? Why or why not?"
   ]
  },
  {
   "cell_type": "code",
   "execution_count": 8,
   "metadata": {
    "collapsed": false
   },
   "outputs": [
    {
     "data": {
      "image/png": "[encoded data removed]",
      "text/plain": [
       "<matplotlib.figure.Figure at 0x7f65c410ddd0>"
      ]
     },
     "metadata": {},
     "output_type": "display_data"
    },
    {
     "name": "stdout",
     "output_type": "stream",
     "text": [
      "MSE: 326.480644353\n"
     ]
    }
   ],
   "source": [
    "# Start your exercises here\n",
    "\n",
    "import statsmodels.api as sm\n",
    "\n",
    "X = df[\"LSTAT\"]\n",
    "y = targets[\"MEDV\"]\n",
    "\n",
    "# Note the difference in argument order\n",
    "model = sm.OLS(y, X).fit()\n",
    "predictions = model.predict(X)\n",
    "\n",
    "# Plot the model\n",
    "plt.scatter(predictions, y, s=30, c='r', marker='+', zorder=10)\n",
    "plt.xlabel(\"Predicted Values from LSTAT\")\n",
    "plt.ylabel(\"Actual Values MEDV\")\n",
    "plt.show()\n",
    "print \"MSE:\", mean_squared_error(y, predictions)"
   ]
  },
  {
   "cell_type": "code",
   "execution_count": 10,
   "metadata": {
    "collapsed": false
   },
   "outputs": [
    {
     "data": {
      "image/png": "[encoded data removed]",
      "text/plain": [
       "<matplotlib.figure.Figure at 0x7f65c1fbee10>"
      ]
     },
     "metadata": {},
     "output_type": "display_data"
    },
    {
     "name": "stdout",
     "output_type": "stream",
     "text": [
      "MSE: 30.5235858483\n"
     ]
    }
   ],
   "source": [
    "# Start your exercises here\n",
    "\n",
    "import statsmodels.api as sm\n",
    "\n",
    "X = df[[\"RM\", \"LSTAT\"]]\n",
    "y = targets[\"MEDV\"]\n",
    "\n",
    "# Note the difference in argument order\n",
    "model = sm.OLS(y, X).fit()\n",
    "predictions = model.predict(X)\n",
    "\n",
    "# Plot the model\n",
    "plt.scatter(predictions, y, s=30, c='r', marker='+', zorder=10)\n",
    "plt.xlabel(\"Predicted Values from RM and LSTAT\")\n",
    "plt.ylabel(\"Actual Values MEDV\")\n",
    "plt.show()\n",
    "print \"MSE:\", mean_squared_error(y, predictions)"
   ]
  },
  {
   "cell_type": "code",
   "execution_count": 11,
   "metadata": {
    "collapsed": false
   },
   "outputs": [
    {
     "data": {
      "image/png": "[encoded data removed]",
      "text/plain": [
       "<matplotlib.figure.Figure at 0x7f65c3f82790>"
      ]
     },
     "metadata": {},
     "output_type": "display_data"
    },
    {
     "name": "stdout",
     "output_type": "stream",
     "text": [
      "MSE: 24.1723662959\n"
     ]
    }
   ],
   "source": [
    "# Start your exercises here\n",
    "\n",
    "import statsmodels.api as sm\n",
    "\n",
    "X = df\n",
    "y = targets[\"MEDV\"]\n",
    "\n",
    "# Note the difference in argument order\n",
    "model = sm.OLS(y, X).fit()\n",
    "predictions = model.predict(X)\n",
    "\n",
    "# Plot the model\n",
    "plt.scatter(predictions, y, s=30, c='r', marker='+', zorder=10)\n",
    "plt.xlabel(\"Predicted Values from X\")\n",
    "plt.ylabel(\"Actual Values MEDV\")\n",
    "plt.show()\n",
    "print \"MSE:\", mean_squared_error(y, predictions)"
   ]
  },
  {
   "cell_type": "code",
   "execution_count": null,
   "metadata": {
    "collapsed": true
   },
   "outputs": [],
   "source": [
    "  CRIM    ZN  INDUS  CHAS    NOX     RM   AGE     DIS  RAD    TAX  \\\n",
    "0  0.00632  18.0   2.31   0.0  0.538  6.575  65.2  4.0900  1.0  296.0   \n",
    "1  0.02731   0.0   7.07   0.0  0.469  6.421  78.9  4.9671  2.0  242.0   \n",
    "2  0.02729   0.0   7.07   0.0  0.469  7.185  61.1  4.9671  2.0  242.0   \n",
    "3  0.03237   0.0   2.18   0.0  0.458  6.998  45.8  6.0622  3.0  222.0   \n",
    "4  0.06905   0.0   2.18   0.0  0.458  7.147  54.2  6.0622  3.0  222.0   \n",
    "\n",
    "   PTRATIO       B  LSTAT  \n",
    "0     15.3  396.90   4.98  \n",
    "1     17.8  396.90   9.14  \n",
    "2     17.8  392.83   4.03  \n",
    "3     18.7  394.63   2.94  \n",
    "4     18.7  396.90   5.33  \n",
    "   MEDV\n",
    "0  24.0\n",
    "1  21.6\n",
    "2  34.7\n",
    "3  33.4\n",
    "4  36.2"
   ]
  },
  {
   "cell_type": "code",
   "execution_count": null,
   "metadata": {
    "collapsed": true
   },
   "outputs": [],
   "source": []
  },
  {
   "cell_type": "markdown",
   "metadata": {},
   "source": [
    "## Independent Practice\n",
    "\n",
    "Using our preference of `scikit-learn` or `statsmodels`, try to find the best models that you can that:\n",
    "* use only two variables\n",
    "* only three variables\n",
    "* only four variables\n",
    "\n",
    "Evaluate your models using the squared error. Which has the lowest? How do the errors compare to using all the variables?"
   ]
  },
  {
   "cell_type": "code",
   "execution_count": 12,
   "metadata": {
    "collapsed": false
   },
   "outputs": [
    {
     "data": {
      "image/png": "[encoded data removed]",
      "text/plain": [
       "<matplotlib.figure.Figure at 0x7f65c3f72750>"
      ]
     },
     "metadata": {},
     "output_type": "display_data"
    },
    {
     "name": "stdout",
     "output_type": "stream",
     "text": [
      "MSE: 21.8977792177\n"
     ]
    }
   ],
   "source": [
    "# Start your exercises here\n",
    "lm = linear_model.LinearRegression()\n",
    "\n",
    "X = df\n",
    "y = targets[\"MEDV\"]\n",
    "\n",
    "model = lm.fit(X, y)\n",
    "predictions = lm.predict(X)\n",
    "\n",
    "# Plot the model\n",
    "plt.scatter(predictions, y, s=30, c='r', marker='+', zorder=10)\n",
    "plt.xlabel(\"Predicted Values from X\")\n",
    "plt.ylabel(\"Actual Values MEDV\")\n",
    "plt.show()\n",
    "print \"MSE:\", mean_squared_error(y, predictions)"
   ]
  },
  {
   "cell_type": "code",
   "execution_count": 19,
   "metadata": {
    "collapsed": false
   },
   "outputs": [
    {
     "name": "stdout",
     "output_type": "stream",
     "text": [
      "CRIM 71.8523466653\n",
      "ZN 73.4516960948\n",
      "INDUS 64.6662216411\n",
      "CHAS 81.8265141193\n",
      "NOX 69.0042883554\n",
      "RM 43.6005517712\n",
      "AGE 72.423980929\n",
      "DIS 79.1463415861\n",
      "RAD 72.1248118808\n",
      "TAX 65.8872753368\n",
      "PTRATIO 62.6522000138\n",
      "B 75.0324292075\n",
      "LSTAT 38.4829672299\n"
     ]
    }
   ],
   "source": [
    "lm = linear_model.LinearRegression()\n",
    "\n",
    "y = targets[\"MEDV\"]\n",
    "for col in df.columns :\n",
    "    X = df[[col]]\n",
    "    model = lm.fit(X, y)\n",
    "    predictions = lm.predict(X)\n",
    "    print col, mean_squared_error(y, predictions)\n",
    "\n",
    "\n",
    "\n"
   ]
  },
  {
   "cell_type": "code",
   "execution_count": null,
   "metadata": {
    "collapsed": true
   },
   "outputs": [],
   "source": [
    "LSAT lowest"
   ]
  },
  {
   "cell_type": "code",
   "execution_count": 20,
   "metadata": {
    "collapsed": false
   },
   "outputs": [
    {
     "name": "stdout",
     "output_type": "stream",
     "text": [
      "CRIM   CRIM   71.8523466653\n",
      "CRIM   ZN   64.7868339628\n",
      "CRIM   INDUS   61.0157201096\n",
      "CRIM   CHAS   69.8460543498\n",
      "CRIM   NOX   64.6056480683\n",
      "CRIM   RM   38.7888964105\n",
      "CRIM   AGE   66.2327955018\n",
      "CRIM   DIS   70.7846502609\n",
      "CRIM   RAD   69.0903528824\n",
      "CRIM   TAX   64.2269828149\n",
      "CRIM   PTRATIO   57.3727456506\n",
      "CRIM   B   68.3782944363\n",
      "CRIM   LSTAT   38.1932963399\n",
      "ZN   CRIM   64.7868339628\n",
      "ZN   ZN   73.4516960948\n",
      "ZN   INDUS   63.4325901587\n",
      "ZN   CHAS   70.3776584715\n",
      "ZN   NOX   66.7573181198\n",
      "ZN   RM   41.6747159952\n",
      "ZN   AGE   69.7694568166\n",
      "ZN   DIS   73.4352045113\n",
      "ZN   RAD   66.675119424\n",
      "ZN   TAX   61.6342043467\n",
      "ZN   PTRATIO   60.0495353887\n",
      "ZN   B   67.0926983361\n",
      "ZN   LSTAT   38.1661232978\n",
      "INDUS   CRIM   61.0157201096\n",
      "INDUS   ZN   63.4325901587\n",
      "INDUS   INDUS   64.6662216411\n",
      "INDUS   CHAS   61.0798440277\n",
      "INDUS   NOX   63.9867289958\n",
      "INDUS   RM   39.1454832115\n",
      "INDUS   AGE   64.0546450365\n",
      "INDUS   DIS   63.2158857525\n",
      "INDUS   RAD   63.5174130774\n",
      "INDUS   TAX   62.141095757\n",
      "INDUS   PTRATIO   54.3807815487\n",
      "INDUS   B   62.1651834994\n",
      "INDUS   LSTAT   38.2878328673\n",
      "CHAS   CRIM   69.8460543498\n",
      "CHAS   ZN   70.3776584715\n",
      "CHAS   INDUS   61.0798440277\n",
      "CHAS   CHAS   81.8265141193\n",
      "CHAS   NOX   65.0972877562\n",
      "CHAS   RM   42.5363642952\n",
      "CHAS   AGE   68.748584714\n",
      "CHAS   DIS   75.7344110418\n",
      "CHAS   RAD   69.6141727532\n",
      "CHAS   TAX   63.7614554675\n",
      "CHAS   PTRATIO   61.5472902765\n",
      "CHAS   B   72.8933648976\n",
      "CHAS   LSTAT   36.9289743155\n",
      "NOX   CRIM   64.6056480683\n",
      "NOX   ZN   66.7573181198\n",
      "NOX   INDUS   63.9867289958\n",
      "NOX   CHAS   65.0972877562\n",
      "NOX   NOX   69.0042883554\n",
      "NOX   RM   39.2181167428\n",
      "NOX   AGE   68.2516835528\n",
      "NOX   DIS   67.7210612295\n",
      "NOX   RAD   67.0516255797\n",
      "NOX   TAX   63.894594771\n",
      "NOX   PTRATIO   53.0385110638\n",
      "NOX   B   66.1171008657\n",
      "NOX   LSTAT   38.4734886697\n",
      "RM   CRIM   38.7888964105\n",
      "RM   ZN   41.6747159952\n",
      "RM   INDUS   39.1454832115\n",
      "RM   CHAS   42.5363642952\n",
      "RM   NOX   39.2181167428\n",
      "RM   RM   43.6005517712\n",
      "RM   AGE   39.6539354591\n",
      "RM   DIS   42.5875853408\n",
      "RM   RAD   38.6943287589\n",
      "RM   TAX   37.0969973325\n",
      "RM   PTRATIO   37.0387879923\n",
      "RM   B   38.4736783781\n",
      "RM   LSTAT   30.5124687773\n",
      "AGE   CRIM   66.2327955018\n",
      "AGE   ZN   69.7694568166\n",
      "AGE   INDUS   64.0546450365\n",
      "AGE   CHAS   68.748584714\n",
      "AGE   NOX   68.2516835528\n",
      "AGE   RM   39.6539354591\n",
      "AGE   AGE   72.423980929\n",
      "AGE   DIS   72.2279584352\n",
      "AGE   RAD   67.7358408829\n",
      "AGE   TAX   63.6725671222\n",
      "AGE   PTRATIO   57.2501254018\n",
      "AGE   B   67.5822885453\n",
      "AGE   LSTAT   37.8816770924\n",
      "DIS   CRIM   70.7846502609\n",
      "DIS   ZN   73.4352045113\n",
      "DIS   INDUS   63.2158857525\n",
      "DIS   CHAS   75.7344110418\n",
      "DIS   NOX   67.7210612295\n",
      "DIS   RM   42.5875853408\n",
      "DIS   AGE   72.2279584352\n",
      "DIS   DIS   79.1463415861\n",
      "DIS   RAD   71.7064913086\n",
      "DIS   TAX   65.8872490473\n",
      "DIS   PTRATIO   61.0999881615\n",
      "DIS   B   72.8805909751\n",
      "DIS   LSTAT   36.9564820135\n",
      "RAD   CRIM   69.0903528824\n",
      "RAD   ZN   66.675119424\n",
      "RAD   INDUS   63.5174130774\n",
      "RAD   CHAS   69.6141727532\n",
      "RAD   NOX   67.0516255797\n",
      "RAD   RM   38.6943287589\n",
      "RAD   AGE   67.7358408829\n",
      "RAD   DIS   71.7064913086\n",
      "RAD   RAD   72.1248118808\n",
      "RAD   TAX   64.8971015768\n",
      "RAD   PTRATIO   60.3683852211\n",
      "RAD   B   69.3002444726\n",
      "RAD   LSTAT   38.4333672017\n",
      "TAX   CRIM   64.2269828149\n",
      "TAX   ZN   61.6342043467\n",
      "TAX   INDUS   62.141095757\n",
      "TAX   CHAS   63.7614554675\n",
      "TAX   NOX   63.894594771\n",
      "TAX   RM   37.0969973325\n",
      "TAX   AGE   63.6725671222\n",
      "TAX   DIS   65.8872490473\n",
      "TAX   RAD   64.8971015768\n",
      "TAX   TAX   65.8872753368\n",
      "TAX   PTRATIO   56.7570824445\n",
      "TAX   B   64.2098472513\n",
      "TAX   LSTAT   37.9406662321\n",
      "PTRATIO   CRIM   57.3727456506\n",
      "PTRATIO   ZN   60.0495353887\n",
      "PTRATIO   INDUS   54.3807815487\n",
      "PTRATIO   CHAS   61.5472902765\n",
      "PTRATIO   NOX   53.0385110638\n",
      "PTRATIO   RM   37.0387879923\n",
      "PTRATIO   AGE   57.2501254018\n",
      "PTRATIO   DIS   61.0999881615\n",
      "PTRATIO   RAD   60.3683852211\n",
      "PTRATIO   TAX   56.7570824445\n",
      "PTRATIO   PTRATIO   62.6522000138\n",
      "PTRATIO   B   57.4889187535\n",
      "PTRATIO   LSTAT   33.2060427883\n",
      "B   CRIM   68.3782944363\n",
      "B   ZN   67.0926983361\n",
      "B   INDUS   62.1651834994\n",
      "B   CHAS   72.8933648976\n",
      "B   NOX   66.1171008657\n",
      "B   RM   38.4736783781\n",
      "B   AGE   67.5822885453\n",
      "B   DIS   72.8805909751\n",
      "B   RAD   69.3002444726\n",
      "B   TAX   64.2098472513\n",
      "B   PTRATIO   57.4889187535\n",
      "B   B   75.0613359511\n",
      "B   LSTAT   38.090972639\n",
      "LSTAT   CRIM   38.1932963399\n",
      "LSTAT   ZN   38.1661232978\n",
      "LSTAT   INDUS   38.2878328673\n",
      "LSTAT   CHAS   36.9289743155\n",
      "LSTAT   NOX   38.4734886697\n",
      "LSTAT   RM   30.5124687773\n",
      "LSTAT   AGE   37.8816770924\n",
      "LSTAT   DIS   36.9564820135\n",
      "LSTAT   RAD   38.4333672017\n",
      "LSTAT   TAX   37.9406662321\n",
      "LSTAT   PTRATIO   33.2060427883\n",
      "LSTAT   B   38.090972639\n",
      "LSTAT   LSTAT   38.4829672299\n"
     ]
    }
   ],
   "source": [
    "lm = linear_model.LinearRegression()\n",
    "\n",
    "result = {}\n",
    "y = targets[\"MEDV\"]\n",
    "for col1 in df.columns :\n",
    "    for col2 in df.columns :\n",
    "        X = df[[col1, col2]]\n",
    "        model = lm.fit(X, y)\n",
    "        predictions = lm.predict(X)\n",
    "        print col1, \" \", col2, \" \", mean_squared_error(y, predictions)\n",
    "        result[(col1,col2)] = mean_squared_error(y, predictions)\n",
    "\n",
    "\n",
    "\n"
   ]
  },
  {
   "cell_type": "code",
   "execution_count": 22,
   "metadata": {
    "collapsed": false
   },
   "outputs": [
    {
     "ename": "AttributeError",
     "evalue": "'builtin_function_or_method' object has no attribute 'min'",
     "output_type": "error",
     "traceback": [
      "\u001b[1;31m\u001b[0m",
      "\u001b[1;31mAttributeError\u001b[0mTraceback (most recent call last)",
      "\u001b[1;32m<ipython-input-22-1fe2f50c39ca>\u001b[0m in \u001b[0;36m<module>\u001b[1;34m()\u001b[0m\n\u001b[1;32m----> 1\u001b[1;33m \u001b[0mresult\u001b[0m\u001b[1;33m.\u001b[0m\u001b[0mvalues\u001b[0m\u001b[1;33m.\u001b[0m\u001b[0mmin\u001b[0m\u001b[1;33m(\u001b[0m\u001b[1;33m)\u001b[0m\u001b[1;33m\u001b[0m\u001b[0m\n\u001b[0m",
      "\u001b[1;31mAttributeError\u001b[0m: 'builtin_function_or_method' object has no attribute 'min'"
     ]
    }
   ],
   "source": [
    "for k,v in result :\n",
    "    "
   ]
  },
  {
   "cell_type": "code",
   "execution_count": 23,
   "metadata": {
    "collapsed": false
   },
   "outputs": [
    {
     "data": {
      "text/plain": [
       "('LSTAT', 'RM')"
      ]
     },
     "execution_count": 23,
     "metadata": {},
     "output_type": "execute_result"
    }
   ],
   "source": [
    "min(result, key=result.get)"
   ]
  },
  {
   "cell_type": "code",
   "execution_count": null,
   "metadata": {
    "collapsed": true
   },
   "outputs": [],
   "source": []
  },
  {
   "cell_type": "code",
   "execution_count": 24,
   "metadata": {
    "collapsed": true
   },
   "outputs": [],
   "source": [
    "lm = linear_model.LinearRegression()\n",
    "\n",
    "result = {}\n",
    "y = targets[\"MEDV\"]\n",
    "for col1 in df.columns :\n",
    "    for col2 in df.columns :\n",
    "        for col3 in df.columns :\n",
    "            for col4 in df.columns :\n",
    "                X = df[[col1, col2, col3, col4]]\n",
    "                model = lm.fit(X, y)\n",
    "                predictions = lm.predict(X)\n",
    "                #print col1, \" \", col2, \" \", mean_squared_error(y, predictions)\n",
    "                result[(col1,col2,col3,col4)] = mean_squared_error(y, predictions)\n"
   ]
  },
  {
   "cell_type": "code",
   "execution_count": 25,
   "metadata": {
    "collapsed": false
   },
   "outputs": [
    {
     "data": {
      "text/plain": [
       "('DIS', 'PTRATIO', 'LSTAT', 'RM')"
      ]
     },
     "execution_count": 25,
     "metadata": {},
     "output_type": "execute_result"
    }
   ],
   "source": [
    "min(result, key=result.get)"
   ]
  },
  {
   "cell_type": "code",
   "execution_count": 27,
   "metadata": {
    "collapsed": false
   },
   "outputs": [
    {
     "data": {
      "text/plain": [
       "26.144086368798106"
      ]
     },
     "execution_count": 27,
     "metadata": {},
     "output_type": "execute_result"
    }
   ],
   "source": [
    "result.get(('DIS', 'PTRATIO', 'LSTAT', 'RM'))"
   ]
  },
  {
   "cell_type": "code",
   "execution_count": null,
   "metadata": {
    "collapsed": true
   },
   "outputs": [],
   "source": []
  },
  {
   "cell_type": "code",
   "execution_count": null,
   "metadata": {
    "collapsed": true
   },
   "outputs": [],
   "source": []
  },
  {
   "cell_type": "code",
   "execution_count": 13,
   "metadata": {
    "collapsed": false
   },
   "outputs": [
    {
     "data": {
      "text/plain": [
       "13"
      ]
     },
     "execution_count": 13,
     "metadata": {},
     "output_type": "execute_result"
    }
   ],
   "source": [
    "len(df.columns)"
   ]
  },
  {
   "cell_type": "code",
   "execution_count": null,
   "metadata": {
    "collapsed": true
   },
   "outputs": [],
   "source": []
  },
  {
   "cell_type": "markdown",
   "metadata": {},
   "source": [
    "# Bonus Exercises\n",
    "\n",
    "From the LSTAT plot you may have noticed that the relationship is not quite linear. Add a new column `\"LSTAT2\"` to your data frame for the LSTAT values squared and try to fit a quadratic function using `[\"LSTAT\", \"LSTAT2\"]`. Is the resulting fit better or worse?"
   ]
  },
  {
   "cell_type": "code",
   "execution_count": 26,
   "metadata": {
    "collapsed": false
   },
   "outputs": [
    {
     "data": {
      "image/png": "[encoded data removed]",
      "text/plain": [
       "<matplotlib.figure.Figure at 0x7f65c1e750d0>"
      ]
     },
     "metadata": {},
     "output_type": "display_data"
    },
    {
     "name": "stdout",
     "output_type": "stream",
     "text": [
      "MSE: 30.3305200759\n"
     ]
    }
   ],
   "source": [
    "# Start your exercises here\n",
    "lm = linear_model.LinearRegression()\n",
    "df['LSTAT2'] = df['LSTAT']**2\n",
    "\n",
    "X = df[['LSTAT', 'LSTAT2']]\n",
    "\n",
    "y = targets[\"MEDV\"]\n",
    "\n",
    "model = lm.fit(X, y)\n",
    "predictions = lm.predict(X)\n",
    "\n",
    "# Plot the model\n",
    "plt.scatter(predictions, y, s=30, c='r', marker='+', zorder=10)\n",
    "plt.xlabel(\"Predicted Values from X\")\n",
    "plt.ylabel(\"Actual Values MEDV\")\n",
    "plt.show()\n",
    "print \"MSE:\", mean_squared_error(y, predictions)"
   ]
  },
  {
   "cell_type": "code",
   "execution_count": null,
   "metadata": {
    "collapsed": true
   },
   "outputs": [],
   "source": []
  }
 ],
 "metadata": {
  "kernelspec": {
   "display_name": "Python 2",
   "language": "python",
   "name": "python2"
  },
  "language_info": {
   "codemirror_mode": {
    "name": "ipython",
    "version": 2
   },
   "file_extension": ".py",
   "mimetype": "text/x-python",
   "name": "python",
   "nbconvert_exporter": "python",
   "pygments_lexer": "ipython2",
   "version": "2.7.11"
  }
 },
 "nbformat": 4,
 "nbformat_minor": 0
}

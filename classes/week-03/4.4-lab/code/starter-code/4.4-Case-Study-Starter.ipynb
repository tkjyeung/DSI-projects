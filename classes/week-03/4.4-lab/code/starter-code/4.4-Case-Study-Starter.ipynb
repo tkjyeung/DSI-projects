{
 "cells": [
  {
   "cell_type": "markdown",
   "metadata": {},
   "source": [
    "# Case Study\n",
    "\n",
    "You are a data scientist at a top recruiting firm. Predict job salary based on different attributes to help the company more accurately/profitably determine compensation.\n",
    "\n",
    "To start, load in the data and poke around. Try to determine the most common jobs in the data set, and use linear regression to predict the 2015 salary.\n"
   ]
  },
  {
   "cell_type": "code",
   "execution_count": 1,
   "metadata": {
    "collapsed": true
   },
   "outputs": [],
   "source": [
    "# Some python imports you may find useful\n",
    "% matplotlib inline\n",
    "\n",
    "from collections import defaultdict\n",
    "import datetime\n",
    "\n",
    "from matplotlib import pyplot as plt\n",
    "import numpy as np\n",
    "import pandas as pd\n",
    "import seaborn as sns\n",
    "from sklearn import linear_model"
   ]
  },
  {
   "cell_type": "code",
   "execution_count": 2,
   "metadata": {
    "collapsed": false
   },
   "outputs": [
    {
     "name": "stderr",
     "output_type": "stream",
     "text": [
      "/home/vagrant/.anaconda/lib/python2.7/site-packages/IPython/core/interactiveshell.py:2723: DtypeWarning: Columns (3,4,5,6,12) have mixed types. Specify dtype option on import or set low_memory=False.\n",
      "  interactivity=interactivity, compiler=compiler, result=result)\n"
     ]
    },
    {
     "data": {
      "text/html": [
       "<div>\n",
       "<table border=\"1\" class=\"dataframe\">\n",
       "  <thead>\n",
       "    <tr style=\"text-align: right;\">\n",
       "      <th></th>\n",
       "      <th>Id</th>\n",
       "      <th>EmployeeName</th>\n",
       "      <th>JobTitle</th>\n",
       "      <th>BasePay</th>\n",
       "      <th>OvertimePay</th>\n",
       "      <th>OtherPay</th>\n",
       "      <th>Benefits</th>\n",
       "      <th>TotalPay</th>\n",
       "      <th>TotalPayBenefits</th>\n",
       "      <th>Year</th>\n",
       "      <th>Notes</th>\n",
       "      <th>Agency</th>\n",
       "      <th>Status</th>\n",
       "    </tr>\n",
       "  </thead>\n",
       "  <tbody>\n",
       "    <tr>\n",
       "      <th>0</th>\n",
       "      <td>1</td>\n",
       "      <td>NATHANIEL FORD</td>\n",
       "      <td>GENERAL MANAGER-METROPOLITAN TRANSIT AUTHORITY</td>\n",
       "      <td>167411</td>\n",
       "      <td>0</td>\n",
       "      <td>400184</td>\n",
       "      <td>NaN</td>\n",
       "      <td>567595.43</td>\n",
       "      <td>567595.43</td>\n",
       "      <td>2011</td>\n",
       "      <td>NaN</td>\n",
       "      <td>San Francisco</td>\n",
       "      <td>NaN</td>\n",
       "    </tr>\n",
       "    <tr>\n",
       "      <th>1</th>\n",
       "      <td>2</td>\n",
       "      <td>GARY JIMENEZ</td>\n",
       "      <td>CAPTAIN III (POLICE DEPARTMENT)</td>\n",
       "      <td>155966</td>\n",
       "      <td>245132</td>\n",
       "      <td>137811</td>\n",
       "      <td>NaN</td>\n",
       "      <td>538909.28</td>\n",
       "      <td>538909.28</td>\n",
       "      <td>2011</td>\n",
       "      <td>NaN</td>\n",
       "      <td>San Francisco</td>\n",
       "      <td>NaN</td>\n",
       "    </tr>\n",
       "    <tr>\n",
       "      <th>2</th>\n",
       "      <td>3</td>\n",
       "      <td>ALBERT PARDINI</td>\n",
       "      <td>CAPTAIN III (POLICE DEPARTMENT)</td>\n",
       "      <td>212739</td>\n",
       "      <td>106088</td>\n",
       "      <td>16452.6</td>\n",
       "      <td>NaN</td>\n",
       "      <td>335279.91</td>\n",
       "      <td>335279.91</td>\n",
       "      <td>2011</td>\n",
       "      <td>NaN</td>\n",
       "      <td>San Francisco</td>\n",
       "      <td>NaN</td>\n",
       "    </tr>\n",
       "    <tr>\n",
       "      <th>3</th>\n",
       "      <td>4</td>\n",
       "      <td>CHRISTOPHER CHONG</td>\n",
       "      <td>WIRE ROPE CABLE MAINTENANCE MECHANIC</td>\n",
       "      <td>77916</td>\n",
       "      <td>56120.7</td>\n",
       "      <td>198307</td>\n",
       "      <td>NaN</td>\n",
       "      <td>332343.61</td>\n",
       "      <td>332343.61</td>\n",
       "      <td>2011</td>\n",
       "      <td>NaN</td>\n",
       "      <td>San Francisco</td>\n",
       "      <td>NaN</td>\n",
       "    </tr>\n",
       "    <tr>\n",
       "      <th>4</th>\n",
       "      <td>5</td>\n",
       "      <td>PATRICK GARDNER</td>\n",
       "      <td>DEPUTY CHIEF OF DEPARTMENT,(FIRE DEPARTMENT)</td>\n",
       "      <td>134402</td>\n",
       "      <td>9737</td>\n",
       "      <td>182235</td>\n",
       "      <td>NaN</td>\n",
       "      <td>326373.19</td>\n",
       "      <td>326373.19</td>\n",
       "      <td>2011</td>\n",
       "      <td>NaN</td>\n",
       "      <td>San Francisco</td>\n",
       "      <td>NaN</td>\n",
       "    </tr>\n",
       "  </tbody>\n",
       "</table>\n",
       "</div>"
      ],
      "text/plain": [
       "   Id       EmployeeName                                        JobTitle  \\\n",
       "0   1     NATHANIEL FORD  GENERAL MANAGER-METROPOLITAN TRANSIT AUTHORITY   \n",
       "1   2       GARY JIMENEZ                 CAPTAIN III (POLICE DEPARTMENT)   \n",
       "2   3     ALBERT PARDINI                 CAPTAIN III (POLICE DEPARTMENT)   \n",
       "3   4  CHRISTOPHER CHONG            WIRE ROPE CABLE MAINTENANCE MECHANIC   \n",
       "4   5    PATRICK GARDNER    DEPUTY CHIEF OF DEPARTMENT,(FIRE DEPARTMENT)   \n",
       "\n",
       "  BasePay OvertimePay OtherPay Benefits   TotalPay  TotalPayBenefits  Year  \\\n",
       "0  167411           0   400184      NaN  567595.43         567595.43  2011   \n",
       "1  155966      245132   137811      NaN  538909.28         538909.28  2011   \n",
       "2  212739      106088  16452.6      NaN  335279.91         335279.91  2011   \n",
       "3   77916     56120.7   198307      NaN  332343.61         332343.61  2011   \n",
       "4  134402        9737   182235      NaN  326373.19         326373.19  2011   \n",
       "\n",
       "   Notes         Agency Status  \n",
       "0    NaN  San Francisco    NaN  \n",
       "1    NaN  San Francisco    NaN  \n",
       "2    NaN  San Francisco    NaN  \n",
       "3    NaN  San Francisco    NaN  \n",
       "4    NaN  San Francisco    NaN  "
      ]
     },
     "execution_count": 2,
     "metadata": {},
     "output_type": "execute_result"
    }
   ],
   "source": [
    "# Load the the salary data\n",
    "df = pd.read_csv('../salaries.csv')\n",
    "\n",
    "# Take a quick look\n",
    "df.head()\n",
    "\n"
   ]
  },
  {
   "cell_type": "code",
   "execution_count": 11,
   "metadata": {
    "collapsed": false
   },
   "outputs": [],
   "source": [
    "df['JobTitle'] = df['JobTitle'].str.lower()"
   ]
  },
  {
   "cell_type": "code",
   "execution_count": 17,
   "metadata": {
    "collapsed": false
   },
   "outputs": [
    {
     "data": {
      "text/plain": [
       "1637"
      ]
     },
     "execution_count": 17,
     "metadata": {},
     "output_type": "execute_result"
    }
   ],
   "source": [
    "len(df['JobTitle'].value_counts().index)"
   ]
  },
  {
   "cell_type": "code",
   "execution_count": 14,
   "metadata": {
    "collapsed": false
   },
   "outputs": [
    {
     "data": {
      "text/plain": [
       "account clerk                                         351\n",
       "accountant                                              5\n",
       "accountant i                                            8\n",
       "accountant ii                                         226\n",
       "accountant iii                                        278\n",
       "accountant intern                                     108\n",
       "accountant iv                                         171\n",
       "acpo,juvp, juv prob (sfers)                             1\n",
       "acupuncturist                                           4\n",
       "adm, sfgh medical center                                3\n",
       "admin analyst 3                                         6\n",
       "admin hearing examiner                                 31\n",
       "administrative analyst                                461\n",
       "administrative analyst i                                2\n",
       "administrative analyst ii                               5\n",
       "administrative analyst iii                              2\n",
       "administrative engineer                                39\n",
       "administrative hearing sup                              1\n",
       "administrative services manager                         3\n",
       "administrative services mgr                            11\n",
       "administrator, dph                                      2\n",
       "administrator, sfgh medical center                      1\n",
       "admission attendant                                   164\n",
       "affirmative action specialist                           6\n",
       "agricultural inspector                                  8\n",
       "airport assistant deputy director, business admini      1\n",
       "airport assistant deputy director, operations           1\n",
       "airport communications disp                            85\n",
       "airport communications officer                          2\n",
       "airport communications operator                        27\n",
       "                                                     ... \n",
       "water quality tech iii                                 24\n",
       "water quality technician                               32\n",
       "water quality technician i/ii                          32\n",
       "water quality technician iii                            9\n",
       "water qualitytech i/ii                                 69\n",
       "water service inspector                               110\n",
       "watershed forester                                      6\n",
       "watershed forester manager                              2\n",
       "watershed keeper                                       98\n",
       "watershed keeper supervisor                            11\n",
       "watershed worker (seasonal)                           116\n",
       "welder                                                 48\n",
       "welfare fraud investigator                             22\n",
       "wharfinger 1                                            3\n",
       "wharfinger 2                                           10\n",
       "wharfinger i                                            1\n",
       "wharfinger ii                                           3\n",
       "window cleaner                                         68\n",
       "window cleaner supervisor                               4\n",
       "wire rope cable maint mechanic                         30\n",
       "wire rope cable maint sprv                              3\n",
       "wire rope cable maintenance mechanic                    8\n",
       "wire rope cable maintenance supervisor                  1\n",
       "worker's comp supervisor 1                             14\n",
       "worker's compensation adjuster                         95\n",
       "worker's compensation supervisor i                      5\n",
       "x-ray laboratory aide                                 126\n",
       "youth comm advisor                                      4\n",
       "youth commission advisor, board of supervisors          1\n",
       "zoo curator                                             1\n",
       "Name: JobTitle, dtype: int64"
      ]
     },
     "execution_count": 14,
     "metadata": {},
     "output_type": "execute_result"
    }
   ],
   "source": [
    "df['JobTitle'].value_counts().sort_index()"
   ]
  },
  {
   "cell_type": "markdown",
   "metadata": {},
   "source": [
    "## Exploratory Analysis\n",
    "\n",
    "Use `value_counts` to look at the distribution of job types. Pick a job type and investigate further. For example, make a histogram of salaries and compute the mean and median per year."
   ]
  },
  {
   "cell_type": "code",
   "execution_count": 3,
   "metadata": {
    "collapsed": false
   },
   "outputs": [
    {
     "data": {
      "text/plain": [
       "Transit Operator                                      7036\n",
       "Special Nurse                                         4389\n",
       "Registered Nurse                                      3736\n",
       "Public Svc Aide-Public Works                          2518\n",
       "Police Officer 3                                      2421\n",
       "Custodian                                             2418\n",
       "TRANSIT OPERATOR                                      2388\n",
       "Firefighter                                           2359\n",
       "Recreation Leader                                     1971\n",
       "Patient Care Assistant                                1945\n",
       "Deputy Sheriff                                        1933\n",
       "Police Officer                                        1476\n",
       "SPECIAL NURSE                                         1402\n",
       "Public Service Trainee                                1328\n",
       "REGISTERED NURSE                                      1219\n",
       "Police Officer 2                                      1141\n",
       "Attorney (Civil/Criminal)                             1126\n",
       "Porter                                                1095\n",
       "Sergeant 3                                            1047\n",
       "General Laborer                                       1033\n",
       "EMT/Paramedic/Firefighter                              918\n",
       "Gardener                                               894\n",
       "Parking Control Officer                                868\n",
       "Senior Clerk                                           840\n",
       "Library Page                                           799\n",
       "CUSTODIAN                                              796\n",
       "FIREFIGHTER                                            794\n",
       "POLICE OFFICER III                                     779\n",
       "Clerk                                                  764\n",
       "Eligibility Worker                                     760\n",
       "                                                      ... \n",
       "HEAVY EQUIPMENT OPERATIONS ASSISTANT SUPERVISOR          1\n",
       "CHIEF DISTRICT ATTORNEY'S INVESTIGATOR                   1\n",
       "TRAFFIC HEARING OFFICER                                  1\n",
       "CAPTAIN, BUREAU OF FIRE PREVENTION AND PUBLIC SAFE       1\n",
       "MENTAL HEALTH HEARING OFFICER                            1\n",
       "Chief Investment Officer                                 1\n",
       "CHIEF OF POLICE                                          1\n",
       "IS Technician Assistant                                  1\n",
       "LIBRARIAN II - ASIAN ARTS                                1\n",
       "CONFIDENTIAL SECRETARY CITY ATTORNEY                     1\n",
       "PUBLIC SAFETY COMMUNICATIONS TECHNICIAN                  1\n",
       "CHIEF VICTIM/WITNESS INVESTIGATOR                        1\n",
       "MAYOR'S PROGRAM MANAGER                                  1\n",
       "SHERIFF                                                  1\n",
       "Cfdntal Sctry to Distric Atty                            1\n",
       "TRIAL DELAY REDUCTION COORDINATOR                        1\n",
       "VETERNIARY LABORATORY TECHNOLOGIST                       1\n",
       "CITY PLANNING GRAPHICS SUPERVISOR                        1\n",
       "Captain, (Fire Department)                               1\n",
       "TRANSIT POWER LINE WORKER SUPERVISOR II                  1\n",
       "WIRE ROPE CABLE MAINTENANCE SUPERVISOR                   1\n",
       "SUPPLY ROOM ATTENDENT                                    1\n",
       "MEDIA PRODUCTION SUPERVISOR                              1\n",
       "TRANSIT PAINT SHOP SUPERVISOR I                          1\n",
       "SECRETARY, COMMISSION ON THE ENVIRONMENT                 1\n",
       "ZOO CURATOR                                              1\n",
       "Light Rail Vehicle Equip Eng                             1\n",
       "COURT EXECUTIVE OFFICER                                  1\n",
       "ASSISTANT DIRECTOR, JUVENILE HALL                        1\n",
       "COURT ADMINISTRATIVE SECRETARY                           1\n",
       "Name: JobTitle, dtype: int64"
      ]
     },
     "execution_count": 3,
     "metadata": {},
     "output_type": "execute_result"
    }
   ],
   "source": [
    "# Use .value_counts() on your data frame series and print the results\n",
    "\n",
    "df['JobTitle'].value_counts()\n",
    "\n",
    "# Pick a specific profession and select those rows.\n",
    "# How many are there?\n",
    "# Note the some jobs are specified in multiple ways\n",
    "# (all upper case and mixed case).Be sure to combine\n",
    "# the data appropriately.\n"
   ]
  },
  {
   "cell_type": "code",
   "execution_count": 18,
   "metadata": {
    "collapsed": false
   },
   "outputs": [
    {
     "data": {
      "text/plain": [
       "<matplotlib.axes._subplots.AxesSubplot at 0x7f93a6c43690>"
      ]
     },
     "execution_count": 18,
     "metadata": {},
     "output_type": "execute_result"
    },
    {
     "data": {
      "image/png": "[encoded data removed]",
      "text/plain": [
       "<matplotlib.figure.Figure at 0x7f93abdf38d0>"
      ]
     },
     "metadata": {},
     "output_type": "display_data"
    }
   ],
   "source": [
    "df[df['JobTitle'] == 'transit operator']['TotalPay'].plot.hist(bins=60)"
   ]
  },
  {
   "cell_type": "code",
   "execution_count": 20,
   "metadata": {
    "collapsed": false
   },
   "outputs": [
    {
     "data": {
      "text/html": [
       "<div>\n",
       "<table border=\"1\" class=\"dataframe\">\n",
       "  <thead>\n",
       "    <tr style=\"text-align: right;\">\n",
       "      <th></th>\n",
       "      <th>TotalPay</th>\n",
       "    </tr>\n",
       "    <tr>\n",
       "      <th>Year</th>\n",
       "      <th></th>\n",
       "    </tr>\n",
       "  </thead>\n",
       "  <tbody>\n",
       "    <tr>\n",
       "      <th>2011</th>\n",
       "      <td>61742.636353</td>\n",
       "    </tr>\n",
       "    <tr>\n",
       "      <th>2012</th>\n",
       "      <td>65524.890376</td>\n",
       "    </tr>\n",
       "    <tr>\n",
       "      <th>2013</th>\n",
       "      <td>67574.008684</td>\n",
       "    </tr>\n",
       "    <tr>\n",
       "      <th>2014</th>\n",
       "      <td>61318.264522</td>\n",
       "    </tr>\n",
       "  </tbody>\n",
       "</table>\n",
       "</div>"
      ],
      "text/plain": [
       "          TotalPay\n",
       "Year              \n",
       "2011  61742.636353\n",
       "2012  65524.890376\n",
       "2013  67574.008684\n",
       "2014  61318.264522"
      ]
     },
     "execution_count": 20,
     "metadata": {},
     "output_type": "execute_result"
    }
   ],
   "source": [
    "df[df['JobTitle'] == 'transit operator'].groupby('Year')[['TotalPay']].mean()"
   ]
  },
  {
   "cell_type": "code",
   "execution_count": 22,
   "metadata": {
    "collapsed": false
   },
   "outputs": [
    {
     "data": {
      "text/html": [
       "<div>\n",
       "<table border=\"1\" class=\"dataframe\">\n",
       "  <thead>\n",
       "    <tr style=\"text-align: right;\">\n",
       "      <th></th>\n",
       "      <th>TotalPayBenefits</th>\n",
       "    </tr>\n",
       "    <tr>\n",
       "      <th>Year</th>\n",
       "      <th></th>\n",
       "    </tr>\n",
       "  </thead>\n",
       "  <tbody>\n",
       "    <tr>\n",
       "      <th>2011</th>\n",
       "      <td>61742.636353</td>\n",
       "    </tr>\n",
       "    <tr>\n",
       "      <th>2012</th>\n",
       "      <td>95700.422458</td>\n",
       "    </tr>\n",
       "    <tr>\n",
       "      <th>2013</th>\n",
       "      <td>94261.816366</td>\n",
       "    </tr>\n",
       "    <tr>\n",
       "      <th>2014</th>\n",
       "      <td>86718.995478</td>\n",
       "    </tr>\n",
       "  </tbody>\n",
       "</table>\n",
       "</div>"
      ],
      "text/plain": [
       "      TotalPayBenefits\n",
       "Year                  \n",
       "2011      61742.636353\n",
       "2012      95700.422458\n",
       "2013      94261.816366\n",
       "2014      86718.995478"
      ]
     },
     "execution_count": 22,
     "metadata": {},
     "output_type": "execute_result"
    }
   ],
   "source": [
    "df[df['JobTitle'] == 'transit operator'].groupby('Year')[['TotalPayBenefits']].mean()"
   ]
  },
  {
   "cell_type": "code",
   "execution_count": 21,
   "metadata": {
    "collapsed": false
   },
   "outputs": [
    {
     "data": {
      "text/html": [
       "<div>\n",
       "<table border=\"1\" class=\"dataframe\">\n",
       "  <thead>\n",
       "    <tr style=\"text-align: right;\">\n",
       "      <th></th>\n",
       "      <th>TotalPay</th>\n",
       "    </tr>\n",
       "    <tr>\n",
       "      <th>Year</th>\n",
       "      <th></th>\n",
       "    </tr>\n",
       "  </thead>\n",
       "  <tbody>\n",
       "    <tr>\n",
       "      <th>2011</th>\n",
       "      <td>70132.270</td>\n",
       "    </tr>\n",
       "    <tr>\n",
       "      <th>2012</th>\n",
       "      <td>72073.925</td>\n",
       "    </tr>\n",
       "    <tr>\n",
       "      <th>2013</th>\n",
       "      <td>74863.520</td>\n",
       "    </tr>\n",
       "    <tr>\n",
       "      <th>2014</th>\n",
       "      <td>70946.800</td>\n",
       "    </tr>\n",
       "  </tbody>\n",
       "</table>\n",
       "</div>"
      ],
      "text/plain": [
       "       TotalPay\n",
       "Year           \n",
       "2011  70132.270\n",
       "2012  72073.925\n",
       "2013  74863.520\n",
       "2014  70946.800"
      ]
     },
     "execution_count": 21,
     "metadata": {},
     "output_type": "execute_result"
    }
   ],
   "source": [
    "df[df['JobTitle'] == 'transit operator'].groupby('Year')[['TotalPay']].median()"
   ]
  },
  {
   "cell_type": "code",
   "execution_count": 23,
   "metadata": {
    "collapsed": false
   },
   "outputs": [
    {
     "data": {
      "text/html": [
       "<div>\n",
       "<table border=\"1\" class=\"dataframe\">\n",
       "  <thead>\n",
       "    <tr style=\"text-align: right;\">\n",
       "      <th></th>\n",
       "      <th>TotalPayBenefits</th>\n",
       "    </tr>\n",
       "    <tr>\n",
       "      <th>Year</th>\n",
       "      <th></th>\n",
       "    </tr>\n",
       "  </thead>\n",
       "  <tbody>\n",
       "    <tr>\n",
       "      <th>2011</th>\n",
       "      <td>70132.270</td>\n",
       "    </tr>\n",
       "    <tr>\n",
       "      <th>2012</th>\n",
       "      <td>107864.965</td>\n",
       "    </tr>\n",
       "    <tr>\n",
       "      <th>2013</th>\n",
       "      <td>107021.020</td>\n",
       "    </tr>\n",
       "    <tr>\n",
       "      <th>2014</th>\n",
       "      <td>103325.380</td>\n",
       "    </tr>\n",
       "  </tbody>\n",
       "</table>\n",
       "</div>"
      ],
      "text/plain": [
       "      TotalPayBenefits\n",
       "Year                  \n",
       "2011         70132.270\n",
       "2012        107864.965\n",
       "2013        107021.020\n",
       "2014        103325.380"
      ]
     },
     "execution_count": 23,
     "metadata": {},
     "output_type": "execute_result"
    }
   ],
   "source": [
    "df[df['JobTitle'] == 'transit operator'].groupby('Year')[['TotalPayBenefits']].median()"
   ]
  },
  {
   "cell_type": "code",
   "execution_count": 28,
   "metadata": {
    "collapsed": false
   },
   "outputs": [
    {
     "data": {
      "image/png": "[encoded data removed]",
      "text/plain": [
       "<matplotlib.figure.Figure at 0x7f93a6962c50>"
      ]
     },
     "metadata": {},
     "output_type": "display_data"
    },
    {
     "data": {
      "image/png": "[encoded data removed]",
      "text/plain": [
       "<matplotlib.figure.Figure at 0x7f93a68f8410>"
      ]
     },
     "metadata": {},
     "output_type": "display_data"
    },
    {
     "data": {
      "image/png": "[encoded data removed]",
      "text/plain": [
       "<matplotlib.figure.Figure at 0x7f93a684b050>"
      ]
     },
     "metadata": {},
     "output_type": "display_data"
    },
    {
     "data": {
      "image/png": "[encoded data removed]",
      "text/plain": [
       "<matplotlib.figure.Figure at 0x7f93a5fe8ad0>"
      ]
     },
     "metadata": {},
     "output_type": "display_data"
    }
   ],
   "source": [
    "# Make a histogram of salaries for your chosen job -- one for each year\n",
    "df_transit_op_yr = df[df['JobTitle'] == 'transit operator'].groupby('Year')\n",
    "\n",
    "\n",
    "for name, group in df_transit_op_yr :\n",
    "    fig, ax = plt.subplots()\n",
    "    ax.hist(group['TotalPayBenefits'], bins=30)\n",
    "    ax.set_title(name)\n",
    "    plt.show()"
   ]
  },
  {
   "cell_type": "markdown",
   "metadata": {},
   "source": [
    "## Fit a model and Visualize"
   ]
  },
  {
   "cell_type": "code",
   "execution_count": 32,
   "metadata": {
    "collapsed": false
   },
   "outputs": [
    {
     "data": {
      "text/plain": [
       "<matplotlib.axes._subplots.AxesSubplot at 0x7f93a665c210>"
      ]
     },
     "execution_count": 32,
     "metadata": {},
     "output_type": "execute_result"
    },
    {
     "data": {
      "image/png": "[encoded data removed]",
      "text/plain": [
       "<matplotlib.figure.Figure at 0x7f93a692bf50>"
      ]
     },
     "metadata": {},
     "output_type": "display_data"
    },
    {
     "data": {
      "image/png": "[encoded data removed]",
      "text/plain": [
       "<matplotlib.figure.Figure at 0x7f93a66de9d0>"
      ]
     },
     "metadata": {},
     "output_type": "display_data"
    }
   ],
   "source": [
    "# Look at change over time, mean and median per year\n",
    "#df_transit_op = df[df['JobTitle'] == 'transit operator']\n",
    "\n",
    "# Plot the mean and median versus year with `plt`\n",
    "fig, ax = plt.subplots()\n",
    "ax.scatter(\n",
    "    \n",
    "df[df['JobTitle'] == 'transit operator'].groupby('Year')[['TotalPayBenefits']].mean().plot()\n",
    "df[df['JobTitle'] == 'transit operator'].groupby('Year')[['TotalPayBenefits']].median().plot()\n",
    "\n",
    "#df_transit_op['TotalPayBenefits']\n",
    "#df_transit_op.groupby('Year')[['TotalPayBenefits']]"
   ]
  },
  {
   "cell_type": "code",
   "execution_count": 41,
   "metadata": {
    "collapsed": false
   },
   "outputs": [],
   "source": [
    "# Fit a linear model\n",
    "import numpy as np\n",
    "import pandas as pd\n",
    "from scipy import stats\n",
    "import seaborn as sns\n",
    "from sklearn import datasets, linear_model\n",
    "from sklearn.cross_validation import train_test_split\n",
    "\n",
    "\n",
    "df_temp = df[df['JobTitle'] == 'transit operator'].groupby('Year')[['TotalPayBenefits']].mean()\n",
    "\n",
    "# Make a prediction for the 2015 Salary with your model\n",
    "lm = linear_model.LinearRegression()\n",
    "\n",
    "model = lm.fit(pd.DataFrame(df_temp.index), df_temp['TotalPayBenefits'])\n",
    "predictions = model.predict(X)\n",
    "\n",
    "\n",
    "# Plot the data, the best fit line, and the prediction\n",
    "\n"
   ]
  },
  {
   "cell_type": "code",
   "execution_count": 38,
   "metadata": {
    "collapsed": false
   },
   "outputs": [
    {
     "data": {
      "text/plain": [
       "Year\n",
       "2011    61742.636353\n",
       "2012    95700.422458\n",
       "2013    94261.816366\n",
       "2014    86718.995478\n",
       "Name: TotalPayBenefits, dtype: float64"
      ]
     },
     "execution_count": 38,
     "metadata": {},
     "output_type": "execute_result"
    }
   ],
   "source": [
    "df_temp['TotalPayBenefits']"
   ]
  },
  {
   "cell_type": "code",
   "execution_count": null,
   "metadata": {
    "collapsed": true
   },
   "outputs": [],
   "source": []
  }
 ],
 "metadata": {
  "kernelspec": {
   "display_name": "Python 2",
   "language": "python",
   "name": "python2"
  },
  "language_info": {
   "codemirror_mode": {
    "name": "ipython",
    "version": 2
   },
   "file_extension": ".py",
   "mimetype": "text/x-python",
   "name": "python",
   "nbconvert_exporter": "python",
   "pygments_lexer": "ipython2",
   "version": "2.7.11"
  }
 },
 "nbformat": 4,
 "nbformat_minor": 0
}

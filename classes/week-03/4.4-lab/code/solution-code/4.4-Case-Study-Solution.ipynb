{
 "cells": [
  {
   "cell_type": "markdown",
   "metadata": {},
   "source": [
    "# Case Study\n",
    "\n",
    "You are a data scientist at a top recruiting firm. Predict job salary based on different attributes to help the company more accurately/profitably determine compensation.\n",
    "\n",
    "To start, load in the data and poke around. Try to determine the most common jobs in the data set, and use linear regression to predict the 2015 salary.\n"
   ]
  },
  {
   "cell_type": "code",
   "execution_count": 1,
   "metadata": {
    "collapsed": true
   },
   "outputs": [],
   "source": [
    "# Some python imports you may find useful\n",
    "% matplotlib inline\n",
    "\n",
    "from collections import defaultdict\n",
    "import datetime\n",
    "\n",
    "from matplotlib import pyplot as plt\n",
    "import numpy as np\n",
    "import pandas as pd\n",
    "import seaborn as sns\n",
    "from sklearn import linear_model"
   ]
  },
  {
   "cell_type": "code",
   "execution_count": 2,
   "metadata": {
    "collapsed": false
   },
   "outputs": [
    {
     "name": "stderr",
     "output_type": "stream",
     "text": [
      "/home/user/repos/anaconda3/envs/py2.7/lib/python2.7/site-packages/IPython/core/interactiveshell.py:2902: DtypeWarning: Columns (3,4,5,6,12) have mixed types. Specify dtype option on import or set low_memory=False.\n",
      "  interactivity=interactivity, compiler=compiler, result=result)\n"
     ]
    },
    {
     "data": {
      "text/html": [
       "<div>\n",
       "<table border=\"1\" class=\"dataframe\">\n",
       "  <thead>\n",
       "    <tr style=\"text-align: right;\">\n",
       "      <th></th>\n",
       "      <th>Id</th>\n",
       "      <th>EmployeeName</th>\n",
       "      <th>JobTitle</th>\n",
       "      <th>BasePay</th>\n",
       "      <th>OvertimePay</th>\n",
       "      <th>OtherPay</th>\n",
       "      <th>Benefits</th>\n",
       "      <th>TotalPay</th>\n",
       "      <th>TotalPayBenefits</th>\n",
       "      <th>Year</th>\n",
       "      <th>Notes</th>\n",
       "      <th>Agency</th>\n",
       "      <th>Status</th>\n",
       "    </tr>\n",
       "  </thead>\n",
       "  <tbody>\n",
       "    <tr>\n",
       "      <th>0</th>\n",
       "      <td>1</td>\n",
       "      <td>NATHANIEL FORD</td>\n",
       "      <td>GENERAL MANAGER-METROPOLITAN TRANSIT AUTHORITY</td>\n",
       "      <td>167411</td>\n",
       "      <td>0</td>\n",
       "      <td>400184</td>\n",
       "      <td>NaN</td>\n",
       "      <td>567595.43</td>\n",
       "      <td>567595.43</td>\n",
       "      <td>2011</td>\n",
       "      <td>NaN</td>\n",
       "      <td>San Francisco</td>\n",
       "      <td>NaN</td>\n",
       "    </tr>\n",
       "    <tr>\n",
       "      <th>1</th>\n",
       "      <td>2</td>\n",
       "      <td>GARY JIMENEZ</td>\n",
       "      <td>CAPTAIN III (POLICE DEPARTMENT)</td>\n",
       "      <td>155966</td>\n",
       "      <td>245132</td>\n",
       "      <td>137811</td>\n",
       "      <td>NaN</td>\n",
       "      <td>538909.28</td>\n",
       "      <td>538909.28</td>\n",
       "      <td>2011</td>\n",
       "      <td>NaN</td>\n",
       "      <td>San Francisco</td>\n",
       "      <td>NaN</td>\n",
       "    </tr>\n",
       "    <tr>\n",
       "      <th>2</th>\n",
       "      <td>3</td>\n",
       "      <td>ALBERT PARDINI</td>\n",
       "      <td>CAPTAIN III (POLICE DEPARTMENT)</td>\n",
       "      <td>212739</td>\n",
       "      <td>106088</td>\n",
       "      <td>16452.6</td>\n",
       "      <td>NaN</td>\n",
       "      <td>335279.91</td>\n",
       "      <td>335279.91</td>\n",
       "      <td>2011</td>\n",
       "      <td>NaN</td>\n",
       "      <td>San Francisco</td>\n",
       "      <td>NaN</td>\n",
       "    </tr>\n",
       "    <tr>\n",
       "      <th>3</th>\n",
       "      <td>4</td>\n",
       "      <td>CHRISTOPHER CHONG</td>\n",
       "      <td>WIRE ROPE CABLE MAINTENANCE MECHANIC</td>\n",
       "      <td>77916</td>\n",
       "      <td>56120.7</td>\n",
       "      <td>198307</td>\n",
       "      <td>NaN</td>\n",
       "      <td>332343.61</td>\n",
       "      <td>332343.61</td>\n",
       "      <td>2011</td>\n",
       "      <td>NaN</td>\n",
       "      <td>San Francisco</td>\n",
       "      <td>NaN</td>\n",
       "    </tr>\n",
       "    <tr>\n",
       "      <th>4</th>\n",
       "      <td>5</td>\n",
       "      <td>PATRICK GARDNER</td>\n",
       "      <td>DEPUTY CHIEF OF DEPARTMENT,(FIRE DEPARTMENT)</td>\n",
       "      <td>134402</td>\n",
       "      <td>9737</td>\n",
       "      <td>182235</td>\n",
       "      <td>NaN</td>\n",
       "      <td>326373.19</td>\n",
       "      <td>326373.19</td>\n",
       "      <td>2011</td>\n",
       "      <td>NaN</td>\n",
       "      <td>San Francisco</td>\n",
       "      <td>NaN</td>\n",
       "    </tr>\n",
       "  </tbody>\n",
       "</table>\n",
       "</div>"
      ],
      "text/plain": [
       "   Id       EmployeeName                                        JobTitle  \\\n",
       "0   1     NATHANIEL FORD  GENERAL MANAGER-METROPOLITAN TRANSIT AUTHORITY   \n",
       "1   2       GARY JIMENEZ                 CAPTAIN III (POLICE DEPARTMENT)   \n",
       "2   3     ALBERT PARDINI                 CAPTAIN III (POLICE DEPARTMENT)   \n",
       "3   4  CHRISTOPHER CHONG            WIRE ROPE CABLE MAINTENANCE MECHANIC   \n",
       "4   5    PATRICK GARDNER    DEPUTY CHIEF OF DEPARTMENT,(FIRE DEPARTMENT)   \n",
       "\n",
       "  BasePay OvertimePay OtherPay Benefits   TotalPay  TotalPayBenefits  Year  \\\n",
       "0  167411           0   400184      NaN  567595.43         567595.43  2011   \n",
       "1  155966      245132   137811      NaN  538909.28         538909.28  2011   \n",
       "2  212739      106088  16452.6      NaN  335279.91         335279.91  2011   \n",
       "3   77916     56120.7   198307      NaN  332343.61         332343.61  2011   \n",
       "4  134402        9737   182235      NaN  326373.19         326373.19  2011   \n",
       "\n",
       "   Notes         Agency Status  \n",
       "0    NaN  San Francisco    NaN  \n",
       "1    NaN  San Francisco    NaN  \n",
       "2    NaN  San Francisco    NaN  \n",
       "3    NaN  San Francisco    NaN  \n",
       "4    NaN  San Francisco    NaN  "
      ]
     },
     "execution_count": 2,
     "metadata": {},
     "output_type": "execute_result"
    }
   ],
   "source": [
    "# Load the the salary data\n",
    "df = pd.read_csv(\"../salaries.csv\")\n",
    "\n",
    "df.head()"
   ]
  },
  {
   "cell_type": "markdown",
   "metadata": {},
   "source": [
    "## Exploratory Analysis\n",
    "\n",
    "Use `value_counts` to look at the distribution of job types. Pick a job type and investigate further. For example, make a histogram of salaries and compute the mean and median per year."
   ]
  },
  {
   "cell_type": "code",
   "execution_count": 3,
   "metadata": {
    "collapsed": false
   },
   "outputs": [
    {
     "name": "stdout",
     "output_type": "stream",
     "text": [
      "Transit Operator                                      7036\n",
      "Special Nurse                                         4389\n",
      "Registered Nurse                                      3736\n",
      "Public Svc Aide-Public Works                          2518\n",
      "Police Officer 3                                      2421\n",
      "Custodian                                             2418\n",
      "TRANSIT OPERATOR                                      2388\n",
      "Firefighter                                           2359\n",
      "Recreation Leader                                     1971\n",
      "Patient Care Assistant                                1945\n",
      "Deputy Sheriff                                        1933\n",
      "Police Officer                                        1476\n",
      "SPECIAL NURSE                                         1402\n",
      "Public Service Trainee                                1328\n",
      "REGISTERED NURSE                                      1219\n",
      "Police Officer 2                                      1141\n",
      "Attorney (Civil/Criminal)                             1126\n",
      "Porter                                                1095\n",
      "Sergeant 3                                            1047\n",
      "General Laborer                                       1033\n",
      "EMT/Paramedic/Firefighter                              918\n",
      "Gardener                                               894\n",
      "Parking Control Officer                                868\n",
      "Senior Clerk                                           840\n",
      "Library Page                                           799\n",
      "CUSTODIAN                                              796\n",
      "FIREFIGHTER                                            794\n",
      "POLICE OFFICER III                                     779\n",
      "Clerk                                                  764\n",
      "Eligibility Worker                                     760\n",
      "                                                      ... \n",
      "HEAVY EQUIPMENT OPERATIONS ASSISTANT SUPERVISOR          1\n",
      "CHIEF DISTRICT ATTORNEY'S INVESTIGATOR                   1\n",
      "TRAFFIC HEARING OFFICER                                  1\n",
      "CAPTAIN, BUREAU OF FIRE PREVENTION AND PUBLIC SAFE       1\n",
      "MENTAL HEALTH HEARING OFFICER                            1\n",
      "Chief Investment Officer                                 1\n",
      "CHIEF OF POLICE                                          1\n",
      "IS Technician Assistant                                  1\n",
      "LIBRARIAN II - ASIAN ARTS                                1\n",
      "CONFIDENTIAL SECRETARY CITY ATTORNEY                     1\n",
      "PUBLIC SAFETY COMMUNICATIONS TECHNICIAN                  1\n",
      "CHIEF VICTIM/WITNESS INVESTIGATOR                        1\n",
      "MAYOR'S PROGRAM MANAGER                                  1\n",
      "SHERIFF                                                  1\n",
      "Cfdntal Sctry to Distric Atty                            1\n",
      "TRIAL DELAY REDUCTION COORDINATOR                        1\n",
      "VETERNIARY LABORATORY TECHNOLOGIST                       1\n",
      "CITY PLANNING GRAPHICS SUPERVISOR                        1\n",
      "Captain, (Fire Department)                               1\n",
      "TRANSIT POWER LINE WORKER SUPERVISOR II                  1\n",
      "WIRE ROPE CABLE MAINTENANCE SUPERVISOR                   1\n",
      "SUPPLY ROOM ATTENDENT                                    1\n",
      "MEDIA PRODUCTION SUPERVISOR                              1\n",
      "TRANSIT PAINT SHOP SUPERVISOR I                          1\n",
      "SECRETARY, COMMISSION ON THE ENVIRONMENT                 1\n",
      "ZOO CURATOR                                              1\n",
      "Light Rail Vehicle Equip Eng                             1\n",
      "COURT EXECUTIVE OFFICER                                  1\n",
      "ASSISTANT DIRECTOR, JUVENILE HALL                        1\n",
      "COURT ADMINISTRATIVE SECRETARY                           1\n",
      "Name: JobTitle, dtype: int64\n"
     ]
    },
    {
     "data": {
      "text/plain": [
       "3153"
      ]
     },
     "execution_count": 3,
     "metadata": {},
     "output_type": "execute_result"
    }
   ],
   "source": [
    "counts = df[\"JobTitle\"].value_counts()\n",
    "print counts\n",
    "mask = (df[\"JobTitle\"] == \"FIREFIGHTER\") | (df[\"JobTitle\"] == \"Firefighter\")\n",
    "len(df[mask])"
   ]
  },
  {
   "cell_type": "code",
   "execution_count": 22,
   "metadata": {
    "collapsed": false
   },
   "outputs": [
    {
     "data": {
      "image/png": "[encoded data removed]",
      "text/plain": [
       "<matplotlib.figure.Figure at 0x7f57e7172490>"
      ]
     },
     "metadata": {},
     "output_type": "display_data"
    }
   ],
   "source": [
    "# Histogram of salaries -- one per year perhaps\n",
    "mask2 = mask & (df[\"Year\"] == 2012)\n",
    "df[mask].hist(column=\"TotalPay\", bins=50)\n",
    "plt.title(\"2012 Firefighter Salaries\")\n",
    "plt.show()"
   ]
  },
  {
   "cell_type": "code",
   "execution_count": 10,
   "metadata": {
    "collapsed": false
   },
   "outputs": [
    {
     "data": {
      "image/png": "[encoded data removed]",
      "text/plain": [
       "<matplotlib.figure.Figure at 0x7f57e72abb10>"
      ]
     },
     "metadata": {},
     "output_type": "display_data"
    }
   ],
   "source": [
    "# Look at change over time, mean and median\n",
    "from scipy import stats\n",
    "data = []\n",
    "\n",
    "years = [2011, 2012, 2013, 2014]\n",
    "for year in years:\n",
    "    mask2 = mask & (df[\"Year\"] == year)\n",
    "    mean = np.mean(df[mask2][\"TotalPay\"])\n",
    "    median = np.median(df[mask2][\"TotalPay\"])\n",
    "    data.append((year, mean, median))\n",
    "\n",
    "df2 = pd.DataFrame(data, columns=[\"Year\", \"Mean\", \"Median\"])    \n",
    "    \n",
    "plt.scatter(df2[\"Year\"], df2[\"Mean\"])\n",
    "plt.scatter(df2[\"Year\"], df2[\"Median\"], color='g')\n",
    "plt.show()"
   ]
  },
  {
   "cell_type": "code",
   "execution_count": 20,
   "metadata": {
    "collapsed": false
   },
   "outputs": [
    {
     "name": "stdout",
     "output_type": "stream",
     "text": [
      "Model fit: 0.178828111089\n",
      "Model Coefficients: 2204.3075 -4288432.47\n",
      "Predicted Median for 2015 153247.1425\n"
     ]
    },
    {
     "data": {
      "image/png": "[encoded data removed]",
      "text/plain": [
       "<matplotlib.figure.Figure at 0x7f57e6cf9390>"
      ]
     },
     "metadata": {},
     "output_type": "display_data"
    }
   ],
   "source": [
    "# Fit a model\n",
    "\n",
    "lm = linear_model.LinearRegression()\n",
    "X = df2[[\"Year\"]]\n",
    "y = df2[\"Median\"]\n",
    "lm.fit(X, y)\n",
    "predictions = lm.predict(X)\n",
    "print \"Model fit:\", lm.score(X, y)\n",
    "print \"Model Coefficients:\", lm.coef_[0], lm.intercept_\n",
    "\n",
    "# Make a prediction for 2015\n",
    "x1 = 2015\n",
    "y1 = lm.intercept_ + x * lm.coef_[0]\n",
    "plt.scatter([x1], [y1], color=\"r\")\n",
    "print \"Predicted Median for 2015\", y1\n",
    "\n",
    "# Plot the data and the best fit line\n",
    "plt.scatter(X, y)\n",
    "plt.plot(X, predictions)\n",
    "plt.xlabel(\"Year\")\n",
    "plt.ylabel(\"Median Salary\")\n",
    "plt.show()"
   ]
  }
 ],
 "metadata": {
  "kernelspec": {
   "display_name": "Python 2",
   "language": "python",
   "name": "python2"
  },
  "language_info": {
   "codemirror_mode": {
    "name": "ipython",
    "version": 2
   },
   "file_extension": ".py",
   "mimetype": "text/x-python",
   "name": "python",
   "nbconvert_exporter": "python",
   "pygments_lexer": "ipython2",
   "version": "2.7.11"
  }
 },
 "nbformat": 4,
 "nbformat_minor": 0
}

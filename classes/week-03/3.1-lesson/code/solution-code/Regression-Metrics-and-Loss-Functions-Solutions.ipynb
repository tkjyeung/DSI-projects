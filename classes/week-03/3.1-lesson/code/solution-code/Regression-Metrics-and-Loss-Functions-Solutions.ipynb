{
 "cells": [
  {
   "cell_type": "markdown",
   "metadata": {},
   "source": [
    "# Regression Metrics and Loss Functions\n",
    "\n",
    "We've seen two examples of _loss functions_ earlier in the week in the context of regularization:\n",
    "* The sum of squared errors:\n",
    "$$\\sum_{i}{\\left(\\hat{y}_i - y_i \\right)^2}$$\n",
    "* Regularlized versions\n",
    "$$\\sum_{i}{\\left(\\hat{y}_i - y_i \\right)^2 + \\alpha \\theta_i}$$\n",
    "\n",
    "In this lesson we're going to dig deeper into loss functions and their applications. Different loss functions are useful in different scenarios and there are two very popular loss functions that are used in conjuction with regression. In this case they are sometimes referred to as _regression metrics_.\n",
    "\n",
    "The first is the _root mean squared error_ or _RMSE_ and it is the mean of the squared errors. If we $n$ regression points and their predictions, the [RMSE](https://en.wikipedia.org/wiki/Root-mean-square_deviation) is:\n",
    "\n",
    "$$\\text{RMSE} = \\sqrt{\\frac{\\sum_{i}{\\left(\\hat{y}_i - y_i \\right)^2}}{n}}$$\n",
    "\n",
    "The second is the _mean absolute error_ or _MAE_, and it differs by use of an absolute value instead of a square. The [MAE](https://en.wikipedia.org/wiki/Average_absolute_deviation) is:\n",
    "\n",
    "$$\\text{MAE} = \\frac{\\sum_{i}{|\\hat{y}_i - y_i |}}{n}$$\n",
    "\n",
    "## Why have different regression metrics?\n",
    "\n",
    "You might be thinking, _what's all the fuss about_? It turns out that there are lots of good reasons to use different loss functions. We've seen one -- regularization -- and now we'll consider the effects of outliers on these two metrics.\n",
    "\n",
    "First let's try a very simplified statistics problem. Given a dataset, how can we summarize it with a single number? Do you know any ways?\n",
    "\n",
    "This is equivalent to fitting a constant model to the data. It turns out that the _mean_ minimizes the RMSE and the _median_ minimizes the MAE. By analogy, when fitting a model, MAE is more tolerant to outliers. In other words, the degree of error of an outlier has a large impact when using RMSE versus the MAE. Since the choice of loss function affects model fit, it's important to consider how you want errors to impact your models.\n",
    "\n",
    "**Summary**\n",
    "* Use MAE when how far off an error is makes little difference\n",
    "* Use RMSE when more extreme errors should have a large impact\n",
    "\n",
    "Finally, note that linear regressions with MAE instead of RMSE are called _least absolute deviation_ regressions rather than least squares regressions.\n",
    "\n",
    "### Bonus: Modes\n",
    "\n",
    "It turns out the _mode_ minimizes the sum:\n",
    "$$\\frac{\\sum_{i}{|\\hat{y}_i - y_i |^{0}}}{n}$$\n",
    "where $0^0=0$ and $x^0=1$ otherwise. Can you see why?\n"
   ]
  },
  {
   "cell_type": "markdown",
   "metadata": {},
   "source": [
    "# Guided practice\n",
    "\n",
    "Let's compute the RMSE and the MAE for a sample data set. Let's say we had a quadratic function that we fit a line to:"
   ]
  },
  {
   "cell_type": "code",
   "execution_count": 1,
   "metadata": {
    "collapsed": false
   },
   "outputs": [],
   "source": [
    "import numpy as np\n",
    "import pandas as pd\n",
    "import matplotlib.pyplot as plt\n",
    "%matplotlib inline\n",
    "\n",
    "import seaborn as sns\n",
    "\n",
    "from sklearn import linear_model\n",
    "import statsmodels.formula.api as smf"
   ]
  },
  {
   "cell_type": "code",
   "execution_count": 2,
   "metadata": {
    "collapsed": true
   },
   "outputs": [],
   "source": [
    "def true_function(x):\n",
    "    return 1 + x**2\n",
    "\n",
    "def estimated_function(x):\n",
    "    return 0 + 2*x"
   ]
  },
  {
   "cell_type": "code",
   "execution_count": 4,
   "metadata": {
    "collapsed": false
   },
   "outputs": [],
   "source": [
    "xs = pd.Series(np.arange(-1, 6, 1))\n",
    "ys = xs.apply(true_function)\n",
    "predictions = xs.apply(estimated_function)"
   ]
  },
  {
   "cell_type": "markdown",
   "metadata": {},
   "source": [
    "First do the calculation by hand to see how large each term is\n",
    "\n",
    ".\n",
    "\n",
    ".\n"
   ]
  },
  {
   "cell_type": "code",
   "execution_count": 5,
   "metadata": {
    "collapsed": false
   },
   "outputs": [
    {
     "data": {
      "image/png": "[encoded data removed]",
      "text/plain": [
       "<matplotlib.figure.Figure at 0x11761efd0>"
      ]
     },
     "metadata": {},
     "output_type": "display_data"
    }
   ],
   "source": [
    "# Plotting\n",
    "plt.scatter(xs, ys)\n",
    "plt.scatter(xs, predictions, c=\"red\")\n",
    "\n",
    "x_r = pd.Series(np.arange(min(xs)-1, max(xs)+1, 0.1))\n",
    "y_r = x_r.apply(true_function)\n",
    "plt.plot(x_r, y_r, c='g', ls='-')\n",
    "\n",
    "for (x, y_true, y_pred) in zip(xs, ys, predictions):\n",
    "    plt.plot((x, x), (y_true, y_pred), ls='--', c='b')\n",
    "plt.show()"
   ]
  },
  {
   "cell_type": "markdown",
   "metadata": {
    "collapsed": true
   },
   "source": [
    "#### Create functions to calculate RMSE, MAE, and the Bool Sum above:\n",
    "\n",
    "    "
   ]
  },
  {
   "cell_type": "code",
   "execution_count": 6,
   "metadata": {
    "collapsed": true
   },
   "outputs": [],
   "source": [
    "def rmse(y_true, y_pred):\n",
    "    return ((y_true - y_pred)**2).mean()**0.5\n",
    "    # return np.sqrt(np.mean(np.power(y_true - y_pred,2)))\n",
    "\n",
    "def mae(y_true, y_pred):\n",
    "    return np.mean(np.abs(y_true - y_pred))\n",
    "\n",
    "def bool_sum(y_true, y_pred):\n",
    "    return np.mean(np.not_equal(y_true, y_pred))"
   ]
  },
  {
   "cell_type": "code",
   "execution_count": 7,
   "metadata": {
    "collapsed": false
   },
   "outputs": [
    {
     "name": "stdout",
     "output_type": "stream",
     "text": [
      "RMSE: 7.28010988928\n",
      "MAE: 5.0\n",
      "BoolSum: 0.857142857143\n"
     ]
    }
   ],
   "source": [
    "print \"RMSE:\", rmse(ys, predictions)\n",
    "print \"MAE:\", mae(ys, predictions)\n",
    "print \"BoolSum:\", bool_sum(ys, predictions)"
   ]
  },
  {
   "cell_type": "code",
   "execution_count": 11,
   "metadata": {
    "collapsed": false
   },
   "outputs": [
    {
     "name": "stdout",
     "output_type": "stream",
     "text": [
      "RMSE: 7.28010988928\n",
      "MAE: 5.0\n"
     ]
    }
   ],
   "source": [
    "from sklearn import metrics\n",
    "print \"RMSE:\", metrics.mean_squared_error(ys, predictions)**0.5\n",
    "print \"MAE:\", metrics.mean_absolute_error(ys, predictions)"
   ]
  },
  {
   "cell_type": "markdown",
   "metadata": {},
   "source": [
    "Now let's add an outlier to the data."
   ]
  },
  {
   "cell_type": "code",
   "execution_count": 12,
   "metadata": {
    "collapsed": false
   },
   "outputs": [
    {
     "name": "stdout",
     "output_type": "stream",
     "text": [
      "RMSE: 25.6685605362\n",
      "MAE: 13.125\n"
     ]
    }
   ],
   "source": [
    "xs[len(xs)] = 10\n",
    "ys[len(ys)] = 100\n",
    "predictions[len(predictions)] = 30\n",
    "\n",
    "print \"RMSE:\", metrics.mean_squared_error(ys, predictions)**0.5\n",
    "print \"MAE:\", metrics.mean_absolute_error(ys, predictions)"
   ]
  },
  {
   "cell_type": "markdown",
   "metadata": {},
   "source": [
    "Notice that the impact on the RMSE was large, a factor of 3.5, versus the impact on the MAE with a factor of 2.5."
   ]
  },
  {
   "cell_type": "markdown",
   "metadata": {},
   "source": [
    "# Independent Practice\n",
    "\n",
    "Let's explore two scenarios to obtain a better understanding of RMSE and MAE. First let's fit two models to the same set of data, the data above. To do the least mean absolute error we will use `statsmodels`."
   ]
  },
  {
   "cell_type": "code",
   "execution_count": 14,
   "metadata": {
    "collapsed": false
   },
   "outputs": [
    {
     "name": "stdout",
     "output_type": "stream",
     "text": [
      "                         QuantReg Regression Results                          \n",
      "==============================================================================\n",
      "Dep. Variable:                      y   Pseudo R-squared:               0.5035\n",
      "Model:                       QuantReg   Bandwidth:                       31.89\n",
      "Method:                 Least Squares   Sparsity:                        50.01\n",
      "Date:                Tue, 12 Jul 2016   No. Observations:                    8\n",
      "Time:                        10:57:59   Df Residuals:                        6\n",
      "                                        Df Model:                            1\n",
      "==============================================================================\n",
      "                 coef    std err          t      P>|t|      [95.0% Conf. Int.]\n",
      "------------------------------------------------------------------------------\n",
      "Intercept     -4.0000     12.049     -0.332      0.751       -33.483    25.483\n",
      "x              6.0000      2.729      2.199      0.070        -0.676    12.676\n",
      "==============================================================================\n"
     ]
    }
   ],
   "source": [
    "df = pd.DataFrame({'x': xs, 'y':ys})\n",
    "mod = smf.quantreg('y ~ x', df)\n",
    "res = mod.fit(q=.5)\n",
    "print(res.summary())"
   ]
  },
  {
   "cell_type": "markdown",
   "metadata": {},
   "source": [
    "This generated a fit of $y = -4 + 6 x$. Let's see what a linear regression yields."
   ]
  },
  {
   "cell_type": "code",
   "execution_count": 15,
   "metadata": {
    "collapsed": false
   },
   "outputs": [
    {
     "name": "stdout",
     "output_type": "stream",
     "text": [
      "                            OLS Regression Results                            \n",
      "==============================================================================\n",
      "Dep. Variable:                      y   R-squared:                       0.859\n",
      "Model:                            OLS   Adj. R-squared:                  0.835\n",
      "Method:                 Least Squares   F-statistic:                     36.45\n",
      "Date:                Tue, 12 Jul 2016   Prob (F-statistic):           0.000933\n",
      "Time:                        10:59:23   Log-Likelihood:                -31.043\n",
      "No. Observations:                   8   AIC:                             66.09\n",
      "Df Residuals:                       6   BIC:                             66.25\n",
      "Df Model:                           1                                         \n",
      "Covariance Type:            nonrobust                                         \n",
      "==============================================================================\n",
      "                 coef    std err          t      P>|t|      [95.0% Conf. Int.]\n",
      "------------------------------------------------------------------------------\n",
      "intercept     -6.3750      6.522     -0.978      0.366       -22.333     9.583\n",
      "x              8.9167      1.477      6.038      0.001         5.303    12.530\n",
      "==============================================================================\n",
      "Omnibus:                        2.037   Durbin-Watson:                   0.983\n",
      "Prob(Omnibus):                  0.361   Jarque-Bera (JB):                0.926\n",
      "Skew:                           0.435   Prob(JB):                        0.629\n",
      "Kurtosis:                       1.578   Cond. No.                         6.16\n",
      "==============================================================================\n",
      "\n",
      "Warnings:\n",
      "[1] Standard Errors assume that the covariance matrix of the errors is correctly specified.\n"
     ]
    }
   ],
   "source": [
    "import statsmodels.api as sm\n",
    "\n",
    "df['intercept'] = 1.0\n",
    "# Fit and summarize OLS model\n",
    "mod = sm.OLS(df.y, df[['intercept','x']])\n",
    "res = mod.fit()\n",
    "print res.summary()"
   ]
  },
  {
   "cell_type": "markdown",
   "metadata": {},
   "source": [
    "This yielded a fit of $y = -6.3750 + 8.9167 x $\n",
    "\n",
    "### Exercise\n",
    "\n",
    "Plot the data with both functions. Which do you think fits the data better?"
   ]
  },
  {
   "cell_type": "code",
   "execution_count": 16,
   "metadata": {
    "collapsed": false
   },
   "outputs": [
    {
     "data": {
      "image/png": "[encoded data removed]",
      "text/plain": [
       "<matplotlib.figure.Figure at 0x117de9f50>"
      ]
     },
     "metadata": {},
     "output_type": "display_data"
    }
   ],
   "source": [
    "f_qre = lambda x: -4 + 6*x\n",
    "f_ols = lambda x: -6.3750 + 8.9167*x\n",
    "# def f_ols(x): return -6.3750 + 8.9167*x\n",
    "\n",
    "plt.scatter(xs, ys)\n",
    "\n",
    "plt.plot(xs, f_qre(xs) , label=\"Least AD\") \n",
    "# plt.plot(xs, xs.apply(f_qre) , label=\"Least AD\") \n",
    "# plt.plot(xs, map(f_qre, xs) , label=\"Least AD\") \n",
    "# plt.plot(xs, [f_qre(x) for x in xs] , label=\"Least AD\") \n",
    "plt.plot(xs, f_ols(xs) , label=\"Least Squares\")\n",
    "\n",
    "ax = plt.gca()\n",
    "handles, labels = ax.get_legend_handles_labels()\n",
    "ax.legend(handles, labels)\n",
    "plt.show()\n"
   ]
  },
  {
   "cell_type": "markdown",
   "metadata": {},
   "source": [
    "Finally, let's explore another scenario. Linear regression has five major assumptions, one of which is called _constant variance_ or _homoscedasticity_. It means that the errors are distributed with the same variance about the best fit line regardless of the value of the independent variables.\n",
    "\n",
    "In practice this means that data with a persistant level of background noise can cause regression metrics to be poorly estimated. Let's take a look."
   ]
  },
  {
   "cell_type": "code",
   "execution_count": 17,
   "metadata": {
    "collapsed": false
   },
   "outputs": [
    {
     "data": {
      "image/png": "[encoded data removed]",
      "text/plain": [
       "<matplotlib.figure.Figure at 0x117fd4fd0>"
      ]
     },
     "metadata": {},
     "output_type": "display_data"
    }
   ],
   "source": [
    "import random\n",
    "from scipy.stats import norm\n",
    "# Generate some data\n",
    "xs_r = list(np.arange(0, 10, 0.5))\n",
    "ys_r = [2*x + norm.pdf(0, 1) for x in xs_r]\n",
    "# Add random background noise\n",
    "xs_2 = [10 * random.random() for i in range(20)]\n",
    "ys_2 = [20 * random.random() for i in range(20)]\n",
    "\n",
    "# Plot the data sets\n",
    "plt.plot(xs_r, ys_r, color='b')\n",
    "plt.scatter(xs_2, ys_2, color='r')\n",
    "plt.show()"
   ]
  },
  {
   "cell_type": "code",
   "execution_count": 18,
   "metadata": {
    "collapsed": false,
    "scrolled": false
   },
   "outputs": [
    {
     "data": {
      "image/png": "[encoded data removed]",
      "text/plain": [
       "<matplotlib.figure.Figure at 0x1188cf110>"
      ]
     },
     "metadata": {},
     "output_type": "display_data"
    },
    {
     "name": "stdout",
     "output_type": "stream",
     "text": [
      "r^2: 0.180071397596\n",
      "RMSE: 5.5119847537\n",
      "MAE: 4.28873238111\n",
      "Coefficients: [ 0.83376946] 6.28690355388\n"
     ]
    }
   ],
   "source": [
    "# Fit a line to the data\n",
    "lm = linear_model.LinearRegression()\n",
    "\n",
    "xs_r2 = list(xs_r)\n",
    "ys_r2 = list(ys_r)\n",
    "\n",
    "xs_r2.extend(xs_2)\n",
    "ys_r2.extend(ys_2)\n",
    "\n",
    "X = pd.DataFrame({'x': xs_r2})\n",
    "y = ys_r2\n",
    "\n",
    "model = lm.fit(X, y)\n",
    "predictions_2 = lm.predict(X)\n",
    "\n",
    "# Plot the data and the best fit line\n",
    "## The data\n",
    "plt.scatter(X, y)\n",
    "## The line / model\n",
    "plt.plot(X, predictions_2)\n",
    "\n",
    "plt.show()\n",
    "print \"r^2:\", model.score(X, y)\n",
    "print \"RMSE:\", metrics.mean_squared_error(xs_r2, predictions_2)**0.5\n",
    "print \"MAE:\", metrics.mean_absolute_error(ys_r2, predictions_2)\n",
    "print \"Coefficients:\", model.coef_, model.intercept_"
   ]
  },
  {
   "cell_type": "code",
   "execution_count": 19,
   "metadata": {
    "collapsed": false
   },
   "outputs": [
    {
     "name": "stdout",
     "output_type": "stream",
     "text": [
      "                         QuantReg Regression Results                          \n",
      "==============================================================================\n",
      "Dep. Variable:                      y   Pseudo R-squared:               0.2476\n",
      "Model:                       QuantReg   Bandwidth:                       1.828\n",
      "Method:                 Least Squares   Sparsity:                        4.701\n",
      "Date:                Tue, 12 Jul 2016   No. Observations:                   40\n",
      "Time:                        11:27:41   Df Residuals:                       38\n",
      "                                        Df Model:                            1\n",
      "==============================================================================\n",
      "                 coef    std err          t      P>|t|      [95.0% Conf. Int.]\n",
      "------------------------------------------------------------------------------\n",
      "Intercept      0.2420      0.703      0.344      0.733        -1.182     1.666\n",
      "x              2.0000      0.124     16.067      0.000         1.748     2.252\n",
      "==============================================================================\n"
     ]
    }
   ],
   "source": [
    "# Now try a MAE regression with statsmodels and plot it.\n",
    "# You should see a much better fit.\n",
    "df2 = pd.DataFrame({'x': X.x, 'y':y})\n",
    "mod = smf.quantreg('y ~ x', df2)\n",
    "res = mod.fit(q=.5)\n",
    "print(res.summary())"
   ]
  },
  {
   "cell_type": "code",
   "execution_count": 20,
   "metadata": {
    "collapsed": false
   },
   "outputs": [
    {
     "data": {
      "text/plain": [
       "[<matplotlib.lines.Line2D at 0x118972690>]"
      ]
     },
     "execution_count": 20,
     "metadata": {},
     "output_type": "execute_result"
    },
    {
     "data": {
      "image/png": "[encoded data removed]",
      "text/plain": [
       "<matplotlib.figure.Figure at 0x11899c790>"
      ]
     },
     "metadata": {},
     "output_type": "display_data"
    }
   ],
   "source": [
    "f_mae_2 = lambda x: 0.2420 + 2*x\n",
    "\n",
    "# Plot the data and the best fit line\n",
    "## The data\n",
    "plt.scatter(X, y)\n",
    "## The line / model\n",
    "plt.plot(X, predictions_2, color='g')\n",
    "plt.plot(X, map(f_mae_2, X.x), color='r')"
   ]
  },
  {
   "cell_type": "code",
   "execution_count": null,
   "metadata": {
    "collapsed": true
   },
   "outputs": [],
   "source": []
  }
 ],
 "metadata": {
  "kernelspec": {
   "display_name": "Python 2",
   "language": "python",
   "name": "python2"
  },
  "language_info": {
   "codemirror_mode": {
    "name": "ipython",
    "version": 2
   },
   "file_extension": ".py",
   "mimetype": "text/x-python",
   "name": "python",
   "nbconvert_exporter": "python",
   "pygments_lexer": "ipython2",
   "version": "2.7.11"
  }
 },
 "nbformat": 4,
 "nbformat_minor": 0
}

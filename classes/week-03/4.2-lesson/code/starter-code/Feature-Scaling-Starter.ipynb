{
 "cells": [
  {
   "cell_type": "markdown",
   "metadata": {},
   "source": [
    "# Feature Scaling Demo"
   ]
  },
  {
   "cell_type": "code",
   "execution_count": null,
   "metadata": {
    "collapsed": true
   },
   "outputs": [],
   "source": [
    "%matplotlib inline\n",
    "import matplotlib.pyplot as plt\n",
    "import numpy as np\n",
    "import pandas as pd\n",
    "from sklearn import datasets, linear_model, preprocessing"
   ]
  },
  {
   "cell_type": "code",
   "execution_count": null,
   "metadata": {
    "collapsed": false
   },
   "outputs": [],
   "source": [
    "# Load the Boston Housing dataset\n",
    "boston = datasets.load_boston()\n",
    "df = pd.DataFrame(boston.data, columns=boston.feature_names)\n",
    "df.head()"
   ]
  },
  {
   "cell_type": "markdown",
   "metadata": {},
   "source": [
    "## Scaling our data\n",
    "\n",
    "Let's see what effect scaling our data has on some of the features by picking two features\n",
    "that have a large difference in scale."
   ]
  },
  {
   "cell_type": "code",
   "execution_count": null,
   "metadata": {
    "collapsed": false
   },
   "outputs": [],
   "source": [
    "feature_x, feature_y = \"NOX\", \"TAX\"\n",
    "\n",
    "x = df[feature_x]\n",
    "y = df[feature_y]"
   ]
  },
  {
   "cell_type": "code",
   "execution_count": null,
   "metadata": {
    "collapsed": false
   },
   "outputs": [],
   "source": [
    "plt.scatter(x, y, color='b')\n",
    "plt.xlabel(feature_x)\n",
    "plt.ylabel(feature_y)\n",
    "plt.show()"
   ]
  },
  {
   "cell_type": "markdown",
   "metadata": {},
   "source": [
    "### Standardization\n",
    "\n",
    "Let's apply standardization, transforming our data to have mean zero $(\\mu = 0)$ and variance 1 $(\\sigma^2 = 1)$ by the formula:\n",
    "\n",
    "$$ x' = \\frac{x - \\mu}{\\sigma}$$"
   ]
  },
  {
   "cell_type": "code",
   "execution_count": null,
   "metadata": {
    "collapsed": false
   },
   "outputs": [],
   "source": [
    "plt.scatter(x, y, color='b')\n",
    "plt.xlabel(feature_x)\n",
    "plt.ylabel(feature_y)\n",
    "plt.show()\n",
    "\n",
    "# x_s = ...\n",
    "# y_s = ...\n",
    "\n",
    "plt.scatter(x_s, y_s, color='r')\n",
    "plt.xlabel(\"{} standardized\".format(feature_x))\n",
    "plt.ylabel(\"{} standardized\".format(feature_y))\n",
    "plt.show()"
   ]
  },
  {
   "cell_type": "markdown",
   "metadata": {},
   "source": [
    "As you can see, we did not change the shape of the data, just its scale. You can also use scikit-learn to standardize your data."
   ]
  },
  {
   "cell_type": "code",
   "execution_count": null,
   "metadata": {
    "collapsed": false
   },
   "outputs": [],
   "source": [
    "from sklearn import preprocessing\n",
    "\n",
    "# x_s = preprocessing. ...\n",
    "# y_s = preprocessing. ...\n",
    "\n",
    "plt.scatter(x_s, y_s, color='r')\n",
    "plt.xlabel(\"{} standardized\".format(feature_x))\n",
    "plt.ylabel(\"{} standardized\".format(feature_y))\n",
    "\n",
    "plt.show()"
   ]
  },
  {
   "cell_type": "markdown",
   "metadata": {},
   "source": [
    "### Min-Max Scaling\n",
    "\n",
    "To Min-Max scale our data, we use the formula:\n",
    "\n",
    "$$x' = \\frac{x - x_{min}}{x_{max} - x_{min}}$$"
   ]
  },
  {
   "cell_type": "code",
   "execution_count": null,
   "metadata": {
    "collapsed": false
   },
   "outputs": [],
   "source": [
    "plt.scatter(x, y, color='b')\n",
    "plt.xlabel(feature_x)\n",
    "plt.ylabel(feature_y)\n",
    "plt.show()\n",
    "\n",
    "# x_m = ...\n",
    "# y_m = ...\n",
    "\n",
    "plt.scatter(x_m, y_m, color='r')\n",
    "plt.xlabel(\"{} Min-Max Scaled\".format(feature_x))\n",
    "plt.ylabel(\"{} Min-Max Scaled\".format(feature_y))\n",
    "plt.show()"
   ]
  },
  {
   "cell_type": "markdown",
   "metadata": {
    "collapsed": true
   },
   "source": [
    "We can also use scikit-learn to Min-Max Scale."
   ]
  },
  {
   "cell_type": "code",
   "execution_count": null,
   "metadata": {
    "collapsed": false
   },
   "outputs": [],
   "source": [
    "from sklearn import preprocessing\n",
    "\n",
    "# x_s = ...\n",
    "# y_s = ...\n",
    "\n",
    "plt.scatter(x_s, y_s, color='r')\n",
    "plt.xlabel(\"{} Min-Max Scaled\".format(feature_x))\n",
    "plt.ylabel(\"{} Min-Max Scaled\".format(feature_y))\n",
    "\n",
    "plt.show()"
   ]
  },
  {
   "cell_type": "markdown",
   "metadata": {},
   "source": [
    "### Normalization\n",
    "\n",
    "We normalize the data by dividing through by some kind of sum or total. For example, it's common to normalize simply by the (*L1*) sum $|X| = \\sum_{x \\in X}{x}$ or by the (*L2*) euclidean sum of squares distance  $||X|| = \\sqrt{\\sum_{x \\in X}{x^2}}$:\n",
    "\n",
    "$$x' = \\frac{x}{|X|}$$"
   ]
  },
  {
   "cell_type": "markdown",
   "metadata": {},
   "source": [
    "## Guided Practice\n",
    "\n",
    "Perform normalization by both the L1 and L2 sums and plot as we did for the other scaling methods.\n",
    "\n",
    "If you finish early, repeat the exercise [using scikit-learn](http://scikit-learn.org/stable/modules/preprocessing.html#preprocessing-normalization)."
   ]
  },
  {
   "cell_type": "code",
   "execution_count": null,
   "metadata": {
    "collapsed": false
   },
   "outputs": [],
   "source": [
    "plt.scatter(x, y, color='b')\n",
    "plt.xlabel(feature_x)\n",
    "plt.ylabel(feature_y)\n",
    "plt.show()\n",
    "\n",
    "# x_l1 = ...\n",
    "# y_l1 = ...\n",
    "\n",
    "plt.scatter(x_l1, y_l1, color='r')\n",
    "plt.xlabel(\"{} L1 Normalized\".format(feature_x))\n",
    "plt.ylabel(\"{} L1 Normalized\".format(feature_y))\n",
    "plt.show()\n",
    "\n",
    "# x_l2 = ...\n",
    "# y_l2 = ...\n",
    "\n",
    "plt.scatter(x_l2, y_l2, color='r')\n",
    "plt.xlabel(\"{} L2 Normalized\".format(feature_x))\n",
    "plt.ylabel(\"{} L2 Normalized\".format(feature_y))\n",
    "plt.show()\n",
    "\n",
    "# Sklearn\n",
    "\n",
    "# x_l1 = ...\n",
    "# y_l1 = ...\n",
    "\n",
    "plt.scatter(x_l1, y_l1, color='r')\n",
    "plt.xlabel(\"{} L1 Normalized\".format(feature_x))\n",
    "plt.ylabel(\"{} L1 Normalized\".format(feature_y))\n",
    "plt.show()\n",
    "\n",
    "# x_l2 = ...\n",
    "# y_l2 = ...\n",
    "\n",
    "plt.scatter(x_l2, y_l2, color='r')\n",
    "plt.xlabel(\"{} L2 Normalized\".format(feature_x))\n",
    "plt.ylabel(\"{} L2 Normalized\".format(feature_y))\n",
    "plt.show()"
   ]
  },
  {
   "cell_type": "markdown",
   "metadata": {},
   "source": [
    "### Independent Practice\n",
    "\n",
    "Let's practice linear fits using feature scaling. For each of the three scaling methods we've discussed:\n",
    "* Practice scaling and linear fits on the boston housing data using all the data (scaled) versus the target data `boston.target`. Does scaling or normalization affect any of your models? Determine if the model fit score changed. Explain why or why not. (10-20 mins).\n",
    "\n",
    "Next:\n",
    "* Try some regularized models. Does scaling have a significant effect on the fit? (10 mins)\n",
    "* Try some other models from scikit-learn, such as a [SGDRegressor](http://scikit-learn.org/stable/modules/generated/sklearn.linear_model.SGDRegressor.html).\n",
    "It's ok if you are unfamiliar with the model, just follow the example code\n",
    "and explore the fit and the effect of scaling. (10 mins)\n",
    "* Bonus: try a few extra models like a [support vector machine](http://scikit-learn.org/stable/auto_examples/svm/plot_svm_regression.html). What do you think\n",
    "about the goodness of fit? Scaling is _required_ for this model.\n",
    "\n",
    "### Bonus Exercises\n",
    "\n",
    "Using Scikit-learn, fit some other model to the data, for example a regularization model like a Ridge or Lasso, a [SGDRegressor](http://scikit-learn.org/stable/modules/generated/sklearn.linear_model.SGDRegressor.html), or a [support vector machine](http://scikit-learn.org/stable/auto_examples/svm/plot_svm_regression.html). Do any of the scaling methods affect the goodness of fit?"
   ]
  },
  {
   "cell_type": "code",
   "execution_count": null,
   "metadata": {
    "collapsed": true
   },
   "outputs": [],
   "source": [
    "# These are all basically the same, here's one example.\n",
    "# The linear regression fit score is not affected by scaling since the coefficients adapt.\n",
    "\n",
    "df = pd.DataFrame(boston.data, columns=boston.feature_names)\n",
    "y = boston.target\n",
    "X = _\n"
   ]
  },
  {
   "cell_type": "code",
   "execution_count": null,
   "metadata": {
    "collapsed": true
   },
   "outputs": [],
   "source": [
    "# Stochastic Regressor -- scaling makes a huge difference\n",
    "# linear_model.SGDRegressor()\n",
    "\n",
    "# Unscaled\n",
    "\n",
    "\n",
    "\n",
    "# Scaled\n",
    "\n"
   ]
  },
  {
   "cell_type": "code",
   "execution_count": null,
   "metadata": {
    "collapsed": true
   },
   "outputs": [],
   "source": [
    "# from sklearn.svm import SVR\n",
    "# Support Vector regression\n"
   ]
  }
 ],
 "metadata": {
  "kernelspec": {
   "display_name": "Python 2",
   "language": "python",
   "name": "python2"
  },
  "language_info": {
   "codemirror_mode": {
    "name": "ipython",
    "version": 2
   },
   "file_extension": ".py",
   "mimetype": "text/x-python",
   "name": "python",
   "nbconvert_exporter": "python",
   "pygments_lexer": "ipython2",
   "version": "2.7.11"
  }
 },
 "nbformat": 4,
 "nbformat_minor": 0
}
